{
 "cells": [
  {
   "cell_type": "markdown",
   "metadata": {},
   "source": [
    "Привет, меня зовут Гребенюк Артём. Сегодня я буду делать ревью твоего проекта!\\\n",
    "В Практикуме принято общаться на \"ты\", однако если это неудобно - дай знать, и можем перейти на более официальное общение.\n",
    "\n",
    "Ниже ты найдешь мои комментарии - пожалуйста, не перемещай, не изменяй и не удаляй их. Я буду использовать цветовую разметку: \n",
    "\n",
    "<div class=\"alert alert-block alert-success\">\n",
    "<b>Success:</b> Если все сделано хорошо. </div>\n",
    "\n",
    "<div class=\"alert alert-block alert-warning\">\n",
    "<b>Remarks:</b> Некритичное замечание; если таких замечаний меньше трех — проект может быть принят без их отработки.</div>\n",
    "\n",
    "<div class=\"alert alert-block alert-danger\">\n",
    "<b>Needs fixing:</b> Грубая ошибка, необходимо исправить, иначе проект не будет принят.\n",
    "</div>\n",
    "\n",
    "Давай работать над проектом в диалоге: если ты что-то меняешь в проекте или отвечаешь на мои комменатри — пиши об этом. Мне будет легче отследить изменения, если ты выделишь свои комментарии:\n",
    "Например так:\n",
    "<div class=\"alert alert-block alert-info\">\n",
    "<b>Fixed:</b> \n",
    "Hello World! ✔\n",
    "</div>\n",
    "\n",
    "Или можешь использовать эту галочку ✔ в моих комментариях, если писать особо нечего.\n",
    "\n",
    "<div class=\"alert alert-block alert-warning\">\n",
    "<b>Общее впечатление:</b> \n",
    "    \n",
    "- Спасибо за работу :)\n",
    "- У меня есть пара ремарок, которые помогут тебе сделать проект еще лучше.\n",
    "- Пробегись по моим комментариям, исправь недочёты и всё будет отлично :)\n",
    "    \n",
    "</div>\n",
    "\n"
   ]
  },
  {
   "cell_type": "markdown",
   "metadata": {},
   "source": [
    "<div class=\"alert alert-block alert-success\">\n",
    "<b>Привет!</b> Отличная работа над ремарками! Проект принят, поздравляю, желаю удачи в дальнейшем обучении :)"
   ]
  },
  {
   "cell_type": "markdown",
   "metadata": {
    "toc": true
   },
   "source": [
    "<h1>Содержание<span class=\"tocSkip\"></span></h1>\n",
    "<div class=\"toc\"><ul class=\"toc-item\"><li><span><a href=\"#Изучение-данных-из-файла\" data-toc-modified-id=\"Изучение-данных-из-файла-1\"><span class=\"toc-item-num\">1&nbsp;&nbsp;</span>Изучение данных из файла</a></span><ul class=\"toc-item\"><li><span><a href=\"#Вывод\" data-toc-modified-id=\"Вывод-1.1\"><span class=\"toc-item-num\">1.1&nbsp;&nbsp;</span>Вывод</a></span></li></ul></li><li><span><a href=\"#Предобработка-данных\" data-toc-modified-id=\"Предобработка-данных-2\"><span class=\"toc-item-num\">2&nbsp;&nbsp;</span>Предобработка данных</a></span><ul class=\"toc-item\"><li><span><a href=\"#Вывод\" data-toc-modified-id=\"Вывод-2.1\"><span class=\"toc-item-num\">2.1&nbsp;&nbsp;</span>Вывод</a></span></li></ul></li><li><span><a href=\"#Расчёты-и-добавление-результатов-в-таблицу\" data-toc-modified-id=\"Расчёты-и-добавление-результатов-в-таблицу-3\"><span class=\"toc-item-num\">3&nbsp;&nbsp;</span>Расчёты и добавление результатов в таблицу</a></span><ul class=\"toc-item\"><li><span><a href=\"#Вывод\" data-toc-modified-id=\"Вывод-3.1\"><span class=\"toc-item-num\">3.1&nbsp;&nbsp;</span>Вывод</a></span></li></ul></li><li><span><a href=\"#Исследовательский-анализ-данных\" data-toc-modified-id=\"Исследовательский-анализ-данных-4\"><span class=\"toc-item-num\">4&nbsp;&nbsp;</span>Исследовательский анализ данных</a></span></li><li><span><a href=\"#Общий-вывод\" data-toc-modified-id=\"Общий-вывод-5\"><span class=\"toc-item-num\">5&nbsp;&nbsp;</span>Общий вывод</a></span></li><li><span><a href=\"#Чек-лист-готовности-проекта\" data-toc-modified-id=\"Чек-лист-готовности-проекта-6\"><span class=\"toc-item-num\">6&nbsp;&nbsp;</span>Чек-лист готовности проекта</a></span></li></ul></div>"
   ]
  },
  {
   "cell_type": "markdown",
   "metadata": {},
   "source": [
    "# Исследование объявлений о продаже квартир\n",
    "\n",
    "В вашем распоряжении данные сервиса Яндекс.Недвижимость — архив объявлений о продаже квартир в Санкт-Петербурге и соседних населённых пунктах за несколько лет. Нужно научиться определять рыночную стоимость объектов недвижимости. Ваша задача — установить параметры. Это позволит построить автоматизированную систему: она отследит аномалии и мошенническую деятельность. \n",
    "\n",
    "По каждой квартире на продажу доступны два вида данных. Первые вписаны пользователем, вторые получены автоматически на основе картографических данных. Например, расстояние до центра, аэропорта, ближайшего парка и водоёма. "
   ]
  },
  {
   "cell_type": "markdown",
   "metadata": {},
   "source": [
    "<div class=\"alert alert-block alert-success\">\n",
    "<b>Success:</b> отличное введение в работу, здорово, что есть оглавление с навигацией!"
   ]
  },
  {
   "cell_type": "markdown",
   "metadata": {},
   "source": [
    "## Изучение данных из файла"
   ]
  },
  {
   "cell_type": "code",
   "execution_count": 36,
   "metadata": {},
   "outputs": [],
   "source": [
    "import pandas as pd\n",
    "import matplotlib.pyplot as plt\n",
    "import numpy as np\n",
    "from datetime import datetime"
   ]
  },
  {
   "cell_type": "markdown",
   "metadata": {},
   "source": [
    "<div class=\"alert alert-block alert-success\">\n",
    "<b>Success:</b> здорово, что все импорты собраны в начале проекта!"
   ]
  },
  {
   "cell_type": "code",
   "execution_count": 37,
   "metadata": {},
   "outputs": [],
   "source": [
    "df = pd.read_csv('/datasets/real_estate_data.csv', sep = '\\t')"
   ]
  },
  {
   "cell_type": "code",
   "execution_count": 38,
   "metadata": {},
   "outputs": [
    {
     "data": {
      "text/html": [
       "<div>\n",
       "<style scoped>\n",
       "    .dataframe tbody tr th:only-of-type {\n",
       "        vertical-align: middle;\n",
       "    }\n",
       "\n",
       "    .dataframe tbody tr th {\n",
       "        vertical-align: top;\n",
       "    }\n",
       "\n",
       "    .dataframe thead th {\n",
       "        text-align: right;\n",
       "    }\n",
       "</style>\n",
       "<table border=\"1\" class=\"dataframe\">\n",
       "  <thead>\n",
       "    <tr style=\"text-align: right;\">\n",
       "      <th></th>\n",
       "      <th>total_images</th>\n",
       "      <th>last_price</th>\n",
       "      <th>total_area</th>\n",
       "      <th>first_day_exposition</th>\n",
       "      <th>rooms</th>\n",
       "      <th>ceiling_height</th>\n",
       "      <th>floors_total</th>\n",
       "      <th>living_area</th>\n",
       "      <th>floor</th>\n",
       "      <th>is_apartment</th>\n",
       "      <th>...</th>\n",
       "      <th>kitchen_area</th>\n",
       "      <th>balcony</th>\n",
       "      <th>locality_name</th>\n",
       "      <th>airports_nearest</th>\n",
       "      <th>cityCenters_nearest</th>\n",
       "      <th>parks_around3000</th>\n",
       "      <th>parks_nearest</th>\n",
       "      <th>ponds_around3000</th>\n",
       "      <th>ponds_nearest</th>\n",
       "      <th>days_exposition</th>\n",
       "    </tr>\n",
       "  </thead>\n",
       "  <tbody>\n",
       "    <tr>\n",
       "      <td>0</td>\n",
       "      <td>20</td>\n",
       "      <td>13000000.0</td>\n",
       "      <td>108.0</td>\n",
       "      <td>2019-03-07T00:00:00</td>\n",
       "      <td>3</td>\n",
       "      <td>2.70</td>\n",
       "      <td>16.0</td>\n",
       "      <td>51.0</td>\n",
       "      <td>8</td>\n",
       "      <td>NaN</td>\n",
       "      <td>...</td>\n",
       "      <td>25.0</td>\n",
       "      <td>NaN</td>\n",
       "      <td>Санкт-Петербург</td>\n",
       "      <td>18863.0</td>\n",
       "      <td>16028.0</td>\n",
       "      <td>1.0</td>\n",
       "      <td>482.0</td>\n",
       "      <td>2.0</td>\n",
       "      <td>755.0</td>\n",
       "      <td>NaN</td>\n",
       "    </tr>\n",
       "    <tr>\n",
       "      <td>1</td>\n",
       "      <td>7</td>\n",
       "      <td>3350000.0</td>\n",
       "      <td>40.4</td>\n",
       "      <td>2018-12-04T00:00:00</td>\n",
       "      <td>1</td>\n",
       "      <td>NaN</td>\n",
       "      <td>11.0</td>\n",
       "      <td>18.6</td>\n",
       "      <td>1</td>\n",
       "      <td>NaN</td>\n",
       "      <td>...</td>\n",
       "      <td>11.0</td>\n",
       "      <td>2.0</td>\n",
       "      <td>посёлок Шушары</td>\n",
       "      <td>12817.0</td>\n",
       "      <td>18603.0</td>\n",
       "      <td>0.0</td>\n",
       "      <td>NaN</td>\n",
       "      <td>0.0</td>\n",
       "      <td>NaN</td>\n",
       "      <td>81.0</td>\n",
       "    </tr>\n",
       "    <tr>\n",
       "      <td>2</td>\n",
       "      <td>10</td>\n",
       "      <td>5196000.0</td>\n",
       "      <td>56.0</td>\n",
       "      <td>2015-08-20T00:00:00</td>\n",
       "      <td>2</td>\n",
       "      <td>NaN</td>\n",
       "      <td>5.0</td>\n",
       "      <td>34.3</td>\n",
       "      <td>4</td>\n",
       "      <td>NaN</td>\n",
       "      <td>...</td>\n",
       "      <td>8.3</td>\n",
       "      <td>0.0</td>\n",
       "      <td>Санкт-Петербург</td>\n",
       "      <td>21741.0</td>\n",
       "      <td>13933.0</td>\n",
       "      <td>1.0</td>\n",
       "      <td>90.0</td>\n",
       "      <td>2.0</td>\n",
       "      <td>574.0</td>\n",
       "      <td>558.0</td>\n",
       "    </tr>\n",
       "    <tr>\n",
       "      <td>3</td>\n",
       "      <td>0</td>\n",
       "      <td>64900000.0</td>\n",
       "      <td>159.0</td>\n",
       "      <td>2015-07-24T00:00:00</td>\n",
       "      <td>3</td>\n",
       "      <td>NaN</td>\n",
       "      <td>14.0</td>\n",
       "      <td>NaN</td>\n",
       "      <td>9</td>\n",
       "      <td>NaN</td>\n",
       "      <td>...</td>\n",
       "      <td>NaN</td>\n",
       "      <td>0.0</td>\n",
       "      <td>Санкт-Петербург</td>\n",
       "      <td>28098.0</td>\n",
       "      <td>6800.0</td>\n",
       "      <td>2.0</td>\n",
       "      <td>84.0</td>\n",
       "      <td>3.0</td>\n",
       "      <td>234.0</td>\n",
       "      <td>424.0</td>\n",
       "    </tr>\n",
       "    <tr>\n",
       "      <td>4</td>\n",
       "      <td>2</td>\n",
       "      <td>10000000.0</td>\n",
       "      <td>100.0</td>\n",
       "      <td>2018-06-19T00:00:00</td>\n",
       "      <td>2</td>\n",
       "      <td>3.03</td>\n",
       "      <td>14.0</td>\n",
       "      <td>32.0</td>\n",
       "      <td>13</td>\n",
       "      <td>NaN</td>\n",
       "      <td>...</td>\n",
       "      <td>41.0</td>\n",
       "      <td>NaN</td>\n",
       "      <td>Санкт-Петербург</td>\n",
       "      <td>31856.0</td>\n",
       "      <td>8098.0</td>\n",
       "      <td>2.0</td>\n",
       "      <td>112.0</td>\n",
       "      <td>1.0</td>\n",
       "      <td>48.0</td>\n",
       "      <td>121.0</td>\n",
       "    </tr>\n",
       "  </tbody>\n",
       "</table>\n",
       "<p>5 rows × 22 columns</p>\n",
       "</div>"
      ],
      "text/plain": [
       "   total_images  last_price  total_area first_day_exposition  rooms  \\\n",
       "0            20  13000000.0       108.0  2019-03-07T00:00:00      3   \n",
       "1             7   3350000.0        40.4  2018-12-04T00:00:00      1   \n",
       "2            10   5196000.0        56.0  2015-08-20T00:00:00      2   \n",
       "3             0  64900000.0       159.0  2015-07-24T00:00:00      3   \n",
       "4             2  10000000.0       100.0  2018-06-19T00:00:00      2   \n",
       "\n",
       "   ceiling_height  floors_total  living_area  floor is_apartment  ...  \\\n",
       "0            2.70          16.0         51.0      8          NaN  ...   \n",
       "1             NaN          11.0         18.6      1          NaN  ...   \n",
       "2             NaN           5.0         34.3      4          NaN  ...   \n",
       "3             NaN          14.0          NaN      9          NaN  ...   \n",
       "4            3.03          14.0         32.0     13          NaN  ...   \n",
       "\n",
       "   kitchen_area  balcony    locality_name  airports_nearest  \\\n",
       "0          25.0      NaN  Санкт-Петербург           18863.0   \n",
       "1          11.0      2.0   посёлок Шушары           12817.0   \n",
       "2           8.3      0.0  Санкт-Петербург           21741.0   \n",
       "3           NaN      0.0  Санкт-Петербург           28098.0   \n",
       "4          41.0      NaN  Санкт-Петербург           31856.0   \n",
       "\n",
       "  cityCenters_nearest  parks_around3000  parks_nearest  ponds_around3000  \\\n",
       "0             16028.0               1.0          482.0               2.0   \n",
       "1             18603.0               0.0            NaN               0.0   \n",
       "2             13933.0               1.0           90.0               2.0   \n",
       "3              6800.0               2.0           84.0               3.0   \n",
       "4              8098.0               2.0          112.0               1.0   \n",
       "\n",
       "   ponds_nearest  days_exposition  \n",
       "0          755.0              NaN  \n",
       "1            NaN             81.0  \n",
       "2          574.0            558.0  \n",
       "3          234.0            424.0  \n",
       "4           48.0            121.0  \n",
       "\n",
       "[5 rows x 22 columns]"
      ]
     },
     "execution_count": 38,
     "metadata": {},
     "output_type": "execute_result"
    }
   ],
   "source": [
    "df.head()"
   ]
  },
  {
   "cell_type": "code",
   "execution_count": 39,
   "metadata": {},
   "outputs": [
    {
     "data": {
      "text/html": [
       "<div>\n",
       "<style scoped>\n",
       "    .dataframe tbody tr th:only-of-type {\n",
       "        vertical-align: middle;\n",
       "    }\n",
       "\n",
       "    .dataframe tbody tr th {\n",
       "        vertical-align: top;\n",
       "    }\n",
       "\n",
       "    .dataframe thead th {\n",
       "        text-align: right;\n",
       "    }\n",
       "</style>\n",
       "<table border=\"1\" class=\"dataframe\">\n",
       "  <thead>\n",
       "    <tr style=\"text-align: right;\">\n",
       "      <th></th>\n",
       "      <th>count</th>\n",
       "      <th>mean</th>\n",
       "      <th>std</th>\n",
       "      <th>min</th>\n",
       "      <th>25%</th>\n",
       "      <th>50%</th>\n",
       "      <th>75%</th>\n",
       "      <th>max</th>\n",
       "    </tr>\n",
       "  </thead>\n",
       "  <tbody>\n",
       "    <tr>\n",
       "      <td>total_images</td>\n",
       "      <td>23699.0</td>\n",
       "      <td>9.858475e+00</td>\n",
       "      <td>5.682529e+00</td>\n",
       "      <td>0.0</td>\n",
       "      <td>6.00</td>\n",
       "      <td>9.00</td>\n",
       "      <td>14.0</td>\n",
       "      <td>50.0</td>\n",
       "    </tr>\n",
       "    <tr>\n",
       "      <td>last_price</td>\n",
       "      <td>23699.0</td>\n",
       "      <td>6.541549e+06</td>\n",
       "      <td>1.088701e+07</td>\n",
       "      <td>12190.0</td>\n",
       "      <td>3400000.00</td>\n",
       "      <td>4650000.00</td>\n",
       "      <td>6800000.0</td>\n",
       "      <td>763000000.0</td>\n",
       "    </tr>\n",
       "    <tr>\n",
       "      <td>total_area</td>\n",
       "      <td>23699.0</td>\n",
       "      <td>6.034865e+01</td>\n",
       "      <td>3.565408e+01</td>\n",
       "      <td>12.0</td>\n",
       "      <td>40.00</td>\n",
       "      <td>52.00</td>\n",
       "      <td>69.9</td>\n",
       "      <td>900.0</td>\n",
       "    </tr>\n",
       "    <tr>\n",
       "      <td>rooms</td>\n",
       "      <td>23699.0</td>\n",
       "      <td>2.070636e+00</td>\n",
       "      <td>1.078405e+00</td>\n",
       "      <td>0.0</td>\n",
       "      <td>1.00</td>\n",
       "      <td>2.00</td>\n",
       "      <td>3.0</td>\n",
       "      <td>19.0</td>\n",
       "    </tr>\n",
       "    <tr>\n",
       "      <td>ceiling_height</td>\n",
       "      <td>14504.0</td>\n",
       "      <td>2.771499e+00</td>\n",
       "      <td>1.261056e+00</td>\n",
       "      <td>1.0</td>\n",
       "      <td>2.52</td>\n",
       "      <td>2.65</td>\n",
       "      <td>2.8</td>\n",
       "      <td>100.0</td>\n",
       "    </tr>\n",
       "    <tr>\n",
       "      <td>floors_total</td>\n",
       "      <td>23613.0</td>\n",
       "      <td>1.067382e+01</td>\n",
       "      <td>6.597173e+00</td>\n",
       "      <td>1.0</td>\n",
       "      <td>5.00</td>\n",
       "      <td>9.00</td>\n",
       "      <td>16.0</td>\n",
       "      <td>60.0</td>\n",
       "    </tr>\n",
       "    <tr>\n",
       "      <td>living_area</td>\n",
       "      <td>21796.0</td>\n",
       "      <td>3.445785e+01</td>\n",
       "      <td>2.203045e+01</td>\n",
       "      <td>2.0</td>\n",
       "      <td>18.60</td>\n",
       "      <td>30.00</td>\n",
       "      <td>42.3</td>\n",
       "      <td>409.7</td>\n",
       "    </tr>\n",
       "    <tr>\n",
       "      <td>floor</td>\n",
       "      <td>23699.0</td>\n",
       "      <td>5.892358e+00</td>\n",
       "      <td>4.885249e+00</td>\n",
       "      <td>1.0</td>\n",
       "      <td>2.00</td>\n",
       "      <td>4.00</td>\n",
       "      <td>8.0</td>\n",
       "      <td>33.0</td>\n",
       "    </tr>\n",
       "    <tr>\n",
       "      <td>kitchen_area</td>\n",
       "      <td>21421.0</td>\n",
       "      <td>1.056981e+01</td>\n",
       "      <td>5.905438e+00</td>\n",
       "      <td>1.3</td>\n",
       "      <td>7.00</td>\n",
       "      <td>9.10</td>\n",
       "      <td>12.0</td>\n",
       "      <td>112.0</td>\n",
       "    </tr>\n",
       "    <tr>\n",
       "      <td>balcony</td>\n",
       "      <td>12180.0</td>\n",
       "      <td>1.150082e+00</td>\n",
       "      <td>1.071300e+00</td>\n",
       "      <td>0.0</td>\n",
       "      <td>0.00</td>\n",
       "      <td>1.00</td>\n",
       "      <td>2.0</td>\n",
       "      <td>5.0</td>\n",
       "    </tr>\n",
       "    <tr>\n",
       "      <td>airports_nearest</td>\n",
       "      <td>18157.0</td>\n",
       "      <td>2.879367e+04</td>\n",
       "      <td>1.263088e+04</td>\n",
       "      <td>0.0</td>\n",
       "      <td>18585.00</td>\n",
       "      <td>26726.00</td>\n",
       "      <td>37273.0</td>\n",
       "      <td>84869.0</td>\n",
       "    </tr>\n",
       "    <tr>\n",
       "      <td>cityCenters_nearest</td>\n",
       "      <td>18180.0</td>\n",
       "      <td>1.419128e+04</td>\n",
       "      <td>8.608386e+03</td>\n",
       "      <td>181.0</td>\n",
       "      <td>9238.00</td>\n",
       "      <td>13098.50</td>\n",
       "      <td>16293.0</td>\n",
       "      <td>65968.0</td>\n",
       "    </tr>\n",
       "    <tr>\n",
       "      <td>parks_around3000</td>\n",
       "      <td>18181.0</td>\n",
       "      <td>6.114075e-01</td>\n",
       "      <td>8.020736e-01</td>\n",
       "      <td>0.0</td>\n",
       "      <td>0.00</td>\n",
       "      <td>0.00</td>\n",
       "      <td>1.0</td>\n",
       "      <td>3.0</td>\n",
       "    </tr>\n",
       "    <tr>\n",
       "      <td>parks_nearest</td>\n",
       "      <td>8079.0</td>\n",
       "      <td>4.908046e+02</td>\n",
       "      <td>3.423180e+02</td>\n",
       "      <td>1.0</td>\n",
       "      <td>288.00</td>\n",
       "      <td>455.00</td>\n",
       "      <td>612.0</td>\n",
       "      <td>3190.0</td>\n",
       "    </tr>\n",
       "    <tr>\n",
       "      <td>ponds_around3000</td>\n",
       "      <td>18181.0</td>\n",
       "      <td>7.702547e-01</td>\n",
       "      <td>9.383456e-01</td>\n",
       "      <td>0.0</td>\n",
       "      <td>0.00</td>\n",
       "      <td>1.00</td>\n",
       "      <td>1.0</td>\n",
       "      <td>3.0</td>\n",
       "    </tr>\n",
       "    <tr>\n",
       "      <td>ponds_nearest</td>\n",
       "      <td>9110.0</td>\n",
       "      <td>5.179809e+02</td>\n",
       "      <td>2.777206e+02</td>\n",
       "      <td>13.0</td>\n",
       "      <td>294.00</td>\n",
       "      <td>502.00</td>\n",
       "      <td>729.0</td>\n",
       "      <td>1344.0</td>\n",
       "    </tr>\n",
       "    <tr>\n",
       "      <td>days_exposition</td>\n",
       "      <td>20518.0</td>\n",
       "      <td>1.808886e+02</td>\n",
       "      <td>2.197280e+02</td>\n",
       "      <td>1.0</td>\n",
       "      <td>45.00</td>\n",
       "      <td>95.00</td>\n",
       "      <td>232.0</td>\n",
       "      <td>1580.0</td>\n",
       "    </tr>\n",
       "  </tbody>\n",
       "</table>\n",
       "</div>"
      ],
      "text/plain": [
       "                       count          mean           std      min         25%  \\\n",
       "total_images         23699.0  9.858475e+00  5.682529e+00      0.0        6.00   \n",
       "last_price           23699.0  6.541549e+06  1.088701e+07  12190.0  3400000.00   \n",
       "total_area           23699.0  6.034865e+01  3.565408e+01     12.0       40.00   \n",
       "rooms                23699.0  2.070636e+00  1.078405e+00      0.0        1.00   \n",
       "ceiling_height       14504.0  2.771499e+00  1.261056e+00      1.0        2.52   \n",
       "floors_total         23613.0  1.067382e+01  6.597173e+00      1.0        5.00   \n",
       "living_area          21796.0  3.445785e+01  2.203045e+01      2.0       18.60   \n",
       "floor                23699.0  5.892358e+00  4.885249e+00      1.0        2.00   \n",
       "kitchen_area         21421.0  1.056981e+01  5.905438e+00      1.3        7.00   \n",
       "balcony              12180.0  1.150082e+00  1.071300e+00      0.0        0.00   \n",
       "airports_nearest     18157.0  2.879367e+04  1.263088e+04      0.0    18585.00   \n",
       "cityCenters_nearest  18180.0  1.419128e+04  8.608386e+03    181.0     9238.00   \n",
       "parks_around3000     18181.0  6.114075e-01  8.020736e-01      0.0        0.00   \n",
       "parks_nearest         8079.0  4.908046e+02  3.423180e+02      1.0      288.00   \n",
       "ponds_around3000     18181.0  7.702547e-01  9.383456e-01      0.0        0.00   \n",
       "ponds_nearest         9110.0  5.179809e+02  2.777206e+02     13.0      294.00   \n",
       "days_exposition      20518.0  1.808886e+02  2.197280e+02      1.0       45.00   \n",
       "\n",
       "                            50%        75%          max  \n",
       "total_images               9.00       14.0         50.0  \n",
       "last_price           4650000.00  6800000.0  763000000.0  \n",
       "total_area                52.00       69.9        900.0  \n",
       "rooms                      2.00        3.0         19.0  \n",
       "ceiling_height             2.65        2.8        100.0  \n",
       "floors_total               9.00       16.0         60.0  \n",
       "living_area               30.00       42.3        409.7  \n",
       "floor                      4.00        8.0         33.0  \n",
       "kitchen_area               9.10       12.0        112.0  \n",
       "balcony                    1.00        2.0          5.0  \n",
       "airports_nearest       26726.00    37273.0      84869.0  \n",
       "cityCenters_nearest    13098.50    16293.0      65968.0  \n",
       "parks_around3000           0.00        1.0          3.0  \n",
       "parks_nearest            455.00      612.0       3190.0  \n",
       "ponds_around3000           1.00        1.0          3.0  \n",
       "ponds_nearest            502.00      729.0       1344.0  \n",
       "days_exposition           95.00      232.0       1580.0  "
      ]
     },
     "execution_count": 39,
     "metadata": {},
     "output_type": "execute_result"
    }
   ],
   "source": [
    "df.describe().T"
   ]
  },
  {
   "cell_type": "code",
   "execution_count": 40,
   "metadata": {},
   "outputs": [
    {
     "name": "stdout",
     "output_type": "stream",
     "text": [
      "<class 'pandas.core.frame.DataFrame'>\n",
      "RangeIndex: 23699 entries, 0 to 23698\n",
      "Data columns (total 22 columns):\n",
      "total_images            23699 non-null int64\n",
      "last_price              23699 non-null float64\n",
      "total_area              23699 non-null float64\n",
      "first_day_exposition    23699 non-null object\n",
      "rooms                   23699 non-null int64\n",
      "ceiling_height          14504 non-null float64\n",
      "floors_total            23613 non-null float64\n",
      "living_area             21796 non-null float64\n",
      "floor                   23699 non-null int64\n",
      "is_apartment            2775 non-null object\n",
      "studio                  23699 non-null bool\n",
      "open_plan               23699 non-null bool\n",
      "kitchen_area            21421 non-null float64\n",
      "balcony                 12180 non-null float64\n",
      "locality_name           23650 non-null object\n",
      "airports_nearest        18157 non-null float64\n",
      "cityCenters_nearest     18180 non-null float64\n",
      "parks_around3000        18181 non-null float64\n",
      "parks_nearest           8079 non-null float64\n",
      "ponds_around3000        18181 non-null float64\n",
      "ponds_nearest           9110 non-null float64\n",
      "days_exposition         20518 non-null float64\n",
      "dtypes: bool(2), float64(14), int64(3), object(3)\n",
      "memory usage: 3.7+ MB\n"
     ]
    }
   ],
   "source": [
    "df.info()"
   ]
  },
  {
   "cell_type": "markdown",
   "metadata": {},
   "source": [
    "### Вывод"
   ]
  },
  {
   "cell_type": "markdown",
   "metadata": {},
   "source": [
    "Ознакомившись с данными я заметил, что тип данных у колонки `first_day_exposition` должен быть `datetime`, а у `days_expostion` должен быть `int`. То же могу сказать и про `floors_total`, `parks_around3000`, `ponds_around3000`, `balcony` - `int`. `is_apartment` должен быть `bool`. В оставшихся колонках нужно доработать нулевые значения."
   ]
  },
  {
   "cell_type": "markdown",
   "metadata": {},
   "source": [
    "<div class=\"alert alert-block alert-success\">\n",
    "<b>Success:</b> отличное знакомство с датасетом!"
   ]
  },
  {
   "cell_type": "markdown",
   "metadata": {},
   "source": [
    "## Предобработка данных"
   ]
  },
  {
   "cell_type": "code",
   "execution_count": 41,
   "metadata": {},
   "outputs": [
    {
     "data": {
      "text/plain": [
       "total_images                0\n",
       "last_price                  0\n",
       "total_area                  0\n",
       "first_day_exposition        0\n",
       "rooms                       0\n",
       "ceiling_height           9195\n",
       "floors_total               86\n",
       "living_area              1903\n",
       "floor                       0\n",
       "is_apartment            20924\n",
       "studio                      0\n",
       "open_plan                   0\n",
       "kitchen_area             2278\n",
       "balcony                 11519\n",
       "locality_name              49\n",
       "airports_nearest         5542\n",
       "cityCenters_nearest      5519\n",
       "parks_around3000         5518\n",
       "parks_nearest           15620\n",
       "ponds_around3000         5518\n",
       "ponds_nearest           14589\n",
       "days_exposition          3181\n",
       "dtype: int64"
      ]
     },
     "execution_count": 41,
     "metadata": {},
     "output_type": "execute_result"
    }
   ],
   "source": [
    "df.isna().sum()"
   ]
  },
  {
   "cell_type": "markdown",
   "metadata": {},
   "source": [
    "<div class=\"alert alert-block alert-warning\">\n",
    "<b>Remarks:</b>\n",
    "    \n",
    "если в аутпут выводится результат только одной функции, то ни `print()`, ни `display()` использовать не нужно - юпитер всё отрисует сам"
   ]
  },
  {
   "cell_type": "code",
   "execution_count": 42,
   "metadata": {},
   "outputs": [],
   "source": [
    "df['ceiling_height'] = df['ceiling_height'].fillna(0)\n",
    "df['living_area'] = df['living_area'].fillna(df['living_area'].mean())\n",
    "df['is_apartment'] = df['is_apartment'].fillna(False)\n",
    "df['kitchen_area'] = df['kitchen_area'].fillna(df['kitchen_area'].mean())\n",
    "df['balcony'] = df['balcony'].fillna(0)\n",
    "df['floors_total'] = df['floors_total'].fillna(0)\n",
    "df['parks_around3000'] = df['parks_around3000'].fillna(0)\n",
    "df['ponds_around3000'] = df['ponds_around3000'].fillna(0)\n",
    "df['days_exposition'] = df['days_exposition'].fillna(0)"
   ]
  },
  {
   "cell_type": "code",
   "execution_count": 43,
   "metadata": {},
   "outputs": [],
   "source": [
    "df['days_exposition'] = df['days_exposition'].astype('int16')\n",
    "df['first_day_exposition'] = pd.to_datetime(df['first_day_exposition'], format = '%Y-%m-%d')\n",
    "df['floors_total'] = df['floors_total'].astype('int16')\n",
    "df['parks_around3000'] = df['parks_around3000'].astype('int16')\n",
    "df['ponds_around3000'] = df['ponds_around3000'].astype('int16')\n",
    "df['balcony'] = df['balcony'].astype('int')\n",
    "df['is_apartment'] = df['is_apartment'].astype('bool')"
   ]
  },
  {
   "cell_type": "markdown",
   "metadata": {},
   "source": [
    "<div class=\"alert alert-block alert-warning\">\n",
    "<b>Remarks:</b> \n",
    "    \n",
    "Потенциал для эффективного изменения типов тут очень широк.\n",
    "    \n",
    "Давай я дам тебе две классные статьи, а ты попробуешь изменить типы данных на еще более подходящие и замеришь, сколько памяти в % ты сэкономишь:\n",
    "    \n",
    "https://pyprog.pro/data_types.html\n",
    "    \n",
    "https://habr.com/ru/company/ruvds/blog/442516/"
   ]
  },
  {
   "cell_type": "markdown",
   "metadata": {},
   "source": [
    "<div class=\"alert alert-block alert-success\">\n",
    "очень хорошо! в больших датасетах будет полезно :)"
   ]
  },
  {
   "cell_type": "code",
   "execution_count": 70,
   "metadata": {},
   "outputs": [
    {
     "data": {
      "text/plain": [
       "total_images                0\n",
       "last_price                  0\n",
       "total_area                  0\n",
       "first_day_exposition        0\n",
       "rooms                       0\n",
       "ceiling_height              0\n",
       "floors_total                0\n",
       "living_area                 0\n",
       "floor                       0\n",
       "is_apartment                0\n",
       "studio                      0\n",
       "open_plan                   0\n",
       "kitchen_area                0\n",
       "balcony                     0\n",
       "locality_name              49\n",
       "airports_nearest         5542\n",
       "cityCenters_nearest      5519\n",
       "parks_around3000            0\n",
       "parks_nearest           15620\n",
       "ponds_around3000            0\n",
       "ponds_nearest           14589\n",
       "days_exposition             0\n",
       "price_per_sqm               0\n",
       "day                         0\n",
       "month                       0\n",
       "year                        0\n",
       "type_of_floor               0\n",
       "live_ration                 0\n",
       "kitchen_ration              0\n",
       "center                      0\n",
       "dtype: int64"
      ]
     },
     "execution_count": 70,
     "metadata": {},
     "output_type": "execute_result"
    }
   ],
   "source": [
    "df.isna().sum()"
   ]
  },
  {
   "cell_type": "markdown",
   "metadata": {},
   "source": [
    "### Вывод\n"
   ]
  },
  {
   "cell_type": "markdown",
   "metadata": {},
   "source": [
    "Во многих столбцах я заполнил пропущенные значения нулями, потому что они более уместны. Например, я заполнил `ceiling_height` нулями, так как, воозможно, потолки вообще отсутствуют у дома(возможно дом в аварийном состоянии). `parks3000` и `ponds3000` заполнены нулями, потому что в радиусе 3 км они могу отсутствовать. `living_area` и `kitchen_area`  я заполнил средними значениями по таблице. Также мной были изменены типы данных. `days_expostion`, `floors_total`, `parks_around3000`, `ponds_around3000`, `balcony` я перевел  в `int`, чтобы было легче с ними работать и, в принципе, мы не можем измерять парки, пруды, балконы и т.д. в десятичныъ величинах. `is_apartment` я поменял на `bool`, потому что этот столбик должен показывать тип апартаментов: квартира или дом. Также я перевел в `datetime` `first_day_exposition`, т.к. это дата размещения объявления о продаже."
   ]
  },
  {
   "cell_type": "markdown",
   "metadata": {},
   "source": [
    "## Расчёты и добавление результатов в таблицу"
   ]
  },
  {
   "cell_type": "code",
   "execution_count": 45,
   "metadata": {},
   "outputs": [],
   "source": [
    "df['price_per_sqm'] = df['last_price'] / df['total_area']"
   ]
  },
  {
   "cell_type": "code",
   "execution_count": 46,
   "metadata": {},
   "outputs": [],
   "source": [
    "df['day'] = df['first_day_exposition'].dt.weekday\n",
    "df['month'] = df['first_day_exposition'].dt.month\n",
    "df['year'] = df['first_day_exposition'].dt.year"
   ]
  },
  {
   "cell_type": "code",
   "execution_count": 47,
   "metadata": {},
   "outputs": [],
   "source": [
    "df.loc[df['floor'] == 1, 'type_of_floor'] = 'первый'\n",
    "df.loc[df['floor'] == df['floors_total'], 'type_of_floor'] = 'последний'\n",
    "df.loc[df['type_of_floor'].isna(), 'type_of_floor'] = 'другой'"
   ]
  },
  {
   "cell_type": "code",
   "execution_count": 48,
   "metadata": {},
   "outputs": [],
   "source": [
    "df['live_ration'] = df['living_area'] / df['total_area']\n",
    "df['kitchen_ration'] = df['kitchen_area'] / df['total_area']"
   ]
  },
  {
   "cell_type": "markdown",
   "metadata": {},
   "source": [
    "### Вывод"
   ]
  },
  {
   "cell_type": "markdown",
   "metadata": {},
   "source": [
    "Простыми манипуляциями мною была найдена цена одного квадратного метра, время размещения объявдения. Также я разграничил этажи по категориям `первый`, `последния` и `другой`. В конечном итоге я посчитал соотношение жилой и общей площади, а также отношение площади кухни к общей"
   ]
  },
  {
   "cell_type": "markdown",
   "metadata": {},
   "source": [
    "<div class=\"alert alert-block alert-success\">\n",
    "<b>Success:</b> все столбцы на месте, отлично!"
   ]
  },
  {
   "cell_type": "markdown",
   "metadata": {},
   "source": [
    "## Исследовательский анализ данных"
   ]
  },
  {
   "cell_type": "code",
   "execution_count": 74,
   "metadata": {},
   "outputs": [
    {
     "data": {
      "text/plain": [
       "<matplotlib.axes._subplots.AxesSubplot at 0x7f838b609790>"
      ]
     },
     "execution_count": 74,
     "metadata": {},
     "output_type": "execute_result"
    },
    {
     "data": {
      "image/png": "[encoded data removed]",
      "text/plain": [
       "<Figure size 360x216 with 1 Axes>"
      ]
     },
     "metadata": {
      "needs_background": "light"
     },
     "output_type": "display_data"
    },
    {
     "data": {
      "image/png": "[encoded data removed]",
      "text/plain": [
       "<Figure size 360x216 with 1 Axes>"
      ]
     },
     "metadata": {
      "needs_background": "light"
     },
     "output_type": "display_data"
    },
    {
     "data": {
      "image/png": "[encoded data removed]",
      "text/plain": [
       "<Figure size 360x216 with 1 Axes>"
      ]
     },
     "metadata": {
      "needs_background": "light"
     },
     "output_type": "display_data"
    },
    {
     "data": {
      "image/png": "[encoded data removed]",
      "text/plain": [
       "<Figure size 360x216 with 1 Axes>"
      ]
     },
     "metadata": {
      "needs_background": "light"
     },
     "output_type": "display_data"
    }
   ],
   "source": [
    "df.plot(y='total_area', kind='hist', bins=100, grid=True, figsize=(5,3), range=(0,500))\n",
    "df.plot(y='last_price', kind='hist', bins=100, grid=True, figsize=(5,3), range=(0,15000000))\n",
    "df.plot(y='rooms', kind='hist', bins=30, grid=True, figsize=(5,3))\n",
    "df.plot(y='ceiling_height', kind='hist', bins=30, grid=True, figsize=(5,3), range=(2,5))"
   ]
  },
  {
   "cell_type": "markdown",
   "metadata": {},
   "source": [
    "<div class=\"alert alert-block alert-warning\">\n",
    "<b>Remarks:</b> \n",
    "    \n",
    "Дальше будут проекты, где тебе придется строить очень много графиков, поэтому лучше сразу их правильно строить. На данном графике у тебя должны быть подписаны оси, ось Y должна содержать еще размерность данных (шт., млн. и т.д.). Оси и заголовок должны быть на одном языке. В заголовке еще можно написать за какой период у нас данные. Поправь и другие графики в проекте.\n",
    "\n",
    "Правильное оформление графиков сильно повышает вероятность сдачи проекта с первого раза ;)\n",
    "    \n",
    " https://python-graph-gallery.com/ Тут ты можешь найти много классных примеров"
   ]
  },
  {
   "cell_type": "markdown",
   "metadata": {},
   "source": [
    "В граифке с `total_area` можно заметить, что в основном площадь квартир варьируется от 15 до 100 квадратных метров.\n",
    "В графике с `last_price` можно заметить, что цена в основном варьируется от 100 тысяч до восьми миллионов рублей.\n",
    "В графике с `rooms` можно заметить, что квартиры в основном показаны как однокомнатные.\n",
    "В графике с `ceiling_height` можно заметить, что высота потолков в основном идет как 2.6 метров"
   ]
  },
  {
   "cell_type": "code",
   "execution_count": 50,
   "metadata": {},
   "outputs": [
    {
     "name": "stdout",
     "output_type": "stream",
     "text": [
      "156.60884425503187\n",
      "74.0\n",
      "45      880\n",
      "60      538\n",
      "7       234\n",
      "30      208\n",
      "90      204\n",
      "       ... \n",
      "807       1\n",
      "871       1\n",
      "951       1\n",
      "999       1\n",
      "1223      1\n",
      "Name: days_exposition, Length: 1141, dtype: int64\n"
     ]
    },
    {
     "data": {
      "image/png": "[encoded data removed]",
      "text/plain": [
       "<Figure size 360x216 with 1 Axes>"
      ]
     },
     "metadata": {
      "needs_background": "light"
     },
     "output_type": "display_data"
    }
   ],
   "source": [
    "df.plot(y='days_exposition', kind='hist', grid=True, bins=100, range=(1,200), figsize=(5,3))\n",
    "print(df['days_exposition'].mean())\n",
    "print(df['days_exposition'].median())\n",
    "print(df[df['days_exposition'] != 0]['days_exposition'].value_counts())"
   ]
  },
  {
   "cell_type": "markdown",
   "metadata": {},
   "source": [
    "Мы имеем среднее значение - `156` дней, а медиана - `74` дня. Я думаю, что если продажа квартиры длилась более `156` дней, то это долго, а если менее `74` дней, то быстро. Исследовав гистограмму можно отметить выбивающиеся значения на 7, 30, 45, 60 и 90 \n",
    "днях. Я думаю, что выбивающиеся значения связаны с ошибками в данных."
   ]
  },
  {
   "cell_type": "markdown",
   "metadata": {},
   "source": [
    "<div class=\"alert alert-block alert-warning\">\n",
    "<b>Remarks:</b> \n",
    "    \n",
    "как считаешь, чем могут быть вызваны эти ритмичные пики?"
   ]
  },
  {
   "cell_type": "code",
   "execution_count": 51,
   "metadata": {},
   "outputs": [
    {
     "data": {
      "text/plain": [
       "<matplotlib.axes._subplots.AxesSubplot at 0x7f8394dd14d0>"
      ]
     },
     "execution_count": 51,
     "metadata": {},
     "output_type": "execute_result"
    },
    {
     "data": {
      "image/png": "[encoded data removed]",
      "text/plain": [
       "<Figure size 360x216 with 1 Axes>"
      ]
     },
     "metadata": {
      "needs_background": "light"
     },
     "output_type": "display_data"
    }
   ],
   "source": [
    "filtered_data = df.query('days_exposition != 0 and days_exposition != 7 and days_exposition != 30 and days_exposition != 45 and days_exposition != 60 and days_exposition != 90')\n",
    "filtered_data.plot(y='days_exposition', kind='hist', grid=True, bins=100, range=(1,200), figsize=(5,3))"
   ]
  },
  {
   "cell_type": "markdown",
   "metadata": {},
   "source": [
    "Применив метод `query()`, я отфильтровал данные от выбивающихся значений"
   ]
  },
  {
   "cell_type": "code",
   "execution_count": 52,
   "metadata": {},
   "outputs": [
    {
     "data": {
      "text/plain": [
       "0.30196021001472556"
      ]
     },
     "execution_count": 52,
     "metadata": {},
     "output_type": "execute_result"
    },
    {
     "data": {
      "image/png": "[encoded data removed]",
      "text/plain": [
       "<Figure size 432x288 with 1 Axes>"
      ]
     },
     "metadata": {
      "needs_background": "light"
     },
     "output_type": "display_data"
    }
   ],
   "source": [
    "table_areа = df.pivot_table(index = 'total_area', values = 'price_per_sqm', aggfunc = ['mean', 'count', 'median'])\n",
    "table_areа.columns = ['mean', 'count', 'median']\n",
    "table_areа.plot(y = 'median', style='o')\n",
    "table_areа.sort_values('median', ascending = False)\n",
    "df['total_area'].corr(df['price_per_sqm'])"
   ]
  },
  {
   "cell_type": "markdown",
   "metadata": {},
   "source": [
    "Изучив рисунок, можно увидеть, что зависимость вышла небольшой(корреляция - 0.3)"
   ]
  },
  {
   "cell_type": "code",
   "execution_count": 53,
   "metadata": {},
   "outputs": [
    {
     "data": {
      "text/plain": [
       "0.05541965593528785"
      ]
     },
     "execution_count": 53,
     "metadata": {},
     "output_type": "execute_result"
    },
    {
     "data": {
      "image/png": "[encoded data removed]",
      "text/plain": [
       "<Figure size 432x288 with 1 Axes>"
      ]
     },
     "metadata": {
      "needs_background": "light"
     },
     "output_type": "display_data"
    }
   ],
   "source": [
    "table_rooms = df.pivot_table(index = 'rooms', values = 'price_per_sqm', aggfunc = ['mean', 'count', 'median'])\n",
    "table_rooms.columns = ['mean', 'count', 'median']\n",
    "table_rooms.query('count > 80').plot(y = 'median')\n",
    "table_rooms.query('count > 80').sort_values('median', ascending = False)\n",
    "df['rooms'].corr(df['price_per_sqm'])"
   ]
  },
  {
   "cell_type": "markdown",
   "metadata": {},
   "source": [
    "Чем ближе значение к `3-комнатной` квартире, тем ниже цена\n"
   ]
  },
  {
   "cell_type": "code",
   "execution_count": 54,
   "metadata": {},
   "outputs": [
    {
     "data": {
      "text/plain": [
       "<matplotlib.axes._subplots.AxesSubplot at 0x7f838bb897d0>"
      ]
     },
     "execution_count": 54,
     "metadata": {},
     "output_type": "execute_result"
    },
    {
     "data": {
      "image/png": "[encoded data removed]",
      "text/plain": [
       "<Figure size 432x288 with 1 Axes>"
      ]
     },
     "metadata": {
      "needs_background": "light"
     },
     "output_type": "display_data"
    }
   ],
   "source": [
    "df.plot(kind = 'scatter', y = 'price_per_sqm', x = 'cityCenters_nearest')"
   ]
  },
  {
   "cell_type": "markdown",
   "metadata": {},
   "source": [
    "Здесь можно проследить, что чем ближе к центру, тем дороже квартира"
   ]
  },
  {
   "cell_type": "code",
   "execution_count": 76,
   "metadata": {},
   "outputs": [
    {
     "data": {
      "text/plain": [
       "<matplotlib.axes._subplots.AxesSubplot at 0x7f838c005710>"
      ]
     },
     "execution_count": 76,
     "metadata": {},
     "output_type": "execute_result"
    },
    {
     "data": {
      "image/png": "[encoded data removed]",
      "text/plain": [
       "<Figure size 432x288 with 1 Axes>"
      ]
     },
     "metadata": {
      "needs_background": "light"
     },
     "output_type": "display_data"
    }
   ],
   "source": [
    "table_type_of_floor = df.pivot_table(index = 'type_of_floor', values = 'price_per_sqm', aggfunc = ['mean', 'count', 'median'])\n",
    "table_type_of_floor.columns = ['mean', 'count', 'median']\n",
    "table_type_of_floor.plot(y = 'median')"
   ]
  },
  {
   "cell_type": "markdown",
   "metadata": {},
   "source": [
    "<div class=\"alert alert-block alert-warning\">\n",
    "<b>Remarks:</b> \n",
    "    \n",
    "добавь на график категорию \"другой\""
   ]
  },
  {
   "cell_type": "markdown",
   "metadata": {},
   "source": [
    "Чем выше этаж, тем дороже квартира"
   ]
  },
  {
   "cell_type": "code",
   "execution_count": 56,
   "metadata": {},
   "outputs": [
    {
     "data": {
      "text/html": [
       "<div>\n",
       "<style scoped>\n",
       "    .dataframe tbody tr th:only-of-type {\n",
       "        vertical-align: middle;\n",
       "    }\n",
       "\n",
       "    .dataframe tbody tr th {\n",
       "        vertical-align: top;\n",
       "    }\n",
       "\n",
       "    .dataframe thead th {\n",
       "        text-align: right;\n",
       "    }\n",
       "</style>\n",
       "<table border=\"1\" class=\"dataframe\">\n",
       "  <thead>\n",
       "    <tr style=\"text-align: right;\">\n",
       "      <th></th>\n",
       "      <th>mean</th>\n",
       "      <th>count</th>\n",
       "      <th>median</th>\n",
       "    </tr>\n",
       "    <tr>\n",
       "      <th>day</th>\n",
       "      <th></th>\n",
       "      <th></th>\n",
       "      <th></th>\n",
       "    </tr>\n",
       "  </thead>\n",
       "  <tbody>\n",
       "    <tr>\n",
       "      <td>1</td>\n",
       "      <td>99734.539194</td>\n",
       "      <td>4183</td>\n",
       "      <td>95634.095634</td>\n",
       "    </tr>\n",
       "    <tr>\n",
       "      <td>2</td>\n",
       "      <td>99617.181736</td>\n",
       "      <td>3974</td>\n",
       "      <td>95473.807179</td>\n",
       "    </tr>\n",
       "    <tr>\n",
       "      <td>3</td>\n",
       "      <td>100162.906153</td>\n",
       "      <td>4295</td>\n",
       "      <td>95143.884892</td>\n",
       "    </tr>\n",
       "    <tr>\n",
       "      <td>0</td>\n",
       "      <td>99438.432027</td>\n",
       "      <td>3612</td>\n",
       "      <td>94688.910380</td>\n",
       "    </tr>\n",
       "    <tr>\n",
       "      <td>4</td>\n",
       "      <td>99012.143458</td>\n",
       "      <td>4000</td>\n",
       "      <td>94616.160238</td>\n",
       "    </tr>\n",
       "    <tr>\n",
       "      <td>6</td>\n",
       "      <td>97708.373982</td>\n",
       "      <td>1699</td>\n",
       "      <td>94501.718213</td>\n",
       "    </tr>\n",
       "    <tr>\n",
       "      <td>5</td>\n",
       "      <td>99018.170245</td>\n",
       "      <td>1936</td>\n",
       "      <td>93545.716727</td>\n",
       "    </tr>\n",
       "  </tbody>\n",
       "</table>\n",
       "</div>"
      ],
      "text/plain": [
       "              mean  count        median\n",
       "day                                    \n",
       "1     99734.539194   4183  95634.095634\n",
       "2     99617.181736   3974  95473.807179\n",
       "3    100162.906153   4295  95143.884892\n",
       "0     99438.432027   3612  94688.910380\n",
       "4     99012.143458   4000  94616.160238\n",
       "6     97708.373982   1699  94501.718213\n",
       "5     99018.170245   1936  93545.716727"
      ]
     },
     "execution_count": 56,
     "metadata": {},
     "output_type": "execute_result"
    },
    {
     "data": {
      "image/png": "[encoded data removed]",
      "text/plain": [
       "<Figure size 432x288 with 1 Axes>"
      ]
     },
     "metadata": {
      "needs_background": "light"
     },
     "output_type": "display_data"
    }
   ],
   "source": [
    "table_day_exp = df.pivot_table(index='day', values='price_per_sqm', aggfunc = ['mean', 'count', 'median'])\n",
    "table_day_exp.columns = ['mean', 'count', 'median']\n",
    "table_day_exp.plot(y='median')\n",
    "table_day_exp.sort_values('median', ascending = False)"
   ]
  },
  {
   "cell_type": "markdown",
   "metadata": {},
   "source": [
    "Из графика можно увидеть, что самая низкая стоимость квартиры в пятницу, самая большая стоимость в понедельник. Скорее всего стоимость выставленныъ квартир зависит от активности людей в какой-либо из дней недели"
   ]
  },
  {
   "cell_type": "code",
   "execution_count": 57,
   "metadata": {},
   "outputs": [
    {
     "data": {
      "text/html": [
       "<div>\n",
       "<style scoped>\n",
       "    .dataframe tbody tr th:only-of-type {\n",
       "        vertical-align: middle;\n",
       "    }\n",
       "\n",
       "    .dataframe tbody tr th {\n",
       "        vertical-align: top;\n",
       "    }\n",
       "\n",
       "    .dataframe thead th {\n",
       "        text-align: right;\n",
       "    }\n",
       "</style>\n",
       "<table border=\"1\" class=\"dataframe\">\n",
       "  <thead>\n",
       "    <tr style=\"text-align: right;\">\n",
       "      <th></th>\n",
       "      <th>mean</th>\n",
       "      <th>count</th>\n",
       "      <th>median</th>\n",
       "    </tr>\n",
       "    <tr>\n",
       "      <th>month</th>\n",
       "      <th></th>\n",
       "      <th></th>\n",
       "      <th></th>\n",
       "    </tr>\n",
       "  </thead>\n",
       "  <tbody>\n",
       "    <tr>\n",
       "      <td>4</td>\n",
       "      <td>101949.026219</td>\n",
       "      <td>2379</td>\n",
       "      <td>96451.612903</td>\n",
       "    </tr>\n",
       "    <tr>\n",
       "      <td>8</td>\n",
       "      <td>100110.528446</td>\n",
       "      <td>1744</td>\n",
       "      <td>96026.315789</td>\n",
       "    </tr>\n",
       "    <tr>\n",
       "      <td>9</td>\n",
       "      <td>100464.271234</td>\n",
       "      <td>1981</td>\n",
       "      <td>95607.235142</td>\n",
       "    </tr>\n",
       "    <tr>\n",
       "      <td>11</td>\n",
       "      <td>99230.870836</td>\n",
       "      <td>2371</td>\n",
       "      <td>95588.235294</td>\n",
       "    </tr>\n",
       "    <tr>\n",
       "      <td>3</td>\n",
       "      <td>98973.216068</td>\n",
       "      <td>2587</td>\n",
       "      <td>95238.095238</td>\n",
       "    </tr>\n",
       "    <tr>\n",
       "      <td>1</td>\n",
       "      <td>99862.581241</td>\n",
       "      <td>1500</td>\n",
       "      <td>95222.437478</td>\n",
       "    </tr>\n",
       "    <tr>\n",
       "      <td>2</td>\n",
       "      <td>98768.735441</td>\n",
       "      <td>2640</td>\n",
       "      <td>95000.000000</td>\n",
       "    </tr>\n",
       "    <tr>\n",
       "      <td>7</td>\n",
       "      <td>99625.641509</td>\n",
       "      <td>1695</td>\n",
       "      <td>95000.000000</td>\n",
       "    </tr>\n",
       "    <tr>\n",
       "      <td>12</td>\n",
       "      <td>99574.727173</td>\n",
       "      <td>1641</td>\n",
       "      <td>94262.299023</td>\n",
       "    </tr>\n",
       "    <tr>\n",
       "      <td>10</td>\n",
       "      <td>97933.895863</td>\n",
       "      <td>2127</td>\n",
       "      <td>94202.898551</td>\n",
       "    </tr>\n",
       "    <tr>\n",
       "      <td>5</td>\n",
       "      <td>98543.764569</td>\n",
       "      <td>1274</td>\n",
       "      <td>92857.142857</td>\n",
       "    </tr>\n",
       "    <tr>\n",
       "      <td>6</td>\n",
       "      <td>97763.317183</td>\n",
       "      <td>1760</td>\n",
       "      <td>92799.539171</td>\n",
       "    </tr>\n",
       "  </tbody>\n",
       "</table>\n",
       "</div>"
      ],
      "text/plain": [
       "                mean  count        median\n",
       "month                                    \n",
       "4      101949.026219   2379  96451.612903\n",
       "8      100110.528446   1744  96026.315789\n",
       "9      100464.271234   1981  95607.235142\n",
       "11      99230.870836   2371  95588.235294\n",
       "3       98973.216068   2587  95238.095238\n",
       "1       99862.581241   1500  95222.437478\n",
       "2       98768.735441   2640  95000.000000\n",
       "7       99625.641509   1695  95000.000000\n",
       "12      99574.727173   1641  94262.299023\n",
       "10      97933.895863   2127  94202.898551\n",
       "5       98543.764569   1274  92857.142857\n",
       "6       97763.317183   1760  92799.539171"
      ]
     },
     "execution_count": 57,
     "metadata": {},
     "output_type": "execute_result"
    },
    {
     "data": {
      "image/png": "[encoded data removed]",
      "text/plain": [
       "<Figure size 432x288 with 1 Axes>"
      ]
     },
     "metadata": {
      "needs_background": "light"
     },
     "output_type": "display_data"
    }
   ],
   "source": [
    "table_month_exp = df.pivot_table(index='month', values='price_per_sqm', aggfunc = ['mean', 'count', 'median'])\n",
    "table_month_exp.columns = ['mean', 'count', 'median']\n",
    "table_month_exp.plot(y='median')\n",
    "table_month_exp.sort_values('median', ascending = False)"
   ]
  },
  {
   "cell_type": "markdown",
   "metadata": {},
   "source": [
    "Изучив график в глаза бросаются апрель и август, потому что именно в эти месяцы появляются самые выскоие цены. Самые низкие цены появляются в июне"
   ]
  },
  {
   "cell_type": "code",
   "execution_count": 85,
   "metadata": {},
   "outputs": [
    {
     "data": {
      "text/html": [
       "<div>\n",
       "<style scoped>\n",
       "    .dataframe tbody tr th:only-of-type {\n",
       "        vertical-align: middle;\n",
       "    }\n",
       "\n",
       "    .dataframe tbody tr th {\n",
       "        vertical-align: top;\n",
       "    }\n",
       "\n",
       "    .dataframe thead th {\n",
       "        text-align: right;\n",
       "    }\n",
       "</style>\n",
       "<table border=\"1\" class=\"dataframe\">\n",
       "  <thead>\n",
       "    <tr style=\"text-align: right;\">\n",
       "      <th></th>\n",
       "      <th>mean</th>\n",
       "      <th>count</th>\n",
       "      <th>median</th>\n",
       "    </tr>\n",
       "    <tr>\n",
       "      <th>year</th>\n",
       "      <th></th>\n",
       "      <th></th>\n",
       "      <th></th>\n",
       "    </tr>\n",
       "  </thead>\n",
       "  <tbody>\n",
       "    <tr>\n",
       "      <td>2014</td>\n",
       "      <td>124830.426426</td>\n",
       "      <td>137</td>\n",
       "      <td>107000.000000</td>\n",
       "    </tr>\n",
       "    <tr>\n",
       "      <td>2019</td>\n",
       "      <td>107123.780305</td>\n",
       "      <td>2879</td>\n",
       "      <td>103305.785124</td>\n",
       "    </tr>\n",
       "    <tr>\n",
       "      <td>2018</td>\n",
       "      <td>97773.557999</td>\n",
       "      <td>8519</td>\n",
       "      <td>95689.655172</td>\n",
       "    </tr>\n",
       "    <tr>\n",
       "      <td>2015</td>\n",
       "      <td>104614.200153</td>\n",
       "      <td>1191</td>\n",
       "      <td>93414.634146</td>\n",
       "    </tr>\n",
       "    <tr>\n",
       "      <td>2017</td>\n",
       "      <td>97621.876525</td>\n",
       "      <td>8190</td>\n",
       "      <td>92565.088448</td>\n",
       "    </tr>\n",
       "    <tr>\n",
       "      <td>2016</td>\n",
       "      <td>98322.343248</td>\n",
       "      <td>2783</td>\n",
       "      <td>91743.119266</td>\n",
       "    </tr>\n",
       "  </tbody>\n",
       "</table>\n",
       "</div>"
      ],
      "text/plain": [
       "               mean  count         median\n",
       "year                                     \n",
       "2014  124830.426426    137  107000.000000\n",
       "2019  107123.780305   2879  103305.785124\n",
       "2018   97773.557999   8519   95689.655172\n",
       "2015  104614.200153   1191   93414.634146\n",
       "2017   97621.876525   8190   92565.088448\n",
       "2016   98322.343248   2783   91743.119266"
      ]
     },
     "execution_count": 85,
     "metadata": {},
     "output_type": "execute_result"
    },
    {
     "data": {
      "image/png": "[encoded data removed]",
      "text/plain": [
       "<Figure size 432x288 with 1 Axes>"
      ]
     },
     "metadata": {
      "needs_background": "light"
     },
     "output_type": "display_data"
    }
   ],
   "source": [
    "table_year_exp = df.pivot_table(index='year', values='price_per_sqm', aggfunc = ['mean', 'count', 'median'])\n",
    "table_year_exp.columns = ['mean', 'count', 'median']\n",
    "table_year_exp.plot(y='median')\n",
    "table_year_exp.sort_values('median', ascending = False)"
   ]
  },
  {
   "cell_type": "markdown",
   "metadata": {},
   "source": [
    "Мы можем наблюдать как с 2014 до 2016 года цены сильно падали, но с 2017 года цены дали резкий рост"
   ]
  },
  {
   "cell_type": "markdown",
   "metadata": {},
   "source": [
    "<div class=\"alert alert-block alert-warning\">\n",
    "<b>Remarks:</b> \n",
    "\n",
    "проанализируй также количесвто объявлений по категориям"
   ]
  },
  {
   "cell_type": "code",
   "execution_count": null,
   "metadata": {},
   "outputs": [],
   "source": []
  },
  {
   "cell_type": "code",
   "execution_count": 59,
   "metadata": {},
   "outputs": [
    {
     "name": "stdout",
     "output_type": "stream",
     "text": [
      "                   count           mean\n",
      "locality_name                          \n",
      "Санкт-Петербург    15721  114849.008794\n",
      "посёлок Мурино       522   85752.189195\n",
      "посёлок Шушары       440   78677.364217\n",
      "Всеволожск           398   68654.473986\n",
      "Пушкин               369  103125.819291\n",
      "Колпино              338   75424.579098\n",
      "посёлок Парголово    327   90175.913458\n",
      "Гатчина              307   68746.146763\n",
      "деревня Кудрово      299   92473.547576\n",
      "Выборг               237   58141.909153\n",
      "count     15721.000000\n",
      "mean     114849.008794\n",
      "dtype: float64\n",
      "count      237.000000\n",
      "mean     58141.909153\n",
      "dtype: float64\n"
     ]
    }
   ],
   "source": [
    "locality_name_table = df.pivot_table(index = 'locality_name', values = 'price_per_sqm', aggfunc=['count', 'mean'])\n",
    "locality_name_table.columns = ['count', 'mean']\n",
    "locality_name_table = locality_name_table.sort_values('count', ascending = False).head(10)\n",
    "print(locality_name_table)\n",
    "print(locality_name_table.max())\n",
    "print(locality_name_table.min())"
   ]
  },
  {
   "cell_type": "markdown",
   "metadata": {},
   "source": [
    "Самая высокая цена на жилье в Санкт-Петербурге, а самая низкая в Выборге"
   ]
  },
  {
   "cell_type": "code",
   "execution_count": 60,
   "metadata": {},
   "outputs": [
    {
     "name": "stdout",
     "output_type": "stream",
     "text": [
      "        price_per_sqm\n",
      "center               \n",
      "0       187324.130319\n",
      "1       166603.755531\n",
      "2       146662.860056\n",
      "3       129416.344615\n",
      "4       137475.497055\n",
      "5       146979.232519\n",
      "6       152277.893519\n",
      "7       141399.731456\n",
      "8       120581.349830\n",
      "9       110012.549686\n",
      "10      114433.791617\n",
      "11      106790.883882\n",
      "12      108295.769255\n",
      "13      107209.143992\n",
      "14      104986.483351\n",
      "15      101883.116013\n",
      "16      100085.601721\n",
      "17       94095.872357\n",
      "18       94831.953162\n",
      "19       95434.377295\n",
      "20      107046.166047\n",
      "21       91492.688149\n",
      "22       88714.696974\n",
      "23       92720.641577\n",
      "24       82440.343912\n",
      "25       91136.018511\n",
      "26       75171.911041\n",
      "27      132115.709459\n",
      "28       81840.638722\n",
      "29       62482.404228\n"
     ]
    },
    {
     "data": {
      "image/png": "[encoded data removed]",
      "text/plain": [
       "<Figure size 432x288 with 1 Axes>"
      ]
     },
     "metadata": {
      "needs_background": "light"
     },
     "output_type": "display_data"
    }
   ],
   "source": [
    "df['center'] = df['cityCenters_nearest']/1000\n",
    "df['center'] = df['center'].fillna(10)\n",
    "df['center'] = df['center'].astype('int')\n",
    "table_dis = df.query('locality_name == \"Санкт-Петербург\"').pivot_table(index = 'center', values = 'price_per_sqm', aggfunc = 'mean')\n",
    "table_dis.plot()\n",
    "print(table_dis)"
   ]
  },
  {
   "cell_type": "markdown",
   "metadata": {},
   "source": [
    "Исследовав график можно понять, что область центра - это 5 км"
   ]
  },
  {
   "cell_type": "markdown",
   "metadata": {},
   "source": [
    "<div class=\"alert alert-block alert-success\">\n",
    "<b>Success:</b> согалсен с выбранным радиусом"
   ]
  },
  {
   "cell_type": "code",
   "execution_count": 61,
   "metadata": {},
   "outputs": [],
   "source": [
    "segment = df.query('center <= 5 and locality_name == \"Санкт-Петербург\"')"
   ]
  },
  {
   "cell_type": "code",
   "execution_count": 62,
   "metadata": {},
   "outputs": [
    {
     "data": {
      "text/html": [
       "<div>\n",
       "<style scoped>\n",
       "    .dataframe tbody tr th:only-of-type {\n",
       "        vertical-align: middle;\n",
       "    }\n",
       "\n",
       "    .dataframe tbody tr th {\n",
       "        vertical-align: top;\n",
       "    }\n",
       "\n",
       "    .dataframe thead th {\n",
       "        text-align: right;\n",
       "    }\n",
       "</style>\n",
       "<table border=\"1\" class=\"dataframe\">\n",
       "  <thead>\n",
       "    <tr style=\"text-align: right;\">\n",
       "      <th></th>\n",
       "      <th>mean</th>\n",
       "      <th>count</th>\n",
       "      <th>median</th>\n",
       "    </tr>\n",
       "    <tr>\n",
       "      <th>rooms</th>\n",
       "      <th></th>\n",
       "      <th></th>\n",
       "      <th></th>\n",
       "    </tr>\n",
       "  </thead>\n",
       "  <tbody>\n",
       "    <tr>\n",
       "      <td>1</td>\n",
       "      <td>155504.390307</td>\n",
       "      <td>379</td>\n",
       "      <td>142307.692308</td>\n",
       "    </tr>\n",
       "    <tr>\n",
       "      <td>2</td>\n",
       "      <td>144525.935483</td>\n",
       "      <td>786</td>\n",
       "      <td>127720.081791</td>\n",
       "    </tr>\n",
       "    <tr>\n",
       "      <td>3</td>\n",
       "      <td>141663.448265</td>\n",
       "      <td>870</td>\n",
       "      <td>117267.886179</td>\n",
       "    </tr>\n",
       "    <tr>\n",
       "      <td>4</td>\n",
       "      <td>132580.727266</td>\n",
       "      <td>434</td>\n",
       "      <td>106860.821507</td>\n",
       "    </tr>\n",
       "    <tr>\n",
       "      <td>5</td>\n",
       "      <td>143232.234654</td>\n",
       "      <td>207</td>\n",
       "      <td>104026.845638</td>\n",
       "    </tr>\n",
       "  </tbody>\n",
       "</table>\n",
       "</div>"
      ],
      "text/plain": [
       "                mean  count         median\n",
       "rooms                                     \n",
       "1      155504.390307    379  142307.692308\n",
       "2      144525.935483    786  127720.081791\n",
       "3      141663.448265    870  117267.886179\n",
       "4      132580.727266    434  106860.821507\n",
       "5      143232.234654    207  104026.845638"
      ]
     },
     "execution_count": 62,
     "metadata": {},
     "output_type": "execute_result"
    },
    {
     "data": {
      "image/png": "[encoded data removed]",
      "text/plain": [
       "<Figure size 432x288 with 1 Axes>"
      ]
     },
     "metadata": {
      "needs_background": "light"
     },
     "output_type": "display_data"
    }
   ],
   "source": [
    "spb_rooms = segment.pivot_table(index = 'rooms', values = 'price_per_sqm', aggfunc = ['mean', 'count', 'median'])\n",
    "spb_rooms.columns = ['mean', 'count', 'median']\n",
    "spb_rooms.query('count > 80').plot(y = 'median')\n",
    "spb_rooms.query('count > 80').sort_values('median', ascending = False) # цена и количество комнат"
   ]
  },
  {
   "cell_type": "markdown",
   "metadata": {},
   "source": [
    "Здесь мы можем видеть, что чем меньше комнат, тем дороже"
   ]
  },
  {
   "cell_type": "code",
   "execution_count": 63,
   "metadata": {},
   "outputs": [
    {
     "data": {
      "text/html": [
       "<div>\n",
       "<style scoped>\n",
       "    .dataframe tbody tr th:only-of-type {\n",
       "        vertical-align: middle;\n",
       "    }\n",
       "\n",
       "    .dataframe tbody tr th {\n",
       "        vertical-align: top;\n",
       "    }\n",
       "\n",
       "    .dataframe thead th {\n",
       "        text-align: right;\n",
       "    }\n",
       "</style>\n",
       "<table border=\"1\" class=\"dataframe\">\n",
       "  <thead>\n",
       "    <tr style=\"text-align: right;\">\n",
       "      <th></th>\n",
       "      <th>mean</th>\n",
       "      <th>count</th>\n",
       "      <th>median</th>\n",
       "    </tr>\n",
       "    <tr>\n",
       "      <th>ceiling_height</th>\n",
       "      <th></th>\n",
       "      <th></th>\n",
       "      <th></th>\n",
       "    </tr>\n",
       "  </thead>\n",
       "  <tbody>\n",
       "    <tr>\n",
       "      <td>3.0</td>\n",
       "      <td>146660.747706</td>\n",
       "      <td>352</td>\n",
       "      <td>131312.184391</td>\n",
       "    </tr>\n",
       "    <tr>\n",
       "      <td>3.1</td>\n",
       "      <td>148998.063803</td>\n",
       "      <td>98</td>\n",
       "      <td>131089.404131</td>\n",
       "    </tr>\n",
       "    <tr>\n",
       "      <td>2.7</td>\n",
       "      <td>133290.388691</td>\n",
       "      <td>100</td>\n",
       "      <td>128087.941764</td>\n",
       "    </tr>\n",
       "    <tr>\n",
       "      <td>2.8</td>\n",
       "      <td>133677.824177</td>\n",
       "      <td>92</td>\n",
       "      <td>126709.369315</td>\n",
       "    </tr>\n",
       "    <tr>\n",
       "      <td>0.0</td>\n",
       "      <td>144460.980385</td>\n",
       "      <td>969</td>\n",
       "      <td>121538.461538</td>\n",
       "    </tr>\n",
       "    <tr>\n",
       "      <td>3.2</td>\n",
       "      <td>143143.388088</td>\n",
       "      <td>154</td>\n",
       "      <td>120116.512489</td>\n",
       "    </tr>\n",
       "    <tr>\n",
       "      <td>3.5</td>\n",
       "      <td>153518.490643</td>\n",
       "      <td>101</td>\n",
       "      <td>114624.505929</td>\n",
       "    </tr>\n",
       "  </tbody>\n",
       "</table>\n",
       "</div>"
      ],
      "text/plain": [
       "                         mean  count         median\n",
       "ceiling_height                                     \n",
       "3.0             146660.747706    352  131312.184391\n",
       "3.1             148998.063803     98  131089.404131\n",
       "2.7             133290.388691    100  128087.941764\n",
       "2.8             133677.824177     92  126709.369315\n",
       "0.0             144460.980385    969  121538.461538\n",
       "3.2             143143.388088    154  120116.512489\n",
       "3.5             153518.490643    101  114624.505929"
      ]
     },
     "execution_count": 63,
     "metadata": {},
     "output_type": "execute_result"
    },
    {
     "data": {
      "image/png": "[encoded data removed]",
      "text/plain": [
       "<Figure size 432x288 with 1 Axes>"
      ]
     },
     "metadata": {
      "needs_background": "light"
     },
     "output_type": "display_data"
    }
   ],
   "source": [
    "spb_ch = segment.pivot_table(index = 'ceiling_height', values = 'price_per_sqm', aggfunc = ['mean', 'count', 'median'])\n",
    "spb_ch.columns = ['mean', 'count', 'median']\n",
    "spb_ch.query('count > 80').plot(y = 'median')\n",
    "spb_ch.query('count > 80').sort_values('median', ascending = False) # цена и высота потолков"
   ]
  },
  {
   "cell_type": "code",
   "execution_count": 64,
   "metadata": {},
   "outputs": [
    {
     "data": {
      "text/html": [
       "<div>\n",
       "<style scoped>\n",
       "    .dataframe tbody tr th:only-of-type {\n",
       "        vertical-align: middle;\n",
       "    }\n",
       "\n",
       "    .dataframe tbody tr th {\n",
       "        vertical-align: top;\n",
       "    }\n",
       "\n",
       "    .dataframe thead th {\n",
       "        text-align: right;\n",
       "    }\n",
       "</style>\n",
       "<table border=\"1\" class=\"dataframe\">\n",
       "  <thead>\n",
       "    <tr style=\"text-align: right;\">\n",
       "      <th></th>\n",
       "      <th>mean</th>\n",
       "      <th>count</th>\n",
       "      <th>median</th>\n",
       "    </tr>\n",
       "    <tr>\n",
       "      <th>ceiling_height</th>\n",
       "      <th></th>\n",
       "      <th></th>\n",
       "      <th></th>\n",
       "    </tr>\n",
       "  </thead>\n",
       "  <tbody>\n",
       "    <tr>\n",
       "      <td>3.0</td>\n",
       "      <td>146660.747706</td>\n",
       "      <td>352</td>\n",
       "      <td>131312.184391</td>\n",
       "    </tr>\n",
       "    <tr>\n",
       "      <td>3.1</td>\n",
       "      <td>148998.063803</td>\n",
       "      <td>98</td>\n",
       "      <td>131089.404131</td>\n",
       "    </tr>\n",
       "    <tr>\n",
       "      <td>2.7</td>\n",
       "      <td>133290.388691</td>\n",
       "      <td>100</td>\n",
       "      <td>128087.941764</td>\n",
       "    </tr>\n",
       "    <tr>\n",
       "      <td>2.8</td>\n",
       "      <td>133677.824177</td>\n",
       "      <td>92</td>\n",
       "      <td>126709.369315</td>\n",
       "    </tr>\n",
       "    <tr>\n",
       "      <td>0.0</td>\n",
       "      <td>144460.980385</td>\n",
       "      <td>969</td>\n",
       "      <td>121538.461538</td>\n",
       "    </tr>\n",
       "    <tr>\n",
       "      <td>3.2</td>\n",
       "      <td>143143.388088</td>\n",
       "      <td>154</td>\n",
       "      <td>120116.512489</td>\n",
       "    </tr>\n",
       "    <tr>\n",
       "      <td>3.5</td>\n",
       "      <td>153518.490643</td>\n",
       "      <td>101</td>\n",
       "      <td>114624.505929</td>\n",
       "    </tr>\n",
       "  </tbody>\n",
       "</table>\n",
       "</div>"
      ],
      "text/plain": [
       "                         mean  count         median\n",
       "ceiling_height                                     \n",
       "3.0             146660.747706    352  131312.184391\n",
       "3.1             148998.063803     98  131089.404131\n",
       "2.7             133290.388691    100  128087.941764\n",
       "2.8             133677.824177     92  126709.369315\n",
       "0.0             144460.980385    969  121538.461538\n",
       "3.2             143143.388088    154  120116.512489\n",
       "3.5             153518.490643    101  114624.505929"
      ]
     },
     "execution_count": 64,
     "metadata": {},
     "output_type": "execute_result"
    },
    {
     "data": {
      "image/png": "[encoded data removed]",
      "text/plain": [
       "<Figure size 432x288 with 1 Axes>"
      ]
     },
     "metadata": {
      "needs_background": "light"
     },
     "output_type": "display_data"
    }
   ],
   "source": [
    "spb_ch = segment.pivot_table(index = 'ceiling_height', values = 'price_per_sqm', aggfunc = ['mean', 'count', 'median'])\n",
    "spb_ch.columns = ['mean', 'count', 'median']\n",
    "spb_ch.query('count > 80').plot(y = 'median')\n",
    "spb_ch.query('count > 80').sort_values('median', ascending = False) # цена и высота потолков"
   ]
  },
  {
   "cell_type": "markdown",
   "metadata": {},
   "source": [
    "Чем выше потолки, тем выше цена"
   ]
  },
  {
   "cell_type": "code",
   "execution_count": 65,
   "metadata": {},
   "outputs": [
    {
     "name": "stdout",
     "output_type": "stream",
     "text": [
      "                        mean  count         median\n",
      "type_of_floor                                     \n",
      "первый         122927.778134    328  109258.747752\n",
      "последний      144932.083385    528  118521.583185\n"
     ]
    },
    {
     "data": {
      "image/png": "[encoded data removed]",
      "text/plain": [
       "<Figure size 432x288 with 1 Axes>"
      ]
     },
     "metadata": {
      "needs_background": "light"
     },
     "output_type": "display_data"
    }
   ],
   "source": [
    "spb_floor = segment.query('type_of_floor != \"другой\"').pivot_table(index = 'type_of_floor', values = 'price_per_sqm', aggfunc = ['mean', 'count', 'median'])\n",
    "spb_floor.columns = ['mean', 'count', 'median']\n",
    "spb_floor.plot(y = 'median')\n",
    "print(spb_floor) #цена и этаж"
   ]
  },
  {
   "cell_type": "markdown",
   "metadata": {},
   "source": [
    "Чем выше этаж, тем дороже"
   ]
  },
  {
   "cell_type": "code",
   "execution_count": 66,
   "metadata": {},
   "outputs": [
    {
     "data": {
      "text/plain": [
       "<matplotlib.axes._subplots.AxesSubplot at 0x7f8394e76f10>"
      ]
     },
     "execution_count": 66,
     "metadata": {},
     "output_type": "execute_result"
    },
    {
     "data": {
      "image/png": "[encoded data removed]",
      "text/plain": [
       "<Figure size 432x288 with 1 Axes>"
      ]
     },
     "metadata": {
      "needs_background": "light"
     },
     "output_type": "display_data"
    }
   ],
   "source": [
    "segment.plot(kind = 'scatter', y = 'price_per_sqm', x = 'cityCenters_nearest') #цена и расстояние до центра"
   ]
  },
  {
   "cell_type": "code",
   "execution_count": 67,
   "metadata": {},
   "outputs": [
    {
     "data": {
      "text/html": [
       "<div>\n",
       "<style scoped>\n",
       "    .dataframe tbody tr th:only-of-type {\n",
       "        vertical-align: middle;\n",
       "    }\n",
       "\n",
       "    .dataframe tbody tr th {\n",
       "        vertical-align: top;\n",
       "    }\n",
       "\n",
       "    .dataframe thead th {\n",
       "        text-align: right;\n",
       "    }\n",
       "</style>\n",
       "<table border=\"1\" class=\"dataframe\">\n",
       "  <thead>\n",
       "    <tr style=\"text-align: right;\">\n",
       "      <th></th>\n",
       "      <th>mean</th>\n",
       "      <th>count</th>\n",
       "      <th>median</th>\n",
       "    </tr>\n",
       "    <tr>\n",
       "      <th>day</th>\n",
       "      <th></th>\n",
       "      <th></th>\n",
       "      <th></th>\n",
       "    </tr>\n",
       "  </thead>\n",
       "  <tbody>\n",
       "    <tr>\n",
       "      <td>0</td>\n",
       "      <td>143136.882776</td>\n",
       "      <td>439</td>\n",
       "      <td>126470.588235</td>\n",
       "    </tr>\n",
       "    <tr>\n",
       "      <td>6</td>\n",
       "      <td>144910.023460</td>\n",
       "      <td>146</td>\n",
       "      <td>125116.822430</td>\n",
       "    </tr>\n",
       "    <tr>\n",
       "      <td>5</td>\n",
       "      <td>152918.804312</td>\n",
       "      <td>196</td>\n",
       "      <td>124566.255972</td>\n",
       "    </tr>\n",
       "    <tr>\n",
       "      <td>4</td>\n",
       "      <td>142627.880986</td>\n",
       "      <td>481</td>\n",
       "      <td>123728.813559</td>\n",
       "    </tr>\n",
       "    <tr>\n",
       "      <td>2</td>\n",
       "      <td>141639.089161</td>\n",
       "      <td>479</td>\n",
       "      <td>121580.547112</td>\n",
       "    </tr>\n",
       "    <tr>\n",
       "      <td>3</td>\n",
       "      <td>143944.741396</td>\n",
       "      <td>585</td>\n",
       "      <td>120000.000000</td>\n",
       "    </tr>\n",
       "    <tr>\n",
       "      <td>1</td>\n",
       "      <td>142019.113335</td>\n",
       "      <td>509</td>\n",
       "      <td>119250.000000</td>\n",
       "    </tr>\n",
       "  </tbody>\n",
       "</table>\n",
       "</div>"
      ],
      "text/plain": [
       "              mean  count         median\n",
       "day                                     \n",
       "0    143136.882776    439  126470.588235\n",
       "6    144910.023460    146  125116.822430\n",
       "5    152918.804312    196  124566.255972\n",
       "4    142627.880986    481  123728.813559\n",
       "2    141639.089161    479  121580.547112\n",
       "3    143944.741396    585  120000.000000\n",
       "1    142019.113335    509  119250.000000"
      ]
     },
     "execution_count": 67,
     "metadata": {},
     "output_type": "execute_result"
    },
    {
     "data": {
      "image/png": "[encoded data removed]",
      "text/plain": [
       "<Figure size 432x288 with 1 Axes>"
      ]
     },
     "metadata": {
      "needs_background": "light"
     },
     "output_type": "display_data"
    }
   ],
   "source": [
    "spb_day_exposition = segment.pivot_table(index = 'day', values = 'price_per_sqm', aggfunc = ['mean', 'count', 'median'])\n",
    "spb_day_exposition.columns = ['mean', 'count', 'median']\n",
    "spb_day_exposition.plot(y = 'median')\n",
    "spb_day_exposition.sort_values('median', ascending = False) #цена и день недели"
   ]
  },
  {
   "cell_type": "markdown",
   "metadata": {},
   "source": [
    "Мы можем видеть спад цен ко вторнику и их рост к субботе"
   ]
  },
  {
   "cell_type": "code",
   "execution_count": 68,
   "metadata": {},
   "outputs": [
    {
     "data": {
      "text/html": [
       "<div>\n",
       "<style scoped>\n",
       "    .dataframe tbody tr th:only-of-type {\n",
       "        vertical-align: middle;\n",
       "    }\n",
       "\n",
       "    .dataframe tbody tr th {\n",
       "        vertical-align: top;\n",
       "    }\n",
       "\n",
       "    .dataframe thead th {\n",
       "        text-align: right;\n",
       "    }\n",
       "</style>\n",
       "<table border=\"1\" class=\"dataframe\">\n",
       "  <thead>\n",
       "    <tr style=\"text-align: right;\">\n",
       "      <th></th>\n",
       "      <th>mean</th>\n",
       "      <th>count</th>\n",
       "      <th>median</th>\n",
       "    </tr>\n",
       "    <tr>\n",
       "      <th>month</th>\n",
       "      <th></th>\n",
       "      <th></th>\n",
       "      <th></th>\n",
       "    </tr>\n",
       "  </thead>\n",
       "  <tbody>\n",
       "    <tr>\n",
       "      <td>3</td>\n",
       "      <td>149479.650818</td>\n",
       "      <td>289</td>\n",
       "      <td>129907.621247</td>\n",
       "    </tr>\n",
       "    <tr>\n",
       "      <td>1</td>\n",
       "      <td>145384.507652</td>\n",
       "      <td>179</td>\n",
       "      <td>126966.292135</td>\n",
       "    </tr>\n",
       "    <tr>\n",
       "      <td>4</td>\n",
       "      <td>152666.405439</td>\n",
       "      <td>262</td>\n",
       "      <td>126561.231041</td>\n",
       "    </tr>\n",
       "    <tr>\n",
       "      <td>8</td>\n",
       "      <td>145040.857206</td>\n",
       "      <td>208</td>\n",
       "      <td>125598.455598</td>\n",
       "    </tr>\n",
       "    <tr>\n",
       "      <td>9</td>\n",
       "      <td>146563.178833</td>\n",
       "      <td>239</td>\n",
       "      <td>122631.578947</td>\n",
       "    </tr>\n",
       "    <tr>\n",
       "      <td>10</td>\n",
       "      <td>141304.361880</td>\n",
       "      <td>236</td>\n",
       "      <td>122233.220489</td>\n",
       "    </tr>\n",
       "    <tr>\n",
       "      <td>12</td>\n",
       "      <td>147951.840574</td>\n",
       "      <td>195</td>\n",
       "      <td>121590.909091</td>\n",
       "    </tr>\n",
       "    <tr>\n",
       "      <td>2</td>\n",
       "      <td>144427.512235</td>\n",
       "      <td>321</td>\n",
       "      <td>121283.255086</td>\n",
       "    </tr>\n",
       "    <tr>\n",
       "      <td>11</td>\n",
       "      <td>138775.142534</td>\n",
       "      <td>289</td>\n",
       "      <td>120000.000000</td>\n",
       "    </tr>\n",
       "    <tr>\n",
       "      <td>5</td>\n",
       "      <td>134252.693666</td>\n",
       "      <td>153</td>\n",
       "      <td>117391.304348</td>\n",
       "    </tr>\n",
       "    <tr>\n",
       "      <td>6</td>\n",
       "      <td>132453.773836</td>\n",
       "      <td>235</td>\n",
       "      <td>116872.427984</td>\n",
       "    </tr>\n",
       "    <tr>\n",
       "      <td>7</td>\n",
       "      <td>140429.914133</td>\n",
       "      <td>229</td>\n",
       "      <td>115492.957746</td>\n",
       "    </tr>\n",
       "  </tbody>\n",
       "</table>\n",
       "</div>"
      ],
      "text/plain": [
       "                mean  count         median\n",
       "month                                     \n",
       "3      149479.650818    289  129907.621247\n",
       "1      145384.507652    179  126966.292135\n",
       "4      152666.405439    262  126561.231041\n",
       "8      145040.857206    208  125598.455598\n",
       "9      146563.178833    239  122631.578947\n",
       "10     141304.361880    236  122233.220489\n",
       "12     147951.840574    195  121590.909091\n",
       "2      144427.512235    321  121283.255086\n",
       "11     138775.142534    289  120000.000000\n",
       "5      134252.693666    153  117391.304348\n",
       "6      132453.773836    235  116872.427984\n",
       "7      140429.914133    229  115492.957746"
      ]
     },
     "execution_count": 68,
     "metadata": {},
     "output_type": "execute_result"
    },
    {
     "data": {
      "image/png": "[encoded data removed]",
      "text/plain": [
       "<Figure size 432x288 with 1 Axes>"
      ]
     },
     "metadata": {
      "needs_background": "light"
     },
     "output_type": "display_data"
    }
   ],
   "source": [
    "spb_month_exposition = segment.pivot_table(index = 'month', values = 'price_per_sqm', aggfunc = ['mean', 'count', 'median'])\n",
    "spb_month_exposition.columns = ['mean', 'count', 'median']\n",
    "spb_month_exposition.plot(y = 'median')\n",
    "spb_month_exposition.sort_values('median', ascending = False) #цена и месяц"
   ]
  },
  {
   "cell_type": "markdown",
   "metadata": {},
   "source": [
    "Самые высокие цены в мерте и августе, самые низкие в мае и июле"
   ]
  },
  {
   "cell_type": "code",
   "execution_count": 69,
   "metadata": {},
   "outputs": [
    {
     "data": {
      "text/html": [
       "<div>\n",
       "<style scoped>\n",
       "    .dataframe tbody tr th:only-of-type {\n",
       "        vertical-align: middle;\n",
       "    }\n",
       "\n",
       "    .dataframe tbody tr th {\n",
       "        vertical-align: top;\n",
       "    }\n",
       "\n",
       "    .dataframe thead th {\n",
       "        text-align: right;\n",
       "    }\n",
       "</style>\n",
       "<table border=\"1\" class=\"dataframe\">\n",
       "  <thead>\n",
       "    <tr style=\"text-align: right;\">\n",
       "      <th></th>\n",
       "      <th>mean</th>\n",
       "      <th>count</th>\n",
       "      <th>median</th>\n",
       "    </tr>\n",
       "    <tr>\n",
       "      <th>year</th>\n",
       "      <th></th>\n",
       "      <th></th>\n",
       "      <th></th>\n",
       "    </tr>\n",
       "  </thead>\n",
       "  <tbody>\n",
       "    <tr>\n",
       "      <td>2019</td>\n",
       "      <td>161176.149562</td>\n",
       "      <td>299</td>\n",
       "      <td>135483.870968</td>\n",
       "    </tr>\n",
       "    <tr>\n",
       "      <td>2018</td>\n",
       "      <td>141004.766540</td>\n",
       "      <td>833</td>\n",
       "      <td>124750.000000</td>\n",
       "    </tr>\n",
       "    <tr>\n",
       "      <td>2017</td>\n",
       "      <td>142035.087774</td>\n",
       "      <td>1018</td>\n",
       "      <td>120042.216312</td>\n",
       "    </tr>\n",
       "    <tr>\n",
       "      <td>2015</td>\n",
       "      <td>145404.861949</td>\n",
       "      <td>264</td>\n",
       "      <td>117420.484389</td>\n",
       "    </tr>\n",
       "    <tr>\n",
       "      <td>2016</td>\n",
       "      <td>135045.984351</td>\n",
       "      <td>398</td>\n",
       "      <td>114283.036401</td>\n",
       "    </tr>\n",
       "  </tbody>\n",
       "</table>\n",
       "</div>"
      ],
      "text/plain": [
       "               mean  count         median\n",
       "year                                     \n",
       "2019  161176.149562    299  135483.870968\n",
       "2018  141004.766540    833  124750.000000\n",
       "2017  142035.087774   1018  120042.216312\n",
       "2015  145404.861949    264  117420.484389\n",
       "2016  135045.984351    398  114283.036401"
      ]
     },
     "execution_count": 69,
     "metadata": {},
     "output_type": "execute_result"
    },
    {
     "data": {
      "image/png": "[encoded data removed]",
      "text/plain": [
       "<Figure size 432x288 with 1 Axes>"
      ]
     },
     "metadata": {
      "needs_background": "light"
     },
     "output_type": "display_data"
    }
   ],
   "source": [
    "spb_year_exposition = segment.pivot_table(index = 'year', values = 'price_per_sqm', aggfunc = ['mean', 'count', 'median'])\n",
    "spb_year_exposition.columns = ['mean', 'count', 'median']\n",
    "spb_year_exposition.query('count > 80').plot(y = 'median')\n",
    "spb_year_exposition.query('count > 80').sort_values('median', ascending = False)#цена и год"
   ]
  },
  {
   "cell_type": "markdown",
   "metadata": {},
   "source": [
    "Мы можем наблюдать рост цены начиная с 2016 года"
   ]
  },
  {
   "cell_type": "markdown",
   "metadata": {},
   "source": [
    "## Общий вывод"
   ]
  },
  {
   "cell_type": "markdown",
   "metadata": {},
   "source": [
    "Проделав множество манипуляций, мы создали свои таблицы с новыми данными, добавив как основную переменную цену за 1 квадратный метр. Было обработано время размещения объявлений. Были определены редкие и выбивающиеся значения. Множество команд было реализовано через. Также мы узнали, что  цена зависит от площади, числа комнат, удалённости от центра. Было выявлено, что в Санкт-Петербурге наибольшее количество объявления. Через один из графиков мы увидели, что цены на квартиры в 2016 и 2017 гг. быди ниже, чем цены в этом же временном диапозоне в Санкт-Петербурге. Также хочу подметить, что цена сильно зависит от  радиуса центра города, который равен 5 км."
   ]
  },
  {
   "cell_type": "markdown",
   "metadata": {},
   "source": [
    "<div class=\"alert alert-block alert-warning\">\n",
    "    \n",
    "<b>Remarks:</b>  Также давай напишем информативный общий вывод. Подумай об этом так: большинство заказчиков мало понимают в датасаенсе и начнут читать работу именно с него. Вывод должен содержать все обнаруженные инсайды и главное цифры.</div>"
   ]
  },
  {
   "cell_type": "markdown",
   "metadata": {},
   "source": [
    "## Чек-лист готовности проекта\n",
    "\n",
    "Поставьте 'x' в выполненных пунктах. Далее нажмите Shift+Enter."
   ]
  },
  {
   "cell_type": "markdown",
   "metadata": {},
   "source": [
    "- [x]  открыт файл\n",
    "- [x]  файлы изучены (выведены первые строки, метод info())\n",
    "- [x]  определены пропущенные значения\n",
    "- [x]  заполнены пропущенные значения\n",
    "- [x]  есть пояснение, какие пропущенные значения обнаружены\n",
    "- [x]  изменены типы данных\n",
    "- [x]  есть пояснение, в каких столбцах изменены типы и почему\n",
    "- [x]  посчитано и добавлено в таблицу: цена квадратного метра\n",
    "- [x]  посчитано и добавлено в таблицу: день недели, месяц и год публикации объявления\n",
    "- [x]  посчитано и добавлено в таблицу: этаж квартиры; варианты — первый, последний, другой\n",
    "- [x]  посчитано и добавлено в таблицу: соотношение жилой и общей площади, а также отношение площади кухни к общей\n",
    "- [x]  изучены следующие параметры: площадь, цена, число комнат, высота потолков\n",
    "- [x]  построены гистограммы для каждого параметра\n",
    "- [x]  выполнено задание: \"Изучите время продажи квартиры. Постройте гистограмму. Посчитайте среднее и медиану. Опишите, сколько обычно занимает продажа. Когда можно считать, что продажи прошли очень быстро, а когда необычно долго?\"\n",
    "- [x]  выполнено задание: \"Уберите редкие и выбивающиеся значения. Опишите, какие особенности обнаружили.\"\n",
    "- [x]  выполнено задание: \"Какие факторы больше всего влияют на стоимость квартиры? Изучите, зависит ли цена от квадратного метра, числа комнат, этажа (первого или последнего), удалённости от центра. Также изучите зависимость от даты размещения: дня недели, месяца и года. \"Выберите 10 населённых пунктов с наибольшим числом объявлений. Посчитайте среднюю цену квадратного метра в этих населённых пунктах. Выделите населённые пункты с самой высокой и низкой стоимостью жилья. Эти данные можно найти по имени в столбце '*locality_name'*. \"\n",
    "- [x]  выполнено задание: \"Изучите предложения квартир: для каждой квартиры есть информация о расстоянии до центра. Выделите квартиры в Санкт-Петербурге (*'locality_name'*). Ваша задача — выяснить, какая область входит в центр. Создайте столбец с расстоянием до центра в километрах: округлите до целых значений. После этого посчитайте среднюю цену для каждого километра. Постройте график: он должен показывать, как цена зависит от удалённости от центра. Определите границу, где график сильно меняется — это и будет центральная зона. \"\n",
    "- [x]  выполнено задание: \"Выделите сегмент квартир в центре. Проанализируйте эту территорию и изучите следующие параметры: площадь, цена, число комнат, высота потолков. Также выделите факторы, которые влияют на стоимость квартиры (число комнат, этаж, удалённость от центра, дата размещения объявления). Сделайте выводы. Отличаются ли они от общих выводов по всему городу?\"\n",
    "- [x]  в каждом этапе есть выводы\n",
    "- [x]  есть общий вывод"
   ]
  }
 ],
 "metadata": {
  "ExecuteTimeLog": [
   {
    "duration": 703,
    "start_time": "2021-12-02T06:28:39.670Z"
   },
   {
    "duration": 64,
    "start_time": "2021-12-02T06:29:05.422Z"
   },
   {
    "duration": 69,
    "start_time": "2021-12-02T06:29:11.587Z"
   },
   {
    "duration": 76,
    "start_time": "2021-12-02T06:29:20.870Z"
   },
   {
    "duration": 64,
    "start_time": "2021-12-02T06:29:55.425Z"
   },
   {
    "duration": 1547,
    "start_time": "2021-12-02T06:30:07.022Z"
   },
   {
    "duration": 6,
    "start_time": "2021-12-02T06:30:20.339Z"
   },
   {
    "duration": 39,
    "start_time": "2021-12-02T06:30:33.801Z"
   },
   {
    "duration": 29,
    "start_time": "2021-12-02T06:30:39.025Z"
   },
   {
    "duration": 36,
    "start_time": "2021-12-02T06:30:47.386Z"
   },
   {
    "duration": 9,
    "start_time": "2021-12-02T06:31:03.381Z"
   },
   {
    "duration": 10,
    "start_time": "2021-12-02T06:31:33.585Z"
   },
   {
    "duration": 9,
    "start_time": "2021-12-02T06:31:40.242Z"
   },
   {
    "duration": 70,
    "start_time": "2021-12-02T06:33:32.849Z"
   },
   {
    "duration": 30,
    "start_time": "2021-12-02T06:33:36.171Z"
   },
   {
    "duration": 81,
    "start_time": "2021-12-02T06:33:40.965Z"
   },
   {
    "duration": 69,
    "start_time": "2021-12-02T06:33:43.820Z"
   },
   {
    "duration": 12,
    "start_time": "2021-12-02T06:33:51.717Z"
   },
   {
    "duration": 3,
    "start_time": "2021-12-02T06:40:46.192Z"
   },
   {
    "duration": 9,
    "start_time": "2021-12-02T06:51:29.366Z"
   },
   {
    "duration": 10,
    "start_time": "2021-12-02T07:02:08.605Z"
   },
   {
    "duration": 6,
    "start_time": "2021-12-02T07:02:08.963Z"
   },
   {
    "duration": 10,
    "start_time": "2021-12-02T07:06:45.631Z"
   },
   {
    "duration": 454,
    "start_time": "2021-12-02T07:10:42.631Z"
   },
   {
    "duration": 369,
    "start_time": "2021-12-02T07:11:17.923Z"
   },
   {
    "duration": 11,
    "start_time": "2021-12-02T07:11:46.174Z"
   },
   {
    "duration": 16,
    "start_time": "2021-12-02T07:12:00.110Z"
   },
   {
    "duration": 380,
    "start_time": "2021-12-02T07:13:43.419Z"
   },
   {
    "duration": 10,
    "start_time": "2021-12-02T07:14:52.431Z"
   },
   {
    "duration": 10422,
    "start_time": "2021-12-02T07:14:55.431Z"
   },
   {
    "duration": -753,
    "start_time": "2021-12-02T07:15:06.608Z"
   },
   {
    "duration": 10287,
    "start_time": "2021-12-02T07:15:19.352Z"
   },
   {
    "duration": 379,
    "start_time": "2021-12-02T07:15:46.567Z"
   },
   {
    "duration": 9204,
    "start_time": "2021-12-02T07:16:34.491Z"
   },
   {
    "duration": 9473,
    "start_time": "2021-12-02T07:16:55.272Z"
   },
   {
    "duration": 10,
    "start_time": "2021-12-02T07:17:17.848Z"
   },
   {
    "duration": 13,
    "start_time": "2021-12-02T07:17:22.368Z"
   },
   {
    "duration": 10,
    "start_time": "2021-12-02T07:17:25.949Z"
   },
   {
    "duration": 11,
    "start_time": "2021-12-02T07:17:33.397Z"
   },
   {
    "duration": 4,
    "start_time": "2021-12-02T07:25:06.115Z"
   },
   {
    "duration": 9,
    "start_time": "2021-12-02T08:49:23.898Z"
   },
   {
    "duration": 381,
    "start_time": "2021-12-02T08:49:25.687Z"
   },
   {
    "duration": 13,
    "start_time": "2021-12-02T08:49:34.363Z"
   },
   {
    "duration": 3,
    "start_time": "2021-12-02T08:56:06.950Z"
   },
   {
    "duration": 5,
    "start_time": "2021-12-02T08:57:55.858Z"
   },
   {
    "duration": 608,
    "start_time": "2021-12-02T08:58:43.552Z"
   },
   {
    "duration": 3,
    "start_time": "2021-12-02T08:59:12.571Z"
   },
   {
    "duration": 618,
    "start_time": "2021-12-02T08:59:22.062Z"
   },
   {
    "duration": 604,
    "start_time": "2021-12-02T08:59:27.381Z"
   },
   {
    "duration": 4,
    "start_time": "2021-12-02T08:59:38.033Z"
   },
   {
    "duration": 978,
    "start_time": "2021-12-02T09:00:32.572Z"
   },
   {
    "duration": 598,
    "start_time": "2021-12-02T09:00:37.736Z"
   },
   {
    "duration": 1124,
    "start_time": "2021-12-02T09:01:37.045Z"
   },
   {
    "duration": 481,
    "start_time": "2021-12-02T09:02:32.520Z"
   },
   {
    "duration": 1143,
    "start_time": "2021-12-02T09:02:42.985Z"
   },
   {
    "duration": 558,
    "start_time": "2021-12-02T09:02:51.469Z"
   },
   {
    "duration": 1161,
    "start_time": "2021-12-02T09:03:23.707Z"
   },
   {
    "duration": 1104,
    "start_time": "2021-12-02T09:03:33.958Z"
   },
   {
    "duration": 9,
    "start_time": "2021-12-02T09:04:33.321Z"
   },
   {
    "duration": 1154,
    "start_time": "2021-12-02T09:04:42.545Z"
   },
   {
    "duration": 9,
    "start_time": "2021-12-02T09:04:58.729Z"
   },
   {
    "duration": 11,
    "start_time": "2021-12-02T09:05:01.058Z"
   },
   {
    "duration": 4,
    "start_time": "2021-12-02T09:05:05.678Z"
   },
   {
    "duration": 13,
    "start_time": "2021-12-02T09:05:06.037Z"
   },
   {
    "duration": 1204,
    "start_time": "2021-12-02T09:08:55.532Z"
   },
   {
    "duration": 1257,
    "start_time": "2021-12-02T09:09:00.691Z"
   },
   {
    "duration": 1745,
    "start_time": "2021-12-02T09:09:07.756Z"
   },
   {
    "duration": 602,
    "start_time": "2021-12-02T09:12:41.883Z"
   },
   {
    "duration": 130,
    "start_time": "2021-12-02T09:13:03.736Z"
   },
   {
    "duration": 129,
    "start_time": "2021-12-02T09:13:10.346Z"
   },
   {
    "duration": 660,
    "start_time": "2021-12-02T09:13:14.984Z"
   },
   {
    "duration": 770,
    "start_time": "2021-12-02T09:13:21.637Z"
   },
   {
    "duration": 131,
    "start_time": "2021-12-02T09:13:43.405Z"
   },
   {
    "duration": 4,
    "start_time": "2021-12-02T09:13:50.192Z"
   },
   {
    "duration": 181,
    "start_time": "2021-12-02T09:13:58.182Z"
   },
   {
    "duration": 667,
    "start_time": "2021-12-02T09:14:05.662Z"
   },
   {
    "duration": 679,
    "start_time": "2021-12-02T09:16:02.899Z"
   },
   {
    "duration": 165,
    "start_time": "2021-12-02T09:16:11.320Z"
   },
   {
    "duration": 617,
    "start_time": "2021-12-02T09:16:59.804Z"
   },
   {
    "duration": 3,
    "start_time": "2021-12-02T09:17:36.292Z"
   },
   {
    "duration": 4,
    "start_time": "2021-12-02T09:19:27.879Z"
   },
   {
    "duration": 1462,
    "start_time": "2021-12-02T09:20:06.658Z"
   },
   {
    "duration": 523,
    "start_time": "2021-12-02T09:20:14.533Z"
   },
   {
    "duration": 1316,
    "start_time": "2021-12-02T09:20:30.220Z"
   },
   {
    "duration": 585,
    "start_time": "2021-12-02T09:33:28.038Z"
   },
   {
    "duration": 918,
    "start_time": "2021-12-02T09:33:47.259Z"
   },
   {
    "duration": 10125,
    "start_time": "2021-12-02T09:33:55.590Z"
   },
   {
    "duration": 418,
    "start_time": "2021-12-02T09:34:55.771Z"
   },
   {
    "duration": 1727,
    "start_time": "2021-12-02T09:35:23.976Z"
   },
   {
    "duration": 484,
    "start_time": "2021-12-02T10:03:05.762Z"
   },
   {
    "duration": 401,
    "start_time": "2021-12-02T10:03:32.740Z"
   },
   {
    "duration": 395,
    "start_time": "2021-12-02T10:03:51.079Z"
   },
   {
    "duration": 381,
    "start_time": "2021-12-02T10:04:00.620Z"
   },
   {
    "duration": 455,
    "start_time": "2021-12-02T10:04:08.268Z"
   },
   {
    "duration": 370,
    "start_time": "2021-12-02T10:05:18.882Z"
   },
   {
    "duration": 639,
    "start_time": "2021-12-02T10:14:08.298Z"
   },
   {
    "duration": 1375,
    "start_time": "2021-12-02T10:14:18.525Z"
   },
   {
    "duration": 1037,
    "start_time": "2021-12-02T10:17:30.384Z"
   },
   {
    "duration": 1044,
    "start_time": "2021-12-02T10:17:37.206Z"
   },
   {
    "duration": 1200,
    "start_time": "2021-12-02T10:17:41.286Z"
   },
   {
    "duration": 1010,
    "start_time": "2021-12-02T10:19:49.453Z"
   },
   {
    "duration": 116,
    "start_time": "2021-12-02T10:20:03.286Z"
   },
   {
    "duration": 2169,
    "start_time": "2021-12-02T10:20:11.400Z"
   },
   {
    "duration": 2275,
    "start_time": "2021-12-02T10:20:24.254Z"
   },
   {
    "duration": 14,
    "start_time": "2021-12-02T10:22:50.626Z"
   },
   {
    "duration": 5,
    "start_time": "2021-12-02T10:23:04.591Z"
   },
   {
    "duration": 337,
    "start_time": "2021-12-03T09:29:00.815Z"
   },
   {
    "duration": 657,
    "start_time": "2021-12-03T09:29:10.865Z"
   },
   {
    "duration": 71,
    "start_time": "2021-12-03T09:29:11.524Z"
   },
   {
    "duration": 26,
    "start_time": "2021-12-03T09:29:11.599Z"
   },
   {
    "duration": 71,
    "start_time": "2021-12-03T09:29:13.008Z"
   },
   {
    "duration": 12,
    "start_time": "2021-12-03T09:29:13.470Z"
   },
   {
    "duration": 9,
    "start_time": "2021-12-03T09:29:15.425Z"
   },
   {
    "duration": 11,
    "start_time": "2021-12-03T09:29:16.120Z"
   },
   {
    "duration": 16,
    "start_time": "2021-12-03T09:29:16.557Z"
   },
   {
    "duration": 10,
    "start_time": "2021-12-03T09:29:17.132Z"
   },
   {
    "duration": 9,
    "start_time": "2021-12-03T09:29:19.177Z"
   },
   {
    "duration": 12,
    "start_time": "2021-12-03T09:29:19.789Z"
   },
   {
    "duration": 20,
    "start_time": "2021-12-03T09:29:20.316Z"
   },
   {
    "duration": 5,
    "start_time": "2021-12-03T09:29:20.858Z"
   },
   {
    "duration": 1177,
    "start_time": "2021-12-03T09:29:24.408Z"
   },
   {
    "duration": 1105,
    "start_time": "2021-12-03T09:30:52.240Z"
   },
   {
    "duration": 1114,
    "start_time": "2021-12-03T09:31:24.719Z"
   },
   {
    "duration": 263,
    "start_time": "2021-12-03T15:36:00.085Z"
   },
   {
    "duration": 638,
    "start_time": "2021-12-03T15:36:08.604Z"
   },
   {
    "duration": 69,
    "start_time": "2021-12-03T15:36:09.244Z"
   },
   {
    "duration": 28,
    "start_time": "2021-12-03T15:36:09.315Z"
   },
   {
    "duration": 84,
    "start_time": "2021-12-03T15:36:09.345Z"
   },
   {
    "duration": 10,
    "start_time": "2021-12-03T15:36:09.430Z"
   },
   {
    "duration": 9,
    "start_time": "2021-12-03T15:36:10.144Z"
   },
   {
    "duration": 11,
    "start_time": "2021-12-03T15:36:10.339Z"
   },
   {
    "duration": 17,
    "start_time": "2021-12-03T15:36:10.539Z"
   },
   {
    "duration": 9,
    "start_time": "2021-12-03T15:36:10.730Z"
   },
   {
    "duration": 5,
    "start_time": "2021-12-03T15:36:11.487Z"
   },
   {
    "duration": 13,
    "start_time": "2021-12-03T15:36:11.715Z"
   },
   {
    "duration": 20,
    "start_time": "2021-12-03T15:36:11.964Z"
   },
   {
    "duration": 6,
    "start_time": "2021-12-03T15:36:12.238Z"
   },
   {
    "duration": 1273,
    "start_time": "2021-12-03T15:36:13.377Z"
   },
   {
    "duration": 6,
    "start_time": "2021-12-03T15:36:21.565Z"
   },
   {
    "duration": 210,
    "start_time": "2021-12-04T10:05:33.659Z"
   },
   {
    "duration": 609,
    "start_time": "2021-12-04T10:05:41.014Z"
   },
   {
    "duration": 66,
    "start_time": "2021-12-04T10:05:41.624Z"
   },
   {
    "duration": 25,
    "start_time": "2021-12-04T10:05:41.692Z"
   },
   {
    "duration": 81,
    "start_time": "2021-12-04T10:05:41.719Z"
   },
   {
    "duration": 10,
    "start_time": "2021-12-04T10:05:41.807Z"
   },
   {
    "duration": 9,
    "start_time": "2021-12-04T10:05:42.484Z"
   },
   {
    "duration": 13,
    "start_time": "2021-12-04T10:05:42.684Z"
   },
   {
    "duration": 17,
    "start_time": "2021-12-04T10:05:42.865Z"
   },
   {
    "duration": 8,
    "start_time": "2021-12-04T10:05:43.056Z"
   },
   {
    "duration": 5,
    "start_time": "2021-12-04T10:05:43.798Z"
   },
   {
    "duration": 12,
    "start_time": "2021-12-04T10:05:43.988Z"
   },
   {
    "duration": 21,
    "start_time": "2021-12-04T10:05:44.203Z"
   },
   {
    "duration": 5,
    "start_time": "2021-12-04T10:05:44.384Z"
   },
   {
    "duration": 1270,
    "start_time": "2021-12-04T10:05:45.984Z"
   },
   {
    "duration": 429,
    "start_time": "2021-12-04T10:05:48.634Z"
   },
   {
    "duration": 259,
    "start_time": "2021-12-04T10:06:23.977Z"
   },
   {
    "duration": 401,
    "start_time": "2021-12-04T10:39:37.673Z"
   },
   {
    "duration": 250,
    "start_time": "2021-12-04T10:39:43.805Z"
   },
   {
    "duration": 242,
    "start_time": "2021-12-04T10:42:12.426Z"
   },
   {
    "duration": 241,
    "start_time": "2021-12-04T10:42:19.625Z"
   },
   {
    "duration": 395,
    "start_time": "2021-12-04T11:07:49.113Z"
   },
   {
    "duration": 406,
    "start_time": "2021-12-04T11:08:27.127Z"
   },
   {
    "duration": 496,
    "start_time": "2021-12-04T11:10:30.315Z"
   },
   {
    "duration": 4659,
    "start_time": "2021-12-04T11:12:10.622Z"
   },
   {
    "duration": 604,
    "start_time": "2021-12-04T11:12:26.138Z"
   },
   {
    "duration": 574,
    "start_time": "2021-12-04T11:12:36.214Z"
   },
   {
    "duration": 396,
    "start_time": "2021-12-04T11:13:04.867Z"
   },
   {
    "duration": 635,
    "start_time": "2021-12-04T11:29:10.193Z"
   },
   {
    "duration": 398,
    "start_time": "2021-12-04T11:29:43.415Z"
   },
   {
    "duration": 194,
    "start_time": "2021-12-04T12:23:41.166Z"
   },
   {
    "duration": 3,
    "start_time": "2021-12-04T12:24:06.950Z"
   },
   {
    "duration": 62,
    "start_time": "2021-12-04T12:24:07.144Z"
   },
   {
    "duration": 22,
    "start_time": "2021-12-04T12:24:07.288Z"
   },
   {
    "duration": 68,
    "start_time": "2021-12-04T12:24:07.478Z"
   },
   {
    "duration": 10,
    "start_time": "2021-12-04T12:24:07.708Z"
   },
   {
    "duration": 8,
    "start_time": "2021-12-04T12:24:08.398Z"
   },
   {
    "duration": 12,
    "start_time": "2021-12-04T12:24:08.675Z"
   },
   {
    "duration": 15,
    "start_time": "2021-12-04T12:24:08.695Z"
   },
   {
    "duration": 10,
    "start_time": "2021-12-04T12:24:08.868Z"
   },
   {
    "duration": 5,
    "start_time": "2021-12-04T12:24:09.816Z"
   },
   {
    "duration": 13,
    "start_time": "2021-12-04T12:24:10.025Z"
   },
   {
    "duration": 22,
    "start_time": "2021-12-04T12:24:10.344Z"
   },
   {
    "duration": 5,
    "start_time": "2021-12-04T12:24:10.610Z"
   },
   {
    "duration": 1187,
    "start_time": "2021-12-04T12:24:12.595Z"
   },
   {
    "duration": 381,
    "start_time": "2021-12-04T12:24:15.537Z"
   },
   {
    "duration": 200,
    "start_time": "2021-12-04T12:24:17.871Z"
   },
   {
    "duration": 189,
    "start_time": "2021-12-04T12:25:03.645Z"
   },
   {
    "duration": 198,
    "start_time": "2021-12-04T12:25:49.487Z"
   },
   {
    "duration": 29,
    "start_time": "2021-12-04T12:26:13.674Z"
   },
   {
    "duration": 484,
    "start_time": "2021-12-04T12:28:14.583Z"
   },
   {
    "duration": 358,
    "start_time": "2021-12-05T08:23:03.122Z"
   },
   {
    "duration": 688,
    "start_time": "2021-12-05T08:23:10.517Z"
   },
   {
    "duration": 65,
    "start_time": "2021-12-05T08:23:11.206Z"
   },
   {
    "duration": 23,
    "start_time": "2021-12-05T08:23:11.272Z"
   },
   {
    "duration": 78,
    "start_time": "2021-12-05T08:23:11.297Z"
   },
   {
    "duration": 11,
    "start_time": "2021-12-05T08:23:11.376Z"
   },
   {
    "duration": 8,
    "start_time": "2021-12-05T08:23:12.042Z"
   },
   {
    "duration": 11,
    "start_time": "2021-12-05T08:23:12.227Z"
   },
   {
    "duration": 16,
    "start_time": "2021-12-05T08:23:12.405Z"
   },
   {
    "duration": 9,
    "start_time": "2021-12-05T08:23:12.596Z"
   },
   {
    "duration": 9,
    "start_time": "2021-12-05T08:23:13.359Z"
   },
   {
    "duration": 12,
    "start_time": "2021-12-05T08:23:13.528Z"
   },
   {
    "duration": 20,
    "start_time": "2021-12-05T08:23:13.713Z"
   },
   {
    "duration": 5,
    "start_time": "2021-12-05T08:23:13.945Z"
   },
   {
    "duration": 1142,
    "start_time": "2021-12-05T08:23:15.724Z"
   },
   {
    "duration": 372,
    "start_time": "2021-12-05T08:23:19.597Z"
   },
   {
    "duration": 385,
    "start_time": "2021-12-05T08:23:21.617Z"
   },
   {
    "duration": 492,
    "start_time": "2021-12-05T08:23:23.608Z"
   },
   {
    "duration": 483,
    "start_time": "2021-12-05T08:23:39.283Z"
   },
   {
    "duration": 490,
    "start_time": "2021-12-05T08:23:50.880Z"
   },
   {
    "duration": 489,
    "start_time": "2021-12-05T08:24:14.300Z"
   },
   {
    "duration": 486,
    "start_time": "2021-12-05T08:30:51.249Z"
   },
   {
    "duration": 421,
    "start_time": "2021-12-05T08:33:45.511Z"
   },
   {
    "duration": 456,
    "start_time": "2021-12-05T08:34:25.041Z"
   },
   {
    "duration": 200681,
    "start_time": "2021-12-05T08:34:33.167Z"
   },
   {
    "duration": 375,
    "start_time": "2021-12-05T08:40:38.411Z"
   },
   {
    "duration": 278,
    "start_time": "2021-12-05T08:41:27.196Z"
   },
   {
    "duration": 286,
    "start_time": "2021-12-05T08:41:33.309Z"
   },
   {
    "duration": 260,
    "start_time": "2021-12-05T08:42:02.949Z"
   },
   {
    "duration": 386,
    "start_time": "2021-12-05T08:43:38.345Z"
   },
   {
    "duration": 124,
    "start_time": "2021-12-05T09:14:11.684Z"
   },
   {
    "duration": 317,
    "start_time": "2021-12-05T09:14:19.539Z"
   },
   {
    "duration": 272,
    "start_time": "2021-12-05T09:14:27.467Z"
   },
   {
    "duration": 295,
    "start_time": "2021-12-05T09:14:58.233Z"
   },
   {
    "duration": 202,
    "start_time": "2021-12-05T09:15:31.836Z"
   },
   {
    "duration": 251,
    "start_time": "2021-12-05T09:15:49.237Z"
   },
   {
    "duration": 190,
    "start_time": "2021-12-05T09:16:38.085Z"
   },
   {
    "duration": 193,
    "start_time": "2021-12-05T09:16:44.966Z"
   },
   {
    "duration": 203,
    "start_time": "2021-12-05T09:38:18.607Z"
   },
   {
    "duration": 252,
    "start_time": "2021-12-05T09:54:17.921Z"
   },
   {
    "duration": 7293,
    "start_time": "2021-12-05T09:54:26.974Z"
   },
   {
    "duration": 479,
    "start_time": "2021-12-05T09:54:48.091Z"
   },
   {
    "duration": 488,
    "start_time": "2021-12-05T09:55:05.368Z"
   },
   {
    "duration": 277,
    "start_time": "2021-12-05T10:48:03.741Z"
   },
   {
    "duration": 577,
    "start_time": "2021-12-05T10:48:10.364Z"
   },
   {
    "duration": 662,
    "start_time": "2021-12-05T10:48:17.253Z"
   },
   {
    "duration": 191,
    "start_time": "2021-12-05T10:48:35.994Z"
   },
   {
    "duration": 3,
    "start_time": "2021-12-05T11:01:54.338Z"
   },
   {
    "duration": 60,
    "start_time": "2021-12-05T11:01:54.507Z"
   },
   {
    "duration": 22,
    "start_time": "2021-12-05T11:01:54.672Z"
   },
   {
    "duration": 66,
    "start_time": "2021-12-05T11:01:54.834Z"
   },
   {
    "duration": 10,
    "start_time": "2021-12-05T11:01:54.977Z"
   },
   {
    "duration": 9,
    "start_time": "2021-12-05T11:01:55.705Z"
   },
   {
    "duration": 11,
    "start_time": "2021-12-05T11:01:55.851Z"
   },
   {
    "duration": 17,
    "start_time": "2021-12-05T11:01:55.978Z"
   },
   {
    "duration": 10,
    "start_time": "2021-12-05T11:01:56.181Z"
   },
   {
    "duration": 4,
    "start_time": "2021-12-05T11:01:56.799Z"
   },
   {
    "duration": 13,
    "start_time": "2021-12-05T11:01:56.966Z"
   },
   {
    "duration": 19,
    "start_time": "2021-12-05T11:01:57.240Z"
   },
   {
    "duration": 5,
    "start_time": "2021-12-05T11:01:57.626Z"
   },
   {
    "duration": 1216,
    "start_time": "2021-12-05T11:01:58.580Z"
   },
   {
    "duration": 409,
    "start_time": "2021-12-05T11:01:59.798Z"
   },
   {
    "duration": 401,
    "start_time": "2021-12-05T11:02:00.209Z"
   },
   {
    "duration": 224,
    "start_time": "2021-12-05T11:02:00.612Z"
   },
   {
    "duration": 206,
    "start_time": "2021-12-05T11:02:00.838Z"
   },
   {
    "duration": 515,
    "start_time": "2021-12-05T11:02:01.166Z"
   },
   {
    "duration": 183,
    "start_time": "2021-12-05T11:02:02.609Z"
   },
   {
    "duration": 182,
    "start_time": "2021-12-05T11:04:07.726Z"
   },
   {
    "duration": 203,
    "start_time": "2021-12-05T11:08:30.817Z"
   },
   {
    "duration": 89,
    "start_time": "2021-12-05T11:13:58.597Z"
   },
   {
    "duration": 206,
    "start_time": "2021-12-05T11:14:19.920Z"
   },
   {
    "duration": 24,
    "start_time": "2021-12-05T11:34:48.710Z"
   },
   {
    "duration": 6935,
    "start_time": "2021-12-05T11:35:40.850Z"
   },
   {
    "duration": 24,
    "start_time": "2021-12-05T11:36:07.704Z"
   },
   {
    "duration": 21,
    "start_time": "2021-12-05T11:37:14.775Z"
   },
   {
    "duration": 21,
    "start_time": "2021-12-05T11:37:36.717Z"
   },
   {
    "duration": 21,
    "start_time": "2021-12-05T11:37:54.252Z"
   },
   {
    "duration": 23,
    "start_time": "2021-12-05T11:38:18.565Z"
   },
   {
    "duration": 346,
    "start_time": "2021-12-05T11:54:25.316Z"
   },
   {
    "duration": 194,
    "start_time": "2021-12-05T11:55:41.719Z"
   },
   {
    "duration": 423,
    "start_time": "2021-12-05T11:57:13.841Z"
   },
   {
    "duration": 181,
    "start_time": "2021-12-05T11:57:24.599Z"
   },
   {
    "duration": 175,
    "start_time": "2021-12-05T11:57:38.624Z"
   },
   {
    "duration": 206,
    "start_time": "2021-12-05T11:58:15.940Z"
   },
   {
    "duration": 391,
    "start_time": "2021-12-05T11:58:26.544Z"
   },
   {
    "duration": 1078,
    "start_time": "2021-12-05T11:58:31.179Z"
   },
   {
    "duration": 198,
    "start_time": "2021-12-05T11:58:40.089Z"
   },
   {
    "duration": 193,
    "start_time": "2021-12-05T11:58:59.725Z"
   },
   {
    "duration": 180,
    "start_time": "2021-12-05T11:59:12.367Z"
   },
   {
    "duration": 184,
    "start_time": "2021-12-05T12:00:38.222Z"
   },
   {
    "duration": 184,
    "start_time": "2021-12-05T12:00:43.015Z"
   },
   {
    "duration": 178,
    "start_time": "2021-12-05T12:00:49.124Z"
   },
   {
    "duration": 196,
    "start_time": "2021-12-05T12:01:22.162Z"
   },
   {
    "duration": 286,
    "start_time": "2021-12-05T16:57:06.492Z"
   },
   {
    "duration": 269,
    "start_time": "2021-12-05T16:57:12.924Z"
   },
   {
    "duration": 574,
    "start_time": "2021-12-05T16:57:51.336Z"
   },
   {
    "duration": 62,
    "start_time": "2021-12-05T16:57:51.911Z"
   },
   {
    "duration": 22,
    "start_time": "2021-12-05T16:57:51.975Z"
   },
   {
    "duration": 60,
    "start_time": "2021-12-05T16:57:51.999Z"
   },
   {
    "duration": 32,
    "start_time": "2021-12-05T16:57:52.061Z"
   },
   {
    "duration": 9,
    "start_time": "2021-12-05T16:57:52.647Z"
   },
   {
    "duration": 12,
    "start_time": "2021-12-05T16:57:52.777Z"
   },
   {
    "duration": 15,
    "start_time": "2021-12-05T16:57:58.732Z"
   },
   {
    "duration": 9,
    "start_time": "2021-12-05T16:58:00.383Z"
   },
   {
    "duration": 8,
    "start_time": "2021-12-05T16:58:02.290Z"
   },
   {
    "duration": 11,
    "start_time": "2021-12-05T16:58:02.474Z"
   },
   {
    "duration": 19,
    "start_time": "2021-12-05T16:58:02.908Z"
   },
   {
    "duration": 4,
    "start_time": "2021-12-05T16:58:03.217Z"
   },
   {
    "duration": 1063,
    "start_time": "2021-12-05T16:58:05.647Z"
   },
   {
    "duration": 319,
    "start_time": "2021-12-05T16:58:07.735Z"
   },
   {
    "duration": 329,
    "start_time": "2021-12-05T16:58:09.435Z"
   },
   {
    "duration": 181,
    "start_time": "2021-12-05T16:58:12.012Z"
   },
   {
    "duration": 170,
    "start_time": "2021-12-05T16:58:16.818Z"
   },
   {
    "duration": 452,
    "start_time": "2021-12-05T16:58:30.318Z"
   },
   {
    "duration": 152,
    "start_time": "2021-12-05T16:58:31.420Z"
   },
   {
    "duration": 162,
    "start_time": "2021-12-05T16:58:34.041Z"
   },
   {
    "duration": 180,
    "start_time": "2021-12-05T16:58:36.748Z"
   },
   {
    "duration": 242,
    "start_time": "2021-12-05T16:58:41.304Z"
   },
   {
    "duration": 22,
    "start_time": "2021-12-05T16:58:44.499Z"
   },
   {
    "duration": 163,
    "start_time": "2021-12-05T16:58:46.962Z"
   },
   {
    "duration": 8,
    "start_time": "2021-12-05T16:58:50.343Z"
   },
   {
    "duration": 2,
    "start_time": "2021-12-05T17:47:58.236Z"
   },
   {
    "duration": 59,
    "start_time": "2021-12-05T17:47:58.244Z"
   },
   {
    "duration": 20,
    "start_time": "2021-12-05T17:47:58.305Z"
   },
   {
    "duration": 81,
    "start_time": "2021-12-05T17:47:58.327Z"
   },
   {
    "duration": 10,
    "start_time": "2021-12-05T17:47:58.410Z"
   },
   {
    "duration": 7,
    "start_time": "2021-12-05T17:47:58.421Z"
   },
   {
    "duration": 9,
    "start_time": "2021-12-05T17:47:58.430Z"
   },
   {
    "duration": 13,
    "start_time": "2021-12-05T17:47:58.441Z"
   },
   {
    "duration": 39,
    "start_time": "2021-12-05T17:47:58.455Z"
   },
   {
    "duration": 3,
    "start_time": "2021-12-05T17:47:58.497Z"
   },
   {
    "duration": 16,
    "start_time": "2021-12-05T17:47:58.502Z"
   },
   {
    "duration": 18,
    "start_time": "2021-12-05T17:47:58.519Z"
   },
   {
    "duration": 4,
    "start_time": "2021-12-05T17:47:58.538Z"
   },
   {
    "duration": 1061,
    "start_time": "2021-12-05T17:47:58.544Z"
   },
   {
    "duration": 335,
    "start_time": "2021-12-05T17:47:59.607Z"
   },
   {
    "duration": 367,
    "start_time": "2021-12-05T17:47:59.943Z"
   },
   {
    "duration": 268,
    "start_time": "2021-12-05T17:48:00.311Z"
   },
   {
    "duration": 198,
    "start_time": "2021-12-05T17:48:00.581Z"
   },
   {
    "duration": 453,
    "start_time": "2021-12-05T17:48:00.780Z"
   },
   {
    "duration": 166,
    "start_time": "2021-12-05T17:48:01.234Z"
   },
   {
    "duration": 188,
    "start_time": "2021-12-05T17:48:01.401Z"
   },
   {
    "duration": 244,
    "start_time": "2021-12-05T17:48:01.591Z"
   },
   {
    "duration": 298,
    "start_time": "2021-12-05T17:48:01.837Z"
   },
   {
    "duration": 33,
    "start_time": "2021-12-05T17:48:02.137Z"
   },
   {
    "duration": 290,
    "start_time": "2021-12-05T17:48:02.171Z"
   },
   {
    "duration": 11,
    "start_time": "2021-12-05T17:48:02.463Z"
   },
   {
    "duration": 249,
    "start_time": "2021-12-05T17:59:22.419Z"
   },
   {
    "duration": 182,
    "start_time": "2021-12-05T17:59:39.723Z"
   },
   {
    "duration": 180,
    "start_time": "2021-12-05T18:03:09.310Z"
   },
   {
    "duration": 85,
    "start_time": "2021-12-05T18:05:09.982Z"
   },
   {
    "duration": 138,
    "start_time": "2021-12-05T18:12:22.380Z"
   },
   {
    "duration": 343,
    "start_time": "2021-12-05T18:13:21.857Z"
   },
   {
    "duration": 403,
    "start_time": "2021-12-05T18:13:26.002Z"
   },
   {
    "duration": 291,
    "start_time": "2021-12-05T18:19:28.450Z"
   },
   {
    "duration": 245,
    "start_time": "2021-12-05T18:19:35.914Z"
   },
   {
    "duration": 654,
    "start_time": "2021-12-05T18:19:41.705Z"
   },
   {
    "duration": 173,
    "start_time": "2021-12-05T18:19:47.342Z"
   },
   {
    "duration": 167,
    "start_time": "2021-12-05T18:23:17.673Z"
   },
   {
    "duration": 179,
    "start_time": "2021-12-05T18:26:15.454Z"
   },
   {
    "duration": 348,
    "start_time": "2021-12-05T18:29:56.497Z"
   },
   {
    "duration": 181,
    "start_time": "2021-12-05T18:30:18.254Z"
   },
   {
    "duration": 183,
    "start_time": "2021-12-05T18:30:22.766Z"
   },
   {
    "duration": 695,
    "start_time": "2021-12-06T16:02:55.699Z"
   },
   {
    "duration": 616,
    "start_time": "2021-12-06T16:03:01.686Z"
   },
   {
    "duration": 62,
    "start_time": "2021-12-06T16:03:02.303Z"
   },
   {
    "duration": 22,
    "start_time": "2021-12-06T16:03:02.367Z"
   },
   {
    "duration": 62,
    "start_time": "2021-12-06T16:03:02.390Z"
   },
   {
    "duration": 9,
    "start_time": "2021-12-06T16:03:02.454Z"
   },
   {
    "duration": 24,
    "start_time": "2021-12-06T16:03:02.464Z"
   },
   {
    "duration": 10,
    "start_time": "2021-12-06T16:03:02.489Z"
   },
   {
    "duration": 17,
    "start_time": "2021-12-06T16:03:02.501Z"
   },
   {
    "duration": 7,
    "start_time": "2021-12-06T16:03:02.520Z"
   },
   {
    "duration": 4,
    "start_time": "2021-12-06T16:03:02.528Z"
   },
   {
    "duration": 25,
    "start_time": "2021-12-06T16:03:02.533Z"
   },
   {
    "duration": 30,
    "start_time": "2021-12-06T16:03:02.560Z"
   },
   {
    "duration": 4,
    "start_time": "2021-12-06T16:03:02.592Z"
   },
   {
    "duration": 1061,
    "start_time": "2021-12-06T16:03:02.597Z"
   },
   {
    "duration": 345,
    "start_time": "2021-12-06T16:03:03.659Z"
   },
   {
    "duration": 330,
    "start_time": "2021-12-06T16:03:04.006Z"
   },
   {
    "duration": 186,
    "start_time": "2021-12-06T16:03:04.338Z"
   },
   {
    "duration": 178,
    "start_time": "2021-12-06T16:03:04.525Z"
   },
   {
    "duration": 524,
    "start_time": "2021-12-06T16:03:04.705Z"
   },
   {
    "duration": 158,
    "start_time": "2021-12-06T16:03:05.231Z"
   },
   {
    "duration": 177,
    "start_time": "2021-12-06T16:03:05.390Z"
   },
   {
    "duration": 247,
    "start_time": "2021-12-06T16:03:05.568Z"
   },
   {
    "duration": 194,
    "start_time": "2021-12-06T16:03:05.818Z"
   },
   {
    "duration": 20,
    "start_time": "2021-12-06T16:03:06.014Z"
   },
   {
    "duration": 172,
    "start_time": "2021-12-06T16:03:06.036Z"
   },
   {
    "duration": 8,
    "start_time": "2021-12-06T16:03:06.210Z"
   },
   {
    "duration": 302,
    "start_time": "2021-12-06T16:03:06.220Z"
   },
   {
    "duration": 291,
    "start_time": "2021-12-06T16:03:06.524Z"
   },
   {
    "duration": 187,
    "start_time": "2021-12-06T16:03:06.817Z"
   },
   {
    "duration": 149,
    "start_time": "2021-12-06T16:03:07.006Z"
   },
   {
    "duration": 322,
    "start_time": "2021-12-06T16:03:07.157Z"
   },
   {
    "duration": 185,
    "start_time": "2021-12-06T16:03:07.481Z"
   },
   {
    "duration": 175,
    "start_time": "2021-12-06T16:03:07.668Z"
   },
   {
    "duration": 188,
    "start_time": "2021-12-06T16:03:07.845Z"
   },
   {
    "duration": 2,
    "start_time": "2021-12-06T16:04:12.600Z"
   },
   {
    "duration": 74,
    "start_time": "2021-12-06T16:04:12.604Z"
   },
   {
    "duration": 20,
    "start_time": "2021-12-06T16:04:12.680Z"
   },
   {
    "duration": 125,
    "start_time": "2021-12-06T16:04:12.701Z"
   },
   {
    "duration": 9,
    "start_time": "2021-12-06T16:04:12.827Z"
   },
   {
    "duration": 8,
    "start_time": "2021-12-06T16:04:12.837Z"
   },
   {
    "duration": 10,
    "start_time": "2021-12-06T16:04:12.846Z"
   },
   {
    "duration": 35,
    "start_time": "2021-12-06T16:04:12.858Z"
   },
   {
    "duration": 7,
    "start_time": "2021-12-06T16:04:12.895Z"
   },
   {
    "duration": 3,
    "start_time": "2021-12-06T16:04:12.903Z"
   },
   {
    "duration": 17,
    "start_time": "2021-12-06T16:04:12.907Z"
   },
   {
    "duration": 14,
    "start_time": "2021-12-06T16:04:12.926Z"
   },
   {
    "duration": 4,
    "start_time": "2021-12-06T16:04:12.941Z"
   },
   {
    "duration": 1060,
    "start_time": "2021-12-06T16:04:12.946Z"
   },
   {
    "duration": 328,
    "start_time": "2021-12-06T16:04:14.008Z"
   },
   {
    "duration": 351,
    "start_time": "2021-12-06T16:04:14.338Z"
   },
   {
    "duration": 186,
    "start_time": "2021-12-06T16:04:14.691Z"
   },
   {
    "duration": 184,
    "start_time": "2021-12-06T16:04:14.878Z"
   },
   {
    "duration": 538,
    "start_time": "2021-12-06T16:04:15.063Z"
   },
   {
    "duration": 156,
    "start_time": "2021-12-06T16:04:15.602Z"
   },
   {
    "duration": 181,
    "start_time": "2021-12-06T16:04:15.760Z"
   },
   {
    "duration": 183,
    "start_time": "2021-12-06T16:04:15.942Z"
   },
   {
    "duration": 188,
    "start_time": "2021-12-06T16:04:16.128Z"
   },
   {
    "duration": 20,
    "start_time": "2021-12-06T16:04:16.318Z"
   },
   {
    "duration": 176,
    "start_time": "2021-12-06T16:04:16.339Z"
   },
   {
    "duration": 8,
    "start_time": "2021-12-06T16:04:16.516Z"
   },
   {
    "duration": 303,
    "start_time": "2021-12-06T16:04:16.525Z"
   },
   {
    "duration": 187,
    "start_time": "2021-12-06T16:04:16.830Z"
   },
   {
    "duration": 189,
    "start_time": "2021-12-06T16:04:17.019Z"
   },
   {
    "duration": 152,
    "start_time": "2021-12-06T16:04:17.210Z"
   },
   {
    "duration": 349,
    "start_time": "2021-12-06T16:04:17.364Z"
   },
   {
    "duration": 278,
    "start_time": "2021-12-06T16:04:17.714Z"
   },
   {
    "duration": 247,
    "start_time": "2021-12-06T16:04:17.994Z"
   },
   {
    "duration": 190,
    "start_time": "2021-12-06T16:04:18.242Z"
   },
   {
    "duration": 8,
    "start_time": "2021-12-06T16:04:31.810Z"
   },
   {
    "duration": 76,
    "start_time": "2021-12-06T16:07:46.212Z"
   },
   {
    "duration": 6590,
    "start_time": "2021-12-06T16:07:51.700Z"
   },
   {
    "duration": 1050,
    "start_time": "2021-12-06T16:08:34.713Z"
   },
   {
    "duration": 1105,
    "start_time": "2021-12-06T16:08:46.014Z"
   },
   {
    "duration": 1030,
    "start_time": "2021-12-06T16:12:15.378Z"
   },
   {
    "duration": 186,
    "start_time": "2021-12-06T16:12:37.852Z"
   },
   {
    "duration": 259,
    "start_time": "2021-12-06T16:18:33.496Z"
   },
   {
    "duration": 177,
    "start_time": "2021-12-06T16:18:43.931Z"
   },
   {
    "duration": 183,
    "start_time": "2021-12-06T16:18:51.417Z"
   },
   {
    "duration": 189,
    "start_time": "2021-12-06T16:19:17.380Z"
   },
   {
    "duration": 176,
    "start_time": "2021-12-06T16:19:26.357Z"
   },
   {
    "duration": 171,
    "start_time": "2021-12-06T16:19:31.237Z"
   }
  ],
  "kernelspec": {
   "display_name": "Python 3 (ipykernel)",
   "language": "python",
   "name": "python3"
  },
  "language_info": {
   "codemirror_mode": {
    "name": "ipython",
    "version": 3
   },
   "file_extension": ".py",
   "mimetype": "text/x-python",
   "name": "python",
   "nbconvert_exporter": "python",
   "pygments_lexer": "ipython3",
   "version": "3.9.5"
  },
  "toc": {
   "base_numbering": 1,
   "nav_menu": {},
   "number_sections": true,
   "sideBar": true,
   "skip_h1_title": true,
   "title_cell": "Содержание",
   "title_sidebar": "Contents",
   "toc_cell": true,
   "toc_position": {},
   "toc_section_display": true,
   "toc_window_display": true
  }
 },
 "nbformat": 4,
 "nbformat_minor": 2
}
