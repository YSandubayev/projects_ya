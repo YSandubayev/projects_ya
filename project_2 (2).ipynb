{
 "cells": [
  {
   "cell_type": "markdown",
   "metadata": {},
   "source": [
    "Привет, меня зовут Гребенюк Артём. Сегодня я буду делать ревью твоего проекта!\\\n",
    "В Практикуме принято общаться на \"ты\", однако если это неудобно - дай знать, и можем перейти на более официальное общение.\n",
    "\n",
    "Ниже ты найдешь мои комментарии - пожалуйста, не перемещай, не изменяй и не удаляй их. Я буду использовать цветовую разметку: \n",
    "\n",
    "<div class=\"alert alert-block alert-success\">\n",
    "<b>Success:</b> Если все сделано хорошо. </div>\n",
    "\n",
    "<div class=\"alert alert-block alert-warning\">\n",
    "<b>Remarks:</b> Некритичное замечание; если таких замечаний меньше трех — проект может быть принят без их отработки.</div>\n",
    "\n",
    "<div class=\"alert alert-block alert-danger\">\n",
    "<b>Needs fixing:</b> Грубая ошибка, необходимо исправить, иначе проект не будет принят.\n",
    "</div>\n",
    "\n",
    "Давай работать над проектом в диалоге: если ты что-то меняешь в проекте или отвечаешь на мои комменатри — пиши об этом. Мне будет легче отследить изменения, если ты выделишь свои комментарии:\n",
    "Например так:\n",
    "<div class=\"alert alert-block alert-info\">\n",
    "<b>Fixed:</b> \n",
    "Hello World! ✔\n",
    "</div>\n",
    "\n",
    "Или можешь использовать эту галочку ✔ в моих комментариях, если писать особо нечего.\n",
    "\n",
    "<div class=\"alert alert-block alert-warning\">\n",
    "<b>Общее впечатление:</b> \n",
    "    \n",
    "- Спасибо за работу :)\n",
    "- У меня есть пара ремарок, которые помогут тебе сделать проект еще лучше.\n",
    "- Пробегись по моим комментариям, исправь недочёты и всё будет отлично :)\n",
    "    \n",
    "</div>\n",
    "\n"
   ]
  },
  {
   "cell_type": "markdown",
   "metadata": {},
   "source": [
    "<div class=\"alert alert-block alert-success\">\n",
    "<b>Привет!</b> Отличная работа над ремарками! Проект принят, поздравляю, желаю удачи в дальнейшем обучении :)"
   ]
  },
  {
   "cell_type": "markdown",
   "metadata": {},
   "source": [
    "# Исследование надёжности заёмщиков\n",
    "\n",
    "Заказчик — кредитный отдел банка. Нужно разобраться, влияет ли семейное положение и количество детей клиента на факт погашения кредита в срок. Входные данные от банка — статистика о платёжеспособности клиентов.\n",
    "\n",
    "Результаты исследования будут учтены при построении модели **кредитного скоринга** — специальной системы, которая оценивает способность потенциального заёмщика вернуть кредит банку."
   ]
  },
  {
   "cell_type": "markdown",
   "metadata": {},
   "source": [
    "<div class=\"alert alert-block alert-warning\">\n",
    "<b>Remarks:</b> \n",
    "\n",
    "Отлично, что у проекта есть введение. Однако стоит задуматься, как еще его можно дополнить, чтобы сделать более ценным для читателя. В студенческом ноушене (если нет доступа, спроси куратора) есть статья о том, как мы оформляем работы.\n",
    "    \n",
    "Также советую тебе взглянуть на <a href=\"https://www.kaggle.com/notebooks/\">работы</a> профессиональных аналитиков, чтобы оценить, как другие люди оформляют и проводят исследования. </div>\n"
   ]
  },
  {
   "cell_type": "markdown",
   "metadata": {},
   "source": [
    "## Шаг 1. Откройте файл с данными и изучите общую информацию"
   ]
  },
  {
   "cell_type": "code",
   "execution_count": 3,
   "metadata": {},
   "outputs": [],
   "source": [
    "import pandas as pd\n",
    "import pandas as pd\n",
    "from pymystem3 import Mystem\n",
    "from nltk.stem import SnowballStemmer \n",
    "from collections import Counter"
   ]
  },
  {
   "cell_type": "markdown",
   "metadata": {},
   "source": [
    "<div class=\"alert alert-block alert-success\">\n",
    "<b>Success:</b> здорово, что все импорты собраны в начале проекта!"
   ]
  },
  {
   "cell_type": "code",
   "execution_count": 4,
   "metadata": {},
   "outputs": [
    {
     "data": {
      "text/html": [
       "<div>\n",
       "<style scoped>\n",
       "    .dataframe tbody tr th:only-of-type {\n",
       "        vertical-align: middle;\n",
       "    }\n",
       "\n",
       "    .dataframe tbody tr th {\n",
       "        vertical-align: top;\n",
       "    }\n",
       "\n",
       "    .dataframe thead th {\n",
       "        text-align: right;\n",
       "    }\n",
       "</style>\n",
       "<table border=\"1\" class=\"dataframe\">\n",
       "  <thead>\n",
       "    <tr style=\"text-align: right;\">\n",
       "      <th></th>\n",
       "      <th>children</th>\n",
       "      <th>days_employed</th>\n",
       "      <th>dob_years</th>\n",
       "      <th>education</th>\n",
       "      <th>education_id</th>\n",
       "      <th>family_status</th>\n",
       "      <th>family_status_id</th>\n",
       "      <th>gender</th>\n",
       "      <th>income_type</th>\n",
       "      <th>debt</th>\n",
       "      <th>total_income</th>\n",
       "      <th>purpose</th>\n",
       "    </tr>\n",
       "  </thead>\n",
       "  <tbody>\n",
       "    <tr>\n",
       "      <td>0</td>\n",
       "      <td>1</td>\n",
       "      <td>-8437.673028</td>\n",
       "      <td>42</td>\n",
       "      <td>высшее</td>\n",
       "      <td>0</td>\n",
       "      <td>женат / замужем</td>\n",
       "      <td>0</td>\n",
       "      <td>F</td>\n",
       "      <td>сотрудник</td>\n",
       "      <td>0</td>\n",
       "      <td>253875.639453</td>\n",
       "      <td>покупка жилья</td>\n",
       "    </tr>\n",
       "    <tr>\n",
       "      <td>1</td>\n",
       "      <td>1</td>\n",
       "      <td>-4024.803754</td>\n",
       "      <td>36</td>\n",
       "      <td>среднее</td>\n",
       "      <td>1</td>\n",
       "      <td>женат / замужем</td>\n",
       "      <td>0</td>\n",
       "      <td>F</td>\n",
       "      <td>сотрудник</td>\n",
       "      <td>0</td>\n",
       "      <td>112080.014102</td>\n",
       "      <td>приобретение автомобиля</td>\n",
       "    </tr>\n",
       "    <tr>\n",
       "      <td>2</td>\n",
       "      <td>0</td>\n",
       "      <td>-5623.422610</td>\n",
       "      <td>33</td>\n",
       "      <td>Среднее</td>\n",
       "      <td>1</td>\n",
       "      <td>женат / замужем</td>\n",
       "      <td>0</td>\n",
       "      <td>M</td>\n",
       "      <td>сотрудник</td>\n",
       "      <td>0</td>\n",
       "      <td>145885.952297</td>\n",
       "      <td>покупка жилья</td>\n",
       "    </tr>\n",
       "    <tr>\n",
       "      <td>3</td>\n",
       "      <td>3</td>\n",
       "      <td>-4124.747207</td>\n",
       "      <td>32</td>\n",
       "      <td>среднее</td>\n",
       "      <td>1</td>\n",
       "      <td>женат / замужем</td>\n",
       "      <td>0</td>\n",
       "      <td>M</td>\n",
       "      <td>сотрудник</td>\n",
       "      <td>0</td>\n",
       "      <td>267628.550329</td>\n",
       "      <td>дополнительное образование</td>\n",
       "    </tr>\n",
       "    <tr>\n",
       "      <td>4</td>\n",
       "      <td>0</td>\n",
       "      <td>340266.072047</td>\n",
       "      <td>53</td>\n",
       "      <td>среднее</td>\n",
       "      <td>1</td>\n",
       "      <td>гражданский брак</td>\n",
       "      <td>1</td>\n",
       "      <td>F</td>\n",
       "      <td>пенсионер</td>\n",
       "      <td>0</td>\n",
       "      <td>158616.077870</td>\n",
       "      <td>сыграть свадьбу</td>\n",
       "    </tr>\n",
       "    <tr>\n",
       "      <td>...</td>\n",
       "      <td>...</td>\n",
       "      <td>...</td>\n",
       "      <td>...</td>\n",
       "      <td>...</td>\n",
       "      <td>...</td>\n",
       "      <td>...</td>\n",
       "      <td>...</td>\n",
       "      <td>...</td>\n",
       "      <td>...</td>\n",
       "      <td>...</td>\n",
       "      <td>...</td>\n",
       "      <td>...</td>\n",
       "    </tr>\n",
       "    <tr>\n",
       "      <td>21520</td>\n",
       "      <td>1</td>\n",
       "      <td>-4529.316663</td>\n",
       "      <td>43</td>\n",
       "      <td>среднее</td>\n",
       "      <td>1</td>\n",
       "      <td>гражданский брак</td>\n",
       "      <td>1</td>\n",
       "      <td>F</td>\n",
       "      <td>компаньон</td>\n",
       "      <td>0</td>\n",
       "      <td>224791.862382</td>\n",
       "      <td>операции с жильем</td>\n",
       "    </tr>\n",
       "    <tr>\n",
       "      <td>21521</td>\n",
       "      <td>0</td>\n",
       "      <td>343937.404131</td>\n",
       "      <td>67</td>\n",
       "      <td>среднее</td>\n",
       "      <td>1</td>\n",
       "      <td>женат / замужем</td>\n",
       "      <td>0</td>\n",
       "      <td>F</td>\n",
       "      <td>пенсионер</td>\n",
       "      <td>0</td>\n",
       "      <td>155999.806512</td>\n",
       "      <td>сделка с автомобилем</td>\n",
       "    </tr>\n",
       "    <tr>\n",
       "      <td>21522</td>\n",
       "      <td>1</td>\n",
       "      <td>-2113.346888</td>\n",
       "      <td>38</td>\n",
       "      <td>среднее</td>\n",
       "      <td>1</td>\n",
       "      <td>гражданский брак</td>\n",
       "      <td>1</td>\n",
       "      <td>M</td>\n",
       "      <td>сотрудник</td>\n",
       "      <td>1</td>\n",
       "      <td>89672.561153</td>\n",
       "      <td>недвижимость</td>\n",
       "    </tr>\n",
       "    <tr>\n",
       "      <td>21523</td>\n",
       "      <td>3</td>\n",
       "      <td>-3112.481705</td>\n",
       "      <td>38</td>\n",
       "      <td>среднее</td>\n",
       "      <td>1</td>\n",
       "      <td>женат / замужем</td>\n",
       "      <td>0</td>\n",
       "      <td>M</td>\n",
       "      <td>сотрудник</td>\n",
       "      <td>1</td>\n",
       "      <td>244093.050500</td>\n",
       "      <td>на покупку своего автомобиля</td>\n",
       "    </tr>\n",
       "    <tr>\n",
       "      <td>21524</td>\n",
       "      <td>2</td>\n",
       "      <td>-1984.507589</td>\n",
       "      <td>40</td>\n",
       "      <td>среднее</td>\n",
       "      <td>1</td>\n",
       "      <td>женат / замужем</td>\n",
       "      <td>0</td>\n",
       "      <td>F</td>\n",
       "      <td>сотрудник</td>\n",
       "      <td>0</td>\n",
       "      <td>82047.418899</td>\n",
       "      <td>на покупку автомобиля</td>\n",
       "    </tr>\n",
       "  </tbody>\n",
       "</table>\n",
       "<p>21525 rows × 12 columns</p>\n",
       "</div>"
      ],
      "text/plain": [
       "       children  days_employed  dob_years education  education_id  \\\n",
       "0             1   -8437.673028         42    высшее             0   \n",
       "1             1   -4024.803754         36   среднее             1   \n",
       "2             0   -5623.422610         33   Среднее             1   \n",
       "3             3   -4124.747207         32   среднее             1   \n",
       "4             0  340266.072047         53   среднее             1   \n",
       "...         ...            ...        ...       ...           ...   \n",
       "21520         1   -4529.316663         43   среднее             1   \n",
       "21521         0  343937.404131         67   среднее             1   \n",
       "21522         1   -2113.346888         38   среднее             1   \n",
       "21523         3   -3112.481705         38   среднее             1   \n",
       "21524         2   -1984.507589         40   среднее             1   \n",
       "\n",
       "          family_status  family_status_id gender income_type  debt  \\\n",
       "0       женат / замужем                 0      F   сотрудник     0   \n",
       "1       женат / замужем                 0      F   сотрудник     0   \n",
       "2       женат / замужем                 0      M   сотрудник     0   \n",
       "3       женат / замужем                 0      M   сотрудник     0   \n",
       "4      гражданский брак                 1      F   пенсионер     0   \n",
       "...                 ...               ...    ...         ...   ...   \n",
       "21520  гражданский брак                 1      F   компаньон     0   \n",
       "21521   женат / замужем                 0      F   пенсионер     0   \n",
       "21522  гражданский брак                 1      M   сотрудник     1   \n",
       "21523   женат / замужем                 0      M   сотрудник     1   \n",
       "21524   женат / замужем                 0      F   сотрудник     0   \n",
       "\n",
       "        total_income                       purpose  \n",
       "0      253875.639453                 покупка жилья  \n",
       "1      112080.014102       приобретение автомобиля  \n",
       "2      145885.952297                 покупка жилья  \n",
       "3      267628.550329    дополнительное образование  \n",
       "4      158616.077870               сыграть свадьбу  \n",
       "...              ...                           ...  \n",
       "21520  224791.862382             операции с жильем  \n",
       "21521  155999.806512          сделка с автомобилем  \n",
       "21522   89672.561153                  недвижимость  \n",
       "21523  244093.050500  на покупку своего автомобиля  \n",
       "21524   82047.418899         на покупку автомобиля  \n",
       "\n",
       "[21525 rows x 12 columns]"
      ]
     },
     "metadata": {},
     "output_type": "display_data"
    }
   ],
   "source": [
    "df = pd.read_csv('/datasets/data.csv')\n",
    "display(df)"
   ]
  },
  {
   "cell_type": "code",
   "execution_count": 5,
   "metadata": {},
   "outputs": [
    {
     "data": {
      "text/html": [
       "<div>\n",
       "<style scoped>\n",
       "    .dataframe tbody tr th:only-of-type {\n",
       "        vertical-align: middle;\n",
       "    }\n",
       "\n",
       "    .dataframe tbody tr th {\n",
       "        vertical-align: top;\n",
       "    }\n",
       "\n",
       "    .dataframe thead th {\n",
       "        text-align: right;\n",
       "    }\n",
       "</style>\n",
       "<table border=\"1\" class=\"dataframe\">\n",
       "  <thead>\n",
       "    <tr style=\"text-align: right;\">\n",
       "      <th></th>\n",
       "      <th>children</th>\n",
       "      <th>days_employed</th>\n",
       "      <th>dob_years</th>\n",
       "      <th>education</th>\n",
       "      <th>education_id</th>\n",
       "      <th>family_status</th>\n",
       "      <th>family_status_id</th>\n",
       "      <th>gender</th>\n",
       "      <th>income_type</th>\n",
       "      <th>debt</th>\n",
       "      <th>total_income</th>\n",
       "      <th>purpose</th>\n",
       "    </tr>\n",
       "  </thead>\n",
       "  <tbody>\n",
       "    <tr>\n",
       "      <td>0</td>\n",
       "      <td>1</td>\n",
       "      <td>-8437.673028</td>\n",
       "      <td>42</td>\n",
       "      <td>высшее</td>\n",
       "      <td>0</td>\n",
       "      <td>женат / замужем</td>\n",
       "      <td>0</td>\n",
       "      <td>F</td>\n",
       "      <td>сотрудник</td>\n",
       "      <td>0</td>\n",
       "      <td>253875.639453</td>\n",
       "      <td>покупка жилья</td>\n",
       "    </tr>\n",
       "    <tr>\n",
       "      <td>1</td>\n",
       "      <td>1</td>\n",
       "      <td>-4024.803754</td>\n",
       "      <td>36</td>\n",
       "      <td>среднее</td>\n",
       "      <td>1</td>\n",
       "      <td>женат / замужем</td>\n",
       "      <td>0</td>\n",
       "      <td>F</td>\n",
       "      <td>сотрудник</td>\n",
       "      <td>0</td>\n",
       "      <td>112080.014102</td>\n",
       "      <td>приобретение автомобиля</td>\n",
       "    </tr>\n",
       "    <tr>\n",
       "      <td>2</td>\n",
       "      <td>0</td>\n",
       "      <td>-5623.422610</td>\n",
       "      <td>33</td>\n",
       "      <td>Среднее</td>\n",
       "      <td>1</td>\n",
       "      <td>женат / замужем</td>\n",
       "      <td>0</td>\n",
       "      <td>M</td>\n",
       "      <td>сотрудник</td>\n",
       "      <td>0</td>\n",
       "      <td>145885.952297</td>\n",
       "      <td>покупка жилья</td>\n",
       "    </tr>\n",
       "    <tr>\n",
       "      <td>3</td>\n",
       "      <td>3</td>\n",
       "      <td>-4124.747207</td>\n",
       "      <td>32</td>\n",
       "      <td>среднее</td>\n",
       "      <td>1</td>\n",
       "      <td>женат / замужем</td>\n",
       "      <td>0</td>\n",
       "      <td>M</td>\n",
       "      <td>сотрудник</td>\n",
       "      <td>0</td>\n",
       "      <td>267628.550329</td>\n",
       "      <td>дополнительное образование</td>\n",
       "    </tr>\n",
       "    <tr>\n",
       "      <td>4</td>\n",
       "      <td>0</td>\n",
       "      <td>340266.072047</td>\n",
       "      <td>53</td>\n",
       "      <td>среднее</td>\n",
       "      <td>1</td>\n",
       "      <td>гражданский брак</td>\n",
       "      <td>1</td>\n",
       "      <td>F</td>\n",
       "      <td>пенсионер</td>\n",
       "      <td>0</td>\n",
       "      <td>158616.077870</td>\n",
       "      <td>сыграть свадьбу</td>\n",
       "    </tr>\n",
       "    <tr>\n",
       "      <td>5</td>\n",
       "      <td>0</td>\n",
       "      <td>-926.185831</td>\n",
       "      <td>27</td>\n",
       "      <td>высшее</td>\n",
       "      <td>0</td>\n",
       "      <td>гражданский брак</td>\n",
       "      <td>1</td>\n",
       "      <td>M</td>\n",
       "      <td>компаньон</td>\n",
       "      <td>0</td>\n",
       "      <td>255763.565419</td>\n",
       "      <td>покупка жилья</td>\n",
       "    </tr>\n",
       "    <tr>\n",
       "      <td>6</td>\n",
       "      <td>0</td>\n",
       "      <td>-2879.202052</td>\n",
       "      <td>43</td>\n",
       "      <td>высшее</td>\n",
       "      <td>0</td>\n",
       "      <td>женат / замужем</td>\n",
       "      <td>0</td>\n",
       "      <td>F</td>\n",
       "      <td>компаньон</td>\n",
       "      <td>0</td>\n",
       "      <td>240525.971920</td>\n",
       "      <td>операции с жильем</td>\n",
       "    </tr>\n",
       "    <tr>\n",
       "      <td>7</td>\n",
       "      <td>0</td>\n",
       "      <td>-152.779569</td>\n",
       "      <td>50</td>\n",
       "      <td>СРЕДНЕЕ</td>\n",
       "      <td>1</td>\n",
       "      <td>женат / замужем</td>\n",
       "      <td>0</td>\n",
       "      <td>M</td>\n",
       "      <td>сотрудник</td>\n",
       "      <td>0</td>\n",
       "      <td>135823.934197</td>\n",
       "      <td>образование</td>\n",
       "    </tr>\n",
       "    <tr>\n",
       "      <td>8</td>\n",
       "      <td>2</td>\n",
       "      <td>-6929.865299</td>\n",
       "      <td>35</td>\n",
       "      <td>ВЫСШЕЕ</td>\n",
       "      <td>0</td>\n",
       "      <td>гражданский брак</td>\n",
       "      <td>1</td>\n",
       "      <td>F</td>\n",
       "      <td>сотрудник</td>\n",
       "      <td>0</td>\n",
       "      <td>95856.832424</td>\n",
       "      <td>на проведение свадьбы</td>\n",
       "    </tr>\n",
       "    <tr>\n",
       "      <td>9</td>\n",
       "      <td>0</td>\n",
       "      <td>-2188.756445</td>\n",
       "      <td>41</td>\n",
       "      <td>среднее</td>\n",
       "      <td>1</td>\n",
       "      <td>женат / замужем</td>\n",
       "      <td>0</td>\n",
       "      <td>M</td>\n",
       "      <td>сотрудник</td>\n",
       "      <td>0</td>\n",
       "      <td>144425.938277</td>\n",
       "      <td>покупка жилья для семьи</td>\n",
       "    </tr>\n",
       "  </tbody>\n",
       "</table>\n",
       "</div>"
      ],
      "text/plain": [
       "   children  days_employed  dob_years education  education_id  \\\n",
       "0         1   -8437.673028         42    высшее             0   \n",
       "1         1   -4024.803754         36   среднее             1   \n",
       "2         0   -5623.422610         33   Среднее             1   \n",
       "3         3   -4124.747207         32   среднее             1   \n",
       "4         0  340266.072047         53   среднее             1   \n",
       "5         0    -926.185831         27    высшее             0   \n",
       "6         0   -2879.202052         43    высшее             0   \n",
       "7         0    -152.779569         50   СРЕДНЕЕ             1   \n",
       "8         2   -6929.865299         35    ВЫСШЕЕ             0   \n",
       "9         0   -2188.756445         41   среднее             1   \n",
       "\n",
       "      family_status  family_status_id gender income_type  debt   total_income  \\\n",
       "0   женат / замужем                 0      F   сотрудник     0  253875.639453   \n",
       "1   женат / замужем                 0      F   сотрудник     0  112080.014102   \n",
       "2   женат / замужем                 0      M   сотрудник     0  145885.952297   \n",
       "3   женат / замужем                 0      M   сотрудник     0  267628.550329   \n",
       "4  гражданский брак                 1      F   пенсионер     0  158616.077870   \n",
       "5  гражданский брак                 1      M   компаньон     0  255763.565419   \n",
       "6   женат / замужем                 0      F   компаньон     0  240525.971920   \n",
       "7   женат / замужем                 0      M   сотрудник     0  135823.934197   \n",
       "8  гражданский брак                 1      F   сотрудник     0   95856.832424   \n",
       "9   женат / замужем                 0      M   сотрудник     0  144425.938277   \n",
       "\n",
       "                      purpose  \n",
       "0               покупка жилья  \n",
       "1     приобретение автомобиля  \n",
       "2               покупка жилья  \n",
       "3  дополнительное образование  \n",
       "4             сыграть свадьбу  \n",
       "5               покупка жилья  \n",
       "6           операции с жильем  \n",
       "7                 образование  \n",
       "8       на проведение свадьбы  \n",
       "9     покупка жилья для семьи  "
      ]
     },
     "execution_count": 5,
     "metadata": {},
     "output_type": "execute_result"
    }
   ],
   "source": [
    "df.head(10)"
   ]
  },
  {
   "cell_type": "code",
   "execution_count": 6,
   "metadata": {},
   "outputs": [
    {
     "data": {
      "text/html": [
       "<div>\n",
       "<style scoped>\n",
       "    .dataframe tbody tr th:only-of-type {\n",
       "        vertical-align: middle;\n",
       "    }\n",
       "\n",
       "    .dataframe tbody tr th {\n",
       "        vertical-align: top;\n",
       "    }\n",
       "\n",
       "    .dataframe thead th {\n",
       "        text-align: right;\n",
       "    }\n",
       "</style>\n",
       "<table border=\"1\" class=\"dataframe\">\n",
       "  <thead>\n",
       "    <tr style=\"text-align: right;\">\n",
       "      <th></th>\n",
       "      <th>children</th>\n",
       "      <th>days_employed</th>\n",
       "      <th>dob_years</th>\n",
       "      <th>education</th>\n",
       "      <th>education_id</th>\n",
       "      <th>family_status</th>\n",
       "      <th>family_status_id</th>\n",
       "      <th>gender</th>\n",
       "      <th>income_type</th>\n",
       "      <th>debt</th>\n",
       "      <th>total_income</th>\n",
       "      <th>purpose</th>\n",
       "    </tr>\n",
       "  </thead>\n",
       "  <tbody>\n",
       "    <tr>\n",
       "      <td>21515</td>\n",
       "      <td>1</td>\n",
       "      <td>-467.685130</td>\n",
       "      <td>28</td>\n",
       "      <td>среднее</td>\n",
       "      <td>1</td>\n",
       "      <td>женат / замужем</td>\n",
       "      <td>0</td>\n",
       "      <td>F</td>\n",
       "      <td>сотрудник</td>\n",
       "      <td>1</td>\n",
       "      <td>109486.327999</td>\n",
       "      <td>заняться образованием</td>\n",
       "    </tr>\n",
       "    <tr>\n",
       "      <td>21516</td>\n",
       "      <td>0</td>\n",
       "      <td>-914.391429</td>\n",
       "      <td>42</td>\n",
       "      <td>высшее</td>\n",
       "      <td>0</td>\n",
       "      <td>женат / замужем</td>\n",
       "      <td>0</td>\n",
       "      <td>F</td>\n",
       "      <td>компаньон</td>\n",
       "      <td>0</td>\n",
       "      <td>322807.776603</td>\n",
       "      <td>покупка своего жилья</td>\n",
       "    </tr>\n",
       "    <tr>\n",
       "      <td>21517</td>\n",
       "      <td>0</td>\n",
       "      <td>-404.679034</td>\n",
       "      <td>42</td>\n",
       "      <td>высшее</td>\n",
       "      <td>0</td>\n",
       "      <td>гражданский брак</td>\n",
       "      <td>1</td>\n",
       "      <td>F</td>\n",
       "      <td>компаньон</td>\n",
       "      <td>0</td>\n",
       "      <td>178059.553491</td>\n",
       "      <td>на покупку своего автомобиля</td>\n",
       "    </tr>\n",
       "    <tr>\n",
       "      <td>21518</td>\n",
       "      <td>0</td>\n",
       "      <td>373995.710838</td>\n",
       "      <td>59</td>\n",
       "      <td>СРЕДНЕЕ</td>\n",
       "      <td>1</td>\n",
       "      <td>женат / замужем</td>\n",
       "      <td>0</td>\n",
       "      <td>F</td>\n",
       "      <td>пенсионер</td>\n",
       "      <td>0</td>\n",
       "      <td>153864.650328</td>\n",
       "      <td>сделка с автомобилем</td>\n",
       "    </tr>\n",
       "    <tr>\n",
       "      <td>21519</td>\n",
       "      <td>1</td>\n",
       "      <td>-2351.431934</td>\n",
       "      <td>37</td>\n",
       "      <td>ученая степень</td>\n",
       "      <td>4</td>\n",
       "      <td>в разводе</td>\n",
       "      <td>3</td>\n",
       "      <td>M</td>\n",
       "      <td>сотрудник</td>\n",
       "      <td>0</td>\n",
       "      <td>115949.039788</td>\n",
       "      <td>покупка коммерческой недвижимости</td>\n",
       "    </tr>\n",
       "    <tr>\n",
       "      <td>21520</td>\n",
       "      <td>1</td>\n",
       "      <td>-4529.316663</td>\n",
       "      <td>43</td>\n",
       "      <td>среднее</td>\n",
       "      <td>1</td>\n",
       "      <td>гражданский брак</td>\n",
       "      <td>1</td>\n",
       "      <td>F</td>\n",
       "      <td>компаньон</td>\n",
       "      <td>0</td>\n",
       "      <td>224791.862382</td>\n",
       "      <td>операции с жильем</td>\n",
       "    </tr>\n",
       "    <tr>\n",
       "      <td>21521</td>\n",
       "      <td>0</td>\n",
       "      <td>343937.404131</td>\n",
       "      <td>67</td>\n",
       "      <td>среднее</td>\n",
       "      <td>1</td>\n",
       "      <td>женат / замужем</td>\n",
       "      <td>0</td>\n",
       "      <td>F</td>\n",
       "      <td>пенсионер</td>\n",
       "      <td>0</td>\n",
       "      <td>155999.806512</td>\n",
       "      <td>сделка с автомобилем</td>\n",
       "    </tr>\n",
       "    <tr>\n",
       "      <td>21522</td>\n",
       "      <td>1</td>\n",
       "      <td>-2113.346888</td>\n",
       "      <td>38</td>\n",
       "      <td>среднее</td>\n",
       "      <td>1</td>\n",
       "      <td>гражданский брак</td>\n",
       "      <td>1</td>\n",
       "      <td>M</td>\n",
       "      <td>сотрудник</td>\n",
       "      <td>1</td>\n",
       "      <td>89672.561153</td>\n",
       "      <td>недвижимость</td>\n",
       "    </tr>\n",
       "    <tr>\n",
       "      <td>21523</td>\n",
       "      <td>3</td>\n",
       "      <td>-3112.481705</td>\n",
       "      <td>38</td>\n",
       "      <td>среднее</td>\n",
       "      <td>1</td>\n",
       "      <td>женат / замужем</td>\n",
       "      <td>0</td>\n",
       "      <td>M</td>\n",
       "      <td>сотрудник</td>\n",
       "      <td>1</td>\n",
       "      <td>244093.050500</td>\n",
       "      <td>на покупку своего автомобиля</td>\n",
       "    </tr>\n",
       "    <tr>\n",
       "      <td>21524</td>\n",
       "      <td>2</td>\n",
       "      <td>-1984.507589</td>\n",
       "      <td>40</td>\n",
       "      <td>среднее</td>\n",
       "      <td>1</td>\n",
       "      <td>женат / замужем</td>\n",
       "      <td>0</td>\n",
       "      <td>F</td>\n",
       "      <td>сотрудник</td>\n",
       "      <td>0</td>\n",
       "      <td>82047.418899</td>\n",
       "      <td>на покупку автомобиля</td>\n",
       "    </tr>\n",
       "  </tbody>\n",
       "</table>\n",
       "</div>"
      ],
      "text/plain": [
       "       children  days_employed  dob_years       education  education_id  \\\n",
       "21515         1    -467.685130         28         среднее             1   \n",
       "21516         0    -914.391429         42          высшее             0   \n",
       "21517         0    -404.679034         42          высшее             0   \n",
       "21518         0  373995.710838         59         СРЕДНЕЕ             1   \n",
       "21519         1   -2351.431934         37  ученая степень             4   \n",
       "21520         1   -4529.316663         43         среднее             1   \n",
       "21521         0  343937.404131         67         среднее             1   \n",
       "21522         1   -2113.346888         38         среднее             1   \n",
       "21523         3   -3112.481705         38         среднее             1   \n",
       "21524         2   -1984.507589         40         среднее             1   \n",
       "\n",
       "          family_status  family_status_id gender income_type  debt  \\\n",
       "21515   женат / замужем                 0      F   сотрудник     1   \n",
       "21516   женат / замужем                 0      F   компаньон     0   \n",
       "21517  гражданский брак                 1      F   компаньон     0   \n",
       "21518   женат / замужем                 0      F   пенсионер     0   \n",
       "21519         в разводе                 3      M   сотрудник     0   \n",
       "21520  гражданский брак                 1      F   компаньон     0   \n",
       "21521   женат / замужем                 0      F   пенсионер     0   \n",
       "21522  гражданский брак                 1      M   сотрудник     1   \n",
       "21523   женат / замужем                 0      M   сотрудник     1   \n",
       "21524   женат / замужем                 0      F   сотрудник     0   \n",
       "\n",
       "        total_income                            purpose  \n",
       "21515  109486.327999              заняться образованием  \n",
       "21516  322807.776603               покупка своего жилья  \n",
       "21517  178059.553491       на покупку своего автомобиля  \n",
       "21518  153864.650328               сделка с автомобилем  \n",
       "21519  115949.039788  покупка коммерческой недвижимости  \n",
       "21520  224791.862382                  операции с жильем  \n",
       "21521  155999.806512               сделка с автомобилем  \n",
       "21522   89672.561153                       недвижимость  \n",
       "21523  244093.050500       на покупку своего автомобиля  \n",
       "21524   82047.418899              на покупку автомобиля  "
      ]
     },
     "execution_count": 6,
     "metadata": {},
     "output_type": "execute_result"
    }
   ],
   "source": [
    "df.tail(10)"
   ]
  },
  {
   "cell_type": "markdown",
   "metadata": {},
   "source": [
    "<div class=\"alert alert-block alert-warning\">\n",
    "<b>Remarks:</b> \n",
    "   \n",
    "для знакомства с датасетом можно применить специальные методы - `head()`, `tail()` и `sample()` - попробуй. Также рекмоендую познакомиться с параметром `random_state` для функции `sample()`"
   ]
  },
  {
   "cell_type": "code",
   "execution_count": 7,
   "metadata": {},
   "outputs": [
    {
     "data": {
      "text/html": [
       "<div>\n",
       "<style scoped>\n",
       "    .dataframe tbody tr th:only-of-type {\n",
       "        vertical-align: middle;\n",
       "    }\n",
       "\n",
       "    .dataframe tbody tr th {\n",
       "        vertical-align: top;\n",
       "    }\n",
       "\n",
       "    .dataframe thead th {\n",
       "        text-align: right;\n",
       "    }\n",
       "</style>\n",
       "<table border=\"1\" class=\"dataframe\">\n",
       "  <thead>\n",
       "    <tr style=\"text-align: right;\">\n",
       "      <th></th>\n",
       "      <th>children</th>\n",
       "      <th>days_employed</th>\n",
       "      <th>dob_years</th>\n",
       "      <th>education</th>\n",
       "      <th>education_id</th>\n",
       "      <th>family_status</th>\n",
       "      <th>family_status_id</th>\n",
       "      <th>gender</th>\n",
       "      <th>income_type</th>\n",
       "      <th>debt</th>\n",
       "      <th>total_income</th>\n",
       "      <th>purpose</th>\n",
       "    </tr>\n",
       "  </thead>\n",
       "  <tbody>\n",
       "    <tr>\n",
       "      <td>1719</td>\n",
       "      <td>0</td>\n",
       "      <td>374049.572829</td>\n",
       "      <td>58</td>\n",
       "      <td>среднее</td>\n",
       "      <td>1</td>\n",
       "      <td>женат / замужем</td>\n",
       "      <td>0</td>\n",
       "      <td>F</td>\n",
       "      <td>пенсионер</td>\n",
       "      <td>0</td>\n",
       "      <td>190286.376012</td>\n",
       "      <td>покупка жилья для семьи</td>\n",
       "    </tr>\n",
       "  </tbody>\n",
       "</table>\n",
       "</div>"
      ],
      "text/plain": [
       "      children  days_employed  dob_years education  education_id  \\\n",
       "1719         0  374049.572829         58   среднее             1   \n",
       "\n",
       "        family_status  family_status_id gender income_type  debt  \\\n",
       "1719  женат / замужем                 0      F   пенсионер     0   \n",
       "\n",
       "       total_income                  purpose  \n",
       "1719  190286.376012  покупка жилья для семьи  "
      ]
     },
     "execution_count": 7,
     "metadata": {},
     "output_type": "execute_result"
    }
   ],
   "source": [
    "df.sample(random_state=10)"
   ]
  },
  {
   "cell_type": "code",
   "execution_count": 10,
   "metadata": {},
   "outputs": [
    {
     "data": {
      "text/html": [
       "<div>\n",
       "<style scoped>\n",
       "    .dataframe tbody tr th:only-of-type {\n",
       "        vertical-align: middle;\n",
       "    }\n",
       "\n",
       "    .dataframe tbody tr th {\n",
       "        vertical-align: top;\n",
       "    }\n",
       "\n",
       "    .dataframe thead th {\n",
       "        text-align: right;\n",
       "    }\n",
       "</style>\n",
       "<table border=\"1\" class=\"dataframe\">\n",
       "  <thead>\n",
       "    <tr style=\"text-align: right;\">\n",
       "      <th></th>\n",
       "      <th>count</th>\n",
       "      <th>mean</th>\n",
       "      <th>std</th>\n",
       "      <th>min</th>\n",
       "      <th>25%</th>\n",
       "      <th>50%</th>\n",
       "      <th>75%</th>\n",
       "      <th>max</th>\n",
       "    </tr>\n",
       "  </thead>\n",
       "  <tbody>\n",
       "    <tr>\n",
       "      <td>children</td>\n",
       "      <td>21525.0</td>\n",
       "      <td>0.538908</td>\n",
       "      <td>1.381587</td>\n",
       "      <td>-1.000000</td>\n",
       "      <td>0.000000</td>\n",
       "      <td>0.000000</td>\n",
       "      <td>1.000000</td>\n",
       "      <td>2.000000e+01</td>\n",
       "    </tr>\n",
       "    <tr>\n",
       "      <td>days_employed</td>\n",
       "      <td>19351.0</td>\n",
       "      <td>63046.497661</td>\n",
       "      <td>140827.311974</td>\n",
       "      <td>-18388.949901</td>\n",
       "      <td>-2747.423625</td>\n",
       "      <td>-1203.369529</td>\n",
       "      <td>-291.095954</td>\n",
       "      <td>4.017554e+05</td>\n",
       "    </tr>\n",
       "    <tr>\n",
       "      <td>dob_years</td>\n",
       "      <td>21525.0</td>\n",
       "      <td>43.293380</td>\n",
       "      <td>12.574584</td>\n",
       "      <td>0.000000</td>\n",
       "      <td>33.000000</td>\n",
       "      <td>42.000000</td>\n",
       "      <td>53.000000</td>\n",
       "      <td>7.500000e+01</td>\n",
       "    </tr>\n",
       "    <tr>\n",
       "      <td>education_id</td>\n",
       "      <td>21525.0</td>\n",
       "      <td>0.817236</td>\n",
       "      <td>0.548138</td>\n",
       "      <td>0.000000</td>\n",
       "      <td>1.000000</td>\n",
       "      <td>1.000000</td>\n",
       "      <td>1.000000</td>\n",
       "      <td>4.000000e+00</td>\n",
       "    </tr>\n",
       "    <tr>\n",
       "      <td>family_status_id</td>\n",
       "      <td>21525.0</td>\n",
       "      <td>0.972544</td>\n",
       "      <td>1.420324</td>\n",
       "      <td>0.000000</td>\n",
       "      <td>0.000000</td>\n",
       "      <td>0.000000</td>\n",
       "      <td>1.000000</td>\n",
       "      <td>4.000000e+00</td>\n",
       "    </tr>\n",
       "    <tr>\n",
       "      <td>debt</td>\n",
       "      <td>21525.0</td>\n",
       "      <td>0.080883</td>\n",
       "      <td>0.272661</td>\n",
       "      <td>0.000000</td>\n",
       "      <td>0.000000</td>\n",
       "      <td>0.000000</td>\n",
       "      <td>0.000000</td>\n",
       "      <td>1.000000e+00</td>\n",
       "    </tr>\n",
       "    <tr>\n",
       "      <td>total_income</td>\n",
       "      <td>19351.0</td>\n",
       "      <td>167422.302208</td>\n",
       "      <td>102971.566448</td>\n",
       "      <td>20667.263793</td>\n",
       "      <td>103053.152913</td>\n",
       "      <td>145017.937533</td>\n",
       "      <td>203435.067663</td>\n",
       "      <td>2.265604e+06</td>\n",
       "    </tr>\n",
       "  </tbody>\n",
       "</table>\n",
       "</div>"
      ],
      "text/plain": [
       "                    count           mean            std           min  \\\n",
       "children          21525.0       0.538908       1.381587     -1.000000   \n",
       "days_employed     19351.0   63046.497661  140827.311974 -18388.949901   \n",
       "dob_years         21525.0      43.293380      12.574584      0.000000   \n",
       "education_id      21525.0       0.817236       0.548138      0.000000   \n",
       "family_status_id  21525.0       0.972544       1.420324      0.000000   \n",
       "debt              21525.0       0.080883       0.272661      0.000000   \n",
       "total_income      19351.0  167422.302208  102971.566448  20667.263793   \n",
       "\n",
       "                            25%            50%            75%           max  \n",
       "children               0.000000       0.000000       1.000000  2.000000e+01  \n",
       "days_employed      -2747.423625   -1203.369529    -291.095954  4.017554e+05  \n",
       "dob_years             33.000000      42.000000      53.000000  7.500000e+01  \n",
       "education_id           1.000000       1.000000       1.000000  4.000000e+00  \n",
       "family_status_id       0.000000       0.000000       1.000000  4.000000e+00  \n",
       "debt                   0.000000       0.000000       0.000000  1.000000e+00  \n",
       "total_income      103053.152913  145017.937533  203435.067663  2.265604e+06  "
      ]
     },
     "execution_count": 10,
     "metadata": {},
     "output_type": "execute_result"
    }
   ],
   "source": [
    "df.describe().T"
   ]
  },
  {
   "cell_type": "markdown",
   "metadata": {},
   "source": [
    "<div class=\"alert alert-block alert-warning\">\n",
    "<b>Remarks:</b> \n",
    "   \n",
    "функция `describe()` может быть очень полезна при знакомстве с датасетом, здорово, что ты её используешь. Советую почитать про её аргументы - пригодится в следующих проектах, а также рекомендую рассматривать её в транспонированном виде - в больших датасетах будет гораздо удобнее - `df.describe().T` \n",
    "</div>"
   ]
  },
  {
   "cell_type": "markdown",
   "metadata": {},
   "source": [
    "**ИСПРАВИЛ**"
   ]
  },
  {
   "cell_type": "markdown",
   "metadata": {},
   "source": [
    "**Вывод**"
   ]
  },
  {
   "cell_type": "markdown",
   "metadata": {},
   "source": [
    "Ознакомившись с описание таблицы я обратил внимание на столбец `children`. Минимальное значение: -1, а Максимальное: 20. Я думаю, что -1 означает смерть ребенка, а 20 это необычайно большое количество детей в семье. Также в глаза бросаются отрицательные значения в столбце `days_employed`. Самое минимальное это -18388. Скорее всего, отрицательное число означает количество безработных дней. В столбике `dob_years` мы имеем нулевые значения, которые можно списать на то, что клиент при подаче заявки не указал свой возраст."
   ]
  },
  {
   "cell_type": "code",
   "execution_count": 4,
   "metadata": {},
   "outputs": [
    {
     "name": "stdout",
     "output_type": "stream",
     "text": [
      "<class 'pandas.core.frame.DataFrame'>\n",
      "RangeIndex: 21525 entries, 0 to 21524\n",
      "Data columns (total 12 columns):\n",
      "children            21525 non-null int64\n",
      "days_employed       19351 non-null float64\n",
      "dob_years           21525 non-null int64\n",
      "education           21525 non-null object\n",
      "education_id        21525 non-null int64\n",
      "family_status       21525 non-null object\n",
      "family_status_id    21525 non-null int64\n",
      "gender              21525 non-null object\n",
      "income_type         21525 non-null object\n",
      "debt                21525 non-null int64\n",
      "total_income        19351 non-null float64\n",
      "purpose             21525 non-null object\n",
      "dtypes: float64(2), int64(5), object(5)\n",
      "memory usage: 2.0+ MB\n"
     ]
    }
   ],
   "source": [
    "df.info()"
   ]
  },
  {
   "cell_type": "markdown",
   "metadata": {},
   "source": [
    "## Шаг 2. Предобработка данных"
   ]
  },
  {
   "cell_type": "markdown",
   "metadata": {},
   "source": [
    "### Обработка пропусков"
   ]
  },
  {
   "cell_type": "code",
   "execution_count": 5,
   "metadata": {},
   "outputs": [
    {
     "data": {
      "text/plain": [
       "children               0\n",
       "days_employed       2174\n",
       "dob_years              0\n",
       "education              0\n",
       "education_id           0\n",
       "family_status          0\n",
       "family_status_id       0\n",
       "gender                 0\n",
       "income_type            0\n",
       "debt                   0\n",
       "total_income        2174\n",
       "purpose                0\n",
       "dtype: int64"
      ]
     },
     "metadata": {},
     "output_type": "display_data"
    }
   ],
   "source": [
    "display(df.isna().sum())"
   ]
  },
  {
   "cell_type": "markdown",
   "metadata": {},
   "source": [
    "**Вывод**"
   ]
  },
  {
   "cell_type": "markdown",
   "metadata": {},
   "source": [
    "Мы имеем пропуски в колонках `days_employed` и `total_income`. Я связываю эти пропуски с причиной того, что некоторые люди все еще не могут трудоустроиться на работу, а, следовательно, получать ежемесячный доход. Поэтому количество пропусков взаимосвязано и одинаково. "
   ]
  },
  {
   "cell_type": "markdown",
   "metadata": {},
   "source": [
    "### Замена типа данных"
   ]
  },
  {
   "cell_type": "code",
   "execution_count": 6,
   "metadata": {},
   "outputs": [],
   "source": [
    "df['days_employed'] = pd.to_numeric(df['days_employed'], errors='coerce')\n",
    "df['total_income'] = pd.to_numeric(df['total_income'], errors='coerce')"
   ]
  },
  {
   "cell_type": "markdown",
   "metadata": {},
   "source": [
    "<div class=\"alert alert-block alert-warning\">\n",
    "<b>Remarks:</b> \n",
    "    \n",
    "Потенциал для эффективного изменения типов тут очень широк.\n",
    "    \n",
    "Давай я дам тебе две классные статьи, а ты попробуешь изменить типы данных на еще более подходящие и замеришь, сколько памяти в % ты сэкономишь:\n",
    "    \n",
    "https://pyprog.pro/data_types.html\n",
    "    \n",
    "https://habr.com/ru/company/ruvds/blog/442516/\n",
    "    \n",
    "Также обрати внимание на пары столбцов `education - education_id` и `family_status - family_status_id`"
   ]
  },
  {
   "cell_type": "markdown",
   "metadata": {},
   "source": [
    "**Не совем понян как использовать** `education - education_id` и `family_status - family_status_id`"
   ]
  },
  {
   "cell_type": "code",
   "execution_count": 7,
   "metadata": {},
   "outputs": [
    {
     "data": {
      "text/html": [
       "<div>\n",
       "<style scoped>\n",
       "    .dataframe tbody tr th:only-of-type {\n",
       "        vertical-align: middle;\n",
       "    }\n",
       "\n",
       "    .dataframe tbody tr th {\n",
       "        vertical-align: top;\n",
       "    }\n",
       "\n",
       "    .dataframe thead th {\n",
       "        text-align: right;\n",
       "    }\n",
       "</style>\n",
       "<table border=\"1\" class=\"dataframe\">\n",
       "  <thead>\n",
       "    <tr style=\"text-align: right;\">\n",
       "      <th></th>\n",
       "      <th>days_employed</th>\n",
       "      <th>total_income</th>\n",
       "    </tr>\n",
       "  </thead>\n",
       "  <tbody>\n",
       "    <tr>\n",
       "      <td>0</td>\n",
       "      <td>8437.673028</td>\n",
       "      <td>253875.639453</td>\n",
       "    </tr>\n",
       "    <tr>\n",
       "      <td>1</td>\n",
       "      <td>4024.803754</td>\n",
       "      <td>112080.014102</td>\n",
       "    </tr>\n",
       "    <tr>\n",
       "      <td>2</td>\n",
       "      <td>5623.422610</td>\n",
       "      <td>145885.952297</td>\n",
       "    </tr>\n",
       "    <tr>\n",
       "      <td>3</td>\n",
       "      <td>4124.747207</td>\n",
       "      <td>267628.550329</td>\n",
       "    </tr>\n",
       "    <tr>\n",
       "      <td>4</td>\n",
       "      <td>340266.072047</td>\n",
       "      <td>158616.077870</td>\n",
       "    </tr>\n",
       "    <tr>\n",
       "      <td>...</td>\n",
       "      <td>...</td>\n",
       "      <td>...</td>\n",
       "    </tr>\n",
       "    <tr>\n",
       "      <td>21520</td>\n",
       "      <td>4529.316663</td>\n",
       "      <td>224791.862382</td>\n",
       "    </tr>\n",
       "    <tr>\n",
       "      <td>21521</td>\n",
       "      <td>343937.404131</td>\n",
       "      <td>155999.806512</td>\n",
       "    </tr>\n",
       "    <tr>\n",
       "      <td>21522</td>\n",
       "      <td>2113.346888</td>\n",
       "      <td>89672.561153</td>\n",
       "    </tr>\n",
       "    <tr>\n",
       "      <td>21523</td>\n",
       "      <td>3112.481705</td>\n",
       "      <td>244093.050500</td>\n",
       "    </tr>\n",
       "    <tr>\n",
       "      <td>21524</td>\n",
       "      <td>1984.507589</td>\n",
       "      <td>82047.418899</td>\n",
       "    </tr>\n",
       "  </tbody>\n",
       "</table>\n",
       "<p>21525 rows × 2 columns</p>\n",
       "</div>"
      ],
      "text/plain": [
       "       days_employed   total_income\n",
       "0        8437.673028  253875.639453\n",
       "1        4024.803754  112080.014102\n",
       "2        5623.422610  145885.952297\n",
       "3        4124.747207  267628.550329\n",
       "4      340266.072047  158616.077870\n",
       "...              ...            ...\n",
       "21520    4529.316663  224791.862382\n",
       "21521  343937.404131  155999.806512\n",
       "21522    2113.346888   89672.561153\n",
       "21523    3112.481705  244093.050500\n",
       "21524    1984.507589   82047.418899\n",
       "\n",
       "[21525 rows x 2 columns]"
      ]
     },
     "metadata": {},
     "output_type": "display_data"
    }
   ],
   "source": [
    "df['days_employed'] = abs(df['days_employed'])\n",
    "df['total_income'] = abs(df['total_income']) #убрал отрицательные значения\n",
    "df['days_employed']= df['days_employed'].fillna(value=(df['days_employed'].mean()/365)) #вывел количесвто дней \n",
    "df['total_income']= df['total_income'].fillna(value=df['total_income'].mean())#заполнил пропуски средними значениями\n",
    "display(df[['days_employed', 'total_income']])"
   ]
  },
  {
   "cell_type": "markdown",
   "metadata": {},
   "source": [
    "**Вывод**"
   ]
  },
  {
   "cell_type": "markdown",
   "metadata": {},
   "source": [
    "После нескольких операций я заменил все пропущенные значения средними значениями стажа(перевел в года) и ежемесячного дохода"
   ]
  },
  {
   "cell_type": "markdown",
   "metadata": {},
   "source": [
    "### Обработка дубликатов"
   ]
  },
  {
   "cell_type": "code",
   "execution_count": 8,
   "metadata": {},
   "outputs": [
    {
     "data": {
      "text/plain": [
       "54"
      ]
     },
     "metadata": {},
     "output_type": "display_data"
    }
   ],
   "source": [
    "display(df.duplicated().sum())"
   ]
  },
  {
   "cell_type": "code",
   "execution_count": 9,
   "metadata": {},
   "outputs": [],
   "source": [
    "df = df.drop_duplicates()"
   ]
  },
  {
   "cell_type": "markdown",
   "metadata": {},
   "source": [
    "<div class=\"alert alert-block alert-warning\">\n",
    "<b>Remarks:</b> \n",
    "    \n",
    "в даатсете ещё остались неявные дубликаты из-за разного регистра строковых значений"
   ]
  },
  {
   "cell_type": "markdown",
   "metadata": {},
   "source": [
    "**ИСПРАВИЛ**"
   ]
  },
  {
   "cell_type": "markdown",
   "metadata": {},
   "source": [
    "**Вывод**"
   ]
  },
  {
   "cell_type": "code",
   "execution_count": 10,
   "metadata": {},
   "outputs": [
    {
     "data": {
      "text/plain": [
       "0"
      ]
     },
     "metadata": {},
     "output_type": "display_data"
    }
   ],
   "source": [
    "display(df.duplicated().sum())"
   ]
  },
  {
   "cell_type": "code",
   "execution_count": 12,
   "metadata": {},
   "outputs": [
    {
     "data": {
      "text/plain": [
       "array(['автомобили', 'автомобиль', 'высшее образование',\n",
       "       'дополнительное образование', 'жилье',\n",
       "       'заняться высшим образованием', 'заняться образованием',\n",
       "       'на покупку автомобиля', 'на покупку подержанного автомобиля',\n",
       "       'на покупку своего автомобиля', 'на проведение свадьбы',\n",
       "       'недвижимость', 'образование', 'операции с жильем',\n",
       "       'операции с коммерческой недвижимостью',\n",
       "       'операции с недвижимостью', 'операции со своей недвижимостью',\n",
       "       'покупка жилой недвижимости', 'покупка жилья',\n",
       "       'покупка жилья для сдачи', 'покупка жилья для семьи',\n",
       "       'покупка коммерческой недвижимости', 'покупка недвижимости',\n",
       "       'покупка своего жилья', 'получение высшего образования',\n",
       "       'получение дополнительного образования', 'получение образования',\n",
       "       'приобретение автомобиля', 'профильное образование',\n",
       "       'ремонт жилью', 'свадьба', 'свой автомобиль',\n",
       "       'сделка с автомобилем', 'сделка с подержанным автомобилем',\n",
       "       'строительство жилой недвижимости', 'строительство недвижимости',\n",
       "       'строительство собственной недвижимости', 'сыграть свадьбу'],\n",
       "      dtype=object)"
      ]
     },
     "metadata": {},
     "output_type": "display_data"
    }
   ],
   "source": [
    "implicit_diplicates = df['purpose'].sort_values(ascending=True).unique()\n",
    "display(implicit_diplicates)"
   ]
  },
  {
   "cell_type": "code",
   "execution_count": 13,
   "metadata": {},
   "outputs": [],
   "source": [
    "def replace_wrong_purposes(wrong_purpose, correct_purpose):\n",
    "    for i in implicit_diplicates:\n",
    "        if i == wrong_purpose:\n",
    "            df['purpose'] = df['purpose'].replace(wrong_purpose, correct_purpose)\n",
    "            result = df.loc[df.loc[:,'purpose'] == wrong_purpose]['purpose'].count()\n",
    "            return result"
   ]
  },
  {
   "cell_type": "code",
   "execution_count": 21,
   "metadata": {},
   "outputs": [
    {
     "data": {
      "text/plain": [
       "array(['на покупку автомобиля', 'недвижимость', 'образование',\n",
       "       'покупка жилья', 'ремонт жилья', 'свадьба', 'строительство'],\n",
       "      dtype=object)"
      ]
     },
     "metadata": {},
     "output_type": "display_data"
    }
   ],
   "source": [
    "replace_wrong_purposes('автомобиль', 'на покупку автомобиля')\n",
    "replace_wrong_purposes('на покупку подержанного автомобиля', 'на покупку автомобиля')\n",
    "replace_wrong_purposes('на покупку своего автомобиля', 'на покупку автомобиля')\n",
    "replace_wrong_purposes('приобретение автомобиля', 'на покупку автомобиля')\n",
    "replace_wrong_purposes('свой автомобиль', 'на покупку автомобиля')\n",
    "replace_wrong_purposes('сделка с автомобилем', 'на покупку автомобиля')\n",
    "replace_wrong_purposes('сделка с подержанным автомобилем', 'на покупку автомобиля')\n",
    "replace_wrong_purposes('дополнительное образование', 'образование')\n",
    "replace_wrong_purposes('высшее образование', 'образование')\n",
    "replace_wrong_purposes('заняться высшим образованием', 'образование')\n",
    "replace_wrong_purposes('заняться образованием', 'образование')\n",
    "replace_wrong_purposes('получение высшего образования', 'образование')\n",
    "replace_wrong_purposes('получение дополнительного образования', 'образование')\n",
    "replace_wrong_purposes('получение образования', 'образование')\n",
    "replace_wrong_purposes('профильное образование', 'образование')\n",
    "replace_wrong_purposes('операции с жильем', 'недвижимость')\n",
    "replace_wrong_purposes('операции с коммерческой недвижимостью', 'недвижимость')\n",
    "replace_wrong_purposes('операции с недвижимостью', 'недвижимость')\n",
    "replace_wrong_purposes('операции со своей недвижимостью', 'недвижимость')\n",
    "replace_wrong_purposes('покупка жилой недвижимости', 'недвижимость')\n",
    "replace_wrong_purposes('покупка коммерческой недвижимости', 'недвижимость')\n",
    "replace_wrong_purposes('покупка недвижимости', 'недвижимость')\n",
    "replace_wrong_purposes('жилье', 'покупка жилья')\n",
    "replace_wrong_purposes('покупка жилья для сдачи', 'покупка жилья')\n",
    "replace_wrong_purposes('покупка жилья для семьи', 'покупка жилья')\n",
    "replace_wrong_purposes('покупка жилья для семьи', 'покупка жилья')\n",
    "replace_wrong_purposes('покупка своего жилья', 'покупка жилья')\n",
    "replace_wrong_purposes('на проведение свадьбы', 'свадьба')\n",
    "replace_wrong_purposes('сыграть свадьбу', 'свадьба')\n",
    "replace_wrong_purposes('строительство жилой недвижимости', 'строительство')\n",
    "replace_wrong_purposes('строительство недвижимости', 'строительство')\n",
    "replace_wrong_purposes('строительство собственной недвижимости', 'строительство')\n",
    "replace_wrong_purposes('ремонт жилью', 'ремонт жилья')\n",
    "display(df['purpose'].sort_values(ascending=True).unique())"
   ]
  },
  {
   "cell_type": "markdown",
   "metadata": {},
   "source": [
    "После нескольких операция были удалены дубликаты вместе с неявными дубликатами. Я полагаю, что дубликаты появились ошибочно при заполнении"
   ]
  },
  {
   "cell_type": "markdown",
   "metadata": {},
   "source": [
    "### Лемматизация"
   ]
  },
  {
   "cell_type": "code",
   "execution_count": 22,
   "metadata": {},
   "outputs": [
    {
     "data": {
      "text/plain": [
       "недвижимость             5139\n",
       "на покупку автомобиля    4315\n",
       "образование              4022\n",
       "покупка жилья            3208\n",
       "свадьба                  2348\n",
       "строительство            1881\n",
       "ремонт жилья              612\n",
       "Name: purpose, dtype: int64"
      ]
     },
     "metadata": {},
     "output_type": "display_data"
    }
   ],
   "source": [
    "purposes = df['purpose'].value_counts()\n",
    "display(df['purpose'].value_counts())"
   ]
  },
  {
   "cell_type": "code",
   "execution_count": 31,
   "metadata": {},
   "outputs": [
    {
     "data": {
      "text/plain": [
       "Counter({'покупка': 7523,\n",
       "         ' ': 12450,\n",
       "         'жилье': 3820,\n",
       "         '\\n': 21525,\n",
       "         'на': 4315,\n",
       "         'автомобиль': 4315,\n",
       "         'образование': 4022,\n",
       "         'свадьба': 2348,\n",
       "         'недвижимость': 5139,\n",
       "         'строительство': 1881,\n",
       "         'ремонт': 612})"
      ]
     },
     "metadata": {},
     "output_type": "display_data"
    }
   ],
   "source": [
    "m = Mystem()\n",
    "lem_list = []\n",
    "for i in df['purpose']:\n",
    "    lemmas = m.lemmatize(i)\n",
    "    lem_list.extend(lemmas)\n",
    "\n",
    "display(Counter(lem_list))"
   ]
  },
  {
   "cell_type": "markdown",
   "metadata": {},
   "source": [
    "**Вывод**"
   ]
  },
  {
   "cell_type": "markdown",
   "metadata": {},
   "source": [
    "Мной был пролемматизирован столбец `purpose`, потому что он показывает цели клинетов для выдачи кредита. Исходя из этой информации я составил список уникальных лемм"
   ]
  },
  {
   "cell_type": "markdown",
   "metadata": {},
   "source": [
    "<div class=\"alert alert-block alert-success\">\n",
    "<b>Success:</b> лемматизация выполнена хорошо!"
   ]
  },
  {
   "cell_type": "markdown",
   "metadata": {},
   "source": [
    "### Категоризация данных"
   ]
  },
  {
   "cell_type": "code",
   "execution_count": 23,
   "metadata": {},
   "outputs": [],
   "source": [
    "def dependence_between_money_and_children(row):\n",
    "    child = row['children']\n",
    "    money = row['debt']\n",
    "    if child > 1 & child <= 5:\n",
    "        if money == 1:\n",
    "            return 'ненадежные плательщики'\n",
    "    if child > 1 & child <= 5:\n",
    "        if money == 0:\n",
    "            return 'плательщики'\n",
    "    if child == 0:\n",
    "        if money == 1:\n",
    "            return 'ненадежные плательщики без детей'\n",
    "    if child >= 3 & child <= 5:\n",
    "        if money == 1:\n",
    "            return 'многодетные ненадежные плательщики'"
   ]
  },
  {
   "cell_type": "code",
   "execution_count": 24,
   "metadata": {},
   "outputs": [
    {
     "data": {
      "text/plain": [
       "'плательщики'"
      ]
     },
     "metadata": {},
     "output_type": "display_data"
    }
   ],
   "source": [
    "row_values = [2, 0]\n",
    "row_columns = ['children', 'debt']\n",
    "row = pd.Series(data=row_values, index=row_columns)\n",
    "display(dependence_between_money_and_children(row))"
   ]
  },
  {
   "cell_type": "code",
   "execution_count": 25,
   "metadata": {},
   "outputs": [
    {
     "data": {
      "text/plain": [
       "плательщики                           2278\n",
       "ненадежные плательщики без детей      1063\n",
       "многодетные ненадежные плательщики     444\n",
       "ненадежные плательщики                 233\n",
       "Name: dependence, dtype: int64"
      ]
     },
     "metadata": {},
     "output_type": "display_data"
    }
   ],
   "source": [
    "df['dependence'] = df.apply(dependence_between_money_and_children, axis=1)\n",
    "display(df['dependence'].value_counts())"
   ]
  },
  {
   "cell_type": "markdown",
   "metadata": {},
   "source": [
    "**Вывод**"
   ]
  },
  {
   "cell_type": "markdown",
   "metadata": {},
   "source": [
    "После данного исследования можно понять, что количество неплательщиков, которые не имеют детей, составляют почти половину от данных. Также мы можем наблюдать интересный факт, что есть много плательщиков с большим количеством детей."
   ]
  },
  {
   "cell_type": "markdown",
   "metadata": {},
   "source": [
    "## Шаг 3. Ответьте на вопросы"
   ]
  },
  {
   "cell_type": "markdown",
   "metadata": {},
   "source": [
    "- Есть ли зависимость между наличием детей и возвратом кредита в срок?"
   ]
  },
  {
   "cell_type": "code",
   "execution_count": 26,
   "metadata": {},
   "outputs": [
    {
     "data": {
      "text/plain": [
       "children  debt\n",
       "-1        0          46\n",
       "          1           1\n",
       " 0        0       13086\n",
       "          1        1063\n",
       " 1        0        4374\n",
       "          1         444\n",
       " 2        0        1861\n",
       "          1         194\n",
       " 3        0         303\n",
       "          1          27\n",
       " 4        0          37\n",
       "          1           4\n",
       " 5        0           9\n",
       " 20       0          68\n",
       "          1           8\n",
       "Name: debt, dtype: int64"
      ]
     },
     "metadata": {},
     "output_type": "display_data"
    }
   ],
   "source": [
    "display(df.groupby('children')['debt'].value_counts())"
   ]
  },
  {
   "cell_type": "markdown",
   "metadata": {},
   "source": [
    "**Вывод**"
   ]
  },
  {
   "cell_type": "markdown",
   "metadata": {},
   "source": [
    "Анализируя данный вопрос можно отметить, что даже имея детей, доля плательщиков больше доли неплательщиков. Значит, дети не сильно влияют на платежеспособность"
   ]
  },
  {
   "cell_type": "markdown",
   "metadata": {},
   "source": [
    "- Есть ли зависимость между семейным положением и возвратом кредита в срок?"
   ]
  },
  {
   "cell_type": "code",
   "execution_count": 27,
   "metadata": {},
   "outputs": [
    {
     "name": "stdout",
     "output_type": "stream",
     "text": [
      "женат / замужем          12380\n",
      "гражданский брак          4177\n",
      "Не женат / не замужем     2813\n",
      "в разводе                 1195\n",
      "вдовец / вдова             960\n",
      "Name: family_status, dtype: int64\n"
     ]
    }
   ],
   "source": [
    "def family_status_with_debt(row):\n",
    "    family_status = row['family_status']\n",
    "    debt = row['debt']\n",
    "   \n",
    "    if family_status == 0:\n",
    "        if debt == 1:\n",
    "            return 'Неплательщик в браке'\n",
    "       \n",
    "    if family_status == 0:\n",
    "        if debt == 0:\n",
    "            return 'Плательщик не в браке'\n",
    "                \n",
    "    if family_status == 1:\n",
    "        if debt == 1:\n",
    "            return 'Неплательщик в гражданском браке'\n",
    "       \n",
    "    if family_status == 1:\n",
    "        if debt == 0:\n",
    "            return 'Плательщик в гражданском браке'\n",
    "           \n",
    "    if family_status == 2:\n",
    "        if debt == 1:\n",
    "            return 'Неплательщик(-ца) вдовец / вдова'\n",
    "       \n",
    "    if family_status == 2:\n",
    "        if debt == 0:\n",
    "            return 'Плательщик(-ца) вдовец / вдова'\n",
    "                \n",
    "    if family_status == 3:\n",
    "        if debt == 1:\n",
    "            return 'Неплательщик в разводе'\n",
    "       \n",
    "    if family_status == 3:\n",
    "        if debt == 0:\n",
    "            return 'Плательщик в разводе'\n",
    "               \n",
    "    if family_status == 4:\n",
    "        if debt == 1:\n",
    "            return 'Неженатый неплательщик'\n",
    "       \n",
    "    if family_status == 4:\n",
    "        if debt == 0:\n",
    "            return 'Неженатый плательщик'\n",
    "\n",
    "row_values = [1, 0]\n",
    "\n",
    "row_columns = ['family_status', 'debt'] \n",
    "row = pd.Series(data=row_values, index=row_columns)\n",
    " \n",
    "df['dependence_btw_status_and_debt'] = df.apply(family_status_with_debt, axis=1)\n",
    "print(df['family_status'].value_counts())"
   ]
  },
  {
   "cell_type": "markdown",
   "metadata": {},
   "source": [
    "**Вывод**"
   ]
  },
  {
   "cell_type": "markdown",
   "metadata": {},
   "source": [
    "В данном вопросе стоит заметить, что люди в браке более платежеспособные, чем другие"
   ]
  },
  {
   "cell_type": "markdown",
   "metadata": {},
   "source": [
    "- Есть ли зависимость между уровнем дохода и возвратом кредита в срок?"
   ]
  },
  {
   "cell_type": "code",
   "execution_count": 28,
   "metadata": {
    "scrolled": false
   },
   "outputs": [
    {
     "data": {
      "text/plain": [
       "Плательщик со средним доходом      8940\n",
       "Плательщик с высоким доходом       8250\n",
       "Неплательщик со средним доходом     819\n",
       "Неплательщик с высоким доходом      712\n",
       "Плательщик с низким доходом         349\n",
       "Неплательщик с низким доходом        23\n",
       "Name: dependence_btw_salary_and_debt, dtype: int64"
      ]
     },
     "metadata": {},
     "output_type": "display_data"
    }
   ],
   "source": [
    "def total_income_with_debt(row):\n",
    "    total_income = row['total_income']\n",
    "    debt = row['debt']\n",
    "  \n",
    "    if total_income > 1 and total_income <= 50000:\n",
    "        if debt == 1:\n",
    "            return 'Неплательщик с низким доходом'\n",
    "       \n",
    "    if total_income > 1 and total_income <= 50000:\n",
    "        if debt == 0:\n",
    "            return 'Плательщик с низким доходом'\n",
    "              \n",
    "    if total_income > 51000 and total_income <= 150000:\n",
    "        if debt == 1:\n",
    "            return 'Неплательщик со средним доходом'\n",
    "       \n",
    "    if total_income > 51000 and total_income <= 150000:\n",
    "        if debt == 0:\n",
    "            return 'Плательщик со средним доходом'\n",
    "                \n",
    "    if total_income > 150000 and total_income <= 500000:\n",
    "        if debt == 1:\n",
    "            return 'Неплательщик с высоким доходом'\n",
    "       \n",
    "    if total_income > 150000 and total_income <= 500000:\n",
    "        if debt == 0:\n",
    "            return 'Плательщик с высоким доходом'\n",
    "\n",
    "row_values = [250000, 0]\n",
    "row_columns = ['total_income', 'debt'] \n",
    "row = pd.Series(data=row_values, index=row_columns)\n",
    "\n",
    "df['dependence_btw_salary_and_debt'] = df.apply(total_income_with_debt, axis=1)\n",
    "display(df['dependence_btw_salary_and_debt'].value_counts()) "
   ]
  },
  {
   "cell_type": "code",
   "execution_count": 29,
   "metadata": {},
   "outputs": [
    {
     "name": "stdout",
     "output_type": "stream",
     "text": [
      "Доля плательщиков с высоким доходом к доле неплательщиков с высоким доходом: 10.855738362760835\n",
      "Доля плательщиков со средним доходом к доле неплательщиков со средним доходом: 10.225119930222416\n",
      "Доля плательщиков с низким доходом к доле неплательщиков с низким доходом: 14.201863354037267\n"
     ]
    }
   ],
   "source": [
    "res1 = df.loc[(df['dependence_btw_salary_and_debt'] == 'Плательщик с высоким доходом')].count().sum() / df.loc[(df['dependence_btw_salary_and_debt'] == 'Неплательщик с высоким доходом')].count().sum()\n",
    "res2 = df.loc[(df['dependence_btw_salary_and_debt'] == 'Плательщик со средним доходом')].count().sum() / df.loc[(df['dependence_btw_salary_and_debt'] == 'Неплательщик со средним доходом')].count().sum()\n",
    "res3 = df.loc[(df['dependence_btw_salary_and_debt'] == 'Плательщик с низким доходом')].count().sum() / df.loc[(df['dependence_btw_salary_and_debt'] == 'Неплательщик с низким доходом')].count().sum()\n",
    "print('Доля плательщиков с высоким доходом к доле неплательщиков с высоким доходом:', res1)\n",
    "print('Доля плательщиков со средним доходом к доле неплательщиков со средним доходом:', res2)\n",
    "print('Доля плательщиков с низким доходом к доле неплательщиков с низким доходом:', res3)"
   ]
  },
  {
   "cell_type": "markdown",
   "metadata": {},
   "source": [
    "**Вывод**"
   ]
  },
  {
   "cell_type": "markdown",
   "metadata": {},
   "source": [
    "Можно сделать вывод и сказать, что наиболее надежные плательщики имеют средний доход. Как и ожидалось, плательщики с низким доходом наиболее ненадежные как и плательщики с высоким доходом по сравннению с плательщиками со средним доходом"
   ]
  },
  {
   "cell_type": "markdown",
   "metadata": {},
   "source": [
    "- Как разные цели кредита влияют на его возврат в срок?"
   ]
  },
  {
   "cell_type": "code",
   "execution_count": 30,
   "metadata": {},
   "outputs": [
    {
     "data": {
      "text/html": [
       "<div>\n",
       "<style scoped>\n",
       "    .dataframe tbody tr th:only-of-type {\n",
       "        vertical-align: middle;\n",
       "    }\n",
       "\n",
       "    .dataframe tbody tr th {\n",
       "        vertical-align: top;\n",
       "    }\n",
       "\n",
       "    .dataframe thead th {\n",
       "        text-align: right;\n",
       "    }\n",
       "</style>\n",
       "<table border=\"1\" class=\"dataframe\">\n",
       "  <thead>\n",
       "    <tr style=\"text-align: right;\">\n",
       "      <th></th>\n",
       "      <th>sum_purpose</th>\n",
       "      <th>count_purpose</th>\n",
       "      <th>result</th>\n",
       "    </tr>\n",
       "    <tr>\n",
       "      <th>purpose</th>\n",
       "      <th></th>\n",
       "      <th></th>\n",
       "      <th></th>\n",
       "    </tr>\n",
       "  </thead>\n",
       "  <tbody>\n",
       "    <tr>\n",
       "      <td>на покупку автомобиля</td>\n",
       "      <td>403</td>\n",
       "      <td>4315</td>\n",
       "      <td>0.093395</td>\n",
       "    </tr>\n",
       "    <tr>\n",
       "      <td>образование</td>\n",
       "      <td>370</td>\n",
       "      <td>4022</td>\n",
       "      <td>0.091994</td>\n",
       "    </tr>\n",
       "    <tr>\n",
       "      <td>свадьба</td>\n",
       "      <td>186</td>\n",
       "      <td>2348</td>\n",
       "      <td>0.079216</td>\n",
       "    </tr>\n",
       "    <tr>\n",
       "      <td>строительство</td>\n",
       "      <td>144</td>\n",
       "      <td>1881</td>\n",
       "      <td>0.076555</td>\n",
       "    </tr>\n",
       "    <tr>\n",
       "      <td>недвижимость</td>\n",
       "      <td>378</td>\n",
       "      <td>5139</td>\n",
       "      <td>0.073555</td>\n",
       "    </tr>\n",
       "    <tr>\n",
       "      <td>покупка жилья</td>\n",
       "      <td>225</td>\n",
       "      <td>3208</td>\n",
       "      <td>0.070137</td>\n",
       "    </tr>\n",
       "    <tr>\n",
       "      <td>ремонт жилья</td>\n",
       "      <td>35</td>\n",
       "      <td>612</td>\n",
       "      <td>0.057190</td>\n",
       "    </tr>\n",
       "  </tbody>\n",
       "</table>\n",
       "</div>"
      ],
      "text/plain": [
       "                       sum_purpose  count_purpose    result\n",
       "purpose                                                    \n",
       "на покупку автомобиля          403           4315  0.093395\n",
       "образование                    370           4022  0.091994\n",
       "свадьба                        186           2348  0.079216\n",
       "строительство                  144           1881  0.076555\n",
       "недвижимость                   378           5139  0.073555\n",
       "покупка жилья                  225           3208  0.070137\n",
       "ремонт жилья                    35            612  0.057190"
      ]
     },
     "execution_count": 30,
     "metadata": {},
     "output_type": "execute_result"
    }
   ],
   "source": [
    "df_purpose = pd.DataFrame()\n",
    "df_purpose['sum_purpose'] = df.groupby('purpose')['debt'].sum()\n",
    "df_purpose['count_purpose'] = df.groupby('purpose')['debt'].count()\n",
    "df_purpose['result'] = df_purpose['sum_purpose'] / df_purpose['count_purpose'] \n",
    "df_purpose.sort_values('result', ascending = False)"
   ]
  },
  {
   "cell_type": "markdown",
   "metadata": {},
   "source": [
    "**Вывод**"
   ]
  },
  {
   "cell_type": "markdown",
   "metadata": {},
   "source": [
    "Как мы можем видеть кредит на `покупку своего жилья` или `ремонт жилья` люди платят в срок чаще в сравнении с получением `образования` или с `покупкой автомобиля`"
   ]
  },
  {
   "cell_type": "markdown",
   "metadata": {},
   "source": [
    "## Шаг 4. Общий вывод"
   ]
  },
  {
   "cell_type": "markdown",
   "metadata": {},
   "source": [
    "Семейный статус влияет на своевременный платеж в срок. \n",
    "Заемщики, которые официально **женаты и не имеют детей** самые ответсветвенные плательщики.\n",
    "Замщики, которые официально **не женаты или находятся в отношениях**, а также имеющие **детей** являются безответсвенными плательщиками"
   ]
  },
  {
   "cell_type": "markdown",
   "metadata": {},
   "source": [
    "<div class=\"alert alert-block alert-warning\">\n",
    "    \n",
    "<b>Remarks:</b>  Также давай напишем информативный общий вывод. Подумай об этом так: большинство заказчиков мало понимают в датасаенсе и начнут читать работу именно с него. Вывод должен содержать все обнаруженные инсайды и главное цифры.</div>"
   ]
  },
  {
   "cell_type": "markdown",
   "metadata": {},
   "source": [
    "**ИСПРАВИЛ**"
   ]
  },
  {
   "cell_type": "markdown",
   "metadata": {},
   "source": [
    "## Чек-лист готовности проекта\n",
    "\n",
    "Поставьте 'x' в выполненных пунктах. Далее нажмите Shift+Enter."
   ]
  },
  {
   "cell_type": "markdown",
   "metadata": {},
   "source": [
    "- [x]  открыт файл;\n",
    "- [x]  файл изучен;\n",
    "- [x]  определены пропущенные значения;\n",
    "- [x]  заполнены пропущенные значения;\n",
    "- [x]  есть пояснение, какие пропущенные значения обнаружены;\n",
    "- [x]  описаны возможные причины появления пропусков в данных;\n",
    "- [x]  объяснено, по какому принципу заполнены пропуски;\n",
    "- [x]  заменен вещественный тип данных на целочисленный;\n",
    "- [x]  есть пояснение, какой метод используется для изменения типа данных и почему;\n",
    "- [x]  удалены дубликаты;\n",
    "- [x]  есть пояснение, какой метод используется для поиска и удаления дубликатов;\n",
    "- [x]  описаны возможные причины появления дубликатов в данных;\n",
    "- [x]  выделены леммы в значениях столбца с целями получения кредита;\n",
    "- [x]  описан процесс лемматизации;\n",
    "- [x]  данные категоризированы;\n",
    "- [x]  есть объяснение принципа категоризации данных;\n",
    "- [x]  есть ответ на вопрос: \"Есть ли зависимость между наличием детей и возвратом кредита в срок?\";\n",
    "- [x]  есть ответ на вопрос: \"Есть ли зависимость между семейным положением и возвратом кредита в срок?\";\n",
    "- [x]  есть ответ на вопрос: \"Есть ли зависимость между уровнем дохода и возвратом кредита в срок?\";\n",
    "- [x]  есть ответ на вопрос: \"Как разные цели кредита влияют на его возврат в срок?\";\n",
    "- [x]  в каждом этапе есть выводы;\n",
    "- [x]  есть общий вывод."
   ]
  }
 ],
 "metadata": {
  "ExecuteTimeLog": [
   {
    "duration": 2013,
    "start_time": "2021-11-18T06:10:33.365Z"
   },
   {
    "duration": 58,
    "start_time": "2021-11-18T06:11:11.316Z"
   },
   {
    "duration": 68,
    "start_time": "2021-11-18T06:43:05.974Z"
   },
   {
    "duration": 10,
    "start_time": "2021-11-18T06:43:54.521Z"
   },
   {
    "duration": 3,
    "start_time": "2021-11-18T06:56:40.081Z"
   },
   {
    "duration": 868,
    "start_time": "2021-11-18T06:57:26.892Z"
   },
   {
    "duration": 65,
    "start_time": "2021-11-18T06:57:27.762Z"
   },
   {
    "duration": 31,
    "start_time": "2021-11-18T06:58:10.169Z"
   },
   {
    "duration": 11,
    "start_time": "2021-11-18T07:10:18.581Z"
   },
   {
    "duration": 7,
    "start_time": "2021-11-18T08:26:52.110Z"
   },
   {
    "duration": 23,
    "start_time": "2021-11-18T08:27:10.614Z"
   },
   {
    "duration": 13,
    "start_time": "2021-11-18T08:27:43.426Z"
   },
   {
    "duration": 14,
    "start_time": "2021-11-18T08:28:05.570Z"
   },
   {
    "duration": 14,
    "start_time": "2021-11-18T08:28:12.065Z"
   },
   {
    "duration": 15,
    "start_time": "2021-11-18T08:37:21.890Z"
   },
   {
    "duration": 16,
    "start_time": "2021-11-18T08:43:22.169Z"
   },
   {
    "duration": 16,
    "start_time": "2021-11-18T09:31:06.436Z"
   },
   {
    "duration": 14,
    "start_time": "2021-11-18T09:36:45.577Z"
   },
   {
    "duration": 39,
    "start_time": "2021-11-18T09:36:47.922Z"
   },
   {
    "duration": 41,
    "start_time": "2021-11-18T09:38:38.646Z"
   },
   {
    "duration": 226,
    "start_time": "2021-11-18T09:38:55.476Z"
   },
   {
    "duration": 18,
    "start_time": "2021-11-18T09:39:08.700Z"
   },
   {
    "duration": 19,
    "start_time": "2021-11-18T09:40:00.376Z"
   },
   {
    "duration": 20,
    "start_time": "2021-11-18T09:40:02.759Z"
   },
   {
    "duration": 18,
    "start_time": "2021-11-18T09:40:04.634Z"
   },
   {
    "duration": 317,
    "start_time": "2021-11-18T13:47:36.642Z"
   },
   {
    "duration": 1561,
    "start_time": "2021-11-18T13:47:42.531Z"
   },
   {
    "duration": 70,
    "start_time": "2021-11-18T13:47:44.094Z"
   },
   {
    "duration": 29,
    "start_time": "2021-11-18T13:47:44.166Z"
   },
   {
    "duration": 10,
    "start_time": "2021-11-18T13:47:44.197Z"
   },
   {
    "duration": 11,
    "start_time": "2021-11-18T13:47:44.208Z"
   },
   {
    "duration": 346,
    "start_time": "2021-11-18T13:47:44.913Z"
   },
   {
    "duration": 21,
    "start_time": "2021-11-18T13:47:45.846Z"
   },
   {
    "duration": 15,
    "start_time": "2021-11-18T13:47:46.588Z"
   },
   {
    "duration": 17,
    "start_time": "2021-11-18T13:47:47.562Z"
   },
   {
    "duration": 24,
    "start_time": "2021-11-18T13:47:49.320Z"
   },
   {
    "duration": 30,
    "start_time": "2021-11-18T13:48:00.285Z"
   },
   {
    "duration": 306,
    "start_time": "2021-11-18T13:48:09.435Z"
   },
   {
    "duration": 2,
    "start_time": "2021-11-18T13:48:30.562Z"
   },
   {
    "duration": 91,
    "start_time": "2021-11-18T13:48:31.102Z"
   },
   {
    "duration": 46,
    "start_time": "2021-11-18T13:48:32.267Z"
   },
   {
    "duration": 10,
    "start_time": "2021-11-18T13:48:36.403Z"
   },
   {
    "duration": 10,
    "start_time": "2021-11-18T13:48:39.513Z"
   },
   {
    "duration": 278,
    "start_time": "2021-11-18T13:48:45.315Z"
   },
   {
    "duration": 257,
    "start_time": "2021-11-18T13:49:38.210Z"
   },
   {
    "duration": 13,
    "start_time": "2021-11-18T13:49:42.336Z"
   },
   {
    "duration": 44,
    "start_time": "2021-11-18T13:49:54.236Z"
   },
   {
    "duration": 327,
    "start_time": "2021-11-18T13:51:02.827Z"
   },
   {
    "duration": 6946,
    "start_time": "2021-11-18T13:51:15.964Z"
   },
   {
    "duration": 4,
    "start_time": "2021-11-18T13:51:40.245Z"
   },
   {
    "duration": 13,
    "start_time": "2021-11-18T13:51:59.779Z"
   },
   {
    "duration": 15,
    "start_time": "2021-11-18T13:52:03.869Z"
   },
   {
    "duration": 15,
    "start_time": "2021-11-18T13:52:05.323Z"
   },
   {
    "duration": 15,
    "start_time": "2021-11-18T13:52:06.304Z"
   },
   {
    "duration": 32,
    "start_time": "2021-11-18T13:52:08.682Z"
   },
   {
    "duration": 5305,
    "start_time": "2021-11-18T14:04:39.861Z"
   },
   {
    "duration": 5374,
    "start_time": "2021-11-18T14:05:19.864Z"
   },
   {
    "duration": 3,
    "start_time": "2021-11-18T14:06:15.760Z"
   },
   {
    "duration": 63,
    "start_time": "2021-11-18T14:06:16.753Z"
   },
   {
    "duration": 31,
    "start_time": "2021-11-18T14:06:17.564Z"
   },
   {
    "duration": 10,
    "start_time": "2021-11-18T14:06:20.490Z"
   },
   {
    "duration": 11,
    "start_time": "2021-11-18T14:06:22.617Z"
   },
   {
    "duration": 267,
    "start_time": "2021-11-18T14:06:26.215Z"
   },
   {
    "duration": 290,
    "start_time": "2021-11-18T14:06:34.901Z"
   },
   {
    "duration": 17,
    "start_time": "2021-11-18T14:06:37.775Z"
   },
   {
    "duration": 17,
    "start_time": "2021-11-18T14:06:38.444Z"
   },
   {
    "duration": 17,
    "start_time": "2021-11-18T14:06:39.184Z"
   },
   {
    "duration": 6108,
    "start_time": "2021-11-18T14:06:41.003Z"
   },
   {
    "duration": 15,
    "start_time": "2021-11-18T14:06:59.687Z"
   },
   {
    "duration": 5,
    "start_time": "2021-11-18T14:07:21.170Z"
   },
   {
    "duration": 13,
    "start_time": "2021-11-18T14:07:22.432Z"
   },
   {
    "duration": 16,
    "start_time": "2021-11-18T14:07:31.572Z"
   },
   {
    "duration": 15,
    "start_time": "2021-11-18T14:07:32.404Z"
   },
   {
    "duration": 14,
    "start_time": "2021-11-18T14:07:33.442Z"
   },
   {
    "duration": 5339,
    "start_time": "2021-11-18T14:07:38.222Z"
   },
   {
    "duration": 5553,
    "start_time": "2021-11-18T14:08:15.433Z"
   },
   {
    "duration": 5372,
    "start_time": "2021-11-18T14:09:02.282Z"
   },
   {
    "duration": 10,
    "start_time": "2021-11-18T14:12:11.066Z"
   },
   {
    "duration": 11,
    "start_time": "2021-11-18T14:12:19.837Z"
   },
   {
    "duration": 3510,
    "start_time": "2021-11-18T14:16:27.965Z"
   },
   {
    "duration": 4263,
    "start_time": "2021-11-18T14:16:59.098Z"
   },
   {
    "duration": 3445,
    "start_time": "2021-11-18T14:17:41.639Z"
   },
   {
    "duration": 3691,
    "start_time": "2021-11-18T14:23:34.066Z"
   },
   {
    "duration": 3818,
    "start_time": "2021-11-18T14:24:48.540Z"
   },
   {
    "duration": 3641,
    "start_time": "2021-11-18T14:25:02.479Z"
   },
   {
    "duration": 919,
    "start_time": "2021-11-18T14:25:23.317Z"
   },
   {
    "duration": 3605,
    "start_time": "2021-11-18T14:25:32.945Z"
   },
   {
    "duration": 3435,
    "start_time": "2021-11-18T14:25:45.394Z"
   },
   {
    "duration": 3359,
    "start_time": "2021-11-18T14:26:10.060Z"
   },
   {
    "duration": 3512,
    "start_time": "2021-11-18T14:26:27.439Z"
   },
   {
    "duration": 113,
    "start_time": "2021-11-18T14:27:42.586Z"
   },
   {
    "duration": 4,
    "start_time": "2021-11-18T15:13:31.053Z"
   },
   {
    "duration": 4,
    "start_time": "2021-11-18T15:16:39.385Z"
   },
   {
    "duration": 810,
    "start_time": "2021-11-18T15:16:48.780Z"
   },
   {
    "duration": 8754,
    "start_time": "2021-11-18T15:17:08.778Z"
   },
   {
    "duration": 5,
    "start_time": "2021-11-18T15:19:25.872Z"
   },
   {
    "duration": 494,
    "start_time": "2021-11-18T15:21:15.120Z"
   },
   {
    "duration": 4,
    "start_time": "2021-11-19T08:02:41.053Z"
   },
   {
    "duration": 270,
    "start_time": "2021-11-19T08:02:42.015Z"
   },
   {
    "duration": 1085,
    "start_time": "2021-11-19T08:02:48.625Z"
   },
   {
    "duration": 64,
    "start_time": "2021-11-19T08:02:49.712Z"
   },
   {
    "duration": 30,
    "start_time": "2021-11-19T08:02:49.970Z"
   },
   {
    "duration": 10,
    "start_time": "2021-11-19T08:02:52.659Z"
   },
   {
    "duration": 11,
    "start_time": "2021-11-19T08:02:54.095Z"
   },
   {
    "duration": 321,
    "start_time": "2021-11-19T08:02:56.985Z"
   },
   {
    "duration": 12,
    "start_time": "2021-11-19T08:02:57.680Z"
   },
   {
    "duration": 12,
    "start_time": "2021-11-19T08:03:08.574Z"
   },
   {
    "duration": 5,
    "start_time": "2021-11-19T08:03:38.786Z"
   },
   {
    "duration": 15,
    "start_time": "2021-11-19T08:03:41.680Z"
   },
   {
    "duration": 16,
    "start_time": "2021-11-19T08:03:50.127Z"
   },
   {
    "duration": 15,
    "start_time": "2021-11-19T08:03:50.831Z"
   },
   {
    "duration": 15,
    "start_time": "2021-11-19T08:03:52.853Z"
   },
   {
    "duration": 9,
    "start_time": "2021-11-19T08:03:55.333Z"
   },
   {
    "duration": 3361,
    "start_time": "2021-11-19T08:03:56.107Z"
   },
   {
    "duration": 3254,
    "start_time": "2021-11-19T08:04:01.686Z"
   },
   {
    "duration": 7,
    "start_time": "2021-11-19T08:04:06.287Z"
   },
   {
    "duration": 5,
    "start_time": "2021-11-19T08:04:08.617Z"
   },
   {
    "duration": 341,
    "start_time": "2021-11-19T08:04:09.564Z"
   },
   {
    "duration": 4,
    "start_time": "2021-11-19T08:04:51.315Z"
   },
   {
    "duration": 351,
    "start_time": "2021-11-19T08:04:52.775Z"
   },
   {
    "duration": 7,
    "start_time": "2021-11-19T08:20:16.095Z"
   },
   {
    "duration": 17,
    "start_time": "2021-11-19T08:20:39.807Z"
   },
   {
    "duration": 4,
    "start_time": "2021-11-19T08:20:42.881Z"
   },
   {
    "duration": 12,
    "start_time": "2021-11-19T08:20:45.712Z"
   },
   {
    "duration": 333,
    "start_time": "2021-11-19T08:36:31.308Z"
   },
   {
    "duration": 325,
    "start_time": "2021-11-19T08:42:22.067Z"
   },
   {
    "duration": 313,
    "start_time": "2021-11-19T08:42:33.809Z"
   },
   {
    "duration": 436,
    "start_time": "2021-11-19T09:15:06.611Z"
   },
   {
    "duration": 6525,
    "start_time": "2021-11-19T09:15:57.960Z"
   },
   {
    "duration": 324,
    "start_time": "2021-11-19T09:16:19.308Z"
   },
   {
    "duration": 330,
    "start_time": "2021-11-19T10:05:38.158Z"
   },
   {
    "duration": 270,
    "start_time": "2021-11-19T10:06:12.548Z"
   },
   {
    "duration": 274,
    "start_time": "2021-11-19T10:17:12.496Z"
   },
   {
    "duration": 270,
    "start_time": "2021-11-19T10:17:20.311Z"
   },
   {
    "duration": 29,
    "start_time": "2021-11-19T10:17:27.871Z"
   },
   {
    "duration": 33,
    "start_time": "2021-11-19T10:19:21.548Z"
   },
   {
    "duration": 34,
    "start_time": "2021-11-19T10:19:34.056Z"
   },
   {
    "duration": 27,
    "start_time": "2021-11-19T10:19:54.869Z"
   },
   {
    "duration": 1070,
    "start_time": "2021-11-19T10:24:34.103Z"
   },
   {
    "duration": 283,
    "start_time": "2021-11-19T10:29:32.787Z"
   },
   {
    "duration": 28,
    "start_time": "2021-11-19T10:29:50.073Z"
   },
   {
    "duration": 1985,
    "start_time": "2021-11-19T10:33:43.896Z"
   },
   {
    "duration": 28,
    "start_time": "2021-11-19T10:34:01.999Z"
   },
   {
    "duration": 317,
    "start_time": "2021-11-19T10:40:28.055Z"
   },
   {
    "duration": 16,
    "start_time": "2021-11-19T10:40:30.948Z"
   },
   {
    "duration": 314,
    "start_time": "2021-11-19T10:40:43.095Z"
   },
   {
    "duration": 18,
    "start_time": "2021-11-19T10:40:59.807Z"
   },
   {
    "duration": 17,
    "start_time": "2021-11-19T10:41:42.638Z"
   },
   {
    "duration": 2,
    "start_time": "2021-11-19T10:42:21.765Z"
   },
   {
    "duration": 63,
    "start_time": "2021-11-19T10:42:22.030Z"
   },
   {
    "duration": 29,
    "start_time": "2021-11-19T10:42:22.455Z"
   },
   {
    "duration": 10,
    "start_time": "2021-11-19T10:42:24.087Z"
   },
   {
    "duration": 8,
    "start_time": "2021-11-19T10:42:25.662Z"
   },
   {
    "duration": 4,
    "start_time": "2021-11-19T10:42:27.701Z"
   },
   {
    "duration": 12,
    "start_time": "2021-11-19T10:42:29.754Z"
   },
   {
    "duration": 16,
    "start_time": "2021-11-19T10:42:32.678Z"
   },
   {
    "duration": 15,
    "start_time": "2021-11-19T10:42:33.193Z"
   },
   {
    "duration": 17,
    "start_time": "2021-11-19T10:42:34.181Z"
   },
   {
    "duration": 9,
    "start_time": "2021-11-19T10:42:36.403Z"
   },
   {
    "duration": 3182,
    "start_time": "2021-11-19T10:42:37.631Z"
   },
   {
    "duration": 4,
    "start_time": "2021-11-19T10:42:41.091Z"
   },
   {
    "duration": 5,
    "start_time": "2021-11-19T10:42:42.653Z"
   },
   {
    "duration": 314,
    "start_time": "2021-11-19T10:42:44.694Z"
   },
   {
    "duration": 11,
    "start_time": "2021-11-19T10:42:49.425Z"
   },
   {
    "duration": 327,
    "start_time": "2021-11-19T10:42:52.702Z"
   },
   {
    "duration": 323,
    "start_time": "2021-11-19T10:42:55.883Z"
   },
   {
    "duration": 20,
    "start_time": "2021-11-19T10:42:56.940Z"
   },
   {
    "duration": 3,
    "start_time": "2021-11-19T10:43:26.872Z"
   },
   {
    "duration": 16,
    "start_time": "2021-11-19T10:43:32.881Z"
   },
   {
    "duration": 3,
    "start_time": "2021-11-19T10:45:14.406Z"
   },
   {
    "duration": 63,
    "start_time": "2021-11-19T10:45:15.899Z"
   },
   {
    "duration": 31,
    "start_time": "2021-11-19T10:45:16.671Z"
   },
   {
    "duration": 10,
    "start_time": "2021-11-19T10:45:18.278Z"
   },
   {
    "duration": 10,
    "start_time": "2021-11-19T10:45:19.831Z"
   },
   {
    "duration": 3,
    "start_time": "2021-11-19T10:45:21.526Z"
   },
   {
    "duration": 12,
    "start_time": "2021-11-19T10:45:21.787Z"
   },
   {
    "duration": 15,
    "start_time": "2021-11-19T10:45:23.367Z"
   },
   {
    "duration": 15,
    "start_time": "2021-11-19T10:45:23.846Z"
   },
   {
    "duration": 15,
    "start_time": "2021-11-19T10:45:24.713Z"
   },
   {
    "duration": 9,
    "start_time": "2021-11-19T10:45:26.297Z"
   },
   {
    "duration": 3319,
    "start_time": "2021-11-19T10:45:26.821Z"
   },
   {
    "duration": 3,
    "start_time": "2021-11-19T10:45:30.142Z"
   },
   {
    "duration": 10,
    "start_time": "2021-11-19T10:45:30.147Z"
   },
   {
    "duration": 339,
    "start_time": "2021-11-19T10:45:30.158Z"
   },
   {
    "duration": 9,
    "start_time": "2021-11-19T10:45:32.113Z"
   },
   {
    "duration": 321,
    "start_time": "2021-11-19T10:45:34.272Z"
   },
   {
    "duration": 325,
    "start_time": "2021-11-19T10:45:37.283Z"
   },
   {
    "duration": 19,
    "start_time": "2021-11-19T10:45:38.518Z"
   },
   {
    "duration": 19,
    "start_time": "2021-11-19T10:45:41.962Z"
   },
   {
    "duration": 17,
    "start_time": "2021-11-19T10:48:40.211Z"
   },
   {
    "duration": 17,
    "start_time": "2021-11-19T10:49:22.423Z"
   },
   {
    "duration": 17,
    "start_time": "2021-11-19T10:49:38.621Z"
   },
   {
    "duration": 26,
    "start_time": "2021-11-19T10:51:11.214Z"
   },
   {
    "duration": 3,
    "start_time": "2021-11-19T10:51:37.784Z"
   },
   {
    "duration": 1498,
    "start_time": "2021-11-20T10:04:41.968Z"
   },
   {
    "duration": 98,
    "start_time": "2021-11-20T10:04:43.468Z"
   },
   {
    "duration": 47,
    "start_time": "2021-11-20T10:04:43.569Z"
   },
   {
    "duration": 14,
    "start_time": "2021-11-20T10:04:43.748Z"
   },
   {
    "duration": 13,
    "start_time": "2021-11-20T10:04:44.345Z"
   },
   {
    "duration": 6,
    "start_time": "2021-11-20T10:04:45.045Z"
   },
   {
    "duration": 18,
    "start_time": "2021-11-20T10:04:45.228Z"
   },
   {
    "duration": 24,
    "start_time": "2021-11-20T10:04:45.947Z"
   },
   {
    "duration": 23,
    "start_time": "2021-11-20T10:04:46.131Z"
   },
   {
    "duration": 24,
    "start_time": "2021-11-20T10:04:46.503Z"
   },
   {
    "duration": 14,
    "start_time": "2021-11-20T10:04:47.069Z"
   },
   {
    "duration": 4415,
    "start_time": "2021-11-20T10:04:47.242Z"
   },
   {
    "duration": 6,
    "start_time": "2021-11-20T10:04:51.660Z"
   },
   {
    "duration": 24,
    "start_time": "2021-11-20T10:04:51.669Z"
   },
   {
    "duration": 610,
    "start_time": "2021-11-20T10:04:51.696Z"
   },
   {
    "duration": 29,
    "start_time": "2021-11-20T10:04:52.308Z"
   },
   {
    "duration": 616,
    "start_time": "2021-11-20T10:04:52.339Z"
   },
   {
    "duration": 628,
    "start_time": "2021-11-20T10:04:52.957Z"
   },
   {
    "duration": 58,
    "start_time": "2021-11-20T10:04:53.588Z"
   },
   {
    "duration": 1130,
    "start_time": "2021-11-20T16:33:17.786Z"
   },
   {
    "duration": 65,
    "start_time": "2021-11-20T16:33:18.917Z"
   },
   {
    "duration": 35,
    "start_time": "2021-11-20T16:33:18.984Z"
   },
   {
    "duration": 8,
    "start_time": "2021-11-20T16:33:19.021Z"
   },
   {
    "duration": 13,
    "start_time": "2021-11-20T16:33:19.390Z"
   },
   {
    "duration": 4,
    "start_time": "2021-11-20T16:33:20.207Z"
   },
   {
    "duration": 13,
    "start_time": "2021-11-20T16:33:20.460Z"
   },
   {
    "duration": 14,
    "start_time": "2021-11-20T16:33:21.441Z"
   },
   {
    "duration": 19,
    "start_time": "2021-11-20T16:33:21.493Z"
   },
   {
    "duration": 15,
    "start_time": "2021-11-20T16:33:22.027Z"
   },
   {
    "duration": 9,
    "start_time": "2021-11-20T16:33:22.576Z"
   },
   {
    "duration": 3458,
    "start_time": "2021-11-20T16:33:22.773Z"
   },
   {
    "duration": 4,
    "start_time": "2021-11-20T16:33:26.233Z"
   },
   {
    "duration": 6,
    "start_time": "2021-11-20T16:33:26.239Z"
   },
   {
    "duration": 370,
    "start_time": "2021-11-20T16:33:26.247Z"
   },
   {
    "duration": 9,
    "start_time": "2021-11-20T16:33:26.618Z"
   },
   {
    "duration": 363,
    "start_time": "2021-11-20T16:33:26.629Z"
   },
   {
    "duration": 358,
    "start_time": "2021-11-20T16:33:26.995Z"
   },
   {
    "duration": 34,
    "start_time": "2021-11-20T16:33:27.355Z"
   },
   {
    "duration": 20,
    "start_time": "2021-11-20T16:41:23.067Z"
   },
   {
    "duration": 370,
    "start_time": "2021-11-22T07:25:16.402Z"
   },
   {
    "duration": 264,
    "start_time": "2021-11-22T07:25:20.705Z"
   },
   {
    "duration": 1639,
    "start_time": "2021-11-22T07:25:25.575Z"
   },
   {
    "duration": 100,
    "start_time": "2021-11-22T07:25:27.217Z"
   },
   {
    "duration": 21,
    "start_time": "2021-11-22T07:25:29.454Z"
   },
   {
    "duration": 19,
    "start_time": "2021-11-22T07:25:40.441Z"
   },
   {
    "duration": 20,
    "start_time": "2021-11-22T07:31:30.021Z"
   },
   {
    "duration": 51,
    "start_time": "2021-11-22T07:32:12.665Z"
   },
   {
    "duration": 50,
    "start_time": "2021-11-22T07:32:20.708Z"
   },
   {
    "duration": 52,
    "start_time": "2021-11-22T07:32:26.018Z"
   },
   {
    "duration": 652,
    "start_time": "2021-11-22T07:54:16.230Z"
   },
   {
    "duration": 26,
    "start_time": "2021-11-22T07:54:23.673Z"
   },
   {
    "duration": 4,
    "start_time": "2021-11-22T07:56:44.263Z"
   },
   {
    "duration": 34,
    "start_time": "2021-11-22T08:01:13.834Z"
   },
   {
    "duration": 183,
    "start_time": "2021-11-22T08:13:27.535Z"
   },
   {
    "duration": 149,
    "start_time": "2021-11-22T08:16:40.076Z"
   },
   {
    "duration": 121,
    "start_time": "2021-11-22T08:17:42.193Z"
   },
   {
    "duration": 130,
    "start_time": "2021-11-22T08:18:02.294Z"
   },
   {
    "duration": 14,
    "start_time": "2021-11-22T08:24:48.133Z"
   },
   {
    "duration": 3787,
    "start_time": "2021-11-22T08:24:51.761Z"
   },
   {
    "duration": 206,
    "start_time": "2021-11-22T08:30:52.035Z"
   },
   {
    "duration": 15,
    "start_time": "2021-11-22T08:31:03.304Z"
   },
   {
    "duration": 6,
    "start_time": "2021-11-22T08:35:25.400Z"
   },
   {
    "duration": 7,
    "start_time": "2021-11-22T08:35:26.397Z"
   },
   {
    "duration": 615,
    "start_time": "2021-11-22T08:35:27.302Z"
   },
   {
    "duration": 16,
    "start_time": "2021-11-22T08:35:31.870Z"
   },
   {
    "duration": 638,
    "start_time": "2021-11-22T08:35:38.576Z"
   },
   {
    "duration": 641,
    "start_time": "2021-11-22T08:35:42.468Z"
   },
   {
    "duration": 46,
    "start_time": "2021-11-22T08:35:44.398Z"
   },
   {
    "duration": 29,
    "start_time": "2021-11-22T08:35:47.932Z"
   },
   {
    "duration": 3375,
    "start_time": "2021-11-22T08:38:13.606Z"
   }
  ],
  "kernelspec": {
   "display_name": "Python 3 (ipykernel)",
   "language": "python",
   "name": "python3"
  },
  "language_info": {
   "codemirror_mode": {
    "name": "ipython",
    "version": 3
   },
   "file_extension": ".py",
   "mimetype": "text/x-python",
   "name": "python",
   "nbconvert_exporter": "python",
   "pygments_lexer": "ipython3",
   "version": "3.9.5"
  },
  "toc": {
   "base_numbering": 1,
   "nav_menu": {},
   "number_sections": true,
   "sideBar": true,
   "skip_h1_title": true,
   "title_cell": "Table of Contents",
   "title_sidebar": "Contents",
   "toc_cell": false,
   "toc_position": {},
   "toc_section_display": true,
   "toc_window_display": false
  }
 },
 "nbformat": 4,
 "nbformat_minor": 2
}
