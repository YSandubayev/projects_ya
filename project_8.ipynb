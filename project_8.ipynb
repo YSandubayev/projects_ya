{
 "cells": [
  {
   "cell_type": "markdown",
   "metadata": {},
   "source": [
    "<div style=\"border:solid lightblue 3px; padding: 20px\">\n",
    "<b>Ержан, привет!</b>\n",
    "\n",
    "Меня зовут Виталий Мехоношин, и я буду проверять твой проект. Предлагаю общаться на «ты» 😉\n",
    "\n",
    "Моя основная цель — не указать на совершенные тобою ошибки, а поделиться своим опытом и помочь тебе стать аналитиком данных. Тобой проделана большая работа над проектом, давай сделаем его еще лучше. Ниже ты найдешь мои комментарии. Есть несколько правил:<br>\n",
    "- <b>Пожалуйста, не перемещай, не изменяй и не удаляй комментарии.</b>\n",
    "- У комментариев могут быть приписки <b>V2, V3</b> и т.д., которые соответствуют версии проверки. \n",
    "- Еще обрати внимание на цветовую разметку:\n",
    "\n",
    "<div class=\"alert alert-danger\">\n",
    "<b>❌ Комментарий ревьюера:</b> \n",
    "Комментарии такого цвета необходимо исправить, без их отработки проект не будет принят. \n",
    "</div>\n",
    "\n",
    "<div class=\"alert alert-warning\">\n",
    "<b>⚠️ Комментарий ревьюера:</b> \n",
    "На комментарии такого цвета нужно обязательно обратить внимание. Их не должно быть много.\n",
    "</div>\n",
    "\n",
    "<div class=\"alert alert-success\">\n",
    "<b>✅ Комментарий ревьюера:</b> \n",
    "Комментарии такого цвета будут содержать лайфхаки, которые смогут улучшить твой верный код, их необязательно исправлять.\n",
    "</div>\n",
    "\n",
    "Предлагаю работать над проектом в диалоге: если ты хочешь ответить на мои комментарии — пиши об этом. Мне будет легче отследить изменения, если ты выделишь свои комментарии вот так:\n",
    "<div class=\"alert alert-info\"> <b>Комментарий студента:</b> Например, вот так.</div>\n",
    "\n",
    "Всё это поможет выполнить повторную проверку твоего проекта оперативнее.\n",
    "    \n",
    "</div>"
   ]
  },
  {
   "cell_type": "markdown",
   "metadata": {},
   "source": [
    "<div style=\"border:solid lightblue 3px; padding: 20px\">\n",
    "<b>Общий комментарий ревьюера:</b>\n",
    "\n",
    "У тебя хорошая и чательно сделанная работа. Каждый заголовок выделен, каждое рассуждение выделено, каждый пункт выделен. Хочется отметить так же упорядоченность и последовательность действий, нет скачков от одних пунктов к другим.\n",
    "    \n",
    "Так же нужно поработать над следующими моментами:\n",
    "    \n",
    "1. Добавлением описания к проекту.\n",
    "2. Пунктом, где ты определяешь типы заведений, для которых характерно сетевое распространение.\n",
    "3. Добавлением внешнего источника в проект, с целью определения районов для улиц.\n",
    "4. Общим выводом\n",
    "5. Презентацией\n",
    "\n",
    "В остальном все очень хорошо. Возвращаю проект на доработку, поправь эти моменты и сформулируй вопросы и непонятки. Буду ждать твоих исправлений😊\n",
    "</div>"
   ]
  },
  {
   "cell_type": "markdown",
   "metadata": {},
   "source": [
    "<div style=\"border:solid lightblue 3px; padding: 20px\">\n",
    "<b>Общий комментарий ревьюера V2:</b>\n",
    "\n",
    "Не увидел исправления комментов😊\n",
    "</div>"
   ]
  },
  {
   "cell_type": "markdown",
   "metadata": {},
   "source": [
    "<div style=\"border:solid lightblue 3px; padding: 20px\">\n",
    "<b>Общий комментарий ревьюера V3:</b>\n",
    "\n",
    "Над большинством успешно поработал, осталось доработать:\n",
    "    \n",
    "1. ~Добавлением описания к проекту.~\n",
    "2. ~Пунктом, где ты определяешь типы заведений, для которых характерно сетевое распространение.~\n",
    "3. ~Добавлением внешнего источника в проект, с целью определения районов для улиц.~\n",
    "4. Общим выводом\n",
    "5. Презентацией\n",
    "\n",
    "Буду ждать твоих исправлений😊\n",
    "</div>"
   ]
  },
  {
   "cell_type": "markdown",
   "metadata": {},
   "source": [
    "<div style=\"border:solid lightblue 3px; padding: 20px\">\n",
    "<b>Общий комментарий ревьюера V4:</b>\n",
    "\n",
    "Работа над комментариями успешно произведена, проект принят, удачи на следующих спринтах😊\n",
    "</div>"
   ]
  },
  {
   "cell_type": "markdown",
   "metadata": {},
   "source": [
    "# Анализ рынка заведений общесвтенного питания в Москве"
   ]
  },
  {
   "cell_type": "markdown",
   "metadata": {},
   "source": [
    "</b> Цель: привлечение инвесторов для открытия своего заведения </b> "
   ]
  },
  {
   "cell_type": "markdown",
   "metadata": {},
   "source": [
    "## Шаг №1. Загрузите данные и подготовьте их к анализу"
   ]
  },
  {
   "cell_type": "code",
   "execution_count": 41,
   "metadata": {},
   "outputs": [],
   "source": [
    "import pandas as pd\n",
    "import matplotlib.pyplot as plt\n",
    "import seaborn as sns\n",
    "import scipy.stats as stats\n",
    "from scipy import stats as st\n",
    "import math\n",
    "import numpy as np\n",
    "sns.set(rc={'figure.figsize':(10, 8)})"
   ]
  },
  {
   "cell_type": "code",
   "execution_count": 42,
   "metadata": {},
   "outputs": [],
   "source": [
    "df = pd.read_csv('/datasets/rest_data.csv')"
   ]
  },
  {
   "cell_type": "code",
   "execution_count": 43,
   "metadata": {},
   "outputs": [
    {
     "data": {
      "text/html": [
       "<div>\n",
       "<style scoped>\n",
       "    .dataframe tbody tr th:only-of-type {\n",
       "        vertical-align: middle;\n",
       "    }\n",
       "\n",
       "    .dataframe tbody tr th {\n",
       "        vertical-align: top;\n",
       "    }\n",
       "\n",
       "    .dataframe thead th {\n",
       "        text-align: right;\n",
       "    }\n",
       "</style>\n",
       "<table border=\"1\" class=\"dataframe\">\n",
       "  <thead>\n",
       "    <tr style=\"text-align: right;\">\n",
       "      <th></th>\n",
       "      <th>id</th>\n",
       "      <th>object_name</th>\n",
       "      <th>chain</th>\n",
       "      <th>object_type</th>\n",
       "      <th>address</th>\n",
       "      <th>number</th>\n",
       "    </tr>\n",
       "  </thead>\n",
       "  <tbody>\n",
       "    <tr>\n",
       "      <td>0</td>\n",
       "      <td>151635</td>\n",
       "      <td>СМЕТАНА</td>\n",
       "      <td>нет</td>\n",
       "      <td>кафе</td>\n",
       "      <td>город Москва, улица Егора Абакумова, дом 9</td>\n",
       "      <td>48</td>\n",
       "    </tr>\n",
       "    <tr>\n",
       "      <td>1</td>\n",
       "      <td>77874</td>\n",
       "      <td>Родник</td>\n",
       "      <td>нет</td>\n",
       "      <td>кафе</td>\n",
       "      <td>город Москва, улица Талалихина, дом 2/1, корпус 1</td>\n",
       "      <td>35</td>\n",
       "    </tr>\n",
       "    <tr>\n",
       "      <td>2</td>\n",
       "      <td>24309</td>\n",
       "      <td>Кафе «Академия»</td>\n",
       "      <td>нет</td>\n",
       "      <td>кафе</td>\n",
       "      <td>город Москва, Абельмановская улица, дом 6</td>\n",
       "      <td>95</td>\n",
       "    </tr>\n",
       "    <tr>\n",
       "      <td>3</td>\n",
       "      <td>21894</td>\n",
       "      <td>ПИЦЦЕТОРИЯ</td>\n",
       "      <td>да</td>\n",
       "      <td>кафе</td>\n",
       "      <td>город Москва, Абрамцевская улица, дом 1</td>\n",
       "      <td>40</td>\n",
       "    </tr>\n",
       "    <tr>\n",
       "      <td>4</td>\n",
       "      <td>119365</td>\n",
       "      <td>Кафе «Вишневая метель»</td>\n",
       "      <td>нет</td>\n",
       "      <td>кафе</td>\n",
       "      <td>город Москва, Абрамцевская улица, дом 9, корпус 1</td>\n",
       "      <td>50</td>\n",
       "    </tr>\n",
       "  </tbody>\n",
       "</table>\n",
       "</div>"
      ],
      "text/plain": [
       "       id             object_name chain object_type  \\\n",
       "0  151635                 СМЕТАНА   нет        кафе   \n",
       "1   77874                  Родник   нет        кафе   \n",
       "2   24309         Кафе «Академия»   нет        кафе   \n",
       "3   21894              ПИЦЦЕТОРИЯ    да        кафе   \n",
       "4  119365  Кафе «Вишневая метель»   нет        кафе   \n",
       "\n",
       "                                             address  number  \n",
       "0         город Москва, улица Егора Абакумова, дом 9      48  \n",
       "1  город Москва, улица Талалихина, дом 2/1, корпус 1      35  \n",
       "2          город Москва, Абельмановская улица, дом 6      95  \n",
       "3            город Москва, Абрамцевская улица, дом 1      40  \n",
       "4  город Москва, Абрамцевская улица, дом 9, корпус 1      50  "
      ]
     },
     "execution_count": 43,
     "metadata": {},
     "output_type": "execute_result"
    }
   ],
   "source": [
    "df.head()"
   ]
  },
  {
   "cell_type": "code",
   "execution_count": 44,
   "metadata": {},
   "outputs": [
    {
     "name": "stdout",
     "output_type": "stream",
     "text": [
      "<class 'pandas.core.frame.DataFrame'>\n",
      "RangeIndex: 15366 entries, 0 to 15365\n",
      "Data columns (total 6 columns):\n",
      "id             15366 non-null int64\n",
      "object_name    15366 non-null object\n",
      "chain          15366 non-null object\n",
      "object_type    15366 non-null object\n",
      "address        15366 non-null object\n",
      "number         15366 non-null int64\n",
      "dtypes: int64(2), object(4)\n",
      "memory usage: 720.4+ KB\n"
     ]
    }
   ],
   "source": [
    "df.info()"
   ]
  },
  {
   "cell_type": "code",
   "execution_count": 45,
   "metadata": {},
   "outputs": [
    {
     "data": {
      "text/plain": [
       "id             0\n",
       "object_name    0\n",
       "chain          0\n",
       "object_type    0\n",
       "address        0\n",
       "number         0\n",
       "dtype: int64"
      ]
     },
     "execution_count": 45,
     "metadata": {},
     "output_type": "execute_result"
    }
   ],
   "source": [
    "df.isna().sum()"
   ]
  },
  {
   "cell_type": "code",
   "execution_count": 46,
   "metadata": {},
   "outputs": [
    {
     "data": {
      "text/plain": [
       "0"
      ]
     },
     "execution_count": 46,
     "metadata": {},
     "output_type": "execute_result"
    }
   ],
   "source": [
    "df.duplicated().sum()"
   ]
  },
  {
   "cell_type": "markdown",
   "metadata": {},
   "source": [
    "<div class=\"alert alert-warning\">\n",
    "<b>⚠️ Комментарий ревьюера:</b> \n",
    "\n",
    "Смотреть явные дубликаты не совсем хорошее решение, у тебя есть айдишники - они скорее всего должны быть уникальными, поэтому дубликатов не найдется.\n",
    "</div>"
   ]
  },
  {
   "cell_type": "code",
   "execution_count": 47,
   "metadata": {},
   "outputs": [],
   "source": [
    "df['chain'] = df['chain'].map({'нет':'несетевое','да':'сетевое'})\n",
    "df['object_type'] = df['object_type'].str.replace('предприятие быстрого обслуживания', 'фаст-фуд')\n",
    "df['object_type'] = df['object_type'].str.replace('магазин \\(отдел кулинарии\\)', 'кулинария')"
   ]
  },
  {
   "cell_type": "markdown",
   "metadata": {},
   "source": [
    "<div class=\"alert alert-success\">\n",
    "<b>✅ Комментарий ревьюера:</b> \n",
    "\n",
    "Первый взгляд на данные хороший. Могу рекомендовать создать универсальную функцию, которая будет принимать на вход датафрейм, а на выходе она будет выводить всего нужные характеристики, например, `head`, `describe`, `info`, дубликаты и т.п.\n",
    "</div>"
   ]
  },
  {
   "cell_type": "markdown",
   "metadata": {},
   "source": [
    "## Шаг №2. Анализ данных"
   ]
  },
  {
   "cell_type": "markdown",
   "metadata": {},
   "source": [
    "### Исследуйте соотношение видов объектов общественного питания по количеству. Постройте график"
   ]
  },
  {
   "cell_type": "code",
   "execution_count": 48,
   "metadata": {},
   "outputs": [
    {
     "data": {
      "image/png": "[encoded data removed]",
      "text/plain": [
       "<Figure size 720x576 with 1 Axes>"
      ]
     },
     "metadata": {},
     "output_type": "display_data"
    }
   ],
   "source": [
    "temp = df.groupby('object_type').sum().reset_index()\n",
    "ax = temp[['object_type', 'number']].set_index('object_type').sort_values('number', ascending=True).plot(kind='bar')\n",
    "ax.set_xlabel('Кол-во мест')\n",
    "ax.set_ylabel('Тип заведения')\n",
    "ax.set_title('Количество посадочных мест')\n",
    "plt.xticks(rotation=9)\n",
    "plt.show()"
   ]
  },
  {
   "cell_type": "markdown",
   "metadata": {},
   "source": [
    "<div class=\"alert alert-success\">\n",
    "<b>✅ Комментарий ревьюера:</b> \n",
    "\n",
    "Не очень понял к чему этот график. Зачем нам суммарное кол-во мест в заведениях?\n",
    "</div>"
   ]
  },
  {
   "cell_type": "code",
   "execution_count": 49,
   "metadata": {},
   "outputs": [
    {
     "data": {
      "image/png": "[encoded data removed]",
      "text/plain": [
       "<Figure size 720x576 with 1 Axes>"
      ]
     },
     "metadata": {},
     "output_type": "display_data"
    }
   ],
   "source": [
    "temp = df.groupby('object_type').count().reset_index()\n",
    "ax = temp[['object_type', 'number']].set_index('object_type').sort_values('number', ascending=True).plot(kind='bar')\n",
    "ax.set_xlabel('Кол-во заведений в Москве')\n",
    "ax.set_ylabel('Тип заведения')\n",
    "ax.set_title('Количество заведений')\n",
    "plt.xticks(rotation=9)\n",
    "plt.show()"
   ]
  },
  {
   "cell_type": "markdown",
   "metadata": {},
   "source": [
    "Напрашивается заключение о том, что в Мск очень много кафе, столовых и ресторанов. Также в перечисленных заведениях болььшего всего мест"
   ]
  },
  {
   "cell_type": "markdown",
   "metadata": {},
   "source": [
    "<div class=\"alert alert-success\">\n",
    "<b>✅ Комментарий ревьюера:</b> \n",
    "\n",
    "Визуализация отличная, тип графика подобран корректно. Все подписи, заголовки присутствуют. Вывод корректный.\n",
    "</div>"
   ]
  },
  {
   "cell_type": "markdown",
   "metadata": {},
   "source": [
    "### Исследуйте соотношение сетевых и несетевых заведений по количеству. Постройте график"
   ]
  },
  {
   "cell_type": "code",
   "execution_count": 50,
   "metadata": {},
   "outputs": [
    {
     "data": {
      "text/plain": [
       "chain\n",
       "сетевое       2968\n",
       "несетевое    12398\n",
       "Name: object_name, dtype: int64"
      ]
     },
     "execution_count": 50,
     "metadata": {},
     "output_type": "execute_result"
    }
   ],
   "source": [
    "df.groupby('chain')['object_name'].count().sort_values()"
   ]
  },
  {
   "cell_type": "code",
   "execution_count": 51,
   "metadata": {},
   "outputs": [
    {
     "data": {
      "image/png": "[encoded data removed]",
      "text/plain": [
       "<Figure size 720x576 with 1 Axes>"
      ]
     },
     "metadata": {},
     "output_type": "display_data"
    }
   ],
   "source": [
    "ax = df.groupby('chain')['object_name'].count().sort_values().plot(kind='bar')\n",
    "ax.set_xlabel('Тип заведения')\n",
    "ax.set_ylabel('Количество заведений')\n",
    "ax.set_title('Кол-во сетевых и несетевых объектов в Москве')\n",
    "plt.xticks(rotation=45)\n",
    "plt.show()"
   ]
  },
  {
   "cell_type": "markdown",
   "metadata": {},
   "source": [
    "Больше всего несетевых заведений"
   ]
  },
  {
   "cell_type": "markdown",
   "metadata": {},
   "source": [
    "<div class=\"alert alert-success\">\n",
    "<b>✅ Комментарий ревьюера:</b> \n",
    "\n",
    "В данном пункте так же все хорошо, тип графика подобран корректно. Так же тут подойдет пайплот, как вариант. С выводом согласен.\n",
    "</div>"
   ]
  },
  {
   "cell_type": "markdown",
   "metadata": {},
   "source": [
    "### Для какого вида объекта общественного питания характерно сетевое распространение?"
   ]
  },
  {
   "cell_type": "code",
   "execution_count": 52,
   "metadata": {},
   "outputs": [
    {
     "data": {
      "text/plain": [
       "<matplotlib.axes._subplots.AxesSubplot at 0x7fc98aba5710>"
      ]
     },
     "execution_count": 52,
     "metadata": {},
     "output_type": "execute_result"
    },
    {
     "data": {
      "image/png": "[encoded data removed]",
      "text/plain": [
       "<Figure size 720x576 with 1 Axes>"
      ]
     },
     "metadata": {},
     "output_type": "display_data"
    }
   ],
   "source": [
    "chains = pd.pivot_table(df, index='object_type', values='id', columns='chain', aggfunc='nunique')\n",
    "chains['total'] = chains['сетевое'] + chains['несетевое']\n",
    "chains = chains.sort_values(by='total', ascending=False)\n",
    "chains[['сетевое', 'несетевое']].plot(kind='bar')"
   ]
  },
  {
   "cell_type": "code",
   "execution_count": 53,
   "metadata": {},
   "outputs": [
    {
     "data": {
      "text/html": [
       "<div>\n",
       "<style scoped>\n",
       "    .dataframe tbody tr th:only-of-type {\n",
       "        vertical-align: middle;\n",
       "    }\n",
       "\n",
       "    .dataframe tbody tr th {\n",
       "        vertical-align: top;\n",
       "    }\n",
       "\n",
       "    .dataframe thead th {\n",
       "        text-align: right;\n",
       "    }\n",
       "</style>\n",
       "<table border=\"1\" class=\"dataframe\">\n",
       "  <thead>\n",
       "    <tr style=\"text-align: right;\">\n",
       "      <th>chain</th>\n",
       "      <th>несетевое</th>\n",
       "      <th>сетевое</th>\n",
       "      <th>total</th>\n",
       "    </tr>\n",
       "    <tr>\n",
       "      <th>object_type</th>\n",
       "      <th></th>\n",
       "      <th></th>\n",
       "      <th></th>\n",
       "    </tr>\n",
       "  </thead>\n",
       "  <tbody>\n",
       "    <tr>\n",
       "      <td>кафе</td>\n",
       "      <td>4703</td>\n",
       "      <td>1396</td>\n",
       "      <td>6099</td>\n",
       "    </tr>\n",
       "    <tr>\n",
       "      <td>фаст-фуд</td>\n",
       "      <td>1132</td>\n",
       "      <td>791</td>\n",
       "      <td>1923</td>\n",
       "    </tr>\n",
       "    <tr>\n",
       "      <td>ресторан</td>\n",
       "      <td>1741</td>\n",
       "      <td>544</td>\n",
       "      <td>2285</td>\n",
       "    </tr>\n",
       "    <tr>\n",
       "      <td>кулинария</td>\n",
       "      <td>195</td>\n",
       "      <td>78</td>\n",
       "      <td>273</td>\n",
       "    </tr>\n",
       "    <tr>\n",
       "      <td>закусочная</td>\n",
       "      <td>304</td>\n",
       "      <td>56</td>\n",
       "      <td>360</td>\n",
       "    </tr>\n",
       "    <tr>\n",
       "      <td>кафетерий</td>\n",
       "      <td>346</td>\n",
       "      <td>52</td>\n",
       "      <td>398</td>\n",
       "    </tr>\n",
       "    <tr>\n",
       "      <td>бар</td>\n",
       "      <td>819</td>\n",
       "      <td>37</td>\n",
       "      <td>856</td>\n",
       "    </tr>\n",
       "    <tr>\n",
       "      <td>буфет</td>\n",
       "      <td>574</td>\n",
       "      <td>11</td>\n",
       "      <td>585</td>\n",
       "    </tr>\n",
       "    <tr>\n",
       "      <td>столовая</td>\n",
       "      <td>2584</td>\n",
       "      <td>3</td>\n",
       "      <td>2587</td>\n",
       "    </tr>\n",
       "  </tbody>\n",
       "</table>\n",
       "</div>"
      ],
      "text/plain": [
       "chain        несетевое  сетевое  total\n",
       "object_type                           \n",
       "кафе              4703     1396   6099\n",
       "фаст-фуд          1132      791   1923\n",
       "ресторан          1741      544   2285\n",
       "кулинария          195       78    273\n",
       "закусочная         304       56    360\n",
       "кафетерий          346       52    398\n",
       "бар                819       37    856\n",
       "буфет              574       11    585\n",
       "столовая          2584        3   2587"
      ]
     },
     "execution_count": 53,
     "metadata": {},
     "output_type": "execute_result"
    }
   ],
   "source": [
    "chains.sort_values(by='сетевое', ascending=False)"
   ]
  },
  {
   "cell_type": "code",
   "execution_count": 54,
   "metadata": {},
   "outputs": [
    {
     "data": {
      "text/plain": [
       "0.22888998196425644"
      ]
     },
     "execution_count": 54,
     "metadata": {},
     "output_type": "execute_result"
    }
   ],
   "source": [
    "portion1 = 1396 / 6099\n",
    "portion1"
   ]
  },
  {
   "cell_type": "code",
   "execution_count": 55,
   "metadata": {},
   "outputs": [
    {
     "data": {
      "text/plain": [
       "0.41133645345813835"
      ]
     },
     "execution_count": 55,
     "metadata": {},
     "output_type": "execute_result"
    }
   ],
   "source": [
    "portion2 = 791 / 1923\n",
    "portion2"
   ]
  },
  {
   "cell_type": "code",
   "execution_count": 56,
   "metadata": {},
   "outputs": [
    {
     "data": {
      "text/plain": [
       "0.23807439824945295"
      ]
     },
     "execution_count": 56,
     "metadata": {},
     "output_type": "execute_result"
    }
   ],
   "source": [
    "portion3 = 544 / 2285\n",
    "portion3"
   ]
  },
  {
   "cell_type": "markdown",
   "metadata": {},
   "source": [
    "Сетевое распространение характерно для следующих типов общественного пиатния: кафе, фаст-фуд и ресторан. Доля сетевых кафе составляет 0.22, для фаст-фуда 0.41, для ресторана 0.23"
   ]
  },
  {
   "cell_type": "markdown",
   "metadata": {},
   "source": [
    "<div class=\"alert alert-danger\">\n",
    "<b>❌ Комментарий ревьюера:</b> \n",
    "\n",
    "Попробуй для ответа на поставленный вопрос рассчитать именно долю заведений, относящихся к сетевым. Представь, в городе 15 баров, 14 из которых сетевые, и 200 кафе, 50 из которых - сетевые. Тогда, именно для баров будет характерно сетевое распределение, а не для кафе. Хотя формально сетевых кафе у нас больше, чем сетевых баров.\n",
    "</div>"
   ]
  },
  {
   "cell_type": "markdown",
   "metadata": {},
   "source": [
    "<div class=\"alert alert-info\"> <b>Комментарий студента:</b>Посчитал доли</div>"
   ]
  },
  {
   "cell_type": "markdown",
   "metadata": {},
   "source": [
    "<div class=\"alert alert-success\">\n",
    "<b>✅ Комментарий ревьюера V3:</b> \n",
    "\n",
    "Да, верно. Суть в том, что лидер будет другой и это не кафе. Так же старайся делать код автоматизированным и не перекладывай значения вручную, делай расчеты группировками.</div>"
   ]
  },
  {
   "cell_type": "markdown",
   "metadata": {},
   "source": [
    "### Что характерно для сетевых заведений: много заведений с небольшим числом посадочных мест в каждом или мало заведений с большим количеством посадочных мест?"
   ]
  },
  {
   "cell_type": "code",
   "execution_count": 57,
   "metadata": {},
   "outputs": [],
   "source": [
    "temp = df.query('chain ==  \"сетевое\"')"
   ]
  },
  {
   "cell_type": "code",
   "execution_count": 58,
   "metadata": {},
   "outputs": [
    {
     "data": {
      "image/png": "[encoded data removed]",
      "text/plain": [
       "<Figure size 720x576 with 1 Axes>"
      ]
     },
     "metadata": {},
     "output_type": "display_data"
    }
   ],
   "source": [
    "temp['number'].hist(bins=20)\n",
    "plt.show()"
   ]
  },
  {
   "cell_type": "code",
   "execution_count": 59,
   "metadata": {},
   "outputs": [
    {
     "data": {
      "image/png": "[encoded data removed]",
      "text/plain": [
       "<Figure size 720x576 with 1 Axes>"
      ]
     },
     "metadata": {},
     "output_type": "display_data"
    }
   ],
   "source": [
    "ax = sns.boxplot(x=temp['number'])"
   ]
  },
  {
   "cell_type": "code",
   "execution_count": 60,
   "metadata": {},
   "outputs": [
    {
     "data": {
      "text/plain": [
       "count    2968.000000\n",
       "mean       52.919811\n",
       "std        57.140644\n",
       "min         0.000000\n",
       "25%        15.000000\n",
       "50%        40.000000\n",
       "75%        72.000000\n",
       "max       580.000000\n",
       "Name: number, dtype: float64"
      ]
     },
     "execution_count": 60,
     "metadata": {},
     "output_type": "execute_result"
    }
   ],
   "source": [
    "temp['number'].describe()"
   ]
  },
  {
   "cell_type": "markdown",
   "metadata": {},
   "source": [
    "Актуальны много заведений с небольшим количеством мест"
   ]
  },
  {
   "cell_type": "markdown",
   "metadata": {},
   "source": [
    "<div class=\"alert alert-success\">\n",
    "<b>✅ Комментарий ревьюера:</b> \n",
    "\n",
    "Супер, визуализация наглядная и понятная.\n",
    "</div>"
   ]
  },
  {
   "cell_type": "markdown",
   "metadata": {},
   "source": [
    "### Для каждого вида объекта общественного питания опишите среднее количество посадочных мест. Какой вид предоставляет в среднем самое большое количество посадочных мест? Постройте графики"
   ]
  },
  {
   "cell_type": "code",
   "execution_count": 61,
   "metadata": {},
   "outputs": [
    {
     "data": {
      "image/png": "[encoded data removed]",
      "text/plain": [
       "<Figure size 720x576 with 1 Axes>"
      ]
     },
     "metadata": {},
     "output_type": "display_data"
    }
   ],
   "source": [
    "ax = sns.boxplot(x='number', y='object_type', data=df, palette=\"Set3\")\n",
    "ax.set_xlim(-10,300)\n",
    "plt.show()"
   ]
  },
  {
   "cell_type": "code",
   "execution_count": 62,
   "metadata": {},
   "outputs": [
    {
     "data": {
      "text/html": [
       "<div>\n",
       "<style scoped>\n",
       "    .dataframe tbody tr th:only-of-type {\n",
       "        vertical-align: middle;\n",
       "    }\n",
       "\n",
       "    .dataframe tbody tr th {\n",
       "        vertical-align: top;\n",
       "    }\n",
       "\n",
       "    .dataframe thead th {\n",
       "        text-align: right;\n",
       "    }\n",
       "</style>\n",
       "<table border=\"1\" class=\"dataframe\">\n",
       "  <thead>\n",
       "    <tr style=\"text-align: right;\">\n",
       "      <th></th>\n",
       "      <th>count</th>\n",
       "      <th>mean</th>\n",
       "      <th>std</th>\n",
       "      <th>min</th>\n",
       "      <th>25%</th>\n",
       "      <th>50%</th>\n",
       "      <th>75%</th>\n",
       "      <th>max</th>\n",
       "    </tr>\n",
       "    <tr>\n",
       "      <th>object_type</th>\n",
       "      <th></th>\n",
       "      <th></th>\n",
       "      <th></th>\n",
       "      <th></th>\n",
       "      <th></th>\n",
       "      <th></th>\n",
       "      <th></th>\n",
       "      <th></th>\n",
       "    </tr>\n",
       "  </thead>\n",
       "  <tbody>\n",
       "    <tr>\n",
       "      <td>бар</td>\n",
       "      <td>856.0</td>\n",
       "      <td>43.494159</td>\n",
       "      <td>67.082876</td>\n",
       "      <td>0.0</td>\n",
       "      <td>20.0</td>\n",
       "      <td>35.0</td>\n",
       "      <td>50.0</td>\n",
       "      <td>1700.0</td>\n",
       "    </tr>\n",
       "    <tr>\n",
       "      <td>буфет</td>\n",
       "      <td>585.0</td>\n",
       "      <td>51.129915</td>\n",
       "      <td>56.331974</td>\n",
       "      <td>0.0</td>\n",
       "      <td>14.0</td>\n",
       "      <td>32.0</td>\n",
       "      <td>80.0</td>\n",
       "      <td>320.0</td>\n",
       "    </tr>\n",
       "    <tr>\n",
       "      <td>закусочная</td>\n",
       "      <td>360.0</td>\n",
       "      <td>7.608333</td>\n",
       "      <td>16.650912</td>\n",
       "      <td>0.0</td>\n",
       "      <td>0.0</td>\n",
       "      <td>0.0</td>\n",
       "      <td>10.0</td>\n",
       "      <td>216.0</td>\n",
       "    </tr>\n",
       "    <tr>\n",
       "      <td>кафе</td>\n",
       "      <td>6099.0</td>\n",
       "      <td>39.716019</td>\n",
       "      <td>37.720947</td>\n",
       "      <td>0.0</td>\n",
       "      <td>15.0</td>\n",
       "      <td>30.0</td>\n",
       "      <td>50.0</td>\n",
       "      <td>533.0</td>\n",
       "    </tr>\n",
       "    <tr>\n",
       "      <td>кафетерий</td>\n",
       "      <td>398.0</td>\n",
       "      <td>9.123116</td>\n",
       "      <td>14.639150</td>\n",
       "      <td>0.0</td>\n",
       "      <td>0.0</td>\n",
       "      <td>6.0</td>\n",
       "      <td>12.0</td>\n",
       "      <td>200.0</td>\n",
       "    </tr>\n",
       "    <tr>\n",
       "      <td>кулинария</td>\n",
       "      <td>273.0</td>\n",
       "      <td>5.589744</td>\n",
       "      <td>9.872729</td>\n",
       "      <td>0.0</td>\n",
       "      <td>0.0</td>\n",
       "      <td>0.0</td>\n",
       "      <td>8.0</td>\n",
       "      <td>50.0</td>\n",
       "    </tr>\n",
       "    <tr>\n",
       "      <td>ресторан</td>\n",
       "      <td>2285.0</td>\n",
       "      <td>96.834136</td>\n",
       "      <td>94.756542</td>\n",
       "      <td>0.0</td>\n",
       "      <td>46.0</td>\n",
       "      <td>80.0</td>\n",
       "      <td>114.0</td>\n",
       "      <td>1500.0</td>\n",
       "    </tr>\n",
       "    <tr>\n",
       "      <td>столовая</td>\n",
       "      <td>2587.0</td>\n",
       "      <td>130.246618</td>\n",
       "      <td>95.179313</td>\n",
       "      <td>0.0</td>\n",
       "      <td>50.0</td>\n",
       "      <td>103.0</td>\n",
       "      <td>200.0</td>\n",
       "      <td>1400.0</td>\n",
       "    </tr>\n",
       "    <tr>\n",
       "      <td>фаст-фуд</td>\n",
       "      <td>1923.0</td>\n",
       "      <td>20.552262</td>\n",
       "      <td>38.366974</td>\n",
       "      <td>0.0</td>\n",
       "      <td>0.0</td>\n",
       "      <td>5.0</td>\n",
       "      <td>25.0</td>\n",
       "      <td>580.0</td>\n",
       "    </tr>\n",
       "  </tbody>\n",
       "</table>\n",
       "</div>"
      ],
      "text/plain": [
       "              count        mean        std  min   25%    50%    75%     max\n",
       "object_type                                                                \n",
       "бар           856.0   43.494159  67.082876  0.0  20.0   35.0   50.0  1700.0\n",
       "буфет         585.0   51.129915  56.331974  0.0  14.0   32.0   80.0   320.0\n",
       "закусочная    360.0    7.608333  16.650912  0.0   0.0    0.0   10.0   216.0\n",
       "кафе         6099.0   39.716019  37.720947  0.0  15.0   30.0   50.0   533.0\n",
       "кафетерий     398.0    9.123116  14.639150  0.0   0.0    6.0   12.0   200.0\n",
       "кулинария     273.0    5.589744   9.872729  0.0   0.0    0.0    8.0    50.0\n",
       "ресторан     2285.0   96.834136  94.756542  0.0  46.0   80.0  114.0  1500.0\n",
       "столовая     2587.0  130.246618  95.179313  0.0  50.0  103.0  200.0  1400.0\n",
       "фаст-фуд     1923.0   20.552262  38.366974  0.0   0.0    5.0   25.0   580.0"
      ]
     },
     "execution_count": 62,
     "metadata": {},
     "output_type": "execute_result"
    }
   ],
   "source": [
    "df.groupby('object_type')['number'].describe()"
   ]
  },
  {
   "cell_type": "code",
   "execution_count": 63,
   "metadata": {},
   "outputs": [
    {
     "data": {
      "image/png": "[encoded data removed]",
      "text/plain": [
       "<Figure size 720x576 with 1 Axes>"
      ]
     },
     "metadata": {},
     "output_type": "display_data"
    }
   ],
   "source": [
    "ax = sns.barplot(x='object_type', y='number', data=df, palette=\"Set3\")\n",
    "ax.set_xlabel('Тип заведения')\n",
    "ax.set_ylabel('Количество мест')\n",
    "ax.set_title('Кол-во мест в общепитах Москвы')\n",
    "plt.xticks(rotation=9)\n",
    "plt.show()"
   ]
  },
  {
   "cell_type": "markdown",
   "metadata": {},
   "source": [
    "Самое большое количество посадочных мест предоставляют столовая и ресторан. Среднее количество мест в столовых чуть больше 100, в ретсоранах от 50 до 100"
   ]
  },
  {
   "cell_type": "markdown",
   "metadata": {},
   "source": [
    "<div class=\"alert alert-success\">\n",
    "<b>✅ Комментарий ревьюера:</b> \n",
    "\n",
    "Хороший график, барплот как тип графика тут отлично подходит. \n",
    "</div>"
   ]
  },
  {
   "cell_type": "markdown",
   "metadata": {},
   "source": [
    "### Выделите в отдельный столбец информацию об улице из столбца address"
   ]
  },
  {
   "cell_type": "code",
   "execution_count": 64,
   "metadata": {},
   "outputs": [],
   "source": [
    "symbols = [',', '«', '»', '(', ')', '\"', '  ']"
   ]
  },
  {
   "cell_type": "code",
   "execution_count": 65,
   "metadata": {},
   "outputs": [],
   "source": [
    "for s in symbols:\n",
    "    df['object_name'] = df['object_name'].str.replace(s, ' ')"
   ]
  },
  {
   "cell_type": "code",
   "execution_count": 66,
   "metadata": {},
   "outputs": [],
   "source": [
    "streets = df['address'].to_list()"
   ]
  },
  {
   "cell_type": "code",
   "execution_count": 67,
   "metadata": {},
   "outputs": [],
   "source": [
    "streets_only = []\n",
    "for street in streets:  \n",
    "    start = street.find('Город москва')\n",
    "    end = street.find('дом')\n",
    "    streets_only.append(street[start+14:end-2])"
   ]
  },
  {
   "cell_type": "markdown",
   "metadata": {},
   "source": [
    "<div class=\"alert alert-success\">\n",
    "<b>✅ Комментарий ревьюера:</b> \n",
    "\n",
    "Молодец, слова маркеры - отличный подход. Улица определена корректно.\n",
    "</div>"
   ]
  },
  {
   "cell_type": "code",
   "execution_count": 68,
   "metadata": {},
   "outputs": [],
   "source": [
    "df['streetname'] = streets_only"
   ]
  },
  {
   "cell_type": "code",
   "execution_count": 69,
   "metadata": {},
   "outputs": [
    {
     "data": {
      "text/html": [
       "<div>\n",
       "<style scoped>\n",
       "    .dataframe tbody tr th:only-of-type {\n",
       "        vertical-align: middle;\n",
       "    }\n",
       "\n",
       "    .dataframe tbody tr th {\n",
       "        vertical-align: top;\n",
       "    }\n",
       "\n",
       "    .dataframe thead th {\n",
       "        text-align: right;\n",
       "    }\n",
       "</style>\n",
       "<table border=\"1\" class=\"dataframe\">\n",
       "  <thead>\n",
       "    <tr style=\"text-align: right;\">\n",
       "      <th></th>\n",
       "      <th>id</th>\n",
       "      <th>object_name</th>\n",
       "      <th>chain</th>\n",
       "      <th>object_type</th>\n",
       "      <th>address</th>\n",
       "      <th>number</th>\n",
       "      <th>streetname</th>\n",
       "    </tr>\n",
       "  </thead>\n",
       "  <tbody>\n",
       "    <tr>\n",
       "      <td>0</td>\n",
       "      <td>151635</td>\n",
       "      <td>СМЕТАНА</td>\n",
       "      <td>несетевое</td>\n",
       "      <td>кафе</td>\n",
       "      <td>город Москва, улица Егора Абакумова, дом 9</td>\n",
       "      <td>48</td>\n",
       "      <td>улица Егора Абакумова</td>\n",
       "    </tr>\n",
       "    <tr>\n",
       "      <td>1</td>\n",
       "      <td>77874</td>\n",
       "      <td>Родник</td>\n",
       "      <td>несетевое</td>\n",
       "      <td>кафе</td>\n",
       "      <td>город Москва, улица Талалихина, дом 2/1, корпус 1</td>\n",
       "      <td>35</td>\n",
       "      <td>улица Талалихина</td>\n",
       "    </tr>\n",
       "    <tr>\n",
       "      <td>2</td>\n",
       "      <td>24309</td>\n",
       "      <td>Кафе Академия</td>\n",
       "      <td>несетевое</td>\n",
       "      <td>кафе</td>\n",
       "      <td>город Москва, Абельмановская улица, дом 6</td>\n",
       "      <td>95</td>\n",
       "      <td>Абельмановская улица</td>\n",
       "    </tr>\n",
       "    <tr>\n",
       "      <td>3</td>\n",
       "      <td>21894</td>\n",
       "      <td>ПИЦЦЕТОРИЯ</td>\n",
       "      <td>сетевое</td>\n",
       "      <td>кафе</td>\n",
       "      <td>город Москва, Абрамцевская улица, дом 1</td>\n",
       "      <td>40</td>\n",
       "      <td>Абрамцевская улица</td>\n",
       "    </tr>\n",
       "    <tr>\n",
       "      <td>4</td>\n",
       "      <td>119365</td>\n",
       "      <td>Кафе Вишневая метель</td>\n",
       "      <td>несетевое</td>\n",
       "      <td>кафе</td>\n",
       "      <td>город Москва, Абрамцевская улица, дом 9, корпус 1</td>\n",
       "      <td>50</td>\n",
       "      <td>Абрамцевская улица</td>\n",
       "    </tr>\n",
       "    <tr>\n",
       "      <td>5</td>\n",
       "      <td>27429</td>\n",
       "      <td>СТОЛ. ПРИ ГОУ СОШ № 1051</td>\n",
       "      <td>несетевое</td>\n",
       "      <td>столовая</td>\n",
       "      <td>город Москва, Абрамцевская улица, дом 15, корп...</td>\n",
       "      <td>240</td>\n",
       "      <td>Абрамцевская улица</td>\n",
       "    </tr>\n",
       "    <tr>\n",
       "      <td>6</td>\n",
       "      <td>148815</td>\n",
       "      <td>Брусника</td>\n",
       "      <td>сетевое</td>\n",
       "      <td>кафе</td>\n",
       "      <td>город Москва, переулок Сивцев Вражек, дом 6/2</td>\n",
       "      <td>10</td>\n",
       "      <td>переулок Сивцев Вражек</td>\n",
       "    </tr>\n",
       "    <tr>\n",
       "      <td>7</td>\n",
       "      <td>20957</td>\n",
       "      <td>Буфет МТУСИ</td>\n",
       "      <td>несетевое</td>\n",
       "      <td>столовая</td>\n",
       "      <td>город Москва, Авиамоторная улица, дом 8, строе...</td>\n",
       "      <td>90</td>\n",
       "      <td>Авиамоторная улица</td>\n",
       "    </tr>\n",
       "    <tr>\n",
       "      <td>8</td>\n",
       "      <td>20958</td>\n",
       "      <td>КПФ СЕМЬЯ-1</td>\n",
       "      <td>несетевое</td>\n",
       "      <td>столовая</td>\n",
       "      <td>город Москва, Авиамоторная улица, дом 8, строе...</td>\n",
       "      <td>150</td>\n",
       "      <td>Авиамоторная улица</td>\n",
       "    </tr>\n",
       "    <tr>\n",
       "      <td>9</td>\n",
       "      <td>28858</td>\n",
       "      <td>Столовая МТУСИ</td>\n",
       "      <td>несетевое</td>\n",
       "      <td>столовая</td>\n",
       "      <td>город Москва, Авиамоторная улица, дом 8, строе...</td>\n",
       "      <td>120</td>\n",
       "      <td>Авиамоторная улица</td>\n",
       "    </tr>\n",
       "    <tr>\n",
       "      <td>10</td>\n",
       "      <td>148595</td>\n",
       "      <td>Пекарня 24</td>\n",
       "      <td>несетевое</td>\n",
       "      <td>закусочная</td>\n",
       "      <td>город Москва, Авиамоторная улица, дом 47</td>\n",
       "      <td>5</td>\n",
       "      <td>Авиамоторная улица</td>\n",
       "    </tr>\n",
       "    <tr>\n",
       "      <td>11</td>\n",
       "      <td>23394</td>\n",
       "      <td>Гогиели</td>\n",
       "      <td>несетевое</td>\n",
       "      <td>кафе</td>\n",
       "      <td>город Москва, Авиамоторная улица, дом 49/1</td>\n",
       "      <td>24</td>\n",
       "      <td>Авиамоторная улица</td>\n",
       "    </tr>\n",
       "    <tr>\n",
       "      <td>12</td>\n",
       "      <td>28582</td>\n",
       "      <td>ШКОЛА 735</td>\n",
       "      <td>несетевое</td>\n",
       "      <td>столовая</td>\n",
       "      <td>город Москва, Авиамоторная улица, дом 51</td>\n",
       "      <td>140</td>\n",
       "      <td>Авиамоторная улица</td>\n",
       "    </tr>\n",
       "    <tr>\n",
       "      <td>13</td>\n",
       "      <td>22579</td>\n",
       "      <td>Алло Пицца</td>\n",
       "      <td>сетевое</td>\n",
       "      <td>кафе</td>\n",
       "      <td>город Москва, улица Авиаторов, дом 14</td>\n",
       "      <td>32</td>\n",
       "      <td>улица Авиаторов</td>\n",
       "    </tr>\n",
       "    <tr>\n",
       "      <td>14</td>\n",
       "      <td>23670</td>\n",
       "      <td>Гимназия 1542</td>\n",
       "      <td>несетевое</td>\n",
       "      <td>столовая</td>\n",
       "      <td>город Москва, улица Авиаторов, дом 16</td>\n",
       "      <td>270</td>\n",
       "      <td>улица Авиаторов</td>\n",
       "    </tr>\n",
       "    <tr>\n",
       "      <td>15</td>\n",
       "      <td>23663</td>\n",
       "      <td>Школа 1011</td>\n",
       "      <td>несетевое</td>\n",
       "      <td>столовая</td>\n",
       "      <td>город Москва, улица Авиаторов, дом 18</td>\n",
       "      <td>320</td>\n",
       "      <td>улица Авиаторов</td>\n",
       "    </tr>\n",
       "    <tr>\n",
       "      <td>16</td>\n",
       "      <td>144107</td>\n",
       "      <td>Суши Wok</td>\n",
       "      <td>сетевое</td>\n",
       "      <td>фаст-фуд</td>\n",
       "      <td>город Москва, Азовская улица, дом 3</td>\n",
       "      <td>7</td>\n",
       "      <td>Азовская улица</td>\n",
       "    </tr>\n",
       "    <tr>\n",
       "      <td>17</td>\n",
       "      <td>154654</td>\n",
       "      <td>Донер Кебаб</td>\n",
       "      <td>несетевое</td>\n",
       "      <td>фаст-фуд</td>\n",
       "      <td>город Москва, Азовская улица, дом 4</td>\n",
       "      <td>2</td>\n",
       "      <td>Азовская улица</td>\n",
       "    </tr>\n",
       "    <tr>\n",
       "      <td>18</td>\n",
       "      <td>58565</td>\n",
       "      <td>Тануки</td>\n",
       "      <td>сетевое</td>\n",
       "      <td>ресторан</td>\n",
       "      <td>город Москва, Большая Академическая улица, дом 65</td>\n",
       "      <td>160</td>\n",
       "      <td>Большая Академическая улица</td>\n",
       "    </tr>\n",
       "    <tr>\n",
       "      <td>19</td>\n",
       "      <td>153644</td>\n",
       "      <td>Американская Лаборатория Десертов</td>\n",
       "      <td>несетевое</td>\n",
       "      <td>кафе</td>\n",
       "      <td>город Москва, Филипповский переулок, дом 15/5</td>\n",
       "      <td>20</td>\n",
       "      <td>Филипповский переулок</td>\n",
       "    </tr>\n",
       "  </tbody>\n",
       "</table>\n",
       "</div>"
      ],
      "text/plain": [
       "        id                        object_name      chain object_type  \\\n",
       "0   151635                            СМЕТАНА  несетевое        кафе   \n",
       "1    77874                             Родник  несетевое        кафе   \n",
       "2    24309                     Кафе Академия   несетевое        кафе   \n",
       "3    21894                         ПИЦЦЕТОРИЯ    сетевое        кафе   \n",
       "4   119365              Кафе Вишневая метель   несетевое        кафе   \n",
       "5    27429           СТОЛ. ПРИ ГОУ СОШ № 1051  несетевое    столовая   \n",
       "6   148815                           Брусника    сетевое        кафе   \n",
       "7    20957                        Буфет МТУСИ  несетевое    столовая   \n",
       "8    20958                        КПФ СЕМЬЯ-1  несетевое    столовая   \n",
       "9    28858                     Столовая МТУСИ  несетевое    столовая   \n",
       "10  148595                         Пекарня 24  несетевое  закусочная   \n",
       "11   23394                            Гогиели  несетевое        кафе   \n",
       "12   28582                          ШКОЛА 735  несетевое    столовая   \n",
       "13   22579                         Алло Пицца    сетевое        кафе   \n",
       "14   23670                      Гимназия 1542  несетевое    столовая   \n",
       "15   23663                         Школа 1011  несетевое    столовая   \n",
       "16  144107                           Суши Wok    сетевое    фаст-фуд   \n",
       "17  154654                        Донер Кебаб  несетевое    фаст-фуд   \n",
       "18   58565                             Тануки    сетевое    ресторан   \n",
       "19  153644  Американская Лаборатория Десертов  несетевое        кафе   \n",
       "\n",
       "                                              address  number  \\\n",
       "0          город Москва, улица Егора Абакумова, дом 9      48   \n",
       "1   город Москва, улица Талалихина, дом 2/1, корпус 1      35   \n",
       "2           город Москва, Абельмановская улица, дом 6      95   \n",
       "3             город Москва, Абрамцевская улица, дом 1      40   \n",
       "4   город Москва, Абрамцевская улица, дом 9, корпус 1      50   \n",
       "5   город Москва, Абрамцевская улица, дом 15, корп...     240   \n",
       "6       город Москва, переулок Сивцев Вражек, дом 6/2      10   \n",
       "7   город Москва, Авиамоторная улица, дом 8, строе...      90   \n",
       "8   город Москва, Авиамоторная улица, дом 8, строе...     150   \n",
       "9   город Москва, Авиамоторная улица, дом 8, строе...     120   \n",
       "10           город Москва, Авиамоторная улица, дом 47       5   \n",
       "11         город Москва, Авиамоторная улица, дом 49/1      24   \n",
       "12           город Москва, Авиамоторная улица, дом 51     140   \n",
       "13              город Москва, улица Авиаторов, дом 14      32   \n",
       "14              город Москва, улица Авиаторов, дом 16     270   \n",
       "15              город Москва, улица Авиаторов, дом 18     320   \n",
       "16                город Москва, Азовская улица, дом 3       7   \n",
       "17                город Москва, Азовская улица, дом 4       2   \n",
       "18  город Москва, Большая Академическая улица, дом 65     160   \n",
       "19      город Москва, Филипповский переулок, дом 15/5      20   \n",
       "\n",
       "                      streetname  \n",
       "0          улица Егора Абакумова  \n",
       "1               улица Талалихина  \n",
       "2           Абельмановская улица  \n",
       "3             Абрамцевская улица  \n",
       "4             Абрамцевская улица  \n",
       "5             Абрамцевская улица  \n",
       "6         переулок Сивцев Вражек  \n",
       "7             Авиамоторная улица  \n",
       "8             Авиамоторная улица  \n",
       "9             Авиамоторная улица  \n",
       "10            Авиамоторная улица  \n",
       "11            Авиамоторная улица  \n",
       "12            Авиамоторная улица  \n",
       "13               улица Авиаторов  \n",
       "14               улица Авиаторов  \n",
       "15               улица Авиаторов  \n",
       "16                Азовская улица  \n",
       "17                Азовская улица  \n",
       "18   Большая Академическая улица  \n",
       "19         Филипповский переулок  "
      ]
     },
     "execution_count": 69,
     "metadata": {},
     "output_type": "execute_result"
    }
   ],
   "source": [
    "df.head(20)"
   ]
  },
  {
   "cell_type": "code",
   "execution_count": 70,
   "metadata": {},
   "outputs": [
    {
     "data": {
      "text/plain": [
       "id             1\n",
       "object_name    1\n",
       "chain          1\n",
       "object_type    1\n",
       "address        1\n",
       "number         1\n",
       "streetname     1\n",
       "dtype: int64"
      ]
     },
     "execution_count": 70,
     "metadata": {},
     "output_type": "execute_result"
    }
   ],
   "source": [
    "df[df['streetname'] == ''].count()"
   ]
  },
  {
   "cell_type": "code",
   "execution_count": 71,
   "metadata": {},
   "outputs": [
    {
     "data": {
      "text/html": [
       "<div>\n",
       "<style scoped>\n",
       "    .dataframe tbody tr th:only-of-type {\n",
       "        vertical-align: middle;\n",
       "    }\n",
       "\n",
       "    .dataframe tbody tr th {\n",
       "        vertical-align: top;\n",
       "    }\n",
       "\n",
       "    .dataframe thead th {\n",
       "        text-align: right;\n",
       "    }\n",
       "</style>\n",
       "<table border=\"1\" class=\"dataframe\">\n",
       "  <thead>\n",
       "    <tr style=\"text-align: right;\">\n",
       "      <th></th>\n",
       "      <th>id</th>\n",
       "      <th>object_name</th>\n",
       "      <th>chain</th>\n",
       "      <th>object_type</th>\n",
       "      <th>address</th>\n",
       "      <th>number</th>\n",
       "      <th>streetname</th>\n",
       "    </tr>\n",
       "  </thead>\n",
       "  <tbody>\n",
       "    <tr>\n",
       "      <td>8875</td>\n",
       "      <td>149863</td>\n",
       "      <td>Школьно-базовая столовая</td>\n",
       "      <td>несетевое</td>\n",
       "      <td>столовая</td>\n",
       "      <td>Полевая улица, дом 20</td>\n",
       "      <td>205</td>\n",
       "      <td></td>\n",
       "    </tr>\n",
       "  </tbody>\n",
       "</table>\n",
       "</div>"
      ],
      "text/plain": [
       "          id               object_name      chain object_type  \\\n",
       "8875  149863  Школьно-базовая столовая  несетевое    столовая   \n",
       "\n",
       "                    address  number streetname  \n",
       "8875  Полевая улица, дом 20     205             "
      ]
     },
     "execution_count": 71,
     "metadata": {},
     "output_type": "execute_result"
    }
   ],
   "source": [
    "df[df['streetname'] == '']"
   ]
  },
  {
   "cell_type": "markdown",
   "metadata": {},
   "source": [
    "Одна из улиц была утеряна"
   ]
  },
  {
   "cell_type": "markdown",
   "metadata": {},
   "source": [
    "### Постройте график топ-10 улиц по количеству объектов общественного питания. Воспользуйтесь внешней информацией и ответьте на вопрос — в каких районах Москвы находятся эти улицы?"
   ]
  },
  {
   "cell_type": "code",
   "execution_count": 72,
   "metadata": {},
   "outputs": [
    {
     "data": {
      "text/html": [
       "<div>\n",
       "<style scoped>\n",
       "    .dataframe tbody tr th:only-of-type {\n",
       "        vertical-align: middle;\n",
       "    }\n",
       "\n",
       "    .dataframe tbody tr th {\n",
       "        vertical-align: top;\n",
       "    }\n",
       "\n",
       "    .dataframe thead th {\n",
       "        text-align: right;\n",
       "    }\n",
       "</style>\n",
       "<table border=\"1\" class=\"dataframe\">\n",
       "  <thead>\n",
       "    <tr style=\"text-align: right;\">\n",
       "      <th></th>\n",
       "      <th>streetname</th>\n",
       "      <th>areaid</th>\n",
       "      <th>okrug</th>\n",
       "      <th>area</th>\n",
       "    </tr>\n",
       "  </thead>\n",
       "  <tbody>\n",
       "    <tr>\n",
       "      <td>0</td>\n",
       "      <td>Выставочный переулок</td>\n",
       "      <td>17</td>\n",
       "      <td>ЦАО</td>\n",
       "      <td>Пресненский район</td>\n",
       "    </tr>\n",
       "    <tr>\n",
       "      <td>1</td>\n",
       "      <td>улица Гашека</td>\n",
       "      <td>17</td>\n",
       "      <td>ЦАО</td>\n",
       "      <td>Пресненский район</td>\n",
       "    </tr>\n",
       "    <tr>\n",
       "      <td>2</td>\n",
       "      <td>Большая Никитская улица</td>\n",
       "      <td>17</td>\n",
       "      <td>ЦАО</td>\n",
       "      <td>Пресненский район</td>\n",
       "    </tr>\n",
       "    <tr>\n",
       "      <td>3</td>\n",
       "      <td>Глубокий переулок</td>\n",
       "      <td>17</td>\n",
       "      <td>ЦАО</td>\n",
       "      <td>Пресненский район</td>\n",
       "    </tr>\n",
       "    <tr>\n",
       "      <td>4</td>\n",
       "      <td>Большой Гнездниковский переулок</td>\n",
       "      <td>17</td>\n",
       "      <td>ЦАО</td>\n",
       "      <td>Пресненский район</td>\n",
       "    </tr>\n",
       "  </tbody>\n",
       "</table>\n",
       "</div>"
      ],
      "text/plain": [
       "                        streetname  areaid okrug               area\n",
       "0             Выставочный переулок      17   ЦАО  Пресненский район\n",
       "1                     улица Гашека      17   ЦАО  Пресненский район\n",
       "2          Большая Никитская улица      17   ЦАО  Пресненский район\n",
       "3                Глубокий переулок      17   ЦАО  Пресненский район\n",
       "4  Большой Гнездниковский переулок      17   ЦАО  Пресненский район"
      ]
     },
     "execution_count": 72,
     "metadata": {},
     "output_type": "execute_result"
    }
   ],
   "source": [
    "dists = pd.read_csv('allstreets.csv')\n",
    "dists.head()"
   ]
  },
  {
   "cell_type": "markdown",
   "metadata": {},
   "source": [
    "<div class=\"alert alert-info\"> <b>Комментарий студента:</b>Внешние данные</div>"
   ]
  },
  {
   "cell_type": "code",
   "execution_count": 73,
   "metadata": {},
   "outputs": [
    {
     "data": {
      "text/html": [
       "<div>\n",
       "<style scoped>\n",
       "    .dataframe tbody tr th:only-of-type {\n",
       "        vertical-align: middle;\n",
       "    }\n",
       "\n",
       "    .dataframe tbody tr th {\n",
       "        vertical-align: top;\n",
       "    }\n",
       "\n",
       "    .dataframe thead th {\n",
       "        text-align: right;\n",
       "    }\n",
       "</style>\n",
       "<table border=\"1\" class=\"dataframe\">\n",
       "  <thead>\n",
       "    <tr style=\"text-align: right;\">\n",
       "      <th></th>\n",
       "      <th>id</th>\n",
       "      <th>object_name</th>\n",
       "      <th>chain</th>\n",
       "      <th>object_type</th>\n",
       "      <th>address</th>\n",
       "      <th>number</th>\n",
       "      <th>streetname</th>\n",
       "      <th>areaid</th>\n",
       "      <th>okrug</th>\n",
       "      <th>area</th>\n",
       "    </tr>\n",
       "  </thead>\n",
       "  <tbody>\n",
       "    <tr>\n",
       "      <td>0</td>\n",
       "      <td>151635.0</td>\n",
       "      <td>СМЕТАНА</td>\n",
       "      <td>несетевое</td>\n",
       "      <td>кафе</td>\n",
       "      <td>город Москва, улица Егора Абакумова, дом 9</td>\n",
       "      <td>48.0</td>\n",
       "      <td>улица Егора Абакумова</td>\n",
       "      <td>NaN</td>\n",
       "      <td>NaN</td>\n",
       "      <td>NaN</td>\n",
       "    </tr>\n",
       "    <tr>\n",
       "      <td>1</td>\n",
       "      <td>193477.0</td>\n",
       "      <td>Grill-House</td>\n",
       "      <td>несетевое</td>\n",
       "      <td>закусочная</td>\n",
       "      <td>город Москва, улица Егора Абакумова, дом 14А</td>\n",
       "      <td>0.0</td>\n",
       "      <td>улица Егора Абакумова</td>\n",
       "      <td>NaN</td>\n",
       "      <td>NaN</td>\n",
       "      <td>NaN</td>\n",
       "    </tr>\n",
       "    <tr>\n",
       "      <td>2</td>\n",
       "      <td>196756.0</td>\n",
       "      <td>Пекарня</td>\n",
       "      <td>несетевое</td>\n",
       "      <td>кафетерий</td>\n",
       "      <td>город Москва, улица Егора Абакумова, дом 14А</td>\n",
       "      <td>12.0</td>\n",
       "      <td>улица Егора Абакумова</td>\n",
       "      <td>NaN</td>\n",
       "      <td>NaN</td>\n",
       "      <td>NaN</td>\n",
       "    </tr>\n",
       "    <tr>\n",
       "      <td>3</td>\n",
       "      <td>77874.0</td>\n",
       "      <td>Родник</td>\n",
       "      <td>несетевое</td>\n",
       "      <td>кафе</td>\n",
       "      <td>город Москва, улица Талалихина, дом 2/1, корпус 1</td>\n",
       "      <td>35.0</td>\n",
       "      <td>улица Талалихина</td>\n",
       "      <td>NaN</td>\n",
       "      <td>NaN</td>\n",
       "      <td>NaN</td>\n",
       "    </tr>\n",
       "    <tr>\n",
       "      <td>4</td>\n",
       "      <td>83942.0</td>\n",
       "      <td>Кафе Даиси</td>\n",
       "      <td>несетевое</td>\n",
       "      <td>кафе</td>\n",
       "      <td>город Москва, улица Талалихина, дом 31А/2</td>\n",
       "      <td>78.0</td>\n",
       "      <td>улица Талалихина</td>\n",
       "      <td>NaN</td>\n",
       "      <td>NaN</td>\n",
       "      <td>NaN</td>\n",
       "    </tr>\n",
       "    <tr>\n",
       "      <td>...</td>\n",
       "      <td>...</td>\n",
       "      <td>...</td>\n",
       "      <td>...</td>\n",
       "      <td>...</td>\n",
       "      <td>...</td>\n",
       "      <td>...</td>\n",
       "      <td>...</td>\n",
       "      <td>...</td>\n",
       "      <td>...</td>\n",
       "      <td>...</td>\n",
       "    </tr>\n",
       "    <tr>\n",
       "      <td>19759</td>\n",
       "      <td>NaN</td>\n",
       "      <td>NaN</td>\n",
       "      <td>NaN</td>\n",
       "      <td>NaN</td>\n",
       "      <td>NaN</td>\n",
       "      <td>NaN</td>\n",
       "      <td>улица Брянский Пост</td>\n",
       "      <td>17.0</td>\n",
       "      <td>ЦАО</td>\n",
       "      <td>Пресненский район</td>\n",
       "    </tr>\n",
       "    <tr>\n",
       "      <td>19760</td>\n",
       "      <td>NaN</td>\n",
       "      <td>NaN</td>\n",
       "      <td>NaN</td>\n",
       "      <td>NaN</td>\n",
       "      <td>NaN</td>\n",
       "      <td>NaN</td>\n",
       "      <td>Вознесенский проезд</td>\n",
       "      <td>17.0</td>\n",
       "      <td>ЦАО</td>\n",
       "      <td>Пресненский район</td>\n",
       "    </tr>\n",
       "    <tr>\n",
       "      <td>19761</td>\n",
       "      <td>NaN</td>\n",
       "      <td>NaN</td>\n",
       "      <td>NaN</td>\n",
       "      <td>NaN</td>\n",
       "      <td>NaN</td>\n",
       "      <td>NaN</td>\n",
       "      <td>Волков переулок</td>\n",
       "      <td>17.0</td>\n",
       "      <td>ЦАО</td>\n",
       "      <td>Пресненский район</td>\n",
       "    </tr>\n",
       "    <tr>\n",
       "      <td>19762</td>\n",
       "      <td>NaN</td>\n",
       "      <td>NaN</td>\n",
       "      <td>NaN</td>\n",
       "      <td>NaN</td>\n",
       "      <td>NaN</td>\n",
       "      <td>NaN</td>\n",
       "      <td>Кудринская площадь</td>\n",
       "      <td>17.0</td>\n",
       "      <td>ЦАО</td>\n",
       "      <td>Пресненский район</td>\n",
       "    </tr>\n",
       "    <tr>\n",
       "      <td>19763</td>\n",
       "      <td>NaN</td>\n",
       "      <td>NaN</td>\n",
       "      <td>NaN</td>\n",
       "      <td>NaN</td>\n",
       "      <td>NaN</td>\n",
       "      <td>NaN</td>\n",
       "      <td>Вспольный переулок</td>\n",
       "      <td>17.0</td>\n",
       "      <td>ЦАО</td>\n",
       "      <td>Пресненский район</td>\n",
       "    </tr>\n",
       "  </tbody>\n",
       "</table>\n",
       "<p>19764 rows × 10 columns</p>\n",
       "</div>"
      ],
      "text/plain": [
       "             id  object_name      chain object_type  \\\n",
       "0      151635.0      СМЕТАНА  несетевое        кафе   \n",
       "1      193477.0  Grill-House  несетевое  закусочная   \n",
       "2      196756.0      Пекарня  несетевое   кафетерий   \n",
       "3       77874.0       Родник  несетевое        кафе   \n",
       "4       83942.0   Кафе Даиси  несетевое        кафе   \n",
       "...         ...          ...        ...         ...   \n",
       "19759       NaN          NaN        NaN         NaN   \n",
       "19760       NaN          NaN        NaN         NaN   \n",
       "19761       NaN          NaN        NaN         NaN   \n",
       "19762       NaN          NaN        NaN         NaN   \n",
       "19763       NaN          NaN        NaN         NaN   \n",
       "\n",
       "                                                 address  number  \\\n",
       "0             город Москва, улица Егора Абакумова, дом 9    48.0   \n",
       "1           город Москва, улица Егора Абакумова, дом 14А     0.0   \n",
       "2           город Москва, улица Егора Абакумова, дом 14А    12.0   \n",
       "3      город Москва, улица Талалихина, дом 2/1, корпус 1    35.0   \n",
       "4              город Москва, улица Талалихина, дом 31А/2    78.0   \n",
       "...                                                  ...     ...   \n",
       "19759                                                NaN     NaN   \n",
       "19760                                                NaN     NaN   \n",
       "19761                                                NaN     NaN   \n",
       "19762                                                NaN     NaN   \n",
       "19763                                                NaN     NaN   \n",
       "\n",
       "                   streetname  areaid okrug               area  \n",
       "0       улица Егора Абакумова     NaN   NaN                NaN  \n",
       "1       улица Егора Абакумова     NaN   NaN                NaN  \n",
       "2       улица Егора Абакумова     NaN   NaN                NaN  \n",
       "3            улица Талалихина     NaN   NaN                NaN  \n",
       "4            улица Талалихина     NaN   NaN                NaN  \n",
       "...                       ...     ...   ...                ...  \n",
       "19759     улица Брянский Пост    17.0   ЦАО  Пресненский район  \n",
       "19760     Вознесенский проезд    17.0   ЦАО  Пресненский район  \n",
       "19761         Волков переулок    17.0   ЦАО  Пресненский район  \n",
       "19762      Кудринская площадь    17.0   ЦАО  Пресненский район  \n",
       "19763      Вспольный переулок    17.0   ЦАО  Пресненский район  \n",
       "\n",
       "[19764 rows x 10 columns]"
      ]
     },
     "execution_count": 73,
     "metadata": {},
     "output_type": "execute_result"
    }
   ],
   "source": [
    "wh_area = df.merge(dists, on='streetname', how='outer')\n",
    "wh_area"
   ]
  },
  {
   "cell_type": "markdown",
   "metadata": {},
   "source": [
    "<div class=\"alert alert-info\"> <b>Комментарий студента:</b>Объединил</div>"
   ]
  },
  {
   "cell_type": "code",
   "execution_count": 74,
   "metadata": {},
   "outputs": [
    {
     "data": {
      "text/html": [
       "<div>\n",
       "<style scoped>\n",
       "    .dataframe tbody tr th:only-of-type {\n",
       "        vertical-align: middle;\n",
       "    }\n",
       "\n",
       "    .dataframe tbody tr th {\n",
       "        vertical-align: top;\n",
       "    }\n",
       "\n",
       "    .dataframe thead th {\n",
       "        text-align: right;\n",
       "    }\n",
       "</style>\n",
       "<table border=\"1\" class=\"dataframe\">\n",
       "  <thead>\n",
       "    <tr style=\"text-align: right;\">\n",
       "      <th></th>\n",
       "      <th>streetname</th>\n",
       "      <th>id</th>\n",
       "      <th>object_name</th>\n",
       "      <th>chain</th>\n",
       "      <th>object_type</th>\n",
       "      <th>address</th>\n",
       "      <th>number</th>\n",
       "      <th>areaid</th>\n",
       "      <th>okrug</th>\n",
       "      <th>area</th>\n",
       "    </tr>\n",
       "  </thead>\n",
       "  <tbody>\n",
       "    <tr>\n",
       "      <td>0</td>\n",
       "      <td>проспект Мира</td>\n",
       "      <td>204</td>\n",
       "      <td>204</td>\n",
       "      <td>204</td>\n",
       "      <td>204</td>\n",
       "      <td>204</td>\n",
       "      <td>204</td>\n",
       "      <td>0</td>\n",
       "      <td>0</td>\n",
       "      <td>0</td>\n",
       "    </tr>\n",
       "    <tr>\n",
       "      <td>1</td>\n",
       "      <td>Профсоюзная улица</td>\n",
       "      <td>182</td>\n",
       "      <td>182</td>\n",
       "      <td>182</td>\n",
       "      <td>182</td>\n",
       "      <td>182</td>\n",
       "      <td>182</td>\n",
       "      <td>0</td>\n",
       "      <td>0</td>\n",
       "      <td>0</td>\n",
       "    </tr>\n",
       "    <tr>\n",
       "      <td>2</td>\n",
       "      <td>Ленинградский проспект</td>\n",
       "      <td>170</td>\n",
       "      <td>170</td>\n",
       "      <td>170</td>\n",
       "      <td>170</td>\n",
       "      <td>170</td>\n",
       "      <td>170</td>\n",
       "      <td>0</td>\n",
       "      <td>0</td>\n",
       "      <td>0</td>\n",
       "    </tr>\n",
       "    <tr>\n",
       "      <td>3</td>\n",
       "      <td>Пресненская набережная</td>\n",
       "      <td>167</td>\n",
       "      <td>167</td>\n",
       "      <td>167</td>\n",
       "      <td>167</td>\n",
       "      <td>167</td>\n",
       "      <td>167</td>\n",
       "      <td>0</td>\n",
       "      <td>0</td>\n",
       "      <td>0</td>\n",
       "    </tr>\n",
       "    <tr>\n",
       "      <td>4</td>\n",
       "      <td>Варшавское шоссе</td>\n",
       "      <td>155</td>\n",
       "      <td>155</td>\n",
       "      <td>155</td>\n",
       "      <td>155</td>\n",
       "      <td>155</td>\n",
       "      <td>155</td>\n",
       "      <td>0</td>\n",
       "      <td>0</td>\n",
       "      <td>0</td>\n",
       "    </tr>\n",
       "    <tr>\n",
       "      <td>5</td>\n",
       "      <td>Ленинский проспект</td>\n",
       "      <td>147</td>\n",
       "      <td>147</td>\n",
       "      <td>147</td>\n",
       "      <td>147</td>\n",
       "      <td>147</td>\n",
       "      <td>147</td>\n",
       "      <td>0</td>\n",
       "      <td>0</td>\n",
       "      <td>0</td>\n",
       "    </tr>\n",
       "    <tr>\n",
       "      <td>6</td>\n",
       "      <td>проспект Вернадского</td>\n",
       "      <td>131</td>\n",
       "      <td>131</td>\n",
       "      <td>131</td>\n",
       "      <td>131</td>\n",
       "      <td>131</td>\n",
       "      <td>131</td>\n",
       "      <td>0</td>\n",
       "      <td>0</td>\n",
       "      <td>0</td>\n",
       "    </tr>\n",
       "    <tr>\n",
       "      <td>7</td>\n",
       "      <td>Кутузовский проспект</td>\n",
       "      <td>114</td>\n",
       "      <td>114</td>\n",
       "      <td>114</td>\n",
       "      <td>114</td>\n",
       "      <td>114</td>\n",
       "      <td>114</td>\n",
       "      <td>0</td>\n",
       "      <td>0</td>\n",
       "      <td>0</td>\n",
       "    </tr>\n",
       "    <tr>\n",
       "      <td>8</td>\n",
       "      <td>Каширское шоссе</td>\n",
       "      <td>103</td>\n",
       "      <td>103</td>\n",
       "      <td>103</td>\n",
       "      <td>103</td>\n",
       "      <td>103</td>\n",
       "      <td>103</td>\n",
       "      <td>0</td>\n",
       "      <td>0</td>\n",
       "      <td>0</td>\n",
       "    </tr>\n",
       "    <tr>\n",
       "      <td>9</td>\n",
       "      <td>Кировоградская улица</td>\n",
       "      <td>102</td>\n",
       "      <td>102</td>\n",
       "      <td>102</td>\n",
       "      <td>102</td>\n",
       "      <td>102</td>\n",
       "      <td>102</td>\n",
       "      <td>0</td>\n",
       "      <td>0</td>\n",
       "      <td>0</td>\n",
       "    </tr>\n",
       "  </tbody>\n",
       "</table>\n",
       "</div>"
      ],
      "text/plain": [
       "                streetname   id  object_name  chain  object_type  address  \\\n",
       "0            проспект Мира  204          204    204          204      204   \n",
       "1        Профсоюзная улица  182          182    182          182      182   \n",
       "2   Ленинградский проспект  170          170    170          170      170   \n",
       "3   Пресненская набережная  167          167    167          167      167   \n",
       "4         Варшавское шоссе  155          155    155          155      155   \n",
       "5       Ленинский проспект  147          147    147          147      147   \n",
       "6     проспект Вернадского  131          131    131          131      131   \n",
       "7     Кутузовский проспект  114          114    114          114      114   \n",
       "8          Каширское шоссе  103          103    103          103      103   \n",
       "9     Кировоградская улица  102          102    102          102      102   \n",
       "\n",
       "   number  areaid  okrug  area  \n",
       "0     204       0      0     0  \n",
       "1     182       0      0     0  \n",
       "2     170       0      0     0  \n",
       "3     167       0      0     0  \n",
       "4     155       0      0     0  \n",
       "5     147       0      0     0  \n",
       "6     131       0      0     0  \n",
       "7     114       0      0     0  \n",
       "8     103       0      0     0  \n",
       "9     102       0      0     0  "
      ]
     },
     "execution_count": 74,
     "metadata": {},
     "output_type": "execute_result"
    }
   ],
   "source": [
    "temp = wh_area.groupby('streetname').count().sort_values(by='object_type', ascending=False).head(10).reset_index()\n",
    "top_10 = list(temp['streetname'])\n",
    "temp"
   ]
  },
  {
   "cell_type": "code",
   "execution_count": 75,
   "metadata": {},
   "outputs": [
    {
     "data": {
      "image/png": "[encoded data removed]",
      "text/plain": [
       "<Figure size 720x576 with 1 Axes>"
      ]
     },
     "metadata": {},
     "output_type": "display_data"
    }
   ],
   "source": [
    "ax = sns.barplot(x='object_type', y='streetname', data=temp, palette=\"Set3\")\n",
    "ax.set_xlabel('Количество заведений')\n",
    "ax.set_ylabel('Название улицы')\n",
    "ax.set_title('Топ-10 улиц по количеству заведений общественного питания')\n",
    "plt.xticks(rotation=45)\n",
    "plt.show()"
   ]
  },
  {
   "cell_type": "markdown",
   "metadata": {},
   "source": [
    "<div class=\"alert alert-success\">\n",
    "<b>✅ Комментарий ревьюера:</b> \n",
    "\n",
    "Улицы выделены корректно, график наглядный и понятный.\n",
    "</div>"
   ]
  },
  {
   "cell_type": "markdown",
   "metadata": {},
   "source": [
    "Проспект Мира: Мещанский, Марьина Роща, Алексеевский, Останкинский, Свиблово, Ростокино"
   ]
  },
  {
   "cell_type": "markdown",
   "metadata": {},
   "source": [
    "Профсоюзная улица: Академический, Коньково, Обручевский, Тёплый Стан, Черёмушки, Ясенево"
   ]
  },
  {
   "cell_type": "markdown",
   "metadata": {},
   "source": [
    "Ленинградский проспект: Беговой, Аэропорт, Сокол, Хорошёвский"
   ]
  },
  {
   "cell_type": "markdown",
   "metadata": {},
   "source": [
    "Пресненская набережная: Пресненский"
   ]
  },
  {
   "cell_type": "markdown",
   "metadata": {},
   "source": [
    "Варшавское шоссе: Донской, Нагатино-Садовники, Нагорный"
   ]
  },
  {
   "cell_type": "markdown",
   "metadata": {},
   "source": [
    "Ленинский проспект: Гагаринский и Донской"
   ]
  },
  {
   "cell_type": "markdown",
   "metadata": {},
   "source": [
    "Проспект Вернадского: Проспект Вернадского"
   ]
  },
  {
   "cell_type": "markdown",
   "metadata": {},
   "source": [
    "Кутузовский проспект: Дорогомилово, Фили-Давыдково"
   ]
  },
  {
   "cell_type": "markdown",
   "metadata": {},
   "source": [
    "Каширское шоссе: Нагатино-Садовники и Нагорный"
   ]
  },
  {
   "cell_type": "markdown",
   "metadata": {},
   "source": [
    "Ходынский бульвар: Хорошёвский"
   ]
  },
  {
   "cell_type": "markdown",
   "metadata": {},
   "source": [
    "<div class=\"alert alert-danger\">\n",
    "<b>❌ Комментарий ревьюера:</b> \n",
    "\n",
    "В данном пункте тебе следует воспользоваться внешней информацией и узнать в каких районах располагаются выделенные улицы. Под внешней информацией понимаются открытые источники в интернете, либо сайты, с которых можно спарсить информацию. Тебе нужно подгрузить внешний источник в проект, соединить с ним свои улицы и узнать программно каким районам они соответствуют. Аналогично это относится и к слеующему пункту - там так же для всех найденных улиц с 1 заведением требуется найти свой район.\n",
    "</div>"
   ]
  },
  {
   "cell_type": "markdown",
   "metadata": {},
   "source": [
    "<div class=\"alert alert-success\">\n",
    "<b>✅ Комментарий ревьюера V3:</b> \n",
    "\n",
    "Молодец\n",
    "- внешний источник подгружен корректно\n",
    "- соединение с первоначальным датасетом корректным типом соединения\n",
    "- районы найдены верно</div>"
   ]
  },
  {
   "cell_type": "markdown",
   "metadata": {},
   "source": [
    "### Найдите число улиц с одним объектом общественного питания. Воспользуйтесь внешней информацией и ответьте на вопрос — в каких районах Москвы находятся эти улицы?"
   ]
  },
  {
   "cell_type": "code",
   "execution_count": 76,
   "metadata": {},
   "outputs": [
    {
     "data": {
      "text/html": [
       "<div>\n",
       "<style scoped>\n",
       "    .dataframe tbody tr th:only-of-type {\n",
       "        vertical-align: middle;\n",
       "    }\n",
       "\n",
       "    .dataframe tbody tr th {\n",
       "        vertical-align: top;\n",
       "    }\n",
       "\n",
       "    .dataframe thead th {\n",
       "        text-align: right;\n",
       "    }\n",
       "</style>\n",
       "<table border=\"1\" class=\"dataframe\">\n",
       "  <thead>\n",
       "    <tr style=\"text-align: right;\">\n",
       "      <th></th>\n",
       "      <th>id</th>\n",
       "      <th>streetname</th>\n",
       "    </tr>\n",
       "    <tr>\n",
       "      <th>streetname</th>\n",
       "      <th></th>\n",
       "      <th></th>\n",
       "    </tr>\n",
       "  </thead>\n",
       "  <tbody>\n",
       "    <tr>\n",
       "      <td>ссе, владение</td>\n",
       "      <td>1</td>\n",
       "      <td>1</td>\n",
       "    </tr>\n",
       "    <tr>\n",
       "      <td>кий тупик</td>\n",
       "      <td>1</td>\n",
       "      <td>1</td>\n",
       "    </tr>\n",
       "    <tr>\n",
       "      <td>кий, улица Хабарова</td>\n",
       "      <td>1</td>\n",
       "      <td>1</td>\n",
       "    </tr>\n",
       "    <tr>\n",
       "      <td>ушкинское, деревня Давыдково</td>\n",
       "      <td>1</td>\n",
       "      <td>1</td>\n",
       "    </tr>\n",
       "    <tr>\n",
       "      <td>улок</td>\n",
       "      <td>1</td>\n",
       "      <td>1</td>\n",
       "    </tr>\n",
       "    <tr>\n",
       "      <td>...</td>\n",
       "      <td>...</td>\n",
       "      <td>...</td>\n",
       "    </tr>\n",
       "    <tr>\n",
       "      <td>улица Трофимова, владение</td>\n",
       "      <td>1</td>\n",
       "      <td>1</td>\n",
       "    </tr>\n",
       "    <tr>\n",
       "      <td>улица Демьяна Бедного</td>\n",
       "      <td>1</td>\n",
       "      <td>1</td>\n",
       "    </tr>\n",
       "    <tr>\n",
       "      <td>поселение Сосенское, деревня Сосенки, Ясеневая улица</td>\n",
       "      <td>1</td>\n",
       "      <td>1</td>\n",
       "    </tr>\n",
       "    <tr>\n",
       "      <td>поселение Сосенское, деревня Сосенки, владение</td>\n",
       "      <td>1</td>\n",
       "      <td>1</td>\n",
       "    </tr>\n",
       "    <tr>\n",
       "      <td>улица Александра Солженицына, владение</td>\n",
       "      <td>1</td>\n",
       "      <td>1</td>\n",
       "    </tr>\n",
       "  </tbody>\n",
       "</table>\n",
       "<p>796 rows × 2 columns</p>\n",
       "</div>"
      ],
      "text/plain": [
       "                                                    id  streetname\n",
       "streetname                                                        \n",
       "ссе, владение                                        1           1\n",
       "кий тупик                                            1           1\n",
       "кий, улица Хабарова                                  1           1\n",
       "ушкинское, деревня Давыдково                         1           1\n",
       "улок                                                 1           1\n",
       "...                                                 ..         ...\n",
       " улица Трофимова, владение                           1           1\n",
       " улица Демьяна Бедного                               1           1\n",
       " поселение Сосенское, деревня Сосенки, Ясеневая...   1           1\n",
       " поселение Сосенское, деревня Сосенки, владение      1           1\n",
       " улица Александра Солженицына, владение              1           1\n",
       "\n",
       "[796 rows x 2 columns]"
      ]
     },
     "execution_count": 76,
     "metadata": {},
     "output_type": "execute_result"
    }
   ],
   "source": [
    "adc = pd.pivot_table(wh_area, index='streetname', values='id', aggfunc='nunique').sort_values(by='id')\n",
    "adc.query('id == 1')"
   ]
  },
  {
   "cell_type": "markdown",
   "metadata": {},
   "source": [
    "Имеем 796 улиц с одиночным объектом общественного питания"
   ]
  },
  {
   "cell_type": "markdown",
   "metadata": {},
   "source": [
    "<div class=\"alert alert-info\"> <b>Комментарий студента:</b>Как мне вывести целый лист этих улиц?</div>"
   ]
  },
  {
   "cell_type": "markdown",
   "metadata": {},
   "source": [
    "<div class=\"alert alert-success\">\n",
    "<b>✅ Комментарий ревьюера V3:</b> \n",
    "\n",
    "Думаю его и не стоит тут выводить, он слишком большой, нужн олишь посчитать их кол-во</div>"
   ]
  },
  {
   "cell_type": "markdown",
   "metadata": {},
   "source": [
    "### Посмотрите на распределение количества посадочных мест для улиц с большим количеством объектов общественного питания. Какие закономерности можно выявить?"
   ]
  },
  {
   "cell_type": "code",
   "execution_count": 77,
   "metadata": {},
   "outputs": [
    {
     "data": {
      "image/png": "[encoded data removed]",
      "text/plain": [
       "<Figure size 720x576 with 1 Axes>"
      ]
     },
     "metadata": {},
     "output_type": "display_data"
    }
   ],
   "source": [
    "temp = wh_area[wh_area['streetname'].isin(top_10)]\n",
    "ax = sns.boxplot(x=temp['number'])\n",
    "ax.set_xlim(-10,200)\n",
    "plt.show()"
   ]
  },
  {
   "cell_type": "code",
   "execution_count": 78,
   "metadata": {},
   "outputs": [
    {
     "data": {
      "image/png": "[encoded data removed]",
      "text/plain": [
       "<Figure size 720x576 with 1 Axes>"
      ]
     },
     "metadata": {},
     "output_type": "display_data"
    }
   ],
   "source": [
    "temp['number'].hist(bins=50)\n",
    "plt.show()"
   ]
  },
  {
   "cell_type": "code",
   "execution_count": 79,
   "metadata": {},
   "outputs": [
    {
     "data": {
      "image/png": "[encoded data removed]",
      "text/plain": [
       "<Figure size 720x576 with 1 Axes>"
      ]
     },
     "metadata": {},
     "output_type": "display_data"
    }
   ],
   "source": [
    "ax = sns.boxplot(x=\"streetname\", y=\"number\", data=temp, orient='v')\n",
    "plt.xticks(rotation=20)\n",
    "ax.set_ylim(-10,300)\n",
    "plt.show()"
   ]
  },
  {
   "cell_type": "code",
   "execution_count": 80,
   "metadata": {},
   "outputs": [
    {
     "data": {
      "text/plain": [
       "count    1475.000000\n",
       "mean       58.532203\n",
       "std        90.520998\n",
       "min         0.000000\n",
       "25%        13.000000\n",
       "50%        40.000000\n",
       "75%        75.500000\n",
       "max      1700.000000\n",
       "Name: number, dtype: float64"
      ]
     },
     "execution_count": 80,
     "metadata": {},
     "output_type": "execute_result"
    }
   ],
   "source": [
    "temp['number'].describe()"
   ]
  },
  {
   "cell_type": "markdown",
   "metadata": {},
   "source": [
    "Площадь достаточно дорогая, но места есть! В зависимости от улицы, места варьируются"
   ]
  },
  {
   "cell_type": "markdown",
   "metadata": {},
   "source": [
    "<div class=\"alert alert-info\"> <b>Комментарий студента:</b> Кое-что исправил, посмотрите пожалйста</div>"
   ]
  },
  {
   "cell_type": "markdown",
   "metadata": {},
   "source": [
    "<div class=\"alert alert-danger\">\n",
    "<b>❌ Комментарий ревьюера V3:</b> \n",
    "\n",
    "Расширь более подробно выводы по этому пункту, сравни распределение выборки с сетевыми заведениями.\n",
    "</div>"
   ]
  },
  {
   "cell_type": "markdown",
   "metadata": {},
   "source": [
    "## Шаг №3. Подготовка презентации"
   ]
  },
  {
   "cell_type": "markdown",
   "metadata": {},
   "source": [
    "<div class=\"alert alert-danger\">\n",
    "<b>❌ Комментарий ревьюера V3:</b> \n",
    "\n",
    "Добавь общий вывод\n",
    "</div>"
   ]
  },
  {
   "cell_type": "markdown",
   "metadata": {},
   "source": [
    "Презентация по ссылку: https://drive.google.com/file/d/1MZdPmI4bvJ0Plm4m615vI1ZvpCqjCQai/view?usp=sharing"
   ]
  },
  {
   "cell_type": "markdown",
   "metadata": {},
   "source": [
    "## Вывод"
   ]
  },
  {
   "cell_type": "markdown",
   "metadata": {},
   "source": [
    "Исследуя Московские заведения напрашивается вывод, что в Москве очень много кафе, столовых и ресторанов.\n",
    "Своевременно они делятся на сетевые и несетевые. Несетевых заведений больше. Также определили, \n",
    "что сетевое распространение более хаарктерно для кафе, фаст-фуду и ресторанов. Было определено, что\n",
    "актуальны заведения с небольштм количеством мест и что среднее оптимальное количество мест, к примеру,\n",
    "для столовой чуть больше 100, а в ресторанах это число варьируется от 50 до 100. Мы нашли\n",
    "топ-10 улиц по количеству объектов общественного питания и, следовательно, лучше там не ставить свою \n",
    "закусочную, т.к. там большая конкуренция, но мы также определили улицы, где есть только 1 объект \n",
    "общественного питания и, возможно, лучше там открыть свое заведение."
   ]
  },
  {
   "cell_type": "markdown",
   "metadata": {},
   "source": [
    "<div class=\"alert alert-success\">\n",
    "<b>✅ Комментарий ревьюера V4:</b> \n",
    "\n",
    "Общий вывод принят</div>"
   ]
  },
  {
   "cell_type": "code",
   "execution_count": null,
   "metadata": {},
   "outputs": [],
   "source": []
  }
 ],
 "metadata": {
  "ExecuteTimeLog": [
   {
    "duration": 1100,
    "start_time": "2022-03-05T10:31:07.614Z"
   },
   {
    "duration": 43,
    "start_time": "2022-03-05T10:31:23.465Z"
   },
   {
    "duration": 14,
    "start_time": "2022-03-05T10:34:04.238Z"
   },
   {
    "duration": 11,
    "start_time": "2022-03-05T10:34:15.757Z"
   },
   {
    "duration": 9,
    "start_time": "2022-03-05T10:36:33.662Z"
   },
   {
    "duration": 20,
    "start_time": "2022-03-05T10:36:43.877Z"
   },
   {
    "duration": 979,
    "start_time": "2022-03-06T06:17:49.248Z"
   },
   {
    "duration": 42,
    "start_time": "2022-03-06T06:17:50.229Z"
   },
   {
    "duration": 10,
    "start_time": "2022-03-06T06:17:50.675Z"
   },
   {
    "duration": 8,
    "start_time": "2022-03-06T06:17:51.084Z"
   },
   {
    "duration": 7,
    "start_time": "2022-03-06T06:17:51.374Z"
   },
   {
    "duration": 16,
    "start_time": "2022-03-06T06:17:53.017Z"
   },
   {
    "duration": 186,
    "start_time": "2022-03-06T06:18:59.225Z"
   },
   {
    "duration": 4,
    "start_time": "2022-03-06T06:19:20.129Z"
   },
   {
    "duration": 268,
    "start_time": "2022-03-06T06:19:22.172Z"
   },
   {
    "duration": 17,
    "start_time": "2022-03-06T06:23:17.969Z"
   },
   {
    "duration": 256,
    "start_time": "2022-03-06T06:23:20.188Z"
   },
   {
    "duration": 261,
    "start_time": "2022-03-06T06:23:41.910Z"
   },
   {
    "duration": 286,
    "start_time": "2022-03-06T06:27:04.751Z"
   },
   {
    "duration": 252,
    "start_time": "2022-03-06T06:27:19.616Z"
   },
   {
    "duration": 251,
    "start_time": "2022-03-06T06:27:26.140Z"
   },
   {
    "duration": 310,
    "start_time": "2022-03-06T06:27:31.416Z"
   },
   {
    "duration": 252,
    "start_time": "2022-03-06T06:27:35.235Z"
   },
   {
    "duration": 249,
    "start_time": "2022-03-06T06:27:39.889Z"
   },
   {
    "duration": 248,
    "start_time": "2022-03-06T06:30:20.704Z"
   },
   {
    "duration": 255,
    "start_time": "2022-03-06T06:30:26.916Z"
   },
   {
    "duration": 7,
    "start_time": "2022-03-06T06:32:35.471Z"
   },
   {
    "duration": 189,
    "start_time": "2022-03-06T06:33:18.941Z"
   },
   {
    "duration": 12,
    "start_time": "2022-03-06T06:43:27.825Z"
   },
   {
    "duration": 390,
    "start_time": "2022-03-06T06:43:55.488Z"
   },
   {
    "duration": 7282,
    "start_time": "2022-03-06T06:45:26.041Z"
   },
   {
    "duration": 7285,
    "start_time": "2022-03-06T06:45:35.271Z"
   },
   {
    "duration": 22,
    "start_time": "2022-03-06T06:46:08.374Z"
   },
   {
    "duration": 267,
    "start_time": "2022-03-06T06:47:50.761Z"
   },
   {
    "duration": 5,
    "start_time": "2022-03-06T07:06:24.527Z"
   },
   {
    "duration": 290,
    "start_time": "2022-03-06T07:07:10.171Z"
   },
   {
    "duration": 231,
    "start_time": "2022-03-06T07:07:22.531Z"
   },
   {
    "duration": 7,
    "start_time": "2022-03-06T07:07:42.457Z"
   },
   {
    "duration": 358,
    "start_time": "2022-03-06T07:14:57.863Z"
   },
   {
    "duration": 306,
    "start_time": "2022-03-06T07:18:14.840Z"
   },
   {
    "duration": 304,
    "start_time": "2022-03-06T07:18:19.651Z"
   },
   {
    "duration": 30,
    "start_time": "2022-03-06T07:18:31.806Z"
   },
   {
    "duration": 777,
    "start_time": "2022-03-06T07:20:02.188Z"
   },
   {
    "duration": 698,
    "start_time": "2022-03-06T07:20:08.463Z"
   },
   {
    "duration": 3,
    "start_time": "2022-03-06T07:24:59.116Z"
   },
   {
    "duration": 12,
    "start_time": "2022-03-06T07:25:43.939Z"
   },
   {
    "duration": 5,
    "start_time": "2022-03-06T07:25:51.927Z"
   },
   {
    "duration": 11,
    "start_time": "2022-03-06T07:26:00.573Z"
   },
   {
    "duration": 2,
    "start_time": "2022-03-06T07:26:56.790Z"
   },
   {
    "duration": 93,
    "start_time": "2022-03-06T07:27:04.624Z"
   },
   {
    "duration": 4,
    "start_time": "2022-03-06T07:27:18.393Z"
   },
   {
    "duration": 14,
    "start_time": "2022-03-06T07:27:18.726Z"
   },
   {
    "duration": 12,
    "start_time": "2022-03-06T07:27:19.120Z"
   },
   {
    "duration": 14,
    "start_time": "2022-03-06T07:27:19.609Z"
   },
   {
    "duration": 9,
    "start_time": "2022-03-06T07:29:10.815Z"
   },
   {
    "duration": 8,
    "start_time": "2022-03-06T07:29:18.833Z"
   },
   {
    "duration": 2,
    "start_time": "2022-03-06T07:29:56.664Z"
   },
   {
    "duration": 93,
    "start_time": "2022-03-06T07:29:59.103Z"
   },
   {
    "duration": 4,
    "start_time": "2022-03-06T07:30:02.656Z"
   },
   {
    "duration": 14,
    "start_time": "2022-03-06T07:30:03.430Z"
   },
   {
    "duration": 4,
    "start_time": "2022-03-06T07:30:03.899Z"
   },
   {
    "duration": 12,
    "start_time": "2022-03-06T07:30:04.723Z"
   },
   {
    "duration": 3,
    "start_time": "2022-03-06T07:30:16.088Z"
   },
   {
    "duration": 94,
    "start_time": "2022-03-06T07:30:16.250Z"
   },
   {
    "duration": 7,
    "start_time": "2022-03-06T07:30:16.420Z"
   },
   {
    "duration": 12,
    "start_time": "2022-03-06T07:30:16.582Z"
   },
   {
    "duration": 4,
    "start_time": "2022-03-06T07:30:16.936Z"
   },
   {
    "duration": 13,
    "start_time": "2022-03-06T07:30:17.213Z"
   },
   {
    "duration": 3,
    "start_time": "2022-03-06T07:30:31.065Z"
   },
   {
    "duration": 90,
    "start_time": "2022-03-06T07:30:31.403Z"
   },
   {
    "duration": 3,
    "start_time": "2022-03-06T07:30:31.942Z"
   },
   {
    "duration": 12,
    "start_time": "2022-03-06T07:30:32.349Z"
   },
   {
    "duration": 4,
    "start_time": "2022-03-06T07:30:32.724Z"
   },
   {
    "duration": 11,
    "start_time": "2022-03-06T07:30:33.169Z"
   },
   {
    "duration": 4,
    "start_time": "2022-03-06T07:30:36.231Z"
   },
   {
    "duration": 54,
    "start_time": "2022-03-06T07:30:36.586Z"
   },
   {
    "duration": 7,
    "start_time": "2022-03-06T07:30:36.916Z"
   },
   {
    "duration": 8,
    "start_time": "2022-03-06T07:30:38.032Z"
   },
   {
    "duration": 8,
    "start_time": "2022-03-06T07:30:38.554Z"
   },
   {
    "duration": 17,
    "start_time": "2022-03-06T07:30:38.987Z"
   },
   {
    "duration": 24,
    "start_time": "2022-03-06T07:30:39.518Z"
   },
   {
    "duration": 265,
    "start_time": "2022-03-06T07:30:40.506Z"
   },
   {
    "duration": 270,
    "start_time": "2022-03-06T07:30:40.978Z"
   },
   {
    "duration": 8,
    "start_time": "2022-03-06T07:30:42.219Z"
   },
   {
    "duration": 197,
    "start_time": "2022-03-06T07:30:42.402Z"
   },
   {
    "duration": 299,
    "start_time": "2022-03-06T07:30:42.907Z"
   },
   {
    "duration": 6,
    "start_time": "2022-03-06T07:30:43.434Z"
   },
   {
    "duration": 300,
    "start_time": "2022-03-06T07:30:43.601Z"
   },
   {
    "duration": 262,
    "start_time": "2022-03-06T07:30:43.902Z"
   },
   {
    "duration": 6,
    "start_time": "2022-03-06T07:30:44.166Z"
   },
   {
    "duration": 389,
    "start_time": "2022-03-06T07:30:46.541Z"
   },
   {
    "duration": 27,
    "start_time": "2022-03-06T07:30:46.931Z"
   },
   {
    "duration": 667,
    "start_time": "2022-03-06T07:30:46.960Z"
   },
   {
    "duration": 2,
    "start_time": "2022-03-06T07:30:50.749Z"
   },
   {
    "duration": 104,
    "start_time": "2022-03-06T07:30:50.939Z"
   },
   {
    "duration": 4,
    "start_time": "2022-03-06T07:30:51.271Z"
   },
   {
    "duration": 12,
    "start_time": "2022-03-06T07:30:51.444Z"
   },
   {
    "duration": 4,
    "start_time": "2022-03-06T07:30:51.883Z"
   },
   {
    "duration": 11,
    "start_time": "2022-03-06T07:30:52.358Z"
   },
   {
    "duration": 4,
    "start_time": "2022-03-06T07:31:29.967Z"
   },
   {
    "duration": 14,
    "start_time": "2022-03-06T07:31:30.505Z"
   },
   {
    "duration": 5,
    "start_time": "2022-03-06T07:31:30.845Z"
   },
   {
    "duration": 11,
    "start_time": "2022-03-06T07:31:31.432Z"
   },
   {
    "duration": 3,
    "start_time": "2022-03-06T07:31:36.930Z"
   },
   {
    "duration": 47,
    "start_time": "2022-03-06T07:31:37.087Z"
   },
   {
    "duration": 85,
    "start_time": "2022-03-06T07:31:37.249Z"
   },
   {
    "duration": 8,
    "start_time": "2022-03-06T07:31:37.433Z"
   },
   {
    "duration": 8,
    "start_time": "2022-03-06T07:31:37.566Z"
   },
   {
    "duration": 17,
    "start_time": "2022-03-06T07:31:37.742Z"
   },
   {
    "duration": 18,
    "start_time": "2022-03-06T07:31:37.903Z"
   },
   {
    "duration": 254,
    "start_time": "2022-03-06T07:31:38.426Z"
   },
   {
    "duration": 263,
    "start_time": "2022-03-06T07:31:38.682Z"
   },
   {
    "duration": 9,
    "start_time": "2022-03-06T07:31:39.080Z"
   },
   {
    "duration": 190,
    "start_time": "2022-03-06T07:31:39.245Z"
   },
   {
    "duration": 304,
    "start_time": "2022-03-06T07:31:39.754Z"
   },
   {
    "duration": 7,
    "start_time": "2022-03-06T07:31:40.245Z"
   },
   {
    "duration": 317,
    "start_time": "2022-03-06T07:31:40.432Z"
   },
   {
    "duration": 274,
    "start_time": "2022-03-06T07:31:40.751Z"
   },
   {
    "duration": 6,
    "start_time": "2022-03-06T07:31:41.027Z"
   },
   {
    "duration": 435,
    "start_time": "2022-03-06T07:31:44.456Z"
   },
   {
    "duration": 44,
    "start_time": "2022-03-06T07:31:44.893Z"
   },
   {
    "duration": 726,
    "start_time": "2022-03-06T07:31:46.358Z"
   },
   {
    "duration": 4,
    "start_time": "2022-03-06T07:31:51.438Z"
   },
   {
    "duration": 20,
    "start_time": "2022-03-06T07:31:52.102Z"
   },
   {
    "duration": 5,
    "start_time": "2022-03-06T07:31:52.542Z"
   },
   {
    "duration": 12,
    "start_time": "2022-03-06T07:31:53.046Z"
   },
   {
    "duration": 3,
    "start_time": "2022-03-06T07:32:06.953Z"
   },
   {
    "duration": 125,
    "start_time": "2022-03-06T07:32:09.344Z"
   },
   {
    "duration": 4,
    "start_time": "2022-03-06T07:32:09.664Z"
   },
   {
    "duration": 14,
    "start_time": "2022-03-06T07:32:10.001Z"
   },
   {
    "duration": 5,
    "start_time": "2022-03-06T07:32:10.330Z"
   },
   {
    "duration": 16,
    "start_time": "2022-03-06T07:32:10.811Z"
   },
   {
    "duration": 3,
    "start_time": "2022-03-06T07:32:40.773Z"
   },
   {
    "duration": 111,
    "start_time": "2022-03-06T07:32:41.109Z"
   },
   {
    "duration": 3,
    "start_time": "2022-03-06T07:32:41.451Z"
   },
   {
    "duration": 12,
    "start_time": "2022-03-06T07:32:41.733Z"
   },
   {
    "duration": 5,
    "start_time": "2022-03-06T07:32:42.094Z"
   },
   {
    "duration": 11,
    "start_time": "2022-03-06T07:32:42.792Z"
   },
   {
    "duration": 2,
    "start_time": "2022-03-06T07:32:48.160Z"
   },
   {
    "duration": 98,
    "start_time": "2022-03-06T07:32:48.388Z"
   },
   {
    "duration": 4,
    "start_time": "2022-03-06T07:32:48.689Z"
   },
   {
    "duration": 12,
    "start_time": "2022-03-06T07:32:48.840Z"
   },
   {
    "duration": 4,
    "start_time": "2022-03-06T07:32:49.037Z"
   },
   {
    "duration": 13,
    "start_time": "2022-03-06T07:32:49.702Z"
   },
   {
    "duration": 3,
    "start_time": "2022-03-06T07:33:08.702Z"
   },
   {
    "duration": 98,
    "start_time": "2022-03-06T07:33:09.080Z"
   },
   {
    "duration": 4,
    "start_time": "2022-03-06T07:33:09.751Z"
   },
   {
    "duration": 17,
    "start_time": "2022-03-06T07:33:10.080Z"
   },
   {
    "duration": 5,
    "start_time": "2022-03-06T07:33:10.433Z"
   },
   {
    "duration": 13,
    "start_time": "2022-03-06T07:33:10.873Z"
   },
   {
    "duration": 4,
    "start_time": "2022-03-06T07:33:17.573Z"
   },
   {
    "duration": 43,
    "start_time": "2022-03-06T07:33:17.731Z"
   },
   {
    "duration": 9,
    "start_time": "2022-03-06T07:33:17.901Z"
   },
   {
    "duration": 8,
    "start_time": "2022-03-06T07:33:18.056Z"
   },
   {
    "duration": 9,
    "start_time": "2022-03-06T07:33:18.233Z"
   },
   {
    "duration": 19,
    "start_time": "2022-03-06T07:33:18.402Z"
   },
   {
    "duration": 17,
    "start_time": "2022-03-06T07:33:18.551Z"
   },
   {
    "duration": 267,
    "start_time": "2022-03-06T07:33:19.068Z"
   },
   {
    "duration": 269,
    "start_time": "2022-03-06T07:33:19.336Z"
   },
   {
    "duration": 8,
    "start_time": "2022-03-06T07:33:19.709Z"
   },
   {
    "duration": 265,
    "start_time": "2022-03-06T07:33:19.867Z"
   },
   {
    "duration": 271,
    "start_time": "2022-03-06T07:33:20.531Z"
   },
   {
    "duration": 5,
    "start_time": "2022-03-06T07:33:21.106Z"
   },
   {
    "duration": 286,
    "start_time": "2022-03-06T07:33:21.272Z"
   },
   {
    "duration": 233,
    "start_time": "2022-03-06T07:33:21.572Z"
   },
   {
    "duration": 6,
    "start_time": "2022-03-06T07:33:21.807Z"
   },
   {
    "duration": 363,
    "start_time": "2022-03-06T07:33:22.515Z"
   },
   {
    "duration": 27,
    "start_time": "2022-03-06T07:33:22.911Z"
   },
   {
    "duration": 643,
    "start_time": "2022-03-06T07:33:24.722Z"
   },
   {
    "duration": 2,
    "start_time": "2022-03-06T07:33:27.393Z"
   },
   {
    "duration": 99,
    "start_time": "2022-03-06T07:33:28.700Z"
   },
   {
    "duration": 4,
    "start_time": "2022-03-06T07:33:29.100Z"
   },
   {
    "duration": 12,
    "start_time": "2022-03-06T07:33:29.450Z"
   },
   {
    "duration": 4,
    "start_time": "2022-03-06T07:33:29.876Z"
   },
   {
    "duration": 12,
    "start_time": "2022-03-06T07:33:30.678Z"
   },
   {
    "duration": 4,
    "start_time": "2022-03-06T07:34:11.990Z"
   },
   {
    "duration": 55,
    "start_time": "2022-03-06T07:34:11.998Z"
   },
   {
    "duration": 10,
    "start_time": "2022-03-06T07:34:12.055Z"
   },
   {
    "duration": 22,
    "start_time": "2022-03-06T07:34:12.068Z"
   },
   {
    "duration": 13,
    "start_time": "2022-03-06T07:34:12.092Z"
   },
   {
    "duration": 22,
    "start_time": "2022-03-06T07:34:12.107Z"
   },
   {
    "duration": 18,
    "start_time": "2022-03-06T07:34:12.131Z"
   },
   {
    "duration": 269,
    "start_time": "2022-03-06T07:34:12.151Z"
   },
   {
    "duration": 264,
    "start_time": "2022-03-06T07:34:12.422Z"
   },
   {
    "duration": 7,
    "start_time": "2022-03-06T07:34:12.688Z"
   },
   {
    "duration": 205,
    "start_time": "2022-03-06T07:34:12.697Z"
   },
   {
    "duration": 273,
    "start_time": "2022-03-06T07:34:12.904Z"
   },
   {
    "duration": 7,
    "start_time": "2022-03-06T07:34:13.179Z"
   },
   {
    "duration": 373,
    "start_time": "2022-03-06T07:34:13.187Z"
   },
   {
    "duration": 249,
    "start_time": "2022-03-06T07:34:13.562Z"
   },
   {
    "duration": 8,
    "start_time": "2022-03-06T07:34:13.813Z"
   },
   {
    "duration": 393,
    "start_time": "2022-03-06T07:34:13.823Z"
   },
   {
    "duration": 26,
    "start_time": "2022-03-06T07:34:14.218Z"
   },
   {
    "duration": 651,
    "start_time": "2022-03-06T07:34:14.246Z"
   },
   {
    "duration": 2,
    "start_time": "2022-03-06T07:34:14.899Z"
   },
   {
    "duration": 100,
    "start_time": "2022-03-06T07:34:14.905Z"
   },
   {
    "duration": 3,
    "start_time": "2022-03-06T07:34:15.007Z"
   },
   {
    "duration": 21,
    "start_time": "2022-03-06T07:34:15.012Z"
   },
   {
    "duration": 8,
    "start_time": "2022-03-06T07:34:15.036Z"
   },
   {
    "duration": 18,
    "start_time": "2022-03-06T07:34:15.046Z"
   },
   {
    "duration": 3,
    "start_time": "2022-03-06T07:34:51.700Z"
   },
   {
    "duration": 46,
    "start_time": "2022-03-06T07:34:51.705Z"
   },
   {
    "duration": 7,
    "start_time": "2022-03-06T07:34:51.753Z"
   },
   {
    "duration": 8,
    "start_time": "2022-03-06T07:34:51.762Z"
   },
   {
    "duration": 7,
    "start_time": "2022-03-06T07:34:51.772Z"
   },
   {
    "duration": 39,
    "start_time": "2022-03-06T07:34:51.780Z"
   },
   {
    "duration": 18,
    "start_time": "2022-03-06T07:34:51.821Z"
   },
   {
    "duration": 279,
    "start_time": "2022-03-06T07:34:51.840Z"
   },
   {
    "duration": 256,
    "start_time": "2022-03-06T07:34:52.122Z"
   },
   {
    "duration": 7,
    "start_time": "2022-03-06T07:34:52.380Z"
   },
   {
    "duration": 204,
    "start_time": "2022-03-06T07:34:52.388Z"
   },
   {
    "duration": 434,
    "start_time": "2022-03-06T07:34:52.594Z"
   },
   {
    "duration": 7,
    "start_time": "2022-03-06T07:34:53.030Z"
   },
   {
    "duration": 458,
    "start_time": "2022-03-06T07:34:53.038Z"
   },
   {
    "duration": 363,
    "start_time": "2022-03-06T07:34:53.505Z"
   },
   {
    "duration": 8,
    "start_time": "2022-03-06T07:34:53.870Z"
   },
   {
    "duration": 562,
    "start_time": "2022-03-06T07:34:53.880Z"
   },
   {
    "duration": 28,
    "start_time": "2022-03-06T07:34:54.444Z"
   },
   {
    "duration": 651,
    "start_time": "2022-03-06T07:34:54.474Z"
   },
   {
    "duration": 3,
    "start_time": "2022-03-06T07:34:55.126Z"
   },
   {
    "duration": 48,
    "start_time": "2022-03-06T07:34:55.131Z"
   },
   {
    "duration": 25,
    "start_time": "2022-03-06T07:34:55.180Z"
   },
   {
    "duration": 21,
    "start_time": "2022-03-06T07:34:55.207Z"
   },
   {
    "duration": 6,
    "start_time": "2022-03-06T07:34:55.230Z"
   },
   {
    "duration": 14,
    "start_time": "2022-03-06T07:34:55.238Z"
   },
   {
    "duration": 96,
    "start_time": "2022-03-06T07:35:56.241Z"
   },
   {
    "duration": 4,
    "start_time": "2022-03-06T07:35:58.538Z"
   },
   {
    "duration": 45,
    "start_time": "2022-03-06T07:35:58.543Z"
   },
   {
    "duration": 8,
    "start_time": "2022-03-06T07:35:58.590Z"
   },
   {
    "duration": 13,
    "start_time": "2022-03-06T07:35:58.600Z"
   },
   {
    "duration": 9,
    "start_time": "2022-03-06T07:35:58.616Z"
   },
   {
    "duration": 27,
    "start_time": "2022-03-06T07:35:58.627Z"
   },
   {
    "duration": 31,
    "start_time": "2022-03-06T07:35:58.655Z"
   },
   {
    "duration": 400,
    "start_time": "2022-03-06T07:35:58.706Z"
   },
   {
    "duration": 391,
    "start_time": "2022-03-06T07:35:59.110Z"
   },
   {
    "duration": 10,
    "start_time": "2022-03-06T07:35:59.505Z"
   },
   {
    "duration": 297,
    "start_time": "2022-03-06T07:35:59.516Z"
   },
   {
    "duration": 442,
    "start_time": "2022-03-06T07:35:59.815Z"
   },
   {
    "duration": 7,
    "start_time": "2022-03-06T07:36:00.258Z"
   },
   {
    "duration": 469,
    "start_time": "2022-03-06T07:36:00.267Z"
   },
   {
    "duration": 363,
    "start_time": "2022-03-06T07:36:00.738Z"
   },
   {
    "duration": 9,
    "start_time": "2022-03-06T07:36:01.105Z"
   },
   {
    "duration": 590,
    "start_time": "2022-03-06T07:36:01.116Z"
   },
   {
    "duration": 40,
    "start_time": "2022-03-06T07:36:01.707Z"
   },
   {
    "duration": 1190,
    "start_time": "2022-03-06T07:36:01.749Z"
   },
   {
    "duration": 3,
    "start_time": "2022-03-06T07:36:02.942Z"
   },
   {
    "duration": 206,
    "start_time": "2022-03-06T07:36:02.947Z"
   },
   {
    "duration": 4,
    "start_time": "2022-03-06T07:36:03.156Z"
   },
   {
    "duration": 27,
    "start_time": "2022-03-06T07:36:03.162Z"
   },
   {
    "duration": 16,
    "start_time": "2022-03-06T07:36:03.192Z"
   },
   {
    "duration": 18,
    "start_time": "2022-03-06T07:36:03.210Z"
   },
   {
    "duration": 147,
    "start_time": "2022-03-06T07:36:35.200Z"
   },
   {
    "duration": 4,
    "start_time": "2022-03-06T07:36:37.842Z"
   },
   {
    "duration": 61,
    "start_time": "2022-03-06T07:36:37.849Z"
   },
   {
    "duration": 11,
    "start_time": "2022-03-06T07:36:37.912Z"
   },
   {
    "duration": 11,
    "start_time": "2022-03-06T07:36:37.925Z"
   },
   {
    "duration": 11,
    "start_time": "2022-03-06T07:36:37.938Z"
   },
   {
    "duration": 25,
    "start_time": "2022-03-06T07:36:37.951Z"
   },
   {
    "duration": 31,
    "start_time": "2022-03-06T07:36:38.005Z"
   },
   {
    "duration": 272,
    "start_time": "2022-03-06T07:36:38.037Z"
   },
   {
    "duration": 259,
    "start_time": "2022-03-06T07:36:38.312Z"
   },
   {
    "duration": 8,
    "start_time": "2022-03-06T07:36:38.572Z"
   },
   {
    "duration": 217,
    "start_time": "2022-03-06T07:36:38.581Z"
   },
   {
    "duration": 278,
    "start_time": "2022-03-06T07:36:38.800Z"
   },
   {
    "duration": 5,
    "start_time": "2022-03-06T07:36:39.079Z"
   },
   {
    "duration": 307,
    "start_time": "2022-03-06T07:36:39.086Z"
   },
   {
    "duration": 251,
    "start_time": "2022-03-06T07:36:39.394Z"
   },
   {
    "duration": 8,
    "start_time": "2022-03-06T07:36:39.647Z"
   },
   {
    "duration": 383,
    "start_time": "2022-03-06T07:36:39.657Z"
   },
   {
    "duration": 30,
    "start_time": "2022-03-06T07:36:40.041Z"
   },
   {
    "duration": 654,
    "start_time": "2022-03-06T07:36:40.073Z"
   },
   {
    "duration": 3,
    "start_time": "2022-03-06T07:36:40.729Z"
   },
   {
    "duration": 110,
    "start_time": "2022-03-06T07:36:40.734Z"
   },
   {
    "duration": 2,
    "start_time": "2022-03-06T07:36:40.846Z"
   },
   {
    "duration": 15,
    "start_time": "2022-03-06T07:36:40.850Z"
   },
   {
    "duration": 7,
    "start_time": "2022-03-06T07:36:40.866Z"
   },
   {
    "duration": 12,
    "start_time": "2022-03-06T07:36:40.874Z"
   },
   {
    "duration": 5,
    "start_time": "2022-03-06T07:37:35.272Z"
   },
   {
    "duration": 44,
    "start_time": "2022-03-06T07:37:35.279Z"
   },
   {
    "duration": 9,
    "start_time": "2022-03-06T07:37:35.326Z"
   },
   {
    "duration": 10,
    "start_time": "2022-03-06T07:37:35.337Z"
   },
   {
    "duration": 9,
    "start_time": "2022-03-06T07:37:35.349Z"
   },
   {
    "duration": 48,
    "start_time": "2022-03-06T07:37:35.360Z"
   },
   {
    "duration": 30,
    "start_time": "2022-03-06T07:37:35.410Z"
   },
   {
    "duration": 404,
    "start_time": "2022-03-06T07:37:35.442Z"
   },
   {
    "duration": 509,
    "start_time": "2022-03-06T07:37:35.849Z"
   },
   {
    "duration": 9,
    "start_time": "2022-03-06T07:37:36.361Z"
   },
   {
    "duration": 306,
    "start_time": "2022-03-06T07:37:36.371Z"
   },
   {
    "duration": 440,
    "start_time": "2022-03-06T07:37:36.679Z"
   },
   {
    "duration": 7,
    "start_time": "2022-03-06T07:37:37.121Z"
   },
   {
    "duration": 465,
    "start_time": "2022-03-06T07:37:37.129Z"
   },
   {
    "duration": 366,
    "start_time": "2022-03-06T07:37:37.596Z"
   },
   {
    "duration": 9,
    "start_time": "2022-03-06T07:37:37.964Z"
   },
   {
    "duration": 574,
    "start_time": "2022-03-06T07:37:37.975Z"
   },
   {
    "duration": 27,
    "start_time": "2022-03-06T07:37:38.551Z"
   },
   {
    "duration": 1034,
    "start_time": "2022-03-06T07:37:38.580Z"
   },
   {
    "duration": 3,
    "start_time": "2022-03-06T07:37:39.616Z"
   },
   {
    "duration": 97,
    "start_time": "2022-03-06T07:37:39.621Z"
   },
   {
    "duration": 4,
    "start_time": "2022-03-06T07:37:39.720Z"
   },
   {
    "duration": 30,
    "start_time": "2022-03-06T07:37:39.726Z"
   },
   {
    "duration": 24,
    "start_time": "2022-03-06T07:37:39.757Z"
   },
   {
    "duration": 18,
    "start_time": "2022-03-06T07:37:39.783Z"
   },
   {
    "duration": 46,
    "start_time": "2022-03-06T07:37:48.768Z"
   },
   {
    "duration": 9,
    "start_time": "2022-03-06T07:37:58.888Z"
   },
   {
    "duration": 11,
    "start_time": "2022-03-06T07:38:05.424Z"
   },
   {
    "duration": 22,
    "start_time": "2022-03-06T07:39:27.539Z"
   },
   {
    "duration": 330,
    "start_time": "2022-03-06T07:40:09.096Z"
   },
   {
    "duration": 2102,
    "start_time": "2022-03-06T07:50:05.716Z"
   },
   {
    "duration": 105,
    "start_time": "2022-03-06T07:50:18.268Z"
   },
   {
    "duration": 112,
    "start_time": "2022-03-06T07:50:24.338Z"
   },
   {
    "duration": 22,
    "start_time": "2022-03-06T07:54:57.028Z"
   },
   {
    "duration": 8,
    "start_time": "2022-03-06T08:07:20.029Z"
   },
   {
    "duration": 12,
    "start_time": "2022-03-06T08:07:26.824Z"
   },
   {
    "duration": 13,
    "start_time": "2022-03-06T08:08:02.640Z"
   },
   {
    "duration": 13,
    "start_time": "2022-03-06T08:08:10.371Z"
   },
   {
    "duration": 19,
    "start_time": "2022-03-06T08:23:04.995Z"
   },
   {
    "duration": 18,
    "start_time": "2022-03-06T08:23:20.940Z"
   },
   {
    "duration": 18,
    "start_time": "2022-03-06T08:23:39.398Z"
   },
   {
    "duration": 10,
    "start_time": "2022-03-06T08:28:12.737Z"
   },
   {
    "duration": 309,
    "start_time": "2022-03-06T08:28:21.704Z"
   },
   {
    "duration": 10,
    "start_time": "2022-03-06T08:28:33.723Z"
   },
   {
    "duration": 346,
    "start_time": "2022-03-06T08:30:54.818Z"
   },
   {
    "duration": 5,
    "start_time": "2022-03-06T08:30:58.035Z"
   },
   {
    "duration": 274,
    "start_time": "2022-03-06T08:30:59.593Z"
   },
   {
    "duration": 272,
    "start_time": "2022-03-06T08:31:19.761Z"
   },
   {
    "duration": 5,
    "start_time": "2022-03-06T08:31:32.369Z"
   },
   {
    "duration": 5,
    "start_time": "2022-03-06T08:31:34.009Z"
   },
   {
    "duration": 5,
    "start_time": "2022-03-06T08:31:42.165Z"
   },
   {
    "duration": 6,
    "start_time": "2022-03-06T08:31:45.762Z"
   },
   {
    "duration": 324,
    "start_time": "2022-03-06T08:32:55.801Z"
   },
   {
    "duration": 278,
    "start_time": "2022-03-06T08:34:42.981Z"
   },
   {
    "duration": 8,
    "start_time": "2022-03-06T08:36:06.260Z"
   },
   {
    "duration": 1472,
    "start_time": "2022-03-06T08:36:11.908Z"
   },
   {
    "duration": 7,
    "start_time": "2022-03-06T08:37:38.842Z"
   },
   {
    "duration": 8,
    "start_time": "2022-03-06T08:37:41.176Z"
   },
   {
    "duration": 10,
    "start_time": "2022-03-06T08:37:43.655Z"
   },
   {
    "duration": 14,
    "start_time": "2022-03-06T08:38:54.163Z"
   },
   {
    "duration": 17,
    "start_time": "2022-03-06T08:38:57.508Z"
   },
   {
    "duration": 19,
    "start_time": "2022-03-06T09:47:10.312Z"
   },
   {
    "duration": 16,
    "start_time": "2022-03-06T09:47:31.594Z"
   },
   {
    "duration": 19,
    "start_time": "2022-03-06T09:47:41.960Z"
   },
   {
    "duration": 17,
    "start_time": "2022-03-06T09:52:47.551Z"
   },
   {
    "duration": 1447,
    "start_time": "2022-03-06T15:29:23.199Z"
   },
   {
    "duration": 57,
    "start_time": "2022-03-06T15:29:24.649Z"
   },
   {
    "duration": 18,
    "start_time": "2022-03-06T15:29:24.709Z"
   },
   {
    "duration": 20,
    "start_time": "2022-03-06T15:29:24.730Z"
   },
   {
    "duration": 25,
    "start_time": "2022-03-06T15:29:24.753Z"
   },
   {
    "duration": 27,
    "start_time": "2022-03-06T15:29:24.780Z"
   },
   {
    "duration": 33,
    "start_time": "2022-03-06T15:29:24.809Z"
   },
   {
    "duration": 502,
    "start_time": "2022-03-06T15:29:24.874Z"
   },
   {
    "duration": 477,
    "start_time": "2022-03-06T15:29:25.379Z"
   },
   {
    "duration": 23,
    "start_time": "2022-03-06T15:29:25.858Z"
   },
   {
    "duration": 366,
    "start_time": "2022-03-06T15:29:25.883Z"
   },
   {
    "duration": 527,
    "start_time": "2022-03-06T15:29:26.251Z"
   },
   {
    "duration": 8,
    "start_time": "2022-03-06T15:29:26.780Z"
   },
   {
    "duration": 557,
    "start_time": "2022-03-06T15:29:26.790Z"
   },
   {
    "duration": 468,
    "start_time": "2022-03-06T15:29:27.350Z"
   },
   {
    "duration": 11,
    "start_time": "2022-03-06T15:29:27.820Z"
   },
   {
    "duration": 810,
    "start_time": "2022-03-06T15:29:27.834Z"
   },
   {
    "duration": 62,
    "start_time": "2022-03-06T15:29:28.646Z"
   },
   {
    "duration": 1193,
    "start_time": "2022-03-06T15:29:28.710Z"
   },
   {
    "duration": 5,
    "start_time": "2022-03-06T15:29:29.905Z"
   },
   {
    "duration": 95,
    "start_time": "2022-03-06T15:29:29.912Z"
   },
   {
    "duration": 5,
    "start_time": "2022-03-06T15:29:30.009Z"
   },
   {
    "duration": 29,
    "start_time": "2022-03-06T15:29:30.018Z"
   },
   {
    "duration": 24,
    "start_time": "2022-03-06T15:29:30.049Z"
   },
   {
    "duration": 26,
    "start_time": "2022-03-06T15:29:30.076Z"
   },
   {
    "duration": 16,
    "start_time": "2022-03-06T15:29:30.105Z"
   },
   {
    "duration": 18,
    "start_time": "2022-03-06T15:29:30.124Z"
   },
   {
    "duration": 54,
    "start_time": "2022-03-06T15:29:30.144Z"
   },
   {
    "duration": 650,
    "start_time": "2022-03-06T15:29:30.201Z"
   },
   {
    "duration": 35,
    "start_time": "2022-03-06T15:29:30.854Z"
   },
   {
    "duration": 14,
    "start_time": "2022-03-06T15:32:07.924Z"
   },
   {
    "duration": 18,
    "start_time": "2022-03-06T15:54:55.641Z"
   },
   {
    "duration": 470,
    "start_time": "2022-03-06T15:55:51.280Z"
   },
   {
    "duration": 635,
    "start_time": "2022-03-06T15:56:05.788Z"
   },
   {
    "duration": 989,
    "start_time": "2022-03-06T15:56:23.025Z"
   },
   {
    "duration": 11,
    "start_time": "2022-03-06T15:56:41.051Z"
   },
   {
    "duration": 1234,
    "start_time": "2022-03-06T21:12:03.247Z"
   },
   {
    "duration": 50,
    "start_time": "2022-03-06T21:12:04.484Z"
   },
   {
    "duration": 12,
    "start_time": "2022-03-06T21:12:04.536Z"
   },
   {
    "duration": 16,
    "start_time": "2022-03-06T21:12:04.550Z"
   },
   {
    "duration": 16,
    "start_time": "2022-03-06T21:12:04.567Z"
   },
   {
    "duration": 31,
    "start_time": "2022-03-06T21:12:04.585Z"
   },
   {
    "duration": 21,
    "start_time": "2022-03-06T21:12:04.618Z"
   },
   {
    "duration": 426,
    "start_time": "2022-03-06T21:12:04.642Z"
   },
   {
    "duration": 315,
    "start_time": "2022-03-06T21:12:05.070Z"
   },
   {
    "duration": 17,
    "start_time": "2022-03-06T21:12:05.387Z"
   },
   {
    "duration": 236,
    "start_time": "2022-03-06T21:12:05.405Z"
   },
   {
    "duration": 337,
    "start_time": "2022-03-06T21:12:05.642Z"
   },
   {
    "duration": 7,
    "start_time": "2022-03-06T21:12:05.981Z"
   },
   {
    "duration": 349,
    "start_time": "2022-03-06T21:12:06.001Z"
   },
   {
    "duration": 286,
    "start_time": "2022-03-06T21:12:06.353Z"
   },
   {
    "duration": 11,
    "start_time": "2022-03-06T21:12:06.641Z"
   },
   {
    "duration": 518,
    "start_time": "2022-03-06T21:12:06.654Z"
   },
   {
    "duration": 40,
    "start_time": "2022-03-06T21:12:07.174Z"
   },
   {
    "duration": 776,
    "start_time": "2022-03-06T21:12:07.216Z"
   },
   {
    "duration": 8,
    "start_time": "2022-03-06T21:12:07.994Z"
   },
   {
    "duration": 57,
    "start_time": "2022-03-06T21:12:08.003Z"
   },
   {
    "duration": 4,
    "start_time": "2022-03-06T21:12:08.061Z"
   },
   {
    "duration": 22,
    "start_time": "2022-03-06T21:12:08.068Z"
   },
   {
    "duration": 6,
    "start_time": "2022-03-06T21:12:08.102Z"
   },
   {
    "duration": 22,
    "start_time": "2022-03-06T21:12:08.110Z"
   },
   {
    "duration": 11,
    "start_time": "2022-03-06T21:12:08.133Z"
   },
   {
    "duration": 15,
    "start_time": "2022-03-06T21:12:08.145Z"
   },
   {
    "duration": 45,
    "start_time": "2022-03-06T21:12:08.162Z"
   },
   {
    "duration": 424,
    "start_time": "2022-03-06T21:12:08.209Z"
   },
   {
    "duration": 20,
    "start_time": "2022-03-06T21:12:08.635Z"
   },
   {
    "duration": 320,
    "start_time": "2022-03-06T21:12:08.658Z"
   },
   {
    "duration": 409,
    "start_time": "2022-03-06T21:12:08.980Z"
   },
   {
    "duration": 539,
    "start_time": "2022-03-06T21:12:09.391Z"
   },
   {
    "duration": 9,
    "start_time": "2022-03-06T21:12:09.931Z"
   },
   {
    "duration": 1039,
    "start_time": "2022-03-07T07:27:06.428Z"
   },
   {
    "duration": 43,
    "start_time": "2022-03-07T07:27:07.469Z"
   },
   {
    "duration": 11,
    "start_time": "2022-03-07T07:27:07.513Z"
   },
   {
    "duration": 9,
    "start_time": "2022-03-07T07:27:07.525Z"
   },
   {
    "duration": 7,
    "start_time": "2022-03-07T07:27:07.535Z"
   },
   {
    "duration": 16,
    "start_time": "2022-03-07T07:27:07.543Z"
   },
   {
    "duration": 47,
    "start_time": "2022-03-07T07:27:07.561Z"
   },
   {
    "duration": 268,
    "start_time": "2022-03-07T07:27:07.611Z"
   },
   {
    "duration": 260,
    "start_time": "2022-03-07T07:27:07.881Z"
   },
   {
    "duration": 7,
    "start_time": "2022-03-07T07:27:08.142Z"
   },
   {
    "duration": 206,
    "start_time": "2022-03-07T07:27:08.150Z"
   },
   {
    "duration": 293,
    "start_time": "2022-03-07T07:27:08.358Z"
   },
   {
    "duration": 5,
    "start_time": "2022-03-07T07:27:08.653Z"
   },
   {
    "duration": 295,
    "start_time": "2022-03-07T07:27:08.659Z"
   },
   {
    "duration": 240,
    "start_time": "2022-03-07T07:27:08.956Z"
   },
   {
    "duration": 7,
    "start_time": "2022-03-07T07:27:09.198Z"
   },
   {
    "duration": 450,
    "start_time": "2022-03-07T07:27:09.207Z"
   },
   {
    "duration": 27,
    "start_time": "2022-03-07T07:27:09.659Z"
   },
   {
    "duration": 653,
    "start_time": "2022-03-07T07:27:09.688Z"
   },
   {
    "duration": 2,
    "start_time": "2022-03-07T07:27:10.342Z"
   },
   {
    "duration": 56,
    "start_time": "2022-03-07T07:27:10.346Z"
   },
   {
    "duration": 3,
    "start_time": "2022-03-07T07:27:10.403Z"
   },
   {
    "duration": 13,
    "start_time": "2022-03-07T07:27:10.409Z"
   },
   {
    "duration": 6,
    "start_time": "2022-03-07T07:27:10.424Z"
   },
   {
    "duration": 13,
    "start_time": "2022-03-07T07:27:10.431Z"
   },
   {
    "duration": 10,
    "start_time": "2022-03-07T07:27:10.445Z"
   },
   {
    "duration": 46,
    "start_time": "2022-03-07T07:27:10.456Z"
   },
   {
    "duration": 20,
    "start_time": "2022-03-07T07:27:10.504Z"
   },
   {
    "duration": 360,
    "start_time": "2022-03-07T07:27:10.525Z"
   },
   {
    "duration": 25,
    "start_time": "2022-03-07T07:27:10.886Z"
   },
   {
    "duration": 261,
    "start_time": "2022-03-07T07:27:10.912Z"
   },
   {
    "duration": 343,
    "start_time": "2022-03-07T07:27:11.174Z"
   },
   {
    "duration": 383,
    "start_time": "2022-03-07T07:27:11.519Z"
   },
   {
    "duration": 7,
    "start_time": "2022-03-07T07:27:11.903Z"
   },
   {
    "duration": 282,
    "start_time": "2022-03-07T07:27:37.015Z"
   },
   {
    "duration": 292,
    "start_time": "2022-03-07T07:45:12.689Z"
   },
   {
    "duration": 552,
    "start_time": "2022-03-07T07:45:18.249Z"
   },
   {
    "duration": 121,
    "start_time": "2022-03-07T07:45:22.376Z"
   },
   {
    "duration": 3,
    "start_time": "2022-03-07T07:45:53.435Z"
   },
   {
    "duration": 43,
    "start_time": "2022-03-07T07:45:53.835Z"
   },
   {
    "duration": 4,
    "start_time": "2022-03-07T07:45:54.461Z"
   },
   {
    "duration": 12,
    "start_time": "2022-03-07T07:45:55.510Z"
   },
   {
    "duration": 4,
    "start_time": "2022-03-07T07:45:57.520Z"
   },
   {
    "duration": 12,
    "start_time": "2022-03-07T07:45:58.847Z"
   },
   {
    "duration": 9,
    "start_time": "2022-03-07T07:46:03.836Z"
   },
   {
    "duration": 18,
    "start_time": "2022-03-07T07:46:04.573Z"
   },
   {
    "duration": 3,
    "start_time": "2022-03-07T07:46:15.329Z"
   },
   {
    "duration": 48,
    "start_time": "2022-03-07T07:46:15.334Z"
   },
   {
    "duration": 7,
    "start_time": "2022-03-07T07:46:15.384Z"
   },
   {
    "duration": 8,
    "start_time": "2022-03-07T07:46:15.393Z"
   },
   {
    "duration": 6,
    "start_time": "2022-03-07T07:46:15.403Z"
   },
   {
    "duration": 16,
    "start_time": "2022-03-07T07:46:15.411Z"
   },
   {
    "duration": 17,
    "start_time": "2022-03-07T07:46:15.428Z"
   },
   {
    "duration": 273,
    "start_time": "2022-03-07T07:46:15.447Z"
   },
   {
    "duration": 259,
    "start_time": "2022-03-07T07:46:15.723Z"
   },
   {
    "duration": 6,
    "start_time": "2022-03-07T07:46:15.984Z"
   },
   {
    "duration": 269,
    "start_time": "2022-03-07T07:46:16.002Z"
   },
   {
    "duration": 290,
    "start_time": "2022-03-07T07:46:16.273Z"
   },
   {
    "duration": 5,
    "start_time": "2022-03-07T07:46:16.565Z"
   },
   {
    "duration": 300,
    "start_time": "2022-03-07T07:46:16.571Z"
   },
   {
    "duration": 246,
    "start_time": "2022-03-07T07:46:16.872Z"
   },
   {
    "duration": 8,
    "start_time": "2022-03-07T07:46:17.119Z"
   },
   {
    "duration": 389,
    "start_time": "2022-03-07T07:46:17.128Z"
   },
   {
    "duration": 28,
    "start_time": "2022-03-07T07:46:17.518Z"
   },
   {
    "duration": 663,
    "start_time": "2022-03-07T07:46:17.548Z"
   },
   {
    "duration": 3,
    "start_time": "2022-03-07T07:46:18.213Z"
   },
   {
    "duration": 52,
    "start_time": "2022-03-07T07:46:18.217Z"
   },
   {
    "duration": 3,
    "start_time": "2022-03-07T07:46:18.271Z"
   },
   {
    "duration": 26,
    "start_time": "2022-03-07T07:46:18.275Z"
   },
   {
    "duration": 3,
    "start_time": "2022-03-07T07:46:18.303Z"
   },
   {
    "duration": 13,
    "start_time": "2022-03-07T07:46:18.308Z"
   },
   {
    "duration": 10,
    "start_time": "2022-03-07T07:46:18.322Z"
   },
   {
    "duration": 9,
    "start_time": "2022-03-07T07:46:18.335Z"
   },
   {
    "duration": 105,
    "start_time": "2022-03-07T07:46:18.345Z"
   },
   {
    "duration": 310,
    "start_time": "2022-03-07T07:46:18.451Z"
   },
   {
    "duration": 151,
    "start_time": "2022-03-07T07:46:18.612Z"
   },
   {
    "duration": 149,
    "start_time": "2022-03-07T07:46:18.614Z"
   },
   {
    "duration": 149,
    "start_time": "2022-03-07T07:46:18.615Z"
   },
   {
    "duration": 145,
    "start_time": "2022-03-07T07:46:18.620Z"
   },
   {
    "duration": 145,
    "start_time": "2022-03-07T07:46:18.621Z"
   },
   {
    "duration": 145,
    "start_time": "2022-03-07T07:46:18.622Z"
   },
   {
    "duration": 20,
    "start_time": "2022-03-07T07:46:33.720Z"
   },
   {
    "duration": 350,
    "start_time": "2022-03-07T07:46:38.422Z"
   },
   {
    "duration": 11,
    "start_time": "2022-03-07T07:47:34.337Z"
   },
   {
    "duration": 23,
    "start_time": "2022-03-07T07:47:39.959Z"
   },
   {
    "duration": 29,
    "start_time": "2022-03-07T07:47:52.787Z"
   },
   {
    "duration": 13,
    "start_time": "2022-03-07T07:48:15.159Z"
   },
   {
    "duration": 31,
    "start_time": "2022-03-07T07:48:21.325Z"
   },
   {
    "duration": 28,
    "start_time": "2022-03-07T07:48:30.648Z"
   },
   {
    "duration": 22,
    "start_time": "2022-03-07T07:48:40.100Z"
   },
   {
    "duration": 20,
    "start_time": "2022-03-07T07:48:58.201Z"
   },
   {
    "duration": 19,
    "start_time": "2022-03-07T07:49:02.400Z"
   },
   {
    "duration": 27,
    "start_time": "2022-03-07T07:49:19.614Z"
   },
   {
    "duration": 32,
    "start_time": "2022-03-07T07:49:35.810Z"
   },
   {
    "duration": 28,
    "start_time": "2022-03-07T07:49:54.011Z"
   },
   {
    "duration": 340,
    "start_time": "2022-03-07T07:50:07.357Z"
   },
   {
    "duration": 18,
    "start_time": "2022-03-07T07:50:39.275Z"
   },
   {
    "duration": 335,
    "start_time": "2022-03-07T07:50:43.666Z"
   },
   {
    "duration": 28,
    "start_time": "2022-03-07T07:50:53.636Z"
   },
   {
    "duration": 449,
    "start_time": "2022-03-07T07:51:00.490Z"
   },
   {
    "duration": 33,
    "start_time": "2022-03-07T07:51:32.049Z"
   },
   {
    "duration": 17,
    "start_time": "2022-03-07T07:52:38.265Z"
   },
   {
    "duration": 7217,
    "start_time": "2022-03-07T09:22:03.367Z"
   },
   {
    "duration": 335,
    "start_time": "2022-03-07T09:22:17.457Z"
   },
   {
    "duration": 340,
    "start_time": "2022-03-07T09:22:22.699Z"
   },
   {
    "duration": 361,
    "start_time": "2022-03-07T09:22:28.727Z"
   },
   {
    "duration": 8,
    "start_time": "2022-03-07T09:22:33.594Z"
   },
   {
    "duration": 364,
    "start_time": "2022-03-07T09:39:46.831Z"
   },
   {
    "duration": 1069,
    "start_time": "2022-03-07T09:39:56.272Z"
   },
   {
    "duration": 48,
    "start_time": "2022-03-07T09:39:57.343Z"
   },
   {
    "duration": 11,
    "start_time": "2022-03-07T09:39:57.393Z"
   },
   {
    "duration": 8,
    "start_time": "2022-03-07T09:39:57.405Z"
   },
   {
    "duration": 15,
    "start_time": "2022-03-07T09:39:57.414Z"
   },
   {
    "duration": 17,
    "start_time": "2022-03-07T09:39:57.430Z"
   },
   {
    "duration": 19,
    "start_time": "2022-03-07T09:39:57.449Z"
   },
   {
    "duration": 293,
    "start_time": "2022-03-07T09:39:57.471Z"
   },
   {
    "duration": 263,
    "start_time": "2022-03-07T09:39:57.767Z"
   },
   {
    "duration": 8,
    "start_time": "2022-03-07T09:39:58.031Z"
   },
   {
    "duration": 210,
    "start_time": "2022-03-07T09:39:58.040Z"
   },
   {
    "duration": 285,
    "start_time": "2022-03-07T09:39:58.252Z"
   },
   {
    "duration": 6,
    "start_time": "2022-03-07T09:39:58.539Z"
   },
   {
    "duration": 297,
    "start_time": "2022-03-07T09:39:58.546Z"
   },
   {
    "duration": 244,
    "start_time": "2022-03-07T09:39:58.845Z"
   },
   {
    "duration": 14,
    "start_time": "2022-03-07T09:39:59.090Z"
   },
   {
    "duration": 448,
    "start_time": "2022-03-07T09:39:59.105Z"
   },
   {
    "duration": 28,
    "start_time": "2022-03-07T09:39:59.555Z"
   },
   {
    "duration": 660,
    "start_time": "2022-03-07T09:39:59.585Z"
   },
   {
    "duration": 3,
    "start_time": "2022-03-07T09:40:00.246Z"
   },
   {
    "duration": 52,
    "start_time": "2022-03-07T09:40:00.250Z"
   },
   {
    "duration": 3,
    "start_time": "2022-03-07T09:40:00.304Z"
   },
   {
    "duration": 16,
    "start_time": "2022-03-07T09:40:00.309Z"
   },
   {
    "duration": 27,
    "start_time": "2022-03-07T09:40:00.326Z"
   },
   {
    "duration": 16,
    "start_time": "2022-03-07T09:40:00.354Z"
   },
   {
    "duration": 21,
    "start_time": "2022-03-07T09:40:00.372Z"
   },
   {
    "duration": 17,
    "start_time": "2022-03-07T09:40:00.395Z"
   },
   {
    "duration": 175,
    "start_time": "2022-03-07T09:40:00.413Z"
   },
   {
    "duration": 32,
    "start_time": "2022-03-07T09:40:00.590Z"
   },
   {
    "duration": 31,
    "start_time": "2022-03-07T09:40:00.624Z"
   },
   {
    "duration": 458,
    "start_time": "2022-03-07T09:40:00.657Z"
   },
   {
    "duration": 21,
    "start_time": "2022-03-07T09:40:01.116Z"
   },
   {
    "duration": 265,
    "start_time": "2022-03-07T09:40:01.138Z"
   },
   {
    "duration": 360,
    "start_time": "2022-03-07T09:40:01.404Z"
   },
   {
    "duration": 376,
    "start_time": "2022-03-07T09:40:01.765Z"
   },
   {
    "duration": 7,
    "start_time": "2022-03-07T09:40:02.143Z"
   },
   {
    "duration": 364,
    "start_time": "2022-03-07T09:40:06.952Z"
   },
   {
    "duration": 7,
    "start_time": "2022-03-07T09:59:55.769Z"
   },
   {
    "duration": 10,
    "start_time": "2022-03-07T10:00:06.317Z"
   },
   {
    "duration": 299,
    "start_time": "2022-03-07T10:03:44.252Z"
   },
   {
    "duration": 1133,
    "start_time": "2022-03-07T17:42:20.736Z"
   },
   {
    "duration": 47,
    "start_time": "2022-03-07T17:42:21.871Z"
   },
   {
    "duration": 11,
    "start_time": "2022-03-07T17:42:21.921Z"
   },
   {
    "duration": 10,
    "start_time": "2022-03-07T17:42:21.934Z"
   },
   {
    "duration": 33,
    "start_time": "2022-03-07T17:42:21.945Z"
   },
   {
    "duration": 19,
    "start_time": "2022-03-07T17:42:21.980Z"
   },
   {
    "duration": 21,
    "start_time": "2022-03-07T17:42:22.001Z"
   },
   {
    "duration": 355,
    "start_time": "2022-03-07T17:42:22.024Z"
   },
   {
    "duration": 335,
    "start_time": "2022-03-07T17:42:22.381Z"
   },
   {
    "duration": 11,
    "start_time": "2022-03-07T17:42:22.719Z"
   },
   {
    "duration": 275,
    "start_time": "2022-03-07T17:42:22.732Z"
   },
   {
    "duration": 384,
    "start_time": "2022-03-07T17:42:23.009Z"
   },
   {
    "duration": 9,
    "start_time": "2022-03-07T17:42:23.395Z"
   },
   {
    "duration": 406,
    "start_time": "2022-03-07T17:42:23.406Z"
   },
   {
    "duration": 313,
    "start_time": "2022-03-07T17:42:23.814Z"
   },
   {
    "duration": 8,
    "start_time": "2022-03-07T17:42:24.129Z"
   },
   {
    "duration": 562,
    "start_time": "2022-03-07T17:42:24.139Z"
   },
   {
    "duration": 33,
    "start_time": "2022-03-07T17:42:24.703Z"
   },
   {
    "duration": 1279,
    "start_time": "2022-03-07T17:42:24.738Z"
   },
   {
    "duration": 3,
    "start_time": "2022-03-07T17:42:26.019Z"
   },
   {
    "duration": 65,
    "start_time": "2022-03-07T17:42:26.023Z"
   },
   {
    "duration": 3,
    "start_time": "2022-03-07T17:42:26.089Z"
   },
   {
    "duration": 16,
    "start_time": "2022-03-07T17:42:26.096Z"
   },
   {
    "duration": 9,
    "start_time": "2022-03-07T17:42:26.114Z"
   },
   {
    "duration": 18,
    "start_time": "2022-03-07T17:42:26.125Z"
   },
   {
    "duration": 38,
    "start_time": "2022-03-07T17:42:26.145Z"
   },
   {
    "duration": 11,
    "start_time": "2022-03-07T17:42:26.185Z"
   },
   {
    "duration": 156,
    "start_time": "2022-03-07T17:42:26.197Z"
   },
   {
    "duration": 36,
    "start_time": "2022-03-07T17:42:26.355Z"
   },
   {
    "duration": 40,
    "start_time": "2022-03-07T17:42:26.393Z"
   },
   {
    "duration": 472,
    "start_time": "2022-03-07T17:42:26.435Z"
   },
   {
    "duration": 24,
    "start_time": "2022-03-07T17:42:26.909Z"
   },
   {
    "duration": 10,
    "start_time": "2022-03-07T17:42:26.935Z"
   },
   {
    "duration": 371,
    "start_time": "2022-03-07T17:42:26.947Z"
   },
   {
    "duration": 336,
    "start_time": "2022-03-07T17:42:27.320Z"
   },
   {
    "duration": 454,
    "start_time": "2022-03-07T17:42:27.658Z"
   },
   {
    "duration": 474,
    "start_time": "2022-03-07T17:42:28.114Z"
   },
   {
    "duration": 8,
    "start_time": "2022-03-07T17:42:28.590Z"
   },
   {
    "duration": 360,
    "start_time": "2022-03-07T17:42:33.494Z"
   },
   {
    "duration": 357,
    "start_time": "2022-03-07T17:42:40.527Z"
   },
   {
    "duration": 470,
    "start_time": "2022-03-07T17:42:53.299Z"
   },
   {
    "duration": 7,
    "start_time": "2022-03-07T17:45:43.128Z"
   },
   {
    "duration": 9,
    "start_time": "2022-03-07T17:47:58.467Z"
   },
   {
    "duration": 379,
    "start_time": "2022-03-07T17:48:19.454Z"
   },
   {
    "duration": 10,
    "start_time": "2022-03-07T17:48:26.531Z"
   },
   {
    "duration": 12,
    "start_time": "2022-03-07T17:48:43.377Z"
   },
   {
    "duration": 4,
    "start_time": "2022-03-07T17:51:05.840Z"
   },
   {
    "duration": 4,
    "start_time": "2022-03-07T17:51:48.316Z"
   },
   {
    "duration": 4,
    "start_time": "2022-03-07T17:52:11.850Z"
   },
   {
    "duration": 4,
    "start_time": "2022-03-07T17:52:13.864Z"
   },
   {
    "duration": 4,
    "start_time": "2022-03-07T17:52:31.155Z"
   },
   {
    "duration": 32,
    "start_time": "2022-03-07T18:00:33.516Z"
   },
   {
    "duration": 456,
    "start_time": "2022-03-07T18:00:35.959Z"
   },
   {
    "duration": 25,
    "start_time": "2022-03-07T18:00:57.636Z"
   },
   {
    "duration": 33,
    "start_time": "2022-03-07T18:02:12.202Z"
   },
   {
    "duration": 4,
    "start_time": "2022-03-07T18:02:17.427Z"
   },
   {
    "duration": 269,
    "start_time": "2022-03-07T18:02:48.218Z"
   },
   {
    "duration": 456,
    "start_time": "2022-03-07T18:02:53.716Z"
   },
   {
    "duration": 14,
    "start_time": "2022-03-07T18:03:18.342Z"
   },
   {
    "duration": 22,
    "start_time": "2022-03-07T18:03:25.281Z"
   },
   {
    "duration": 26,
    "start_time": "2022-03-07T18:03:41.056Z"
   },
   {
    "duration": 12,
    "start_time": "2022-03-07T18:03:52.711Z"
   },
   {
    "duration": 15,
    "start_time": "2022-03-07T18:04:53.543Z"
   },
   {
    "duration": 11,
    "start_time": "2022-03-07T18:05:07.389Z"
   },
   {
    "duration": 307,
    "start_time": "2022-03-07T18:05:15.542Z"
   },
   {
    "duration": 9,
    "start_time": "2022-03-07T18:05:21.557Z"
   },
   {
    "duration": 10,
    "start_time": "2022-03-07T18:05:57.076Z"
   },
   {
    "duration": 5,
    "start_time": "2022-03-07T18:06:09.509Z"
   },
   {
    "duration": 10,
    "start_time": "2022-03-07T18:06:16.712Z"
   },
   {
    "duration": 14,
    "start_time": "2022-03-07T18:06:43.529Z"
   },
   {
    "duration": 27,
    "start_time": "2022-03-07T18:07:42.628Z"
   },
   {
    "duration": 22,
    "start_time": "2022-03-07T18:08:40.375Z"
   },
   {
    "duration": 30,
    "start_time": "2022-03-07T18:08:48.494Z"
   },
   {
    "duration": 24,
    "start_time": "2022-03-07T18:09:35.181Z"
   },
   {
    "duration": 11,
    "start_time": "2022-03-07T18:09:37.423Z"
   },
   {
    "duration": 9,
    "start_time": "2022-03-07T18:09:50.922Z"
   },
   {
    "duration": 9,
    "start_time": "2022-03-07T18:10:02.992Z"
   },
   {
    "duration": 78,
    "start_time": "2022-03-07T18:10:46.357Z"
   },
   {
    "duration": 777,
    "start_time": "2022-03-07T18:10:50.885Z"
   },
   {
    "duration": 595,
    "start_time": "2022-03-07T18:11:17.458Z"
   },
   {
    "duration": 3122,
    "start_time": "2022-03-07T18:11:26.478Z"
   },
   {
    "duration": 40,
    "start_time": "2022-03-07T18:11:52.307Z"
   },
   {
    "duration": 42,
    "start_time": "2022-03-07T18:12:16.896Z"
   },
   {
    "duration": 270,
    "start_time": "2022-03-07T18:18:55.469Z"
   },
   {
    "duration": 36,
    "start_time": "2022-03-07T18:19:02.211Z"
   },
   {
    "duration": 5,
    "start_time": "2022-03-07T18:20:31.538Z"
   },
   {
    "duration": 10,
    "start_time": "2022-03-07T18:21:51.269Z"
   },
   {
    "duration": 269,
    "start_time": "2022-03-07T18:22:17.624Z"
   },
   {
    "duration": 27,
    "start_time": "2022-03-07T18:22:48.065Z"
   },
   {
    "duration": 20,
    "start_time": "2022-03-07T18:22:55.544Z"
   },
   {
    "duration": 34,
    "start_time": "2022-03-07T18:23:07.121Z"
   },
   {
    "duration": 27,
    "start_time": "2022-03-07T18:23:29.316Z"
   },
   {
    "duration": 21,
    "start_time": "2022-03-07T18:23:33.790Z"
   },
   {
    "duration": 100,
    "start_time": "2022-03-07T18:23:39.343Z"
   },
   {
    "duration": 30,
    "start_time": "2022-03-07T18:23:55.552Z"
   },
   {
    "duration": 29,
    "start_time": "2022-03-07T18:24:16.505Z"
   },
   {
    "duration": 37,
    "start_time": "2022-03-07T18:24:26.930Z"
   },
   {
    "duration": 32,
    "start_time": "2022-03-07T18:24:34.239Z"
   },
   {
    "duration": 29,
    "start_time": "2022-03-07T18:24:44.741Z"
   },
   {
    "duration": 36,
    "start_time": "2022-03-07T18:25:12.522Z"
   },
   {
    "duration": 35,
    "start_time": "2022-03-07T18:25:23.974Z"
   },
   {
    "duration": 449,
    "start_time": "2022-03-07T18:25:33.758Z"
   },
   {
    "duration": 37,
    "start_time": "2022-03-07T18:25:49.672Z"
   },
   {
    "duration": 33,
    "start_time": "2022-03-07T18:26:03.360Z"
   },
   {
    "duration": 427,
    "start_time": "2022-03-07T18:26:15.084Z"
   },
   {
    "duration": 10,
    "start_time": "2022-03-07T18:26:21.742Z"
   },
   {
    "duration": 4,
    "start_time": "2022-03-07T18:26:26.273Z"
   },
   {
    "duration": 4,
    "start_time": "2022-03-07T18:26:30.195Z"
   },
   {
    "duration": 9,
    "start_time": "2022-03-07T18:26:35.664Z"
   },
   {
    "duration": 17,
    "start_time": "2022-03-07T18:26:59.560Z"
   },
   {
    "duration": 10,
    "start_time": "2022-03-07T18:28:18.809Z"
   },
   {
    "duration": 5,
    "start_time": "2022-03-07T18:28:27.815Z"
   },
   {
    "duration": 47,
    "start_time": "2022-03-07T18:29:30.365Z"
   },
   {
    "duration": 294,
    "start_time": "2022-03-07T18:30:14.028Z"
   },
   {
    "duration": 303,
    "start_time": "2022-03-07T18:30:30.797Z"
   },
   {
    "duration": 44,
    "start_time": "2022-03-07T18:30:57.599Z"
   },
   {
    "duration": 3,
    "start_time": "2022-03-07T18:31:16.276Z"
   },
   {
    "duration": 254,
    "start_time": "2022-03-07T18:31:19.782Z"
   },
   {
    "duration": 41,
    "start_time": "2022-03-07T18:31:23.393Z"
   },
   {
    "duration": 8,
    "start_time": "2022-03-07T18:31:26.653Z"
   },
   {
    "duration": 43,
    "start_time": "2022-03-07T18:33:33.193Z"
   },
   {
    "duration": 5,
    "start_time": "2022-03-07T18:33:38.154Z"
   },
   {
    "duration": 265,
    "start_time": "2022-03-07T18:33:47.658Z"
   },
   {
    "duration": 302,
    "start_time": "2022-03-07T18:34:44.642Z"
   },
   {
    "duration": 9,
    "start_time": "2022-03-07T18:34:51.047Z"
   },
   {
    "duration": 1441,
    "start_time": "2022-03-09T07:13:11.719Z"
   },
   {
    "duration": 61,
    "start_time": "2022-03-09T07:13:13.163Z"
   },
   {
    "duration": 18,
    "start_time": "2022-03-09T07:13:13.228Z"
   },
   {
    "duration": 30,
    "start_time": "2022-03-09T07:13:13.249Z"
   },
   {
    "duration": 11,
    "start_time": "2022-03-09T07:13:13.282Z"
   },
   {
    "duration": 25,
    "start_time": "2022-03-09T07:13:13.295Z"
   },
   {
    "duration": 63,
    "start_time": "2022-03-09T07:13:13.322Z"
   },
   {
    "duration": 496,
    "start_time": "2022-03-09T07:13:13.387Z"
   },
   {
    "duration": 474,
    "start_time": "2022-03-09T07:13:13.887Z"
   },
   {
    "duration": 16,
    "start_time": "2022-03-09T07:13:14.364Z"
   },
   {
    "duration": 366,
    "start_time": "2022-03-09T07:13:14.382Z"
   },
   {
    "duration": 551,
    "start_time": "2022-03-09T07:13:14.751Z"
   },
   {
    "duration": 11,
    "start_time": "2022-03-09T07:13:15.304Z"
   },
   {
    "duration": 9,
    "start_time": "2022-03-09T07:13:15.318Z"
   },
   {
    "duration": 8,
    "start_time": "2022-03-09T07:13:15.329Z"
   },
   {
    "duration": 36,
    "start_time": "2022-03-09T07:13:15.339Z"
   },
   {
    "duration": 14,
    "start_time": "2022-03-09T07:13:15.377Z"
   },
   {
    "duration": 555,
    "start_time": "2022-03-09T07:13:15.394Z"
   },
   {
    "duration": 448,
    "start_time": "2022-03-09T07:13:15.951Z"
   },
   {
    "duration": 10,
    "start_time": "2022-03-09T07:13:16.402Z"
   },
   {
    "duration": 784,
    "start_time": "2022-03-09T07:13:16.414Z"
   },
   {
    "duration": 52,
    "start_time": "2022-03-09T07:13:17.201Z"
   },
   {
    "duration": 1304,
    "start_time": "2022-03-09T07:13:17.272Z"
   },
   {
    "duration": 4,
    "start_time": "2022-03-09T07:13:18.579Z"
   },
   {
    "duration": 93,
    "start_time": "2022-03-09T07:13:18.585Z"
   },
   {
    "duration": 4,
    "start_time": "2022-03-09T07:13:18.681Z"
   },
   {
    "duration": 22,
    "start_time": "2022-03-09T07:13:18.690Z"
   },
   {
    "duration": 8,
    "start_time": "2022-03-09T07:13:18.714Z"
   },
   {
    "duration": 48,
    "start_time": "2022-03-09T07:13:18.725Z"
   },
   {
    "duration": 15,
    "start_time": "2022-03-09T07:13:18.776Z"
   },
   {
    "duration": 18,
    "start_time": "2022-03-09T07:13:18.794Z"
   },
   {
    "duration": 167,
    "start_time": "2022-03-09T07:13:18.815Z"
   },
   {
    "duration": 90,
    "start_time": "2022-03-09T07:13:18.985Z"
   },
   {
    "duration": 80,
    "start_time": "2022-03-09T07:13:19.078Z"
   },
   {
    "duration": 653,
    "start_time": "2022-03-09T07:13:19.172Z"
   },
   {
    "duration": 69,
    "start_time": "2022-03-09T07:13:19.828Z"
   },
   {
    "duration": 473,
    "start_time": "2022-03-09T07:13:19.900Z"
   },
   {
    "duration": 637,
    "start_time": "2022-03-09T07:13:20.375Z"
   },
   {
    "duration": 687,
    "start_time": "2022-03-09T07:13:21.015Z"
   },
   {
    "duration": 12,
    "start_time": "2022-03-09T07:13:21.704Z"
   },
   {
    "duration": 5,
    "start_time": "2022-03-09T08:10:25.569Z"
   },
   {
    "duration": 56,
    "start_time": "2022-03-09T08:10:25.578Z"
   },
   {
    "duration": 12,
    "start_time": "2022-03-09T08:10:25.637Z"
   },
   {
    "duration": 14,
    "start_time": "2022-03-09T08:10:25.674Z"
   },
   {
    "duration": 12,
    "start_time": "2022-03-09T08:10:25.691Z"
   },
   {
    "duration": 67,
    "start_time": "2022-03-09T08:10:25.706Z"
   },
   {
    "duration": 32,
    "start_time": "2022-03-09T08:10:25.775Z"
   },
   {
    "duration": 516,
    "start_time": "2022-03-09T08:10:25.811Z"
   },
   {
    "duration": 482,
    "start_time": "2022-03-09T08:10:26.330Z"
   },
   {
    "duration": 11,
    "start_time": "2022-03-09T08:10:26.814Z"
   },
   {
    "duration": 369,
    "start_time": "2022-03-09T08:10:26.827Z"
   },
   {
    "duration": 621,
    "start_time": "2022-03-09T08:10:27.199Z"
   },
   {
    "duration": 11,
    "start_time": "2022-03-09T08:10:27.823Z"
   },
   {
    "duration": 7,
    "start_time": "2022-03-09T08:10:27.837Z"
   },
   {
    "duration": 29,
    "start_time": "2022-03-09T08:10:27.846Z"
   },
   {
    "duration": 7,
    "start_time": "2022-03-09T08:10:27.878Z"
   },
   {
    "duration": 12,
    "start_time": "2022-03-09T08:10:27.888Z"
   },
   {
    "duration": 612,
    "start_time": "2022-03-09T08:10:27.903Z"
   },
   {
    "duration": 459,
    "start_time": "2022-03-09T08:10:28.517Z"
   },
   {
    "duration": 11,
    "start_time": "2022-03-09T08:10:28.978Z"
   },
   {
    "duration": 811,
    "start_time": "2022-03-09T08:10:28.991Z"
   },
   {
    "duration": 48,
    "start_time": "2022-03-09T08:10:29.804Z"
   },
   {
    "duration": 1186,
    "start_time": "2022-03-09T08:10:29.857Z"
   },
   {
    "duration": 4,
    "start_time": "2022-03-09T08:10:31.046Z"
   },
   {
    "duration": 90,
    "start_time": "2022-03-09T08:10:31.053Z"
   },
   {
    "duration": 4,
    "start_time": "2022-03-09T08:10:31.146Z"
   },
   {
    "duration": 36,
    "start_time": "2022-03-09T08:10:31.152Z"
   },
   {
    "duration": 22,
    "start_time": "2022-03-09T08:10:31.190Z"
   },
   {
    "duration": 26,
    "start_time": "2022-03-09T08:10:31.214Z"
   },
   {
    "duration": 12,
    "start_time": "2022-03-09T08:10:31.242Z"
   },
   {
    "duration": 23,
    "start_time": "2022-03-09T08:10:31.257Z"
   },
   {
    "duration": 143,
    "start_time": "2022-03-09T08:10:31.282Z"
   },
   {
    "duration": 52,
    "start_time": "2022-03-09T08:10:31.427Z"
   },
   {
    "duration": 48,
    "start_time": "2022-03-09T08:10:31.482Z"
   },
   {
    "duration": 658,
    "start_time": "2022-03-09T08:10:31.532Z"
   },
   {
    "duration": 60,
    "start_time": "2022-03-09T08:10:32.193Z"
   },
   {
    "duration": 480,
    "start_time": "2022-03-09T08:10:32.274Z"
   },
   {
    "duration": 660,
    "start_time": "2022-03-09T08:10:32.756Z"
   },
   {
    "duration": 800,
    "start_time": "2022-03-09T08:10:33.418Z"
   },
   {
    "duration": 12,
    "start_time": "2022-03-09T08:10:34.220Z"
   }
  ],
  "kernelspec": {
   "display_name": "Python 3 (ipykernel)",
   "language": "python",
   "name": "python3"
  },
  "language_info": {
   "codemirror_mode": {
    "name": "ipython",
    "version": 3
   },
   "file_extension": ".py",
   "mimetype": "text/x-python",
   "name": "python",
   "nbconvert_exporter": "python",
   "pygments_lexer": "ipython3",
   "version": "3.9.5"
  },
  "toc": {
   "base_numbering": 1,
   "nav_menu": {},
   "number_sections": true,
   "sideBar": true,
   "skip_h1_title": true,
   "title_cell": "Table of Contents",
   "title_sidebar": "Contents",
   "toc_cell": false,
   "toc_position": {},
   "toc_section_display": true,
   "toc_window_display": false
  }
 },
 "nbformat": 4,
 "nbformat_minor": 2
}
