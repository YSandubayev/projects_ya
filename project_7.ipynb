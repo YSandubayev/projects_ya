{
 "cells": [
  {
   "cell_type": "markdown",
   "metadata": {},
   "source": [
    "<div style=\"border:solid lightseagreen 3px; padding: 20px\">\n",
    "<div>    \n",
    "<p><font color=\"black\" >\n",
    "Привет! Меня зовут Мария Четырева, и я буду делать ревью твоего проекта. Давай будем общаться на «ты». \n",
    "По ходу твоего решения я буду оставлять комментарии, обрати внимание на их цвет.</font></p>\n",
    "</div>\n",
    "\n",
    "<div class=\"alert alert-success\">\n",
    "\n",
    "<b>✔️</b> Зеленым цветом отмечены удачные и элегантные решения, на которые можно опираться в будущем.\n",
    "\n",
    "</div>\n",
    "\n",
    "<div class=\"alert alert-warning\">\n",
    "\n",
    "<b>⚠️</b> Жёлтым цветом выделено то, что в следующий раз можно сделать по-другому. Это не критичные ошибки, исправление которых остается на твое усмотрение. Однако постарайся, чтобы после твоих доработок их было не больше 3.\n",
    "\n",
    "</div>\n",
    "\n",
    "<div class=\"alert alert-danger\">\n",
    "\n",
    "<b>❌</b> Красным цветом отмечены критичные ошибки, без исправления которых проект не будет принят.\n",
    "\n",
    "</div>\n",
    "\n",
    "<p>Давай работать над проектом в диалоге: если ты что-то меняешь в проекте по моим рекомендациям — пиши об этом. Выбери для своих комментариев какой-то заметный цвет, так мне будет легче отследить изменения, например вот так:\n",
    "\n",
    "<div class=\"alert alert-info\">\n",
    "<b>Комментарий студента:</b> Ок\n",
    "<br>\n",
    "</div>\n",
    "    \n",
    "Пожалуйста, не перемещай, не изменяй и не удаляй мои комментарии. Всё это поможет выполнить повторную проверку твоего проекта быстрее. </p>\n",
    "\n",
    "</div>"
   ]
  },
  {
   "cell_type": "markdown",
   "metadata": {},
   "source": [
    "<div style=\"border:solid lightseagreen 3px; padding: 20px\">\n",
    "<div>\n",
    "<b>Общий комментарий ревьюера: </b>\n",
    "   \n",
    " Мне понравилась твоя работа! Ты уверенно используешь pandas, помнишь об основных шагах предобработки данных. Однако в работе есть некоторые критические замечания. Особенно обрати внимание на формулировку гипотез и выводов по результатам их проверки и убедись, что все ячейки проекта запускаются.\n",
    "   Исправь и присылай на повторное ревью. Удачи!  \n",
    "\n",
    "</div>\n",
    "    \n",
    "    \n",
    "<div class=\"alert alert-danger\">\n",
    "\n",
    "<b>❌ Комментарий ревьюера v2</b> Все еще есть ошибки. Перепроверь формулировки гипотез во всех тестах, постаралась поподробнее объяснить. Также есть ошибка с получением \"очищенных\" данных. Если тебе вдруг что-то непонятно, то оставляй комментарий, и я помогу. Жду твоих исправлений\n",
    "</div>\n",
    "  \n",
    "    \n",
    " <div class=\"alert alert-danger\">\n",
    "\n",
    "<b>❌ Комментарий ревьюера v3</b> Подсказала по поводу ошибок. Присылай на повторное ревью.\n",
    "</div>\n",
    "  "
   ]
  },
  {
   "cell_type": "markdown",
   "metadata": {},
   "source": [
    "\n",
    "<img src=\"https://i.ibb.co/vZtG5zL/image.jpg\" width=450 height=450 />"
   ]
  },
  {
   "cell_type": "markdown",
   "metadata": {},
   "source": [
    "## Часть 1. Приоритизация гипотез."
   ]
  },
  {
   "cell_type": "code",
   "execution_count": 1,
   "metadata": {},
   "outputs": [],
   "source": [
    "import pandas as pd\n",
    "import matplotlib.pyplot as plt\n",
    "import seaborn as sns\n",
    "import scipy.stats as stats\n",
    "from scipy import stats as st\n",
    "import math\n",
    "import numpy as np"
   ]
  },
  {
   "cell_type": "code",
   "execution_count": 2,
   "metadata": {},
   "outputs": [],
   "source": [
    "pd.options.display.float_format = '{:,.2f}'.format"
   ]
  },
  {
   "cell_type": "code",
   "execution_count": 3,
   "metadata": {},
   "outputs": [],
   "source": [
    "hypothesis = pd.read_csv('/datasets/hypothesis.csv')\n",
    "orders = pd.read_csv('/datasets/orders.csv')\n",
    "visitors = pd.read_csv('/datasets/visitors.csv')"
   ]
  },
  {
   "cell_type": "code",
   "execution_count": 4,
   "metadata": {},
   "outputs": [
    {
     "data": {
      "text/html": [
       "<div>\n",
       "<style scoped>\n",
       "    .dataframe tbody tr th:only-of-type {\n",
       "        vertical-align: middle;\n",
       "    }\n",
       "\n",
       "    .dataframe tbody tr th {\n",
       "        vertical-align: top;\n",
       "    }\n",
       "\n",
       "    .dataframe thead th {\n",
       "        text-align: right;\n",
       "    }\n",
       "</style>\n",
       "<table border=\"1\" class=\"dataframe\">\n",
       "  <thead>\n",
       "    <tr style=\"text-align: right;\">\n",
       "      <th></th>\n",
       "      <th>Hypothesis</th>\n",
       "      <th>Reach</th>\n",
       "      <th>Impact</th>\n",
       "      <th>Confidence</th>\n",
       "      <th>Efforts</th>\n",
       "    </tr>\n",
       "  </thead>\n",
       "  <tbody>\n",
       "    <tr>\n",
       "      <td>0</td>\n",
       "      <td>Добавить два новых канала привлечения трафика,...</td>\n",
       "      <td>3</td>\n",
       "      <td>10</td>\n",
       "      <td>8</td>\n",
       "      <td>6</td>\n",
       "    </tr>\n",
       "    <tr>\n",
       "      <td>1</td>\n",
       "      <td>Запустить собственную службу доставки, что сок...</td>\n",
       "      <td>2</td>\n",
       "      <td>5</td>\n",
       "      <td>4</td>\n",
       "      <td>10</td>\n",
       "    </tr>\n",
       "    <tr>\n",
       "      <td>2</td>\n",
       "      <td>Добавить блоки рекомендаций товаров на сайт ин...</td>\n",
       "      <td>8</td>\n",
       "      <td>3</td>\n",
       "      <td>7</td>\n",
       "      <td>3</td>\n",
       "    </tr>\n",
       "    <tr>\n",
       "      <td>3</td>\n",
       "      <td>Изменить структура категорий, что увеличит кон...</td>\n",
       "      <td>8</td>\n",
       "      <td>3</td>\n",
       "      <td>3</td>\n",
       "      <td>8</td>\n",
       "    </tr>\n",
       "    <tr>\n",
       "      <td>4</td>\n",
       "      <td>Изменить цвет фона главной страницы, чтобы уве...</td>\n",
       "      <td>3</td>\n",
       "      <td>1</td>\n",
       "      <td>1</td>\n",
       "      <td>1</td>\n",
       "    </tr>\n",
       "  </tbody>\n",
       "</table>\n",
       "</div>"
      ],
      "text/plain": [
       "                                          Hypothesis  Reach  Impact  \\\n",
       "0  Добавить два новых канала привлечения трафика,...      3      10   \n",
       "1  Запустить собственную службу доставки, что сок...      2       5   \n",
       "2  Добавить блоки рекомендаций товаров на сайт ин...      8       3   \n",
       "3  Изменить структура категорий, что увеличит кон...      8       3   \n",
       "4  Изменить цвет фона главной страницы, чтобы уве...      3       1   \n",
       "\n",
       "   Confidence  Efforts  \n",
       "0           8        6  \n",
       "1           4       10  \n",
       "2           7        3  \n",
       "3           3        8  \n",
       "4           1        1  "
      ]
     },
     "execution_count": 4,
     "metadata": {},
     "output_type": "execute_result"
    }
   ],
   "source": [
    "hypothesis.head()"
   ]
  },
  {
   "cell_type": "markdown",
   "metadata": {},
   "source": [
    "<div class=\"alert alert-warning\">\n",
    "<b>⚠️ Комментарий ревьюера:</b> Неудобно читается столбец с названием гипотезы. Это можно исправить, установив параметр функции display(): \n",
    "pd.options.display.max_colwidth = число_символов (например, 100)\n",
    "</div>"
   ]
  },
  {
   "cell_type": "code",
   "execution_count": 5,
   "metadata": {},
   "outputs": [
    {
     "name": "stdout",
     "output_type": "stream",
     "text": [
      "<class 'pandas.core.frame.DataFrame'>\n",
      "RangeIndex: 9 entries, 0 to 8\n",
      "Data columns (total 5 columns):\n",
      "Hypothesis    9 non-null object\n",
      "Reach         9 non-null int64\n",
      "Impact        9 non-null int64\n",
      "Confidence    9 non-null int64\n",
      "Efforts       9 non-null int64\n",
      "dtypes: int64(4), object(1)\n",
      "memory usage: 488.0+ bytes\n"
     ]
    }
   ],
   "source": [
    "hypothesis.info()"
   ]
  },
  {
   "cell_type": "code",
   "execution_count": 6,
   "metadata": {},
   "outputs": [],
   "source": [
    "hypothesis.columns = ['hypothesis', 'reach', 'impact', 'confidence', 'efforts']"
   ]
  },
  {
   "cell_type": "code",
   "execution_count": 7,
   "metadata": {},
   "outputs": [
    {
     "data": {
      "text/html": [
       "<div>\n",
       "<style scoped>\n",
       "    .dataframe tbody tr th:only-of-type {\n",
       "        vertical-align: middle;\n",
       "    }\n",
       "\n",
       "    .dataframe tbody tr th {\n",
       "        vertical-align: top;\n",
       "    }\n",
       "\n",
       "    .dataframe thead th {\n",
       "        text-align: right;\n",
       "    }\n",
       "</style>\n",
       "<table border=\"1\" class=\"dataframe\">\n",
       "  <thead>\n",
       "    <tr style=\"text-align: right;\">\n",
       "      <th></th>\n",
       "      <th>hypothesis</th>\n",
       "      <th>reach</th>\n",
       "      <th>impact</th>\n",
       "      <th>confidence</th>\n",
       "      <th>efforts</th>\n",
       "    </tr>\n",
       "  </thead>\n",
       "  <tbody>\n",
       "    <tr>\n",
       "      <td>0</td>\n",
       "      <td>Добавить два новых канала привлечения трафика,...</td>\n",
       "      <td>3</td>\n",
       "      <td>10</td>\n",
       "      <td>8</td>\n",
       "      <td>6</td>\n",
       "    </tr>\n",
       "    <tr>\n",
       "      <td>1</td>\n",
       "      <td>Запустить собственную службу доставки, что сок...</td>\n",
       "      <td>2</td>\n",
       "      <td>5</td>\n",
       "      <td>4</td>\n",
       "      <td>10</td>\n",
       "    </tr>\n",
       "    <tr>\n",
       "      <td>2</td>\n",
       "      <td>Добавить блоки рекомендаций товаров на сайт ин...</td>\n",
       "      <td>8</td>\n",
       "      <td>3</td>\n",
       "      <td>7</td>\n",
       "      <td>3</td>\n",
       "    </tr>\n",
       "    <tr>\n",
       "      <td>3</td>\n",
       "      <td>Изменить структура категорий, что увеличит кон...</td>\n",
       "      <td>8</td>\n",
       "      <td>3</td>\n",
       "      <td>3</td>\n",
       "      <td>8</td>\n",
       "    </tr>\n",
       "    <tr>\n",
       "      <td>4</td>\n",
       "      <td>Изменить цвет фона главной страницы, чтобы уве...</td>\n",
       "      <td>3</td>\n",
       "      <td>1</td>\n",
       "      <td>1</td>\n",
       "      <td>1</td>\n",
       "    </tr>\n",
       "    <tr>\n",
       "      <td>5</td>\n",
       "      <td>Добавить страницу отзывов клиентов о магазине,...</td>\n",
       "      <td>3</td>\n",
       "      <td>2</td>\n",
       "      <td>2</td>\n",
       "      <td>3</td>\n",
       "    </tr>\n",
       "    <tr>\n",
       "      <td>6</td>\n",
       "      <td>Показать на главной странице баннеры с актуаль...</td>\n",
       "      <td>5</td>\n",
       "      <td>3</td>\n",
       "      <td>8</td>\n",
       "      <td>3</td>\n",
       "    </tr>\n",
       "    <tr>\n",
       "      <td>7</td>\n",
       "      <td>Добавить форму подписки на все основные страни...</td>\n",
       "      <td>10</td>\n",
       "      <td>7</td>\n",
       "      <td>8</td>\n",
       "      <td>5</td>\n",
       "    </tr>\n",
       "    <tr>\n",
       "      <td>8</td>\n",
       "      <td>Запустить акцию, дающую скидку на товар в день...</td>\n",
       "      <td>1</td>\n",
       "      <td>9</td>\n",
       "      <td>9</td>\n",
       "      <td>5</td>\n",
       "    </tr>\n",
       "  </tbody>\n",
       "</table>\n",
       "</div>"
      ],
      "text/plain": [
       "                                          hypothesis  reach  impact  \\\n",
       "0  Добавить два новых канала привлечения трафика,...      3      10   \n",
       "1  Запустить собственную службу доставки, что сок...      2       5   \n",
       "2  Добавить блоки рекомендаций товаров на сайт ин...      8       3   \n",
       "3  Изменить структура категорий, что увеличит кон...      8       3   \n",
       "4  Изменить цвет фона главной страницы, чтобы уве...      3       1   \n",
       "5  Добавить страницу отзывов клиентов о магазине,...      3       2   \n",
       "6  Показать на главной странице баннеры с актуаль...      5       3   \n",
       "7  Добавить форму подписки на все основные страни...     10       7   \n",
       "8  Запустить акцию, дающую скидку на товар в день...      1       9   \n",
       "\n",
       "   confidence  efforts  \n",
       "0           8        6  \n",
       "1           4       10  \n",
       "2           7        3  \n",
       "3           3        8  \n",
       "4           1        1  \n",
       "5           2        3  \n",
       "6           8        3  \n",
       "7           8        5  \n",
       "8           9        5  "
      ]
     },
     "execution_count": 7,
     "metadata": {},
     "output_type": "execute_result"
    }
   ],
   "source": [
    "hypothesis"
   ]
  },
  {
   "cell_type": "code",
   "execution_count": 8,
   "metadata": {},
   "outputs": [
    {
     "data": {
      "text/html": [
       "<div>\n",
       "<style scoped>\n",
       "    .dataframe tbody tr th:only-of-type {\n",
       "        vertical-align: middle;\n",
       "    }\n",
       "\n",
       "    .dataframe tbody tr th {\n",
       "        vertical-align: top;\n",
       "    }\n",
       "\n",
       "    .dataframe thead th {\n",
       "        text-align: right;\n",
       "    }\n",
       "</style>\n",
       "<table border=\"1\" class=\"dataframe\">\n",
       "  <thead>\n",
       "    <tr style=\"text-align: right;\">\n",
       "      <th></th>\n",
       "      <th>transactionId</th>\n",
       "      <th>visitorId</th>\n",
       "      <th>date</th>\n",
       "      <th>revenue</th>\n",
       "      <th>group</th>\n",
       "    </tr>\n",
       "  </thead>\n",
       "  <tbody>\n",
       "    <tr>\n",
       "      <td>0</td>\n",
       "      <td>3667963787</td>\n",
       "      <td>3312258926</td>\n",
       "      <td>2019-08-15</td>\n",
       "      <td>1650</td>\n",
       "      <td>B</td>\n",
       "    </tr>\n",
       "    <tr>\n",
       "      <td>1</td>\n",
       "      <td>2804400009</td>\n",
       "      <td>3642806036</td>\n",
       "      <td>2019-08-15</td>\n",
       "      <td>730</td>\n",
       "      <td>B</td>\n",
       "    </tr>\n",
       "    <tr>\n",
       "      <td>2</td>\n",
       "      <td>2961555356</td>\n",
       "      <td>4069496402</td>\n",
       "      <td>2019-08-15</td>\n",
       "      <td>400</td>\n",
       "      <td>A</td>\n",
       "    </tr>\n",
       "    <tr>\n",
       "      <td>3</td>\n",
       "      <td>3797467345</td>\n",
       "      <td>1196621759</td>\n",
       "      <td>2019-08-15</td>\n",
       "      <td>9759</td>\n",
       "      <td>B</td>\n",
       "    </tr>\n",
       "    <tr>\n",
       "      <td>4</td>\n",
       "      <td>2282983706</td>\n",
       "      <td>2322279887</td>\n",
       "      <td>2019-08-15</td>\n",
       "      <td>2308</td>\n",
       "      <td>B</td>\n",
       "    </tr>\n",
       "  </tbody>\n",
       "</table>\n",
       "</div>"
      ],
      "text/plain": [
       "   transactionId   visitorId        date  revenue group\n",
       "0     3667963787  3312258926  2019-08-15     1650     B\n",
       "1     2804400009  3642806036  2019-08-15      730     B\n",
       "2     2961555356  4069496402  2019-08-15      400     A\n",
       "3     3797467345  1196621759  2019-08-15     9759     B\n",
       "4     2282983706  2322279887  2019-08-15     2308     B"
      ]
     },
     "execution_count": 8,
     "metadata": {},
     "output_type": "execute_result"
    }
   ],
   "source": [
    "orders.head()"
   ]
  },
  {
   "cell_type": "code",
   "execution_count": 9,
   "metadata": {},
   "outputs": [
    {
     "name": "stdout",
     "output_type": "stream",
     "text": [
      "<class 'pandas.core.frame.DataFrame'>\n",
      "RangeIndex: 1197 entries, 0 to 1196\n",
      "Data columns (total 5 columns):\n",
      "transactionId    1197 non-null int64\n",
      "visitorId        1197 non-null int64\n",
      "date             1197 non-null object\n",
      "revenue          1197 non-null int64\n",
      "group            1197 non-null object\n",
      "dtypes: int64(3), object(2)\n",
      "memory usage: 46.9+ KB\n"
     ]
    }
   ],
   "source": [
    "orders.info()"
   ]
  },
  {
   "cell_type": "code",
   "execution_count": 10,
   "metadata": {},
   "outputs": [],
   "source": [
    "orders['date'] = pd.to_datetime(orders['date'])"
   ]
  },
  {
   "cell_type": "markdown",
   "metadata": {},
   "source": [
    "<div class=\"alert alert-success\">\n",
    "\n",
    "<b>✔️ Комментарий ревьюера:</b> Здорово, что приводишь типы данных\n",
    "\n",
    "</div>"
   ]
  },
  {
   "cell_type": "code",
   "execution_count": 11,
   "metadata": {},
   "outputs": [],
   "source": [
    "orders.columns = ['transaction_id', 'visitor_id', 'date', 'revenue', 'group']"
   ]
  },
  {
   "cell_type": "code",
   "execution_count": 12,
   "metadata": {},
   "outputs": [
    {
     "data": {
      "text/html": [
       "<div>\n",
       "<style scoped>\n",
       "    .dataframe tbody tr th:only-of-type {\n",
       "        vertical-align: middle;\n",
       "    }\n",
       "\n",
       "    .dataframe tbody tr th {\n",
       "        vertical-align: top;\n",
       "    }\n",
       "\n",
       "    .dataframe thead th {\n",
       "        text-align: right;\n",
       "    }\n",
       "</style>\n",
       "<table border=\"1\" class=\"dataframe\">\n",
       "  <thead>\n",
       "    <tr style=\"text-align: right;\">\n",
       "      <th></th>\n",
       "      <th>transaction_id</th>\n",
       "      <th>visitor_id</th>\n",
       "      <th>date</th>\n",
       "      <th>revenue</th>\n",
       "      <th>group</th>\n",
       "    </tr>\n",
       "  </thead>\n",
       "  <tbody>\n",
       "    <tr>\n",
       "      <td>0</td>\n",
       "      <td>3667963787</td>\n",
       "      <td>3312258926</td>\n",
       "      <td>2019-08-15</td>\n",
       "      <td>1650</td>\n",
       "      <td>B</td>\n",
       "    </tr>\n",
       "    <tr>\n",
       "      <td>1</td>\n",
       "      <td>2804400009</td>\n",
       "      <td>3642806036</td>\n",
       "      <td>2019-08-15</td>\n",
       "      <td>730</td>\n",
       "      <td>B</td>\n",
       "    </tr>\n",
       "    <tr>\n",
       "      <td>2</td>\n",
       "      <td>2961555356</td>\n",
       "      <td>4069496402</td>\n",
       "      <td>2019-08-15</td>\n",
       "      <td>400</td>\n",
       "      <td>A</td>\n",
       "    </tr>\n",
       "    <tr>\n",
       "      <td>3</td>\n",
       "      <td>3797467345</td>\n",
       "      <td>1196621759</td>\n",
       "      <td>2019-08-15</td>\n",
       "      <td>9759</td>\n",
       "      <td>B</td>\n",
       "    </tr>\n",
       "    <tr>\n",
       "      <td>4</td>\n",
       "      <td>2282983706</td>\n",
       "      <td>2322279887</td>\n",
       "      <td>2019-08-15</td>\n",
       "      <td>2308</td>\n",
       "      <td>B</td>\n",
       "    </tr>\n",
       "    <tr>\n",
       "      <td>...</td>\n",
       "      <td>...</td>\n",
       "      <td>...</td>\n",
       "      <td>...</td>\n",
       "      <td>...</td>\n",
       "      <td>...</td>\n",
       "    </tr>\n",
       "    <tr>\n",
       "      <td>1192</td>\n",
       "      <td>2662137336</td>\n",
       "      <td>3733762160</td>\n",
       "      <td>2019-08-14</td>\n",
       "      <td>6490</td>\n",
       "      <td>B</td>\n",
       "    </tr>\n",
       "    <tr>\n",
       "      <td>1193</td>\n",
       "      <td>2203539145</td>\n",
       "      <td>370388673</td>\n",
       "      <td>2019-08-14</td>\n",
       "      <td>3190</td>\n",
       "      <td>A</td>\n",
       "    </tr>\n",
       "    <tr>\n",
       "      <td>1194</td>\n",
       "      <td>1807773912</td>\n",
       "      <td>573423106</td>\n",
       "      <td>2019-08-14</td>\n",
       "      <td>10550</td>\n",
       "      <td>A</td>\n",
       "    </tr>\n",
       "    <tr>\n",
       "      <td>1195</td>\n",
       "      <td>1947021204</td>\n",
       "      <td>1614305549</td>\n",
       "      <td>2019-08-14</td>\n",
       "      <td>100</td>\n",
       "      <td>A</td>\n",
       "    </tr>\n",
       "    <tr>\n",
       "      <td>1196</td>\n",
       "      <td>3936777065</td>\n",
       "      <td>2108080724</td>\n",
       "      <td>2019-08-15</td>\n",
       "      <td>202740</td>\n",
       "      <td>B</td>\n",
       "    </tr>\n",
       "  </tbody>\n",
       "</table>\n",
       "<p>1197 rows × 5 columns</p>\n",
       "</div>"
      ],
      "text/plain": [
       "      transaction_id  visitor_id       date  revenue group\n",
       "0         3667963787  3312258926 2019-08-15     1650     B\n",
       "1         2804400009  3642806036 2019-08-15      730     B\n",
       "2         2961555356  4069496402 2019-08-15      400     A\n",
       "3         3797467345  1196621759 2019-08-15     9759     B\n",
       "4         2282983706  2322279887 2019-08-15     2308     B\n",
       "...              ...         ...        ...      ...   ...\n",
       "1192      2662137336  3733762160 2019-08-14     6490     B\n",
       "1193      2203539145   370388673 2019-08-14     3190     A\n",
       "1194      1807773912   573423106 2019-08-14    10550     A\n",
       "1195      1947021204  1614305549 2019-08-14      100     A\n",
       "1196      3936777065  2108080724 2019-08-15   202740     B\n",
       "\n",
       "[1197 rows x 5 columns]"
      ]
     },
     "execution_count": 12,
     "metadata": {},
     "output_type": "execute_result"
    }
   ],
   "source": [
    "orders"
   ]
  },
  {
   "cell_type": "code",
   "execution_count": 13,
   "metadata": {},
   "outputs": [
    {
     "data": {
      "text/html": [
       "<div>\n",
       "<style scoped>\n",
       "    .dataframe tbody tr th:only-of-type {\n",
       "        vertical-align: middle;\n",
       "    }\n",
       "\n",
       "    .dataframe tbody tr th {\n",
       "        vertical-align: top;\n",
       "    }\n",
       "\n",
       "    .dataframe thead th {\n",
       "        text-align: right;\n",
       "    }\n",
       "</style>\n",
       "<table border=\"1\" class=\"dataframe\">\n",
       "  <thead>\n",
       "    <tr style=\"text-align: right;\">\n",
       "      <th></th>\n",
       "      <th>date</th>\n",
       "      <th>group</th>\n",
       "      <th>visitors</th>\n",
       "    </tr>\n",
       "  </thead>\n",
       "  <tbody>\n",
       "    <tr>\n",
       "      <td>0</td>\n",
       "      <td>2019-08-01</td>\n",
       "      <td>A</td>\n",
       "      <td>719</td>\n",
       "    </tr>\n",
       "    <tr>\n",
       "      <td>1</td>\n",
       "      <td>2019-08-02</td>\n",
       "      <td>A</td>\n",
       "      <td>619</td>\n",
       "    </tr>\n",
       "    <tr>\n",
       "      <td>2</td>\n",
       "      <td>2019-08-03</td>\n",
       "      <td>A</td>\n",
       "      <td>507</td>\n",
       "    </tr>\n",
       "    <tr>\n",
       "      <td>3</td>\n",
       "      <td>2019-08-04</td>\n",
       "      <td>A</td>\n",
       "      <td>717</td>\n",
       "    </tr>\n",
       "    <tr>\n",
       "      <td>4</td>\n",
       "      <td>2019-08-05</td>\n",
       "      <td>A</td>\n",
       "      <td>756</td>\n",
       "    </tr>\n",
       "  </tbody>\n",
       "</table>\n",
       "</div>"
      ],
      "text/plain": [
       "         date group  visitors\n",
       "0  2019-08-01     A       719\n",
       "1  2019-08-02     A       619\n",
       "2  2019-08-03     A       507\n",
       "3  2019-08-04     A       717\n",
       "4  2019-08-05     A       756"
      ]
     },
     "execution_count": 13,
     "metadata": {},
     "output_type": "execute_result"
    }
   ],
   "source": [
    "visitors.head()"
   ]
  },
  {
   "cell_type": "code",
   "execution_count": 14,
   "metadata": {},
   "outputs": [
    {
     "name": "stdout",
     "output_type": "stream",
     "text": [
      "<class 'pandas.core.frame.DataFrame'>\n",
      "RangeIndex: 62 entries, 0 to 61\n",
      "Data columns (total 3 columns):\n",
      "date        62 non-null object\n",
      "group       62 non-null object\n",
      "visitors    62 non-null int64\n",
      "dtypes: int64(1), object(2)\n",
      "memory usage: 1.6+ KB\n"
     ]
    }
   ],
   "source": [
    "visitors.info()"
   ]
  },
  {
   "cell_type": "code",
   "execution_count": 15,
   "metadata": {},
   "outputs": [],
   "source": [
    "visitors['date'] = pd.to_datetime(visitors['date'])"
   ]
  },
  {
   "cell_type": "markdown",
   "metadata": {},
   "source": [
    "<div class=\"alert alert-danger\">\n",
    "\n",
    "<b>❌ Комментарий ревьюера </b> А как же проверка на дубликаты?\n",
    "\n",
    "</div>"
   ]
  },
  {
   "cell_type": "markdown",
   "metadata": {},
   "source": [
    "<div class=\"alert alert-success\">\n",
    "\n",
    "<b>✔️ Комментарий ревьюера v2:</b> 👍\n",
    "\n",
    "</div>"
   ]
  },
  {
   "cell_type": "code",
   "execution_count": 16,
   "metadata": {},
   "outputs": [
    {
     "data": {
      "text/plain": [
       "0"
      ]
     },
     "execution_count": 16,
     "metadata": {},
     "output_type": "execute_result"
    }
   ],
   "source": [
    "hypothesis.duplicated().sum()"
   ]
  },
  {
   "cell_type": "code",
   "execution_count": 17,
   "metadata": {},
   "outputs": [
    {
     "data": {
      "text/plain": [
       "0"
      ]
     },
     "execution_count": 17,
     "metadata": {},
     "output_type": "execute_result"
    }
   ],
   "source": [
    "visitors.duplicated().sum()"
   ]
  },
  {
   "cell_type": "code",
   "execution_count": 18,
   "metadata": {},
   "outputs": [
    {
     "data": {
      "text/plain": [
       "0"
      ]
     },
     "execution_count": 18,
     "metadata": {},
     "output_type": "execute_result"
    }
   ],
   "source": [
    "orders.duplicated().sum()"
   ]
  },
  {
   "cell_type": "code",
   "execution_count": 19,
   "metadata": {},
   "outputs": [
    {
     "data": {
      "text/plain": [
       "hypothesis    0\n",
       "reach         0\n",
       "impact        0\n",
       "confidence    0\n",
       "efforts       0\n",
       "dtype: int64"
      ]
     },
     "execution_count": 19,
     "metadata": {},
     "output_type": "execute_result"
    }
   ],
   "source": [
    "hypothesis.isna().sum()"
   ]
  },
  {
   "cell_type": "code",
   "execution_count": 20,
   "metadata": {},
   "outputs": [
    {
     "data": {
      "text/plain": [
       "date        0\n",
       "group       0\n",
       "visitors    0\n",
       "dtype: int64"
      ]
     },
     "execution_count": 20,
     "metadata": {},
     "output_type": "execute_result"
    }
   ],
   "source": [
    "visitors.isna().sum()"
   ]
  },
  {
   "cell_type": "code",
   "execution_count": 21,
   "metadata": {},
   "outputs": [
    {
     "data": {
      "text/plain": [
       "transaction_id    0\n",
       "visitor_id        0\n",
       "date              0\n",
       "revenue           0\n",
       "group             0\n",
       "dtype: int64"
      ]
     },
     "execution_count": 21,
     "metadata": {},
     "output_type": "execute_result"
    }
   ],
   "source": [
    "orders.isna().sum()"
   ]
  },
  {
   "cell_type": "markdown",
   "metadata": {},
   "source": [
    "### Примените фреймворк ICE для приоритизации гипотез. Отсортируйте их по убыванию приоритета"
   ]
  },
  {
   "cell_type": "code",
   "execution_count": 22,
   "metadata": {},
   "outputs": [],
   "source": [
    "hypothesis['ICE'] = hypothesis['impact'] * hypothesis['confidence'] / hypothesis['efforts']"
   ]
  },
  {
   "cell_type": "code",
   "execution_count": 23,
   "metadata": {},
   "outputs": [
    {
     "data": {
      "text/html": [
       "<div>\n",
       "<style scoped>\n",
       "    .dataframe tbody tr th:only-of-type {\n",
       "        vertical-align: middle;\n",
       "    }\n",
       "\n",
       "    .dataframe tbody tr th {\n",
       "        vertical-align: top;\n",
       "    }\n",
       "\n",
       "    .dataframe thead th {\n",
       "        text-align: right;\n",
       "    }\n",
       "</style>\n",
       "<table border=\"1\" class=\"dataframe\">\n",
       "  <thead>\n",
       "    <tr style=\"text-align: right;\">\n",
       "      <th></th>\n",
       "      <th>hypothesis</th>\n",
       "      <th>reach</th>\n",
       "      <th>impact</th>\n",
       "      <th>confidence</th>\n",
       "      <th>efforts</th>\n",
       "      <th>ICE</th>\n",
       "    </tr>\n",
       "  </thead>\n",
       "  <tbody>\n",
       "    <tr>\n",
       "      <td>8</td>\n",
       "      <td>Запустить акцию, дающую скидку на товар в день...</td>\n",
       "      <td>1</td>\n",
       "      <td>9</td>\n",
       "      <td>9</td>\n",
       "      <td>5</td>\n",
       "      <td>16.20</td>\n",
       "    </tr>\n",
       "    <tr>\n",
       "      <td>0</td>\n",
       "      <td>Добавить два новых канала привлечения трафика,...</td>\n",
       "      <td>3</td>\n",
       "      <td>10</td>\n",
       "      <td>8</td>\n",
       "      <td>6</td>\n",
       "      <td>13.33</td>\n",
       "    </tr>\n",
       "    <tr>\n",
       "      <td>7</td>\n",
       "      <td>Добавить форму подписки на все основные страни...</td>\n",
       "      <td>10</td>\n",
       "      <td>7</td>\n",
       "      <td>8</td>\n",
       "      <td>5</td>\n",
       "      <td>11.20</td>\n",
       "    </tr>\n",
       "    <tr>\n",
       "      <td>6</td>\n",
       "      <td>Показать на главной странице баннеры с актуаль...</td>\n",
       "      <td>5</td>\n",
       "      <td>3</td>\n",
       "      <td>8</td>\n",
       "      <td>3</td>\n",
       "      <td>8.00</td>\n",
       "    </tr>\n",
       "    <tr>\n",
       "      <td>2</td>\n",
       "      <td>Добавить блоки рекомендаций товаров на сайт ин...</td>\n",
       "      <td>8</td>\n",
       "      <td>3</td>\n",
       "      <td>7</td>\n",
       "      <td>3</td>\n",
       "      <td>7.00</td>\n",
       "    </tr>\n",
       "  </tbody>\n",
       "</table>\n",
       "</div>"
      ],
      "text/plain": [
       "                                          hypothesis  reach  impact  \\\n",
       "8  Запустить акцию, дающую скидку на товар в день...      1       9   \n",
       "0  Добавить два новых канала привлечения трафика,...      3      10   \n",
       "7  Добавить форму подписки на все основные страни...     10       7   \n",
       "6  Показать на главной странице баннеры с актуаль...      5       3   \n",
       "2  Добавить блоки рекомендаций товаров на сайт ин...      8       3   \n",
       "\n",
       "   confidence  efforts   ICE  \n",
       "8           9        5 16.20  \n",
       "0           8        6 13.33  \n",
       "7           8        5 11.20  \n",
       "6           8        3  8.00  \n",
       "2           7        3  7.00  "
      ]
     },
     "execution_count": 23,
     "metadata": {},
     "output_type": "execute_result"
    }
   ],
   "source": [
    "hypothesis.sort_values('ICE', ascending=False).head()"
   ]
  },
  {
   "cell_type": "code",
   "execution_count": 24,
   "metadata": {},
   "outputs": [
    {
     "data": {
      "image/png": "[encoded data removed]",
      "text/plain": [
       "<Figure size 432x288 with 1 Axes>"
      ]
     },
     "metadata": {
      "needs_background": "light"
     },
     "output_type": "display_data"
    }
   ],
   "source": [
    "ax = hypothesis[['hypothesis', 'ICE']].set_index('hypothesis').sort_values('ICE', ascending=True).plot(kind='barh')\n",
    "ax.set_xlabel('Приоритет')\n",
    "ax.set_ylabel('Гипотеза')\n",
    "ax.set_title('ICE')\n",
    "plt.show()"
   ]
  },
  {
   "cell_type": "markdown",
   "metadata": {},
   "source": [
    "### Примените фреймворк RICE для приоритизации гипотез. Отсортируйте их по убыванию приоритета"
   ]
  },
  {
   "cell_type": "code",
   "execution_count": 25,
   "metadata": {},
   "outputs": [],
   "source": [
    "hypothesis['RICE'] = hypothesis['reach'] * hypothesis['impact'] * hypothesis['confidence'] / hypothesis['efforts']"
   ]
  },
  {
   "cell_type": "code",
   "execution_count": 26,
   "metadata": {},
   "outputs": [
    {
     "data": {
      "text/html": [
       "<div>\n",
       "<style scoped>\n",
       "    .dataframe tbody tr th:only-of-type {\n",
       "        vertical-align: middle;\n",
       "    }\n",
       "\n",
       "    .dataframe tbody tr th {\n",
       "        vertical-align: top;\n",
       "    }\n",
       "\n",
       "    .dataframe thead th {\n",
       "        text-align: right;\n",
       "    }\n",
       "</style>\n",
       "<table border=\"1\" class=\"dataframe\">\n",
       "  <thead>\n",
       "    <tr style=\"text-align: right;\">\n",
       "      <th></th>\n",
       "      <th>hypothesis</th>\n",
       "      <th>reach</th>\n",
       "      <th>impact</th>\n",
       "      <th>confidence</th>\n",
       "      <th>efforts</th>\n",
       "      <th>ICE</th>\n",
       "      <th>RICE</th>\n",
       "    </tr>\n",
       "  </thead>\n",
       "  <tbody>\n",
       "    <tr>\n",
       "      <td>7</td>\n",
       "      <td>Добавить форму подписки на все основные страни...</td>\n",
       "      <td>10</td>\n",
       "      <td>7</td>\n",
       "      <td>8</td>\n",
       "      <td>5</td>\n",
       "      <td>11.20</td>\n",
       "      <td>112.00</td>\n",
       "    </tr>\n",
       "    <tr>\n",
       "      <td>2</td>\n",
       "      <td>Добавить блоки рекомендаций товаров на сайт ин...</td>\n",
       "      <td>8</td>\n",
       "      <td>3</td>\n",
       "      <td>7</td>\n",
       "      <td>3</td>\n",
       "      <td>7.00</td>\n",
       "      <td>56.00</td>\n",
       "    </tr>\n",
       "    <tr>\n",
       "      <td>0</td>\n",
       "      <td>Добавить два новых канала привлечения трафика,...</td>\n",
       "      <td>3</td>\n",
       "      <td>10</td>\n",
       "      <td>8</td>\n",
       "      <td>6</td>\n",
       "      <td>13.33</td>\n",
       "      <td>40.00</td>\n",
       "    </tr>\n",
       "    <tr>\n",
       "      <td>6</td>\n",
       "      <td>Показать на главной странице баннеры с актуаль...</td>\n",
       "      <td>5</td>\n",
       "      <td>3</td>\n",
       "      <td>8</td>\n",
       "      <td>3</td>\n",
       "      <td>8.00</td>\n",
       "      <td>40.00</td>\n",
       "    </tr>\n",
       "    <tr>\n",
       "      <td>8</td>\n",
       "      <td>Запустить акцию, дающую скидку на товар в день...</td>\n",
       "      <td>1</td>\n",
       "      <td>9</td>\n",
       "      <td>9</td>\n",
       "      <td>5</td>\n",
       "      <td>16.20</td>\n",
       "      <td>16.20</td>\n",
       "    </tr>\n",
       "  </tbody>\n",
       "</table>\n",
       "</div>"
      ],
      "text/plain": [
       "                                          hypothesis  reach  impact  \\\n",
       "7  Добавить форму подписки на все основные страни...     10       7   \n",
       "2  Добавить блоки рекомендаций товаров на сайт ин...      8       3   \n",
       "0  Добавить два новых канала привлечения трафика,...      3      10   \n",
       "6  Показать на главной странице баннеры с актуаль...      5       3   \n",
       "8  Запустить акцию, дающую скидку на товар в день...      1       9   \n",
       "\n",
       "   confidence  efforts   ICE   RICE  \n",
       "7           8        5 11.20 112.00  \n",
       "2           7        3  7.00  56.00  \n",
       "0           8        6 13.33  40.00  \n",
       "6           8        3  8.00  40.00  \n",
       "8           9        5 16.20  16.20  "
      ]
     },
     "execution_count": 26,
     "metadata": {},
     "output_type": "execute_result"
    }
   ],
   "source": [
    "hypothesis.sort_values('RICE', ascending=False).head()"
   ]
  },
  {
   "cell_type": "code",
   "execution_count": 27,
   "metadata": {},
   "outputs": [
    {
     "data": {
      "image/png": "[encoded data removed]",
      "text/plain": [
       "<Figure size 432x288 with 1 Axes>"
      ]
     },
     "metadata": {
      "needs_background": "light"
     },
     "output_type": "display_data"
    }
   ],
   "source": [
    "ax = hypothesis[['hypothesis', 'RICE']].set_index('hypothesis').sort_values('RICE', ascending=True).plot(kind='barh')\n",
    "ax.set_xlabel('Приоритет')\n",
    "ax.set_ylabel('Гипотеза')\n",
    "ax.set_title('RICE')\n",
    "plt.show()"
   ]
  },
  {
   "cell_type": "markdown",
   "metadata": {},
   "source": [
    "### Укажите, как изменилась приоритизация гипотез при применении RICE вместо ICE. Объясните, почему так произошло"
   ]
  },
  {
   "cell_type": "markdown",
   "metadata": {},
   "source": [
    "Приоритизация разная, так как одна формула учитывает охват, а другая нет"
   ]
  },
  {
   "cell_type": "markdown",
   "metadata": {},
   "source": [
    "<div class=\"alert alert-success\">\n",
    "\n",
    "<b>✔️ Комментарий ревьюера:</b> И правда, при использовании RICE мы учитываем охват и приоритеты гипотез могут измениться\n",
    "\n",
    "</div>"
   ]
  },
  {
   "cell_type": "markdown",
   "metadata": {},
   "source": [
    "## Часть 2. Анализ A/B-теста"
   ]
  },
  {
   "cell_type": "markdown",
   "metadata": {},
   "source": [
    "<div class=\"alert alert-success\">\n",
    "\n",
    "<b>✔️ Комментарий ревьюера:</b> На данном этапе принято проверять, а нет ли таких аномальных пользователей, которые попали в обе группы. Будет здорово, если ты учтешь это в своих будущих проектах\n",
    "\n",
    "</div>"
   ]
  },
  {
   "cell_type": "code",
   "execution_count": 28,
   "metadata": {},
   "outputs": [],
   "source": [
    "orders_grouped = (orders.groupby(['date','group'], as_index=False)\n",
    "                        .agg({'transaction_id':'nunique','visitor_id':'nunique','revenue':'sum'}))\\\n",
    "                        .rename(columns={'transaction_id':'orders','visitor_id':'buyers'})\n",
    "orders_grouped['group_copy'] = orders_grouped['group']\n",
    "orders_grouped = orders_grouped.set_index(['date','group'])\n",
    "orders_cumsum = orders_grouped.sort_values(['date','group']).groupby('group_copy').cumsum().reset_index()"
   ]
  },
  {
   "cell_type": "code",
   "execution_count": 29,
   "metadata": {},
   "outputs": [],
   "source": [
    "# посчитаем сумму визитов по дням в каждой группе\n",
    "visitors_cumsum = visitors.groupby(['date','group'], as_index=False).agg({'visitors':'sum'}).sort_values(['date','group'])\n",
    "# скопируем group чтобы провести по ней кумулятивную сумму\n",
    "visitors_cumsum['group_copy'] = visitors_cumsum['group']\n",
    "visitors_cumsum = visitors_cumsum.set_index(['date','group']).groupby('group_copy').cumsum().reset_index()"
   ]
  },
  {
   "cell_type": "code",
   "execution_count": 30,
   "metadata": {},
   "outputs": [],
   "source": [
    "cummulative = orders_cumsum.join(visitors_cumsum[['visitors']])"
   ]
  },
  {
   "cell_type": "code",
   "execution_count": 31,
   "metadata": {},
   "outputs": [],
   "source": [
    "cummulative['average_check'] = cummulative['revenue'] / cummulative['orders']\n",
    "cummulative['conversion'] = cummulative['orders'] / cummulative['visitors']"
   ]
  },
  {
   "cell_type": "code",
   "execution_count": 32,
   "metadata": {},
   "outputs": [
    {
     "data": {
      "text/html": [
       "<div>\n",
       "<style scoped>\n",
       "    .dataframe tbody tr th:only-of-type {\n",
       "        vertical-align: middle;\n",
       "    }\n",
       "\n",
       "    .dataframe tbody tr th {\n",
       "        vertical-align: top;\n",
       "    }\n",
       "\n",
       "    .dataframe thead th {\n",
       "        text-align: right;\n",
       "    }\n",
       "</style>\n",
       "<table border=\"1\" class=\"dataframe\">\n",
       "  <thead>\n",
       "    <tr style=\"text-align: right;\">\n",
       "      <th></th>\n",
       "      <th>date</th>\n",
       "      <th>group</th>\n",
       "      <th>orders</th>\n",
       "      <th>buyers</th>\n",
       "      <th>revenue</th>\n",
       "      <th>visitors</th>\n",
       "      <th>average_check</th>\n",
       "      <th>conversion</th>\n",
       "    </tr>\n",
       "  </thead>\n",
       "  <tbody>\n",
       "    <tr>\n",
       "      <td>0</td>\n",
       "      <td>2019-08-01</td>\n",
       "      <td>A</td>\n",
       "      <td>24</td>\n",
       "      <td>20</td>\n",
       "      <td>148579</td>\n",
       "      <td>719</td>\n",
       "      <td>6,190.79</td>\n",
       "      <td>0.03</td>\n",
       "    </tr>\n",
       "    <tr>\n",
       "      <td>1</td>\n",
       "      <td>2019-08-01</td>\n",
       "      <td>B</td>\n",
       "      <td>21</td>\n",
       "      <td>20</td>\n",
       "      <td>101217</td>\n",
       "      <td>713</td>\n",
       "      <td>4,819.86</td>\n",
       "      <td>0.03</td>\n",
       "    </tr>\n",
       "    <tr>\n",
       "      <td>2</td>\n",
       "      <td>2019-08-02</td>\n",
       "      <td>A</td>\n",
       "      <td>44</td>\n",
       "      <td>39</td>\n",
       "      <td>242401</td>\n",
       "      <td>1338</td>\n",
       "      <td>5,509.11</td>\n",
       "      <td>0.03</td>\n",
       "    </tr>\n",
       "    <tr>\n",
       "      <td>3</td>\n",
       "      <td>2019-08-02</td>\n",
       "      <td>B</td>\n",
       "      <td>45</td>\n",
       "      <td>43</td>\n",
       "      <td>266748</td>\n",
       "      <td>1294</td>\n",
       "      <td>5,927.73</td>\n",
       "      <td>0.03</td>\n",
       "    </tr>\n",
       "    <tr>\n",
       "      <td>4</td>\n",
       "      <td>2019-08-03</td>\n",
       "      <td>A</td>\n",
       "      <td>68</td>\n",
       "      <td>63</td>\n",
       "      <td>354874</td>\n",
       "      <td>1845</td>\n",
       "      <td>5,218.74</td>\n",
       "      <td>0.04</td>\n",
       "    </tr>\n",
       "  </tbody>\n",
       "</table>\n",
       "</div>"
      ],
      "text/plain": [
       "        date group  orders  buyers  revenue  visitors  average_check  \\\n",
       "0 2019-08-01     A      24      20   148579       719       6,190.79   \n",
       "1 2019-08-01     B      21      20   101217       713       4,819.86   \n",
       "2 2019-08-02     A      44      39   242401      1338       5,509.11   \n",
       "3 2019-08-02     B      45      43   266748      1294       5,927.73   \n",
       "4 2019-08-03     A      68      63   354874      1845       5,218.74   \n",
       "\n",
       "   conversion  \n",
       "0        0.03  \n",
       "1        0.03  \n",
       "2        0.03  \n",
       "3        0.03  \n",
       "4        0.04  "
      ]
     },
     "execution_count": 32,
     "metadata": {},
     "output_type": "execute_result"
    }
   ],
   "source": [
    "cummulative.head()"
   ]
  },
  {
   "cell_type": "markdown",
   "metadata": {},
   "source": [
    "### Постройте график кумулятивной выручки по группам. Сделайте выводы и предположения."
   ]
  },
  {
   "cell_type": "code",
   "execution_count": 33,
   "metadata": {},
   "outputs": [
    {
     "data": {
      "image/png": "[encoded data removed]",
      "text/plain": [
       "<Figure size 432x288 with 1 Axes>"
      ]
     },
     "metadata": {
      "needs_background": "light"
     },
     "output_type": "display_data"
    }
   ],
   "source": [
    "cummulativeA = cummulative[cummulative['group']=='A'][['date', 'revenue']]\n",
    "cummulativeB = cummulative[cummulative['group']=='B'][['date', 'revenue']]\n",
    "plt.plot(cummulativeA.iloc[:,0].to_frame(), cummulativeA.iloc[:,1].to_frame(), label='A')\n",
    "plt.plot(cummulativeB.iloc[:,0].to_frame(), cummulativeB.iloc[:,1].to_frame(), label='B')\n",
    "plt.title('График кумулятивной выручки по группам')\n",
    "plt.ylabel(\"Выручка\")\n",
    "plt.xticks(rotation=45)\n",
    "plt.legend()\n",
    "plt.show()"
   ]
  },
  {
   "cell_type": "markdown",
   "metadata": {},
   "source": [
    "Группа В выше Группы А. Возможно есть аномальные выбросы в группе В(выбросы)"
   ]
  },
  {
   "cell_type": "markdown",
   "metadata": {},
   "source": [
    "<div class=\"alert alert-success\">\n",
    "\n",
    "<b>✔️ Комментарий ревьюера:</b> Да, учитывая одинаковые темпы роста групп, момент скачка на графике скорее всего свидельствует о появлении нескольких дорогих заказов\n",
    "\n",
    "</div>"
   ]
  },
  {
   "cell_type": "markdown",
   "metadata": {},
   "source": [
    "### Постройте график кумулятивного среднего чека по группам. Сделайте выводы и предположения."
   ]
  },
  {
   "cell_type": "code",
   "execution_count": 34,
   "metadata": {},
   "outputs": [
    {
     "data": {
      "image/png": "[encoded data removed]",
      "text/plain": [
       "<Figure size 432x288 with 1 Axes>"
      ]
     },
     "metadata": {
      "needs_background": "light"
     },
     "output_type": "display_data"
    }
   ],
   "source": [
    "cummulativeA = cummulative[cummulative['group']=='A'][['date', 'average_check']]\n",
    "cummulativeB = cummulative[cummulative['group']=='B'][['date', 'average_check']]\n",
    "plt.plot(cummulativeA.iloc[:,0].to_frame(), cummulativeA.iloc[:,1].to_frame(), label='A' )\n",
    "plt.plot(cummulativeB.iloc[:,0].to_frame(), cummulativeB.iloc[:,1].to_frame(), label='B')\n",
    "plt.title('График кумулятивного среднего чека по группам')\n",
    "plt.ylabel(\"Выручка\")\n",
    "plt.xticks(rotation=45)\n",
    "plt.legend()\n",
    "plt.show()"
   ]
  },
  {
   "cell_type": "markdown",
   "metadata": {},
   "source": [
    "Группа В снова резко поднимается и делает резкий скачок"
   ]
  },
  {
   "cell_type": "markdown",
   "metadata": {},
   "source": [
    "<div class=\"alert alert-success\">\n",
    "\n",
    "<b>✔️ Комментарий ревьюера:</b> Значение среднего чека после скачка начинает приходить в норму, но еще далеко от стабилизации. \n",
    "\n",
    "</div>"
   ]
  },
  {
   "cell_type": "markdown",
   "metadata": {},
   "source": [
    "### Постройте график относительного изменения кумулятивного среднего чека группы B к группе A. Сделайте выводы и предположения."
   ]
  },
  {
   "cell_type": "code",
   "execution_count": 35,
   "metadata": {},
   "outputs": [
    {
     "data": {
      "image/png": "[encoded data removed]",
      "text/plain": [
       "<Figure size 432x288 with 1 Axes>"
      ]
     },
     "metadata": {
      "needs_background": "light"
     },
     "output_type": "display_data"
    }
   ],
   "source": [
    "temp = (cummulativeA[['date', 'average_check']].merge(cummulativeB[['date', 'average_check']], \n",
    "                                            left_on='date', right_on='date', how='left', suffixes=['_A', '_B']))\n",
    "plt.plot(temp['date'], temp['average_check_B'] / temp['average_check_A']-1)\n",
    "plt.title('График относительного изменения кумулятивного среднего чека группы B к группе A')\n",
    "plt.axhline(y=0, color='red', linestyle='-')\n",
    "plt.xticks(rotation=45)\n",
    "plt.show()"
   ]
  },
  {
   "cell_type": "markdown",
   "metadata": {},
   "source": [
    "Такая же картина и те же проблемы с группой В"
   ]
  },
  {
   "cell_type": "markdown",
   "metadata": {},
   "source": [
    "### Постройте график кумулятивной конверсии по группам. Сделайте выводы и предположения."
   ]
  },
  {
   "cell_type": "code",
   "execution_count": 36,
   "metadata": {},
   "outputs": [
    {
     "data": {
      "image/png": "[encoded data removed]",
      "text/plain": [
       "<Figure size 432x288 with 1 Axes>"
      ]
     },
     "metadata": {
      "needs_background": "light"
     },
     "output_type": "display_data"
    }
   ],
   "source": [
    "cummulativeA = cummulative[cummulative['group']=='A'][['date', 'conversion']]\n",
    "cummulativeB = cummulative[cummulative['group']=='B'][['date', 'conversion']]\n",
    "plt.plot(cummulativeA.iloc[:,0].to_frame(), cummulativeA.iloc[:,1].to_frame(), label='A' )\n",
    "plt.plot(cummulativeB.iloc[:,0].to_frame(), cummulativeB.iloc[:,1].to_frame(), label='B')\n",
    "plt.title('График кумулятивной конверсии по группам')\n",
    "plt.ylabel(\"Доход\")\n",
    "plt.xticks(rotation=45)\n",
    "plt.legend()\n",
    "plt.show()"
   ]
  },
  {
   "cell_type": "markdown",
   "metadata": {},
   "source": [
    "Конверсии обеих групп после пика колеблются в районе 0.029 - 0.033. Конверсия группы В выглядит стабильнее"
   ]
  },
  {
   "cell_type": "markdown",
   "metadata": {},
   "source": [
    "### Постройте график относительного изменения кумулятивной конверсии группы B к группе A. Сделайте выводы и предположения."
   ]
  },
  {
   "cell_type": "code",
   "execution_count": 37,
   "metadata": {},
   "outputs": [
    {
     "data": {
      "image/png": "[encoded data removed]",
      "text/plain": [
       "<Figure size 432x288 with 1 Axes>"
      ]
     },
     "metadata": {
      "needs_background": "light"
     },
     "output_type": "display_data"
    }
   ],
   "source": [
    "temp = (cummulativeA[['date', 'conversion']].merge(cummulativeB[['date', 'conversion']], \n",
    "                                            left_on='date', right_on='date', how='left', suffixes=['_A', '_B']))\n",
    "plt.plot(temp['date'], temp['conversion_B'] / temp['conversion_A']-1)\n",
    "plt.title('График относительного изменения кумулятивной конверсии группы B к группе A')\n",
    "plt.axhline(y=0, color='red', linestyle='-')\n",
    "plt.xticks(rotation=45)\n",
    "plt.show()"
   ]
  },
  {
   "cell_type": "markdown",
   "metadata": {},
   "source": [
    "Конверсия группы В выглядит хорошо, но период теста небольшой"
   ]
  },
  {
   "cell_type": "markdown",
   "metadata": {},
   "source": [
    "<div class=\"alert alert-success\">\n",
    "\n",
    "<b>✔️ Комментарий ревьюера:</b> С середины теста отличие конверсии группы B относительно конверсии группы A снижается и, возможно, уже стабилизировалось.\n",
    "\n",
    "</div>"
   ]
  },
  {
   "cell_type": "markdown",
   "metadata": {},
   "source": [
    "### Постройте точечный график количества заказов по пользователям. Сделайте выводы и предположения."
   ]
  },
  {
   "cell_type": "code",
   "execution_count": 38,
   "metadata": {},
   "outputs": [],
   "source": [
    "orders_per_user = orders.groupby(['visitor_id', 'group'], as_index=False).agg({'transaction_id':'nunique'}).rename(columns={'transaction_id':'orders'})"
   ]
  },
  {
   "cell_type": "code",
   "execution_count": 39,
   "metadata": {},
   "outputs": [
    {
     "data": {
      "text/html": [
       "<div>\n",
       "<style scoped>\n",
       "    .dataframe tbody tr th:only-of-type {\n",
       "        vertical-align: middle;\n",
       "    }\n",
       "\n",
       "    .dataframe tbody tr th {\n",
       "        vertical-align: top;\n",
       "    }\n",
       "\n",
       "    .dataframe thead th {\n",
       "        text-align: right;\n",
       "    }\n",
       "</style>\n",
       "<table border=\"1\" class=\"dataframe\">\n",
       "  <thead>\n",
       "    <tr style=\"text-align: right;\">\n",
       "      <th></th>\n",
       "      <th>visitor_id</th>\n",
       "      <th>group</th>\n",
       "      <th>orders</th>\n",
       "    </tr>\n",
       "  </thead>\n",
       "  <tbody>\n",
       "    <tr>\n",
       "      <td>0</td>\n",
       "      <td>5114589</td>\n",
       "      <td>B</td>\n",
       "      <td>1</td>\n",
       "    </tr>\n",
       "    <tr>\n",
       "      <td>1</td>\n",
       "      <td>6958315</td>\n",
       "      <td>B</td>\n",
       "      <td>1</td>\n",
       "    </tr>\n",
       "    <tr>\n",
       "      <td>2</td>\n",
       "      <td>8300375</td>\n",
       "      <td>A</td>\n",
       "      <td>1</td>\n",
       "    </tr>\n",
       "    <tr>\n",
       "      <td>3</td>\n",
       "      <td>8300375</td>\n",
       "      <td>B</td>\n",
       "      <td>1</td>\n",
       "    </tr>\n",
       "    <tr>\n",
       "      <td>4</td>\n",
       "      <td>11685486</td>\n",
       "      <td>A</td>\n",
       "      <td>1</td>\n",
       "    </tr>\n",
       "  </tbody>\n",
       "</table>\n",
       "</div>"
      ],
      "text/plain": [
       "   visitor_id group  orders\n",
       "0     5114589     B       1\n",
       "1     6958315     B       1\n",
       "2     8300375     A       1\n",
       "3     8300375     B       1\n",
       "4    11685486     A       1"
      ]
     },
     "execution_count": 39,
     "metadata": {},
     "output_type": "execute_result"
    }
   ],
   "source": [
    "orders_per_user.head()"
   ]
  },
  {
   "cell_type": "code",
   "execution_count": 40,
   "metadata": {},
   "outputs": [
    {
     "data": {
      "image/png": "[encoded data removed]",
      "text/plain": [
       "<Figure size 432x288 with 1 Axes>"
      ]
     },
     "metadata": {
      "needs_background": "light"
     },
     "output_type": "display_data"
    }
   ],
   "source": [
    "x_values = pd.Series(range(0,len(orders_per_user['orders'])))\n",
    "plt.scatter(x_values, orders_per_user['orders'])\n",
    "plt.show()"
   ]
  },
  {
   "cell_type": "markdown",
   "metadata": {},
   "source": [
    "В основном делают не более 2 заказов, но также есть пользователи, которые сделали более 10 заказов"
   ]
  },
  {
   "cell_type": "markdown",
   "metadata": {},
   "source": [
    "### Посчитайте 95-й и 99-й перцентили количества заказов на пользователя. Выберите границу для определения аномальных пользователей."
   ]
  },
  {
   "cell_type": "code",
   "execution_count": 41,
   "metadata": {},
   "outputs": [
    {
     "name": "stdout",
     "output_type": "stream",
     "text": [
      "95 перцентиль: 2.00\n",
      "99 перцентиль: 4.00\n"
     ]
    }
   ],
   "source": [
    "print('95 перцентиль: %.2f' % (np.percentile(orders_per_user['orders'], [95])))\n",
    "print('99 перцентиль: %.2f' % (np.percentile(orders_per_user['orders'], [99])))"
   ]
  },
  {
   "cell_type": "markdown",
   "metadata": {},
   "source": [
    "Граница аномальных пользователей - 99 перцентиль"
   ]
  },
  {
   "cell_type": "markdown",
   "metadata": {},
   "source": [
    "### Постройте точечный график стоимостей заказов. Сделайте выводы и предположения."
   ]
  },
  {
   "cell_type": "code",
   "execution_count": 42,
   "metadata": {},
   "outputs": [
    {
     "data": {
      "image/png": "[encoded data removed]",
      "text/plain": [
       "<Figure size 432x288 with 1 Axes>"
      ]
     },
     "metadata": {
      "needs_background": "light"
     },
     "output_type": "display_data"
    }
   ],
   "source": [
    "x_values = pd.Series(range(0,len(orders['revenue'])))\n",
    "plt.scatter(x_values, orders['revenue'])\n",
    "plt.show()"
   ]
  },
  {
   "cell_type": "markdown",
   "metadata": {},
   "source": [
    "Здесь можно наблюдать 2 аномальных выброса. Самый аномальный выброс - более 1200000 рублей"
   ]
  },
  {
   "cell_type": "markdown",
   "metadata": {},
   "source": [
    "<div class=\"alert alert-warning\">\n",
    "<b>⚠️ Комментарий ревьюера:</b> Было бы неплохо посмотреть на график и в увеличенном масштабе, не считая эти два супер дорогих заказа\n",
    "</div>"
   ]
  },
  {
   "cell_type": "markdown",
   "metadata": {},
   "source": [
    "### Посчитайте 95-й и 99-й перцентили стоимости заказов. Выберите границу для определения аномальных заказов."
   ]
  },
  {
   "cell_type": "code",
   "execution_count": 43,
   "metadata": {},
   "outputs": [
    {
     "name": "stdout",
     "output_type": "stream",
     "text": [
      "95 перцентиль: 28000.00\n",
      "99 перцентиль: 58233.20\n"
     ]
    }
   ],
   "source": [
    "print('95 перцентиль: %.2f' % (np.percentile(orders['revenue'], [95])))\n",
    "print('99 перцентиль: %.2f' % (np.percentile(orders['revenue'], [99])))"
   ]
  },
  {
   "cell_type": "markdown",
   "metadata": {},
   "source": [
    "Граница аномальных заказов - 99 перцентиль"
   ]
  },
  {
   "cell_type": "markdown",
   "metadata": {},
   "source": [
    "### Посчитайте статистическую значимость различий в конверсии между группами по «сырым» данным. Сделайте выводы и предположения."
   ]
  },
  {
   "cell_type": "code",
   "execution_count": 44,
   "metadata": {},
   "outputs": [],
   "source": [
    "conversion = (orders.groupby('group').agg({'transaction_id':'count'}).rename(columns={'transaction_id':'orders'}))\\\n",
    "                                     .join((visitors.groupby('group').agg({'visitors':'sum'}))).reset_index()\n",
    "conversion['conversion'] = conversion['orders'] / conversion['visitors']"
   ]
  },
  {
   "cell_type": "code",
   "execution_count": 45,
   "metadata": {},
   "outputs": [
    {
     "data": {
      "text/html": [
       "<div>\n",
       "<style scoped>\n",
       "    .dataframe tbody tr th:only-of-type {\n",
       "        vertical-align: middle;\n",
       "    }\n",
       "\n",
       "    .dataframe tbody tr th {\n",
       "        vertical-align: top;\n",
       "    }\n",
       "\n",
       "    .dataframe thead th {\n",
       "        text-align: right;\n",
       "    }\n",
       "</style>\n",
       "<table border=\"1\" class=\"dataframe\">\n",
       "  <thead>\n",
       "    <tr style=\"text-align: right;\">\n",
       "      <th></th>\n",
       "      <th>group</th>\n",
       "      <th>orders</th>\n",
       "      <th>visitors</th>\n",
       "      <th>conversion</th>\n",
       "    </tr>\n",
       "  </thead>\n",
       "  <tbody>\n",
       "    <tr>\n",
       "      <td>0</td>\n",
       "      <td>A</td>\n",
       "      <td>557</td>\n",
       "      <td>18736</td>\n",
       "      <td>0.03</td>\n",
       "    </tr>\n",
       "    <tr>\n",
       "      <td>1</td>\n",
       "      <td>B</td>\n",
       "      <td>640</td>\n",
       "      <td>18916</td>\n",
       "      <td>0.03</td>\n",
       "    </tr>\n",
       "  </tbody>\n",
       "</table>\n",
       "</div>"
      ],
      "text/plain": [
       "  group  orders  visitors  conversion\n",
       "0     A     557     18736        0.03\n",
       "1     B     640     18916        0.03"
      ]
     },
     "execution_count": 45,
     "metadata": {},
     "output_type": "execute_result"
    }
   ],
   "source": [
    "conversion"
   ]
  },
  {
   "cell_type": "code",
   "execution_count": 46,
   "metadata": {},
   "outputs": [
    {
     "name": "stdout",
     "output_type": "stream",
     "text": [
      "p-значение:  0.5\n",
      "Не получилось отвергнуть нулевую гипотезу\n"
     ]
    },
    {
     "name": "stderr",
     "output_type": "stream",
     "text": [
      "/opt/conda/lib/python3.7/site-packages/ipykernel_launcher.py:14: UserWarning: Boolean Series key will be reindexed to match DataFrame index.\n",
      "  \n"
     ]
    }
   ],
   "source": [
    "# Воспользуемся Z-критерием для разности двух долей.\n",
    "# H0: Конверсия в группе A РАВНА конверсии в группе B\n",
    "# H1: Конверсия в группе A НЕ РАВНА конверсии в группе B\n",
    "alpha=0.05\n",
    "#purchases = np.array(conversion['orders'])\n",
    "#leads = np.array(conversion['visitors'])\n",
    "#p1 = purchases[0] / leads[0]\n",
    "#p2 = purchases[1] / leads[1]\n",
    "#combined = (purchases[0] + purchases[1]) / (leads[0] + leads[1])\n",
    "#difference = p1-p2\n",
    "#z_value = difference / math.sqrt(combined * (1 - combined) * (1 / leads[0] + 1 / leads[1]))\n",
    "#distr = st.norm(0,1)\n",
    "#p_value = (1 - distr.cdf(abs(z_value))) * 2\n",
    "results = st.mannwhitneyu(conversion[conversion['group']=='A']['conversion'], conversion[orders['group']=='B']['conversion'])\n",
    "pvalue = results.pvalue\n",
    "print('p-значение: ', pvalue)\n",
    "if (pvalue < alpha):\n",
    "    print(\"Отвергаем нулевую гипотезу\")\n",
    "else:\n",
    "    print(\"Не получилось отвергнуть нулевую гипотезу\")"
   ]
  },
  {
   "cell_type": "markdown",
   "metadata": {},
   "source": [
    "<div class=\"alert alert-danger\">\n",
    "\n",
    "<b>❌ Комментарий ревьюера </b> Давай для конверсии тоже использовать тест Манна-Уитни, чтобы посмотреть на схожесть самих выборок. \n",
    "</div>"
   ]
  },
  {
   "cell_type": "markdown",
   "metadata": {},
   "source": [
    "<div class=\"alert alert-success\">\n",
    "\n",
    "<b>✔️ Комментарий ревьюера v2:</b> 👍\n",
    "\n",
    "</div>"
   ]
  },
  {
   "cell_type": "markdown",
   "metadata": {},
   "source": [
    "<div class=\"alert alert-danger\">\n",
    "\n",
    "<b>❌ Комментарий ревьюера </b> Также данная ячейка вообще не запускается\n",
    "</div>"
   ]
  },
  {
   "cell_type": "markdown",
   "metadata": {},
   "source": [
    "<div class=\"alert alert-success\">\n",
    "\n",
    "<b>✔️ Комментарий ревьюера v2:</b> 👍\n",
    "\n",
    "</div>"
   ]
  },
  {
   "cell_type": "markdown",
   "metadata": {},
   "source": [
    "<div class=\"alert alert-danger\">\n",
    "\n",
    "<b>❌ Комментарий ревьюера v2: </b> Ошибка в формулировке гипотез. Н0 формулируется как отсутствие различий, отсутствие влияния фактора, равенство средних и тд. Т.е. твои формулировки перепутаны местами\n",
    "\n",
    "</div>"
   ]
  },
  {
   "cell_type": "markdown",
   "metadata": {},
   "source": [
    "<div class=\"alert alert-success\">\n",
    "\n",
    "<b>✔️ Комментарий ревьюера v3:</b> 👍\n",
    "\n",
    "</div>"
   ]
  },
  {
   "cell_type": "code",
   "execution_count": 47,
   "metadata": {},
   "outputs": [
    {
     "data": {
      "text/html": [
       "<div>\n",
       "<style scoped>\n",
       "    .dataframe tbody tr th:only-of-type {\n",
       "        vertical-align: middle;\n",
       "    }\n",
       "\n",
       "    .dataframe tbody tr th {\n",
       "        vertical-align: top;\n",
       "    }\n",
       "\n",
       "    .dataframe thead th {\n",
       "        text-align: right;\n",
       "    }\n",
       "</style>\n",
       "<table border=\"1\" class=\"dataframe\">\n",
       "  <thead>\n",
       "    <tr style=\"text-align: right;\">\n",
       "      <th></th>\n",
       "      <th>group</th>\n",
       "      <th>orders</th>\n",
       "      <th>visitors</th>\n",
       "      <th>conversion</th>\n",
       "      <th>check_conversion</th>\n",
       "    </tr>\n",
       "  </thead>\n",
       "  <tbody>\n",
       "    <tr>\n",
       "      <td>0</td>\n",
       "      <td>A</td>\n",
       "      <td>557</td>\n",
       "      <td>18736</td>\n",
       "      <td>0.03</td>\n",
       "      <td>2.97</td>\n",
       "    </tr>\n",
       "    <tr>\n",
       "      <td>1</td>\n",
       "      <td>B</td>\n",
       "      <td>640</td>\n",
       "      <td>18916</td>\n",
       "      <td>0.03</td>\n",
       "      <td>3.38</td>\n",
       "    </tr>\n",
       "  </tbody>\n",
       "</table>\n",
       "</div>"
      ],
      "text/plain": [
       "  group  orders  visitors  conversion  check_conversion\n",
       "0     A     557     18736        0.03              2.97\n",
       "1     B     640     18916        0.03              3.38"
      ]
     },
     "execution_count": 47,
     "metadata": {},
     "output_type": "execute_result"
    }
   ],
   "source": [
    "conversion['check_conversion'] = conversion['conversion'] * 100\n",
    "conversion"
   ]
  },
  {
   "cell_type": "markdown",
   "metadata": {},
   "source": [
    "Статистическая занчимость присутствует, так как конверсия группы В гораздо выше, но гипотезы нам показали, что конверсия А равна конверсии В. Возможно есть ошибки в данных"
   ]
  },
  {
   "cell_type": "markdown",
   "metadata": {},
   "source": [
    "### Посчитайте статистическую значимость различий в среднем чеке заказа между группами по «сырым» данным. Сделайте выводы и предположения."
   ]
  },
  {
   "cell_type": "code",
   "execution_count": 48,
   "metadata": {},
   "outputs": [
    {
     "name": "stdout",
     "output_type": "stream",
     "text": [
      "p-значение:  0.3646454927716229\n",
      "Не получилось отвергнуть нулевую гипотезу\n"
     ]
    }
   ],
   "source": [
    "# Воспользуемся критерием Манна-Уитни\n",
    "# H0: Средний чек A РАВЕН среднему чеку группы B\n",
    "# H1: Средний чек A НЕ РАВЕН среднему чеку группы B\n",
    "alpha = 0.05\n",
    "results = st.mannwhitneyu(orders[orders['group']=='A']['revenue'], orders[orders['group']=='B']['revenue'])\n",
    "pvalue = results.pvalue\n",
    "print('p-значение: ', pvalue)\n",
    "if (pvalue < alpha):\n",
    "    print(\"Отвергаем нулевую гипотезу\")\n",
    "else:\n",
    "    print(\"Не получилось отвергнуть нулевую гипотезу\")"
   ]
  },
  {
   "cell_type": "markdown",
   "metadata": {},
   "source": [
    "<div class=\"alert alert-danger\">\n",
    "\n",
    "<b>❌ Комментарий ревьюера: </b> Помни, что нулевая гипотеза всегда формулируется так, чтобы использовать знак равенства \n",
    "\n",
    "</div>"
   ]
  },
  {
   "cell_type": "markdown",
   "metadata": {},
   "source": [
    "<div class=\"alert alert-danger\">\n",
    "\n",
    "<b>❌ Комментарий ревьюера v2: </b> Все еще ошибка в формулировке гипотез\n",
    "\n",
    "</div>"
   ]
  },
  {
   "cell_type": "markdown",
   "metadata": {},
   "source": [
    "<div class=\"alert alert-success\">\n",
    "\n",
    "<b>✔️ Комментарий ревьюера v3:</b> 👍\n",
    "\n",
    "</div>"
   ]
  },
  {
   "cell_type": "markdown",
   "metadata": {},
   "source": [
    "<div class=\"alert alert-danger\">\n",
    "\n",
    "<b>❌ Комментарий ревьюера </b> Тоже не запускается\n",
    "</div>"
   ]
  },
  {
   "cell_type": "markdown",
   "metadata": {},
   "source": [
    "<div class=\"alert alert-success\">\n",
    "\n",
    "<b>✔️ Комментарий ревьюера v2:</b> 👍\n",
    "\n",
    "</div>"
   ]
  },
  {
   "cell_type": "markdown",
   "metadata": {},
   "source": [
    "Средний чек грппы A не превосходит средний чек группы B, но гипотезы нам показали, что средний чек А равен среднему чеку В"
   ]
  },
  {
   "cell_type": "code",
   "execution_count": 49,
   "metadata": {},
   "outputs": [
    {
     "data": {
      "text/plain": [
       "7333.578096947936"
      ]
     },
     "execution_count": 49,
     "metadata": {},
     "output_type": "execute_result"
    }
   ],
   "source": [
    "orders[orders['group']=='A']['revenue'].mean()"
   ]
  },
  {
   "cell_type": "code",
   "execution_count": 50,
   "metadata": {},
   "outputs": [
    {
     "data": {
      "text/plain": [
       "9230.875"
      ]
     },
     "execution_count": 50,
     "metadata": {},
     "output_type": "execute_result"
    }
   ],
   "source": [
    "orders[orders['group']=='B']['revenue'].mean()"
   ]
  },
  {
   "cell_type": "markdown",
   "metadata": {},
   "source": [
    "<div class=\"alert alert-warning\">\n",
    "<b>⚠️ Комментарий ревьюера:</b> Лучше также выводить и относительную разницу чеков:\n",
    "(orders[orders['group']=='B']['revenue'].mean()/orders[orders['group']=='A']['revenue'].mean()-1)*100    \n",
    " \n",
    "</div>"
   ]
  },
  {
   "cell_type": "markdown",
   "metadata": {},
   "source": [
    "### Посчитайте статистическую значимость различий в конверсии между группами по «очищенным» данным. Сделайте выводы и предположения."
   ]
  },
  {
   "cell_type": "markdown",
   "metadata": {},
   "source": [
    "<div class=\"alert alert-danger\">\n",
    "\n",
    "<b>❌ Комментарий ревьюера: </b> Сейчас для расчета конверсии ты чистишь данные по кол-ву заказов, а для среднего чека по сумме заказа. Давай сразу посчитим их по обоим условиям\n",
    "\n",
    "</div>"
   ]
  },
  {
   "cell_type": "markdown",
   "metadata": {},
   "source": [
    "<div class=\"alert alert-info\">\n",
    "<b>Комментарий студента:</b> Не могу понять как сюда добавить средний чек по сумме заказов. Нам ведь нужно браьт данные среднего чека обеих групп 7333 и 9230.875. Не могу понять как их сюда добавить. Также касательно гипотез. Почему я не могу добавить условие Превосходит и Не Превосходит? Ведь в пункте 2.13 с этим все окей. Просто условие с РАВНО получается странный вывод и данные не сходятся\n",
    "<br>\n",
    "</div>\n",
    "    "
   ]
  },
  {
   "cell_type": "markdown",
   "metadata": {},
   "source": [
    "<div class=\"alert alert-danger\">\n",
    "\n",
    "<b>❌ Комментарий ревьюера v3: </b> В пункте 2.13 тоже неверно, надо исправить. Нулевая гипотеза это всегда знак равенства. Условие \"не превосходит\" это знак <=. Ты можешь формулировать гипотезы в виде Н0: средние чеки равны, H1: средний чек В больше чека А. Но тогда это будет односторонная гипотеза, и полученное значение p-value нужно будет дополнительно делить на два. Так что лучше делать простые формулировки равны/не равны. Какой странный вывод? Если ты имеешь ввиду, что мы видим большое различие в средних чеках, а тест говорит, что их нет, то здесь нет никакой ошибки. Для этого и проводится тест. Мы посчитали средние чеки и видим, что они существенно различаются. Но тест Манна-Уитни говорит нам, что есть большая вероятность того, что такая разница могла быть получена случайно: уж сильно похожи между собой выборки. Поэтому мы заключаем, что разница чеков статистически не значима.\n",
    "\n",
    "</div>"
   ]
  },
  {
   "cell_type": "markdown",
   "metadata": {},
   "source": [
    "<div class=\"alert alert-danger\">\n",
    "\n",
    "<b>❌ Комментарий ревьюера v3</b> Нам нужно учесть два условия для аномальных пользователей: \n",
    "1) количество покупок >=4\n",
    "    \n",
    "2) сумма заказа > 58233\n",
    "    \n",
    "Для этого можно сначала определить id пользователей по первому условию, затем по второму, а потом объединить два списка, убрав повторяющиеся значения\n",
    "</div>"
   ]
  },
  {
   "cell_type": "code",
   "execution_count": 51,
   "metadata": {},
   "outputs": [
    {
     "ename": "NameError",
     "evalue": "name 'ordersByUsersA' is not defined",
     "output_type": "error",
     "traceback": [
      "\u001b[0;31m---------------------------------------------------------------------------\u001b[0m",
      "\u001b[0;31mNameError\u001b[0m                                 Traceback (most recent call last)",
      "\u001b[0;32m<ipython-input-51-5877ede0fb73>\u001b[0m in \u001b[0;36m<module>\u001b[0;34m\u001b[0m\n\u001b[1;32m      1\u001b[0m \u001b[0;31m#КОД РЕВЬЮЕРА\u001b[0m\u001b[0;34m\u001b[0m\u001b[0;34m\u001b[0m\u001b[0;34m\u001b[0m\u001b[0m\n\u001b[0;32m----> 2\u001b[0;31m \u001b[0musersWithManyOrders\u001b[0m \u001b[0;34m=\u001b[0m \u001b[0mpd\u001b[0m\u001b[0;34m.\u001b[0m\u001b[0mconcat\u001b[0m\u001b[0;34m(\u001b[0m\u001b[0;34m[\u001b[0m\u001b[0mordersByUsersA\u001b[0m\u001b[0;34m[\u001b[0m\u001b[0mordersByUsersA\u001b[0m\u001b[0;34m[\u001b[0m\u001b[0;34m'orders'\u001b[0m\u001b[0;34m]\u001b[0m \u001b[0;34m>\u001b[0m \u001b[0mчисло_заказов\u001b[0m\u001b[0;34m]\u001b[0m\u001b[0;34m[\u001b[0m\u001b[0;34m'userId'\u001b[0m\u001b[0;34m]\u001b[0m\u001b[0;34m,\u001b[0m \u001b[0mordersByUsersB\u001b[0m\u001b[0;34m[\u001b[0m\u001b[0mordersByUsersB\u001b[0m\u001b[0;34m[\u001b[0m\u001b[0;34m'orders'\u001b[0m\u001b[0;34m]\u001b[0m \u001b[0;34m>\u001b[0m \u001b[0mчисло_заказов\u001b[0m\u001b[0;34m]\u001b[0m\u001b[0;34m[\u001b[0m\u001b[0;34m'userId'\u001b[0m\u001b[0;34m]\u001b[0m\u001b[0;34m]\u001b[0m\u001b[0;34m,\u001b[0m \u001b[0maxis\u001b[0m \u001b[0;34m=\u001b[0m \u001b[0;36m0\u001b[0m\u001b[0;34m)\u001b[0m\u001b[0;34m\u001b[0m\u001b[0;34m\u001b[0m\u001b[0m\n\u001b[0m\u001b[1;32m      3\u001b[0m \u001b[0musersWithExpensiveOrders\u001b[0m \u001b[0;34m=\u001b[0m \u001b[0morders\u001b[0m\u001b[0;34m[\u001b[0m\u001b[0morders\u001b[0m\u001b[0;34m[\u001b[0m\u001b[0;34m'revenue'\u001b[0m\u001b[0;34m]\u001b[0m \u001b[0;34m>\u001b[0m \u001b[0mсумма_заказа\u001b[0m\u001b[0;34m]\u001b[0m\u001b[0;34m[\u001b[0m\u001b[0;34m'visitorId'\u001b[0m\u001b[0;34m]\u001b[0m\u001b[0;34m\u001b[0m\u001b[0;34m\u001b[0m\u001b[0m\n\u001b[1;32m      4\u001b[0m \u001b[0mabnormalUsers\u001b[0m \u001b[0;34m=\u001b[0m \u001b[0mpd\u001b[0m\u001b[0;34m.\u001b[0m\u001b[0mconcat\u001b[0m\u001b[0;34m(\u001b[0m\u001b[0;34m[\u001b[0m\u001b[0musersWithManyOrders\u001b[0m\u001b[0;34m,\u001b[0m \u001b[0musersWithExpensiveOrders\u001b[0m\u001b[0;34m]\u001b[0m\u001b[0;34m,\u001b[0m \u001b[0maxis\u001b[0m \u001b[0;34m=\u001b[0m \u001b[0;36m0\u001b[0m\u001b[0;34m)\u001b[0m\u001b[0;34m.\u001b[0m\u001b[0mdrop_duplicates\u001b[0m\u001b[0;34m(\u001b[0m\u001b[0;34m)\u001b[0m\u001b[0;34m.\u001b[0m\u001b[0msort_values\u001b[0m\u001b[0;34m(\u001b[0m\u001b[0;34m)\u001b[0m\u001b[0;34m\u001b[0m\u001b[0;34m\u001b[0m\u001b[0m\n",
      "\u001b[0;31mNameError\u001b[0m: name 'ordersByUsersA' is not defined"
     ]
    }
   ],
   "source": [
    "#КОД РЕВЬЮЕРА\n",
    "usersWithManyOrders = pd.concat([ordersByUsersA[ordersByUsersA['orders'] > число_заказов]['userId'], ordersByUsersB[ordersByUsersB['orders'] > число_заказов]['userId']], axis = 0)\n",
    "usersWithExpensiveOrders = orders[orders['revenue'] > сумма_заказа]['visitorId']\n",
    "abnormalUsers = pd.concat([usersWithManyOrders, usersWithExpensiveOrders], axis = 0).drop_duplicates().sort_values()"
   ]
  },
  {
   "cell_type": "code",
   "execution_count": null,
   "metadata": {},
   "outputs": [],
   "source": [
    "ordersByUsersA = orders_per_user[orders_per_user['group']=='A']\n",
    "ordersByUsersB = orders_per_user[orders_per_user['group']=='B']"
   ]
  },
  {
   "cell_type": "code",
   "execution_count": null,
   "metadata": {},
   "outputs": [],
   "source": [
    "usersWithManyOrders = pd.concat([ordersByUsersA[ordersByUsersA['orders'] > 4]['visitor_id'], ordersByUsersB[ordersByUsersB['orders'] > 4]['visitor_id']], axis = 0)\n",
    "usersWithExpensiveOrders = orders[orders['revenue'] > 58233]['visitor_id']\n",
    "abnormalUsers = pd.concat([usersWithManyOrders, usersWithExpensiveOrders], axis = 0).drop_duplicates().sort_values()"
   ]
  },
  {
   "cell_type": "code",
   "execution_count": null,
   "metadata": {},
   "outputs": [],
   "source": [
    "# Зачистим данные\n",
    "orders_temp = orders[~orders['visitor_id'].isin(abnormalUsers)]\n",
    "conversion_clear = (orders_temp.groupby('group').agg({'transaction_id':'count'}).rename(columns={'transaction_id':'orders'}))\\\n",
    "                                                .join((visitors.groupby('group').agg({'visitors':'sum'}))).reset_index()\n",
    "conversion_clear['conversion'] = conversion_clear['orders'] / conversion_clear['visitors']"
   ]
  },
  {
   "cell_type": "code",
   "execution_count": null,
   "metadata": {},
   "outputs": [],
   "source": [
    "conversion_clear"
   ]
  },
  {
   "cell_type": "code",
   "execution_count": null,
   "metadata": {},
   "outputs": [],
   "source": [
    "# Воспользуемся Z-критерием для разности двух долей.\n",
    "# H0: Конверсия в группе A РАВНА конверсии в группе B\n",
    "# H1: Конверсия в группе A НЕ РАВНА конверсии в группе B\n",
    "alpha=0.05\n",
    "#purchases = np.array(conversion_clear['orders'])\n",
    "#leads = np.array(conversion_clear['visitors'])\n",
    "#p1 = purchases[0] / leads[0]\n",
    "#p2 = purchases[1] / leads[1]\n",
    "#combined = (purchases[0] + purchases[1]) / (leads[0] + leads[1])\n",
    "#difference = p1-p2\n",
    "#z_value = difference / math.sqrt(combined * (1 - combined) * (1 / leads[0] + 1 / leads[1]))\n",
    "#distr = st.norm(0,1)\n",
    "#p_value = (1 - distr.cdf(abs(z_value))) * 2\n",
    "results = st.mannwhitneyu(conversion_clear[conversion_clear['group']=='A']['conversion'], conversion_clear[orders['group']=='B']['conversion'])\n",
    "pvalue = results.pvalue\n",
    "print('p-значение: ', pvalue)\n",
    "if (pvalue < alpha):\n",
    "    print(\"Отвергаем нулевую гипотезу\")\n",
    "else:\n",
    "    print(\"Не получилось отвергнуть нулевую гипотезу\")"
   ]
  },
  {
   "cell_type": "markdown",
   "metadata": {},
   "source": [
    "<div class=\"alert alert-danger\">\n",
    "\n",
    "<b>❌ Комментарий ревьюера: </b> Тут тоже нужен Манна-Уитни\n",
    "\n",
    "</div>"
   ]
  },
  {
   "cell_type": "markdown",
   "metadata": {},
   "source": [
    "<div class=\"alert alert-success\">\n",
    "\n",
    "<b>✔️ Комментарий ревьюера v2:</b> 👍\n",
    "\n",
    "</div>"
   ]
  },
  {
   "cell_type": "markdown",
   "metadata": {},
   "source": [
    "Значит конверсия в группе В все еще выше"
   ]
  },
  {
   "cell_type": "markdown",
   "metadata": {},
   "source": [
    "### Посчитайте статистическую значимость различий в среднем чеке заказа между группами по «очищенным» данным. Сделайте выводы и предположения."
   ]
  },
  {
   "cell_type": "code",
   "execution_count": null,
   "metadata": {},
   "outputs": [],
   "source": [
    "orders_clear = orders.query('revenue <= 58233')"
   ]
  },
  {
   "cell_type": "code",
   "execution_count": null,
   "metadata": {},
   "outputs": [],
   "source": [
    "# Воспользуемся критерием Манна-Уитни\n",
    "# H0: Средний чек A РАВЕН среднему чеку группы B\n",
    "# H1: Средний чек A НЕ РАВЕИ среднему чеку группы B\n",
    "alpha = 0.05\n",
    "results = st.mannwhitneyu(orders_clear[orders_clear['group']=='A']['revenue'], orders_clear[orders_clear['group']=='B']['revenue'])\n",
    "pvalue = results.pvalue\n",
    "print('p-значение: ', pvalue)\n",
    "if (pvalue < alpha):\n",
    "    print(\"Отвергаем нулевую гипотезу\")\n",
    "else:\n",
    "    print(\"Не получилось отвергнуть нулевую гипотезу\")"
   ]
  },
  {
   "cell_type": "markdown",
   "metadata": {},
   "source": [
    "Средний чек группы А ниже среднего чека группы В"
   ]
  },
  {
   "cell_type": "code",
   "execution_count": null,
   "metadata": {},
   "outputs": [],
   "source": [
    "orders_clear[orders_clear['group']=='A']['revenue'].mean()"
   ]
  },
  {
   "cell_type": "code",
   "execution_count": null,
   "metadata": {},
   "outputs": [],
   "source": [
    "orders_clear[orders_clear['group']=='B']['revenue'].mean()"
   ]
  },
  {
   "cell_type": "markdown",
   "metadata": {},
   "source": [
    "### Примите решение по результатам теста и объясните его. Варианты решений: 1. Остановить тест, зафиксировать победу одной из групп. 2. Остановить тест, зафиксировать отсутствие различий между группами. 3. Продолжить тест."
   ]
  },
  {
   "cell_type": "markdown",
   "metadata": {},
   "source": [
    "Я думаю, что нужно продолжить тест, так как графики должны более менее выровниться и также мы получим больше данных. В качесвте результата можно считать, что фактически победу одерживает группа В"
   ]
  },
  {
   "cell_type": "markdown",
   "metadata": {},
   "source": [
    "<div class=\"alert alert-warning\">\n",
    "<b>⚠️ Комментарий ревьюера:</b> И все же, лидерство группы В по конверсии мы видим и по сырым, и по очищенным данным. А разницы в чеке нет. Поэтому особого смысла продолжать тест до стабилизации графиков нет и можно принять решение уже сейчас.\n",
    "</div>"
   ]
  }
 ],
 "metadata": {
  "ExecuteTimeLog": [
   {
    "duration": 1605,
    "start_time": "2022-02-19T14:09:58.092Z"
   },
   {
    "duration": 4,
    "start_time": "2022-02-19T14:12:15.048Z"
   },
   {
    "duration": 52,
    "start_time": "2022-02-19T14:12:24.088Z"
   },
   {
    "duration": 17,
    "start_time": "2022-02-19T14:12:48.259Z"
   },
   {
    "duration": 10,
    "start_time": "2022-02-19T14:12:56.557Z"
   },
   {
    "duration": 4,
    "start_time": "2022-02-19T14:14:37.569Z"
   },
   {
    "duration": 13,
    "start_time": "2022-02-19T14:14:42.610Z"
   },
   {
    "duration": 15,
    "start_time": "2022-02-19T14:15:00.011Z"
   },
   {
    "duration": 12,
    "start_time": "2022-02-19T14:15:07.439Z"
   },
   {
    "duration": 7,
    "start_time": "2022-02-19T14:15:34.356Z"
   },
   {
    "duration": 11,
    "start_time": "2022-02-19T14:15:45.104Z"
   },
   {
    "duration": 9,
    "start_time": "2022-02-19T14:15:48.868Z"
   },
   {
    "duration": 6063,
    "start_time": "2022-02-19T14:16:17.103Z"
   },
   {
    "duration": 6,
    "start_time": "2022-02-19T14:16:24.875Z"
   },
   {
    "duration": 7255,
    "start_time": "2022-02-19T14:46:30.607Z"
   },
   {
    "duration": 12,
    "start_time": "2022-02-19T14:46:43.699Z"
   },
   {
    "duration": 15,
    "start_time": "2022-02-19T14:46:50.305Z"
   },
   {
    "duration": 5,
    "start_time": "2022-02-19T14:47:22.587Z"
   },
   {
    "duration": 6,
    "start_time": "2022-02-19T14:47:27.685Z"
   },
   {
    "duration": 14,
    "start_time": "2022-02-19T14:47:29.607Z"
   },
   {
    "duration": 512,
    "start_time": "2022-02-19T14:47:50.472Z"
   },
   {
    "duration": 638,
    "start_time": "2022-02-19T14:47:55.941Z"
   },
   {
    "duration": 6,
    "start_time": "2022-02-19T14:49:07.086Z"
   },
   {
    "duration": 20,
    "start_time": "2022-02-19T14:49:14.160Z"
   },
   {
    "duration": 456,
    "start_time": "2022-02-19T14:49:32.137Z"
   },
   {
    "duration": 5,
    "start_time": "2022-02-19T15:00:28.858Z"
   },
   {
    "duration": 29,
    "start_time": "2022-02-19T15:00:36.991Z"
   },
   {
    "duration": 7299,
    "start_time": "2022-02-19T18:39:53.685Z"
   },
   {
    "duration": 4,
    "start_time": "2022-02-19T18:40:23.490Z"
   },
   {
    "duration": 22,
    "start_time": "2022-02-19T18:40:25.130Z"
   },
   {
    "duration": 32,
    "start_time": "2022-02-19T18:40:30.355Z"
   },
   {
    "duration": 29,
    "start_time": "2022-02-19T18:40:49.791Z"
   },
   {
    "duration": 7,
    "start_time": "2022-02-19T18:40:56.530Z"
   },
   {
    "duration": 8,
    "start_time": "2022-02-19T18:41:03.167Z"
   },
   {
    "duration": 15,
    "start_time": "2022-02-19T18:41:11.299Z"
   },
   {
    "duration": 367,
    "start_time": "2022-02-19T18:41:24.049Z"
   },
   {
    "duration": 351,
    "start_time": "2022-02-19T18:45:20.143Z"
   },
   {
    "duration": 462,
    "start_time": "2022-02-19T18:46:45.525Z"
   },
   {
    "duration": 469,
    "start_time": "2022-02-19T18:47:18.111Z"
   },
   {
    "duration": 545,
    "start_time": "2022-02-19T18:47:56.789Z"
   },
   {
    "duration": 450,
    "start_time": "2022-02-19T18:50:49.832Z"
   },
   {
    "duration": 297,
    "start_time": "2022-02-19T18:52:47.983Z"
   },
   {
    "duration": 10,
    "start_time": "2022-02-19T18:52:58.138Z"
   },
   {
    "duration": 97,
    "start_time": "2022-02-19T18:53:09.870Z"
   },
   {
    "duration": 10,
    "start_time": "2022-02-19T18:53:16.004Z"
   },
   {
    "duration": 10,
    "start_time": "2022-02-19T18:53:25.810Z"
   },
   {
    "duration": 406,
    "start_time": "2022-02-19T18:53:32.721Z"
   },
   {
    "duration": 382,
    "start_time": "2022-02-19T18:53:46.680Z"
   },
   {
    "duration": 7,
    "start_time": "2022-02-19T18:54:49.829Z"
   },
   {
    "duration": 6,
    "start_time": "2022-02-19T18:55:00.124Z"
   },
   {
    "duration": 7157,
    "start_time": "2022-02-19T18:55:36.260Z"
   },
   {
    "duration": 5,
    "start_time": "2022-02-19T18:55:46.393Z"
   },
   {
    "duration": 7,
    "start_time": "2022-02-19T18:56:17.020Z"
   },
   {
    "duration": 9,
    "start_time": "2022-02-19T18:56:44.868Z"
   },
   {
    "duration": 423,
    "start_time": "2022-02-19T18:57:53.284Z"
   },
   {
    "duration": 7,
    "start_time": "2022-02-19T19:00:20.669Z"
   },
   {
    "duration": 16,
    "start_time": "2022-02-19T19:01:32.789Z"
   },
   {
    "duration": 10,
    "start_time": "2022-02-19T19:01:39.869Z"
   },
   {
    "duration": 12,
    "start_time": "2022-02-19T19:01:57.373Z"
   },
   {
    "duration": 17,
    "start_time": "2022-02-19T19:02:49.968Z"
   },
   {
    "duration": 12,
    "start_time": "2022-02-19T19:02:52.341Z"
   },
   {
    "duration": 13,
    "start_time": "2022-02-19T19:04:09.536Z"
   },
   {
    "duration": 13,
    "start_time": "2022-02-19T19:04:50.988Z"
   },
   {
    "duration": 10,
    "start_time": "2022-02-19T19:06:06.047Z"
   },
   {
    "duration": 9,
    "start_time": "2022-02-19T19:06:11.816Z"
   },
   {
    "duration": 17,
    "start_time": "2022-02-19T19:06:50.761Z"
   },
   {
    "duration": 11,
    "start_time": "2022-02-19T19:07:13.244Z"
   },
   {
    "duration": 10,
    "start_time": "2022-02-19T19:07:15.596Z"
   },
   {
    "duration": 9,
    "start_time": "2022-02-19T19:07:17.179Z"
   },
   {
    "duration": 12,
    "start_time": "2022-02-19T19:07:20.630Z"
   },
   {
    "duration": 14,
    "start_time": "2022-02-19T19:09:04.090Z"
   },
   {
    "duration": 10,
    "start_time": "2022-02-19T19:09:05.519Z"
   },
   {
    "duration": 8,
    "start_time": "2022-02-19T19:10:22.061Z"
   },
   {
    "duration": 12,
    "start_time": "2022-02-19T19:11:18.828Z"
   },
   {
    "duration": 9,
    "start_time": "2022-02-19T19:11:31.176Z"
   },
   {
    "duration": 9,
    "start_time": "2022-02-19T19:11:36.748Z"
   },
   {
    "duration": 6,
    "start_time": "2022-02-19T19:15:25.835Z"
   },
   {
    "duration": 17,
    "start_time": "2022-02-19T19:16:06.796Z"
   },
   {
    "duration": 12,
    "start_time": "2022-02-19T19:16:08.692Z"
   },
   {
    "duration": 6,
    "start_time": "2022-02-19T19:17:08.260Z"
   },
   {
    "duration": 16,
    "start_time": "2022-02-19T19:17:10.080Z"
   },
   {
    "duration": 12,
    "start_time": "2022-02-19T19:17:11.464Z"
   },
   {
    "duration": 8,
    "start_time": "2022-02-19T19:17:19.419Z"
   },
   {
    "duration": 11,
    "start_time": "2022-02-19T19:17:19.846Z"
   },
   {
    "duration": 8,
    "start_time": "2022-02-19T19:17:20.914Z"
   },
   {
    "duration": 9,
    "start_time": "2022-02-19T19:17:21.281Z"
   },
   {
    "duration": 1610,
    "start_time": "2022-02-20T15:34:10.112Z"
   },
   {
    "duration": 5,
    "start_time": "2022-02-20T15:34:11.727Z"
   },
   {
    "duration": 92,
    "start_time": "2022-02-20T15:34:11.735Z"
   },
   {
    "duration": 49,
    "start_time": "2022-02-20T15:34:11.830Z"
   },
   {
    "duration": 45,
    "start_time": "2022-02-20T15:34:11.882Z"
   },
   {
    "duration": 50,
    "start_time": "2022-02-20T15:34:11.931Z"
   },
   {
    "duration": 52,
    "start_time": "2022-02-20T15:34:11.983Z"
   },
   {
    "duration": 37,
    "start_time": "2022-02-20T15:34:12.038Z"
   },
   {
    "duration": 12,
    "start_time": "2022-02-20T15:34:12.078Z"
   },
   {
    "duration": 10,
    "start_time": "2022-02-20T15:34:12.093Z"
   },
   {
    "duration": 20,
    "start_time": "2022-02-20T15:34:12.106Z"
   },
   {
    "duration": 25,
    "start_time": "2022-02-20T15:34:12.129Z"
   },
   {
    "duration": 18,
    "start_time": "2022-02-20T15:34:12.156Z"
   },
   {
    "duration": 24,
    "start_time": "2022-02-20T15:34:12.177Z"
   },
   {
    "duration": 25,
    "start_time": "2022-02-20T15:34:12.203Z"
   },
   {
    "duration": 30,
    "start_time": "2022-02-20T15:34:12.231Z"
   },
   {
    "duration": 28,
    "start_time": "2022-02-20T15:34:12.264Z"
   },
   {
    "duration": 500,
    "start_time": "2022-02-20T15:34:12.294Z"
   },
   {
    "duration": 7,
    "start_time": "2022-02-20T15:34:12.796Z"
   },
   {
    "duration": 32,
    "start_time": "2022-02-20T15:34:12.806Z"
   },
   {
    "duration": 485,
    "start_time": "2022-02-20T15:34:12.841Z"
   },
   {
    "duration": 35,
    "start_time": "2022-02-20T15:34:13.329Z"
   },
   {
    "duration": 57,
    "start_time": "2022-02-20T15:34:13.370Z"
   },
   {
    "duration": 7,
    "start_time": "2022-02-20T15:34:13.430Z"
   },
   {
    "duration": 16,
    "start_time": "2022-02-20T15:34:13.440Z"
   },
   {
    "duration": 33,
    "start_time": "2022-02-20T15:34:13.459Z"
   },
   {
    "duration": 378,
    "start_time": "2022-02-20T15:34:13.494Z"
   },
   {
    "duration": 455,
    "start_time": "2022-02-20T15:34:13.876Z"
   },
   {
    "duration": 454,
    "start_time": "2022-02-20T15:34:14.334Z"
   },
   {
    "duration": 397,
    "start_time": "2022-02-20T15:34:14.791Z"
   },
   {
    "duration": 474,
    "start_time": "2022-02-20T15:34:15.191Z"
   },
   {
    "duration": 10,
    "start_time": "2022-02-20T15:34:15.667Z"
   },
   {
    "duration": 11,
    "start_time": "2022-02-20T15:34:15.679Z"
   },
   {
    "duration": 468,
    "start_time": "2022-02-20T15:34:15.693Z"
   },
   {
    "duration": 7,
    "start_time": "2022-02-20T15:34:16.163Z"
   },
   {
    "duration": 432,
    "start_time": "2022-02-20T15:34:16.173Z"
   },
   {
    "duration": 19,
    "start_time": "2022-02-20T15:34:16.607Z"
   },
   {
    "duration": 23,
    "start_time": "2022-02-20T15:34:16.630Z"
   },
   {
    "duration": 21,
    "start_time": "2022-02-20T15:34:16.655Z"
   },
   {
    "duration": 417,
    "start_time": "2022-02-20T15:34:16.678Z"
   },
   {
    "duration": -609,
    "start_time": "2022-02-20T15:34:17.706Z"
   },
   {
    "duration": -611,
    "start_time": "2022-02-20T15:34:17.709Z"
   },
   {
    "duration": -613,
    "start_time": "2022-02-20T15:34:17.713Z"
   },
   {
    "duration": -622,
    "start_time": "2022-02-20T15:34:17.723Z"
   },
   {
    "duration": -646,
    "start_time": "2022-02-20T15:34:17.749Z"
   },
   {
    "duration": -648,
    "start_time": "2022-02-20T15:34:17.752Z"
   },
   {
    "duration": -650,
    "start_time": "2022-02-20T15:34:17.756Z"
   },
   {
    "duration": -651,
    "start_time": "2022-02-20T15:34:17.758Z"
   },
   {
    "duration": -653,
    "start_time": "2022-02-20T15:34:17.761Z"
   },
   {
    "duration": -655,
    "start_time": "2022-02-20T15:34:17.765Z"
   },
   {
    "duration": -656,
    "start_time": "2022-02-20T15:34:17.768Z"
   },
   {
    "duration": 12,
    "start_time": "2022-02-20T15:41:23.657Z"
   },
   {
    "duration": 264,
    "start_time": "2022-02-20T15:41:23.672Z"
   },
   {
    "duration": -644,
    "start_time": "2022-02-20T15:41:24.583Z"
   },
   {
    "duration": -649,
    "start_time": "2022-02-20T15:41:24.589Z"
   },
   {
    "duration": -650,
    "start_time": "2022-02-20T15:41:24.592Z"
   },
   {
    "duration": -653,
    "start_time": "2022-02-20T15:41:24.596Z"
   },
   {
    "duration": -656,
    "start_time": "2022-02-20T15:41:24.602Z"
   },
   {
    "duration": -659,
    "start_time": "2022-02-20T15:41:24.606Z"
   },
   {
    "duration": -669,
    "start_time": "2022-02-20T15:41:24.617Z"
   },
   {
    "duration": -674,
    "start_time": "2022-02-20T15:41:24.624Z"
   },
   {
    "duration": -677,
    "start_time": "2022-02-20T15:41:24.628Z"
   },
   {
    "duration": 9,
    "start_time": "2022-02-20T15:46:44.623Z"
   },
   {
    "duration": 9,
    "start_time": "2022-02-20T15:46:44.634Z"
   },
   {
    "duration": 6,
    "start_time": "2022-02-20T15:46:44.646Z"
   },
   {
    "duration": 20,
    "start_time": "2022-02-20T15:46:44.655Z"
   },
   {
    "duration": 395,
    "start_time": "2022-02-20T15:46:44.677Z"
   },
   {
    "duration": -734,
    "start_time": "2022-02-20T15:46:45.809Z"
   },
   {
    "duration": -737,
    "start_time": "2022-02-20T15:46:45.814Z"
   },
   {
    "duration": -739,
    "start_time": "2022-02-20T15:46:45.818Z"
   },
   {
    "duration": -741,
    "start_time": "2022-02-20T15:46:45.822Z"
   },
   {
    "duration": 8,
    "start_time": "2022-02-20T15:49:57.973Z"
   },
   {
    "duration": 267,
    "start_time": "2022-02-20T15:49:58.002Z"
   },
   {
    "duration": -767,
    "start_time": "2022-02-20T15:49:59.039Z"
   },
   {
    "duration": -774,
    "start_time": "2022-02-20T15:49:59.048Z"
   },
   {
    "duration": 9,
    "start_time": "2022-02-20T15:50:02.903Z"
   },
   {
    "duration": 9,
    "start_time": "2022-02-20T15:50:02.917Z"
   },
   {
    "duration": 1126,
    "start_time": "2022-02-20T17:51:02.912Z"
   },
   {
    "duration": 3,
    "start_time": "2022-02-20T17:51:04.040Z"
   },
   {
    "duration": 75,
    "start_time": "2022-02-20T17:51:04.046Z"
   },
   {
    "duration": 9,
    "start_time": "2022-02-20T17:51:04.122Z"
   },
   {
    "duration": 7,
    "start_time": "2022-02-20T17:51:04.132Z"
   },
   {
    "duration": 4,
    "start_time": "2022-02-20T17:51:04.141Z"
   },
   {
    "duration": 12,
    "start_time": "2022-02-20T17:51:04.147Z"
   },
   {
    "duration": 11,
    "start_time": "2022-02-20T17:51:04.160Z"
   },
   {
    "duration": 7,
    "start_time": "2022-02-20T17:51:04.173Z"
   },
   {
    "duration": 8,
    "start_time": "2022-02-20T17:51:04.182Z"
   },
   {
    "duration": 6,
    "start_time": "2022-02-20T17:51:04.191Z"
   },
   {
    "duration": 15,
    "start_time": "2022-02-20T17:51:04.199Z"
   },
   {
    "duration": 8,
    "start_time": "2022-02-20T17:51:04.215Z"
   },
   {
    "duration": 6,
    "start_time": "2022-02-20T17:51:04.224Z"
   },
   {
    "duration": 14,
    "start_time": "2022-02-20T17:51:04.232Z"
   },
   {
    "duration": 4,
    "start_time": "2022-02-20T17:51:04.247Z"
   },
   {
    "duration": 9,
    "start_time": "2022-02-20T17:51:04.252Z"
   },
   {
    "duration": 268,
    "start_time": "2022-02-20T17:51:04.262Z"
   },
   {
    "duration": 4,
    "start_time": "2022-02-20T17:51:04.532Z"
   },
   {
    "duration": 14,
    "start_time": "2022-02-20T17:51:04.537Z"
   },
   {
    "duration": 257,
    "start_time": "2022-02-20T17:51:04.552Z"
   },
   {
    "duration": 20,
    "start_time": "2022-02-20T17:51:04.811Z"
   },
   {
    "duration": 27,
    "start_time": "2022-02-20T17:51:04.832Z"
   },
   {
    "duration": 6,
    "start_time": "2022-02-20T17:51:04.860Z"
   },
   {
    "duration": 6,
    "start_time": "2022-02-20T17:51:04.867Z"
   },
   {
    "duration": 10,
    "start_time": "2022-02-20T17:51:04.875Z"
   },
   {
    "duration": 203,
    "start_time": "2022-02-20T17:51:04.888Z"
   },
   {
    "duration": 188,
    "start_time": "2022-02-20T17:51:05.093Z"
   },
   {
    "duration": 275,
    "start_time": "2022-02-20T17:51:05.282Z"
   },
   {
    "duration": 197,
    "start_time": "2022-02-20T17:51:05.558Z"
   },
   {
    "duration": 296,
    "start_time": "2022-02-20T17:51:05.757Z"
   },
   {
    "duration": 6,
    "start_time": "2022-02-20T17:51:06.055Z"
   },
   {
    "duration": 6,
    "start_time": "2022-02-20T17:51:06.062Z"
   },
   {
    "duration": 331,
    "start_time": "2022-02-20T17:51:06.070Z"
   },
   {
    "duration": 5,
    "start_time": "2022-02-20T17:51:06.403Z"
   },
   {
    "duration": 278,
    "start_time": "2022-02-20T17:51:06.409Z"
   },
   {
    "duration": 4,
    "start_time": "2022-02-20T17:51:06.689Z"
   },
   {
    "duration": 11,
    "start_time": "2022-02-20T17:51:06.694Z"
   },
   {
    "duration": 8,
    "start_time": "2022-02-20T17:51:06.706Z"
   },
   {
    "duration": 414,
    "start_time": "2022-02-20T17:51:06.715Z"
   },
   {
    "duration": 1106,
    "start_time": "2022-02-20T17:51:06.024Z"
   },
   {
    "duration": 1106,
    "start_time": "2022-02-20T17:51:06.025Z"
   },
   {
    "duration": 1105,
    "start_time": "2022-02-20T17:51:06.027Z"
   },
   {
    "duration": 1105,
    "start_time": "2022-02-20T17:51:06.028Z"
   },
   {
    "duration": 1104,
    "start_time": "2022-02-20T17:51:06.030Z"
   },
   {
    "duration": 1104,
    "start_time": "2022-02-20T17:51:06.031Z"
   },
   {
    "duration": 1069,
    "start_time": "2022-02-20T17:51:06.067Z"
   },
   {
    "duration": 1065,
    "start_time": "2022-02-20T17:51:06.072Z"
   },
   {
    "duration": 1064,
    "start_time": "2022-02-20T17:51:06.074Z"
   },
   {
    "duration": 1063,
    "start_time": "2022-02-20T17:51:06.076Z"
   },
   {
    "duration": 1060,
    "start_time": "2022-02-20T17:51:06.080Z"
   },
   {
    "duration": 6,
    "start_time": "2022-02-20T17:51:40.491Z"
   },
   {
    "duration": 5,
    "start_time": "2022-02-20T17:51:54.669Z"
   },
   {
    "duration": 367,
    "start_time": "2022-02-20T17:52:07.154Z"
   },
   {
    "duration": 8,
    "start_time": "2022-02-20T17:52:11.092Z"
   },
   {
    "duration": 6,
    "start_time": "2022-02-20T17:52:20.785Z"
   },
   {
    "duration": 5,
    "start_time": "2022-02-20T17:52:29.075Z"
   },
   {
    "duration": 5,
    "start_time": "2022-02-20T17:52:39.411Z"
   },
   {
    "duration": 3,
    "start_time": "2022-02-20T17:53:34.939Z"
   },
   {
    "duration": 2,
    "start_time": "2022-02-20T17:53:38.522Z"
   },
   {
    "duration": 8,
    "start_time": "2022-02-20T17:53:38.527Z"
   },
   {
    "duration": 66,
    "start_time": "2022-02-20T17:53:38.537Z"
   },
   {
    "duration": 8,
    "start_time": "2022-02-20T17:53:38.604Z"
   },
   {
    "duration": 7,
    "start_time": "2022-02-20T17:53:38.613Z"
   },
   {
    "duration": 7,
    "start_time": "2022-02-20T17:53:38.621Z"
   },
   {
    "duration": 12,
    "start_time": "2022-02-20T17:53:38.630Z"
   },
   {
    "duration": 8,
    "start_time": "2022-02-20T17:53:38.643Z"
   },
   {
    "duration": 5,
    "start_time": "2022-02-20T17:53:38.653Z"
   },
   {
    "duration": 6,
    "start_time": "2022-02-20T17:53:38.660Z"
   },
   {
    "duration": 5,
    "start_time": "2022-02-20T17:53:38.668Z"
   },
   {
    "duration": 12,
    "start_time": "2022-02-20T17:53:38.674Z"
   },
   {
    "duration": 6,
    "start_time": "2022-02-20T17:53:38.687Z"
   },
   {
    "duration": 10,
    "start_time": "2022-02-20T17:53:38.694Z"
   },
   {
    "duration": 5,
    "start_time": "2022-02-20T17:53:38.705Z"
   },
   {
    "duration": 6,
    "start_time": "2022-02-20T17:53:38.711Z"
   },
   {
    "duration": 4,
    "start_time": "2022-02-20T17:53:38.746Z"
   },
   {
    "duration": 6,
    "start_time": "2022-02-20T17:53:38.752Z"
   },
   {
    "duration": 5,
    "start_time": "2022-02-20T17:53:38.760Z"
   },
   {
    "duration": 6,
    "start_time": "2022-02-20T17:53:38.767Z"
   },
   {
    "duration": 5,
    "start_time": "2022-02-20T17:53:38.775Z"
   },
   {
    "duration": 5,
    "start_time": "2022-02-20T17:53:38.782Z"
   },
   {
    "duration": 12,
    "start_time": "2022-02-20T17:53:38.788Z"
   },
   {
    "duration": 307,
    "start_time": "2022-02-20T17:53:38.802Z"
   },
   {
    "duration": 4,
    "start_time": "2022-02-20T17:53:39.111Z"
   },
   {
    "duration": 18,
    "start_time": "2022-02-20T17:53:39.117Z"
   },
   {
    "duration": 352,
    "start_time": "2022-02-20T17:53:39.148Z"
   },
   {
    "duration": 23,
    "start_time": "2022-02-20T17:53:39.503Z"
   },
   {
    "duration": 35,
    "start_time": "2022-02-20T17:53:39.528Z"
   },
   {
    "duration": 5,
    "start_time": "2022-02-20T17:53:39.564Z"
   },
   {
    "duration": 8,
    "start_time": "2022-02-20T17:53:39.571Z"
   },
   {
    "duration": 13,
    "start_time": "2022-02-20T17:53:39.581Z"
   },
   {
    "duration": 252,
    "start_time": "2022-02-20T17:53:39.596Z"
   },
   {
    "duration": 189,
    "start_time": "2022-02-20T17:53:39.850Z"
   },
   {
    "duration": 313,
    "start_time": "2022-02-20T17:53:40.041Z"
   },
   {
    "duration": 212,
    "start_time": "2022-02-20T17:53:40.355Z"
   },
   {
    "duration": 289,
    "start_time": "2022-02-20T17:53:40.568Z"
   },
   {
    "duration": 6,
    "start_time": "2022-02-20T17:53:40.858Z"
   },
   {
    "duration": 6,
    "start_time": "2022-02-20T17:53:40.865Z"
   },
   {
    "duration": 247,
    "start_time": "2022-02-20T17:53:40.872Z"
   },
   {
    "duration": 4,
    "start_time": "2022-02-20T17:53:41.120Z"
   },
   {
    "duration": 290,
    "start_time": "2022-02-20T17:53:41.125Z"
   },
   {
    "duration": 4,
    "start_time": "2022-02-20T17:53:41.417Z"
   },
   {
    "duration": 25,
    "start_time": "2022-02-20T17:53:41.422Z"
   },
   {
    "duration": 6,
    "start_time": "2022-02-20T17:53:41.448Z"
   },
   {
    "duration": 74,
    "start_time": "2022-02-20T17:53:41.456Z"
   },
   {
    "duration": 7,
    "start_time": "2022-02-20T17:53:41.546Z"
   },
   {
    "duration": 11,
    "start_time": "2022-02-20T17:53:41.555Z"
   },
   {
    "duration": 5,
    "start_time": "2022-02-20T17:53:41.567Z"
   },
   {
    "duration": 6,
    "start_time": "2022-02-20T17:53:41.574Z"
   },
   {
    "duration": 5,
    "start_time": "2022-02-20T17:53:41.581Z"
   },
   {
    "duration": 16,
    "start_time": "2022-02-20T17:53:41.587Z"
   },
   {
    "duration": 9,
    "start_time": "2022-02-20T17:53:41.605Z"
   },
   {
    "duration": 6,
    "start_time": "2022-02-20T17:53:41.615Z"
   },
   {
    "duration": 7,
    "start_time": "2022-02-20T17:53:41.646Z"
   },
   {
    "duration": 5,
    "start_time": "2022-02-20T17:53:41.654Z"
   },
   {
    "duration": 5,
    "start_time": "2022-02-20T17:53:41.660Z"
   },
   {
    "duration": 8,
    "start_time": "2022-02-20T17:57:30.565Z"
   },
   {
    "duration": 327,
    "start_time": "2022-02-20T17:58:19.206Z"
   },
   {
    "duration": 329,
    "start_time": "2022-02-20T18:04:14.283Z"
   },
   {
    "duration": 6,
    "start_time": "2022-02-20T18:04:23.250Z"
   },
   {
    "duration": 7,
    "start_time": "2022-02-20T18:07:15.991Z"
   },
   {
    "duration": 8,
    "start_time": "2022-02-20T18:07:26.769Z"
   },
   {
    "duration": 7,
    "start_time": "2022-02-20T18:08:13.858Z"
   },
   {
    "duration": 8355,
    "start_time": "2022-02-20T18:16:34.036Z"
   },
   {
    "duration": 611,
    "start_time": "2022-02-20T18:17:06.398Z"
   },
   {
    "duration": 11,
    "start_time": "2022-02-20T18:17:40.304Z"
   },
   {
    "duration": 4169,
    "start_time": "2022-02-20T18:22:40.785Z"
   },
   {
    "duration": 8510,
    "start_time": "2022-02-20T18:24:23.372Z"
   },
   {
    "duration": 327,
    "start_time": "2022-02-20T18:24:56.732Z"
   },
   {
    "duration": 7,
    "start_time": "2022-02-20T18:25:00.995Z"
   },
   {
    "duration": 11,
    "start_time": "2022-02-20T18:25:47.928Z"
   },
   {
    "duration": 7,
    "start_time": "2022-02-20T18:25:49.674Z"
   },
   {
    "duration": 7,
    "start_time": "2022-02-20T18:26:59.566Z"
   },
   {
    "duration": 8,
    "start_time": "2022-02-20T18:28:22.558Z"
   },
   {
    "duration": 8325,
    "start_time": "2022-02-20T18:30:03.251Z"
   },
   {
    "duration": 6,
    "start_time": "2022-02-20T18:30:15.708Z"
   },
   {
    "duration": 4,
    "start_time": "2022-02-20T18:31:03.752Z"
   },
   {
    "duration": 11,
    "start_time": "2022-02-20T18:31:17.457Z"
   },
   {
    "duration": 17,
    "start_time": "2022-02-20T18:32:11.698Z"
   },
   {
    "duration": 101,
    "start_time": "2022-02-20T18:32:22.723Z"
   },
   {
    "duration": 8,
    "start_time": "2022-02-20T18:32:27.708Z"
   },
   {
    "duration": 8,
    "start_time": "2022-02-20T18:32:29.102Z"
   },
   {
    "duration": 10,
    "start_time": "2022-02-20T18:32:33.533Z"
   },
   {
    "duration": 318,
    "start_time": "2022-02-20T18:32:33.700Z"
   },
   {
    "duration": 6,
    "start_time": "2022-02-20T18:32:34.341Z"
   },
   {
    "duration": 334,
    "start_time": "2022-02-20T18:32:35.075Z"
   },
   {
    "duration": 5,
    "start_time": "2022-02-20T18:32:35.760Z"
   },
   {
    "duration": 10,
    "start_time": "2022-02-20T18:32:36.757Z"
   },
   {
    "duration": 8,
    "start_time": "2022-02-20T18:32:37.222Z"
   },
   {
    "duration": 7,
    "start_time": "2022-02-20T18:32:42.680Z"
   },
   {
    "duration": 7,
    "start_time": "2022-02-20T18:32:46.615Z"
   },
   {
    "duration": 9,
    "start_time": "2022-02-20T18:32:50.202Z"
   },
   {
    "duration": 8,
    "start_time": "2022-02-20T18:33:02.370Z"
   },
   {
    "duration": 4,
    "start_time": "2022-02-20T18:33:52.416Z"
   },
   {
    "duration": 10,
    "start_time": "2022-02-20T18:33:53.275Z"
   },
   {
    "duration": 4,
    "start_time": "2022-02-20T18:36:11.110Z"
   },
   {
    "duration": 16,
    "start_time": "2022-02-20T18:36:14.378Z"
   },
   {
    "duration": 8,
    "start_time": "2022-02-20T18:36:21.613Z"
   },
   {
    "duration": 320,
    "start_time": "2022-02-21T05:18:44.885Z"
   },
   {
    "duration": 1164,
    "start_time": "2022-02-21T05:18:47.931Z"
   },
   {
    "duration": 4,
    "start_time": "2022-02-21T05:18:49.097Z"
   },
   {
    "duration": 69,
    "start_time": "2022-02-21T05:18:49.103Z"
   },
   {
    "duration": 11,
    "start_time": "2022-02-21T05:18:49.173Z"
   },
   {
    "duration": 40,
    "start_time": "2022-02-21T05:18:49.186Z"
   },
   {
    "duration": 41,
    "start_time": "2022-02-21T05:18:49.227Z"
   },
   {
    "duration": 30,
    "start_time": "2022-02-21T05:18:49.269Z"
   },
   {
    "duration": 30,
    "start_time": "2022-02-21T05:18:49.301Z"
   },
   {
    "duration": 28,
    "start_time": "2022-02-21T05:18:49.334Z"
   },
   {
    "duration": 24,
    "start_time": "2022-02-21T05:18:49.364Z"
   },
   {
    "duration": 21,
    "start_time": "2022-02-21T05:18:49.389Z"
   },
   {
    "duration": 31,
    "start_time": "2022-02-21T05:18:49.412Z"
   },
   {
    "duration": 42,
    "start_time": "2022-02-21T05:18:49.445Z"
   },
   {
    "duration": 25,
    "start_time": "2022-02-21T05:18:49.489Z"
   },
   {
    "duration": 23,
    "start_time": "2022-02-21T05:18:49.516Z"
   },
   {
    "duration": 19,
    "start_time": "2022-02-21T05:18:49.541Z"
   },
   {
    "duration": 38,
    "start_time": "2022-02-21T05:18:49.561Z"
   },
   {
    "duration": 30,
    "start_time": "2022-02-21T05:18:49.600Z"
   },
   {
    "duration": 32,
    "start_time": "2022-02-21T05:18:49.632Z"
   },
   {
    "duration": 37,
    "start_time": "2022-02-21T05:18:49.666Z"
   },
   {
    "duration": 20,
    "start_time": "2022-02-21T05:18:49.705Z"
   },
   {
    "duration": 21,
    "start_time": "2022-02-21T05:18:49.726Z"
   },
   {
    "duration": 21,
    "start_time": "2022-02-21T05:18:49.748Z"
   },
   {
    "duration": 316,
    "start_time": "2022-02-21T05:18:49.771Z"
   },
   {
    "duration": 5,
    "start_time": "2022-02-21T05:18:50.089Z"
   },
   {
    "duration": 46,
    "start_time": "2022-02-21T05:18:50.096Z"
   },
   {
    "duration": 309,
    "start_time": "2022-02-21T05:18:50.146Z"
   },
   {
    "duration": 24,
    "start_time": "2022-02-21T05:18:50.458Z"
   },
   {
    "duration": 21,
    "start_time": "2022-02-21T05:18:50.484Z"
   },
   {
    "duration": 28,
    "start_time": "2022-02-21T05:18:50.519Z"
   },
   {
    "duration": 28,
    "start_time": "2022-02-21T05:18:50.549Z"
   },
   {
    "duration": 26,
    "start_time": "2022-02-21T05:18:50.579Z"
   },
   {
    "duration": 228,
    "start_time": "2022-02-21T05:18:50.607Z"
   },
   {
    "duration": 215,
    "start_time": "2022-02-21T05:18:50.836Z"
   },
   {
    "duration": 300,
    "start_time": "2022-02-21T05:18:51.053Z"
   },
   {
    "duration": 226,
    "start_time": "2022-02-21T05:18:51.354Z"
   },
   {
    "duration": 342,
    "start_time": "2022-02-21T05:18:51.582Z"
   },
   {
    "duration": 8,
    "start_time": "2022-02-21T05:18:51.926Z"
   },
   {
    "duration": 6,
    "start_time": "2022-02-21T05:18:51.936Z"
   },
   {
    "duration": 379,
    "start_time": "2022-02-21T05:18:51.944Z"
   },
   {
    "duration": 5,
    "start_time": "2022-02-21T05:18:52.324Z"
   },
   {
    "duration": 304,
    "start_time": "2022-02-21T05:18:52.330Z"
   },
   {
    "duration": 5,
    "start_time": "2022-02-21T05:18:52.636Z"
   },
   {
    "duration": 13,
    "start_time": "2022-02-21T05:18:52.642Z"
   },
   {
    "duration": 6,
    "start_time": "2022-02-21T05:18:52.657Z"
   },
   {
    "duration": 288,
    "start_time": "2022-02-21T05:18:52.665Z"
   },
   {
    "duration": -2,
    "start_time": "2022-02-21T05:18:52.957Z"
   },
   {
    "duration": -3,
    "start_time": "2022-02-21T05:18:52.959Z"
   },
   {
    "duration": -18,
    "start_time": "2022-02-21T05:18:52.975Z"
   },
   {
    "duration": -57,
    "start_time": "2022-02-21T05:18:53.015Z"
   },
   {
    "duration": -58,
    "start_time": "2022-02-21T05:18:53.017Z"
   },
   {
    "duration": -58,
    "start_time": "2022-02-21T05:18:53.018Z"
   },
   {
    "duration": -59,
    "start_time": "2022-02-21T05:18:53.020Z"
   },
   {
    "duration": -64,
    "start_time": "2022-02-21T05:18:53.026Z"
   },
   {
    "duration": -65,
    "start_time": "2022-02-21T05:18:53.028Z"
   },
   {
    "duration": -65,
    "start_time": "2022-02-21T05:18:53.029Z"
   },
   {
    "duration": -66,
    "start_time": "2022-02-21T05:18:53.031Z"
   },
   {
    "duration": -71,
    "start_time": "2022-02-21T05:18:53.037Z"
   },
   {
    "duration": -88,
    "start_time": "2022-02-21T05:18:53.055Z"
   },
   {
    "duration": 4,
    "start_time": "2022-02-21T05:19:06.241Z"
   },
   {
    "duration": 3,
    "start_time": "2022-02-21T05:19:06.393Z"
   },
   {
    "duration": 33,
    "start_time": "2022-02-21T05:19:06.563Z"
   },
   {
    "duration": 9,
    "start_time": "2022-02-21T05:19:06.756Z"
   },
   {
    "duration": 7,
    "start_time": "2022-02-21T05:19:07.070Z"
   },
   {
    "duration": 4,
    "start_time": "2022-02-21T05:19:07.412Z"
   },
   {
    "duration": 8,
    "start_time": "2022-02-21T05:19:07.574Z"
   },
   {
    "duration": 8,
    "start_time": "2022-02-21T05:19:07.759Z"
   },
   {
    "duration": 7,
    "start_time": "2022-02-21T05:19:07.937Z"
   },
   {
    "duration": 5,
    "start_time": "2022-02-21T05:19:08.116Z"
   },
   {
    "duration": 3,
    "start_time": "2022-02-21T05:19:08.415Z"
   },
   {
    "duration": 13,
    "start_time": "2022-02-21T05:19:08.596Z"
   },
   {
    "duration": 8,
    "start_time": "2022-02-21T05:19:08.754Z"
   },
   {
    "duration": 6,
    "start_time": "2022-02-21T05:19:08.911Z"
   },
   {
    "duration": 4,
    "start_time": "2022-02-21T05:19:09.089Z"
   },
   {
    "duration": 6,
    "start_time": "2022-02-21T05:19:09.394Z"
   },
   {
    "duration": 6,
    "start_time": "2022-02-21T05:19:09.578Z"
   },
   {
    "duration": 7,
    "start_time": "2022-02-21T05:19:09.730Z"
   },
   {
    "duration": 6,
    "start_time": "2022-02-21T05:19:09.902Z"
   },
   {
    "duration": 7,
    "start_time": "2022-02-21T05:19:11.326Z"
   },
   {
    "duration": 6,
    "start_time": "2022-02-21T05:19:11.474Z"
   },
   {
    "duration": 5,
    "start_time": "2022-02-21T05:19:11.859Z"
   },
   {
    "duration": 10,
    "start_time": "2022-02-21T05:19:12.052Z"
   },
   {
    "duration": 290,
    "start_time": "2022-02-21T05:19:12.231Z"
   },
   {
    "duration": 5,
    "start_time": "2022-02-21T05:19:12.570Z"
   },
   {
    "duration": 10,
    "start_time": "2022-02-21T05:19:12.766Z"
   },
   {
    "duration": 283,
    "start_time": "2022-02-21T05:19:12.889Z"
   },
   {
    "duration": 20,
    "start_time": "2022-02-21T05:19:14.121Z"
   },
   {
    "duration": 17,
    "start_time": "2022-02-21T05:19:14.423Z"
   },
   {
    "duration": 5,
    "start_time": "2022-02-21T05:19:14.608Z"
   },
   {
    "duration": 5,
    "start_time": "2022-02-21T05:19:14.741Z"
   },
   {
    "duration": 11,
    "start_time": "2022-02-21T05:19:14.922Z"
   },
   {
    "duration": 346,
    "start_time": "2022-02-21T05:19:15.380Z"
   },
   {
    "duration": 190,
    "start_time": "2022-02-21T05:19:16.135Z"
   },
   {
    "duration": 343,
    "start_time": "2022-02-21T05:19:17.011Z"
   },
   {
    "duration": 214,
    "start_time": "2022-02-21T05:19:17.717Z"
   },
   {
    "duration": 307,
    "start_time": "2022-02-21T05:19:18.256Z"
   },
   {
    "duration": 10,
    "start_time": "2022-02-21T05:19:19.521Z"
   },
   {
    "duration": 8,
    "start_time": "2022-02-21T05:19:19.706Z"
   },
   {
    "duration": 259,
    "start_time": "2022-02-21T05:19:19.867Z"
   },
   {
    "duration": 5,
    "start_time": "2022-02-21T05:19:20.412Z"
   },
   {
    "duration": 301,
    "start_time": "2022-02-21T05:19:20.906Z"
   },
   {
    "duration": 5,
    "start_time": "2022-02-21T05:19:21.557Z"
   },
   {
    "duration": 12,
    "start_time": "2022-02-21T05:19:23.193Z"
   },
   {
    "duration": 13,
    "start_time": "2022-02-21T05:19:23.207Z"
   },
   {
    "duration": 245,
    "start_time": "2022-02-21T05:19:23.222Z"
   },
   {
    "duration": 10,
    "start_time": "2022-02-21T05:19:39.473Z"
   },
   {
    "duration": 9,
    "start_time": "2022-02-21T05:20:03.566Z"
   },
   {
    "duration": 8,
    "start_time": "2022-02-21T05:20:16.286Z"
   },
   {
    "duration": 9,
    "start_time": "2022-02-21T05:20:17.942Z"
   },
   {
    "duration": 11,
    "start_time": "2022-02-21T05:20:55.084Z"
   },
   {
    "duration": 10,
    "start_time": "2022-02-21T05:21:41.908Z"
   },
   {
    "duration": 7,
    "start_time": "2022-02-21T05:22:01.908Z"
   },
   {
    "duration": 7,
    "start_time": "2022-02-21T05:22:02.102Z"
   },
   {
    "duration": 91,
    "start_time": "2022-02-21T05:22:07.096Z"
   },
   {
    "duration": 7,
    "start_time": "2022-02-21T05:22:07.980Z"
   },
   {
    "duration": 7,
    "start_time": "2022-02-21T05:22:17.889Z"
   },
   {
    "duration": 12,
    "start_time": "2022-02-21T05:22:22.681Z"
   },
   {
    "duration": 8,
    "start_time": "2022-02-21T05:22:24.030Z"
   },
   {
    "duration": 256,
    "start_time": "2022-02-21T05:22:38.811Z"
   },
   {
    "duration": 9,
    "start_time": "2022-02-21T05:22:52.151Z"
   },
   {
    "duration": 9,
    "start_time": "2022-02-21T05:23:16.173Z"
   },
   {
    "duration": 7,
    "start_time": "2022-02-21T05:24:44.010Z"
   },
   {
    "duration": 8,
    "start_time": "2022-02-21T05:24:44.430Z"
   },
   {
    "duration": 6,
    "start_time": "2022-02-21T05:24:45.771Z"
   },
   {
    "duration": 6,
    "start_time": "2022-02-21T05:24:46.390Z"
   },
   {
    "duration": 1485,
    "start_time": "2022-02-21T09:12:13.973Z"
   },
   {
    "duration": 3,
    "start_time": "2022-02-21T09:12:15.461Z"
   },
   {
    "duration": 43,
    "start_time": "2022-02-21T09:12:15.468Z"
   },
   {
    "duration": 15,
    "start_time": "2022-02-21T09:12:15.515Z"
   },
   {
    "duration": 13,
    "start_time": "2022-02-21T09:12:15.532Z"
   },
   {
    "duration": 5,
    "start_time": "2022-02-21T09:12:15.548Z"
   },
   {
    "duration": 14,
    "start_time": "2022-02-21T09:12:15.555Z"
   },
   {
    "duration": 11,
    "start_time": "2022-02-21T09:12:15.594Z"
   },
   {
    "duration": 8,
    "start_time": "2022-02-21T09:12:15.608Z"
   },
   {
    "duration": 8,
    "start_time": "2022-02-21T09:12:15.619Z"
   },
   {
    "duration": 6,
    "start_time": "2022-02-21T09:12:15.629Z"
   },
   {
    "duration": 58,
    "start_time": "2022-02-21T09:12:15.637Z"
   },
   {
    "duration": 10,
    "start_time": "2022-02-21T09:12:15.697Z"
   },
   {
    "duration": 14,
    "start_time": "2022-02-21T09:12:15.710Z"
   },
   {
    "duration": 21,
    "start_time": "2022-02-21T09:12:15.726Z"
   },
   {
    "duration": 10,
    "start_time": "2022-02-21T09:12:15.750Z"
   },
   {
    "duration": 15,
    "start_time": "2022-02-21T09:12:15.762Z"
   },
   {
    "duration": 9,
    "start_time": "2022-02-21T09:12:15.795Z"
   },
   {
    "duration": 8,
    "start_time": "2022-02-21T09:12:15.807Z"
   },
   {
    "duration": 8,
    "start_time": "2022-02-21T09:12:15.817Z"
   },
   {
    "duration": 9,
    "start_time": "2022-02-21T09:12:15.827Z"
   },
   {
    "duration": 10,
    "start_time": "2022-02-21T09:12:15.839Z"
   },
   {
    "duration": 48,
    "start_time": "2022-02-21T09:12:15.855Z"
   },
   {
    "duration": 462,
    "start_time": "2022-02-21T09:12:15.907Z"
   },
   {
    "duration": 5,
    "start_time": "2022-02-21T09:12:16.372Z"
   },
   {
    "duration": 28,
    "start_time": "2022-02-21T09:12:16.380Z"
   },
   {
    "duration": 440,
    "start_time": "2022-02-21T09:12:16.411Z"
   },
   {
    "duration": 54,
    "start_time": "2022-02-21T09:12:16.854Z"
   },
   {
    "duration": 28,
    "start_time": "2022-02-21T09:12:16.911Z"
   },
   {
    "duration": 7,
    "start_time": "2022-02-21T09:12:16.941Z"
   },
   {
    "duration": 8,
    "start_time": "2022-02-21T09:12:16.951Z"
   },
   {
    "duration": 42,
    "start_time": "2022-02-21T09:12:16.961Z"
   },
   {
    "duration": 326,
    "start_time": "2022-02-21T09:12:17.005Z"
   },
   {
    "duration": 340,
    "start_time": "2022-02-21T09:12:17.334Z"
   },
   {
    "duration": 432,
    "start_time": "2022-02-21T09:12:17.676Z"
   },
   {
    "duration": 356,
    "start_time": "2022-02-21T09:12:18.111Z"
   },
   {
    "duration": 439,
    "start_time": "2022-02-21T09:12:18.469Z"
   },
   {
    "duration": 11,
    "start_time": "2022-02-21T09:12:18.911Z"
   },
   {
    "duration": 11,
    "start_time": "2022-02-21T09:12:18.924Z"
   },
   {
    "duration": 448,
    "start_time": "2022-02-21T09:12:18.938Z"
   },
   {
    "duration": 8,
    "start_time": "2022-02-21T09:12:19.389Z"
   },
   {
    "duration": 387,
    "start_time": "2022-02-21T09:12:19.399Z"
   },
   {
    "duration": 7,
    "start_time": "2022-02-21T09:12:19.793Z"
   },
   {
    "duration": 17,
    "start_time": "2022-02-21T09:12:19.803Z"
   },
   {
    "duration": 12,
    "start_time": "2022-02-21T09:12:19.822Z"
   },
   {
    "duration": 14,
    "start_time": "2022-02-21T09:12:19.837Z"
   },
   {
    "duration": 53,
    "start_time": "2022-02-21T09:12:19.853Z"
   },
   {
    "duration": 19,
    "start_time": "2022-02-21T09:12:19.909Z"
   },
   {
    "duration": 11,
    "start_time": "2022-02-21T09:12:19.930Z"
   },
   {
    "duration": 12,
    "start_time": "2022-02-21T09:12:19.943Z"
   },
   {
    "duration": 36,
    "start_time": "2022-02-21T09:12:19.957Z"
   },
   {
    "duration": 15,
    "start_time": "2022-02-21T09:12:19.996Z"
   },
   {
    "duration": 10,
    "start_time": "2022-02-21T09:12:20.014Z"
   },
   {
    "duration": 14,
    "start_time": "2022-02-21T09:12:20.027Z"
   },
   {
    "duration": 52,
    "start_time": "2022-02-21T09:12:20.043Z"
   },
   {
    "duration": 12,
    "start_time": "2022-02-21T09:12:20.098Z"
   },
   {
    "duration": 14,
    "start_time": "2022-02-21T09:12:20.112Z"
   },
   {
    "duration": 10,
    "start_time": "2022-02-21T09:12:20.129Z"
   },
   {
    "duration": 1455,
    "start_time": "2022-02-21T10:51:46.126Z"
   },
   {
    "duration": 4,
    "start_time": "2022-02-21T10:51:47.583Z"
   },
   {
    "duration": 46,
    "start_time": "2022-02-21T10:51:47.596Z"
   },
   {
    "duration": 15,
    "start_time": "2022-02-21T10:51:47.645Z"
   },
   {
    "duration": 9,
    "start_time": "2022-02-21T10:51:47.662Z"
   },
   {
    "duration": 4,
    "start_time": "2022-02-21T10:51:47.673Z"
   },
   {
    "duration": 22,
    "start_time": "2022-02-21T10:51:47.680Z"
   },
   {
    "duration": 16,
    "start_time": "2022-02-21T10:51:47.705Z"
   },
   {
    "duration": 8,
    "start_time": "2022-02-21T10:51:47.725Z"
   },
   {
    "duration": 12,
    "start_time": "2022-02-21T10:51:47.735Z"
   },
   {
    "duration": 6,
    "start_time": "2022-02-21T10:51:47.750Z"
   },
   {
    "duration": 47,
    "start_time": "2022-02-21T10:51:47.759Z"
   },
   {
    "duration": 21,
    "start_time": "2022-02-21T10:51:47.809Z"
   },
   {
    "duration": 11,
    "start_time": "2022-02-21T10:51:47.833Z"
   },
   {
    "duration": 12,
    "start_time": "2022-02-21T10:51:47.847Z"
   },
   {
    "duration": 33,
    "start_time": "2022-02-21T10:51:47.861Z"
   },
   {
    "duration": 9,
    "start_time": "2022-02-21T10:51:47.896Z"
   },
   {
    "duration": 12,
    "start_time": "2022-02-21T10:51:47.907Z"
   },
   {
    "duration": 10,
    "start_time": "2022-02-21T10:51:47.922Z"
   },
   {
    "duration": 10,
    "start_time": "2022-02-21T10:51:47.935Z"
   },
   {
    "duration": 10,
    "start_time": "2022-02-21T10:51:47.947Z"
   },
   {
    "duration": 8,
    "start_time": "2022-02-21T10:51:47.995Z"
   },
   {
    "duration": 25,
    "start_time": "2022-02-21T10:51:48.005Z"
   },
   {
    "duration": 493,
    "start_time": "2022-02-21T10:51:48.032Z"
   },
   {
    "duration": 6,
    "start_time": "2022-02-21T10:51:48.527Z"
   },
   {
    "duration": 19,
    "start_time": "2022-02-21T10:51:48.536Z"
   },
   {
    "duration": 474,
    "start_time": "2022-02-21T10:51:48.561Z"
   },
   {
    "duration": 31,
    "start_time": "2022-02-21T10:51:49.038Z"
   },
   {
    "duration": 43,
    "start_time": "2022-02-21T10:51:49.072Z"
   },
   {
    "duration": 14,
    "start_time": "2022-02-21T10:51:49.117Z"
   },
   {
    "duration": 8,
    "start_time": "2022-02-21T10:51:49.133Z"
   },
   {
    "duration": 18,
    "start_time": "2022-02-21T10:51:49.143Z"
   },
   {
    "duration": 378,
    "start_time": "2022-02-21T10:51:49.164Z"
   },
   {
    "duration": 357,
    "start_time": "2022-02-21T10:51:49.545Z"
   },
   {
    "duration": 443,
    "start_time": "2022-02-21T10:51:49.904Z"
   },
   {
    "duration": 371,
    "start_time": "2022-02-21T10:51:50.349Z"
   },
   {
    "duration": 431,
    "start_time": "2022-02-21T10:51:50.722Z"
   },
   {
    "duration": 13,
    "start_time": "2022-02-21T10:51:51.156Z"
   },
   {
    "duration": 28,
    "start_time": "2022-02-21T10:51:51.172Z"
   },
   {
    "duration": 488,
    "start_time": "2022-02-21T10:51:51.202Z"
   },
   {
    "duration": 8,
    "start_time": "2022-02-21T10:51:51.693Z"
   },
   {
    "duration": 399,
    "start_time": "2022-02-21T10:51:51.704Z"
   },
   {
    "duration": 6,
    "start_time": "2022-02-21T10:51:52.105Z"
   },
   {
    "duration": 27,
    "start_time": "2022-02-21T10:51:52.113Z"
   },
   {
    "duration": 13,
    "start_time": "2022-02-21T10:51:52.142Z"
   },
   {
    "duration": 36,
    "start_time": "2022-02-21T10:51:52.158Z"
   },
   {
    "duration": 12,
    "start_time": "2022-02-21T10:51:52.196Z"
   },
   {
    "duration": 17,
    "start_time": "2022-02-21T10:51:52.211Z"
   },
   {
    "duration": 8,
    "start_time": "2022-02-21T10:51:52.231Z"
   },
   {
    "duration": 7,
    "start_time": "2022-02-21T10:51:52.241Z"
   },
   {
    "duration": 44,
    "start_time": "2022-02-21T10:51:52.250Z"
   },
   {
    "duration": 16,
    "start_time": "2022-02-21T10:51:52.296Z"
   },
   {
    "duration": 9,
    "start_time": "2022-02-21T10:51:52.315Z"
   },
   {
    "duration": 17,
    "start_time": "2022-02-21T10:51:52.326Z"
   },
   {
    "duration": 9,
    "start_time": "2022-02-21T10:51:52.345Z"
   },
   {
    "duration": 11,
    "start_time": "2022-02-21T10:51:52.393Z"
   },
   {
    "duration": 17,
    "start_time": "2022-02-21T10:51:52.406Z"
   },
   {
    "duration": 13,
    "start_time": "2022-02-21T10:51:52.425Z"
   },
   {
    "duration": 12,
    "start_time": "2022-02-21T10:52:14.738Z"
   },
   {
    "duration": 365,
    "start_time": "2022-02-21T13:30:38.792Z"
   },
   {
    "duration": 1439,
    "start_time": "2022-02-21T13:30:45.329Z"
   },
   {
    "duration": 4,
    "start_time": "2022-02-21T13:30:46.770Z"
   },
   {
    "duration": 55,
    "start_time": "2022-02-21T13:30:46.777Z"
   },
   {
    "duration": 18,
    "start_time": "2022-02-21T13:30:46.835Z"
   },
   {
    "duration": 21,
    "start_time": "2022-02-21T13:30:46.856Z"
   },
   {
    "duration": 16,
    "start_time": "2022-02-21T13:30:46.880Z"
   },
   {
    "duration": 27,
    "start_time": "2022-02-21T13:30:46.899Z"
   },
   {
    "duration": 16,
    "start_time": "2022-02-21T13:30:46.929Z"
   },
   {
    "duration": 18,
    "start_time": "2022-02-21T13:30:46.949Z"
   },
   {
    "duration": 13,
    "start_time": "2022-02-21T13:30:46.970Z"
   },
   {
    "duration": 8,
    "start_time": "2022-02-21T13:30:46.985Z"
   },
   {
    "duration": 27,
    "start_time": "2022-02-21T13:30:46.996Z"
   },
   {
    "duration": 9,
    "start_time": "2022-02-21T13:30:47.026Z"
   },
   {
    "duration": 36,
    "start_time": "2022-02-21T13:30:47.038Z"
   },
   {
    "duration": 17,
    "start_time": "2022-02-21T13:30:47.077Z"
   },
   {
    "duration": 18,
    "start_time": "2022-02-21T13:30:47.096Z"
   },
   {
    "duration": 23,
    "start_time": "2022-02-21T13:30:47.117Z"
   },
   {
    "duration": 19,
    "start_time": "2022-02-21T13:30:47.144Z"
   },
   {
    "duration": 31,
    "start_time": "2022-02-21T13:30:47.166Z"
   },
   {
    "duration": 36,
    "start_time": "2022-02-21T13:30:47.200Z"
   },
   {
    "duration": 24,
    "start_time": "2022-02-21T13:30:47.239Z"
   },
   {
    "duration": 19,
    "start_time": "2022-02-21T13:30:47.266Z"
   },
   {
    "duration": 22,
    "start_time": "2022-02-21T13:30:47.288Z"
   },
   {
    "duration": 508,
    "start_time": "2022-02-21T13:30:47.312Z"
   },
   {
    "duration": 7,
    "start_time": "2022-02-21T13:30:47.823Z"
   },
   {
    "duration": 24,
    "start_time": "2022-02-21T13:30:47.833Z"
   },
   {
    "duration": 470,
    "start_time": "2022-02-21T13:30:47.863Z"
   },
   {
    "duration": 32,
    "start_time": "2022-02-21T13:30:48.336Z"
   },
   {
    "duration": 46,
    "start_time": "2022-02-21T13:30:48.370Z"
   },
   {
    "duration": 7,
    "start_time": "2022-02-21T13:30:48.418Z"
   },
   {
    "duration": 9,
    "start_time": "2022-02-21T13:30:48.428Z"
   },
   {
    "duration": 16,
    "start_time": "2022-02-21T13:30:48.440Z"
   },
   {
    "duration": 372,
    "start_time": "2022-02-21T13:30:48.459Z"
   },
   {
    "duration": 356,
    "start_time": "2022-02-21T13:30:48.833Z"
   },
   {
    "duration": 451,
    "start_time": "2022-02-21T13:30:49.195Z"
   },
   {
    "duration": 423,
    "start_time": "2022-02-21T13:30:49.649Z"
   },
   {
    "duration": 510,
    "start_time": "2022-02-21T13:30:50.075Z"
   },
   {
    "duration": 16,
    "start_time": "2022-02-21T13:30:50.587Z"
   },
   {
    "duration": 9,
    "start_time": "2022-02-21T13:30:50.605Z"
   },
   {
    "duration": 460,
    "start_time": "2022-02-21T13:30:50.616Z"
   },
   {
    "duration": 15,
    "start_time": "2022-02-21T13:30:51.079Z"
   },
   {
    "duration": 421,
    "start_time": "2022-02-21T13:30:51.096Z"
   },
   {
    "duration": 7,
    "start_time": "2022-02-21T13:30:51.520Z"
   },
   {
    "duration": 20,
    "start_time": "2022-02-21T13:30:51.529Z"
   },
   {
    "duration": 17,
    "start_time": "2022-02-21T13:30:51.552Z"
   },
   {
    "duration": 12,
    "start_time": "2022-02-21T13:30:51.594Z"
   },
   {
    "duration": 17,
    "start_time": "2022-02-21T13:30:51.609Z"
   },
   {
    "duration": 13,
    "start_time": "2022-02-21T13:30:51.629Z"
   },
   {
    "duration": 51,
    "start_time": "2022-02-21T13:30:51.645Z"
   },
   {
    "duration": 15,
    "start_time": "2022-02-21T13:30:51.699Z"
   },
   {
    "duration": 13,
    "start_time": "2022-02-21T13:30:51.717Z"
   },
   {
    "duration": 344,
    "start_time": "2022-02-21T13:30:51.733Z"
   },
   {
    "duration": 594,
    "start_time": "2022-02-21T13:30:51.486Z"
   },
   {
    "duration": 594,
    "start_time": "2022-02-21T13:30:51.489Z"
   },
   {
    "duration": 595,
    "start_time": "2022-02-21T13:30:51.490Z"
   },
   {
    "duration": 595,
    "start_time": "2022-02-21T13:30:51.492Z"
   },
   {
    "duration": 595,
    "start_time": "2022-02-21T13:30:51.494Z"
   },
   {
    "duration": 595,
    "start_time": "2022-02-21T13:30:51.496Z"
   },
   {
    "duration": 596,
    "start_time": "2022-02-21T13:30:51.497Z"
   },
   {
    "duration": 5,
    "start_time": "2022-02-21T13:30:59.999Z"
   },
   {
    "duration": 8,
    "start_time": "2022-02-21T13:31:00.013Z"
   },
   {
    "duration": 59,
    "start_time": "2022-02-21T13:31:00.024Z"
   },
   {
    "duration": 14,
    "start_time": "2022-02-21T13:31:00.086Z"
   },
   {
    "duration": 25,
    "start_time": "2022-02-21T13:31:00.103Z"
   },
   {
    "duration": 7,
    "start_time": "2022-02-21T13:31:00.130Z"
   },
   {
    "duration": 14,
    "start_time": "2022-02-21T13:31:00.139Z"
   },
   {
    "duration": 16,
    "start_time": "2022-02-21T13:31:00.155Z"
   },
   {
    "duration": 21,
    "start_time": "2022-02-21T13:31:00.174Z"
   },
   {
    "duration": 12,
    "start_time": "2022-02-21T13:31:00.199Z"
   },
   {
    "duration": 12,
    "start_time": "2022-02-21T13:31:00.214Z"
   },
   {
    "duration": 27,
    "start_time": "2022-02-21T13:31:00.228Z"
   },
   {
    "duration": 27,
    "start_time": "2022-02-21T13:31:00.258Z"
   },
   {
    "duration": 46,
    "start_time": "2022-02-21T13:31:00.287Z"
   },
   {
    "duration": 26,
    "start_time": "2022-02-21T13:31:00.336Z"
   },
   {
    "duration": 39,
    "start_time": "2022-02-21T13:31:00.365Z"
   },
   {
    "duration": 46,
    "start_time": "2022-02-21T13:31:00.406Z"
   },
   {
    "duration": 19,
    "start_time": "2022-02-21T13:31:00.454Z"
   },
   {
    "duration": 14,
    "start_time": "2022-02-21T13:31:00.475Z"
   },
   {
    "duration": 51,
    "start_time": "2022-02-21T13:31:00.492Z"
   },
   {
    "duration": 38,
    "start_time": "2022-02-21T13:31:00.545Z"
   },
   {
    "duration": 21,
    "start_time": "2022-02-21T13:31:00.586Z"
   },
   {
    "duration": 38,
    "start_time": "2022-02-21T13:31:00.610Z"
   },
   {
    "duration": 477,
    "start_time": "2022-02-21T13:31:00.651Z"
   },
   {
    "duration": 5,
    "start_time": "2022-02-21T13:31:01.131Z"
   },
   {
    "duration": 26,
    "start_time": "2022-02-21T13:31:01.139Z"
   },
   {
    "duration": 470,
    "start_time": "2022-02-21T13:31:01.168Z"
   },
   {
    "duration": 30,
    "start_time": "2022-02-21T13:31:01.644Z"
   },
   {
    "duration": 51,
    "start_time": "2022-02-21T13:31:01.677Z"
   },
   {
    "duration": 37,
    "start_time": "2022-02-21T13:31:01.730Z"
   },
   {
    "duration": 39,
    "start_time": "2022-02-21T13:31:01.769Z"
   },
   {
    "duration": 44,
    "start_time": "2022-02-21T13:31:01.810Z"
   },
   {
    "duration": 354,
    "start_time": "2022-02-21T13:31:01.857Z"
   },
   {
    "duration": 348,
    "start_time": "2022-02-21T13:31:02.214Z"
   },
   {
    "duration": 477,
    "start_time": "2022-02-21T13:31:02.564Z"
   },
   {
    "duration": 363,
    "start_time": "2022-02-21T13:31:03.043Z"
   },
   {
    "duration": 440,
    "start_time": "2022-02-21T13:31:03.409Z"
   },
   {
    "duration": 40,
    "start_time": "2022-02-21T13:31:03.853Z"
   },
   {
    "duration": 14,
    "start_time": "2022-02-21T13:31:03.897Z"
   },
   {
    "duration": 540,
    "start_time": "2022-02-21T13:31:03.923Z"
   },
   {
    "duration": 6,
    "start_time": "2022-02-21T13:31:04.493Z"
   },
   {
    "duration": 399,
    "start_time": "2022-02-21T13:31:04.501Z"
   },
   {
    "duration": 6,
    "start_time": "2022-02-21T13:31:04.902Z"
   },
   {
    "duration": 20,
    "start_time": "2022-02-21T13:31:04.911Z"
   },
   {
    "duration": 22,
    "start_time": "2022-02-21T13:31:04.933Z"
   },
   {
    "duration": 35,
    "start_time": "2022-02-21T13:31:04.957Z"
   },
   {
    "duration": 12,
    "start_time": "2022-02-21T13:31:04.995Z"
   },
   {
    "duration": 21,
    "start_time": "2022-02-21T13:31:05.009Z"
   },
   {
    "duration": 9,
    "start_time": "2022-02-21T13:31:05.032Z"
   },
   {
    "duration": 112,
    "start_time": "2022-02-21T13:31:05.044Z"
   },
   {
    "duration": 6,
    "start_time": "2022-02-21T13:31:05.158Z"
   },
   {
    "duration": 233,
    "start_time": "2022-02-21T13:31:05.166Z"
   },
   {
    "duration": 642,
    "start_time": "2022-02-21T13:31:04.759Z"
   },
   {
    "duration": 642,
    "start_time": "2022-02-21T13:31:04.761Z"
   },
   {
    "duration": 629,
    "start_time": "2022-02-21T13:31:04.777Z"
   },
   {
    "duration": 629,
    "start_time": "2022-02-21T13:31:04.779Z"
   },
   {
    "duration": 630,
    "start_time": "2022-02-21T13:31:04.780Z"
   },
   {
    "duration": 630,
    "start_time": "2022-02-21T13:31:04.782Z"
   },
   {
    "duration": 631,
    "start_time": "2022-02-21T13:31:04.783Z"
   },
   {
    "duration": 240,
    "start_time": "2022-02-21T13:31:18.652Z"
   },
   {
    "duration": 4,
    "start_time": "2022-02-21T13:31:26.776Z"
   },
   {
    "duration": 4,
    "start_time": "2022-02-21T13:31:26.975Z"
   },
   {
    "duration": 37,
    "start_time": "2022-02-21T13:31:27.156Z"
   },
   {
    "duration": 13,
    "start_time": "2022-02-21T13:31:27.323Z"
   },
   {
    "duration": 11,
    "start_time": "2022-02-21T13:31:28.080Z"
   },
   {
    "duration": 4,
    "start_time": "2022-02-21T13:31:28.240Z"
   },
   {
    "duration": 11,
    "start_time": "2022-02-21T13:31:28.420Z"
   },
   {
    "duration": 11,
    "start_time": "2022-02-21T13:31:28.564Z"
   },
   {
    "duration": 9,
    "start_time": "2022-02-21T13:31:28.768Z"
   },
   {
    "duration": 7,
    "start_time": "2022-02-21T13:31:28.908Z"
   },
   {
    "duration": 4,
    "start_time": "2022-02-21T13:31:29.403Z"
   },
   {
    "duration": 19,
    "start_time": "2022-02-21T13:31:29.577Z"
   },
   {
    "duration": 10,
    "start_time": "2022-02-21T13:31:29.744Z"
   },
   {
    "duration": 9,
    "start_time": "2022-02-21T13:31:29.896Z"
   },
   {
    "duration": 6,
    "start_time": "2022-02-21T13:31:30.103Z"
   },
   {
    "duration": 8,
    "start_time": "2022-02-21T13:31:30.600Z"
   },
   {
    "duration": 8,
    "start_time": "2022-02-21T13:31:30.776Z"
   },
   {
    "duration": 8,
    "start_time": "2022-02-21T13:31:30.968Z"
   },
   {
    "duration": 8,
    "start_time": "2022-02-21T13:31:31.140Z"
   },
   {
    "duration": 9,
    "start_time": "2022-02-21T13:31:31.324Z"
   },
   {
    "duration": 8,
    "start_time": "2022-02-21T13:31:31.494Z"
   },
   {
    "duration": 6,
    "start_time": "2022-02-21T13:31:32.364Z"
   },
   {
    "duration": 14,
    "start_time": "2022-02-21T13:31:32.528Z"
   },
   {
    "duration": 457,
    "start_time": "2022-02-21T13:31:32.704Z"
   },
   {
    "duration": 5,
    "start_time": "2022-02-21T13:31:33.164Z"
   },
   {
    "duration": 18,
    "start_time": "2022-02-21T13:31:33.236Z"
   },
   {
    "duration": 467,
    "start_time": "2022-02-21T13:31:33.396Z"
   },
   {
    "duration": 32,
    "start_time": "2022-02-21T13:31:34.972Z"
   },
   {
    "duration": 29,
    "start_time": "2022-02-21T13:31:35.216Z"
   },
   {
    "duration": 7,
    "start_time": "2022-02-21T13:31:35.440Z"
   },
   {
    "duration": 7,
    "start_time": "2022-02-21T13:31:35.609Z"
   },
   {
    "duration": 16,
    "start_time": "2022-02-21T13:31:35.804Z"
   },
   {
    "duration": 376,
    "start_time": "2022-02-21T13:31:36.679Z"
   },
   {
    "duration": 331,
    "start_time": "2022-02-21T13:31:38.420Z"
   },
   {
    "duration": 483,
    "start_time": "2022-02-21T13:31:39.652Z"
   },
   {
    "duration": 358,
    "start_time": "2022-02-21T13:31:42.096Z"
   },
   {
    "duration": 432,
    "start_time": "2022-02-21T13:31:42.812Z"
   },
   {
    "duration": 14,
    "start_time": "2022-02-21T13:31:45.240Z"
   },
   {
    "duration": 12,
    "start_time": "2022-02-21T13:31:45.461Z"
   },
   {
    "duration": 375,
    "start_time": "2022-02-21T13:31:45.624Z"
   },
   {
    "duration": 6,
    "start_time": "2022-02-21T13:31:46.588Z"
   },
   {
    "duration": 370,
    "start_time": "2022-02-21T13:31:47.312Z"
   },
   {
    "duration": 7,
    "start_time": "2022-02-21T13:31:48.380Z"
   },
   {
    "duration": 14,
    "start_time": "2022-02-21T13:31:50.372Z"
   },
   {
    "duration": 10,
    "start_time": "2022-02-21T13:31:50.904Z"
   },
   {
    "duration": 11,
    "start_time": "2022-02-21T13:31:52.264Z"
   },
   {
    "duration": 11,
    "start_time": "2022-02-21T13:31:56.857Z"
   },
   {
    "duration": 14,
    "start_time": "2022-02-21T13:31:58.037Z"
   },
   {
    "duration": 9,
    "start_time": "2022-02-21T13:32:00.944Z"
   },
   {
    "duration": 9,
    "start_time": "2022-02-21T13:32:02.652Z"
   },
   {
    "duration": 7,
    "start_time": "2022-02-21T13:32:03.456Z"
   },
   {
    "duration": 17,
    "start_time": "2022-02-21T13:32:09.708Z"
   },
   {
    "duration": 10,
    "start_time": "2022-02-21T13:32:10.276Z"
   },
   {
    "duration": 12,
    "start_time": "2022-02-21T13:32:10.828Z"
   },
   {
    "duration": 7,
    "start_time": "2022-02-21T13:32:14.688Z"
   },
   {
    "duration": 13,
    "start_time": "2022-02-21T13:32:15.352Z"
   },
   {
    "duration": 8,
    "start_time": "2022-02-21T13:32:17.499Z"
   },
   {
    "duration": 8,
    "start_time": "2022-02-21T13:32:18.004Z"
   },
   {
    "duration": 7557,
    "start_time": "2022-02-21T13:45:41.373Z"
   },
   {
    "duration": 17,
    "start_time": "2022-02-21T13:46:05.305Z"
   },
   {
    "duration": 18,
    "start_time": "2022-02-21T13:47:17.685Z"
   },
   {
    "duration": 251,
    "start_time": "2022-02-21T13:48:13.240Z"
   },
   {
    "duration": 8,
    "start_time": "2022-02-21T13:51:01.544Z"
   },
   {
    "duration": 6512,
    "start_time": "2022-02-21T13:51:18.568Z"
   },
   {
    "duration": 15,
    "start_time": "2022-02-21T13:51:45.527Z"
   },
   {
    "duration": 6069,
    "start_time": "2022-02-21T13:52:08.020Z"
   },
   {
    "duration": 13,
    "start_time": "2022-02-21T13:52:40.360Z"
   },
   {
    "duration": 7,
    "start_time": "2022-02-21T13:53:11.020Z"
   },
   {
    "duration": 12,
    "start_time": "2022-02-21T13:53:11.416Z"
   },
   {
    "duration": 18,
    "start_time": "2022-02-21T13:53:11.956Z"
   },
   {
    "duration": 10,
    "start_time": "2022-02-21T13:53:14.228Z"
   },
   {
    "duration": 12,
    "start_time": "2022-02-21T13:53:23.168Z"
   },
   {
    "duration": 7,
    "start_time": "2022-02-21T13:58:55.645Z"
   },
   {
    "duration": 12,
    "start_time": "2022-02-21T13:58:56.394Z"
   },
   {
    "duration": 8,
    "start_time": "2022-02-21T13:58:57.740Z"
   },
   {
    "duration": 7,
    "start_time": "2022-02-21T13:58:58.288Z"
   },
   {
    "duration": 4,
    "start_time": "2022-02-21T14:00:17.719Z"
   },
   {
    "duration": 4,
    "start_time": "2022-02-21T14:00:18.049Z"
   },
   {
    "duration": 37,
    "start_time": "2022-02-21T14:00:18.651Z"
   },
   {
    "duration": 12,
    "start_time": "2022-02-21T14:00:18.861Z"
   },
   {
    "duration": 9,
    "start_time": "2022-02-21T14:00:19.519Z"
   },
   {
    "duration": 4,
    "start_time": "2022-02-21T14:00:19.590Z"
   },
   {
    "duration": 11,
    "start_time": "2022-02-21T14:00:19.750Z"
   },
   {
    "duration": 11,
    "start_time": "2022-02-21T14:00:19.910Z"
   },
   {
    "duration": 9,
    "start_time": "2022-02-21T14:00:20.092Z"
   },
   {
    "duration": 7,
    "start_time": "2022-02-21T14:00:20.252Z"
   },
   {
    "duration": 4,
    "start_time": "2022-02-21T14:00:20.580Z"
   },
   {
    "duration": 18,
    "start_time": "2022-02-21T14:00:20.784Z"
   },
   {
    "duration": 10,
    "start_time": "2022-02-21T14:00:21.299Z"
   },
   {
    "duration": 9,
    "start_time": "2022-02-21T14:00:21.358Z"
   },
   {
    "duration": 5,
    "start_time": "2022-02-21T14:00:21.569Z"
   },
   {
    "duration": 9,
    "start_time": "2022-02-21T14:00:22.059Z"
   },
   {
    "duration": 8,
    "start_time": "2022-02-21T14:00:22.240Z"
   },
   {
    "duration": 9,
    "start_time": "2022-02-21T14:00:22.399Z"
   },
   {
    "duration": 7,
    "start_time": "2022-02-21T14:00:22.585Z"
   },
   {
    "duration": 8,
    "start_time": "2022-02-21T14:00:22.749Z"
   },
   {
    "duration": 7,
    "start_time": "2022-02-21T14:00:23.081Z"
   },
   {
    "duration": 5,
    "start_time": "2022-02-21T14:00:23.241Z"
   },
   {
    "duration": 14,
    "start_time": "2022-02-21T14:00:23.409Z"
   },
   {
    "duration": 494,
    "start_time": "2022-02-21T14:00:23.567Z"
   },
   {
    "duration": 6,
    "start_time": "2022-02-21T14:00:24.063Z"
   },
   {
    "duration": 15,
    "start_time": "2022-02-21T14:00:24.210Z"
   },
   {
    "duration": 432,
    "start_time": "2022-02-21T14:00:24.402Z"
   },
   {
    "duration": 30,
    "start_time": "2022-02-21T14:00:25.710Z"
   },
   {
    "duration": 24,
    "start_time": "2022-02-21T14:00:25.881Z"
   },
   {
    "duration": 6,
    "start_time": "2022-02-21T14:00:26.061Z"
   },
   {
    "duration": 7,
    "start_time": "2022-02-21T14:00:26.260Z"
   },
   {
    "duration": 15,
    "start_time": "2022-02-21T14:00:26.716Z"
   },
   {
    "duration": 427,
    "start_time": "2022-02-21T14:00:26.769Z"
   },
   {
    "duration": 355,
    "start_time": "2022-02-21T14:00:27.521Z"
   },
   {
    "duration": 456,
    "start_time": "2022-02-21T14:00:28.483Z"
   },
   {
    "duration": 409,
    "start_time": "2022-02-21T14:00:28.942Z"
   },
   {
    "duration": 423,
    "start_time": "2022-02-21T14:00:31.201Z"
   },
   {
    "duration": 13,
    "start_time": "2022-02-21T14:00:32.907Z"
   },
   {
    "duration": 9,
    "start_time": "2022-02-21T14:00:33.214Z"
   },
   {
    "duration": 386,
    "start_time": "2022-02-21T14:00:33.578Z"
   },
   {
    "duration": 8,
    "start_time": "2022-02-21T14:00:34.469Z"
   },
   {
    "duration": 389,
    "start_time": "2022-02-21T14:00:35.699Z"
   },
   {
    "duration": 7,
    "start_time": "2022-02-21T14:00:38.078Z"
   },
   {
    "duration": 15,
    "start_time": "2022-02-21T14:00:40.271Z"
   },
   {
    "duration": 9,
    "start_time": "2022-02-21T14:00:40.511Z"
   },
   {
    "duration": 12,
    "start_time": "2022-02-21T14:00:40.668Z"
   },
   {
    "duration": 12,
    "start_time": "2022-02-21T14:00:56.109Z"
   },
   {
    "duration": 11,
    "start_time": "2022-02-21T14:00:56.271Z"
   },
   {
    "duration": 11,
    "start_time": "2022-02-21T14:00:56.285Z"
   },
   {
    "duration": 8,
    "start_time": "2022-02-21T14:00:56.341Z"
   },
   {
    "duration": 268,
    "start_time": "2022-02-21T14:01:02.058Z"
   },
   {
    "duration": 7,
    "start_time": "2022-02-21T14:01:06.387Z"
   },
   {
    "duration": 12,
    "start_time": "2022-02-21T14:01:06.397Z"
   },
   {
    "duration": 20,
    "start_time": "2022-02-21T14:01:08.000Z"
   },
   {
    "duration": 11,
    "start_time": "2022-02-21T14:01:08.570Z"
   },
   {
    "duration": 11,
    "start_time": "2022-02-21T14:01:09.931Z"
   },
   {
    "duration": 7,
    "start_time": "2022-02-21T14:01:12.943Z"
   },
   {
    "duration": 12,
    "start_time": "2022-02-21T14:01:13.292Z"
   },
   {
    "duration": 8,
    "start_time": "2022-02-21T14:01:15.161Z"
   },
   {
    "duration": 9,
    "start_time": "2022-02-21T14:01:15.561Z"
   },
   {
    "duration": 1234,
    "start_time": "2022-02-25T16:11:04.847Z"
   },
   {
    "duration": 4,
    "start_time": "2022-02-25T16:11:06.083Z"
   },
   {
    "duration": 45,
    "start_time": "2022-02-25T16:11:06.089Z"
   },
   {
    "duration": 12,
    "start_time": "2022-02-25T16:11:06.136Z"
   },
   {
    "duration": 11,
    "start_time": "2022-02-25T16:11:06.149Z"
   },
   {
    "duration": 16,
    "start_time": "2022-02-25T16:11:06.162Z"
   },
   {
    "duration": 14,
    "start_time": "2022-02-25T16:11:06.180Z"
   },
   {
    "duration": 13,
    "start_time": "2022-02-25T16:11:06.197Z"
   },
   {
    "duration": 11,
    "start_time": "2022-02-25T16:11:06.212Z"
   },
   {
    "duration": 9,
    "start_time": "2022-02-25T16:11:06.225Z"
   },
   {
    "duration": 5,
    "start_time": "2022-02-25T16:11:06.236Z"
   },
   {
    "duration": 16,
    "start_time": "2022-02-25T16:11:06.243Z"
   },
   {
    "duration": 9,
    "start_time": "2022-02-25T16:11:06.261Z"
   },
   {
    "duration": 33,
    "start_time": "2022-02-25T16:11:06.272Z"
   },
   {
    "duration": 6,
    "start_time": "2022-02-25T16:11:06.307Z"
   },
   {
    "duration": 12,
    "start_time": "2022-02-25T16:11:06.315Z"
   },
   {
    "duration": 7,
    "start_time": "2022-02-25T16:11:06.329Z"
   },
   {
    "duration": 8,
    "start_time": "2022-02-25T16:11:06.340Z"
   },
   {
    "duration": 6,
    "start_time": "2022-02-25T16:11:06.350Z"
   },
   {
    "duration": 10,
    "start_time": "2022-02-25T16:11:06.358Z"
   },
   {
    "duration": 7,
    "start_time": "2022-02-25T16:11:06.395Z"
   },
   {
    "duration": 8,
    "start_time": "2022-02-25T16:11:06.403Z"
   },
   {
    "duration": 10,
    "start_time": "2022-02-25T16:11:06.415Z"
   },
   {
    "duration": 335,
    "start_time": "2022-02-25T16:11:06.427Z"
   },
   {
    "duration": 5,
    "start_time": "2022-02-25T16:11:06.763Z"
   },
   {
    "duration": 27,
    "start_time": "2022-02-25T16:11:06.769Z"
   },
   {
    "duration": 321,
    "start_time": "2022-02-25T16:11:06.797Z"
   },
   {
    "duration": 25,
    "start_time": "2022-02-25T16:11:07.120Z"
   },
   {
    "duration": 20,
    "start_time": "2022-02-25T16:11:07.147Z"
   },
   {
    "duration": 25,
    "start_time": "2022-02-25T16:11:07.169Z"
   },
   {
    "duration": 10,
    "start_time": "2022-02-25T16:11:07.196Z"
   },
   {
    "duration": 59,
    "start_time": "2022-02-25T16:11:07.207Z"
   },
   {
    "duration": 231,
    "start_time": "2022-02-25T16:11:07.268Z"
   },
   {
    "duration": 241,
    "start_time": "2022-02-25T16:11:07.500Z"
   },
   {
    "duration": 331,
    "start_time": "2022-02-25T16:11:07.743Z"
   },
   {
    "duration": 250,
    "start_time": "2022-02-25T16:11:08.076Z"
   },
   {
    "duration": 330,
    "start_time": "2022-02-25T16:11:08.328Z"
   },
   {
    "duration": 10,
    "start_time": "2022-02-25T16:11:08.660Z"
   },
   {
    "duration": 7,
    "start_time": "2022-02-25T16:11:08.672Z"
   },
   {
    "duration": 468,
    "start_time": "2022-02-25T16:11:08.694Z"
   },
   {
    "duration": 6,
    "start_time": "2022-02-25T16:11:09.163Z"
   },
   {
    "duration": 396,
    "start_time": "2022-02-25T16:11:09.171Z"
   },
   {
    "duration": 6,
    "start_time": "2022-02-25T16:11:09.570Z"
   },
   {
    "duration": 27,
    "start_time": "2022-02-25T16:11:09.579Z"
   },
   {
    "duration": 10,
    "start_time": "2022-02-25T16:11:09.609Z"
   },
   {
    "duration": 13,
    "start_time": "2022-02-25T16:11:09.621Z"
   },
   {
    "duration": 21,
    "start_time": "2022-02-25T16:11:09.636Z"
   },
   {
    "duration": 18,
    "start_time": "2022-02-25T16:11:09.659Z"
   },
   {
    "duration": 20,
    "start_time": "2022-02-25T16:11:09.679Z"
   },
   {
    "duration": 14,
    "start_time": "2022-02-25T16:11:09.701Z"
   },
   {
    "duration": 344,
    "start_time": "2022-02-25T16:11:09.716Z"
   },
   {
    "duration": 929,
    "start_time": "2022-02-25T16:11:09.133Z"
   },
   {
    "duration": 877,
    "start_time": "2022-02-25T16:11:09.186Z"
   },
   {
    "duration": 876,
    "start_time": "2022-02-25T16:11:09.188Z"
   },
   {
    "duration": 876,
    "start_time": "2022-02-25T16:11:09.189Z"
   },
   {
    "duration": 875,
    "start_time": "2022-02-25T16:11:09.191Z"
   },
   {
    "duration": 875,
    "start_time": "2022-02-25T16:11:09.192Z"
   },
   {
    "duration": 875,
    "start_time": "2022-02-25T16:11:09.194Z"
   },
   {
    "duration": 875,
    "start_time": "2022-02-25T16:11:09.195Z"
   },
   {
    "duration": 874,
    "start_time": "2022-02-25T16:11:09.197Z"
   }
  ],
  "kernelspec": {
   "display_name": "Python 3 (ipykernel)",
   "language": "python",
   "name": "python3"
  },
  "language_info": {
   "codemirror_mode": {
    "name": "ipython",
    "version": 3
   },
   "file_extension": ".py",
   "mimetype": "text/x-python",
   "name": "python",
   "nbconvert_exporter": "python",
   "pygments_lexer": "ipython3",
   "version": "3.9.5"
  },
  "toc": {
   "base_numbering": 1,
   "nav_menu": {},
   "number_sections": true,
   "sideBar": true,
   "skip_h1_title": true,
   "title_cell": "Table of Contents",
   "title_sidebar": "Contents",
   "toc_cell": false,
   "toc_position": {},
   "toc_section_display": true,
   "toc_window_display": false
  }
 },
 "nbformat": 4,
 "nbformat_minor": 2
}
