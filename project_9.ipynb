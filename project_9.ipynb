{
 "cells": [
  {
   "cell_type": "markdown",
   "metadata": {},
   "source": [
    "<br><img width=\"480\" src=\"https://yt3.ggpht.com/ytc/AKedOLR4nocA0gcnB83XTYz1jpnL2aHJIFj5vbCNlJ4L=s900-c-k-c0x00ffffff-no-rj\">\n",
    "<hr style=\"border: 10px solid green;\" />\n",
    "\n",
    "## <span style=\"color:green\">Финальный комментарий<span>\n",
    "Спасибо за проделанную работу🤝\n",
    "\n",
    "Ержан, спасибо за доработки, всё принято👌\n",
    "    \n",
    "Желаю дальнейших успехов и отличного настроения🖐\n",
    "\n",
    "Поздравляю, проект принят👍"
   ]
  },
  {
   "cell_type": "markdown",
   "metadata": {},
   "source": [
    "<hr style=\"border: 2px solid green;\" />\n",
    "\n",
    "## Комментарий ревьювера\n",
    "\n",
    "Ержан, привет! \n",
    "\n",
    "🤚Меня зовут, Олег Юрьев, я буду проверять твой проект. Если не против, я буду обращаться к тебе на _ТЫ_ . Если это неприемлемо, обязательно напиши мне в комментариях - мы перейдем на _ВЫ_ .\n",
    "\n",
    "🤝Спасибо, что сдал проект вовремя. Тобой проделана большая работа, молодец! \n",
    "\n",
    "✏️В этой тетрадке ты найдешь мои комментарии.\n",
    "\n",
    "Комментарии будут выделены:\n",
    "\n",
    "<div style=\"border-radius: 15px; box-shadow: 4px 4px 4px; border: solid green 2px; padding: 20px\"> <b>Отличная работа ✅</b><br>\n",
    "    Безупречная работа</div>       \n",
    "<br>\n",
    "<div style=\"border-radius: 15px; box-shadow: 4px 4px 4px; border: solid orange 2px; padding: 20px\"> <b>Что можно улучшить ⚠️</b><br>\n",
    "    Ничего дорабатывать не надо, данные пункты работают нормально, но есть способы улучшить. Несколько таких комментариев допустимы, но более - придется некоторые доработать. Большое кол-во мелких замечаний и помарок сказываются на общем впечатлении от работы.</div>   \n",
    "<br>\n",
    "<div style=\"border-radius: 15px; box-shadow: 4px 4px 4px; border: solid red 2px; padding: 20px\"> <b>Что необходимо доработать ⛔️</b><br>\n",
    "    Такие пункты необходимо исправить в первую очередь, чтобы я смог принять проект.</div>\n",
    " \n",
    "Не удаляй комментарии, так будем следить за динамикой 📈\n",
    "   \n",
    "Давай будем в диалоге - основные цели в диалоге:\n",
    "- обмен опытом (да я тоже учусь у студентов👨‍🎓)\n",
    "- выполнить проект еще лучше\n",
    "- помочь тебе стать аналитиком\n",
    "\n",
    "Поэтому чтобы мне проще было проверять повторно, а тебе контролировать процесс ревью, оставляй свои комментарии и выделяй их. \n",
    "    \n",
    "<div class=\"alert alert-info\" style=\"border:solid blue 2px; padding: 20px\"> <b>Комментарий студента:</b> Например, вот так.</div>\n",
    "   \n",
    "Поехали! :)\n",
    "\n",
    "<hr style=\"border: 2px solid green;\" />"
   ]
  },
  {
   "cell_type": "markdown",
   "metadata": {},
   "source": [
    "## Цель: сколько покупателей доходят до этапа покупки"
   ]
  },
  {
   "cell_type": "markdown",
   "metadata": {},
   "source": [
    "<div style=\"border-radius: 15px; box-shadow: 4px 4px 4px; border: solid orange 2px; padding: 20px\"> <b>Что можно улучшить ⚠️</b><br>\n",
    "Хорошая практика - когда проект в начале содержит:\n",
    "<ul>\n",
    "    <li> общее описание проблемы\\задачи\n",
    "    <li> описание данных\n",
    "    <li> План или примерные шаги на пути решения задач</ul>\n",
    "Это поможет как тебе (при возвращении к проекту) быстро вспомнить, читающему результат понимать о чем идет речь. Надеюсь это правило ты сохранишь до конца учебы и далее🖐</div><br>"
   ]
  },
  {
   "cell_type": "markdown",
   "metadata": {},
   "source": [
    "### Шаг 1. Откройте файл с данными и изучите общую информацию"
   ]
  },
  {
   "cell_type": "code",
   "execution_count": 1,
   "metadata": {},
   "outputs": [],
   "source": [
    "import pandas as pd\n",
    "import numpy as np\n",
    "import math as mth\n",
    "import seaborn as sns\n",
    "sns.set(rc={'figure.figsize':(16, 9)})\n",
    "import matplotlib.pyplot as plt\n",
    "from scipy import stats as st"
   ]
  },
  {
   "cell_type": "code",
   "execution_count": 2,
   "metadata": {},
   "outputs": [],
   "source": [
    "df = pd.read_csv('/datasets/logs_exp.csv', delimiter='\\t')"
   ]
  },
  {
   "cell_type": "code",
   "execution_count": 3,
   "metadata": {},
   "outputs": [
    {
     "data": {
      "text/html": [
       "<div>\n",
       "<style scoped>\n",
       "    .dataframe tbody tr th:only-of-type {\n",
       "        vertical-align: middle;\n",
       "    }\n",
       "\n",
       "    .dataframe tbody tr th {\n",
       "        vertical-align: top;\n",
       "    }\n",
       "\n",
       "    .dataframe thead th {\n",
       "        text-align: right;\n",
       "    }\n",
       "</style>\n",
       "<table border=\"1\" class=\"dataframe\">\n",
       "  <thead>\n",
       "    <tr style=\"text-align: right;\">\n",
       "      <th></th>\n",
       "      <th>EventName</th>\n",
       "      <th>DeviceIDHash</th>\n",
       "      <th>EventTimestamp</th>\n",
       "      <th>ExpId</th>\n",
       "    </tr>\n",
       "  </thead>\n",
       "  <tbody>\n",
       "    <tr>\n",
       "      <td>0</td>\n",
       "      <td>MainScreenAppear</td>\n",
       "      <td>4575588528974610257</td>\n",
       "      <td>1564029816</td>\n",
       "      <td>246</td>\n",
       "    </tr>\n",
       "    <tr>\n",
       "      <td>1</td>\n",
       "      <td>MainScreenAppear</td>\n",
       "      <td>7416695313311560658</td>\n",
       "      <td>1564053102</td>\n",
       "      <td>246</td>\n",
       "    </tr>\n",
       "    <tr>\n",
       "      <td>2</td>\n",
       "      <td>PaymentScreenSuccessful</td>\n",
       "      <td>3518123091307005509</td>\n",
       "      <td>1564054127</td>\n",
       "      <td>248</td>\n",
       "    </tr>\n",
       "    <tr>\n",
       "      <td>3</td>\n",
       "      <td>CartScreenAppear</td>\n",
       "      <td>3518123091307005509</td>\n",
       "      <td>1564054127</td>\n",
       "      <td>248</td>\n",
       "    </tr>\n",
       "    <tr>\n",
       "      <td>4</td>\n",
       "      <td>PaymentScreenSuccessful</td>\n",
       "      <td>6217807653094995999</td>\n",
       "      <td>1564055322</td>\n",
       "      <td>248</td>\n",
       "    </tr>\n",
       "  </tbody>\n",
       "</table>\n",
       "</div>"
      ],
      "text/plain": [
       "                 EventName         DeviceIDHash  EventTimestamp  ExpId\n",
       "0         MainScreenAppear  4575588528974610257      1564029816    246\n",
       "1         MainScreenAppear  7416695313311560658      1564053102    246\n",
       "2  PaymentScreenSuccessful  3518123091307005509      1564054127    248\n",
       "3         CartScreenAppear  3518123091307005509      1564054127    248\n",
       "4  PaymentScreenSuccessful  6217807653094995999      1564055322    248"
      ]
     },
     "execution_count": 3,
     "metadata": {},
     "output_type": "execute_result"
    }
   ],
   "source": [
    "df.head()"
   ]
  },
  {
   "cell_type": "code",
   "execution_count": 4,
   "metadata": {},
   "outputs": [
    {
     "name": "stdout",
     "output_type": "stream",
     "text": [
      "<class 'pandas.core.frame.DataFrame'>\n",
      "RangeIndex: 244126 entries, 0 to 244125\n",
      "Data columns (total 4 columns):\n",
      "EventName         244126 non-null object\n",
      "DeviceIDHash      244126 non-null int64\n",
      "EventTimestamp    244126 non-null int64\n",
      "ExpId             244126 non-null int64\n",
      "dtypes: int64(3), object(1)\n",
      "memory usage: 7.5+ MB\n"
     ]
    }
   ],
   "source": [
    "df.info()"
   ]
  },
  {
   "cell_type": "code",
   "execution_count": 5,
   "metadata": {},
   "outputs": [
    {
     "data": {
      "text/plain": [
       "EventName         0\n",
       "DeviceIDHash      0\n",
       "EventTimestamp    0\n",
       "ExpId             0\n",
       "dtype: int64"
      ]
     },
     "execution_count": 5,
     "metadata": {},
     "output_type": "execute_result"
    }
   ],
   "source": [
    "df.isna().sum()"
   ]
  },
  {
   "cell_type": "markdown",
   "metadata": {},
   "source": [
    "### Шаг 2. Подготовьте данные"
   ]
  },
  {
   "cell_type": "code",
   "execution_count": 6,
   "metadata": {},
   "outputs": [
    {
     "data": {
      "text/plain": [
       "['EventName', 'DeviceIDHash', 'EventTimestamp', 'ExpId']"
      ]
     },
     "execution_count": 6,
     "metadata": {},
     "output_type": "execute_result"
    }
   ],
   "source": [
    "df.columns.tolist()"
   ]
  },
  {
   "cell_type": "code",
   "execution_count": 7,
   "metadata": {},
   "outputs": [],
   "source": [
    "df.columns = ['event_name', 'user_id', 'event_timestamp', 'exp_id']"
   ]
  },
  {
   "cell_type": "code",
   "execution_count": 8,
   "metadata": {},
   "outputs": [
    {
     "data": {
      "text/html": [
       "<div>\n",
       "<style scoped>\n",
       "    .dataframe tbody tr th:only-of-type {\n",
       "        vertical-align: middle;\n",
       "    }\n",
       "\n",
       "    .dataframe tbody tr th {\n",
       "        vertical-align: top;\n",
       "    }\n",
       "\n",
       "    .dataframe thead th {\n",
       "        text-align: right;\n",
       "    }\n",
       "</style>\n",
       "<table border=\"1\" class=\"dataframe\">\n",
       "  <thead>\n",
       "    <tr style=\"text-align: right;\">\n",
       "      <th></th>\n",
       "      <th>event_name</th>\n",
       "      <th>user_id</th>\n",
       "      <th>event_timestamp</th>\n",
       "      <th>exp_id</th>\n",
       "    </tr>\n",
       "  </thead>\n",
       "  <tbody>\n",
       "    <tr>\n",
       "      <td>0</td>\n",
       "      <td>MainScreenAppear</td>\n",
       "      <td>4575588528974610257</td>\n",
       "      <td>1564029816</td>\n",
       "      <td>246</td>\n",
       "    </tr>\n",
       "    <tr>\n",
       "      <td>1</td>\n",
       "      <td>MainScreenAppear</td>\n",
       "      <td>7416695313311560658</td>\n",
       "      <td>1564053102</td>\n",
       "      <td>246</td>\n",
       "    </tr>\n",
       "    <tr>\n",
       "      <td>2</td>\n",
       "      <td>PaymentScreenSuccessful</td>\n",
       "      <td>3518123091307005509</td>\n",
       "      <td>1564054127</td>\n",
       "      <td>248</td>\n",
       "    </tr>\n",
       "    <tr>\n",
       "      <td>3</td>\n",
       "      <td>CartScreenAppear</td>\n",
       "      <td>3518123091307005509</td>\n",
       "      <td>1564054127</td>\n",
       "      <td>248</td>\n",
       "    </tr>\n",
       "    <tr>\n",
       "      <td>4</td>\n",
       "      <td>PaymentScreenSuccessful</td>\n",
       "      <td>6217807653094995999</td>\n",
       "      <td>1564055322</td>\n",
       "      <td>248</td>\n",
       "    </tr>\n",
       "  </tbody>\n",
       "</table>\n",
       "</div>"
      ],
      "text/plain": [
       "                event_name              user_id  event_timestamp  exp_id\n",
       "0         MainScreenAppear  4575588528974610257       1564029816     246\n",
       "1         MainScreenAppear  7416695313311560658       1564053102     246\n",
       "2  PaymentScreenSuccessful  3518123091307005509       1564054127     248\n",
       "3         CartScreenAppear  3518123091307005509       1564054127     248\n",
       "4  PaymentScreenSuccessful  6217807653094995999       1564055322     248"
      ]
     },
     "execution_count": 8,
     "metadata": {},
     "output_type": "execute_result"
    }
   ],
   "source": [
    "df.head()"
   ]
  },
  {
   "cell_type": "code",
   "execution_count": 9,
   "metadata": {},
   "outputs": [
    {
     "data": {
      "text/html": [
       "<div>\n",
       "<style scoped>\n",
       "    .dataframe tbody tr th:only-of-type {\n",
       "        vertical-align: middle;\n",
       "    }\n",
       "\n",
       "    .dataframe tbody tr th {\n",
       "        vertical-align: top;\n",
       "    }\n",
       "\n",
       "    .dataframe thead th {\n",
       "        text-align: right;\n",
       "    }\n",
       "</style>\n",
       "<table border=\"1\" class=\"dataframe\">\n",
       "  <thead>\n",
       "    <tr style=\"text-align: right;\">\n",
       "      <th></th>\n",
       "      <th>event_name</th>\n",
       "      <th>user_id</th>\n",
       "      <th>event_timestamp</th>\n",
       "      <th>exp_id</th>\n",
       "    </tr>\n",
       "  </thead>\n",
       "  <tbody>\n",
       "    <tr>\n",
       "      <td>0</td>\n",
       "      <td>MainScreenAppear</td>\n",
       "      <td>4575588528974610257</td>\n",
       "      <td>1564029816</td>\n",
       "      <td>246</td>\n",
       "    </tr>\n",
       "    <tr>\n",
       "      <td>1</td>\n",
       "      <td>MainScreenAppear</td>\n",
       "      <td>7416695313311560658</td>\n",
       "      <td>1564053102</td>\n",
       "      <td>246</td>\n",
       "    </tr>\n",
       "    <tr>\n",
       "      <td>2</td>\n",
       "      <td>PaymentScreenSuccessful</td>\n",
       "      <td>3518123091307005509</td>\n",
       "      <td>1564054127</td>\n",
       "      <td>248</td>\n",
       "    </tr>\n",
       "    <tr>\n",
       "      <td>3</td>\n",
       "      <td>CartScreenAppear</td>\n",
       "      <td>3518123091307005509</td>\n",
       "      <td>1564054127</td>\n",
       "      <td>248</td>\n",
       "    </tr>\n",
       "    <tr>\n",
       "      <td>4</td>\n",
       "      <td>PaymentScreenSuccessful</td>\n",
       "      <td>6217807653094995999</td>\n",
       "      <td>1564055322</td>\n",
       "      <td>248</td>\n",
       "    </tr>\n",
       "    <tr>\n",
       "      <td>...</td>\n",
       "      <td>...</td>\n",
       "      <td>...</td>\n",
       "      <td>...</td>\n",
       "      <td>...</td>\n",
       "    </tr>\n",
       "    <tr>\n",
       "      <td>243708</td>\n",
       "      <td>MainScreenAppear</td>\n",
       "      <td>4599628364049201812</td>\n",
       "      <td>1565212345</td>\n",
       "      <td>247</td>\n",
       "    </tr>\n",
       "    <tr>\n",
       "      <td>243709</td>\n",
       "      <td>MainScreenAppear</td>\n",
       "      <td>5849806612437486590</td>\n",
       "      <td>1565212439</td>\n",
       "      <td>246</td>\n",
       "    </tr>\n",
       "    <tr>\n",
       "      <td>243710</td>\n",
       "      <td>MainScreenAppear</td>\n",
       "      <td>5746969938801999050</td>\n",
       "      <td>1565212483</td>\n",
       "      <td>246</td>\n",
       "    </tr>\n",
       "    <tr>\n",
       "      <td>243711</td>\n",
       "      <td>MainScreenAppear</td>\n",
       "      <td>5746969938801999050</td>\n",
       "      <td>1565212498</td>\n",
       "      <td>246</td>\n",
       "    </tr>\n",
       "    <tr>\n",
       "      <td>243712</td>\n",
       "      <td>OffersScreenAppear</td>\n",
       "      <td>5746969938801999050</td>\n",
       "      <td>1565212517</td>\n",
       "      <td>246</td>\n",
       "    </tr>\n",
       "  </tbody>\n",
       "</table>\n",
       "<p>243713 rows × 4 columns</p>\n",
       "</div>"
      ],
      "text/plain": [
       "                     event_name              user_id  event_timestamp  exp_id\n",
       "0              MainScreenAppear  4575588528974610257       1564029816     246\n",
       "1              MainScreenAppear  7416695313311560658       1564053102     246\n",
       "2       PaymentScreenSuccessful  3518123091307005509       1564054127     248\n",
       "3              CartScreenAppear  3518123091307005509       1564054127     248\n",
       "4       PaymentScreenSuccessful  6217807653094995999       1564055322     248\n",
       "...                         ...                  ...              ...     ...\n",
       "243708         MainScreenAppear  4599628364049201812       1565212345     247\n",
       "243709         MainScreenAppear  5849806612437486590       1565212439     246\n",
       "243710         MainScreenAppear  5746969938801999050       1565212483     246\n",
       "243711         MainScreenAppear  5746969938801999050       1565212498     246\n",
       "243712       OffersScreenAppear  5746969938801999050       1565212517     246\n",
       "\n",
       "[243713 rows x 4 columns]"
      ]
     },
     "execution_count": 9,
     "metadata": {},
     "output_type": "execute_result"
    }
   ],
   "source": [
    "df = df.drop_duplicates().reset_index(drop=True)\n",
    "df"
   ]
  },
  {
   "cell_type": "code",
   "execution_count": 10,
   "metadata": {},
   "outputs": [
    {
     "data": {
      "text/plain": [
       "0"
      ]
     },
     "execution_count": 10,
     "metadata": {},
     "output_type": "execute_result"
    }
   ],
   "source": [
    "df.duplicated().sum()"
   ]
  },
  {
   "cell_type": "code",
   "execution_count": 11,
   "metadata": {},
   "outputs": [],
   "source": [
    "df['date_time'] = pd.to_datetime(df['event_timestamp'], unit='s')\n",
    "df['date'] = df['date_time'].astype('datetime64[D]')"
   ]
  },
  {
   "cell_type": "code",
   "execution_count": 12,
   "metadata": {},
   "outputs": [
    {
     "name": "stdout",
     "output_type": "stream",
     "text": [
      "<class 'pandas.core.frame.DataFrame'>\n",
      "RangeIndex: 243713 entries, 0 to 243712\n",
      "Data columns (total 6 columns):\n",
      "event_name         243713 non-null object\n",
      "user_id            243713 non-null int64\n",
      "event_timestamp    243713 non-null int64\n",
      "exp_id             243713 non-null int64\n",
      "date_time          243713 non-null datetime64[ns]\n",
      "date               243713 non-null datetime64[ns]\n",
      "dtypes: datetime64[ns](2), int64(3), object(1)\n",
      "memory usage: 11.2+ MB\n"
     ]
    }
   ],
   "source": [
    "df.info()"
   ]
  },
  {
   "cell_type": "markdown",
   "metadata": {},
   "source": [
    "<div style=\"border-radius: 15px; box-shadow: 4px 4px 4px; border: solid green 2px; padding: 20px\"> <b>Отличная работа - ✅</b><br>\n",
    "Обзор данных выполнен хорошо!</div> <br>\n",
    "<div style=\"border-radius: 15px; box-shadow: 4px 4px 4px; border: solid orange 2px; padding: 20px\"> <b>Что можно улучшить - ⚠️</b><br>\n",
    "Дополнительно по данным АВ теста можно проверить:\n",
    "<ul>\n",
    "    <li> Пересечение пользователей - может быть есть те, кто попал в обе группы? Удалять таких пользователей не надо, достаточно проверить</ul></div> <br>"
   ]
  },
  {
   "cell_type": "markdown",
   "metadata": {},
   "source": [
    "### Шаг 3. Изучите и проверьте данные"
   ]
  },
  {
   "cell_type": "markdown",
   "metadata": {},
   "source": [
    "#### Сколько всего событий в логе?"
   ]
  },
  {
   "cell_type": "code",
   "execution_count": 13,
   "metadata": {},
   "outputs": [
    {
     "name": "stdout",
     "output_type": "stream",
     "text": [
      "Всего событий 243713, типов событий 5\n"
     ]
    }
   ],
   "source": [
    "print('Всего событий %d, типов событий %d' % (df.shape[0], df['event_name'].nunique()))"
   ]
  },
  {
   "cell_type": "markdown",
   "metadata": {},
   "source": [
    "#### Сколько всего пользователей в логе?"
   ]
  },
  {
   "cell_type": "code",
   "execution_count": 14,
   "metadata": {},
   "outputs": [
    {
     "name": "stdout",
     "output_type": "stream",
     "text": [
      "Всего пользователей в логе 7551\n"
     ]
    }
   ],
   "source": [
    "print('Всего пользователей в логе %d' % (df['user_id'].nunique()))"
   ]
  },
  {
   "cell_type": "markdown",
   "metadata": {},
   "source": [
    "#### Сколько в среднем событий приходится на пользователя?"
   ]
  },
  {
   "cell_type": "code",
   "execution_count": 15,
   "metadata": {},
   "outputs": [
    {
     "name": "stdout",
     "output_type": "stream",
     "text": [
      "В среднем событий на пользователя 32\n"
     ]
    }
   ],
   "source": [
    "print('В среднем событий на пользователя %d' % (df.shape[0] / df['user_id'].nunique()))"
   ]
  },
  {
   "cell_type": "markdown",
   "metadata": {},
   "source": [
    "<div style=\"border-radius: 15px; box-shadow: 4px 4px 4px; border: solid orange 2px; padding: 20px\"> <b>Что можно улучшить</b><br>\n",
    "Предыдущие проекты и теория показывали, что есть случаи, когда оценка среднего с помощью простого среднего арифметического может быть некорректной.</div> <br>"
   ]
  },
  {
   "cell_type": "markdown",
   "metadata": {},
   "source": [
    "#### Данными за какой период вы располагаете? Найдите максимальную и минимальную дату. Постройте гистограмму по дате и времени. Можно ли быть уверенным, что у вас одинаково полные данные за весь период? Технически в логи новых дней по некоторым пользователям могут «доезжать» события из прошлого — это может «перекашивать данные». Определите, с какого момента данные полные и отбросьте более старые. Данными за какой период времени вы располагаете на самом деле?"
   ]
  },
  {
   "cell_type": "code",
   "execution_count": 16,
   "metadata": {},
   "outputs": [
    {
     "data": {
      "text/plain": [
       "1182701"
      ]
     },
     "execution_count": 16,
     "metadata": {},
     "output_type": "execute_result"
    }
   ],
   "source": [
    "np.ptp(df['event_timestamp'].to_numpy())"
   ]
  },
  {
   "cell_type": "code",
   "execution_count": 17,
   "metadata": {},
   "outputs": [],
   "source": [
    "delta_time = pd.to_timedelta(1182701, unit='s')"
   ]
  },
  {
   "cell_type": "code",
   "execution_count": 18,
   "metadata": {},
   "outputs": [],
   "source": [
    "firts_date = df['date_time'].min()\n",
    "last_date = df['date_time'].max()"
   ]
  },
  {
   "cell_type": "code",
   "execution_count": 19,
   "metadata": {},
   "outputs": [
    {
     "name": "stdout",
     "output_type": "stream",
     "text": [
      "Данные от 2019-07-25 04:43:36 до 2019-08-07 21:15:17, разница в 13 days 16:31:41\n"
     ]
    }
   ],
   "source": [
    "print('Данные от %s до %s, разница в %s' % (firts_date, last_date, delta_time))"
   ]
  },
  {
   "cell_type": "code",
   "execution_count": 20,
   "metadata": {},
   "outputs": [
    {
     "data": {
      "text/html": [
       "<div>\n",
       "<style scoped>\n",
       "    .dataframe tbody tr th:only-of-type {\n",
       "        vertical-align: middle;\n",
       "    }\n",
       "\n",
       "    .dataframe tbody tr th {\n",
       "        vertical-align: top;\n",
       "    }\n",
       "\n",
       "    .dataframe thead th {\n",
       "        text-align: right;\n",
       "    }\n",
       "</style>\n",
       "<table border=\"1\" class=\"dataframe\">\n",
       "  <thead>\n",
       "    <tr style=\"text-align: right;\">\n",
       "      <th></th>\n",
       "      <th>event_name</th>\n",
       "      <th>user_id</th>\n",
       "      <th>event_timestamp</th>\n",
       "      <th>exp_id</th>\n",
       "      <th>date_time</th>\n",
       "      <th>date</th>\n",
       "    </tr>\n",
       "  </thead>\n",
       "  <tbody>\n",
       "    <tr>\n",
       "      <td>0</td>\n",
       "      <td>MainScreenAppear</td>\n",
       "      <td>4575588528974610257</td>\n",
       "      <td>1564029816</td>\n",
       "      <td>246</td>\n",
       "      <td>2019-07-25 04:43:36</td>\n",
       "      <td>2019-07-25</td>\n",
       "    </tr>\n",
       "    <tr>\n",
       "      <td>1</td>\n",
       "      <td>MainScreenAppear</td>\n",
       "      <td>7416695313311560658</td>\n",
       "      <td>1564053102</td>\n",
       "      <td>246</td>\n",
       "      <td>2019-07-25 11:11:42</td>\n",
       "      <td>2019-07-25</td>\n",
       "    </tr>\n",
       "    <tr>\n",
       "      <td>2</td>\n",
       "      <td>PaymentScreenSuccessful</td>\n",
       "      <td>3518123091307005509</td>\n",
       "      <td>1564054127</td>\n",
       "      <td>248</td>\n",
       "      <td>2019-07-25 11:28:47</td>\n",
       "      <td>2019-07-25</td>\n",
       "    </tr>\n",
       "    <tr>\n",
       "      <td>3</td>\n",
       "      <td>CartScreenAppear</td>\n",
       "      <td>3518123091307005509</td>\n",
       "      <td>1564054127</td>\n",
       "      <td>248</td>\n",
       "      <td>2019-07-25 11:28:47</td>\n",
       "      <td>2019-07-25</td>\n",
       "    </tr>\n",
       "    <tr>\n",
       "      <td>4</td>\n",
       "      <td>PaymentScreenSuccessful</td>\n",
       "      <td>6217807653094995999</td>\n",
       "      <td>1564055322</td>\n",
       "      <td>248</td>\n",
       "      <td>2019-07-25 11:48:42</td>\n",
       "      <td>2019-07-25</td>\n",
       "    </tr>\n",
       "  </tbody>\n",
       "</table>\n",
       "</div>"
      ],
      "text/plain": [
       "                event_name              user_id  event_timestamp  exp_id  \\\n",
       "0         MainScreenAppear  4575588528974610257       1564029816     246   \n",
       "1         MainScreenAppear  7416695313311560658       1564053102     246   \n",
       "2  PaymentScreenSuccessful  3518123091307005509       1564054127     248   \n",
       "3         CartScreenAppear  3518123091307005509       1564054127     248   \n",
       "4  PaymentScreenSuccessful  6217807653094995999       1564055322     248   \n",
       "\n",
       "            date_time       date  \n",
       "0 2019-07-25 04:43:36 2019-07-25  \n",
       "1 2019-07-25 11:11:42 2019-07-25  \n",
       "2 2019-07-25 11:28:47 2019-07-25  \n",
       "3 2019-07-25 11:28:47 2019-07-25  \n",
       "4 2019-07-25 11:48:42 2019-07-25  "
      ]
     },
     "execution_count": 20,
     "metadata": {},
     "output_type": "execute_result"
    }
   ],
   "source": [
    "df.head()"
   ]
  },
  {
   "cell_type": "code",
   "execution_count": 21,
   "metadata": {},
   "outputs": [
    {
     "data": {
      "text/html": [
       "<div>\n",
       "<style scoped>\n",
       "    .dataframe tbody tr th:only-of-type {\n",
       "        vertical-align: middle;\n",
       "    }\n",
       "\n",
       "    .dataframe tbody tr th {\n",
       "        vertical-align: top;\n",
       "    }\n",
       "\n",
       "    .dataframe thead th {\n",
       "        text-align: right;\n",
       "    }\n",
       "</style>\n",
       "<table border=\"1\" class=\"dataframe\">\n",
       "  <thead>\n",
       "    <tr style=\"text-align: right;\">\n",
       "      <th></th>\n",
       "      <th>date</th>\n",
       "      <th>event_name</th>\n",
       "      <th>percent</th>\n",
       "      <th>cum_sum</th>\n",
       "    </tr>\n",
       "  </thead>\n",
       "  <tbody>\n",
       "    <tr>\n",
       "      <td>0</td>\n",
       "      <td>2019-07-25</td>\n",
       "      <td>9</td>\n",
       "      <td>0.003693</td>\n",
       "      <td>0.003693</td>\n",
       "    </tr>\n",
       "    <tr>\n",
       "      <td>1</td>\n",
       "      <td>2019-07-26</td>\n",
       "      <td>31</td>\n",
       "      <td>0.012720</td>\n",
       "      <td>0.016413</td>\n",
       "    </tr>\n",
       "    <tr>\n",
       "      <td>2</td>\n",
       "      <td>2019-07-27</td>\n",
       "      <td>55</td>\n",
       "      <td>0.022568</td>\n",
       "      <td>0.038980</td>\n",
       "    </tr>\n",
       "    <tr>\n",
       "      <td>3</td>\n",
       "      <td>2019-07-28</td>\n",
       "      <td>105</td>\n",
       "      <td>0.043083</td>\n",
       "      <td>0.082064</td>\n",
       "    </tr>\n",
       "    <tr>\n",
       "      <td>4</td>\n",
       "      <td>2019-07-29</td>\n",
       "      <td>184</td>\n",
       "      <td>0.075499</td>\n",
       "      <td>0.157562</td>\n",
       "    </tr>\n",
       "    <tr>\n",
       "      <td>5</td>\n",
       "      <td>2019-07-30</td>\n",
       "      <td>412</td>\n",
       "      <td>0.169051</td>\n",
       "      <td>0.326614</td>\n",
       "    </tr>\n",
       "    <tr>\n",
       "      <td>6</td>\n",
       "      <td>2019-07-31</td>\n",
       "      <td>2030</td>\n",
       "      <td>0.832947</td>\n",
       "      <td>1.159561</td>\n",
       "    </tr>\n",
       "    <tr>\n",
       "      <td>7</td>\n",
       "      <td>2019-08-01</td>\n",
       "      <td>36141</td>\n",
       "      <td>14.829328</td>\n",
       "      <td>15.988889</td>\n",
       "    </tr>\n",
       "    <tr>\n",
       "      <td>8</td>\n",
       "      <td>2019-08-02</td>\n",
       "      <td>35554</td>\n",
       "      <td>14.588471</td>\n",
       "      <td>30.577359</td>\n",
       "    </tr>\n",
       "    <tr>\n",
       "      <td>9</td>\n",
       "      <td>2019-08-03</td>\n",
       "      <td>33282</td>\n",
       "      <td>13.656227</td>\n",
       "      <td>44.233586</td>\n",
       "    </tr>\n",
       "    <tr>\n",
       "      <td>10</td>\n",
       "      <td>2019-08-04</td>\n",
       "      <td>32968</td>\n",
       "      <td>13.527387</td>\n",
       "      <td>57.760973</td>\n",
       "    </tr>\n",
       "    <tr>\n",
       "      <td>11</td>\n",
       "      <td>2019-08-05</td>\n",
       "      <td>36058</td>\n",
       "      <td>14.795271</td>\n",
       "      <td>72.556244</td>\n",
       "    </tr>\n",
       "    <tr>\n",
       "      <td>12</td>\n",
       "      <td>2019-08-06</td>\n",
       "      <td>35788</td>\n",
       "      <td>14.684485</td>\n",
       "      <td>87.240730</td>\n",
       "    </tr>\n",
       "    <tr>\n",
       "      <td>13</td>\n",
       "      <td>2019-08-07</td>\n",
       "      <td>31096</td>\n",
       "      <td>12.759270</td>\n",
       "      <td>100.000000</td>\n",
       "    </tr>\n",
       "  </tbody>\n",
       "</table>\n",
       "</div>"
      ],
      "text/plain": [
       "         date  event_name    percent     cum_sum\n",
       "0  2019-07-25           9   0.003693    0.003693\n",
       "1  2019-07-26          31   0.012720    0.016413\n",
       "2  2019-07-27          55   0.022568    0.038980\n",
       "3  2019-07-28         105   0.043083    0.082064\n",
       "4  2019-07-29         184   0.075499    0.157562\n",
       "5  2019-07-30         412   0.169051    0.326614\n",
       "6  2019-07-31        2030   0.832947    1.159561\n",
       "7  2019-08-01       36141  14.829328   15.988889\n",
       "8  2019-08-02       35554  14.588471   30.577359\n",
       "9  2019-08-03       33282  13.656227   44.233586\n",
       "10 2019-08-04       32968  13.527387   57.760973\n",
       "11 2019-08-05       36058  14.795271   72.556244\n",
       "12 2019-08-06       35788  14.684485   87.240730\n",
       "13 2019-08-07       31096  12.759270  100.000000"
      ]
     },
     "execution_count": 21,
     "metadata": {},
     "output_type": "execute_result"
    }
   ],
   "source": [
    "temp = df.groupby(by='date').agg({'event_name': 'count'}).reset_index()\n",
    "temp['percent'] = temp['event_name'] / temp['event_name'].sum() * 100\n",
    "temp['cum_sum'] = temp['percent'].cumsum()\n",
    "temp"
   ]
  },
  {
   "cell_type": "code",
   "execution_count": 22,
   "metadata": {},
   "outputs": [
    {
     "name": "stderr",
     "output_type": "stream",
     "text": [
      "/opt/conda/lib/python3.7/site-packages/pandas/plotting/_matplotlib/converter.py:103: FutureWarning: Using an implicitly registered datetime converter for a matplotlib plotting method. The converter was registered by pandas on import. Future versions of pandas will require you to explicitly register matplotlib converters.\n",
      "\n",
      "To register the converters:\n",
      "\t>>> from pandas.plotting import register_matplotlib_converters\n",
      "\t>>> register_matplotlib_converters()\n",
      "  warnings.warn(msg, FutureWarning)\n"
     ]
    },
    {
     "data": {
      "image/png": "[encoded data removed]",
      "text/plain": [
       "<Figure size 1152x648 with 1 Axes>"
      ]
     },
     "metadata": {},
     "output_type": "display_data"
    }
   ],
   "source": [
    "ax = df['date_time'].hist(bins=100)\n",
    "plt.title('Гистограмма по дате и времени')\n",
    "plt.ylabel(\"Частота\")\n",
    "plt.ylabel(\"Дата\")\n",
    "plt.xticks(rotation=45)\n",
    "plt.show()"
   ]
  },
  {
   "cell_type": "code",
   "execution_count": 23,
   "metadata": {},
   "outputs": [
    {
     "data": {
      "image/png": "[encoded data removed]",
      "text/plain": [
       "<Figure size 1152x648 with 1 Axes>"
      ]
     },
     "metadata": {},
     "output_type": "display_data"
    }
   ],
   "source": [
    "df['date_time'].hist(bins=14) # логи за 14 дней\n",
    "plt.xticks(rotation=45)\n",
    "plt.title('Распределение событий лога по времени');"
   ]
  },
  {
   "cell_type": "markdown",
   "metadata": {},
   "source": [
    "<div class=\"alert alert-info\" style=\"border:solid blue 2px; padding: 20px\"> <b>Комментарий студента:</b> Поменял график, проверьте</div>"
   ]
  },
  {
   "cell_type": "markdown",
   "metadata": {},
   "source": [
    "<div style=\"border-radius: 15px; box-shadow: 4px 4px 4px; border: solid green 2px; padding: 20px\"> <b>Отличная работа 2</b><br>Да, так верно👍</div> "
   ]
  },
  {
   "cell_type": "markdown",
   "metadata": {},
   "source": [
    "<div style=\"border-radius: 15px; box-shadow: 4px 4px 4px; border: solid red 2px; padding: 20px\"> <b>Что необходимо доработать - ⛔️</b><br>\n",
    "<b>Метод hist</b> - Каждый метод рассчитан на использование только для того, для чего его придумали. Метод <code>hist</code> необходим для построения гистограмм или плотностей распределения. <code>Гистограмма строится следующим образом. Сначала множество значений, которое может принимать элемент выборки, разбивается на несколько интервалов (bins). Чаще всего эти интервалы берут одинаковыми, но это не является строгим требованием. Эти интервалы откладываются на горизонтальной оси, затем над каждым рисуется прямоугольник, высота прямоугольника пропорциональна числу элементов выборки, попадающих в соответствующий интервал.</code> Да, с помощью метода <code>hist</code> можно построить разные зависимости, но тогда надо понимать суть этого метода иначе получается ерунда. Когда мы хотим построить линейный график по времени, у нас есть однозначное кол-во значений по оси Х (5, 12, 21 и тд...). Именно для этого при построениях указывают значения по обеим осям (<code>plt.plot(X_values, Y_values)</code>). При иcпользовании метода <code>hist</code> необходимо чтобы было соответствие параметра <code>bins</code> числу значений по оси Х, иначе получаемый график будет искаженным. Рекомендую для каждого случая использовать подходящий метод, для гистограммы - <code>plt.hist\\sns.distplot\\...</code>, для линейных графиков - <code>plt.plot\\px.scatter\\sns.lineplot</code>.</div><br>"
   ]
  },
  {
   "cell_type": "code",
   "execution_count": 24,
   "metadata": {},
   "outputs": [
    {
     "data": {
      "text/html": [
       "<div>\n",
       "<style scoped>\n",
       "    .dataframe tbody tr th:only-of-type {\n",
       "        vertical-align: middle;\n",
       "    }\n",
       "\n",
       "    .dataframe tbody tr th {\n",
       "        vertical-align: top;\n",
       "    }\n",
       "\n",
       "    .dataframe thead th {\n",
       "        text-align: right;\n",
       "    }\n",
       "</style>\n",
       "<table border=\"1\" class=\"dataframe\">\n",
       "  <thead>\n",
       "    <tr style=\"text-align: right;\">\n",
       "      <th></th>\n",
       "      <th>event_name</th>\n",
       "      <th>user_id</th>\n",
       "      <th>event_timestamp</th>\n",
       "      <th>exp_id</th>\n",
       "      <th>date_time</th>\n",
       "      <th>date</th>\n",
       "    </tr>\n",
       "  </thead>\n",
       "  <tbody>\n",
       "    <tr>\n",
       "      <td>2826</td>\n",
       "      <td>Tutorial</td>\n",
       "      <td>3737462046622621720</td>\n",
       "      <td>1564618048</td>\n",
       "      <td>246</td>\n",
       "      <td>2019-08-01 00:07:28</td>\n",
       "      <td>2019-08-01</td>\n",
       "    </tr>\n",
       "    <tr>\n",
       "      <td>2827</td>\n",
       "      <td>MainScreenAppear</td>\n",
       "      <td>3737462046622621720</td>\n",
       "      <td>1564618080</td>\n",
       "      <td>246</td>\n",
       "      <td>2019-08-01 00:08:00</td>\n",
       "      <td>2019-08-01</td>\n",
       "    </tr>\n",
       "    <tr>\n",
       "      <td>2828</td>\n",
       "      <td>MainScreenAppear</td>\n",
       "      <td>3737462046622621720</td>\n",
       "      <td>1564618135</td>\n",
       "      <td>246</td>\n",
       "      <td>2019-08-01 00:08:55</td>\n",
       "      <td>2019-08-01</td>\n",
       "    </tr>\n",
       "    <tr>\n",
       "      <td>2829</td>\n",
       "      <td>OffersScreenAppear</td>\n",
       "      <td>3737462046622621720</td>\n",
       "      <td>1564618138</td>\n",
       "      <td>246</td>\n",
       "      <td>2019-08-01 00:08:58</td>\n",
       "      <td>2019-08-01</td>\n",
       "    </tr>\n",
       "    <tr>\n",
       "      <td>2830</td>\n",
       "      <td>MainScreenAppear</td>\n",
       "      <td>1433840883824088890</td>\n",
       "      <td>1564618139</td>\n",
       "      <td>247</td>\n",
       "      <td>2019-08-01 00:08:59</td>\n",
       "      <td>2019-08-01</td>\n",
       "    </tr>\n",
       "    <tr>\n",
       "      <td>...</td>\n",
       "      <td>...</td>\n",
       "      <td>...</td>\n",
       "      <td>...</td>\n",
       "      <td>...</td>\n",
       "      <td>...</td>\n",
       "      <td>...</td>\n",
       "    </tr>\n",
       "    <tr>\n",
       "      <td>243708</td>\n",
       "      <td>MainScreenAppear</td>\n",
       "      <td>4599628364049201812</td>\n",
       "      <td>1565212345</td>\n",
       "      <td>247</td>\n",
       "      <td>2019-08-07 21:12:25</td>\n",
       "      <td>2019-08-07</td>\n",
       "    </tr>\n",
       "    <tr>\n",
       "      <td>243709</td>\n",
       "      <td>MainScreenAppear</td>\n",
       "      <td>5849806612437486590</td>\n",
       "      <td>1565212439</td>\n",
       "      <td>246</td>\n",
       "      <td>2019-08-07 21:13:59</td>\n",
       "      <td>2019-08-07</td>\n",
       "    </tr>\n",
       "    <tr>\n",
       "      <td>243710</td>\n",
       "      <td>MainScreenAppear</td>\n",
       "      <td>5746969938801999050</td>\n",
       "      <td>1565212483</td>\n",
       "      <td>246</td>\n",
       "      <td>2019-08-07 21:14:43</td>\n",
       "      <td>2019-08-07</td>\n",
       "    </tr>\n",
       "    <tr>\n",
       "      <td>243711</td>\n",
       "      <td>MainScreenAppear</td>\n",
       "      <td>5746969938801999050</td>\n",
       "      <td>1565212498</td>\n",
       "      <td>246</td>\n",
       "      <td>2019-08-07 21:14:58</td>\n",
       "      <td>2019-08-07</td>\n",
       "    </tr>\n",
       "    <tr>\n",
       "      <td>243712</td>\n",
       "      <td>OffersScreenAppear</td>\n",
       "      <td>5746969938801999050</td>\n",
       "      <td>1565212517</td>\n",
       "      <td>246</td>\n",
       "      <td>2019-08-07 21:15:17</td>\n",
       "      <td>2019-08-07</td>\n",
       "    </tr>\n",
       "  </tbody>\n",
       "</table>\n",
       "<p>240887 rows × 6 columns</p>\n",
       "</div>"
      ],
      "text/plain": [
       "                event_name              user_id  event_timestamp  exp_id  \\\n",
       "2826              Tutorial  3737462046622621720       1564618048     246   \n",
       "2827      MainScreenAppear  3737462046622621720       1564618080     246   \n",
       "2828      MainScreenAppear  3737462046622621720       1564618135     246   \n",
       "2829    OffersScreenAppear  3737462046622621720       1564618138     246   \n",
       "2830      MainScreenAppear  1433840883824088890       1564618139     247   \n",
       "...                    ...                  ...              ...     ...   \n",
       "243708    MainScreenAppear  4599628364049201812       1565212345     247   \n",
       "243709    MainScreenAppear  5849806612437486590       1565212439     246   \n",
       "243710    MainScreenAppear  5746969938801999050       1565212483     246   \n",
       "243711    MainScreenAppear  5746969938801999050       1565212498     246   \n",
       "243712  OffersScreenAppear  5746969938801999050       1565212517     246   \n",
       "\n",
       "                 date_time       date  \n",
       "2826   2019-08-01 00:07:28 2019-08-01  \n",
       "2827   2019-08-01 00:08:00 2019-08-01  \n",
       "2828   2019-08-01 00:08:55 2019-08-01  \n",
       "2829   2019-08-01 00:08:58 2019-08-01  \n",
       "2830   2019-08-01 00:08:59 2019-08-01  \n",
       "...                    ...        ...  \n",
       "243708 2019-08-07 21:12:25 2019-08-07  \n",
       "243709 2019-08-07 21:13:59 2019-08-07  \n",
       "243710 2019-08-07 21:14:43 2019-08-07  \n",
       "243711 2019-08-07 21:14:58 2019-08-07  \n",
       "243712 2019-08-07 21:15:17 2019-08-07  \n",
       "\n",
       "[240887 rows x 6 columns]"
      ]
     },
     "execution_count": 24,
     "metadata": {},
     "output_type": "execute_result"
    }
   ],
   "source": [
    "df_clean = df.loc[df['date'] > '2019-07-31']  \n",
    "df_clean"
   ]
  },
  {
   "cell_type": "markdown",
   "metadata": {},
   "source": [
    "Данные являются полными с 1 августа 2019 года"
   ]
  },
  {
   "cell_type": "markdown",
   "metadata": {},
   "source": [
    "<div style=\"border-radius: 15px; box-shadow: 4px 4px 4px; border: solid green 2px; padding: 20px\"> <b>Отличная работа - ✅</b><br>\n",
    "Диапазон полных данных выбран корректно!</div> <br>"
   ]
  },
  {
   "cell_type": "markdown",
   "metadata": {},
   "source": [
    "#### Много ли событий и пользователей вы потеряли, отбросив старые данные?"
   ]
  },
  {
   "cell_type": "code",
   "execution_count": 25,
   "metadata": {},
   "outputs": [
    {
     "name": "stdout",
     "output_type": "stream",
     "text": [
      "до: Всего событий 243713, типов событий 5\n",
      "после: Всего событий 240887, типов событий 5\n"
     ]
    }
   ],
   "source": [
    "print('до: Всего событий %d, типов событий %d' % (df.shape[0], df['event_name'].nunique()))\n",
    "print('после: Всего событий %d, типов событий %d' % (df_clean.shape[0], df_clean['event_name'].nunique()))"
   ]
  },
  {
   "cell_type": "code",
   "execution_count": 26,
   "metadata": {},
   "outputs": [
    {
     "name": "stdout",
     "output_type": "stream",
     "text": [
      "до: Всего пользователей в логе 7551\n",
      "после: Всего пользователей в логе 7534\n"
     ]
    }
   ],
   "source": [
    "print('до: Всего пользователей в логе %d' % (df['user_id'].nunique()))\n",
    "print('после: Всего пользователей в логе %d' % (df_clean['user_id'].nunique()))"
   ]
  },
  {
   "cell_type": "code",
   "execution_count": 27,
   "metadata": {},
   "outputs": [
    {
     "name": "stdout",
     "output_type": "stream",
     "text": [
      "до: В среднем событий на пользователя 32\n",
      "после: В среднем событий на пользователя 31\n"
     ]
    }
   ],
   "source": [
    "print('до: В среднем событий на пользователя %d' % (df.shape[0] / df['user_id'].nunique()))\n",
    "print('после: В среднем событий на пользователя %d' % (df_clean.shape[0] / df_clean['user_id'].nunique()))"
   ]
  },
  {
   "cell_type": "markdown",
   "metadata": {},
   "source": [
    "<div style=\"border-radius: 15px; box-shadow: 4px 4px 4px; border: solid orange 2px; padding: 20px\"> <b>Что можно улучшить - ⚠️</b><br>\n",
    "Часто удобно приводить не абсолютные цифры потерь, а относительные, тк 1% потерь от 100 и 100000 качественно одно и тоже, но в абсолютных цифрах отличаются на порядки</div> <br>"
   ]
  },
  {
   "cell_type": "markdown",
   "metadata": {},
   "source": [
    "#### Проверьте, что у вас есть пользователи из всех трёх экспериментальных групп"
   ]
  },
  {
   "cell_type": "code",
   "execution_count": 28,
   "metadata": {},
   "outputs": [
    {
     "data": {
      "text/html": [
       "<div>\n",
       "<style scoped>\n",
       "    .dataframe tbody tr th:only-of-type {\n",
       "        vertical-align: middle;\n",
       "    }\n",
       "\n",
       "    .dataframe tbody tr th {\n",
       "        vertical-align: top;\n",
       "    }\n",
       "\n",
       "    .dataframe thead th {\n",
       "        text-align: right;\n",
       "    }\n",
       "</style>\n",
       "<table border=\"1\" class=\"dataframe\">\n",
       "  <thead>\n",
       "    <tr style=\"text-align: right;\">\n",
       "      <th></th>\n",
       "      <th>user_id</th>\n",
       "    </tr>\n",
       "    <tr>\n",
       "      <th>exp_id</th>\n",
       "      <th></th>\n",
       "    </tr>\n",
       "  </thead>\n",
       "  <tbody>\n",
       "    <tr>\n",
       "      <td>246</td>\n",
       "      <td>2489</td>\n",
       "    </tr>\n",
       "    <tr>\n",
       "      <td>247</td>\n",
       "      <td>2520</td>\n",
       "    </tr>\n",
       "    <tr>\n",
       "      <td>248</td>\n",
       "      <td>2542</td>\n",
       "    </tr>\n",
       "  </tbody>\n",
       "</table>\n",
       "</div>"
      ],
      "text/plain": [
       "        user_id\n",
       "exp_id         \n",
       "246        2489\n",
       "247        2520\n",
       "248        2542"
      ]
     },
     "execution_count": 28,
     "metadata": {},
     "output_type": "execute_result"
    }
   ],
   "source": [
    "df.groupby('exp_id').agg({'user_id': 'nunique'})"
   ]
  },
  {
   "cell_type": "markdown",
   "metadata": {},
   "source": [
    "### Шаг 4. Изучите воронку событий"
   ]
  },
  {
   "cell_type": "markdown",
   "metadata": {},
   "source": [
    "#### Посмотрите, какие события есть в логах, как часто они встречаются. Отсортируйте события по частоте"
   ]
  },
  {
   "cell_type": "code",
   "execution_count": 29,
   "metadata": {},
   "outputs": [
    {
     "data": {
      "text/html": [
       "<div>\n",
       "<style scoped>\n",
       "    .dataframe tbody tr th:only-of-type {\n",
       "        vertical-align: middle;\n",
       "    }\n",
       "\n",
       "    .dataframe tbody tr th {\n",
       "        vertical-align: top;\n",
       "    }\n",
       "\n",
       "    .dataframe thead th {\n",
       "        text-align: right;\n",
       "    }\n",
       "</style>\n",
       "<table border=\"1\" class=\"dataframe\">\n",
       "  <thead>\n",
       "    <tr style=\"text-align: right;\">\n",
       "      <th></th>\n",
       "      <th>event_name</th>\n",
       "      <th>total_events</th>\n",
       "    </tr>\n",
       "  </thead>\n",
       "  <tbody>\n",
       "    <tr>\n",
       "      <td>1</td>\n",
       "      <td>MainScreenAppear</td>\n",
       "      <td>117328</td>\n",
       "    </tr>\n",
       "    <tr>\n",
       "      <td>2</td>\n",
       "      <td>OffersScreenAppear</td>\n",
       "      <td>46333</td>\n",
       "    </tr>\n",
       "    <tr>\n",
       "      <td>0</td>\n",
       "      <td>CartScreenAppear</td>\n",
       "      <td>42303</td>\n",
       "    </tr>\n",
       "    <tr>\n",
       "      <td>3</td>\n",
       "      <td>PaymentScreenSuccessful</td>\n",
       "      <td>33918</td>\n",
       "    </tr>\n",
       "    <tr>\n",
       "      <td>4</td>\n",
       "      <td>Tutorial</td>\n",
       "      <td>1005</td>\n",
       "    </tr>\n",
       "  </tbody>\n",
       "</table>\n",
       "</div>"
      ],
      "text/plain": [
       "                event_name  total_events\n",
       "1         MainScreenAppear        117328\n",
       "2       OffersScreenAppear         46333\n",
       "0         CartScreenAppear         42303\n",
       "3  PaymentScreenSuccessful         33918\n",
       "4                 Tutorial          1005"
      ]
     },
     "execution_count": 29,
     "metadata": {},
     "output_type": "execute_result"
    }
   ],
   "source": [
    "df_clean.groupby('event_name')['user_id'].count().reset_index().rename(columns={'user_id': 'total_events'}).sort_values(by='total_events', ascending=False)"
   ]
  },
  {
   "cell_type": "markdown",
   "metadata": {},
   "source": [
    "#### Посчитайте, сколько пользователей совершали каждое из этих событий. Отсортируйте события по числу пользователей. Посчитайте долю пользователей, которые хоть раз совершали событие"
   ]
  },
  {
   "cell_type": "code",
   "execution_count": 30,
   "metadata": {},
   "outputs": [
    {
     "data": {
      "text/html": [
       "<div>\n",
       "<style scoped>\n",
       "    .dataframe tbody tr th:only-of-type {\n",
       "        vertical-align: middle;\n",
       "    }\n",
       "\n",
       "    .dataframe tbody tr th {\n",
       "        vertical-align: top;\n",
       "    }\n",
       "\n",
       "    .dataframe thead th {\n",
       "        text-align: right;\n",
       "    }\n",
       "</style>\n",
       "<table border=\"1\" class=\"dataframe\">\n",
       "  <thead>\n",
       "    <tr style=\"text-align: right;\">\n",
       "      <th></th>\n",
       "      <th>event_name</th>\n",
       "      <th>total_users</th>\n",
       "    </tr>\n",
       "  </thead>\n",
       "  <tbody>\n",
       "    <tr>\n",
       "      <td>0</td>\n",
       "      <td>MainScreenAppear</td>\n",
       "      <td>7419</td>\n",
       "    </tr>\n",
       "    <tr>\n",
       "      <td>1</td>\n",
       "      <td>OffersScreenAppear</td>\n",
       "      <td>4593</td>\n",
       "    </tr>\n",
       "    <tr>\n",
       "      <td>2</td>\n",
       "      <td>CartScreenAppear</td>\n",
       "      <td>3734</td>\n",
       "    </tr>\n",
       "    <tr>\n",
       "      <td>3</td>\n",
       "      <td>PaymentScreenSuccessful</td>\n",
       "      <td>3539</td>\n",
       "    </tr>\n",
       "  </tbody>\n",
       "</table>\n",
       "</div>"
      ],
      "text/plain": [
       "                event_name  total_users\n",
       "0         MainScreenAppear         7419\n",
       "1       OffersScreenAppear         4593\n",
       "2         CartScreenAppear         3734\n",
       "3  PaymentScreenSuccessful         3539"
      ]
     },
     "execution_count": 30,
     "metadata": {},
     "output_type": "execute_result"
    }
   ],
   "source": [
    "funnel = df_clean.groupby('event_name')['user_id'].nunique().sort_values(ascending=False).to_frame().reset_index().rename(columns={'user_id': 'total_users'})\n",
    "funnel = funnel[:4]\n",
    "funnel"
   ]
  },
  {
   "cell_type": "markdown",
   "metadata": {},
   "source": [
    "#### Предположите, в каком порядке происходят события. Все ли они выстраиваются в последовательную цепочку? Их не нужно учитывать при расчёте воронки"
   ]
  },
  {
   "cell_type": "markdown",
   "metadata": {},
   "source": [
    "Главный экран -> Предложение -> Корзина -> Экран успешного платежа"
   ]
  },
  {
   "cell_type": "markdown",
   "metadata": {},
   "source": [
    "<div style=\"border-radius: 15px; box-shadow: 4px 4px 4px; border: solid green 2px; padding: 20px\"> <b>Отличная работа - ✅</b><br>\n",
    "Отлично, воронка сформирована верно!</div> <br>"
   ]
  },
  {
   "cell_type": "markdown",
   "metadata": {},
   "source": [
    "#### По воронке событий посчитайте, какая доля пользователей проходит на следующий шаг воронки (от числа пользователей на предыдущем). То есть для последовательности событий A → B → C посчитайте отношение числа пользователей с событием B к количеству пользователей с событием A, а также отношение числа пользователей с событием C к количеству пользователей с событием B"
   ]
  },
  {
   "cell_type": "code",
   "execution_count": 31,
   "metadata": {},
   "outputs": [
    {
     "data": {
      "text/plain": [
       "<matplotlib.axes._subplots.AxesSubplot at 0x7fa0bc19db50>"
      ]
     },
     "execution_count": 31,
     "metadata": {},
     "output_type": "execute_result"
    },
    {
     "data": {
      "image/png": "[encoded data removed]",
      "text/plain": [
       "<Figure size 1152x648 with 1 Axes>"
      ]
     },
     "metadata": {},
     "output_type": "display_data"
    }
   ],
   "source": [
    "funnel.plot(x='event_name', y = 'total_users', kind = 'bar')"
   ]
  },
  {
   "cell_type": "code",
   "execution_count": 32,
   "metadata": {},
   "outputs": [],
   "source": [
    "funnel['conversion'] = None\n",
    "funnel.iloc[0,2] = 1\n",
    "funnel.iloc[1,2] = funnel.iloc[1,1] / funnel.iloc[0,1] \n",
    "funnel.iloc[2,2] = funnel.iloc[2,1] / funnel.iloc[1,1]\n",
    "funnel.iloc[3,2] = funnel.iloc[3,1] / funnel.iloc[2,1]"
   ]
  },
  {
   "cell_type": "code",
   "execution_count": 33,
   "metadata": {},
   "outputs": [
    {
     "data": {
      "text/html": [
       "<div>\n",
       "<style scoped>\n",
       "    .dataframe tbody tr th:only-of-type {\n",
       "        vertical-align: middle;\n",
       "    }\n",
       "\n",
       "    .dataframe tbody tr th {\n",
       "        vertical-align: top;\n",
       "    }\n",
       "\n",
       "    .dataframe thead th {\n",
       "        text-align: right;\n",
       "    }\n",
       "</style>\n",
       "<table border=\"1\" class=\"dataframe\">\n",
       "  <thead>\n",
       "    <tr style=\"text-align: right;\">\n",
       "      <th></th>\n",
       "      <th>event_name</th>\n",
       "      <th>total_users</th>\n",
       "      <th>conversion</th>\n",
       "    </tr>\n",
       "  </thead>\n",
       "  <tbody>\n",
       "    <tr>\n",
       "      <td>0</td>\n",
       "      <td>MainScreenAppear</td>\n",
       "      <td>7419</td>\n",
       "      <td>1</td>\n",
       "    </tr>\n",
       "    <tr>\n",
       "      <td>1</td>\n",
       "      <td>OffersScreenAppear</td>\n",
       "      <td>4593</td>\n",
       "      <td>0.619086</td>\n",
       "    </tr>\n",
       "    <tr>\n",
       "      <td>2</td>\n",
       "      <td>CartScreenAppear</td>\n",
       "      <td>3734</td>\n",
       "      <td>0.812976</td>\n",
       "    </tr>\n",
       "    <tr>\n",
       "      <td>3</td>\n",
       "      <td>PaymentScreenSuccessful</td>\n",
       "      <td>3539</td>\n",
       "      <td>0.947777</td>\n",
       "    </tr>\n",
       "  </tbody>\n",
       "</table>\n",
       "</div>"
      ],
      "text/plain": [
       "                event_name  total_users conversion\n",
       "0         MainScreenAppear         7419          1\n",
       "1       OffersScreenAppear         4593   0.619086\n",
       "2         CartScreenAppear         3734   0.812976\n",
       "3  PaymentScreenSuccessful         3539   0.947777"
      ]
     },
     "execution_count": 33,
     "metadata": {},
     "output_type": "execute_result"
    }
   ],
   "source": [
    "funnel"
   ]
  },
  {
   "cell_type": "markdown",
   "metadata": {},
   "source": [
    "<div style=\"border-radius: 15px; box-shadow: 4px 4px 4px; border: solid orange 2px; padding: 20px\"> <b>Что можно улучшить - ⚠️</b><br>\n",
    "Способ с индексами не очень гибкий, чтобы рассчитать конверсию в шаг, достаточно сдвинуть столбец на одну позицию - ниже пример</div> <br>"
   ]
  },
  {
   "cell_type": "code",
   "execution_count": 34,
   "metadata": {},
   "outputs": [
    {
     "data": {
      "text/html": [
       "<div>\n",
       "<style scoped>\n",
       "    .dataframe tbody tr th:only-of-type {\n",
       "        vertical-align: middle;\n",
       "    }\n",
       "\n",
       "    .dataframe tbody tr th {\n",
       "        vertical-align: top;\n",
       "    }\n",
       "\n",
       "    .dataframe thead th {\n",
       "        text-align: right;\n",
       "    }\n",
       "</style>\n",
       "<table border=\"1\" class=\"dataframe\">\n",
       "  <thead>\n",
       "    <tr style=\"text-align: right;\">\n",
       "      <th></th>\n",
       "      <th>event_name</th>\n",
       "      <th>total_users</th>\n",
       "      <th>conversion</th>\n",
       "      <th>total_users_shift</th>\n",
       "      <th>cr</th>\n",
       "    </tr>\n",
       "  </thead>\n",
       "  <tbody>\n",
       "    <tr>\n",
       "      <td>0</td>\n",
       "      <td>MainScreenAppear</td>\n",
       "      <td>7419</td>\n",
       "      <td>1</td>\n",
       "      <td>7419</td>\n",
       "      <td>1.000000</td>\n",
       "    </tr>\n",
       "    <tr>\n",
       "      <td>1</td>\n",
       "      <td>OffersScreenAppear</td>\n",
       "      <td>4593</td>\n",
       "      <td>0.619086</td>\n",
       "      <td>4593</td>\n",
       "      <td>0.619086</td>\n",
       "    </tr>\n",
       "    <tr>\n",
       "      <td>2</td>\n",
       "      <td>CartScreenAppear</td>\n",
       "      <td>3734</td>\n",
       "      <td>0.812976</td>\n",
       "      <td>3734</td>\n",
       "      <td>0.812976</td>\n",
       "    </tr>\n",
       "    <tr>\n",
       "      <td>3</td>\n",
       "      <td>PaymentScreenSuccessful</td>\n",
       "      <td>3539</td>\n",
       "      <td>0.947777</td>\n",
       "      <td>3539</td>\n",
       "      <td>0.947777</td>\n",
       "    </tr>\n",
       "  </tbody>\n",
       "</table>\n",
       "</div>"
      ],
      "text/plain": [
       "                event_name  total_users conversion  total_users_shift  \\\n",
       "0         MainScreenAppear         7419          1               7419   \n",
       "1       OffersScreenAppear         4593   0.619086               4593   \n",
       "2         CartScreenAppear         3734   0.812976               3734   \n",
       "3  PaymentScreenSuccessful         3539   0.947777               3539   \n",
       "\n",
       "         cr  \n",
       "0  1.000000  \n",
       "1  0.619086  \n",
       "2  0.812976  \n",
       "3  0.947777  "
      ]
     },
     "execution_count": 34,
     "metadata": {},
     "output_type": "execute_result"
    }
   ],
   "source": [
    "funnel\\\n",
    "    .assign(total_users_shift=lambda row: row['total_users'],\n",
    "            cr=lambda row: row['total_users'] / row['total_users'].shift().fillna(row['total_users'].max()))"
   ]
  },
  {
   "cell_type": "markdown",
   "metadata": {},
   "source": [
    "Для получения сдвига используется <a href=\"https://pandas.pydata.org/docs/reference/api/pandas.DataFrame.shift.html\">метод shift</a>\n",
    "<hr style=\"border: 2px solid orange;\" />"
   ]
  },
  {
   "cell_type": "markdown",
   "metadata": {},
   "source": [
    "#### На каком шаге теряете больше всего пользователей?"
   ]
  },
  {
   "cell_type": "markdown",
   "metadata": {},
   "source": [
    "Больше всего мы теряем пользователей на шаге \"Главный экран\""
   ]
  },
  {
   "cell_type": "markdown",
   "metadata": {},
   "source": [
    "#### Какая доля пользователей доходит от первого события до оплаты?"
   ]
  },
  {
   "cell_type": "code",
   "execution_count": 35,
   "metadata": {},
   "outputs": [
    {
     "name": "stdout",
     "output_type": "stream",
     "text": [
      "47.70% пользователей дошли от первого шага до успешной покупки\n"
     ]
    }
   ],
   "source": [
    "print('{:.2%} пользователей дошли от первого шага до успешной покупки'.format(funnel.iloc[3,1] / funnel.iloc[0,1]))"
   ]
  },
  {
   "cell_type": "markdown",
   "metadata": {},
   "source": [
    "### Шаг 5. Изучите результаты эксперимента"
   ]
  },
  {
   "cell_type": "markdown",
   "metadata": {},
   "source": [
    "#### Сколько пользователей в каждой экспериментальной группе?"
   ]
  },
  {
   "cell_type": "code",
   "execution_count": 36,
   "metadata": {},
   "outputs": [
    {
     "data": {
      "text/plain": [
       "exp_id\n",
       "246    2484\n",
       "247    2513\n",
       "248    2537\n",
       "Name: user_id, dtype: int64"
      ]
     },
     "execution_count": 36,
     "metadata": {},
     "output_type": "execute_result"
    }
   ],
   "source": [
    "users = df_clean.groupby('exp_id')['user_id'].nunique()\n",
    "users"
   ]
  },
  {
   "cell_type": "markdown",
   "metadata": {},
   "source": [
    "#### Есть 2 контрольные группы для А/А-эксперимента, чтобы проверить корректность всех механизмов и расчётов. Проверьте, находят ли статистические критерии разницу между выборками 246 и 247."
   ]
  },
  {
   "cell_type": "markdown",
   "metadata": {},
   "source": [
    "Критерии успешного A/A-теста:"
   ]
  },
  {
   "cell_type": "markdown",
   "metadata": {},
   "source": [
    "Количество пользователей в различных группах различается не более, чем на 1% или 0.5%"
   ]
  },
  {
   "cell_type": "markdown",
   "metadata": {},
   "source": [
    "Для всех групп фиксируют и отправляют в системы аналитики данные об одном и том же"
   ]
  },
  {
   "cell_type": "markdown",
   "metadata": {},
   "source": [
    "Различие ключевых метрик по группам не превышает 1% и не имеет статистической значимости"
   ]
  },
  {
   "cell_type": "markdown",
   "metadata": {},
   "source": [
    "Попавший в одну из групп посетитель остаётся в этой группе до конца теста. Если пользователь видит разные версии исследуемой страницы в ходе одного исследования, неизвестно, какая именно повлияла на его решения. Значит, и результаты такого теста нельзя интерпретировать однозначно."
   ]
  },
  {
   "cell_type": "code",
   "execution_count": 37,
   "metadata": {},
   "outputs": [],
   "source": [
    "exp_246 = df_clean[(df_clean['exp_id'] == 246) & (df_clean['event_name'] != 'Tutorial')]\n",
    "exp_247 = df_clean[(df_clean['exp_id'] == 247) & (df_clean['event_name'] != 'Tutorial')]\n",
    "exp_248 = df_clean[(df_clean['exp_id'] == 248) & (df_clean['event_name'] != 'Tutorial')]"
   ]
  },
  {
   "cell_type": "code",
   "execution_count": 38,
   "metadata": {},
   "outputs": [],
   "source": [
    "funnel_246 = exp_246.groupby('event_name')['user_id'].nunique().sort_values(ascending=False).to_frame().reset_index()\\\n",
    "        .rename(columns={'user_id': 'total_users'})\n",
    "funnel_247 = exp_247.groupby('event_name')['user_id'].nunique().sort_values(ascending=False).to_frame().reset_index()\\\n",
    "        .rename(columns={'user_id': 'total_users'})\n",
    "funnel_248 = exp_248.groupby('event_name')['user_id'].nunique().sort_values(ascending=False).to_frame().reset_index()\\\n",
    "        .rename(columns={'user_id': 'total_users'})"
   ]
  },
  {
   "cell_type": "code",
   "execution_count": 39,
   "metadata": {},
   "outputs": [],
   "source": [
    "#funnel_247['total_users'].sum() / funnel_246['total_users'].sum() * 100"
   ]
  },
  {
   "cell_type": "markdown",
   "metadata": {},
   "source": [
    "<div class=\"alert alert-info\" style=\"border:solid blue 2px; padding: 20px\"> <b>Комментарий студента:</b> Убрал строчку выше</div>"
   ]
  },
  {
   "cell_type": "markdown",
   "metadata": {},
   "source": [
    "<div style=\"border-radius: 15px; box-shadow: 4px 4px 4px; border: solid red 2px; padding: 20px\"> <b>Что необходимо доработать - ⛔️</b><br>\n",
    "Не очень понимаю, что за проверку ты выполняешь в ячейке выше. Но выполнение команды <code>funnel_247['total_users'].sum()</code> - некорректно. Тк пользователи переходят с шага на шаг и 1 пользователь может быть на всех этапах, а ты его считаешь за 4 пользователей при такой сумме </div><br>"
   ]
  },
  {
   "cell_type": "markdown",
   "metadata": {},
   "source": [
    "<div style=\"border-radius: 15px; box-shadow: 4px 4px 4px; border: solid green 2px; padding: 20px\"> <b>Отличная работа 2</b><br>👍</div> "
   ]
  },
  {
   "cell_type": "code",
   "execution_count": 40,
   "metadata": {},
   "outputs": [
    {
     "data": {
      "text/plain": [
       "0    101.061224\n",
       "1     98.573281\n",
       "2     97.788310\n",
       "3     96.500000\n",
       "Name: total_users, dtype: float64"
      ]
     },
     "execution_count": 40,
     "metadata": {},
     "output_type": "execute_result"
    }
   ],
   "source": [
    "funnel_247['total_users'] / funnel_246['total_users'] * 100"
   ]
  },
  {
   "cell_type": "code",
   "execution_count": 41,
   "metadata": {},
   "outputs": [
    {
     "data": {
      "text/plain": [
       "Text(0.5, 1.0, '246')"
      ]
     },
     "execution_count": 41,
     "metadata": {},
     "output_type": "execute_result"
    },
    {
     "data": {
      "image/png": "[encoded data removed]",
      "text/plain": [
       "<Figure size 1152x648 with 1 Axes>"
      ]
     },
     "metadata": {},
     "output_type": "display_data"
    }
   ],
   "source": [
    "funnel_246.plot(kind='bar')\n",
    "plt.xlabel('total_users')\n",
    "plt.ylabel('event_name')\n",
    "plt.title('246')"
   ]
  },
  {
   "cell_type": "code",
   "execution_count": 42,
   "metadata": {},
   "outputs": [
    {
     "data": {
      "text/plain": [
       "Text(0.5, 1.0, '247')"
      ]
     },
     "execution_count": 42,
     "metadata": {},
     "output_type": "execute_result"
    },
    {
     "data": {
      "image/png": "[encoded data removed]",
      "text/plain": [
       "<Figure size 1152x648 with 1 Axes>"
      ]
     },
     "metadata": {},
     "output_type": "display_data"
    }
   ],
   "source": [
    "funnel_247.plot(kind='bar')\n",
    "plt.xlabel('total_users')\n",
    "plt.ylabel('event_name')\n",
    "plt.title('247')"
   ]
  },
  {
   "cell_type": "code",
   "execution_count": 43,
   "metadata": {},
   "outputs": [
    {
     "data": {
      "text/plain": [
       "Text(0.5, 1.0, '248')"
      ]
     },
     "execution_count": 43,
     "metadata": {},
     "output_type": "execute_result"
    },
    {
     "data": {
      "image/png": "[encoded data removed]",
      "text/plain": [
       "<Figure size 1152x648 with 1 Axes>"
      ]
     },
     "metadata": {},
     "output_type": "display_data"
    }
   ],
   "source": [
    "funnel_248.plot(kind='bar')\n",
    "plt.xlabel('total_users')\n",
    "plt.ylabel('event_name')\n",
    "plt.title('248')"
   ]
  },
  {
   "cell_type": "code",
   "execution_count": 44,
   "metadata": {},
   "outputs": [
    {
     "data": {
      "text/html": [
       "<div>\n",
       "<style scoped>\n",
       "    .dataframe tbody tr th:only-of-type {\n",
       "        vertical-align: middle;\n",
       "    }\n",
       "\n",
       "    .dataframe tbody tr th {\n",
       "        vertical-align: top;\n",
       "    }\n",
       "\n",
       "    .dataframe thead th {\n",
       "        text-align: right;\n",
       "    }\n",
       "</style>\n",
       "<table border=\"1\" class=\"dataframe\">\n",
       "  <thead>\n",
       "    <tr style=\"text-align: right;\">\n",
       "      <th></th>\n",
       "      <th>user_id</th>\n",
       "      <th>exp_id</th>\n",
       "    </tr>\n",
       "  </thead>\n",
       "  <tbody>\n",
       "  </tbody>\n",
       "</table>\n",
       "</div>"
      ],
      "text/plain": [
       "Empty DataFrame\n",
       "Columns: [user_id, exp_id]\n",
       "Index: []"
      ]
     },
     "execution_count": 44,
     "metadata": {},
     "output_type": "execute_result"
    }
   ],
   "source": [
    "df_clean.groupby('user_id')['exp_id'].nunique().reset_index().query('exp_id > 1')\n",
    "# Пользователей в разных группах нет"
   ]
  },
  {
   "cell_type": "code",
   "execution_count": 45,
   "metadata": {},
   "outputs": [
    {
     "data": {
      "text/html": [
       "<div>\n",
       "<style scoped>\n",
       "    .dataframe tbody tr th:only-of-type {\n",
       "        vertical-align: middle;\n",
       "    }\n",
       "\n",
       "    .dataframe tbody tr th {\n",
       "        vertical-align: top;\n",
       "    }\n",
       "\n",
       "    .dataframe thead th {\n",
       "        text-align: right;\n",
       "    }\n",
       "</style>\n",
       "<table border=\"1\" class=\"dataframe\">\n",
       "  <thead>\n",
       "    <tr style=\"text-align: right;\">\n",
       "      <th></th>\n",
       "      <th>event_name</th>\n",
       "      <th>total_users</th>\n",
       "    </tr>\n",
       "  </thead>\n",
       "  <tbody>\n",
       "    <tr>\n",
       "      <td>0</td>\n",
       "      <td>MainScreenAppear</td>\n",
       "      <td>2450</td>\n",
       "    </tr>\n",
       "    <tr>\n",
       "      <td>1</td>\n",
       "      <td>OffersScreenAppear</td>\n",
       "      <td>1542</td>\n",
       "    </tr>\n",
       "    <tr>\n",
       "      <td>2</td>\n",
       "      <td>CartScreenAppear</td>\n",
       "      <td>1266</td>\n",
       "    </tr>\n",
       "    <tr>\n",
       "      <td>3</td>\n",
       "      <td>PaymentScreenSuccessful</td>\n",
       "      <td>1200</td>\n",
       "    </tr>\n",
       "  </tbody>\n",
       "</table>\n",
       "</div>"
      ],
      "text/plain": [
       "                event_name  total_users\n",
       "0         MainScreenAppear         2450\n",
       "1       OffersScreenAppear         1542\n",
       "2         CartScreenAppear         1266\n",
       "3  PaymentScreenSuccessful         1200"
      ]
     },
     "execution_count": 45,
     "metadata": {},
     "output_type": "execute_result"
    }
   ],
   "source": [
    "funnel_246"
   ]
  },
  {
   "cell_type": "code",
   "execution_count": 46,
   "metadata": {},
   "outputs": [
    {
     "data": {
      "text/html": [
       "<div>\n",
       "<style scoped>\n",
       "    .dataframe tbody tr th:only-of-type {\n",
       "        vertical-align: middle;\n",
       "    }\n",
       "\n",
       "    .dataframe tbody tr th {\n",
       "        vertical-align: top;\n",
       "    }\n",
       "\n",
       "    .dataframe thead th {\n",
       "        text-align: right;\n",
       "    }\n",
       "</style>\n",
       "<table border=\"1\" class=\"dataframe\">\n",
       "  <thead>\n",
       "    <tr style=\"text-align: right;\">\n",
       "      <th></th>\n",
       "      <th>event_name</th>\n",
       "      <th>total_users</th>\n",
       "    </tr>\n",
       "  </thead>\n",
       "  <tbody>\n",
       "    <tr>\n",
       "      <td>0</td>\n",
       "      <td>MainScreenAppear</td>\n",
       "      <td>2476</td>\n",
       "    </tr>\n",
       "    <tr>\n",
       "      <td>1</td>\n",
       "      <td>OffersScreenAppear</td>\n",
       "      <td>1520</td>\n",
       "    </tr>\n",
       "    <tr>\n",
       "      <td>2</td>\n",
       "      <td>CartScreenAppear</td>\n",
       "      <td>1238</td>\n",
       "    </tr>\n",
       "    <tr>\n",
       "      <td>3</td>\n",
       "      <td>PaymentScreenSuccessful</td>\n",
       "      <td>1158</td>\n",
       "    </tr>\n",
       "  </tbody>\n",
       "</table>\n",
       "</div>"
      ],
      "text/plain": [
       "                event_name  total_users\n",
       "0         MainScreenAppear         2476\n",
       "1       OffersScreenAppear         1520\n",
       "2         CartScreenAppear         1238\n",
       "3  PaymentScreenSuccessful         1158"
      ]
     },
     "execution_count": 46,
     "metadata": {},
     "output_type": "execute_result"
    }
   ],
   "source": [
    "funnel_247"
   ]
  },
  {
   "cell_type": "code",
   "execution_count": 47,
   "metadata": {},
   "outputs": [
    {
     "data": {
      "text/html": [
       "<div>\n",
       "<style scoped>\n",
       "    .dataframe tbody tr th:only-of-type {\n",
       "        vertical-align: middle;\n",
       "    }\n",
       "\n",
       "    .dataframe tbody tr th {\n",
       "        vertical-align: top;\n",
       "    }\n",
       "\n",
       "    .dataframe thead th {\n",
       "        text-align: right;\n",
       "    }\n",
       "</style>\n",
       "<table border=\"1\" class=\"dataframe\">\n",
       "  <thead>\n",
       "    <tr style=\"text-align: right;\">\n",
       "      <th></th>\n",
       "      <th>event_name</th>\n",
       "      <th>total_users</th>\n",
       "    </tr>\n",
       "  </thead>\n",
       "  <tbody>\n",
       "    <tr>\n",
       "      <td>0</td>\n",
       "      <td>MainScreenAppear</td>\n",
       "      <td>2493</td>\n",
       "    </tr>\n",
       "    <tr>\n",
       "      <td>1</td>\n",
       "      <td>OffersScreenAppear</td>\n",
       "      <td>1531</td>\n",
       "    </tr>\n",
       "    <tr>\n",
       "      <td>2</td>\n",
       "      <td>CartScreenAppear</td>\n",
       "      <td>1230</td>\n",
       "    </tr>\n",
       "    <tr>\n",
       "      <td>3</td>\n",
       "      <td>PaymentScreenSuccessful</td>\n",
       "      <td>1181</td>\n",
       "    </tr>\n",
       "  </tbody>\n",
       "</table>\n",
       "</div>"
      ],
      "text/plain": [
       "                event_name  total_users\n",
       "0         MainScreenAppear         2493\n",
       "1       OffersScreenAppear         1531\n",
       "2         CartScreenAppear         1230\n",
       "3  PaymentScreenSuccessful         1181"
      ]
     },
     "execution_count": 47,
     "metadata": {},
     "output_type": "execute_result"
    }
   ],
   "source": [
    "funnel_248"
   ]
  },
  {
   "cell_type": "markdown",
   "metadata": {},
   "source": [
    "Разницы между группами нет"
   ]
  },
  {
   "cell_type": "markdown",
   "metadata": {},
   "source": [
    "#### Выберите самое популярное событие. Посчитайте число пользователей, совершивших это событие в каждой из контрольных групп. Посчитайте долю пользователей, совершивших это событие. Проверьте, будет ли отличие между группами статистически достоверным. Проделайте то же самое для всех других событий (удобно обернуть проверку в отдельную функцию). Можно ли сказать, что разбиение на группы работает корректно?"
   ]
  },
  {
   "cell_type": "code",
   "execution_count": 48,
   "metadata": {},
   "outputs": [
    {
     "data": {
      "text/html": [
       "<div>\n",
       "<style scoped>\n",
       "    .dataframe tbody tr th:only-of-type {\n",
       "        vertical-align: middle;\n",
       "    }\n",
       "\n",
       "    .dataframe tbody tr th {\n",
       "        vertical-align: top;\n",
       "    }\n",
       "\n",
       "    .dataframe thead th {\n",
       "        text-align: right;\n",
       "    }\n",
       "</style>\n",
       "<table border=\"1\" class=\"dataframe\">\n",
       "  <thead>\n",
       "    <tr style=\"text-align: right;\">\n",
       "      <th>exp_id</th>\n",
       "      <th>246</th>\n",
       "      <th>247</th>\n",
       "      <th>248</th>\n",
       "      <th>246+247</th>\n",
       "    </tr>\n",
       "    <tr>\n",
       "      <th>event_name</th>\n",
       "      <th></th>\n",
       "      <th></th>\n",
       "      <th></th>\n",
       "      <th></th>\n",
       "    </tr>\n",
       "  </thead>\n",
       "  <tbody>\n",
       "    <tr>\n",
       "      <td>MainScreenAppear</td>\n",
       "      <td>2450</td>\n",
       "      <td>2476</td>\n",
       "      <td>2493</td>\n",
       "      <td>4926</td>\n",
       "    </tr>\n",
       "    <tr>\n",
       "      <td>OffersScreenAppear</td>\n",
       "      <td>1542</td>\n",
       "      <td>1520</td>\n",
       "      <td>1531</td>\n",
       "      <td>3062</td>\n",
       "    </tr>\n",
       "    <tr>\n",
       "      <td>CartScreenAppear</td>\n",
       "      <td>1266</td>\n",
       "      <td>1238</td>\n",
       "      <td>1230</td>\n",
       "      <td>2504</td>\n",
       "    </tr>\n",
       "    <tr>\n",
       "      <td>PaymentScreenSuccessful</td>\n",
       "      <td>1200</td>\n",
       "      <td>1158</td>\n",
       "      <td>1181</td>\n",
       "      <td>2358</td>\n",
       "    </tr>\n",
       "  </tbody>\n",
       "</table>\n",
       "</div>"
      ],
      "text/plain": [
       "exp_id                    246   247   248  246+247\n",
       "event_name                                        \n",
       "MainScreenAppear         2450  2476  2493     4926\n",
       "OffersScreenAppear       1542  1520  1531     3062\n",
       "CartScreenAppear         1266  1238  1230     2504\n",
       "PaymentScreenSuccessful  1200  1158  1181     2358"
      ]
     },
     "execution_count": 48,
     "metadata": {},
     "output_type": "execute_result"
    }
   ],
   "source": [
    "all_funnels = df_clean.pivot_table(index='event_name', columns='exp_id',values='user_id',aggfunc='nunique')\\\n",
    "                       .sort_values(246,ascending=False)\n",
    "all_funnels['246+247'] = all_funnels[246] + all_funnels[247]\n",
    "all_funnels.drop(['Tutorial'], inplace=True)\n",
    "all_funnels"
   ]
  },
  {
   "cell_type": "code",
   "execution_count": 49,
   "metadata": {},
   "outputs": [],
   "source": [
    "users = users.to_frame().reset_index()\n",
    "users.loc[3] = ['246+247', 4997]"
   ]
  },
  {
   "cell_type": "code",
   "execution_count": 50,
   "metadata": {},
   "outputs": [
    {
     "data": {
      "text/html": [
       "<div>\n",
       "<style scoped>\n",
       "    .dataframe tbody tr th:only-of-type {\n",
       "        vertical-align: middle;\n",
       "    }\n",
       "\n",
       "    .dataframe tbody tr th {\n",
       "        vertical-align: top;\n",
       "    }\n",
       "\n",
       "    .dataframe thead th {\n",
       "        text-align: right;\n",
       "    }\n",
       "</style>\n",
       "<table border=\"1\" class=\"dataframe\">\n",
       "  <thead>\n",
       "    <tr style=\"text-align: right;\">\n",
       "      <th></th>\n",
       "      <th>user_id</th>\n",
       "    </tr>\n",
       "    <tr>\n",
       "      <th>exp_id</th>\n",
       "      <th></th>\n",
       "    </tr>\n",
       "  </thead>\n",
       "  <tbody>\n",
       "    <tr>\n",
       "      <td>246</td>\n",
       "      <td>2484</td>\n",
       "    </tr>\n",
       "    <tr>\n",
       "      <td>247</td>\n",
       "      <td>2513</td>\n",
       "    </tr>\n",
       "    <tr>\n",
       "      <td>248</td>\n",
       "      <td>2537</td>\n",
       "    </tr>\n",
       "    <tr>\n",
       "      <td>246+247</td>\n",
       "      <td>4997</td>\n",
       "    </tr>\n",
       "  </tbody>\n",
       "</table>\n",
       "</div>"
      ],
      "text/plain": [
       "         user_id\n",
       "exp_id          \n",
       "246         2484\n",
       "247         2513\n",
       "248         2537\n",
       "246+247     4997"
      ]
     },
     "execution_count": 50,
     "metadata": {},
     "output_type": "execute_result"
    }
   ],
   "source": [
    "users = users.set_index(users.columns[0])\n",
    "users"
   ]
  },
  {
   "cell_type": "markdown",
   "metadata": {},
   "source": [
    "Н0: между группами нет различий"
   ]
  },
  {
   "cell_type": "markdown",
   "metadata": {},
   "source": [
    "Н1: между группами есть различия"
   ]
  },
  {
   "cell_type": "markdown",
   "metadata": {},
   "source": [
    "<div style=\"border-radius: 15px; box-shadow: 4px 4px 4px; border: solid green 2px; padding: 20px\"> <b>Отличная работа</b><br>\n",
    "Гипотезы сформулированы верно ✅</div> <br>"
   ]
  },
  {
   "cell_type": "code",
   "execution_count": 51,
   "metadata": {},
   "outputs": [],
   "source": [
    "def z_test(exp1, exp2, event, alpha): \n",
    "    p1_ev = all_funnels.loc[event, exp1]\n",
    "    p2_ev = all_funnels.loc[event, exp2] \n",
    "    p1_us = users.loc[exp1, 'user_id'] \n",
    "    p2_us = users.loc[exp2, 'user_id'] \n",
    "    p1 = p1_ev / p1_us \n",
    "    p2 = p2_ev / p2_us \n",
    "    difference = p1 - p2\n",
    "    p_combined = (p1_ev + p2_ev) / (p1_us + p2_us) \n",
    "    z_value = difference / mth.sqrt(p_combined * (1 - p_combined) * (1 / p1_us + 1 / p2_us))\n",
    "    distr = st.norm(0, 1)\n",
    "    p_value = (1 - distr.cdf(abs(z_value))) * 2\n",
    "    print('Проверка для  {} и {}, событие: {}, p-значение: {p_value:.2f}'.format(exp1, exp2, event, p_value=p_value))\n",
    "    if (p_value < alpha):\n",
    "        print(\"Отвергаем нулевую гипотезу\")\n",
    "    else:\n",
    "        print(\"Не удалось отвергнуть нулевую гипотезу\")"
   ]
  },
  {
   "cell_type": "code",
   "execution_count": 52,
   "metadata": {},
   "outputs": [
    {
     "name": "stdout",
     "output_type": "stream",
     "text": [
      "Проверка для  246 и 247, событие: MainScreenAppear, p-значение: 0.76\n",
      "Не удалось отвергнуть нулевую гипотезу\n",
      "\n",
      "Проверка для  246 и 247, событие: OffersScreenAppear, p-значение: 0.25\n",
      "Не удалось отвергнуть нулевую гипотезу\n",
      "\n",
      "Проверка для  246 и 247, событие: CartScreenAppear, p-значение: 0.23\n",
      "Не удалось отвергнуть нулевую гипотезу\n",
      "\n",
      "Проверка для  246 и 247, событие: PaymentScreenSuccessful, p-значение: 0.11\n",
      "Не удалось отвергнуть нулевую гипотезу\n",
      "\n"
     ]
    }
   ],
   "source": [
    "for event in all_funnels.index:\n",
    "    z_test(246, 247, event, 0.05)\n",
    "    print()"
   ]
  },
  {
   "cell_type": "markdown",
   "metadata": {},
   "source": [
    "Между долями нет различий"
   ]
  },
  {
   "cell_type": "markdown",
   "metadata": {},
   "source": [
    "<div style=\"border-radius: 15px; box-shadow: 4px 4px 4px; border: solid green 2px; padding: 20px\"> <b>Отличная работа - ✅</b><br>\n",
    "Супер, АА тест корректно, можно двигаться дальше!</div> <br>"
   ]
  },
  {
   "cell_type": "markdown",
   "metadata": {},
   "source": [
    "#### Аналогично поступите с группой с изменённым шрифтом. Сравните результаты с каждой из контрольных групп в отдельности по каждому событию. Сравните результаты с объединённой контрольной группой. Какие выводы из эксперимента можно сделать?\n"
   ]
  },
  {
   "cell_type": "code",
   "execution_count": 53,
   "metadata": {},
   "outputs": [
    {
     "name": "stdout",
     "output_type": "stream",
     "text": [
      "Проверка для  246 и 248, событие: MainScreenAppear, p-значение: 0.29\n",
      "Не удалось отвергнуть нулевую гипотезу\n",
      "\n",
      "Проверка для  246 и 248, событие: OffersScreenAppear, p-значение: 0.21\n",
      "Не удалось отвергнуть нулевую гипотезу\n",
      "\n",
      "Проверка для  246 и 248, событие: CartScreenAppear, p-значение: 0.08\n",
      "Не удалось отвергнуть нулевую гипотезу\n",
      "\n",
      "Проверка для  246 и 248, событие: PaymentScreenSuccessful, p-значение: 0.21\n",
      "Не удалось отвергнуть нулевую гипотезу\n",
      "\n"
     ]
    }
   ],
   "source": [
    "for event in all_funnels.index:\n",
    "    z_test(246, 248, event, 0.05)\n",
    "    print()"
   ]
  },
  {
   "cell_type": "code",
   "execution_count": 54,
   "metadata": {},
   "outputs": [
    {
     "name": "stdout",
     "output_type": "stream",
     "text": [
      "Проверка для  247 и 248, событие: MainScreenAppear, p-значение: 0.46\n",
      "Не удалось отвергнуть нулевую гипотезу\n",
      "\n",
      "Проверка для  247 и 248, событие: OffersScreenAppear, p-значение: 0.92\n",
      "Не удалось отвергнуть нулевую гипотезу\n",
      "\n",
      "Проверка для  247 и 248, событие: CartScreenAppear, p-значение: 0.58\n",
      "Не удалось отвергнуть нулевую гипотезу\n",
      "\n",
      "Проверка для  247 и 248, событие: PaymentScreenSuccessful, p-значение: 0.74\n",
      "Не удалось отвергнуть нулевую гипотезу\n",
      "\n"
     ]
    }
   ],
   "source": [
    "for event in all_funnels.index:\n",
    "    z_test(247, 248, event, 0.05)\n",
    "    print()"
   ]
  },
  {
   "cell_type": "code",
   "execution_count": 55,
   "metadata": {},
   "outputs": [
    {
     "name": "stdout",
     "output_type": "stream",
     "text": [
      "Проверка для  246+247 и 248, событие: MainScreenAppear, p-значение: 0.29\n",
      "Не удалось отвергнуть нулевую гипотезу\n",
      "\n",
      "Проверка для  246+247 и 248, событие: OffersScreenAppear, p-значение: 0.43\n",
      "Не удалось отвергнуть нулевую гипотезу\n",
      "\n",
      "Проверка для  246+247 и 248, событие: CartScreenAppear, p-значение: 0.18\n",
      "Не удалось отвергнуть нулевую гипотезу\n",
      "\n",
      "Проверка для  246+247 и 248, событие: PaymentScreenSuccessful, p-значение: 0.60\n",
      "Не удалось отвергнуть нулевую гипотезу\n",
      "\n"
     ]
    }
   ],
   "source": [
    "for event in all_funnels.index:\n",
    "    z_test('246+247', 248, event, 0.05)\n",
    "    print()"
   ]
  },
  {
   "cell_type": "markdown",
   "metadata": {},
   "source": [
    "Между долями нет различий"
   ]
  },
  {
   "cell_type": "markdown",
   "metadata": {},
   "source": [
    "#### Какой уровень значимости вы выбрали при проверке статистических гипотез выше? Посчитайте, сколько проверок статистических гипотез вы сделали. При уровне значимости 0.1 каждый десятый раз можно получать ложный результат. Какой уровень значимости стоит применить? Если вы хотите изменить его, проделайте предыдущие пункты и проверьте свои выводы."
   ]
  },
  {
   "cell_type": "markdown",
   "metadata": {},
   "source": [
    "Критерий в 5%.\n",
    "4 AA теста и 12 AB тестов.\n",
    "Воронка намекала, что различий нет."
   ]
  },
  {
   "cell_type": "markdown",
   "metadata": {},
   "source": [
    "<div style=\"border-radius: 15px; box-shadow: 4px 4px 4px; border: solid green 2px; padding: 20px\"> <b>Отличная работа - ✅</b><br>\n",
    "Раздел проверки гипотез выполнен отлично, проверки корректны, результаты интерпретированы верно!</div> <br>"
   ]
  },
  {
   "cell_type": "markdown",
   "metadata": {},
   "source": [
    "<div style=\"border-radius: 15px; box-shadow: 4px 4px 4px; border: solid red 2px; padding: 20px\"> <b>Что необходимо доработать - ⛔️</b><br>\n",
    "Отсутствует общий вывод. Общий вывод можно построить следующим образом:\n",
    "    \n",
    "- краткий обзор выполненных работ (выполнили, сделали, рассчитали)\n",
    "- основные выводы (ответы на вопросы поставленные перед проектом)\n",
    "- рекомендации (если они (рекомендации) возможны)</div><br>"
   ]
  },
  {
   "cell_type": "markdown",
   "metadata": {},
   "source": [
    "<hr style=\"border: 2px solid green;\" />\n",
    "\n",
    "## Общий комментарий\n",
    "Спасибо за проделанную работу🤝\n",
    "\n",
    "Ержан, проект выполнен очень хорошо, ты отлично разобрался с проверкой данных по АА\\АВ тестированию, молодец👌\n",
    "\n",
    "Не обошлось без доработок:\n",
    "- корректно применить метод hist или иной другой\n",
    "- проверить корректность некоторых расчетов\n",
    "- сформулировать общий вывод\n",
    "\n",
    "\n",
    "Исправляй и отправляй на проверку🛠"
   ]
  },
  {
   "cell_type": "markdown",
   "metadata": {},
   "source": [
    "# Вывод"
   ]
  },
  {
   "cell_type": "markdown",
   "metadata": {},
   "source": [
    "После анализа можно сделать вывод, что у нас быол 243713 событий и 5 типов событий. \n",
    "у нас было 7551 пользователей. Мы выявили, что данные являются полными начиная с 1 августа\n",
    "2019 года. В изучении воронки мы определили 5 событий: MainScreenAppear, OffersScreenAppear,\n",
    "CartScreenAppear, PaymentScreenSuccessful, Tutorial. Для каждого из этих событий мы выявили \n",
    "кол-во пользователей. Были рассчитаны доли пользоватлей, которые переходят \n",
    "на следующие этапы. Используя критерии А/А теста было опредлено, что различия между \n",
    "группами отсутствуют. Самое популярное событие - MainScreenAppear. Что касается \n",
    "шрифта, то различий между пользователями не было. \n"
   ]
  },
  {
   "cell_type": "markdown",
   "metadata": {},
   "source": [
    "<div style=\"border-radius: 15px; box-shadow: 4px 4px 4px; border: solid green 2px; padding: 20px\"> <b>Отличная работа 2</b><br>👍</div> "
   ]
  }
 ],
 "metadata": {
  "ExecuteTimeLog": [
   {
    "duration": 164,
    "start_time": "2022-03-15T14:49:30.688Z"
   },
   {
    "duration": 36,
    "start_time": "2022-03-15T14:49:54.967Z"
   },
   {
    "duration": 15,
    "start_time": "2022-03-15T14:50:08.861Z"
   },
   {
    "duration": 20,
    "start_time": "2022-03-15T14:50:37.817Z"
   },
   {
    "duration": 86,
    "start_time": "2022-03-15T14:50:45.944Z"
   },
   {
    "duration": 112,
    "start_time": "2022-03-15T14:51:48.239Z"
   },
   {
    "duration": 84,
    "start_time": "2022-03-15T14:51:54.522Z"
   },
   {
    "duration": 119,
    "start_time": "2022-03-15T14:52:01.162Z"
   },
   {
    "duration": 85,
    "start_time": "2022-03-15T14:52:03.783Z"
   },
   {
    "duration": 108,
    "start_time": "2022-03-15T14:55:03.687Z"
   },
   {
    "duration": 15,
    "start_time": "2022-03-15T14:55:09.714Z"
   },
   {
    "duration": 85,
    "start_time": "2022-03-15T14:55:13.215Z"
   },
   {
    "duration": 15,
    "start_time": "2022-03-15T14:55:46.673Z"
   },
   {
    "duration": 327,
    "start_time": "2022-03-15T14:56:13.110Z"
   },
   {
    "duration": 83,
    "start_time": "2022-03-15T14:56:17.313Z"
   },
   {
    "duration": 5,
    "start_time": "2022-03-15T14:57:48.082Z"
   },
   {
    "duration": 4,
    "start_time": "2022-03-15T14:57:59.848Z"
   },
   {
    "duration": 11,
    "start_time": "2022-03-15T14:58:08.260Z"
   },
   {
    "duration": 145,
    "start_time": "2022-03-15T14:58:32.902Z"
   },
   {
    "duration": 139,
    "start_time": "2022-03-15T14:58:35.827Z"
   },
   {
    "duration": 105,
    "start_time": "2022-03-15T14:58:44.195Z"
   },
   {
    "duration": 51,
    "start_time": "2022-03-15T14:59:06.124Z"
   },
   {
    "duration": 39,
    "start_time": "2022-03-15T14:59:16.025Z"
   },
   {
    "duration": 22,
    "start_time": "2022-03-15T15:01:25.504Z"
   },
   {
    "duration": 7,
    "start_time": "2022-03-15T15:01:34.132Z"
   },
   {
    "duration": 7,
    "start_time": "2022-03-15T15:01:42.012Z"
   },
   {
    "duration": 21,
    "start_time": "2022-03-15T15:01:46.745Z"
   },
   {
    "duration": 8,
    "start_time": "2022-03-15T15:38:23.142Z"
   },
   {
    "duration": 20,
    "start_time": "2022-03-15T15:41:11.200Z"
   },
   {
    "duration": 6,
    "start_time": "2022-03-15T15:42:05.294Z"
   },
   {
    "duration": 4,
    "start_time": "2022-03-15T15:42:18.410Z"
   },
   {
    "duration": 7,
    "start_time": "2022-03-15T15:42:29.025Z"
   },
   {
    "duration": 5,
    "start_time": "2022-03-15T15:42:39.336Z"
   },
   {
    "duration": 5,
    "start_time": "2022-03-15T15:42:46.177Z"
   },
   {
    "duration": 17,
    "start_time": "2022-03-15T15:42:56.418Z"
   },
   {
    "duration": 42,
    "start_time": "2022-03-15T15:43:36.620Z"
   },
   {
    "duration": 804,
    "start_time": "2022-03-15T15:43:57.508Z"
   },
   {
    "duration": 17,
    "start_time": "2022-03-15T15:44:27.958Z"
   },
   {
    "duration": 202,
    "start_time": "2022-03-15T15:44:36.791Z"
   },
   {
    "duration": 31,
    "start_time": "2022-03-15T15:44:40.665Z"
   },
   {
    "duration": 36,
    "start_time": "2022-03-15T15:48:32.135Z"
   },
   {
    "duration": 10,
    "start_time": "2022-03-15T15:48:32.201Z"
   },
   {
    "duration": 11,
    "start_time": "2022-03-15T15:48:32.330Z"
   },
   {
    "duration": 45,
    "start_time": "2022-03-15T15:49:45.869Z"
   },
   {
    "duration": 40,
    "start_time": "2022-03-15T15:51:04.926Z"
   },
   {
    "duration": 72,
    "start_time": "2022-03-15T15:53:01.077Z"
   },
   {
    "duration": 185,
    "start_time": "2022-03-15T15:55:20.913Z"
   },
   {
    "duration": 4589,
    "start_time": "2022-03-15T15:58:29.513Z"
   },
   {
    "duration": 538,
    "start_time": "2022-03-15T15:58:46.874Z"
   },
   {
    "duration": 564,
    "start_time": "2022-03-15T15:59:02.617Z"
   },
   {
    "duration": 569,
    "start_time": "2022-03-15T16:02:24.662Z"
   },
   {
    "duration": 1027,
    "start_time": "2022-03-15T16:02:45.385Z"
   },
   {
    "duration": 343,
    "start_time": "2022-03-15T16:03:05.024Z"
   },
   {
    "duration": 506,
    "start_time": "2022-03-15T16:04:54.099Z"
   },
   {
    "duration": 87,
    "start_time": "2022-03-15T16:07:38.363Z"
   },
   {
    "duration": 600,
    "start_time": "2022-03-15T16:07:44.481Z"
   },
   {
    "duration": 6,
    "start_time": "2022-03-15T16:09:55.752Z"
   },
   {
    "duration": 6,
    "start_time": "2022-03-15T16:10:51.968Z"
   },
   {
    "duration": 6,
    "start_time": "2022-03-15T16:11:18.968Z"
   },
   {
    "duration": 76,
    "start_time": "2022-03-15T16:13:03.485Z"
   },
   {
    "duration": 546,
    "start_time": "2022-03-15T16:13:07.420Z"
   },
   {
    "duration": 11,
    "start_time": "2022-03-15T16:28:51.403Z"
   },
   {
    "duration": 11,
    "start_time": "2022-03-15T16:28:59.360Z"
   },
   {
    "duration": 9,
    "start_time": "2022-03-15T16:29:19.794Z"
   },
   {
    "duration": 11,
    "start_time": "2022-03-15T16:29:21.997Z"
   },
   {
    "duration": 504,
    "start_time": "2022-03-15T16:30:02.469Z"
   },
   {
    "duration": 230,
    "start_time": "2022-03-15T16:30:16.788Z"
   },
   {
    "duration": 12,
    "start_time": "2022-03-15T16:30:27.734Z"
   },
   {
    "duration": 9,
    "start_time": "2022-03-15T16:30:37.721Z"
   },
   {
    "duration": 12,
    "start_time": "2022-03-15T16:30:37.966Z"
   },
   {
    "duration": 183,
    "start_time": "2022-03-15T16:31:14.222Z"
   },
   {
    "duration": 12,
    "start_time": "2022-03-15T16:31:19.553Z"
   },
   {
    "duration": 8,
    "start_time": "2022-03-15T16:31:23.630Z"
   },
   {
    "duration": 11,
    "start_time": "2022-03-15T16:31:25.040Z"
   },
   {
    "duration": 12,
    "start_time": "2022-03-15T16:31:33.259Z"
   },
   {
    "duration": 93,
    "start_time": "2022-03-15T16:32:04.311Z"
   },
   {
    "duration": 547,
    "start_time": "2022-03-15T16:32:07.003Z"
   },
   {
    "duration": 418,
    "start_time": "2022-03-15T16:32:12.071Z"
   },
   {
    "duration": 9,
    "start_time": "2022-03-15T16:32:12.619Z"
   },
   {
    "duration": 15,
    "start_time": "2022-03-15T16:32:47.696Z"
   },
   {
    "duration": 11,
    "start_time": "2022-03-15T16:32:49.523Z"
   },
   {
    "duration": 187,
    "start_time": "2022-03-15T16:34:45.358Z"
   },
   {
    "duration": 5,
    "start_time": "2022-03-15T16:34:50.591Z"
   },
   {
    "duration": 39,
    "start_time": "2022-03-15T16:35:48.350Z"
   },
   {
    "duration": 71,
    "start_time": "2022-03-15T16:38:59.866Z"
   },
   {
    "duration": 88,
    "start_time": "2022-03-15T16:39:18.082Z"
   },
   {
    "duration": 6,
    "start_time": "2022-03-15T16:39:26.111Z"
   },
   {
    "duration": 8,
    "start_time": "2022-03-15T16:39:47.894Z"
   },
   {
    "duration": 765,
    "start_time": "2022-03-15T16:42:43.100Z"
   },
   {
    "duration": 505,
    "start_time": "2022-03-15T16:43:33.459Z"
   },
   {
    "duration": 499,
    "start_time": "2022-03-15T16:44:03.122Z"
   },
   {
    "duration": 510,
    "start_time": "2022-03-15T16:44:04.680Z"
   },
   {
    "duration": 57,
    "start_time": "2022-03-15T16:44:43.835Z"
   },
   {
    "duration": 9,
    "start_time": "2022-03-15T16:45:06.600Z"
   },
   {
    "duration": 9,
    "start_time": "2022-03-15T16:45:13.082Z"
   },
   {
    "duration": 9,
    "start_time": "2022-03-15T16:45:19.867Z"
   },
   {
    "duration": 315,
    "start_time": "2022-03-15T16:46:55.386Z"
   },
   {
    "duration": 11,
    "start_time": "2022-03-15T16:47:06.982Z"
   },
   {
    "duration": 11,
    "start_time": "2022-03-15T16:47:13.117Z"
   },
   {
    "duration": 7,
    "start_time": "2022-03-15T16:47:25.918Z"
   },
   {
    "duration": 11,
    "start_time": "2022-03-15T16:47:38.545Z"
   },
   {
    "duration": 7,
    "start_time": "2022-03-15T16:47:53.050Z"
   },
   {
    "duration": 11,
    "start_time": "2022-03-15T16:47:54.837Z"
   },
   {
    "duration": 11,
    "start_time": "2022-03-15T16:50:49.688Z"
   },
   {
    "duration": 13,
    "start_time": "2022-03-15T16:50:57.846Z"
   },
   {
    "duration": 11,
    "start_time": "2022-03-15T16:51:04.169Z"
   },
   {
    "duration": 6,
    "start_time": "2022-03-15T16:52:37.308Z"
   },
   {
    "duration": 1151,
    "start_time": "2022-03-16T04:18:16.832Z"
   },
   {
    "duration": 672,
    "start_time": "2022-03-16T04:18:17.986Z"
   },
   {
    "duration": 10,
    "start_time": "2022-03-16T04:18:18.660Z"
   },
   {
    "duration": 16,
    "start_time": "2022-03-16T04:18:18.671Z"
   },
   {
    "duration": 14,
    "start_time": "2022-03-16T04:18:18.689Z"
   },
   {
    "duration": 4,
    "start_time": "2022-03-16T04:18:18.705Z"
   },
   {
    "duration": 8,
    "start_time": "2022-03-16T04:18:18.711Z"
   },
   {
    "duration": 17,
    "start_time": "2022-03-16T04:18:18.721Z"
   },
   {
    "duration": 72,
    "start_time": "2022-03-16T04:18:18.740Z"
   },
   {
    "duration": 65,
    "start_time": "2022-03-16T04:18:18.814Z"
   },
   {
    "duration": 24,
    "start_time": "2022-03-16T04:18:18.881Z"
   },
   {
    "duration": 38,
    "start_time": "2022-03-16T04:18:18.907Z"
   },
   {
    "duration": 14,
    "start_time": "2022-03-16T04:18:18.947Z"
   },
   {
    "duration": 6,
    "start_time": "2022-03-16T04:18:18.963Z"
   },
   {
    "duration": 5,
    "start_time": "2022-03-16T04:18:18.971Z"
   },
   {
    "duration": 6,
    "start_time": "2022-03-16T04:18:18.978Z"
   },
   {
    "duration": 5,
    "start_time": "2022-03-16T04:18:18.986Z"
   },
   {
    "duration": 11,
    "start_time": "2022-03-16T04:18:18.992Z"
   },
   {
    "duration": 5,
    "start_time": "2022-03-16T04:18:19.005Z"
   },
   {
    "duration": 11,
    "start_time": "2022-03-16T04:18:19.038Z"
   },
   {
    "duration": 32,
    "start_time": "2022-03-16T04:18:19.051Z"
   },
   {
    "duration": 512,
    "start_time": "2022-03-16T04:18:19.085Z"
   },
   {
    "duration": 36,
    "start_time": "2022-03-16T04:18:19.601Z"
   },
   {
    "duration": 27,
    "start_time": "2022-03-16T04:18:19.639Z"
   },
   {
    "duration": 7,
    "start_time": "2022-03-16T04:18:19.668Z"
   },
   {
    "duration": 8,
    "start_time": "2022-03-16T04:18:19.677Z"
   },
   {
    "duration": 62,
    "start_time": "2022-03-16T04:18:19.687Z"
   },
   {
    "duration": 24,
    "start_time": "2022-03-16T04:18:19.751Z"
   },
   {
    "duration": 70,
    "start_time": "2022-03-16T04:18:19.777Z"
   },
   {
    "duration": 333,
    "start_time": "2022-03-16T04:18:19.849Z"
   },
   {
    "duration": 7,
    "start_time": "2022-03-16T04:18:20.184Z"
   },
   {
    "duration": 11,
    "start_time": "2022-03-16T04:18:20.193Z"
   },
   {
    "duration": 5,
    "start_time": "2022-03-16T04:18:20.205Z"
   },
   {
    "duration": 52,
    "start_time": "2022-03-16T04:18:20.212Z"
   },
   {
    "duration": 52,
    "start_time": "2022-03-16T04:18:20.266Z"
   },
   {
    "duration": 54,
    "start_time": "2022-03-16T04:18:20.320Z"
   },
   {
    "duration": 4,
    "start_time": "2022-03-16T04:18:20.376Z"
   },
   {
    "duration": 7,
    "start_time": "2022-03-16T04:18:20.382Z"
   },
   {
    "duration": 317,
    "start_time": "2022-03-16T04:18:20.391Z"
   },
   {
    "duration": 297,
    "start_time": "2022-03-16T04:18:20.710Z"
   },
   {
    "duration": 294,
    "start_time": "2022-03-16T04:18:21.009Z"
   },
   {
    "duration": 54,
    "start_time": "2022-03-16T04:18:21.305Z"
   },
   {
    "duration": 6,
    "start_time": "2022-03-16T04:18:21.361Z"
   },
   {
    "duration": 9,
    "start_time": "2022-03-16T04:18:21.368Z"
   },
   {
    "duration": 11,
    "start_time": "2022-03-16T04:18:21.379Z"
   },
   {
    "duration": 225,
    "start_time": "2022-03-16T04:18:21.392Z"
   },
   {
    "duration": 6,
    "start_time": "2022-03-16T04:18:21.619Z"
   },
   {
    "duration": 14,
    "start_time": "2022-03-16T04:18:21.627Z"
   },
   {
    "duration": 5,
    "start_time": "2022-03-16T04:18:21.643Z"
   },
   {
    "duration": 14,
    "start_time": "2022-03-16T04:18:21.650Z"
   },
   {
    "duration": 8,
    "start_time": "2022-03-16T04:18:21.666Z"
   },
   {
    "duration": 8,
    "start_time": "2022-03-16T04:18:21.676Z"
   },
   {
    "duration": 8,
    "start_time": "2022-03-16T04:18:21.686Z"
   },
   {
    "duration": 7,
    "start_time": "2022-03-16T04:30:11.649Z"
   },
   {
    "duration": 13,
    "start_time": "2022-03-16T04:31:14.710Z"
   },
   {
    "duration": 6,
    "start_time": "2022-03-16T04:32:46.693Z"
   },
   {
    "duration": 5,
    "start_time": "2022-03-16T04:41:32.725Z"
   },
   {
    "duration": 9,
    "start_time": "2022-03-16T04:41:33.477Z"
   },
   {
    "duration": 5,
    "start_time": "2022-03-16T04:41:53.493Z"
   },
   {
    "duration": 7,
    "start_time": "2022-03-16T04:41:55.219Z"
   },
   {
    "duration": 432,
    "start_time": "2022-03-16T09:12:16.217Z"
   },
   {
    "duration": 1129,
    "start_time": "2022-03-16T09:12:19.084Z"
   },
   {
    "duration": 114,
    "start_time": "2022-03-16T09:12:20.215Z"
   },
   {
    "duration": 10,
    "start_time": "2022-03-16T09:12:20.331Z"
   },
   {
    "duration": 14,
    "start_time": "2022-03-16T09:12:20.342Z"
   },
   {
    "duration": 14,
    "start_time": "2022-03-16T09:12:20.357Z"
   },
   {
    "duration": 4,
    "start_time": "2022-03-16T09:12:20.372Z"
   },
   {
    "duration": 25,
    "start_time": "2022-03-16T09:12:20.377Z"
   },
   {
    "duration": 8,
    "start_time": "2022-03-16T09:12:20.403Z"
   },
   {
    "duration": 71,
    "start_time": "2022-03-16T09:12:20.413Z"
   },
   {
    "duration": 47,
    "start_time": "2022-03-16T09:12:20.502Z"
   },
   {
    "duration": 20,
    "start_time": "2022-03-16T09:12:20.551Z"
   },
   {
    "duration": 39,
    "start_time": "2022-03-16T09:12:20.573Z"
   },
   {
    "duration": 15,
    "start_time": "2022-03-16T09:12:20.614Z"
   },
   {
    "duration": 6,
    "start_time": "2022-03-16T09:12:20.630Z"
   },
   {
    "duration": 6,
    "start_time": "2022-03-16T09:12:20.638Z"
   },
   {
    "duration": 5,
    "start_time": "2022-03-16T09:12:20.646Z"
   },
   {
    "duration": 3,
    "start_time": "2022-03-16T09:12:20.653Z"
   },
   {
    "duration": 44,
    "start_time": "2022-03-16T09:12:20.657Z"
   },
   {
    "duration": 4,
    "start_time": "2022-03-16T09:12:20.703Z"
   },
   {
    "duration": 10,
    "start_time": "2022-03-16T09:12:20.708Z"
   },
   {
    "duration": 27,
    "start_time": "2022-03-16T09:12:20.720Z"
   },
   {
    "duration": 553,
    "start_time": "2022-03-16T09:12:20.749Z"
   },
   {
    "duration": 22,
    "start_time": "2022-03-16T09:12:21.303Z"
   },
   {
    "duration": 22,
    "start_time": "2022-03-16T09:12:21.327Z"
   },
   {
    "duration": 6,
    "start_time": "2022-03-16T09:12:21.351Z"
   },
   {
    "duration": 8,
    "start_time": "2022-03-16T09:12:21.359Z"
   },
   {
    "duration": 60,
    "start_time": "2022-03-16T09:12:21.370Z"
   },
   {
    "duration": 21,
    "start_time": "2022-03-16T09:12:21.432Z"
   },
   {
    "duration": 61,
    "start_time": "2022-03-16T09:12:21.454Z"
   },
   {
    "duration": 306,
    "start_time": "2022-03-16T09:12:21.517Z"
   },
   {
    "duration": 7,
    "start_time": "2022-03-16T09:12:21.824Z"
   },
   {
    "duration": 9,
    "start_time": "2022-03-16T09:12:21.832Z"
   },
   {
    "duration": 11,
    "start_time": "2022-03-16T09:12:21.842Z"
   },
   {
    "duration": 4,
    "start_time": "2022-03-16T09:12:21.854Z"
   },
   {
    "duration": 52,
    "start_time": "2022-03-16T09:12:21.859Z"
   },
   {
    "duration": 49,
    "start_time": "2022-03-16T09:12:21.913Z"
   },
   {
    "duration": 55,
    "start_time": "2022-03-16T09:12:21.964Z"
   },
   {
    "duration": 4,
    "start_time": "2022-03-16T09:12:22.020Z"
   },
   {
    "duration": 9,
    "start_time": "2022-03-16T09:12:22.025Z"
   },
   {
    "duration": 279,
    "start_time": "2022-03-16T09:12:22.035Z"
   },
   {
    "duration": 278,
    "start_time": "2022-03-16T09:12:22.316Z"
   },
   {
    "duration": 272,
    "start_time": "2022-03-16T09:12:22.595Z"
   },
   {
    "duration": 48,
    "start_time": "2022-03-16T09:12:22.869Z"
   },
   {
    "duration": 6,
    "start_time": "2022-03-16T09:12:22.919Z"
   },
   {
    "duration": 7,
    "start_time": "2022-03-16T09:12:22.926Z"
   },
   {
    "duration": 7,
    "start_time": "2022-03-16T09:12:22.935Z"
   },
   {
    "duration": 218,
    "start_time": "2022-03-16T09:12:22.944Z"
   },
   {
    "duration": 5,
    "start_time": "2022-03-16T09:12:23.164Z"
   },
   {
    "duration": 7,
    "start_time": "2022-03-16T09:12:23.171Z"
   },
   {
    "duration": 72,
    "start_time": "2022-03-16T09:12:23.180Z"
   },
   {
    "duration": 11,
    "start_time": "2022-03-16T09:12:23.254Z"
   },
   {
    "duration": 9,
    "start_time": "2022-03-16T09:12:23.267Z"
   },
   {
    "duration": 14,
    "start_time": "2022-03-16T09:12:23.277Z"
   },
   {
    "duration": 6,
    "start_time": "2022-03-16T09:12:23.301Z"
   },
   {
    "duration": 472,
    "start_time": "2022-03-16T09:13:15.134Z"
   },
   {
    "duration": 393,
    "start_time": "2022-03-16T09:23:29.740Z"
   },
   {
    "duration": -11,
    "start_time": "2022-03-16T09:23:42.349Z"
   },
   {
    "duration": 8183,
    "start_time": "2022-03-16T09:23:47.032Z"
   },
   {
    "duration": 371,
    "start_time": "2022-03-16T09:24:07.332Z"
   },
   {
    "duration": 2,
    "start_time": "2022-03-16T09:27:20.793Z"
   },
   {
    "duration": 57,
    "start_time": "2022-03-16T09:27:22.906Z"
   },
   {
    "duration": 41,
    "start_time": "2022-03-16T09:27:23.132Z"
   },
   {
    "duration": 2,
    "start_time": "2022-03-16T09:27:23.557Z"
   },
   {
    "duration": 5,
    "start_time": "2022-03-16T09:27:27.104Z"
   },
   {
    "duration": 273,
    "start_time": "2022-03-16T09:27:29.451Z"
   },
   {
    "duration": 268,
    "start_time": "2022-03-16T09:27:31.191Z"
   },
   {
    "duration": 288,
    "start_time": "2022-03-16T09:27:32.031Z"
   },
   {
    "duration": 38,
    "start_time": "2022-03-16T09:27:34.447Z"
   },
   {
    "duration": 6,
    "start_time": "2022-03-16T09:27:34.605Z"
   },
   {
    "duration": 5,
    "start_time": "2022-03-16T09:27:34.762Z"
   },
   {
    "duration": 6,
    "start_time": "2022-03-16T09:27:34.925Z"
   },
   {
    "duration": 210,
    "start_time": "2022-03-16T09:27:39.427Z"
   },
   {
    "duration": 470,
    "start_time": "2022-03-16T09:27:40.456Z"
   },
   {
    "duration": 99,
    "start_time": "2022-03-16T09:27:40.830Z"
   },
   {
    "duration": 203,
    "start_time": "2022-03-16T09:27:45.266Z"
   },
   {
    "duration": 351,
    "start_time": "2022-03-16T09:27:50.989Z"
   },
   {
    "duration": 5,
    "start_time": "2022-03-16T09:27:52.051Z"
   },
   {
    "duration": 323,
    "start_time": "2022-03-16T09:29:13.502Z"
   },
   {
    "duration": 3,
    "start_time": "2022-03-16T09:29:17.284Z"
   },
   {
    "duration": 339,
    "start_time": "2022-03-16T09:30:21.108Z"
   },
   {
    "duration": 3,
    "start_time": "2022-03-16T09:31:14.600Z"
   },
   {
    "duration": 334,
    "start_time": "2022-03-16T09:31:17.692Z"
   },
   {
    "duration": 320,
    "start_time": "2022-03-16T09:31:29.752Z"
   },
   {
    "duration": 5,
    "start_time": "2022-03-16T09:31:33.714Z"
   },
   {
    "duration": 133,
    "start_time": "2022-03-16T09:31:33.721Z"
   },
   {
    "duration": 6,
    "start_time": "2022-03-16T09:31:33.856Z"
   },
   {
    "duration": 15,
    "start_time": "2022-03-16T09:31:33.863Z"
   },
   {
    "duration": 24,
    "start_time": "2022-03-16T09:31:33.880Z"
   },
   {
    "duration": 4,
    "start_time": "2022-03-16T09:31:33.905Z"
   },
   {
    "duration": 5,
    "start_time": "2022-03-16T09:31:33.910Z"
   },
   {
    "duration": 11,
    "start_time": "2022-03-16T09:31:33.917Z"
   },
   {
    "duration": 90,
    "start_time": "2022-03-16T09:31:33.931Z"
   },
   {
    "duration": 42,
    "start_time": "2022-03-16T09:31:34.023Z"
   },
   {
    "duration": 18,
    "start_time": "2022-03-16T09:31:34.067Z"
   },
   {
    "duration": 31,
    "start_time": "2022-03-16T09:31:34.086Z"
   },
   {
    "duration": 12,
    "start_time": "2022-03-16T09:31:34.119Z"
   },
   {
    "duration": 4,
    "start_time": "2022-03-16T09:31:34.133Z"
   },
   {
    "duration": 5,
    "start_time": "2022-03-16T09:31:34.138Z"
   },
   {
    "duration": 6,
    "start_time": "2022-03-16T09:31:34.145Z"
   },
   {
    "duration": 2,
    "start_time": "2022-03-16T09:31:34.153Z"
   },
   {
    "duration": 51,
    "start_time": "2022-03-16T09:31:34.156Z"
   },
   {
    "duration": 10,
    "start_time": "2022-03-16T09:31:34.209Z"
   },
   {
    "duration": 11,
    "start_time": "2022-03-16T09:31:34.220Z"
   },
   {
    "duration": 28,
    "start_time": "2022-03-16T09:31:34.233Z"
   },
   {
    "duration": 567,
    "start_time": "2022-03-16T09:31:34.263Z"
   },
   {
    "duration": 394,
    "start_time": "2022-03-16T09:31:34.834Z"
   },
   {
    "duration": 28,
    "start_time": "2022-03-16T09:31:35.231Z"
   },
   {
    "duration": 42,
    "start_time": "2022-03-16T09:31:35.260Z"
   },
   {
    "duration": 12,
    "start_time": "2022-03-16T09:31:35.304Z"
   },
   {
    "duration": 15,
    "start_time": "2022-03-16T09:31:35.318Z"
   },
   {
    "duration": 32,
    "start_time": "2022-03-16T09:31:35.335Z"
   },
   {
    "duration": 51,
    "start_time": "2022-03-16T09:31:35.368Z"
   },
   {
    "duration": 47,
    "start_time": "2022-03-16T09:31:35.420Z"
   },
   {
    "duration": 353,
    "start_time": "2022-03-16T09:31:35.468Z"
   },
   {
    "duration": 9,
    "start_time": "2022-03-16T09:31:35.823Z"
   },
   {
    "duration": 17,
    "start_time": "2022-03-16T09:31:35.834Z"
   },
   {
    "duration": 11,
    "start_time": "2022-03-16T09:31:35.852Z"
   },
   {
    "duration": 10,
    "start_time": "2022-03-16T09:31:35.865Z"
   },
   {
    "duration": 44,
    "start_time": "2022-03-16T09:31:35.877Z"
   },
   {
    "duration": 54,
    "start_time": "2022-03-16T09:31:35.923Z"
   },
   {
    "duration": 67,
    "start_time": "2022-03-16T09:31:35.978Z"
   },
   {
    "duration": 2,
    "start_time": "2022-03-16T09:31:36.047Z"
   },
   {
    "duration": 15,
    "start_time": "2022-03-16T09:31:36.051Z"
   },
   {
    "duration": 299,
    "start_time": "2022-03-16T09:31:36.070Z"
   },
   {
    "duration": 394,
    "start_time": "2022-03-16T09:31:36.371Z"
   },
   {
    "duration": 288,
    "start_time": "2022-03-16T09:31:36.766Z"
   },
   {
    "duration": 48,
    "start_time": "2022-03-16T09:31:37.056Z"
   },
   {
    "duration": 6,
    "start_time": "2022-03-16T09:31:37.106Z"
   },
   {
    "duration": 8,
    "start_time": "2022-03-16T09:31:37.113Z"
   },
   {
    "duration": 8,
    "start_time": "2022-03-16T09:31:37.122Z"
   },
   {
    "duration": 222,
    "start_time": "2022-03-16T09:31:37.132Z"
   },
   {
    "duration": 5,
    "start_time": "2022-03-16T09:31:37.356Z"
   },
   {
    "duration": 8,
    "start_time": "2022-03-16T09:31:37.363Z"
   },
   {
    "duration": 6,
    "start_time": "2022-03-16T09:31:37.372Z"
   },
   {
    "duration": 29,
    "start_time": "2022-03-16T09:31:37.379Z"
   },
   {
    "duration": 9,
    "start_time": "2022-03-16T09:31:37.409Z"
   },
   {
    "duration": 8,
    "start_time": "2022-03-16T09:31:37.420Z"
   },
   {
    "duration": 10,
    "start_time": "2022-03-16T09:31:37.429Z"
   },
   {
    "duration": 1069,
    "start_time": "2022-03-17T03:15:27.622Z"
   },
   {
    "duration": 143,
    "start_time": "2022-03-17T03:15:28.693Z"
   },
   {
    "duration": 9,
    "start_time": "2022-03-17T03:15:28.838Z"
   },
   {
    "duration": 15,
    "start_time": "2022-03-17T03:15:28.849Z"
   },
   {
    "duration": 14,
    "start_time": "2022-03-17T03:15:28.866Z"
   },
   {
    "duration": 21,
    "start_time": "2022-03-17T03:15:28.881Z"
   },
   {
    "duration": 3,
    "start_time": "2022-03-17T03:15:28.904Z"
   },
   {
    "duration": 7,
    "start_time": "2022-03-17T03:15:28.909Z"
   },
   {
    "duration": 84,
    "start_time": "2022-03-17T03:15:28.918Z"
   },
   {
    "duration": 47,
    "start_time": "2022-03-17T03:15:29.003Z"
   },
   {
    "duration": 19,
    "start_time": "2022-03-17T03:15:29.052Z"
   },
   {
    "duration": 34,
    "start_time": "2022-03-17T03:15:29.073Z"
   },
   {
    "duration": 14,
    "start_time": "2022-03-17T03:15:29.108Z"
   },
   {
    "duration": 5,
    "start_time": "2022-03-17T03:15:29.123Z"
   },
   {
    "duration": 4,
    "start_time": "2022-03-17T03:15:29.130Z"
   },
   {
    "duration": 4,
    "start_time": "2022-03-17T03:15:29.136Z"
   },
   {
    "duration": 4,
    "start_time": "2022-03-17T03:15:29.141Z"
   },
   {
    "duration": 6,
    "start_time": "2022-03-17T03:15:29.147Z"
   },
   {
    "duration": 2,
    "start_time": "2022-03-17T03:15:29.155Z"
   },
   {
    "duration": 48,
    "start_time": "2022-03-17T03:15:29.159Z"
   },
   {
    "duration": 31,
    "start_time": "2022-03-17T03:15:29.208Z"
   },
   {
    "duration": 503,
    "start_time": "2022-03-17T03:15:29.241Z"
   },
   {
    "duration": 384,
    "start_time": "2022-03-17T03:15:29.747Z"
   },
   {
    "duration": 21,
    "start_time": "2022-03-17T03:15:30.133Z"
   },
   {
    "duration": 24,
    "start_time": "2022-03-17T03:15:30.156Z"
   },
   {
    "duration": 7,
    "start_time": "2022-03-17T03:15:30.201Z"
   },
   {
    "duration": 7,
    "start_time": "2022-03-17T03:15:30.209Z"
   },
   {
    "duration": 30,
    "start_time": "2022-03-17T03:15:30.217Z"
   },
   {
    "duration": 20,
    "start_time": "2022-03-17T03:15:30.249Z"
   },
   {
    "duration": 73,
    "start_time": "2022-03-17T03:15:30.271Z"
   },
   {
    "duration": 403,
    "start_time": "2022-03-17T03:15:30.346Z"
   },
   {
    "duration": 6,
    "start_time": "2022-03-17T03:15:30.751Z"
   },
   {
    "duration": 9,
    "start_time": "2022-03-17T03:15:30.759Z"
   },
   {
    "duration": 12,
    "start_time": "2022-03-17T03:15:30.770Z"
   },
   {
    "duration": 17,
    "start_time": "2022-03-17T03:15:30.784Z"
   },
   {
    "duration": 32,
    "start_time": "2022-03-17T03:15:30.803Z"
   },
   {
    "duration": 48,
    "start_time": "2022-03-17T03:15:30.837Z"
   },
   {
    "duration": 50,
    "start_time": "2022-03-17T03:15:30.887Z"
   },
   {
    "duration": 3,
    "start_time": "2022-03-17T03:15:30.938Z"
   },
   {
    "duration": 7,
    "start_time": "2022-03-17T03:15:30.942Z"
   },
   {
    "duration": 293,
    "start_time": "2022-03-17T03:15:30.951Z"
   },
   {
    "duration": 268,
    "start_time": "2022-03-17T03:15:31.246Z"
   },
   {
    "duration": 262,
    "start_time": "2022-03-17T03:15:31.515Z"
   },
   {
    "duration": 44,
    "start_time": "2022-03-17T03:15:31.779Z"
   },
   {
    "duration": 5,
    "start_time": "2022-03-17T03:15:31.825Z"
   },
   {
    "duration": 6,
    "start_time": "2022-03-17T03:15:31.832Z"
   },
   {
    "duration": 7,
    "start_time": "2022-03-17T03:15:31.840Z"
   },
   {
    "duration": 274,
    "start_time": "2022-03-17T03:15:31.849Z"
   },
   {
    "duration": 6,
    "start_time": "2022-03-17T03:15:32.125Z"
   },
   {
    "duration": 10,
    "start_time": "2022-03-17T03:15:32.132Z"
   },
   {
    "duration": 5,
    "start_time": "2022-03-17T03:15:32.143Z"
   },
   {
    "duration": 12,
    "start_time": "2022-03-17T03:15:32.150Z"
   },
   {
    "duration": 8,
    "start_time": "2022-03-17T03:15:32.163Z"
   },
   {
    "duration": 32,
    "start_time": "2022-03-17T03:15:32.173Z"
   },
   {
    "duration": 8,
    "start_time": "2022-03-17T03:15:32.206Z"
   }
  ],
  "kernelspec": {
   "display_name": "Python 3 (ipykernel)",
   "language": "python",
   "name": "python3"
  },
  "language_info": {
   "codemirror_mode": {
    "name": "ipython",
    "version": 3
   },
   "file_extension": ".py",
   "mimetype": "text/x-python",
   "name": "python",
   "nbconvert_exporter": "python",
   "pygments_lexer": "ipython3",
   "version": "3.9.5"
  },
  "toc": {
   "base_numbering": 1,
   "nav_menu": {},
   "number_sections": true,
   "sideBar": true,
   "skip_h1_title": true,
   "title_cell": "Table of Contents",
   "title_sidebar": "Contents",
   "toc_cell": false,
   "toc_position": {},
   "toc_section_display": true,
   "toc_window_display": false
  }
 },
 "nbformat": 4,
 "nbformat_minor": 2
}
