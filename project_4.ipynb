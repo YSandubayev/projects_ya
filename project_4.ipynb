{
 "cells": [
  {
   "cell_type": "markdown",
   "metadata": {},
   "source": [
    "<div style=\"border:solid green 2px; padding: 20px\"> \n",
    "    \n",
    "**Комментарий ревьюера - 2**\n",
    "\n",
    "**#ок**\n",
    "\n",
    "Не стоит удалять комментарии после первой итерации проверки\n",
    "\n",
    "    \n",
    "</div>"
   ]
  },
  {
   "cell_type": "code",
   "execution_count": 2,
   "metadata": {},
   "outputs": [],
   "source": [
    "import pandas as pd\n",
    "import numpy as np\n",
    "from scipy import stats as st\n",
    "import matplotlib.pyplot as plt \n",
    "import seaborn as sns\n",
    "import numpy as np\n",
    "import math"
   ]
  },
  {
   "cell_type": "code",
   "execution_count": 3,
   "metadata": {},
   "outputs": [],
   "source": [
    "data_calls = pd.read_csv('/datasets/calls.csv')"
   ]
  },
  {
   "cell_type": "code",
   "execution_count": 4,
   "metadata": {},
   "outputs": [
    {
     "name": "stdout",
     "output_type": "stream",
     "text": [
      "<class 'pandas.core.frame.DataFrame'>\n",
      "RangeIndex: 202607 entries, 0 to 202606\n",
      "Data columns (total 4 columns):\n",
      "id           202607 non-null object\n",
      "call_date    202607 non-null object\n",
      "duration     202607 non-null float64\n",
      "user_id      202607 non-null int64\n",
      "dtypes: float64(1), int64(1), object(2)\n",
      "memory usage: 6.2+ MB\n"
     ]
    }
   ],
   "source": [
    "data_calls.info() "
   ]
  },
  {
   "cell_type": "code",
   "execution_count": 5,
   "metadata": {},
   "outputs": [
    {
     "data": {
      "text/html": [
       "<div>\n",
       "<style scoped>\n",
       "    .dataframe tbody tr th:only-of-type {\n",
       "        vertical-align: middle;\n",
       "    }\n",
       "\n",
       "    .dataframe tbody tr th {\n",
       "        vertical-align: top;\n",
       "    }\n",
       "\n",
       "    .dataframe thead th {\n",
       "        text-align: right;\n",
       "    }\n",
       "</style>\n",
       "<table border=\"1\" class=\"dataframe\">\n",
       "  <thead>\n",
       "    <tr style=\"text-align: right;\">\n",
       "      <th></th>\n",
       "      <th>id</th>\n",
       "      <th>call_date</th>\n",
       "      <th>duration</th>\n",
       "      <th>user_id</th>\n",
       "    </tr>\n",
       "  </thead>\n",
       "  <tbody>\n",
       "    <tr>\n",
       "      <td>0</td>\n",
       "      <td>1000_0</td>\n",
       "      <td>2018-07-25</td>\n",
       "      <td>0.00</td>\n",
       "      <td>1000</td>\n",
       "    </tr>\n",
       "    <tr>\n",
       "      <td>1</td>\n",
       "      <td>1000_1</td>\n",
       "      <td>2018-08-17</td>\n",
       "      <td>0.00</td>\n",
       "      <td>1000</td>\n",
       "    </tr>\n",
       "    <tr>\n",
       "      <td>2</td>\n",
       "      <td>1000_2</td>\n",
       "      <td>2018-06-11</td>\n",
       "      <td>2.85</td>\n",
       "      <td>1000</td>\n",
       "    </tr>\n",
       "    <tr>\n",
       "      <td>3</td>\n",
       "      <td>1000_3</td>\n",
       "      <td>2018-09-21</td>\n",
       "      <td>13.80</td>\n",
       "      <td>1000</td>\n",
       "    </tr>\n",
       "    <tr>\n",
       "      <td>4</td>\n",
       "      <td>1000_4</td>\n",
       "      <td>2018-12-15</td>\n",
       "      <td>5.18</td>\n",
       "      <td>1000</td>\n",
       "    </tr>\n",
       "  </tbody>\n",
       "</table>\n",
       "</div>"
      ],
      "text/plain": [
       "       id   call_date  duration  user_id\n",
       "0  1000_0  2018-07-25      0.00     1000\n",
       "1  1000_1  2018-08-17      0.00     1000\n",
       "2  1000_2  2018-06-11      2.85     1000\n",
       "3  1000_3  2018-09-21     13.80     1000\n",
       "4  1000_4  2018-12-15      5.18     1000"
      ]
     },
     "execution_count": 5,
     "metadata": {},
     "output_type": "execute_result"
    }
   ],
   "source": [
    "data_calls.head()"
   ]
  },
  {
   "cell_type": "code",
   "execution_count": 6,
   "metadata": {},
   "outputs": [
    {
     "name": "stdout",
     "output_type": "stream",
     "text": [
      "<class 'pandas.core.frame.DataFrame'>\n",
      "RangeIndex: 149396 entries, 0 to 149395\n",
      "Data columns (total 5 columns):\n",
      "Unnamed: 0      149396 non-null int64\n",
      "id              149396 non-null object\n",
      "mb_used         149396 non-null float64\n",
      "session_date    149396 non-null object\n",
      "user_id         149396 non-null int64\n",
      "dtypes: float64(1), int64(2), object(2)\n",
      "memory usage: 5.7+ MB\n"
     ]
    }
   ],
   "source": [
    "data_internet = pd.read_csv('/datasets/internet.csv') \n",
    "data_internet.info()"
   ]
  },
  {
   "cell_type": "code",
   "execution_count": 7,
   "metadata": {},
   "outputs": [
    {
     "name": "stdout",
     "output_type": "stream",
     "text": [
      "<class 'pandas.core.frame.DataFrame'>\n",
      "RangeIndex: 123036 entries, 0 to 123035\n",
      "Data columns (total 3 columns):\n",
      "id              123036 non-null object\n",
      "message_date    123036 non-null object\n",
      "user_id         123036 non-null int64\n",
      "dtypes: int64(1), object(2)\n",
      "memory usage: 2.8+ MB\n"
     ]
    }
   ],
   "source": [
    "data_messages = pd.read_csv('/datasets/messages.csv') \n",
    "data_messages.info()"
   ]
  },
  {
   "cell_type": "code",
   "execution_count": 8,
   "metadata": {},
   "outputs": [
    {
     "data": {
      "text/html": [
       "<div>\n",
       "<style scoped>\n",
       "    .dataframe tbody tr th:only-of-type {\n",
       "        vertical-align: middle;\n",
       "    }\n",
       "\n",
       "    .dataframe tbody tr th {\n",
       "        vertical-align: top;\n",
       "    }\n",
       "\n",
       "    .dataframe thead th {\n",
       "        text-align: right;\n",
       "    }\n",
       "</style>\n",
       "<table border=\"1\" class=\"dataframe\">\n",
       "  <thead>\n",
       "    <tr style=\"text-align: right;\">\n",
       "      <th></th>\n",
       "      <th>id</th>\n",
       "      <th>message_date</th>\n",
       "      <th>user_id</th>\n",
       "    </tr>\n",
       "  </thead>\n",
       "  <tbody>\n",
       "    <tr>\n",
       "      <td>0</td>\n",
       "      <td>1000_0</td>\n",
       "      <td>2018-06-27</td>\n",
       "      <td>1000</td>\n",
       "    </tr>\n",
       "    <tr>\n",
       "      <td>1</td>\n",
       "      <td>1000_1</td>\n",
       "      <td>2018-10-08</td>\n",
       "      <td>1000</td>\n",
       "    </tr>\n",
       "    <tr>\n",
       "      <td>2</td>\n",
       "      <td>1000_2</td>\n",
       "      <td>2018-08-04</td>\n",
       "      <td>1000</td>\n",
       "    </tr>\n",
       "    <tr>\n",
       "      <td>3</td>\n",
       "      <td>1000_3</td>\n",
       "      <td>2018-06-16</td>\n",
       "      <td>1000</td>\n",
       "    </tr>\n",
       "    <tr>\n",
       "      <td>4</td>\n",
       "      <td>1000_4</td>\n",
       "      <td>2018-12-05</td>\n",
       "      <td>1000</td>\n",
       "    </tr>\n",
       "  </tbody>\n",
       "</table>\n",
       "</div>"
      ],
      "text/plain": [
       "       id message_date  user_id\n",
       "0  1000_0   2018-06-27     1000\n",
       "1  1000_1   2018-10-08     1000\n",
       "2  1000_2   2018-08-04     1000\n",
       "3  1000_3   2018-06-16     1000\n",
       "4  1000_4   2018-12-05     1000"
      ]
     },
     "execution_count": 8,
     "metadata": {},
     "output_type": "execute_result"
    }
   ],
   "source": [
    "data_messages.head()"
   ]
  },
  {
   "cell_type": "code",
   "execution_count": 9,
   "metadata": {},
   "outputs": [
    {
     "name": "stdout",
     "output_type": "stream",
     "text": [
      "<class 'pandas.core.frame.DataFrame'>\n",
      "RangeIndex: 2 entries, 0 to 1\n",
      "Data columns (total 8 columns):\n",
      "messages_included        2 non-null int64\n",
      "mb_per_month_included    2 non-null int64\n",
      "minutes_included         2 non-null int64\n",
      "rub_monthly_fee          2 non-null int64\n",
      "rub_per_gb               2 non-null int64\n",
      "rub_per_message          2 non-null int64\n",
      "rub_per_minute           2 non-null int64\n",
      "tariff_name              2 non-null object\n",
      "dtypes: int64(7), object(1)\n",
      "memory usage: 256.0+ bytes\n"
     ]
    }
   ],
   "source": [
    "data_tariffs = pd.read_csv('/datasets/tariffs.csv') \n",
    "data_tariffs.info()"
   ]
  },
  {
   "cell_type": "code",
   "execution_count": 10,
   "metadata": {},
   "outputs": [
    {
     "name": "stdout",
     "output_type": "stream",
     "text": [
      "<class 'pandas.core.frame.DataFrame'>\n",
      "RangeIndex: 500 entries, 0 to 499\n",
      "Data columns (total 8 columns):\n",
      "user_id       500 non-null int64\n",
      "age           500 non-null int64\n",
      "churn_date    38 non-null object\n",
      "city          500 non-null object\n",
      "first_name    500 non-null object\n",
      "last_name     500 non-null object\n",
      "reg_date      500 non-null object\n",
      "tariff        500 non-null object\n",
      "dtypes: int64(2), object(6)\n",
      "memory usage: 31.4+ KB\n"
     ]
    }
   ],
   "source": [
    "data_users = pd.read_csv('/datasets/users.csv')\n",
    "data_users.info()"
   ]
  },
  {
   "cell_type": "code",
   "execution_count": 11,
   "metadata": {},
   "outputs": [
    {
     "data": {
      "text/plain": [
       "user_id         0\n",
       "age             0\n",
       "churn_date    462\n",
       "city            0\n",
       "first_name      0\n",
       "last_name       0\n",
       "reg_date        0\n",
       "tariff          0\n",
       "dtype: int64"
      ]
     },
     "execution_count": 11,
     "metadata": {},
     "output_type": "execute_result"
    }
   ],
   "source": [
    "data_users.isna().sum()"
   ]
  },
  {
   "cell_type": "code",
   "execution_count": 12,
   "metadata": {},
   "outputs": [
    {
     "data": {
      "text/plain": [
       "0"
      ]
     },
     "execution_count": 12,
     "metadata": {},
     "output_type": "execute_result"
    }
   ],
   "source": [
    "data_users.duplicated().sum()"
   ]
  },
  {
   "cell_type": "code",
   "execution_count": 13,
   "metadata": {},
   "outputs": [
    {
     "data": {
      "text/plain": [
       "0"
      ]
     },
     "execution_count": 13,
     "metadata": {},
     "output_type": "execute_result"
    }
   ],
   "source": [
    "data_calls.duplicated().sum()"
   ]
  },
  {
   "cell_type": "code",
   "execution_count": 14,
   "metadata": {},
   "outputs": [
    {
     "data": {
      "text/plain": [
       "0"
      ]
     },
     "execution_count": 14,
     "metadata": {},
     "output_type": "execute_result"
    }
   ],
   "source": [
    "data_messages.duplicated().sum()"
   ]
  },
  {
   "cell_type": "code",
   "execution_count": 15,
   "metadata": {},
   "outputs": [
    {
     "data": {
      "text/plain": [
       "0"
      ]
     },
     "execution_count": 15,
     "metadata": {},
     "output_type": "execute_result"
    }
   ],
   "source": [
    "data_internet.duplicated().sum()"
   ]
  },
  {
   "cell_type": "code",
   "execution_count": 16,
   "metadata": {},
   "outputs": [
    {
     "data": {
      "text/plain": [
       "0"
      ]
     },
     "execution_count": 16,
     "metadata": {},
     "output_type": "execute_result"
    }
   ],
   "source": [
    "data_tariffs.duplicated().sum()"
   ]
  },
  {
   "cell_type": "markdown",
   "metadata": {},
   "source": [
    "Дубликаты отсутсвуют"
   ]
  },
  {
   "cell_type": "code",
   "execution_count": 17,
   "metadata": {},
   "outputs": [],
   "source": [
    "data_calls['call_date'] = pd.to_datetime(data_calls['call_date'],format='%Y-%m-%d')"
   ]
  },
  {
   "cell_type": "code",
   "execution_count": 18,
   "metadata": {},
   "outputs": [],
   "source": [
    "data_messages['message_date'] = pd.to_datetime(data_messages['message_date'],format='%Y-%m-%d %H:%M:%S')"
   ]
  },
  {
   "cell_type": "code",
   "execution_count": 19,
   "metadata": {},
   "outputs": [],
   "source": [
    "data_internet['mb_used'] = data_internet['mb_used'].apply(math.ceil)"
   ]
  },
  {
   "cell_type": "code",
   "execution_count": 20,
   "metadata": {},
   "outputs": [
    {
     "data": {
      "text/plain": [
       "0       19598\n",
       "333       231\n",
       "382       228\n",
       "377       224\n",
       "334       222\n",
       "        ...  \n",
       "1495        1\n",
       "1624        1\n",
       "1371        1\n",
       "1423        1\n",
       "1279        1\n",
       "Name: mb_used, Length: 1424, dtype: int64"
      ]
     },
     "execution_count": 20,
     "metadata": {},
     "output_type": "execute_result"
    }
   ],
   "source": [
    "data_internet['mb_used'].value_counts()"
   ]
  },
  {
   "cell_type": "code",
   "execution_count": 21,
   "metadata": {},
   "outputs": [],
   "source": [
    "data_calls = data_calls.query('duration > 0')"
   ]
  },
  {
   "cell_type": "code",
   "execution_count": 22,
   "metadata": {},
   "outputs": [],
   "source": [
    "data_calls['duration'] = data_calls['duration'].apply(math.ceil)"
   ]
  },
  {
   "cell_type": "code",
   "execution_count": 23,
   "metadata": {},
   "outputs": [
    {
     "data": {
      "text/plain": [
       "7     11510\n",
       "6     11457\n",
       "5     11411\n",
       "8     11272\n",
       "9     10973\n",
       "4     10918\n",
       "3     10362\n",
       "10    10186\n",
       "11     9385\n",
       "2      9194\n",
       "12     8448\n",
       "1      8402\n",
       "13     7486\n",
       "14     6554\n",
       "15     5505\n",
       "16     4551\n",
       "17     3671\n",
       "18     2984\n",
       "19     2411\n",
       "20     1806\n",
       "21     1304\n",
       "22      975\n",
       "23      720\n",
       "24      468\n",
       "25      363\n",
       "26      257\n",
       "27      151\n",
       "28      104\n",
       "29       56\n",
       "30       39\n",
       "31       30\n",
       "32       17\n",
       "33       10\n",
       "35        5\n",
       "34        3\n",
       "36        2\n",
       "37        2\n",
       "38        2\n",
       "Name: duration, dtype: int64"
      ]
     },
     "execution_count": 23,
     "metadata": {},
     "output_type": "execute_result"
    }
   ],
   "source": [
    "data_calls['duration'].value_counts()"
   ]
  },
  {
   "cell_type": "code",
   "execution_count": 24,
   "metadata": {},
   "outputs": [],
   "source": [
    "data_internet['session_date'] = pd.to_datetime(data_internet['session_date'],format='%Y-%m-%d')"
   ]
  },
  {
   "cell_type": "code",
   "execution_count": 25,
   "metadata": {},
   "outputs": [],
   "source": [
    "data_users['churn_date'] = pd.to_datetime(data_users['churn_date'],format='%Y-%m-%d')"
   ]
  },
  {
   "cell_type": "code",
   "execution_count": 26,
   "metadata": {},
   "outputs": [],
   "source": [
    "data_users['reg_date'] = pd.to_datetime(data_users['reg_date'],format='%Y-%m-%d')"
   ]
  },
  {
   "cell_type": "code",
   "execution_count": 27,
   "metadata": {},
   "outputs": [
    {
     "data": {
      "text/plain": [
       "<matplotlib.axes._subplots.AxesSubplot at 0x7f107e70de90>"
      ]
     },
     "execution_count": 27,
     "metadata": {},
     "output_type": "execute_result"
    },
    {
     "data": {
      "image/png": "[encoded data removed]",
      "text/plain": [
       "<Figure size 432x288 with 1 Axes>"
      ]
     },
     "metadata": {
      "needs_background": "light"
     },
     "output_type": "display_data"
    }
   ],
   "source": [
    "data_calls['duration'].hist(bins=30)"
   ]
  },
  {
   "cell_type": "markdown",
   "metadata": {},
   "source": [
    "Больше всего звонков в районе 5-10 минут"
   ]
  },
  {
   "cell_type": "code",
   "execution_count": 28,
   "metadata": {},
   "outputs": [],
   "source": [
    "data_calls['month'] = data_calls['call_date'].dt.month"
   ]
  },
  {
   "cell_type": "markdown",
   "metadata": {},
   "source": [
    "<div style=\"border:solid red 2px; padding: 20px\"> \n",
    "    \n",
    "**Комментарий ревьюера - 2**\n",
    "\n",
    "**#ошибка**\n",
    "\n",
    "Хорошо, то ты забыл проверку на наличие дубликатов. Дополни, пожалуйста\n",
    "\n",
    "    \n",
    "</div>"
   ]
  },
  {
   "cell_type": "markdown",
   "metadata": {},
   "source": [
    "<div style=\"border:solid green 2px; padding: 20px\"> \n",
    "    \n",
    "**Комментарий ревьюера - 3**\n",
    "\n",
    "**#ок**\n",
    "\n",
    "\n",
    "\n",
    "+\n",
    "\n",
    "    \n",
    "</div>"
   ]
  },
  {
   "cell_type": "code",
   "execution_count": 29,
   "metadata": {},
   "outputs": [],
   "source": [
    "group_calls = data_calls.pivot_table(index=['month','user_id'],values='duration',aggfunc=('sum'))"
   ]
  },
  {
   "cell_type": "code",
   "execution_count": 30,
   "metadata": {},
   "outputs": [
    {
     "data": {
      "text/html": [
       "<div>\n",
       "<style scoped>\n",
       "    .dataframe tbody tr th:only-of-type {\n",
       "        vertical-align: middle;\n",
       "    }\n",
       "\n",
       "    .dataframe tbody tr th {\n",
       "        vertical-align: top;\n",
       "    }\n",
       "\n",
       "    .dataframe thead th {\n",
       "        text-align: right;\n",
       "    }\n",
       "</style>\n",
       "<table border=\"1\" class=\"dataframe\">\n",
       "  <thead>\n",
       "    <tr style=\"text-align: right;\">\n",
       "      <th></th>\n",
       "      <th></th>\n",
       "      <th>duration</th>\n",
       "    </tr>\n",
       "    <tr>\n",
       "      <th>month</th>\n",
       "      <th>user_id</th>\n",
       "      <th></th>\n",
       "    </tr>\n",
       "  </thead>\n",
       "  <tbody>\n",
       "    <tr>\n",
       "      <td rowspan=\"5\" valign=\"top\">1</td>\n",
       "      <td>1005</td>\n",
       "      <td>95</td>\n",
       "    </tr>\n",
       "    <tr>\n",
       "      <td>1032</td>\n",
       "      <td>380</td>\n",
       "    </tr>\n",
       "    <tr>\n",
       "      <td>1045</td>\n",
       "      <td>9</td>\n",
       "    </tr>\n",
       "    <tr>\n",
       "      <td>1055</td>\n",
       "      <td>551</td>\n",
       "    </tr>\n",
       "    <tr>\n",
       "      <td>1071</td>\n",
       "      <td>194</td>\n",
       "    </tr>\n",
       "    <tr>\n",
       "      <td>...</td>\n",
       "      <td>...</td>\n",
       "      <td>...</td>\n",
       "    </tr>\n",
       "    <tr>\n",
       "      <td rowspan=\"5\" valign=\"top\">12</td>\n",
       "      <td>1494</td>\n",
       "      <td>418</td>\n",
       "    </tr>\n",
       "    <tr>\n",
       "      <td>1495</td>\n",
       "      <td>1031</td>\n",
       "    </tr>\n",
       "    <tr>\n",
       "      <td>1496</td>\n",
       "      <td>518</td>\n",
       "    </tr>\n",
       "    <tr>\n",
       "      <td>1497</td>\n",
       "      <td>545</td>\n",
       "    </tr>\n",
       "    <tr>\n",
       "      <td>1499</td>\n",
       "      <td>492</td>\n",
       "    </tr>\n",
       "  </tbody>\n",
       "</table>\n",
       "<p>3168 rows × 1 columns</p>\n",
       "</div>"
      ],
      "text/plain": [
       "               duration\n",
       "month user_id          \n",
       "1     1005           95\n",
       "      1032          380\n",
       "      1045            9\n",
       "      1055          551\n",
       "      1071          194\n",
       "...                 ...\n",
       "12    1494          418\n",
       "      1495         1031\n",
       "      1496          518\n",
       "      1497          545\n",
       "      1499          492\n",
       "\n",
       "[3168 rows x 1 columns]"
      ]
     },
     "execution_count": 30,
     "metadata": {},
     "output_type": "execute_result"
    }
   ],
   "source": [
    "group_calls"
   ]
  },
  {
   "cell_type": "code",
   "execution_count": 31,
   "metadata": {},
   "outputs": [],
   "source": [
    "data_messages['month'] = data_messages['message_date'].dt.month "
   ]
  },
  {
   "cell_type": "code",
   "execution_count": 32,
   "metadata": {},
   "outputs": [],
   "source": [
    "group_messages = data_messages.pivot_table(index=['month','user_id'], values='message_date', aggfunc=('count'))"
   ]
  },
  {
   "cell_type": "code",
   "execution_count": 33,
   "metadata": {},
   "outputs": [
    {
     "data": {
      "text/html": [
       "<div>\n",
       "<style scoped>\n",
       "    .dataframe tbody tr th:only-of-type {\n",
       "        vertical-align: middle;\n",
       "    }\n",
       "\n",
       "    .dataframe tbody tr th {\n",
       "        vertical-align: top;\n",
       "    }\n",
       "\n",
       "    .dataframe thead th {\n",
       "        text-align: right;\n",
       "    }\n",
       "</style>\n",
       "<table border=\"1\" class=\"dataframe\">\n",
       "  <thead>\n",
       "    <tr style=\"text-align: right;\">\n",
       "      <th></th>\n",
       "      <th></th>\n",
       "      <th>message_date</th>\n",
       "    </tr>\n",
       "    <tr>\n",
       "      <th>month</th>\n",
       "      <th>user_id</th>\n",
       "      <th></th>\n",
       "    </tr>\n",
       "  </thead>\n",
       "  <tbody>\n",
       "    <tr>\n",
       "      <td rowspan=\"5\" valign=\"top\">1</td>\n",
       "      <td>1005</td>\n",
       "      <td>7</td>\n",
       "    </tr>\n",
       "    <tr>\n",
       "      <td>1032</td>\n",
       "      <td>38</td>\n",
       "    </tr>\n",
       "    <tr>\n",
       "      <td>1045</td>\n",
       "      <td>5</td>\n",
       "    </tr>\n",
       "    <tr>\n",
       "      <td>1055</td>\n",
       "      <td>30</td>\n",
       "    </tr>\n",
       "    <tr>\n",
       "      <td>1071</td>\n",
       "      <td>16</td>\n",
       "    </tr>\n",
       "    <tr>\n",
       "      <td>...</td>\n",
       "      <td>...</td>\n",
       "      <td>...</td>\n",
       "    </tr>\n",
       "    <tr>\n",
       "      <td rowspan=\"5\" valign=\"top\">12</td>\n",
       "      <td>1493</td>\n",
       "      <td>78</td>\n",
       "    </tr>\n",
       "    <tr>\n",
       "      <td>1495</td>\n",
       "      <td>84</td>\n",
       "    </tr>\n",
       "    <tr>\n",
       "      <td>1496</td>\n",
       "      <td>51</td>\n",
       "    </tr>\n",
       "    <tr>\n",
       "      <td>1497</td>\n",
       "      <td>17</td>\n",
       "    </tr>\n",
       "    <tr>\n",
       "      <td>1499</td>\n",
       "      <td>66</td>\n",
       "    </tr>\n",
       "  </tbody>\n",
       "</table>\n",
       "<p>2717 rows × 1 columns</p>\n",
       "</div>"
      ],
      "text/plain": [
       "               message_date\n",
       "month user_id              \n",
       "1     1005                7\n",
       "      1032               38\n",
       "      1045                5\n",
       "      1055               30\n",
       "      1071               16\n",
       "...                     ...\n",
       "12    1493               78\n",
       "      1495               84\n",
       "      1496               51\n",
       "      1497               17\n",
       "      1499               66\n",
       "\n",
       "[2717 rows x 1 columns]"
      ]
     },
     "execution_count": 33,
     "metadata": {},
     "output_type": "execute_result"
    }
   ],
   "source": [
    "group_messages"
   ]
  },
  {
   "cell_type": "code",
   "execution_count": 34,
   "metadata": {},
   "outputs": [],
   "source": [
    "group_messages_call = group_messages.merge(group_calls, on=['user_id','month'],how='outer')"
   ]
  },
  {
   "cell_type": "code",
   "execution_count": 35,
   "metadata": {},
   "outputs": [
    {
     "data": {
      "text/html": [
       "<div>\n",
       "<style scoped>\n",
       "    .dataframe tbody tr th:only-of-type {\n",
       "        vertical-align: middle;\n",
       "    }\n",
       "\n",
       "    .dataframe tbody tr th {\n",
       "        vertical-align: top;\n",
       "    }\n",
       "\n",
       "    .dataframe thead th {\n",
       "        text-align: right;\n",
       "    }\n",
       "</style>\n",
       "<table border=\"1\" class=\"dataframe\">\n",
       "  <thead>\n",
       "    <tr style=\"text-align: right;\">\n",
       "      <th></th>\n",
       "      <th></th>\n",
       "      <th>message_date</th>\n",
       "      <th>duration</th>\n",
       "    </tr>\n",
       "    <tr>\n",
       "      <th>user_id</th>\n",
       "      <th>month</th>\n",
       "      <th></th>\n",
       "      <th></th>\n",
       "    </tr>\n",
       "  </thead>\n",
       "  <tbody>\n",
       "    <tr>\n",
       "      <td>1005</td>\n",
       "      <td>1</td>\n",
       "      <td>7.0</td>\n",
       "      <td>95.0</td>\n",
       "    </tr>\n",
       "    <tr>\n",
       "      <td>1032</td>\n",
       "      <td>1</td>\n",
       "      <td>38.0</td>\n",
       "      <td>380.0</td>\n",
       "    </tr>\n",
       "    <tr>\n",
       "      <td>1045</td>\n",
       "      <td>1</td>\n",
       "      <td>5.0</td>\n",
       "      <td>9.0</td>\n",
       "    </tr>\n",
       "    <tr>\n",
       "      <td>1055</td>\n",
       "      <td>1</td>\n",
       "      <td>30.0</td>\n",
       "      <td>551.0</td>\n",
       "    </tr>\n",
       "    <tr>\n",
       "      <td>1071</td>\n",
       "      <td>1</td>\n",
       "      <td>16.0</td>\n",
       "      <td>194.0</td>\n",
       "    </tr>\n",
       "    <tr>\n",
       "      <td>...</td>\n",
       "      <td>...</td>\n",
       "      <td>...</td>\n",
       "      <td>...</td>\n",
       "    </tr>\n",
       "    <tr>\n",
       "      <td>1462</td>\n",
       "      <td>12</td>\n",
       "      <td>NaN</td>\n",
       "      <td>878.0</td>\n",
       "    </tr>\n",
       "    <tr>\n",
       "      <td>1466</td>\n",
       "      <td>12</td>\n",
       "      <td>NaN</td>\n",
       "      <td>659.0</td>\n",
       "    </tr>\n",
       "    <tr>\n",
       "      <td>1469</td>\n",
       "      <td>12</td>\n",
       "      <td>NaN</td>\n",
       "      <td>635.0</td>\n",
       "    </tr>\n",
       "    <tr>\n",
       "      <td>1479</td>\n",
       "      <td>12</td>\n",
       "      <td>NaN</td>\n",
       "      <td>576.0</td>\n",
       "    </tr>\n",
       "    <tr>\n",
       "      <td>1494</td>\n",
       "      <td>12</td>\n",
       "      <td>NaN</td>\n",
       "      <td>418.0</td>\n",
       "    </tr>\n",
       "  </tbody>\n",
       "</table>\n",
       "<p>3212 rows × 2 columns</p>\n",
       "</div>"
      ],
      "text/plain": [
       "               message_date  duration\n",
       "user_id month                        \n",
       "1005    1               7.0      95.0\n",
       "1032    1              38.0     380.0\n",
       "1045    1               5.0       9.0\n",
       "1055    1              30.0     551.0\n",
       "1071    1              16.0     194.0\n",
       "...                     ...       ...\n",
       "1462    12              NaN     878.0\n",
       "1466    12              NaN     659.0\n",
       "1469    12              NaN     635.0\n",
       "1479    12              NaN     576.0\n",
       "1494    12              NaN     418.0\n",
       "\n",
       "[3212 rows x 2 columns]"
      ]
     },
     "execution_count": 35,
     "metadata": {},
     "output_type": "execute_result"
    }
   ],
   "source": [
    "group_messages_call"
   ]
  },
  {
   "cell_type": "code",
   "execution_count": 36,
   "metadata": {},
   "outputs": [],
   "source": [
    "data_internet['month'] = data_internet['session_date'].dt.month"
   ]
  },
  {
   "cell_type": "code",
   "execution_count": 37,
   "metadata": {},
   "outputs": [],
   "source": [
    "group_internet = data_internet.pivot_table(index=['month','user_id'], values='mb_used', aggfunc=('sum'))"
   ]
  },
  {
   "cell_type": "code",
   "execution_count": 38,
   "metadata": {},
   "outputs": [
    {
     "data": {
      "text/html": [
       "<div>\n",
       "<style scoped>\n",
       "    .dataframe tbody tr th:only-of-type {\n",
       "        vertical-align: middle;\n",
       "    }\n",
       "\n",
       "    .dataframe tbody tr th {\n",
       "        vertical-align: top;\n",
       "    }\n",
       "\n",
       "    .dataframe thead th {\n",
       "        text-align: right;\n",
       "    }\n",
       "</style>\n",
       "<table border=\"1\" class=\"dataframe\">\n",
       "  <thead>\n",
       "    <tr style=\"text-align: right;\">\n",
       "      <th></th>\n",
       "      <th></th>\n",
       "      <th>mb_used</th>\n",
       "    </tr>\n",
       "    <tr>\n",
       "      <th>month</th>\n",
       "      <th>user_id</th>\n",
       "      <th></th>\n",
       "    </tr>\n",
       "  </thead>\n",
       "  <tbody>\n",
       "    <tr>\n",
       "      <td rowspan=\"5\" valign=\"top\">1</td>\n",
       "      <td>1005</td>\n",
       "      <td>2730</td>\n",
       "    </tr>\n",
       "    <tr>\n",
       "      <td>1032</td>\n",
       "      <td>24147</td>\n",
       "    </tr>\n",
       "    <tr>\n",
       "      <td>1045</td>\n",
       "      <td>2348</td>\n",
       "    </tr>\n",
       "    <tr>\n",
       "      <td>1055</td>\n",
       "      <td>17111</td>\n",
       "    </tr>\n",
       "    <tr>\n",
       "      <td>1071</td>\n",
       "      <td>15622</td>\n",
       "    </tr>\n",
       "    <tr>\n",
       "      <td>...</td>\n",
       "      <td>...</td>\n",
       "      <td>...</td>\n",
       "    </tr>\n",
       "    <tr>\n",
       "      <td rowspan=\"5\" valign=\"top\">12</td>\n",
       "      <td>1494</td>\n",
       "      <td>17645</td>\n",
       "    </tr>\n",
       "    <tr>\n",
       "      <td>1495</td>\n",
       "      <td>23450</td>\n",
       "    </tr>\n",
       "    <tr>\n",
       "      <td>1496</td>\n",
       "      <td>20757</td>\n",
       "    </tr>\n",
       "    <tr>\n",
       "      <td>1497</td>\n",
       "      <td>19940</td>\n",
       "    </tr>\n",
       "    <tr>\n",
       "      <td>1499</td>\n",
       "      <td>13077</td>\n",
       "    </tr>\n",
       "  </tbody>\n",
       "</table>\n",
       "<p>3203 rows × 1 columns</p>\n",
       "</div>"
      ],
      "text/plain": [
       "               mb_used\n",
       "month user_id         \n",
       "1     1005        2730\n",
       "      1032       24147\n",
       "      1045        2348\n",
       "      1055       17111\n",
       "      1071       15622\n",
       "...                ...\n",
       "12    1494       17645\n",
       "      1495       23450\n",
       "      1496       20757\n",
       "      1497       19940\n",
       "      1499       13077\n",
       "\n",
       "[3203 rows x 1 columns]"
      ]
     },
     "execution_count": 38,
     "metadata": {},
     "output_type": "execute_result"
    }
   ],
   "source": [
    "group_internet"
   ]
  },
  {
   "cell_type": "code",
   "execution_count": 39,
   "metadata": {},
   "outputs": [],
   "source": [
    "group_all = group_messages_call.merge(group_internet, on=['user_id','month'], how='outer')"
   ]
  },
  {
   "cell_type": "code",
   "execution_count": 40,
   "metadata": {},
   "outputs": [],
   "source": [
    "data_users['month'] = data_users['reg_date'].dt.month"
   ]
  },
  {
   "cell_type": "code",
   "execution_count": 41,
   "metadata": {},
   "outputs": [],
   "source": [
    "group_all = group_all.merge(data_users, on=['user_id','month'], how='inner')"
   ]
  },
  {
   "cell_type": "code",
   "execution_count": 42,
   "metadata": {},
   "outputs": [],
   "source": [
    "group_all = group_all.fillna(0).sort_values(by='user_id')"
   ]
  },
  {
   "cell_type": "markdown",
   "metadata": {},
   "source": [
    "Удалю ненужные столбцы"
   ]
  },
  {
   "cell_type": "code",
   "execution_count": 43,
   "metadata": {},
   "outputs": [],
   "source": [
    "del group_all['age']\n",
    "del group_all['churn_date']\n",
    "del group_all['first_name']\n",
    "del group_all['last_name']\n",
    "del group_all['reg_date']"
   ]
  },
  {
   "cell_type": "code",
   "execution_count": 44,
   "metadata": {},
   "outputs": [
    {
     "data": {
      "text/html": [
       "<div>\n",
       "<style scoped>\n",
       "    .dataframe tbody tr th:only-of-type {\n",
       "        vertical-align: middle;\n",
       "    }\n",
       "\n",
       "    .dataframe tbody tr th {\n",
       "        vertical-align: top;\n",
       "    }\n",
       "\n",
       "    .dataframe thead th {\n",
       "        text-align: right;\n",
       "    }\n",
       "</style>\n",
       "<table border=\"1\" class=\"dataframe\">\n",
       "  <thead>\n",
       "    <tr style=\"text-align: right;\">\n",
       "      <th></th>\n",
       "      <th>user_id</th>\n",
       "      <th>month</th>\n",
       "      <th>message_date</th>\n",
       "      <th>duration</th>\n",
       "      <th>mb_used</th>\n",
       "      <th>city</th>\n",
       "      <th>tariff</th>\n",
       "    </tr>\n",
       "  </thead>\n",
       "  <tbody>\n",
       "    <tr>\n",
       "      <td>132</td>\n",
       "      <td>1000</td>\n",
       "      <td>5</td>\n",
       "      <td>22.0</td>\n",
       "      <td>159.0</td>\n",
       "      <td>2256.0</td>\n",
       "      <td>Краснодар</td>\n",
       "      <td>ultra</td>\n",
       "    </tr>\n",
       "    <tr>\n",
       "      <td>483</td>\n",
       "      <td>1001</td>\n",
       "      <td>11</td>\n",
       "      <td>0.0</td>\n",
       "      <td>430.0</td>\n",
       "      <td>18452.0</td>\n",
       "      <td>Москва</td>\n",
       "      <td>smart</td>\n",
       "    </tr>\n",
       "    <tr>\n",
       "      <td>167</td>\n",
       "      <td>1002</td>\n",
       "      <td>6</td>\n",
       "      <td>4.0</td>\n",
       "      <td>117.0</td>\n",
       "      <td>10871.0</td>\n",
       "      <td>Стерлитамак</td>\n",
       "      <td>smart</td>\n",
       "    </tr>\n",
       "    <tr>\n",
       "      <td>239</td>\n",
       "      <td>1003</td>\n",
       "      <td>8</td>\n",
       "      <td>37.0</td>\n",
       "      <td>380.0</td>\n",
       "      <td>8571.0</td>\n",
       "      <td>Москва</td>\n",
       "      <td>ultra</td>\n",
       "    </tr>\n",
       "    <tr>\n",
       "      <td>133</td>\n",
       "      <td>1004</td>\n",
       "      <td>5</td>\n",
       "      <td>95.0</td>\n",
       "      <td>35.0</td>\n",
       "      <td>13415.0</td>\n",
       "      <td>Новокузнецк</td>\n",
       "      <td>ultra</td>\n",
       "    </tr>\n",
       "  </tbody>\n",
       "</table>\n",
       "</div>"
      ],
      "text/plain": [
       "     user_id  month  message_date  duration  mb_used         city tariff\n",
       "132     1000      5          22.0     159.0   2256.0    Краснодар  ultra\n",
       "483     1001     11           0.0     430.0  18452.0       Москва  smart\n",
       "167     1002      6           4.0     117.0  10871.0  Стерлитамак  smart\n",
       "239     1003      8          37.0     380.0   8571.0       Москва  ultra\n",
       "133     1004      5          95.0      35.0  13415.0  Новокузнецк  ultra"
      ]
     },
     "execution_count": 44,
     "metadata": {},
     "output_type": "execute_result"
    }
   ],
   "source": [
    "group_all.head()"
   ]
  },
  {
   "cell_type": "markdown",
   "metadata": {},
   "source": [
    "Создам функцию для подсчета ежемесячной выручки "
   ]
  },
  {
   "cell_type": "code",
   "execution_count": 45,
   "metadata": {},
   "outputs": [],
   "source": [
    "def profit(row):\n",
    "    messages = row['message_date']\n",
    "    calls = row['duration']\n",
    "    internet = row['mb_used']\n",
    "    tariff = row['tariff']\n",
    "    \n",
    "    \n",
    "    if (tariff == 'smart'):\n",
    "        i = 0\n",
    "    else:\n",
    "        i = 1\n",
    "        \n",
    "    left_call = data_tariffs['minutes_included'][i] - calls\n",
    "    if left_call < 0:\n",
    "        call_money =- left_call * data_tariffs['rub_per_minute'][i]\n",
    "    else:\n",
    "        call_money = 0\n",
    "         \n",
    "    left_internet = data_tariffs['mb_per_month_included'][i] - internet\n",
    "    if left_internet < 0:\n",
    "        internet_money=round((-left_internet / 1024)) * data_tariffs['rub_per_gb'][i]\n",
    "    else:\n",
    "        internet_money = 0\n",
    "            \n",
    "    left_messages = data_tariffs['messages_included'][i] - messages\n",
    "    if left_messages < 0:\n",
    "        messages_money =- left_messages * data_tariffs['rub_per_message'][i]\n",
    "    else:\n",
    "        messages_money = 0\n",
    "            \n",
    "    money = call_money + internet_money + messages_money + data_tariffs['rub_monthly_fee'][i]\n",
    "    return money     "
   ]
  },
  {
   "cell_type": "code",
   "execution_count": 46,
   "metadata": {},
   "outputs": [],
   "source": [
    "group_all['profit'] = group_all.apply(profit,axis=1)"
   ]
  },
  {
   "cell_type": "code",
   "execution_count": 47,
   "metadata": {},
   "outputs": [
    {
     "data": {
      "text/html": [
       "<div>\n",
       "<style scoped>\n",
       "    .dataframe tbody tr th:only-of-type {\n",
       "        vertical-align: middle;\n",
       "    }\n",
       "\n",
       "    .dataframe tbody tr th {\n",
       "        vertical-align: top;\n",
       "    }\n",
       "\n",
       "    .dataframe thead th {\n",
       "        text-align: right;\n",
       "    }\n",
       "</style>\n",
       "<table border=\"1\" class=\"dataframe\">\n",
       "  <thead>\n",
       "    <tr style=\"text-align: right;\">\n",
       "      <th></th>\n",
       "      <th>user_id</th>\n",
       "      <th>month</th>\n",
       "      <th>message_date</th>\n",
       "      <th>duration</th>\n",
       "      <th>mb_used</th>\n",
       "      <th>city</th>\n",
       "      <th>tariff</th>\n",
       "      <th>profit</th>\n",
       "    </tr>\n",
       "  </thead>\n",
       "  <tbody>\n",
       "    <tr>\n",
       "      <td>132</td>\n",
       "      <td>1000</td>\n",
       "      <td>5</td>\n",
       "      <td>22.0</td>\n",
       "      <td>159.0</td>\n",
       "      <td>2256.0</td>\n",
       "      <td>Краснодар</td>\n",
       "      <td>ultra</td>\n",
       "      <td>1950.0</td>\n",
       "    </tr>\n",
       "    <tr>\n",
       "      <td>483</td>\n",
       "      <td>1001</td>\n",
       "      <td>11</td>\n",
       "      <td>0.0</td>\n",
       "      <td>430.0</td>\n",
       "      <td>18452.0</td>\n",
       "      <td>Москва</td>\n",
       "      <td>smart</td>\n",
       "      <td>1150.0</td>\n",
       "    </tr>\n",
       "    <tr>\n",
       "      <td>167</td>\n",
       "      <td>1002</td>\n",
       "      <td>6</td>\n",
       "      <td>4.0</td>\n",
       "      <td>117.0</td>\n",
       "      <td>10871.0</td>\n",
       "      <td>Стерлитамак</td>\n",
       "      <td>smart</td>\n",
       "      <td>550.0</td>\n",
       "    </tr>\n",
       "    <tr>\n",
       "      <td>239</td>\n",
       "      <td>1003</td>\n",
       "      <td>8</td>\n",
       "      <td>37.0</td>\n",
       "      <td>380.0</td>\n",
       "      <td>8571.0</td>\n",
       "      <td>Москва</td>\n",
       "      <td>ultra</td>\n",
       "      <td>1950.0</td>\n",
       "    </tr>\n",
       "    <tr>\n",
       "      <td>133</td>\n",
       "      <td>1004</td>\n",
       "      <td>5</td>\n",
       "      <td>95.0</td>\n",
       "      <td>35.0</td>\n",
       "      <td>13415.0</td>\n",
       "      <td>Новокузнецк</td>\n",
       "      <td>ultra</td>\n",
       "      <td>1950.0</td>\n",
       "    </tr>\n",
       "  </tbody>\n",
       "</table>\n",
       "</div>"
      ],
      "text/plain": [
       "     user_id  month  message_date  duration  mb_used         city tariff  \\\n",
       "132     1000      5          22.0     159.0   2256.0    Краснодар  ultra   \n",
       "483     1001     11           0.0     430.0  18452.0       Москва  smart   \n",
       "167     1002      6           4.0     117.0  10871.0  Стерлитамак  smart   \n",
       "239     1003      8          37.0     380.0   8571.0       Москва  ultra   \n",
       "133     1004      5          95.0      35.0  13415.0  Новокузнецк  ultra   \n",
       "\n",
       "     profit  \n",
       "132  1950.0  \n",
       "483  1150.0  \n",
       "167   550.0  \n",
       "239  1950.0  \n",
       "133  1950.0  "
      ]
     },
     "execution_count": 47,
     "metadata": {},
     "output_type": "execute_result"
    }
   ],
   "source": [
    "group_all.head()"
   ]
  },
  {
   "cell_type": "markdown",
   "metadata": {},
   "source": [
    "<div style=\"border:solid green 2px; padding: 20px\"> \n",
    "    \n",
    "**Комментарий ревьюера - 2**\n",
    "\n",
    "**#ок**\n",
    "\n",
    "Ок, выручка рассчитана верно\n",
    "\n",
    "    \n",
    "</div>"
   ]
  },
  {
   "cell_type": "code",
   "execution_count": 48,
   "metadata": {},
   "outputs": [
    {
     "data": {
      "text/plain": [
       "<matplotlib.axes._subplots.AxesSubplot at 0x7f107e1bd9d0>"
      ]
     },
     "execution_count": 48,
     "metadata": {},
     "output_type": "execute_result"
    },
    {
     "data": {
      "image/png": "[encoded data removed]",
      "text/plain": [
       "<Figure size 432x288 with 1 Axes>"
      ]
     },
     "metadata": {
      "needs_background": "light"
     },
     "output_type": "display_data"
    }
   ],
   "source": [
    "group_all['profit'].hist(bins=50)"
   ]
  },
  {
   "cell_type": "code",
   "execution_count": 49,
   "metadata": {},
   "outputs": [
    {
     "data": {
      "text/plain": [
       "tariff\n",
       "smart    238891.0\n",
       "ultra    289950.0\n",
       "Name: profit, dtype: float64"
      ]
     },
     "execution_count": 49,
     "metadata": {},
     "output_type": "execute_result"
    }
   ],
   "source": [
    "group_all.groupby('tariff')['profit'].sum()"
   ]
  },
  {
   "cell_type": "code",
   "execution_count": 50,
   "metadata": {},
   "outputs": [
    {
     "data": {
      "text/html": [
       "<div>\n",
       "<style scoped>\n",
       "    .dataframe tbody tr th:only-of-type {\n",
       "        vertical-align: middle;\n",
       "    }\n",
       "\n",
       "    .dataframe tbody tr th {\n",
       "        vertical-align: top;\n",
       "    }\n",
       "\n",
       "    .dataframe thead th {\n",
       "        text-align: right;\n",
       "    }\n",
       "</style>\n",
       "<table border=\"1\" class=\"dataframe\">\n",
       "  <thead>\n",
       "    <tr style=\"text-align: right;\">\n",
       "      <th></th>\n",
       "      <th>user_id</th>\n",
       "      <th>month</th>\n",
       "      <th>message_date</th>\n",
       "      <th>duration</th>\n",
       "      <th>mb_used</th>\n",
       "      <th>city</th>\n",
       "      <th>tariff</th>\n",
       "      <th>profit</th>\n",
       "    </tr>\n",
       "  </thead>\n",
       "  <tbody>\n",
       "    <tr>\n",
       "      <td>332</td>\n",
       "      <td>1276</td>\n",
       "      <td>10</td>\n",
       "      <td>29.0</td>\n",
       "      <td>371.0</td>\n",
       "      <td>33558.0</td>\n",
       "      <td>Москва</td>\n",
       "      <td>ultra</td>\n",
       "      <td>2400.0</td>\n",
       "    </tr>\n",
       "    <tr>\n",
       "      <td>371</td>\n",
       "      <td>1304</td>\n",
       "      <td>11</td>\n",
       "      <td>65.0</td>\n",
       "      <td>435.0</td>\n",
       "      <td>34924.0</td>\n",
       "      <td>Владимир</td>\n",
       "      <td>ultra</td>\n",
       "      <td>2550.0</td>\n",
       "    </tr>\n",
       "    <tr>\n",
       "      <td>52</td>\n",
       "      <td>1330</td>\n",
       "      <td>2</td>\n",
       "      <td>56.0</td>\n",
       "      <td>514.0</td>\n",
       "      <td>32561.0</td>\n",
       "      <td>Нижний Новгород</td>\n",
       "      <td>ultra</td>\n",
       "      <td>2250.0</td>\n",
       "    </tr>\n",
       "  </tbody>\n",
       "</table>\n",
       "</div>"
      ],
      "text/plain": [
       "     user_id  month  message_date  duration  mb_used             city tariff  \\\n",
       "332     1276     10          29.0     371.0  33558.0           Москва  ultra   \n",
       "371     1304     11          65.0     435.0  34924.0         Владимир  ultra   \n",
       "52      1330      2          56.0     514.0  32561.0  Нижний Новгород  ultra   \n",
       "\n",
       "     profit  \n",
       "332  2400.0  \n",
       "371  2550.0  \n",
       "52   2250.0  "
      ]
     },
     "execution_count": 50,
     "metadata": {},
     "output_type": "execute_result"
    }
   ],
   "source": [
    "group_all.query('tariff == \"ultra\" and profit > 1950')"
   ]
  },
  {
   "cell_type": "code",
   "execution_count": 51,
   "metadata": {},
   "outputs": [
    {
     "data": {
      "text/plain": [
       "user_id         81\n",
       "month           81\n",
       "message_date    81\n",
       "duration        81\n",
       "mb_used         81\n",
       "city            81\n",
       "tariff          81\n",
       "profit          81\n",
       "dtype: int64"
      ]
     },
     "execution_count": 51,
     "metadata": {},
     "output_type": "execute_result"
    }
   ],
   "source": [
    "group_all.query('tariff == \"smart\" and profit > 550').count()"
   ]
  },
  {
   "cell_type": "markdown",
   "metadata": {},
   "source": [
    "Самый прибыльный тариф это `ultra`"
   ]
  },
  {
   "cell_type": "code",
   "execution_count": 52,
   "metadata": {},
   "outputs": [],
   "source": [
    "count_durations = group_all.pivot_table(index='month', values='duration', aggfunc=('count'))"
   ]
  },
  {
   "cell_type": "markdown",
   "metadata": {},
   "source": [
    "Посчитаю количество звонков"
   ]
  },
  {
   "cell_type": "code",
   "execution_count": 53,
   "metadata": {},
   "outputs": [],
   "source": [
    "tariff_ultra = (group_all.query('tariff==\"ultra\"').pivot_table(index='month', values=('duration','message_date','mb_used'), aggfunc=('sum')))\n",
    "\n",
    "tariff_smart = (group_all.query('tariff==\"smart\"').pivot_table(index='month', values=('duration','message_date','mb_used'), aggfunc=('sum')))"
   ]
  },
  {
   "cell_type": "markdown",
   "metadata": {},
   "source": [
    "Разделил тарифы по отдельности и подсчитал сумму звонков, интернета и сообщений"
   ]
  },
  {
   "cell_type": "code",
   "execution_count": 54,
   "metadata": {},
   "outputs": [
    {
     "data": {
      "text/html": [
       "<div>\n",
       "<style scoped>\n",
       "    .dataframe tbody tr th:only-of-type {\n",
       "        vertical-align: middle;\n",
       "    }\n",
       "\n",
       "    .dataframe tbody tr th {\n",
       "        vertical-align: top;\n",
       "    }\n",
       "\n",
       "    .dataframe thead th {\n",
       "        text-align: right;\n",
       "    }\n",
       "</style>\n",
       "<table border=\"1\" class=\"dataframe\">\n",
       "  <thead>\n",
       "    <tr style=\"text-align: right;\">\n",
       "      <th></th>\n",
       "      <th>duration</th>\n",
       "      <th>mb_used</th>\n",
       "      <th>message_date</th>\n",
       "    </tr>\n",
       "    <tr>\n",
       "      <th>month</th>\n",
       "      <th></th>\n",
       "      <th></th>\n",
       "      <th></th>\n",
       "    </tr>\n",
       "  </thead>\n",
       "  <tbody>\n",
       "    <tr>\n",
       "      <td>1</td>\n",
       "      <td>3853.0</td>\n",
       "      <td>118382.0</td>\n",
       "      <td>304.0</td>\n",
       "    </tr>\n",
       "    <tr>\n",
       "      <td>2</td>\n",
       "      <td>1874.0</td>\n",
       "      <td>117389.0</td>\n",
       "      <td>181.0</td>\n",
       "    </tr>\n",
       "    <tr>\n",
       "      <td>3</td>\n",
       "      <td>4194.0</td>\n",
       "      <td>96432.0</td>\n",
       "      <td>146.0</td>\n",
       "    </tr>\n",
       "    <tr>\n",
       "      <td>4</td>\n",
       "      <td>5277.0</td>\n",
       "      <td>213294.0</td>\n",
       "      <td>412.0</td>\n",
       "    </tr>\n",
       "    <tr>\n",
       "      <td>5</td>\n",
       "      <td>2178.0</td>\n",
       "      <td>106700.0</td>\n",
       "      <td>332.0</td>\n",
       "    </tr>\n",
       "    <tr>\n",
       "      <td>6</td>\n",
       "      <td>3717.0</td>\n",
       "      <td>187364.0</td>\n",
       "      <td>501.0</td>\n",
       "    </tr>\n",
       "    <tr>\n",
       "      <td>7</td>\n",
       "      <td>3018.0</td>\n",
       "      <td>71624.0</td>\n",
       "      <td>261.0</td>\n",
       "    </tr>\n",
       "    <tr>\n",
       "      <td>8</td>\n",
       "      <td>3913.0</td>\n",
       "      <td>117213.0</td>\n",
       "      <td>583.0</td>\n",
       "    </tr>\n",
       "    <tr>\n",
       "      <td>9</td>\n",
       "      <td>2698.0</td>\n",
       "      <td>71849.0</td>\n",
       "      <td>238.0</td>\n",
       "    </tr>\n",
       "    <tr>\n",
       "      <td>10</td>\n",
       "      <td>3575.0</td>\n",
       "      <td>199613.0</td>\n",
       "      <td>557.0</td>\n",
       "    </tr>\n",
       "    <tr>\n",
       "      <td>11</td>\n",
       "      <td>5429.0</td>\n",
       "      <td>188189.0</td>\n",
       "      <td>727.0</td>\n",
       "    </tr>\n",
       "    <tr>\n",
       "      <td>12</td>\n",
       "      <td>4852.0</td>\n",
       "      <td>168776.0</td>\n",
       "      <td>474.0</td>\n",
       "    </tr>\n",
       "  </tbody>\n",
       "</table>\n",
       "</div>"
      ],
      "text/plain": [
       "       duration   mb_used  message_date\n",
       "month                                  \n",
       "1        3853.0  118382.0         304.0\n",
       "2        1874.0  117389.0         181.0\n",
       "3        4194.0   96432.0         146.0\n",
       "4        5277.0  213294.0         412.0\n",
       "5        2178.0  106700.0         332.0\n",
       "6        3717.0  187364.0         501.0\n",
       "7        3018.0   71624.0         261.0\n",
       "8        3913.0  117213.0         583.0\n",
       "9        2698.0   71849.0         238.0\n",
       "10       3575.0  199613.0         557.0\n",
       "11       5429.0  188189.0         727.0\n",
       "12       4852.0  168776.0         474.0"
      ]
     },
     "execution_count": 54,
     "metadata": {},
     "output_type": "execute_result"
    }
   ],
   "source": [
    "tariff_ultra"
   ]
  },
  {
   "cell_type": "code",
   "execution_count": 55,
   "metadata": {},
   "outputs": [
    {
     "data": {
      "text/html": [
       "<div>\n",
       "<style scoped>\n",
       "    .dataframe tbody tr th:only-of-type {\n",
       "        vertical-align: middle;\n",
       "    }\n",
       "\n",
       "    .dataframe tbody tr th {\n",
       "        vertical-align: top;\n",
       "    }\n",
       "\n",
       "    .dataframe thead th {\n",
       "        text-align: right;\n",
       "    }\n",
       "</style>\n",
       "<table border=\"1\" class=\"dataframe\">\n",
       "  <thead>\n",
       "    <tr style=\"text-align: right;\">\n",
       "      <th></th>\n",
       "      <th>duration</th>\n",
       "      <th>mb_used</th>\n",
       "      <th>message_date</th>\n",
       "    </tr>\n",
       "    <tr>\n",
       "      <th>month</th>\n",
       "      <th></th>\n",
       "      <th></th>\n",
       "      <th></th>\n",
       "    </tr>\n",
       "  </thead>\n",
       "  <tbody>\n",
       "    <tr>\n",
       "      <td>1</td>\n",
       "      <td>6931.0</td>\n",
       "      <td>289831.0</td>\n",
       "      <td>620.0</td>\n",
       "    </tr>\n",
       "    <tr>\n",
       "      <td>2</td>\n",
       "      <td>4035.0</td>\n",
       "      <td>163193.0</td>\n",
       "      <td>312.0</td>\n",
       "    </tr>\n",
       "    <tr>\n",
       "      <td>3</td>\n",
       "      <td>5046.0</td>\n",
       "      <td>188427.0</td>\n",
       "      <td>400.0</td>\n",
       "    </tr>\n",
       "    <tr>\n",
       "      <td>4</td>\n",
       "      <td>8096.0</td>\n",
       "      <td>276383.0</td>\n",
       "      <td>739.0</td>\n",
       "    </tr>\n",
       "    <tr>\n",
       "      <td>5</td>\n",
       "      <td>5658.0</td>\n",
       "      <td>275657.0</td>\n",
       "      <td>514.0</td>\n",
       "    </tr>\n",
       "    <tr>\n",
       "      <td>6</td>\n",
       "      <td>4275.0</td>\n",
       "      <td>189244.0</td>\n",
       "      <td>314.0</td>\n",
       "    </tr>\n",
       "    <tr>\n",
       "      <td>7</td>\n",
       "      <td>8921.0</td>\n",
       "      <td>326184.0</td>\n",
       "      <td>671.0</td>\n",
       "    </tr>\n",
       "    <tr>\n",
       "      <td>8</td>\n",
       "      <td>7246.0</td>\n",
       "      <td>329359.0</td>\n",
       "      <td>577.0</td>\n",
       "    </tr>\n",
       "    <tr>\n",
       "      <td>9</td>\n",
       "      <td>6814.0</td>\n",
       "      <td>242056.0</td>\n",
       "      <td>549.0</td>\n",
       "    </tr>\n",
       "    <tr>\n",
       "      <td>10</td>\n",
       "      <td>9126.0</td>\n",
       "      <td>296595.0</td>\n",
       "      <td>627.0</td>\n",
       "    </tr>\n",
       "    <tr>\n",
       "      <td>11</td>\n",
       "      <td>7286.0</td>\n",
       "      <td>270500.0</td>\n",
       "      <td>617.0</td>\n",
       "    </tr>\n",
       "    <tr>\n",
       "      <td>12</td>\n",
       "      <td>12015.0</td>\n",
       "      <td>462958.0</td>\n",
       "      <td>827.0</td>\n",
       "    </tr>\n",
       "  </tbody>\n",
       "</table>\n",
       "</div>"
      ],
      "text/plain": [
       "       duration   mb_used  message_date\n",
       "month                                  \n",
       "1        6931.0  289831.0         620.0\n",
       "2        4035.0  163193.0         312.0\n",
       "3        5046.0  188427.0         400.0\n",
       "4        8096.0  276383.0         739.0\n",
       "5        5658.0  275657.0         514.0\n",
       "6        4275.0  189244.0         314.0\n",
       "7        8921.0  326184.0         671.0\n",
       "8        7246.0  329359.0         577.0\n",
       "9        6814.0  242056.0         549.0\n",
       "10       9126.0  296595.0         627.0\n",
       "11       7286.0  270500.0         617.0\n",
       "12      12015.0  462958.0         827.0"
      ]
     },
     "execution_count": 55,
     "metadata": {},
     "output_type": "execute_result"
    }
   ],
   "source": [
    "tariff_smart"
   ]
  },
  {
   "cell_type": "code",
   "execution_count": 56,
   "metadata": {},
   "outputs": [
    {
     "data": {
      "text/plain": [
       "<matplotlib.axes._subplots.AxesSubplot at 0x7f107e073690>"
      ]
     },
     "execution_count": 56,
     "metadata": {},
     "output_type": "execute_result"
    },
    {
     "data": {
      "image/png": "[encoded data removed]",
      "text/plain": [
       "<Figure size 936x432 with 1 Axes>"
      ]
     },
     "metadata": {
      "needs_background": "light"
     },
     "output_type": "display_data"
    }
   ],
   "source": [
    "ax = tariff_ultra.plot(y='mb_used', figsize=(13,6), style='o-', kind='bar', label='ultra')\n",
    "tariff_smart.plot(y='mb_used', grid=True, figsize=(13,6), style='o-', kind='bar', label='smart', alpha=0.5, ax=ax)"
   ]
  },
  {
   "cell_type": "markdown",
   "metadata": {},
   "source": [
    "По графику видно количество потребляемого интернета по месяцам, используя 2 тарифа. `Smart` лидирует"
   ]
  },
  {
   "cell_type": "code",
   "execution_count": 57,
   "metadata": {},
   "outputs": [
    {
     "data": {
      "text/plain": [
       "<matplotlib.axes._subplots.AxesSubplot at 0x7f107d331290>"
      ]
     },
     "execution_count": 57,
     "metadata": {},
     "output_type": "execute_result"
    },
    {
     "data": {
      "image/png": "[encoded data removed]",
      "text/plain": [
       "<Figure size 936x432 with 1 Axes>"
      ]
     },
     "metadata": {
      "needs_background": "light"
     },
     "output_type": "display_data"
    }
   ],
   "source": [
    "ax = tariff_ultra.plot(y='duration', figsize=(13,6), style='o-', kind='bar', label='ultra')\n",
    "tariff_smart.plot(y='duration', grid=True, figsize=(13,6), style='o-', kind='bar', label='smart', alpha=0.5, ax=ax)"
   ]
  },
  {
   "cell_type": "markdown",
   "metadata": {},
   "source": [
    "По графику видно количество звонков по месяцам, используя 2 тарифа. `Smart` лидирует"
   ]
  },
  {
   "cell_type": "code",
   "execution_count": 58,
   "metadata": {},
   "outputs": [
    {
     "data": {
      "text/plain": [
       "<matplotlib.axes._subplots.AxesSubplot at 0x7f107d27a6d0>"
      ]
     },
     "execution_count": 58,
     "metadata": {},
     "output_type": "execute_result"
    },
    {
     "data": {
      "image/png": "[encoded data removed]",
      "text/plain": [
       "<Figure size 936x432 with 1 Axes>"
      ]
     },
     "metadata": {
      "needs_background": "light"
     },
     "output_type": "display_data"
    }
   ],
   "source": [
    "ax = tariff_ultra.plot(y='message_date', figsize=(13,6), style='o-', kind='bar', label='ultra')\n",
    "tariff_smart.plot(y='message_date', grid=True, figsize=(13,6), style='o-', kind='bar', label='smart', alpha=0.5, ax=ax)"
   ]
  },
  {
   "cell_type": "markdown",
   "metadata": {},
   "source": [
    "<div style=\"border:solid green 2px; padding: 20px\"> \n",
    "    \n",
    "**Комментарий ревьюера - 2**\n",
    "\n",
    "**#ок**\n",
    "\n",
    "Хорошо, распределение по месяцам наглядно отображено\n",
    "\n",
    "    \n",
    "</div>"
   ]
  },
  {
   "cell_type": "markdown",
   "metadata": {},
   "source": [
    "По графику видно количество сообщений по месяцам, используя 2 тарифа. `Ultra` начал набирать обороты"
   ]
  },
  {
   "cell_type": "code",
   "execution_count": 59,
   "metadata": {},
   "outputs": [],
   "source": [
    "mean_ultra = (group_all.query('tariff==\"ultra\"').pivot_table(index='month', values=('duration','message_date','mb_used'), aggfunc=('mean')))"
   ]
  },
  {
   "cell_type": "markdown",
   "metadata": {},
   "source": [
    "Расчет значений по `ultra`"
   ]
  },
  {
   "cell_type": "code",
   "execution_count": 60,
   "metadata": {},
   "outputs": [
    {
     "data": {
      "text/html": [
       "<div>\n",
       "<style scoped>\n",
       "    .dataframe tbody tr th:only-of-type {\n",
       "        vertical-align: middle;\n",
       "    }\n",
       "\n",
       "    .dataframe tbody tr th {\n",
       "        vertical-align: top;\n",
       "    }\n",
       "\n",
       "    .dataframe thead th {\n",
       "        text-align: right;\n",
       "    }\n",
       "</style>\n",
       "<table border=\"1\" class=\"dataframe\">\n",
       "  <thead>\n",
       "    <tr style=\"text-align: right;\">\n",
       "      <th></th>\n",
       "      <th>mean_duration</th>\n",
       "      <th>mean_mb_used</th>\n",
       "      <th>mean_message</th>\n",
       "    </tr>\n",
       "    <tr>\n",
       "      <th>month</th>\n",
       "      <th></th>\n",
       "      <th></th>\n",
       "      <th></th>\n",
       "    </tr>\n",
       "  </thead>\n",
       "  <tbody>\n",
       "    <tr>\n",
       "      <td>1</td>\n",
       "      <td>428.111111</td>\n",
       "      <td>13153.555556</td>\n",
       "      <td>33.777778</td>\n",
       "    </tr>\n",
       "    <tr>\n",
       "      <td>2</td>\n",
       "      <td>124.933333</td>\n",
       "      <td>7825.933333</td>\n",
       "      <td>12.066667</td>\n",
       "    </tr>\n",
       "    <tr>\n",
       "      <td>3</td>\n",
       "      <td>322.615385</td>\n",
       "      <td>7417.846154</td>\n",
       "      <td>11.230769</td>\n",
       "    </tr>\n",
       "    <tr>\n",
       "      <td>4</td>\n",
       "      <td>293.166667</td>\n",
       "      <td>11849.666667</td>\n",
       "      <td>22.888889</td>\n",
       "    </tr>\n",
       "    <tr>\n",
       "      <td>5</td>\n",
       "      <td>181.500000</td>\n",
       "      <td>8891.666667</td>\n",
       "      <td>27.666667</td>\n",
       "    </tr>\n",
       "    <tr>\n",
       "      <td>6</td>\n",
       "      <td>218.647059</td>\n",
       "      <td>11021.411765</td>\n",
       "      <td>29.470588</td>\n",
       "    </tr>\n",
       "    <tr>\n",
       "      <td>7</td>\n",
       "      <td>431.142857</td>\n",
       "      <td>10232.000000</td>\n",
       "      <td>37.285714</td>\n",
       "    </tr>\n",
       "    <tr>\n",
       "      <td>8</td>\n",
       "      <td>244.562500</td>\n",
       "      <td>7325.812500</td>\n",
       "      <td>36.437500</td>\n",
       "    </tr>\n",
       "    <tr>\n",
       "      <td>9</td>\n",
       "      <td>299.777778</td>\n",
       "      <td>7983.222222</td>\n",
       "      <td>26.444444</td>\n",
       "    </tr>\n",
       "    <tr>\n",
       "      <td>10</td>\n",
       "      <td>357.500000</td>\n",
       "      <td>19961.300000</td>\n",
       "      <td>55.700000</td>\n",
       "    </tr>\n",
       "    <tr>\n",
       "      <td>11</td>\n",
       "      <td>361.933333</td>\n",
       "      <td>12545.933333</td>\n",
       "      <td>48.466667</td>\n",
       "    </tr>\n",
       "    <tr>\n",
       "      <td>12</td>\n",
       "      <td>693.142857</td>\n",
       "      <td>24110.857143</td>\n",
       "      <td>67.714286</td>\n",
       "    </tr>\n",
       "  </tbody>\n",
       "</table>\n",
       "</div>"
      ],
      "text/plain": [
       "       mean_duration  mean_mb_used  mean_message\n",
       "month                                           \n",
       "1         428.111111  13153.555556     33.777778\n",
       "2         124.933333   7825.933333     12.066667\n",
       "3         322.615385   7417.846154     11.230769\n",
       "4         293.166667  11849.666667     22.888889\n",
       "5         181.500000   8891.666667     27.666667\n",
       "6         218.647059  11021.411765     29.470588\n",
       "7         431.142857  10232.000000     37.285714\n",
       "8         244.562500   7325.812500     36.437500\n",
       "9         299.777778   7983.222222     26.444444\n",
       "10        357.500000  19961.300000     55.700000\n",
       "11        361.933333  12545.933333     48.466667\n",
       "12        693.142857  24110.857143     67.714286"
      ]
     },
     "execution_count": 60,
     "metadata": {},
     "output_type": "execute_result"
    }
   ],
   "source": [
    "mean_ultra.set_axis(['mean_duration','mean_mb_used','mean_message'], axis='columns', inplace=True)\n",
    "mean_ultra"
   ]
  },
  {
   "cell_type": "code",
   "execution_count": 61,
   "metadata": {},
   "outputs": [
    {
     "data": {
      "text/plain": [
       "<matplotlib.axes._subplots.AxesSubplot at 0x7f107d162050>"
      ]
     },
     "execution_count": 61,
     "metadata": {},
     "output_type": "execute_result"
    },
    {
     "data": {
      "image/png": "[encoded data removed]",
      "text/plain": [
       "<Figure size 936x432 with 1 Axes>"
      ]
     },
     "metadata": {
      "needs_background": "light"
     },
     "output_type": "display_data"
    }
   ],
   "source": [
    "mean_ultra.plot(y='mean_duration', grid=True, figsize=(13,6), style='o-', kind='bar', label='Среднее значение звонков для всех пользователей тарифа Ultra')"
   ]
  },
  {
   "cell_type": "code",
   "execution_count": 62,
   "metadata": {},
   "outputs": [],
   "source": [
    "mean_ultra['mean_minute_per_person'] = tariff_ultra['duration'] / len(group_all.query('tariff == \"ultra\"'))"
   ]
  },
  {
   "cell_type": "markdown",
   "metadata": {},
   "source": [
    "Посчитал среднее значение времени разговора пользователей за каждый месяц тарифа `ultra`"
   ]
  },
  {
   "cell_type": "code",
   "execution_count": 63,
   "metadata": {},
   "outputs": [
    {
     "data": {
      "text/html": [
       "<div>\n",
       "<style scoped>\n",
       "    .dataframe tbody tr th:only-of-type {\n",
       "        vertical-align: middle;\n",
       "    }\n",
       "\n",
       "    .dataframe tbody tr th {\n",
       "        vertical-align: top;\n",
       "    }\n",
       "\n",
       "    .dataframe thead th {\n",
       "        text-align: right;\n",
       "    }\n",
       "</style>\n",
       "<table border=\"1\" class=\"dataframe\">\n",
       "  <thead>\n",
       "    <tr style=\"text-align: right;\">\n",
       "      <th></th>\n",
       "      <th>user_id</th>\n",
       "      <th>month</th>\n",
       "      <th>message_date</th>\n",
       "      <th>duration</th>\n",
       "      <th>mb_used</th>\n",
       "      <th>city</th>\n",
       "      <th>tariff</th>\n",
       "      <th>profit</th>\n",
       "    </tr>\n",
       "  </thead>\n",
       "  <tbody>\n",
       "    <tr>\n",
       "      <td>132</td>\n",
       "      <td>1000</td>\n",
       "      <td>5</td>\n",
       "      <td>22.0</td>\n",
       "      <td>159.0</td>\n",
       "      <td>2256.0</td>\n",
       "      <td>Краснодар</td>\n",
       "      <td>ultra</td>\n",
       "      <td>1950.0</td>\n",
       "    </tr>\n",
       "    <tr>\n",
       "      <td>239</td>\n",
       "      <td>1003</td>\n",
       "      <td>8</td>\n",
       "      <td>37.0</td>\n",
       "      <td>380.0</td>\n",
       "      <td>8571.0</td>\n",
       "      <td>Москва</td>\n",
       "      <td>ultra</td>\n",
       "      <td>1950.0</td>\n",
       "    </tr>\n",
       "    <tr>\n",
       "      <td>133</td>\n",
       "      <td>1004</td>\n",
       "      <td>5</td>\n",
       "      <td>95.0</td>\n",
       "      <td>35.0</td>\n",
       "      <td>13415.0</td>\n",
       "      <td>Новокузнецк</td>\n",
       "      <td>ultra</td>\n",
       "      <td>1950.0</td>\n",
       "    </tr>\n",
       "    <tr>\n",
       "      <td>350</td>\n",
       "      <td>1013</td>\n",
       "      <td>11</td>\n",
       "      <td>17.0</td>\n",
       "      <td>369.0</td>\n",
       "      <td>9790.0</td>\n",
       "      <td>Иваново</td>\n",
       "      <td>ultra</td>\n",
       "      <td>1950.0</td>\n",
       "    </tr>\n",
       "    <tr>\n",
       "      <td>351</td>\n",
       "      <td>1016</td>\n",
       "      <td>11</td>\n",
       "      <td>39.0</td>\n",
       "      <td>28.0</td>\n",
       "      <td>7388.0</td>\n",
       "      <td>Омск</td>\n",
       "      <td>ultra</td>\n",
       "      <td>1950.0</td>\n",
       "    </tr>\n",
       "  </tbody>\n",
       "</table>\n",
       "</div>"
      ],
      "text/plain": [
       "     user_id  month  message_date  duration  mb_used         city tariff  \\\n",
       "132     1000      5          22.0     159.0   2256.0    Краснодар  ultra   \n",
       "239     1003      8          37.0     380.0   8571.0       Москва  ultra   \n",
       "133     1004      5          95.0      35.0  13415.0  Новокузнецк  ultra   \n",
       "350     1013     11          17.0     369.0   9790.0      Иваново  ultra   \n",
       "351     1016     11          39.0      28.0   7388.0         Омск  ultra   \n",
       "\n",
       "     profit  \n",
       "132  1950.0  \n",
       "239  1950.0  \n",
       "133  1950.0  \n",
       "350  1950.0  \n",
       "351  1950.0  "
      ]
     },
     "execution_count": 63,
     "metadata": {},
     "output_type": "execute_result"
    }
   ],
   "source": [
    "ultra_person_calls = group_all.query('tariff==\"ultra\"') \n",
    "ultra_person_calls.head()"
   ]
  },
  {
   "cell_type": "code",
   "execution_count": 64,
   "metadata": {},
   "outputs": [],
   "source": [
    "disp_sigma_ultra = ultra_person_calls.pivot_table(index='month', values='duration', aggfunc=(np.var))"
   ]
  },
  {
   "cell_type": "code",
   "execution_count": 65,
   "metadata": {},
   "outputs": [],
   "source": [
    "disp_sigma_ultra_messages = ultra_person_calls.pivot_table(index='month', values='message_date', aggfunc=(np.var))"
   ]
  },
  {
   "cell_type": "code",
   "execution_count": 66,
   "metadata": {},
   "outputs": [],
   "source": [
    "disp_sigma_ultra_internet = ultra_person_calls.pivot_table(index='month', values='mb_used', aggfunc=(np.var))"
   ]
  },
  {
   "cell_type": "markdown",
   "metadata": {},
   "source": [
    "Посчитал дисперсию звонков, интернета и звонков в тарифе `Ultra`"
   ]
  },
  {
   "cell_type": "code",
   "execution_count": 67,
   "metadata": {},
   "outputs": [],
   "source": [
    "disp_sigma_ultra['sigma'] = disp_sigma_ultra['duration'].apply(np.sqrt)"
   ]
  },
  {
   "cell_type": "code",
   "execution_count": 68,
   "metadata": {},
   "outputs": [],
   "source": [
    "disp_sigma_ultra_messages['sigma'] = disp_sigma_ultra_messages['message_date'].apply(np.sqrt)"
   ]
  },
  {
   "cell_type": "code",
   "execution_count": 69,
   "metadata": {},
   "outputs": [],
   "source": [
    "disp_sigma_ultra_internet['sigma'] = disp_sigma_ultra_internet['mb_used'].apply(np.sqrt)"
   ]
  },
  {
   "cell_type": "markdown",
   "metadata": {},
   "source": [
    "Посчитал стандартное отклонение"
   ]
  },
  {
   "cell_type": "code",
   "execution_count": 70,
   "metadata": {},
   "outputs": [],
   "source": [
    "disp_sigma_ultra.set_axis(['dispersion_call','sigma_call'],axis='columns',inplace=True)\n",
    "disp_sigma_ultra_messages.set_axis(['dispersion_message','sigma_message'],axis='columns',inplace=True)\n",
    "disp_sigma_ultra_internet.set_axis(['dispersion_internet','sigma_internet'],axis='columns',inplace=True)"
   ]
  },
  {
   "cell_type": "markdown",
   "metadata": {},
   "source": [
    "Переименовал столбцы"
   ]
  },
  {
   "cell_type": "code",
   "execution_count": 71,
   "metadata": {},
   "outputs": [],
   "source": [
    "disp_sigma_ultra = disp_sigma_ultra.merge(disp_sigma_ultra_messages, on='month')"
   ]
  },
  {
   "cell_type": "code",
   "execution_count": 72,
   "metadata": {},
   "outputs": [],
   "source": [
    "disp_sigma_ultra = disp_sigma_ultra.merge(disp_sigma_ultra_internet, on='month')"
   ]
  },
  {
   "cell_type": "code",
   "execution_count": 73,
   "metadata": {},
   "outputs": [],
   "source": [
    "mean_ultra = mean_ultra.merge(disp_sigma_ultra, on='month')"
   ]
  },
  {
   "cell_type": "code",
   "execution_count": 74,
   "metadata": {},
   "outputs": [],
   "source": [
    "mean_ultra['mean_money'] = group_all.query('tariff == \"ultra\"').pivot_table(index='month', values='profit', aggfunc=('mean'))"
   ]
  },
  {
   "cell_type": "code",
   "execution_count": 75,
   "metadata": {},
   "outputs": [],
   "source": [
    "mean_ultra['dispersion_money'] = group_all.query('tariff == \"ultra\"').pivot_table(index='month', values='profit', aggfunc=(np.var))"
   ]
  },
  {
   "cell_type": "code",
   "execution_count": 76,
   "metadata": {},
   "outputs": [],
   "source": [
    "mean_ultra['sigma_money'] = np.sqrt(mean_ultra['dispersion_money'])"
   ]
  },
  {
   "cell_type": "markdown",
   "metadata": {},
   "source": [
    "Таблица дисперсии и сигмы тарифа `ultra`"
   ]
  },
  {
   "cell_type": "code",
   "execution_count": 77,
   "metadata": {},
   "outputs": [
    {
     "data": {
      "text/html": [
       "<div>\n",
       "<style scoped>\n",
       "    .dataframe tbody tr th:only-of-type {\n",
       "        vertical-align: middle;\n",
       "    }\n",
       "\n",
       "    .dataframe tbody tr th {\n",
       "        vertical-align: top;\n",
       "    }\n",
       "\n",
       "    .dataframe thead th {\n",
       "        text-align: right;\n",
       "    }\n",
       "</style>\n",
       "<table border=\"1\" class=\"dataframe\">\n",
       "  <thead>\n",
       "    <tr style=\"text-align: right;\">\n",
       "      <th></th>\n",
       "      <th>mean_duration</th>\n",
       "      <th>mean_mb_used</th>\n",
       "      <th>mean_message</th>\n",
       "      <th>mean_minute_per_person</th>\n",
       "      <th>dispersion_call</th>\n",
       "      <th>sigma_call</th>\n",
       "      <th>dispersion_message</th>\n",
       "      <th>sigma_message</th>\n",
       "      <th>dispersion_internet</th>\n",
       "      <th>sigma_internet</th>\n",
       "      <th>mean_money</th>\n",
       "      <th>dispersion_money</th>\n",
       "      <th>sigma_money</th>\n",
       "    </tr>\n",
       "    <tr>\n",
       "      <th>month</th>\n",
       "      <th></th>\n",
       "      <th></th>\n",
       "      <th></th>\n",
       "      <th></th>\n",
       "      <th></th>\n",
       "      <th></th>\n",
       "      <th></th>\n",
       "      <th></th>\n",
       "      <th></th>\n",
       "      <th></th>\n",
       "      <th></th>\n",
       "      <th></th>\n",
       "      <th></th>\n",
       "    </tr>\n",
       "  </thead>\n",
       "  <tbody>\n",
       "    <tr>\n",
       "      <td>1</td>\n",
       "      <td>428.111111</td>\n",
       "      <td>13153.555556</td>\n",
       "      <td>33.777778</td>\n",
       "      <td>26.033784</td>\n",
       "      <td>72769.361111</td>\n",
       "      <td>269.757968</td>\n",
       "      <td>940.694444</td>\n",
       "      <td>30.670742</td>\n",
       "      <td>4.722641e+07</td>\n",
       "      <td>6872.147046</td>\n",
       "      <td>1950.0</td>\n",
       "      <td>0.0</td>\n",
       "      <td>0.000000</td>\n",
       "    </tr>\n",
       "    <tr>\n",
       "      <td>2</td>\n",
       "      <td>124.933333</td>\n",
       "      <td>7825.933333</td>\n",
       "      <td>12.066667</td>\n",
       "      <td>12.662162</td>\n",
       "      <td>19125.495238</td>\n",
       "      <td>138.294957</td>\n",
       "      <td>331.352381</td>\n",
       "      <td>18.203087</td>\n",
       "      <td>8.792543e+07</td>\n",
       "      <td>9376.856330</td>\n",
       "      <td>1970.0</td>\n",
       "      <td>6000.0</td>\n",
       "      <td>77.459667</td>\n",
       "    </tr>\n",
       "    <tr>\n",
       "      <td>3</td>\n",
       "      <td>322.615385</td>\n",
       "      <td>7417.846154</td>\n",
       "      <td>11.230769</td>\n",
       "      <td>28.337838</td>\n",
       "      <td>49596.256410</td>\n",
       "      <td>222.702170</td>\n",
       "      <td>107.858974</td>\n",
       "      <td>10.385518</td>\n",
       "      <td>3.271693e+07</td>\n",
       "      <td>5719.871369</td>\n",
       "      <td>1950.0</td>\n",
       "      <td>0.0</td>\n",
       "      <td>0.000000</td>\n",
       "    </tr>\n",
       "    <tr>\n",
       "      <td>4</td>\n",
       "      <td>293.166667</td>\n",
       "      <td>11849.666667</td>\n",
       "      <td>22.888889</td>\n",
       "      <td>35.655405</td>\n",
       "      <td>68667.558824</td>\n",
       "      <td>262.044956</td>\n",
       "      <td>1014.104575</td>\n",
       "      <td>31.845009</td>\n",
       "      <td>8.499787e+07</td>\n",
       "      <td>9219.428947</td>\n",
       "      <td>1950.0</td>\n",
       "      <td>0.0</td>\n",
       "      <td>0.000000</td>\n",
       "    </tr>\n",
       "    <tr>\n",
       "      <td>5</td>\n",
       "      <td>181.500000</td>\n",
       "      <td>8891.666667</td>\n",
       "      <td>27.666667</td>\n",
       "      <td>14.716216</td>\n",
       "      <td>40789.363636</td>\n",
       "      <td>201.963768</td>\n",
       "      <td>632.242424</td>\n",
       "      <td>25.144431</td>\n",
       "      <td>6.596449e+07</td>\n",
       "      <td>8121.852558</td>\n",
       "      <td>1950.0</td>\n",
       "      <td>0.0</td>\n",
       "      <td>0.000000</td>\n",
       "    </tr>\n",
       "    <tr>\n",
       "      <td>6</td>\n",
       "      <td>218.647059</td>\n",
       "      <td>11021.411765</td>\n",
       "      <td>29.470588</td>\n",
       "      <td>25.114865</td>\n",
       "      <td>35837.242647</td>\n",
       "      <td>189.307270</td>\n",
       "      <td>727.389706</td>\n",
       "      <td>26.970163</td>\n",
       "      <td>4.184689e+07</td>\n",
       "      <td>6468.917501</td>\n",
       "      <td>1950.0</td>\n",
       "      <td>0.0</td>\n",
       "      <td>0.000000</td>\n",
       "    </tr>\n",
       "    <tr>\n",
       "      <td>7</td>\n",
       "      <td>431.142857</td>\n",
       "      <td>10232.000000</td>\n",
       "      <td>37.285714</td>\n",
       "      <td>20.391892</td>\n",
       "      <td>98796.476190</td>\n",
       "      <td>314.319067</td>\n",
       "      <td>732.571429</td>\n",
       "      <td>27.066057</td>\n",
       "      <td>5.018871e+07</td>\n",
       "      <td>7084.398869</td>\n",
       "      <td>1950.0</td>\n",
       "      <td>0.0</td>\n",
       "      <td>0.000000</td>\n",
       "    </tr>\n",
       "    <tr>\n",
       "      <td>8</td>\n",
       "      <td>244.562500</td>\n",
       "      <td>7325.812500</td>\n",
       "      <td>36.437500</td>\n",
       "      <td>26.439189</td>\n",
       "      <td>56152.262500</td>\n",
       "      <td>236.964686</td>\n",
       "      <td>1126.129167</td>\n",
       "      <td>33.557848</td>\n",
       "      <td>1.987607e+07</td>\n",
       "      <td>4458.258856</td>\n",
       "      <td>1950.0</td>\n",
       "      <td>0.0</td>\n",
       "      <td>0.000000</td>\n",
       "    </tr>\n",
       "    <tr>\n",
       "      <td>9</td>\n",
       "      <td>299.777778</td>\n",
       "      <td>7983.222222</td>\n",
       "      <td>26.444444</td>\n",
       "      <td>18.229730</td>\n",
       "      <td>130272.444444</td>\n",
       "      <td>360.932742</td>\n",
       "      <td>761.777778</td>\n",
       "      <td>27.600322</td>\n",
       "      <td>4.733151e+07</td>\n",
       "      <td>6879.790055</td>\n",
       "      <td>1950.0</td>\n",
       "      <td>0.0</td>\n",
       "      <td>0.000000</td>\n",
       "    </tr>\n",
       "    <tr>\n",
       "      <td>10</td>\n",
       "      <td>357.500000</td>\n",
       "      <td>19961.300000</td>\n",
       "      <td>55.700000</td>\n",
       "      <td>24.155405</td>\n",
       "      <td>76744.944444</td>\n",
       "      <td>277.028779</td>\n",
       "      <td>4590.677778</td>\n",
       "      <td>67.754541</td>\n",
       "      <td>6.362865e+07</td>\n",
       "      <td>7976.756693</td>\n",
       "      <td>1995.0</td>\n",
       "      <td>20250.0</td>\n",
       "      <td>142.302495</td>\n",
       "    </tr>\n",
       "  </tbody>\n",
       "</table>\n",
       "</div>"
      ],
      "text/plain": [
       "       mean_duration  mean_mb_used  mean_message  mean_minute_per_person  \\\n",
       "month                                                                      \n",
       "1         428.111111  13153.555556     33.777778               26.033784   \n",
       "2         124.933333   7825.933333     12.066667               12.662162   \n",
       "3         322.615385   7417.846154     11.230769               28.337838   \n",
       "4         293.166667  11849.666667     22.888889               35.655405   \n",
       "5         181.500000   8891.666667     27.666667               14.716216   \n",
       "6         218.647059  11021.411765     29.470588               25.114865   \n",
       "7         431.142857  10232.000000     37.285714               20.391892   \n",
       "8         244.562500   7325.812500     36.437500               26.439189   \n",
       "9         299.777778   7983.222222     26.444444               18.229730   \n",
       "10        357.500000  19961.300000     55.700000               24.155405   \n",
       "\n",
       "       dispersion_call  sigma_call  dispersion_message  sigma_message  \\\n",
       "month                                                                   \n",
       "1         72769.361111  269.757968          940.694444      30.670742   \n",
       "2         19125.495238  138.294957          331.352381      18.203087   \n",
       "3         49596.256410  222.702170          107.858974      10.385518   \n",
       "4         68667.558824  262.044956         1014.104575      31.845009   \n",
       "5         40789.363636  201.963768          632.242424      25.144431   \n",
       "6         35837.242647  189.307270          727.389706      26.970163   \n",
       "7         98796.476190  314.319067          732.571429      27.066057   \n",
       "8         56152.262500  236.964686         1126.129167      33.557848   \n",
       "9        130272.444444  360.932742          761.777778      27.600322   \n",
       "10        76744.944444  277.028779         4590.677778      67.754541   \n",
       "\n",
       "       dispersion_internet  sigma_internet  mean_money  dispersion_money  \\\n",
       "month                                                                      \n",
       "1             4.722641e+07     6872.147046      1950.0               0.0   \n",
       "2             8.792543e+07     9376.856330      1970.0            6000.0   \n",
       "3             3.271693e+07     5719.871369      1950.0               0.0   \n",
       "4             8.499787e+07     9219.428947      1950.0               0.0   \n",
       "5             6.596449e+07     8121.852558      1950.0               0.0   \n",
       "6             4.184689e+07     6468.917501      1950.0               0.0   \n",
       "7             5.018871e+07     7084.398869      1950.0               0.0   \n",
       "8             1.987607e+07     4458.258856      1950.0               0.0   \n",
       "9             4.733151e+07     6879.790055      1950.0               0.0   \n",
       "10            6.362865e+07     7976.756693      1995.0           20250.0   \n",
       "\n",
       "       sigma_money  \n",
       "month               \n",
       "1         0.000000  \n",
       "2        77.459667  \n",
       "3         0.000000  \n",
       "4         0.000000  \n",
       "5         0.000000  \n",
       "6         0.000000  \n",
       "7         0.000000  \n",
       "8         0.000000  \n",
       "9         0.000000  \n",
       "10      142.302495  "
      ]
     },
     "execution_count": 77,
     "metadata": {},
     "output_type": "execute_result"
    }
   ],
   "source": [
    "mean_ultra.head(10)"
   ]
  },
  {
   "cell_type": "code",
   "execution_count": 78,
   "metadata": {},
   "outputs": [],
   "source": [
    "mean_smart = (group_all.query('tariff == \"smart\"').pivot_table(index='month', values=('duration','message_date','mb_used'), aggfunc=('mean')))"
   ]
  },
  {
   "cell_type": "code",
   "execution_count": 79,
   "metadata": {},
   "outputs": [
    {
     "data": {
      "text/html": [
       "<div>\n",
       "<style scoped>\n",
       "    .dataframe tbody tr th:only-of-type {\n",
       "        vertical-align: middle;\n",
       "    }\n",
       "\n",
       "    .dataframe tbody tr th {\n",
       "        vertical-align: top;\n",
       "    }\n",
       "\n",
       "    .dataframe thead th {\n",
       "        text-align: right;\n",
       "    }\n",
       "</style>\n",
       "<table border=\"1\" class=\"dataframe\">\n",
       "  <thead>\n",
       "    <tr style=\"text-align: right;\">\n",
       "      <th></th>\n",
       "      <th>mean_duration</th>\n",
       "      <th>mean_mb_used</th>\n",
       "      <th>mean_message</th>\n",
       "    </tr>\n",
       "    <tr>\n",
       "      <th>month</th>\n",
       "      <th></th>\n",
       "      <th></th>\n",
       "      <th></th>\n",
       "    </tr>\n",
       "  </thead>\n",
       "  <tbody>\n",
       "    <tr>\n",
       "      <td>1</td>\n",
       "      <td>203.852941</td>\n",
       "      <td>8524.441176</td>\n",
       "      <td>18.235294</td>\n",
       "    </tr>\n",
       "    <tr>\n",
       "      <td>2</td>\n",
       "      <td>168.125000</td>\n",
       "      <td>6799.708333</td>\n",
       "      <td>13.000000</td>\n",
       "    </tr>\n",
       "    <tr>\n",
       "      <td>3</td>\n",
       "      <td>265.578947</td>\n",
       "      <td>9917.210526</td>\n",
       "      <td>21.052632</td>\n",
       "    </tr>\n",
       "    <tr>\n",
       "      <td>4</td>\n",
       "      <td>231.314286</td>\n",
       "      <td>7896.657143</td>\n",
       "      <td>21.114286</td>\n",
       "    </tr>\n",
       "    <tr>\n",
       "      <td>5</td>\n",
       "      <td>195.103448</td>\n",
       "      <td>9505.413793</td>\n",
       "      <td>17.724138</td>\n",
       "    </tr>\n",
       "    <tr>\n",
       "      <td>6</td>\n",
       "      <td>185.869565</td>\n",
       "      <td>8228.000000</td>\n",
       "      <td>13.652174</td>\n",
       "    </tr>\n",
       "    <tr>\n",
       "      <td>7</td>\n",
       "      <td>241.108108</td>\n",
       "      <td>8815.783784</td>\n",
       "      <td>18.135135</td>\n",
       "    </tr>\n",
       "    <tr>\n",
       "      <td>8</td>\n",
       "      <td>213.117647</td>\n",
       "      <td>9687.029412</td>\n",
       "      <td>16.970588</td>\n",
       "    </tr>\n",
       "    <tr>\n",
       "      <td>9</td>\n",
       "      <td>262.076923</td>\n",
       "      <td>9309.846154</td>\n",
       "      <td>21.115385</td>\n",
       "    </tr>\n",
       "    <tr>\n",
       "      <td>10</td>\n",
       "      <td>260.742857</td>\n",
       "      <td>8474.142857</td>\n",
       "      <td>17.914286</td>\n",
       "    </tr>\n",
       "    <tr>\n",
       "      <td>11</td>\n",
       "      <td>269.851852</td>\n",
       "      <td>10018.518519</td>\n",
       "      <td>22.851852</td>\n",
       "    </tr>\n",
       "    <tr>\n",
       "      <td>12</td>\n",
       "      <td>445.000000</td>\n",
       "      <td>17146.592593</td>\n",
       "      <td>30.629630</td>\n",
       "    </tr>\n",
       "  </tbody>\n",
       "</table>\n",
       "</div>"
      ],
      "text/plain": [
       "       mean_duration  mean_mb_used  mean_message\n",
       "month                                           \n",
       "1         203.852941   8524.441176     18.235294\n",
       "2         168.125000   6799.708333     13.000000\n",
       "3         265.578947   9917.210526     21.052632\n",
       "4         231.314286   7896.657143     21.114286\n",
       "5         195.103448   9505.413793     17.724138\n",
       "6         185.869565   8228.000000     13.652174\n",
       "7         241.108108   8815.783784     18.135135\n",
       "8         213.117647   9687.029412     16.970588\n",
       "9         262.076923   9309.846154     21.115385\n",
       "10        260.742857   8474.142857     17.914286\n",
       "11        269.851852  10018.518519     22.851852\n",
       "12        445.000000  17146.592593     30.629630"
      ]
     },
     "execution_count": 79,
     "metadata": {},
     "output_type": "execute_result"
    }
   ],
   "source": [
    "mean_smart.set_axis(['mean_duration','mean_mb_used','mean_message'], axis='columns', inplace=True)\n",
    "mean_smart"
   ]
  },
  {
   "cell_type": "markdown",
   "metadata": {},
   "source": [
    "Расчет средних значений по звонкам, интренету и сообщениям ежемесячно для тарифа `smart`"
   ]
  },
  {
   "cell_type": "code",
   "execution_count": 80,
   "metadata": {},
   "outputs": [
    {
     "data": {
      "text/plain": [
       "<matplotlib.axes._subplots.AxesSubplot at 0x7f107d0e8710>"
      ]
     },
     "execution_count": 80,
     "metadata": {},
     "output_type": "execute_result"
    },
    {
     "data": {
      "image/png": "[encoded data removed]",
      "text/plain": [
       "<Figure size 936x432 with 1 Axes>"
      ]
     },
     "metadata": {
      "needs_background": "light"
     },
     "output_type": "display_data"
    }
   ],
   "source": [
    "mean_ultra.plot(y='mean_duration', grid=True, figsize=(13,6), style='o-', kind='bar', label='Среднее значение звонков для всех пользователей тарифа Smart')"
   ]
  },
  {
   "cell_type": "code",
   "execution_count": 81,
   "metadata": {},
   "outputs": [],
   "source": [
    "mean_smart['mean_minute_for_person'] = tariff_smart['duration'] / len(group_all.query('tariff == \"smart\"'))"
   ]
  },
  {
   "cell_type": "markdown",
   "metadata": {},
   "source": [
    "Среднее время разговора для каждого месяца в тарифе `smart`"
   ]
  },
  {
   "cell_type": "code",
   "execution_count": 82,
   "metadata": {},
   "outputs": [
    {
     "data": {
      "text/html": [
       "<div>\n",
       "<style scoped>\n",
       "    .dataframe tbody tr th:only-of-type {\n",
       "        vertical-align: middle;\n",
       "    }\n",
       "\n",
       "    .dataframe tbody tr th {\n",
       "        vertical-align: top;\n",
       "    }\n",
       "\n",
       "    .dataframe thead th {\n",
       "        text-align: right;\n",
       "    }\n",
       "</style>\n",
       "<table border=\"1\" class=\"dataframe\">\n",
       "  <thead>\n",
       "    <tr style=\"text-align: right;\">\n",
       "      <th></th>\n",
       "      <th>user_id</th>\n",
       "      <th>month</th>\n",
       "      <th>message_date</th>\n",
       "      <th>duration</th>\n",
       "      <th>mb_used</th>\n",
       "      <th>city</th>\n",
       "      <th>tariff</th>\n",
       "      <th>profit</th>\n",
       "    </tr>\n",
       "  </thead>\n",
       "  <tbody>\n",
       "    <tr>\n",
       "      <td>483</td>\n",
       "      <td>1001</td>\n",
       "      <td>11</td>\n",
       "      <td>0.0</td>\n",
       "      <td>430.0</td>\n",
       "      <td>18452.0</td>\n",
       "      <td>Москва</td>\n",
       "      <td>smart</td>\n",
       "      <td>1150.0</td>\n",
       "    </tr>\n",
       "    <tr>\n",
       "      <td>167</td>\n",
       "      <td>1002</td>\n",
       "      <td>6</td>\n",
       "      <td>4.0</td>\n",
       "      <td>117.0</td>\n",
       "      <td>10871.0</td>\n",
       "      <td>Стерлитамак</td>\n",
       "      <td>smart</td>\n",
       "      <td>550.0</td>\n",
       "    </tr>\n",
       "    <tr>\n",
       "      <td>0</td>\n",
       "      <td>1005</td>\n",
       "      <td>1</td>\n",
       "      <td>7.0</td>\n",
       "      <td>95.0</td>\n",
       "      <td>2730.0</td>\n",
       "      <td>Набережные Челны</td>\n",
       "      <td>smart</td>\n",
       "      <td>550.0</td>\n",
       "    </tr>\n",
       "    <tr>\n",
       "      <td>418</td>\n",
       "      <td>1006</td>\n",
       "      <td>2</td>\n",
       "      <td>0.0</td>\n",
       "      <td>42.0</td>\n",
       "      <td>1395.0</td>\n",
       "      <td>Ульяновск</td>\n",
       "      <td>smart</td>\n",
       "      <td>550.0</td>\n",
       "    </tr>\n",
       "    <tr>\n",
       "      <td>91</td>\n",
       "      <td>1007</td>\n",
       "      <td>4</td>\n",
       "      <td>11.0</td>\n",
       "      <td>198.0</td>\n",
       "      <td>8031.0</td>\n",
       "      <td>Москва</td>\n",
       "      <td>smart</td>\n",
       "      <td>550.0</td>\n",
       "    </tr>\n",
       "  </tbody>\n",
       "</table>\n",
       "</div>"
      ],
      "text/plain": [
       "     user_id  month  message_date  duration  mb_used              city tariff  \\\n",
       "483     1001     11           0.0     430.0  18452.0            Москва  smart   \n",
       "167     1002      6           4.0     117.0  10871.0       Стерлитамак  smart   \n",
       "0       1005      1           7.0      95.0   2730.0  Набережные Челны  smart   \n",
       "418     1006      2           0.0      42.0   1395.0         Ульяновск  smart   \n",
       "91      1007      4          11.0     198.0   8031.0            Москва  smart   \n",
       "\n",
       "     profit  \n",
       "483  1150.0  \n",
       "167   550.0  \n",
       "0     550.0  \n",
       "418   550.0  \n",
       "91    550.0  "
      ]
     },
     "execution_count": 82,
     "metadata": {},
     "output_type": "execute_result"
    }
   ],
   "source": [
    "smart_person_calls = group_all.query('tariff == \"smart\"') \n",
    "smart_person_calls.head()"
   ]
  },
  {
   "cell_type": "code",
   "execution_count": 83,
   "metadata": {},
   "outputs": [
    {
     "data": {
      "text/html": [
       "<div>\n",
       "<style scoped>\n",
       "    .dataframe tbody tr th:only-of-type {\n",
       "        vertical-align: middle;\n",
       "    }\n",
       "\n",
       "    .dataframe tbody tr th {\n",
       "        vertical-align: top;\n",
       "    }\n",
       "\n",
       "    .dataframe thead th {\n",
       "        text-align: right;\n",
       "    }\n",
       "</style>\n",
       "<table border=\"1\" class=\"dataframe\">\n",
       "  <thead>\n",
       "    <tr style=\"text-align: right;\">\n",
       "      <th></th>\n",
       "      <th>user_id</th>\n",
       "      <th>month</th>\n",
       "      <th>message_date</th>\n",
       "      <th>duration</th>\n",
       "      <th>mb_used</th>\n",
       "      <th>city</th>\n",
       "      <th>tariff</th>\n",
       "      <th>profit</th>\n",
       "    </tr>\n",
       "  </thead>\n",
       "  <tbody>\n",
       "    <tr>\n",
       "      <td>483</td>\n",
       "      <td>1001</td>\n",
       "      <td>11</td>\n",
       "      <td>0.0</td>\n",
       "      <td>430.0</td>\n",
       "      <td>18452.0</td>\n",
       "      <td>Москва</td>\n",
       "      <td>smart</td>\n",
       "      <td>1150.0</td>\n",
       "    </tr>\n",
       "    <tr>\n",
       "      <td>167</td>\n",
       "      <td>1002</td>\n",
       "      <td>6</td>\n",
       "      <td>4.0</td>\n",
       "      <td>117.0</td>\n",
       "      <td>10871.0</td>\n",
       "      <td>Стерлитамак</td>\n",
       "      <td>smart</td>\n",
       "      <td>550.0</td>\n",
       "    </tr>\n",
       "    <tr>\n",
       "      <td>0</td>\n",
       "      <td>1005</td>\n",
       "      <td>1</td>\n",
       "      <td>7.0</td>\n",
       "      <td>95.0</td>\n",
       "      <td>2730.0</td>\n",
       "      <td>Набережные Челны</td>\n",
       "      <td>smart</td>\n",
       "      <td>550.0</td>\n",
       "    </tr>\n",
       "    <tr>\n",
       "      <td>418</td>\n",
       "      <td>1006</td>\n",
       "      <td>2</td>\n",
       "      <td>0.0</td>\n",
       "      <td>42.0</td>\n",
       "      <td>1395.0</td>\n",
       "      <td>Ульяновск</td>\n",
       "      <td>smart</td>\n",
       "      <td>550.0</td>\n",
       "    </tr>\n",
       "    <tr>\n",
       "      <td>91</td>\n",
       "      <td>1007</td>\n",
       "      <td>4</td>\n",
       "      <td>11.0</td>\n",
       "      <td>198.0</td>\n",
       "      <td>8031.0</td>\n",
       "      <td>Москва</td>\n",
       "      <td>smart</td>\n",
       "      <td>550.0</td>\n",
       "    </tr>\n",
       "  </tbody>\n",
       "</table>\n",
       "</div>"
      ],
      "text/plain": [
       "     user_id  month  message_date  duration  mb_used              city tariff  \\\n",
       "483     1001     11           0.0     430.0  18452.0            Москва  smart   \n",
       "167     1002      6           4.0     117.0  10871.0       Стерлитамак  smart   \n",
       "0       1005      1           7.0      95.0   2730.0  Набережные Челны  smart   \n",
       "418     1006      2           0.0      42.0   1395.0         Ульяновск  smart   \n",
       "91      1007      4          11.0     198.0   8031.0            Москва  smart   \n",
       "\n",
       "     profit  \n",
       "483  1150.0  \n",
       "167   550.0  \n",
       "0     550.0  \n",
       "418   550.0  \n",
       "91    550.0  "
      ]
     },
     "execution_count": 83,
     "metadata": {},
     "output_type": "execute_result"
    }
   ],
   "source": [
    "smart_person_calls = group_all.query('tariff == \"smart\"')\n",
    "smart_person_calls.head()"
   ]
  },
  {
   "cell_type": "code",
   "execution_count": 84,
   "metadata": {},
   "outputs": [],
   "source": [
    "disp_sigma_smart = smart_person_calls.pivot_table(index='month', values='duration', aggfunc=(np.var))"
   ]
  },
  {
   "cell_type": "code",
   "execution_count": 85,
   "metadata": {},
   "outputs": [],
   "source": [
    "disp_sigma_smart_messages = smart_person_calls.pivot_table(index='month', values='message_date', aggfunc=(np.var))"
   ]
  },
  {
   "cell_type": "code",
   "execution_count": 86,
   "metadata": {},
   "outputs": [],
   "source": [
    "disp_sigma_smart_internet = smart_person_calls.pivot_table(index='month', values='mb_used', aggfunc=(np.var))"
   ]
  },
  {
   "cell_type": "markdown",
   "metadata": {},
   "source": [
    "Посчитал дисперсию по интернету, звонкам и сообщениям в тарифе `smart`"
   ]
  },
  {
   "cell_type": "code",
   "execution_count": 87,
   "metadata": {},
   "outputs": [],
   "source": [
    "disp_sigma_smart['sigma'] = disp_sigma_smart['duration'].apply(np.sqrt)"
   ]
  },
  {
   "cell_type": "code",
   "execution_count": 88,
   "metadata": {},
   "outputs": [],
   "source": [
    "disp_sigma_smart_messages['sigma'] = disp_sigma_smart_messages['message_date'].apply(np.sqrt)"
   ]
  },
  {
   "cell_type": "code",
   "execution_count": 89,
   "metadata": {},
   "outputs": [],
   "source": [
    "disp_sigma_smart_internet['sigma'] = disp_sigma_smart_internet['mb_used'].apply(np.sqrt)"
   ]
  },
  {
   "cell_type": "markdown",
   "metadata": {},
   "source": [
    "Посчитал стандартное отклонение по всем показателям в тарифе `smart`"
   ]
  },
  {
   "cell_type": "code",
   "execution_count": 90,
   "metadata": {},
   "outputs": [],
   "source": [
    "disp_sigma_smart.set_axis(['dispersion_call','sigma_call'], axis='columns', inplace=True)\n",
    "disp_sigma_smart_messages.set_axis(['dispersion_message','sigma_message'], axis='columns', inplace=True)\n",
    "disp_sigma_smart_internet.set_axis(['dispersion_internet','sigma_internet'], axis='columns', inplace=True)"
   ]
  },
  {
   "cell_type": "markdown",
   "metadata": {},
   "source": [
    "Переименовал столбцы"
   ]
  },
  {
   "cell_type": "code",
   "execution_count": 91,
   "metadata": {},
   "outputs": [],
   "source": [
    "disp_sigma_smart = disp_sigma_smart.merge(disp_sigma_smart_messages, on='month')"
   ]
  },
  {
   "cell_type": "code",
   "execution_count": 92,
   "metadata": {},
   "outputs": [],
   "source": [
    "disp_sigma_smart = disp_sigma_smart.merge(disp_sigma_smart_internet, on='month')"
   ]
  },
  {
   "cell_type": "code",
   "execution_count": 93,
   "metadata": {},
   "outputs": [],
   "source": [
    "mean_smart['mean_money']  =group_all.query('tariff == \"smart\"').pivot_table(index='month', values='profit', aggfunc=('mean'))"
   ]
  },
  {
   "cell_type": "code",
   "execution_count": 94,
   "metadata": {},
   "outputs": [],
   "source": [
    "mean_smart['dispersion_money'] = group_all.query('tariff == \"smart\"').pivot_table(index='month', values='profit', aggfunc=(np.var))"
   ]
  },
  {
   "cell_type": "code",
   "execution_count": 95,
   "metadata": {},
   "outputs": [],
   "source": [
    "mean_smart['sigma_money'] = np.sqrt(mean_smart['dispersion_money'])"
   ]
  },
  {
   "cell_type": "code",
   "execution_count": 96,
   "metadata": {},
   "outputs": [],
   "source": [
    "mean_smart = mean_smart.merge(disp_sigma_smart, on='month')"
   ]
  },
  {
   "cell_type": "code",
   "execution_count": 97,
   "metadata": {},
   "outputs": [
    {
     "data": {
      "text/html": [
       "<div>\n",
       "<style scoped>\n",
       "    .dataframe tbody tr th:only-of-type {\n",
       "        vertical-align: middle;\n",
       "    }\n",
       "\n",
       "    .dataframe tbody tr th {\n",
       "        vertical-align: top;\n",
       "    }\n",
       "\n",
       "    .dataframe thead th {\n",
       "        text-align: right;\n",
       "    }\n",
       "</style>\n",
       "<table border=\"1\" class=\"dataframe\">\n",
       "  <thead>\n",
       "    <tr style=\"text-align: right;\">\n",
       "      <th></th>\n",
       "      <th>mean_duration</th>\n",
       "      <th>mean_mb_used</th>\n",
       "      <th>mean_message</th>\n",
       "      <th>mean_minute_for_person</th>\n",
       "      <th>mean_money</th>\n",
       "      <th>dispersion_money</th>\n",
       "      <th>sigma_money</th>\n",
       "      <th>dispersion_call</th>\n",
       "      <th>sigma_call</th>\n",
       "      <th>dispersion_message</th>\n",
       "      <th>sigma_message</th>\n",
       "      <th>dispersion_internet</th>\n",
       "      <th>sigma_internet</th>\n",
       "    </tr>\n",
       "    <tr>\n",
       "      <th>month</th>\n",
       "      <th></th>\n",
       "      <th></th>\n",
       "      <th></th>\n",
       "      <th></th>\n",
       "      <th></th>\n",
       "      <th></th>\n",
       "      <th></th>\n",
       "      <th></th>\n",
       "      <th></th>\n",
       "      <th></th>\n",
       "      <th></th>\n",
       "      <th></th>\n",
       "      <th></th>\n",
       "    </tr>\n",
       "  </thead>\n",
       "  <tbody>\n",
       "    <tr>\n",
       "      <td>1</td>\n",
       "      <td>203.852941</td>\n",
       "      <td>8524.441176</td>\n",
       "      <td>18.235294</td>\n",
       "      <td>19.802857</td>\n",
       "      <td>703.676471</td>\n",
       "      <td>192364.649733</td>\n",
       "      <td>438.593946</td>\n",
       "      <td>23787.341355</td>\n",
       "      <td>154.231454</td>\n",
       "      <td>262.367201</td>\n",
       "      <td>16.197753</td>\n",
       "      <td>4.162621e+07</td>\n",
       "      <td>6451.837940</td>\n",
       "    </tr>\n",
       "    <tr>\n",
       "      <td>2</td>\n",
       "      <td>168.125000</td>\n",
       "      <td>6799.708333</td>\n",
       "      <td>13.000000</td>\n",
       "      <td>11.528571</td>\n",
       "      <td>556.375000</td>\n",
       "      <td>795.375000</td>\n",
       "      <td>28.202394</td>\n",
       "      <td>18421.679348</td>\n",
       "      <td>135.726487</td>\n",
       "      <td>268.347826</td>\n",
       "      <td>16.381326</td>\n",
       "      <td>2.076865e+07</td>\n",
       "      <td>4557.263524</td>\n",
       "    </tr>\n",
       "    <tr>\n",
       "      <td>3</td>\n",
       "      <td>265.578947</td>\n",
       "      <td>9917.210526</td>\n",
       "      <td>21.052632</td>\n",
       "      <td>14.417143</td>\n",
       "      <td>690.052632</td>\n",
       "      <td>159090.163743</td>\n",
       "      <td>398.861083</td>\n",
       "      <td>23606.701754</td>\n",
       "      <td>153.644726</td>\n",
       "      <td>362.052632</td>\n",
       "      <td>19.027681</td>\n",
       "      <td>2.712906e+07</td>\n",
       "      <td>5208.556396</td>\n",
       "    </tr>\n",
       "    <tr>\n",
       "      <td>4</td>\n",
       "      <td>231.314286</td>\n",
       "      <td>7896.657143</td>\n",
       "      <td>21.114286</td>\n",
       "      <td>23.131429</td>\n",
       "      <td>572.914286</td>\n",
       "      <td>11547.315966</td>\n",
       "      <td>107.458438</td>\n",
       "      <td>21152.398319</td>\n",
       "      <td>145.438641</td>\n",
       "      <td>425.398319</td>\n",
       "      <td>20.625187</td>\n",
       "      <td>1.793742e+07</td>\n",
       "      <td>4235.258662</td>\n",
       "    </tr>\n",
       "    <tr>\n",
       "      <td>5</td>\n",
       "      <td>195.103448</td>\n",
       "      <td>9505.413793</td>\n",
       "      <td>17.724138</td>\n",
       "      <td>16.165714</td>\n",
       "      <td>738.310345</td>\n",
       "      <td>253887.935961</td>\n",
       "      <td>503.872936</td>\n",
       "      <td>21778.167488</td>\n",
       "      <td>147.574278</td>\n",
       "      <td>338.492611</td>\n",
       "      <td>18.398169</td>\n",
       "      <td>4.863679e+07</td>\n",
       "      <td>6974.008145</td>\n",
       "    </tr>\n",
       "  </tbody>\n",
       "</table>\n",
       "</div>"
      ],
      "text/plain": [
       "       mean_duration  mean_mb_used  mean_message  mean_minute_for_person  \\\n",
       "month                                                                      \n",
       "1         203.852941   8524.441176     18.235294               19.802857   \n",
       "2         168.125000   6799.708333     13.000000               11.528571   \n",
       "3         265.578947   9917.210526     21.052632               14.417143   \n",
       "4         231.314286   7896.657143     21.114286               23.131429   \n",
       "5         195.103448   9505.413793     17.724138               16.165714   \n",
       "\n",
       "       mean_money  dispersion_money  sigma_money  dispersion_call  sigma_call  \\\n",
       "month                                                                           \n",
       "1      703.676471     192364.649733   438.593946     23787.341355  154.231454   \n",
       "2      556.375000        795.375000    28.202394     18421.679348  135.726487   \n",
       "3      690.052632     159090.163743   398.861083     23606.701754  153.644726   \n",
       "4      572.914286      11547.315966   107.458438     21152.398319  145.438641   \n",
       "5      738.310345     253887.935961   503.872936     21778.167488  147.574278   \n",
       "\n",
       "       dispersion_message  sigma_message  dispersion_internet  sigma_internet  \n",
       "month                                                                          \n",
       "1              262.367201      16.197753         4.162621e+07     6451.837940  \n",
       "2              268.347826      16.381326         2.076865e+07     4557.263524  \n",
       "3              362.052632      19.027681         2.712906e+07     5208.556396  \n",
       "4              425.398319      20.625187         1.793742e+07     4235.258662  \n",
       "5              338.492611      18.398169         4.863679e+07     6974.008145  "
      ]
     },
     "execution_count": 97,
     "metadata": {},
     "output_type": "execute_result"
    }
   ],
   "source": [
    "mean_smart.head()"
   ]
  },
  {
   "cell_type": "markdown",
   "metadata": {},
   "source": [
    "Таблица дисперсии и сигмы тарифа `smart`"
   ]
  },
  {
   "cell_type": "markdown",
   "metadata": {},
   "source": [
    "### Гистограмма распределия длительности звонков пользователей `ultra`"
   ]
  },
  {
   "cell_type": "code",
   "execution_count": 98,
   "metadata": {},
   "outputs": [
    {
     "data": {
      "text/plain": [
       "<matplotlib.axes._subplots.AxesSubplot at 0x7f107cfc85d0>"
      ]
     },
     "execution_count": 98,
     "metadata": {},
     "output_type": "execute_result"
    },
    {
     "data": {
      "image/png": "[encoded data removed]",
      "text/plain": [
       "<Figure size 432x288 with 1 Axes>"
      ]
     },
     "metadata": {
      "needs_background": "light"
     },
     "output_type": "display_data"
    }
   ],
   "source": [
    "sns.distplot(ultra_person_calls['duration'], bins=30)"
   ]
  },
  {
   "cell_type": "markdown",
   "metadata": {},
   "source": [
    "Больше всего пользователи тарифа `ultra` разговаривают около 1 минуты"
   ]
  },
  {
   "cell_type": "markdown",
   "metadata": {},
   "source": [
    "### Гистограмма распределия длительности звонков пользователей `smart`"
   ]
  },
  {
   "cell_type": "code",
   "execution_count": 99,
   "metadata": {},
   "outputs": [
    {
     "data": {
      "text/plain": [
       "<matplotlib.axes._subplots.AxesSubplot at 0x7f107d00cf50>"
      ]
     },
     "execution_count": 99,
     "metadata": {},
     "output_type": "execute_result"
    },
    {
     "data": {
      "image/png": "[encoded data removed]",
      "text/plain": [
       "<Figure size 432x288 with 1 Axes>"
      ]
     },
     "metadata": {
      "needs_background": "light"
     },
     "output_type": "display_data"
    }
   ],
   "source": [
    "sns.distplot(smart_person_calls['duration'], bins=30)"
   ]
  },
  {
   "cell_type": "markdown",
   "metadata": {},
   "source": [
    "Больше всего пользователи тарифа `smart` разговаривают около 100 минут"
   ]
  },
  {
   "cell_type": "markdown",
   "metadata": {},
   "source": [
    "### Гистограмма распределия количества отправленных сообщений пользователей `ultra`"
   ]
  },
  {
   "cell_type": "code",
   "execution_count": 100,
   "metadata": {},
   "outputs": [
    {
     "data": {
      "text/plain": [
       "<matplotlib.axes._subplots.AxesSubplot at 0x7f107ce5d510>"
      ]
     },
     "execution_count": 100,
     "metadata": {},
     "output_type": "execute_result"
    },
    {
     "data": {
      "image/png": "[encoded data removed]",
      "text/plain": [
       "<Figure size 432x288 with 1 Axes>"
      ]
     },
     "metadata": {
      "needs_background": "light"
     },
     "output_type": "display_data"
    }
   ],
   "source": [
    "sns.distplot(ultra_person_calls['message_date'], bins=30)"
   ]
  },
  {
   "cell_type": "markdown",
   "metadata": {},
   "source": [
    "Больше всего пользователи тарифа `ultra` отправляют около 10 смс"
   ]
  },
  {
   "cell_type": "markdown",
   "metadata": {},
   "source": [
    "### Гистограмма распределия количества отправленных сообщений пользователей `smart`"
   ]
  },
  {
   "cell_type": "code",
   "execution_count": 101,
   "metadata": {},
   "outputs": [
    {
     "data": {
      "text/plain": [
       "<matplotlib.axes._subplots.AxesSubplot at 0x7f107cf715d0>"
      ]
     },
     "execution_count": 101,
     "metadata": {},
     "output_type": "execute_result"
    },
    {
     "data": {
      "image/png": "[encoded data removed]",
      "text/plain": [
       "<Figure size 432x288 with 1 Axes>"
      ]
     },
     "metadata": {
      "needs_background": "light"
     },
     "output_type": "display_data"
    }
   ],
   "source": [
    "sns.distplot(smart_person_calls['message_date'], bins=30) "
   ]
  },
  {
   "cell_type": "markdown",
   "metadata": {},
   "source": [
    "Больше всего пользователи тарифа `smart` отправляют около 5 смс"
   ]
  },
  {
   "cell_type": "markdown",
   "metadata": {},
   "source": [
    "### Гистограмма распределия количества потраченного интернета пользователей `ultra`"
   ]
  },
  {
   "cell_type": "code",
   "execution_count": 102,
   "metadata": {},
   "outputs": [
    {
     "data": {
      "text/plain": [
       "<matplotlib.axes._subplots.AxesSubplot at 0x7f107cd3a210>"
      ]
     },
     "execution_count": 102,
     "metadata": {},
     "output_type": "execute_result"
    },
    {
     "data": {
      "image/png": "[encoded data removed]",
      "text/plain": [
       "<Figure size 432x288 with 1 Axes>"
      ]
     },
     "metadata": {
      "needs_background": "light"
     },
     "output_type": "display_data"
    }
   ],
   "source": [
    "sns.distplot(ultra_person_calls['mb_used'], bins=30)"
   ]
  },
  {
   "cell_type": "markdown",
   "metadata": {},
   "source": [
    "Больше всего пользователи тарифа `ultra` используют около 2 гб"
   ]
  },
  {
   "cell_type": "markdown",
   "metadata": {},
   "source": [
    "### Гистограмма распределия количества потраченного интернета пользователей `smart`"
   ]
  },
  {
   "cell_type": "code",
   "execution_count": 103,
   "metadata": {},
   "outputs": [
    {
     "data": {
      "text/plain": [
       "<matplotlib.axes._subplots.AxesSubplot at 0x7f10747d0cd0>"
      ]
     },
     "execution_count": 103,
     "metadata": {},
     "output_type": "execute_result"
    },
    {
     "data": {
      "image/png": "[encoded data removed]",
      "text/plain": [
       "<Figure size 432x288 with 1 Axes>"
      ]
     },
     "metadata": {
      "needs_background": "light"
     },
     "output_type": "display_data"
    }
   ],
   "source": [
    "sns.distplot(smart_person_calls['mb_used'], bins=30)"
   ]
  },
  {
   "cell_type": "markdown",
   "metadata": {},
   "source": [
    "Больше всего пользователи тарифа `smart` используют около 10 гб"
   ]
  },
  {
   "cell_type": "markdown",
   "metadata": {},
   "source": [
    "<div style=\"border:solid green 2px; padding: 20px\"> \n",
    "    \n",
    "**Комментарий ревьюера - 2**\n",
    "\n",
    "**#ок**\n",
    "\n",
    "Отлично построены гистограммы. Дополнительно для всех графиков стоит делсть подробные заголовки и понятные подписи осей. Тогда диаграммф и в отчетах и в презентациях удобно использовать\n",
    "\n",
    "    \n",
    "</div>"
   ]
  },
  {
   "cell_type": "markdown",
   "metadata": {},
   "source": [
    "### Общая гистограмма распределения по потраченному интернету и сообщениям для тарифа `ultra`"
   ]
  },
  {
   "cell_type": "code",
   "execution_count": 104,
   "metadata": {},
   "outputs": [
    {
     "data": {
      "text/plain": [
       "<seaborn.axisgrid.JointGrid at 0x7f107cc8e550>"
      ]
     },
     "execution_count": 104,
     "metadata": {},
     "output_type": "execute_result"
    },
    {
     "data": {
      "image/png": "[encoded data removed]",
      "text/plain": [
       "<Figure size 432x432 with 3 Axes>"
      ]
     },
     "metadata": {
      "needs_background": "light"
     },
     "output_type": "display_data"
    }
   ],
   "source": [
    "sns.jointplot(x='message_date', y='mb_used', data=ultra_person_calls, kind='scatter')"
   ]
  },
  {
   "cell_type": "markdown",
   "metadata": {},
   "source": [
    "# Проверка гипотезы\n",
    "Проверка гипотезы: средняя выручка пользователей тарифов `ultra` и `smart` различается.\n",
    "\n",
    "Для проверки гипотез принимаем Нулевую гипотезу, что средняя выручка пользователей тарифов `ultra` и `smart` не различается (равны). Проверка гипотезы альтернативной: среднее значение выручки `ultra` меньше предполагаемого(значение `smart`)"
   ]
  },
  {
   "cell_type": "markdown",
   "metadata": {},
   "source": [
    "<div style=\"border:solid red 2px; padding: 20px\"> \n",
    "    \n",
    "**Комментарий ревьюера - 2**\n",
    "\n",
    "**#ошибка**\n",
    "\n",
    "Сформулируй, пожалуйста двухстороннюю альтернативную гипотезу. Именно ее ты проверяешь далее и это верно\n",
    "\n",
    "    \n",
    "</div>"
   ]
  },
  {
   "cell_type": "markdown",
   "metadata": {},
   "source": [
    "<div style=\"border:solid red 2px; padding: 20px\"> \n",
    "    \n",
    "**Комментарий ревьюера - 3**\n",
    "\n",
    "**#ошибка**\n",
    "\n",
    "Альтернативная гипотеза: среднее для смарт не равно среднему для ультра\n",
    "    \n",
    "</div>"
   ]
  },
  {
   "cell_type": "code",
   "execution_count": 105,
   "metadata": {},
   "outputs": [],
   "source": [
    "alpha = 0.05"
   ]
  },
  {
   "cell_type": "code",
   "execution_count": 106,
   "metadata": {},
   "outputs": [],
   "source": [
    "ultra_all = group_all.query('tariff == \"ultra\"')\n",
    "smart_all = group_all.query('tariff == \"smart\"')"
   ]
  },
  {
   "cell_type": "code",
   "execution_count": 107,
   "metadata": {},
   "outputs": [
    {
     "data": {
      "text/plain": [
       "1959.1216216216217"
      ]
     },
     "execution_count": 107,
     "metadata": {},
     "output_type": "execute_result"
    }
   ],
   "source": [
    "    ultra_all['profit'].mean() # Среднее значение выречки пользователей ultra"
   ]
  },
  {
   "cell_type": "code",
   "execution_count": 108,
   "metadata": {},
   "outputs": [],
   "source": [
    "disp_ultra = np.var(ultra_all['profit'])"
   ]
  },
  {
   "cell_type": "code",
   "execution_count": 109,
   "metadata": {},
   "outputs": [
    {
     "name": "stdout",
     "output_type": "stream",
     "text": [
      "99% значений попадают в интервал: 197 от среднего значения 1959\n"
     ]
    }
   ],
   "source": [
    "print('99% значений попадают в интервал:', round(3 * np.sqrt(disp_ultra)), 'от среднего значения', round(ultra_all['profit'].mean())) "
   ]
  },
  {
   "cell_type": "markdown",
   "metadata": {},
   "source": [
    "Считаю доверительный 95% интервал для `ultra`"
   ]
  },
  {
   "cell_type": "code",
   "execution_count": 110,
   "metadata": {},
   "outputs": [
    {
     "data": {
      "text/plain": [
       "(1948.4014506466056, 1969.8417925966378)"
      ]
     },
     "execution_count": 110,
     "metadata": {},
     "output_type": "execute_result"
    }
   ],
   "source": [
    "st.t.interval(0.95, len(ultra_all['profit'])-1, loc = np.mean(ultra_all['profit']), scale = st.sem(ultra_all['profit']))"
   ]
  },
  {
   "cell_type": "code",
   "execution_count": 111,
   "metadata": {},
   "outputs": [
    {
     "data": {
      "text/plain": [
       "682.5457142857143"
      ]
     },
     "execution_count": 111,
     "metadata": {},
     "output_type": "execute_result"
    }
   ],
   "source": [
    "smart_all['profit'].mean() # Среднее значение выручки пользователей smart"
   ]
  },
  {
   "cell_type": "code",
   "execution_count": 112,
   "metadata": {},
   "outputs": [],
   "source": [
    "disp_smart = np.var(smart_all['profit'])"
   ]
  },
  {
   "cell_type": "code",
   "execution_count": 113,
   "metadata": {},
   "outputs": [
    {
     "name": "stdout",
     "output_type": "stream",
     "text": [
      "99% значений попадают в интервал: 1119 от среднего значения 683\n"
     ]
    }
   ],
   "source": [
    "print('99% значений попадают в интервал:',round(3*np.sqrt(disp_smart)), 'от среднего значения', round(smart_all['profit'].mean())) "
   ]
  },
  {
   "cell_type": "markdown",
   "metadata": {},
   "source": [
    "Считаю доверительный 95% интервал для `smart`"
   ]
  },
  {
   "cell_type": "code",
   "execution_count": 114,
   "metadata": {},
   "outputs": [
    {
     "data": {
      "text/plain": [
       "(643.2622977282227, 721.8291308432059)"
      ]
     },
     "execution_count": 114,
     "metadata": {},
     "output_type": "execute_result"
    }
   ],
   "source": [
    "st.t.interval(0.95, len(smart_all['profit'])-1, loc = np.mean(smart_all['profit']), scale = st.sem(smart_all['profit']))"
   ]
  },
  {
   "cell_type": "code",
   "execution_count": 115,
   "metadata": {},
   "outputs": [
    {
     "data": {
      "text/plain": [
       "139628.145468686"
      ]
     },
     "execution_count": 115,
     "metadata": {},
     "output_type": "execute_result"
    }
   ],
   "source": [
    "smart_all['profit'].var() #Дисперсия выручки smart"
   ]
  },
  {
   "cell_type": "code",
   "execution_count": 116,
   "metadata": {},
   "outputs": [
    {
     "data": {
      "text/plain": [
       "4355.005515719801"
      ]
     },
     "execution_count": 116,
     "metadata": {},
     "output_type": "execute_result"
    }
   ],
   "source": [
    "ultra_all['profit'].var() #Дисперсия выручки ultra"
   ]
  },
  {
   "cell_type": "code",
   "execution_count": 117,
   "metadata": {},
   "outputs": [],
   "source": [
    "result = st.ttest_ind(smart_all['profit'], ultra_all['profit'], equal_var=False) "
   ]
  },
  {
   "cell_type": "code",
   "execution_count": 118,
   "metadata": {},
   "outputs": [
    {
     "data": {
      "text/plain": [
       "1.4491547536423871e-205"
      ]
     },
     "execution_count": 118,
     "metadata": {},
     "output_type": "execute_result"
    }
   ],
   "source": [
    "result.pvalue"
   ]
  },
  {
   "cell_type": "code",
   "execution_count": 119,
   "metadata": {},
   "outputs": [
    {
     "name": "stdout",
     "output_type": "stream",
     "text": [
      "Отвергаем нулевую гипотезу\n"
     ]
    }
   ],
   "source": [
    "if (result.pvalue < alpha):\n",
    "    print('Отвергаем нулевую гипотезу')\n",
    "else:\n",
    "    print('Не получилость отвергнуть нулевую гипотезу')"
   ]
  },
  {
   "cell_type": "markdown",
   "metadata": {},
   "source": [
    "Для проверки гипотез принимаем Нулевую гипотезу, что средняя выручка пользователей тарифов `ultra` и `smart` не различается.\n",
    "\n",
    "<div style=\"border:solid green 2px; padding: 20px\"> \n",
    "    \n",
    "**Комментарий ревьюера - 2**\n",
    "\n",
    "**#ок**\n",
    "\n",
    "Вот до этого места все правильно. Ты верно проверил двухстороннюю гипотезу\n",
    "\n",
    "    \n",
    "</div>\n",
    "\n",
    "Нулевая гипотеза отвергнута. Значения средней выручки тарифа `ultra` и тарифа `smart` различаются. Проверка гипотезы альтернативной: среднее значение выручки Ультра меньше предполагаемого"
   ]
  },
  {
   "cell_type": "markdown",
   "metadata": {},
   "source": [
    "<div style=\"border:solid red 2px; padding: 20px\"> \n",
    "    \n",
    "**Комментарий ревьюера - 2**\n",
    "\n",
    "**#ошибка**\n",
    "\n",
    "А вот этой части делать не нужно.\n",
    "\n",
    "    \n",
    "</div>"
   ]
  },
  {
   "cell_type": "markdown",
   "metadata": {},
   "source": [
    "Проверка гипотезы: средняя выручка пользователей из Москвы отличается от выручки пользователей из других регионов. Нулевая гипотеза звучит так: средняя выручка пользователей из Москвы не отличается от выручки пользователей из других регионов."
   ]
  },
  {
   "cell_type": "markdown",
   "metadata": {},
   "source": [
    "<div style=\"border:solid red 2px; padding: 20px\"> \n",
    "    \n",
    "**Комментарий ревьюера - 2**\n",
    "\n",
    "**#ошибка**\n",
    "\n",
    "Здесь также надо сформулировать двухстороннюю альтернативу\n",
    "    \n",
    "</div>"
   ]
  },
  {
   "cell_type": "markdown",
   "metadata": {},
   "source": [
    "<div style=\"border:solid red 2px; padding: 20px\"> \n",
    "    \n",
    "**Комментарий ревьюера - 3**\n",
    "\n",
    "**#ошибка**\n",
    "\n",
    "Сформулируй альтернативную гипотезу\n",
    "    \n",
    "</div>"
   ]
  },
  {
   "cell_type": "code",
   "execution_count": 120,
   "metadata": {},
   "outputs": [],
   "source": [
    "moscow_all = group_all.query('city == \"Москва\"')\n",
    "other_all = group_all.query('city != \"Москва\"')"
   ]
  },
  {
   "cell_type": "code",
   "execution_count": 121,
   "metadata": {},
   "outputs": [],
   "source": [
    "alpha=0.05"
   ]
  },
  {
   "cell_type": "code",
   "execution_count": 122,
   "metadata": {},
   "outputs": [
    {
     "data": {
      "text/plain": [
       "440427.66749123886"
      ]
     },
     "execution_count": 122,
     "metadata": {},
     "output_type": "execute_result"
    }
   ],
   "source": [
    "moscow_all['profit'].var()"
   ]
  },
  {
   "cell_type": "code",
   "execution_count": 123,
   "metadata": {},
   "outputs": [
    {
     "data": {
      "text/plain": [
       "1083.8383838383838"
      ]
     },
     "execution_count": 123,
     "metadata": {},
     "output_type": "execute_result"
    }
   ],
   "source": [
    "moscow_all['profit'].mean()"
   ]
  },
  {
   "cell_type": "code",
   "execution_count": 124,
   "metadata": {},
   "outputs": [
    {
     "data": {
      "text/plain": [
       "441353.15511139657"
      ]
     },
     "execution_count": 124,
     "metadata": {},
     "output_type": "execute_result"
    }
   ],
   "source": [
    "other_all['profit'].var()"
   ]
  },
  {
   "cell_type": "code",
   "execution_count": 125,
   "metadata": {},
   "outputs": [
    {
     "data": {
      "text/plain": [
       "1056.4937343358397"
      ]
     },
     "execution_count": 125,
     "metadata": {},
     "output_type": "execute_result"
    }
   ],
   "source": [
    "other_all['profit'].mean()"
   ]
  },
  {
   "cell_type": "code",
   "execution_count": 126,
   "metadata": {},
   "outputs": [],
   "source": [
    "result = st.ttest_ind(moscow_all['profit'], other_all['profit'])"
   ]
  },
  {
   "cell_type": "code",
   "execution_count": 127,
   "metadata": {},
   "outputs": [
    {
     "data": {
      "text/plain": [
       "0.7140321117359004"
      ]
     },
     "execution_count": 127,
     "metadata": {},
     "output_type": "execute_result"
    }
   ],
   "source": [
    "result.pvalue"
   ]
  },
  {
   "cell_type": "code",
   "execution_count": 128,
   "metadata": {},
   "outputs": [
    {
     "name": "stdout",
     "output_type": "stream",
     "text": [
      "Не получилость отвергнуть нулевую гипотезу\n"
     ]
    }
   ],
   "source": [
    "if (result.pvalue<alpha):\n",
    "    print('Отвергаем нулевую гипотезу')\n",
    "else:\n",
    "    print('Не получилость отвергнуть нулевую гипотезу')"
   ]
  },
  {
   "cell_type": "markdown",
   "metadata": {},
   "source": [
    "Гипотезу не отвергаем. Средняя выручка в Москве отличается от средней выручки в регионах."
   ]
  },
  {
   "cell_type": "markdown",
   "metadata": {},
   "source": [
    "<div style=\"border:solid green 2px; padding: 20px\"> \n",
    "    \n",
    "**Комментарий ревьюера - 4**\n",
    "\n",
    "**#ок**\n",
    "    \n",
    "Гипотезу не можем отвергнуть, а значит у нас нет оснований считать, что выручка в Москве отличается от выручки в регионах\n",
    "\n",
    "</div>"
   ]
  },
  {
   "cell_type": "markdown",
   "metadata": {},
   "source": [
    "<div style=\"border:solid green 2px; padding: 20px\"> \n",
    "    \n",
    "**Комментарий ревьюера - 2**\n",
    "\n",
    "**#ок**\n",
    "    \n",
    "+\n",
    "\n",
    "</div>"
   ]
  },
  {
   "cell_type": "markdown",
   "metadata": {},
   "source": [
    "<div style=\"border:solid red 2px; padding: 20px\"> \n",
    "    \n",
    "**Комментарий ревьюера - 2**\n",
    "\n",
    "**#ошибка**\n",
    "\n",
    "Здесь ты сам себе противоречишь.\n",
    "    \n",
    "</div>"
   ]
  },
  {
   "cell_type": "markdown",
   "metadata": {},
   "source": [
    "<div style=\"border:solid red 2px; padding: 20px\"> \n",
    "    \n",
    "**Комментарий ревьюера - 3**\n",
    "    \n",
    "\n",
    "**#ошибка**\n",
    "\n",
    "Посмотри, что должно произойти при result.pvalue<alpha\n",
    "                                                       \n",
    "Постарайся поточнее понять тему проверки гипотез. Она будет теперь в каждом проекте, ее надо усвоить                                                    \n",
    "    \n",
    "</div>"
   ]
  },
  {
   "cell_type": "markdown",
   "metadata": {},
   "source": [
    "Самый популярный тариф оказался `smart`. Но самый прибылный тариф - `ultra`. Доверительный интервал прибыли для тарифа `ultra`  составляет 1948-1969 руб, а для тарифа `smart` 642-720 руб."
   ]
  }
 ],
 "metadata": {
  "ExecuteTimeLog": [
   {
    "duration": 1408,
    "start_time": "2021-12-23T08:48:20.280Z"
   },
   {
    "duration": 510,
    "start_time": "2021-12-23T08:48:36.883Z"
   },
   {
    "duration": 21,
    "start_time": "2021-12-23T08:50:24.673Z"
   },
   {
    "duration": 13,
    "start_time": "2021-12-23T08:50:30.158Z"
   },
   {
    "duration": 23,
    "start_time": "2021-12-23T08:50:44.923Z"
   },
   {
    "duration": 12,
    "start_time": "2021-12-23T08:50:57.776Z"
   },
   {
    "duration": 12,
    "start_time": "2021-12-23T08:51:06.449Z"
   },
   {
    "duration": 16,
    "start_time": "2021-12-23T08:51:17.555Z"
   },
   {
    "duration": 27,
    "start_time": "2021-12-23T08:51:26.424Z"
   },
   {
    "duration": 63,
    "start_time": "2021-12-23T08:53:10.705Z"
   },
   {
    "duration": 72,
    "start_time": "2021-12-23T08:53:45.441Z"
   },
   {
    "duration": 81,
    "start_time": "2021-12-23T08:54:06.413Z"
   },
   {
    "duration": 46,
    "start_time": "2021-12-23T08:54:28.455Z"
   },
   {
    "duration": 57,
    "start_time": "2021-12-23T08:54:50.152Z"
   },
   {
    "duration": 43,
    "start_time": "2021-12-23T08:55:09.949Z"
   },
   {
    "duration": 114,
    "start_time": "2021-12-23T09:44:59.303Z"
   },
   {
    "duration": 44,
    "start_time": "2021-12-23T09:47:17.646Z"
   },
   {
    "duration": 7,
    "start_time": "2021-12-23T09:59:26.776Z"
   },
   {
    "duration": 161,
    "start_time": "2021-12-23T10:01:57.141Z"
   },
   {
    "duration": 461,
    "start_time": "2021-12-23T10:44:19.624Z"
   },
   {
    "duration": 32,
    "start_time": "2021-12-23T10:44:26.001Z"
   },
   {
    "duration": 48,
    "start_time": "2021-12-23T10:51:17.637Z"
   },
   {
    "duration": 315,
    "start_time": "2021-12-23T10:59:36.337Z"
   },
   {
    "duration": 39,
    "start_time": "2021-12-23T10:59:43.439Z"
   },
   {
    "duration": 336,
    "start_time": "2021-12-23T11:01:03.806Z"
   },
   {
    "duration": 51,
    "start_time": "2021-12-23T11:01:22.468Z"
   },
   {
    "duration": 50,
    "start_time": "2021-12-23T11:01:28.103Z"
   },
   {
    "duration": 62,
    "start_time": "2021-12-23T11:01:36.491Z"
   },
   {
    "duration": 748,
    "start_time": "2021-12-25T16:12:23.492Z"
   },
   {
    "duration": 478,
    "start_time": "2021-12-25T16:12:34.729Z"
   },
   {
    "duration": 481,
    "start_time": "2021-12-25T16:12:40.604Z"
   },
   {
    "duration": 59,
    "start_time": "2021-12-25T16:13:41.213Z"
   },
   {
    "duration": 54,
    "start_time": "2021-12-25T16:14:05.256Z"
   },
   {
    "duration": 35,
    "start_time": "2021-12-25T16:14:26.858Z"
   },
   {
    "duration": 47,
    "start_time": "2021-12-25T16:14:53.313Z"
   },
   {
    "duration": 27,
    "start_time": "2021-12-25T16:15:13.036Z"
   },
   {
    "duration": 3,
    "start_time": "2021-12-25T16:28:41.211Z"
   },
   {
    "duration": 98,
    "start_time": "2021-12-25T16:37:42.534Z"
   },
   {
    "duration": 408,
    "start_time": "2021-12-26T08:26:39.677Z"
   },
   {
    "duration": 770,
    "start_time": "2021-12-26T08:27:34.272Z"
   },
   {
    "duration": 555,
    "start_time": "2021-12-26T08:27:35.044Z"
   },
   {
    "duration": 65,
    "start_time": "2021-12-26T08:27:35.603Z"
   },
   {
    "duration": 61,
    "start_time": "2021-12-26T08:27:35.672Z"
   },
   {
    "duration": 62,
    "start_time": "2021-12-26T08:27:35.736Z"
   },
   {
    "duration": 81,
    "start_time": "2021-12-26T08:27:35.801Z"
   },
   {
    "duration": 32,
    "start_time": "2021-12-26T08:27:35.886Z"
   },
   {
    "duration": 152,
    "start_time": "2021-12-26T08:27:35.923Z"
   },
   {
    "duration": 488,
    "start_time": "2021-12-26T08:27:39.517Z"
   },
   {
    "duration": 406,
    "start_time": "2021-12-26T08:28:47.993Z"
   },
   {
    "duration": 383,
    "start_time": "2021-12-26T08:29:20.246Z"
   },
   {
    "duration": 309,
    "start_time": "2021-12-26T08:29:34.650Z"
   },
   {
    "duration": 300,
    "start_time": "2021-12-26T08:31:44.808Z"
   },
   {
    "duration": 366,
    "start_time": "2021-12-26T08:31:58.940Z"
   },
   {
    "duration": 480,
    "start_time": "2021-12-26T08:35:53.313Z"
   },
   {
    "duration": 451,
    "start_time": "2021-12-26T08:37:14.687Z"
   },
   {
    "duration": 11,
    "start_time": "2021-12-26T08:37:47.286Z"
   },
   {
    "duration": 12,
    "start_time": "2021-12-26T08:44:07.575Z"
   },
   {
    "duration": 102,
    "start_time": "2021-12-26T09:12:14.104Z"
   },
   {
    "duration": 126,
    "start_time": "2021-12-26T09:12:20.686Z"
   },
   {
    "duration": 366,
    "start_time": "2021-12-26T09:22:52.441Z"
   },
   {
    "duration": 31,
    "start_time": "2021-12-26T09:24:46.926Z"
   },
   {
    "duration": 42,
    "start_time": "2021-12-26T09:24:55.801Z"
   },
   {
    "duration": 292,
    "start_time": "2021-12-26T09:28:03.662Z"
   },
   {
    "duration": 313,
    "start_time": "2021-12-26T09:28:19.096Z"
   },
   {
    "duration": 53,
    "start_time": "2021-12-26T09:28:23.033Z"
   },
   {
    "duration": 60,
    "start_time": "2021-12-26T09:28:34.019Z"
   },
   {
    "duration": 360,
    "start_time": "2021-12-27T09:56:23.422Z"
   },
   {
    "duration": 795,
    "start_time": "2021-12-27T09:56:28.160Z"
   },
   {
    "duration": 551,
    "start_time": "2021-12-27T09:56:28.957Z"
   },
   {
    "duration": 67,
    "start_time": "2021-12-27T09:56:29.511Z"
   },
   {
    "duration": 58,
    "start_time": "2021-12-27T09:56:29.582Z"
   },
   {
    "duration": 63,
    "start_time": "2021-12-27T09:56:29.642Z"
   },
   {
    "duration": 77,
    "start_time": "2021-12-27T09:56:29.707Z"
   },
   {
    "duration": 28,
    "start_time": "2021-12-27T09:56:29.786Z"
   },
   {
    "duration": 157,
    "start_time": "2021-12-27T09:56:29.818Z"
   },
   {
    "duration": 19,
    "start_time": "2021-12-27T09:56:29.977Z"
   },
   {
    "duration": 138,
    "start_time": "2021-12-27T09:56:30.034Z"
   },
   {
    "duration": 96,
    "start_time": "2021-12-27T09:56:30.220Z"
   },
   {
    "duration": 62,
    "start_time": "2021-12-27T09:56:30.395Z"
   },
   {
    "duration": 452,
    "start_time": "2021-12-27T09:56:30.579Z"
   },
   {
    "duration": 175,
    "start_time": "2021-12-27T10:00:41.179Z"
   },
   {
    "duration": 200,
    "start_time": "2021-12-27T10:00:51.331Z"
   },
   {
    "duration": 210,
    "start_time": "2021-12-27T10:00:55.034Z"
   },
   {
    "duration": 261,
    "start_time": "2021-12-27T10:03:22.303Z"
   },
   {
    "duration": 337,
    "start_time": "2021-12-27T10:03:26.495Z"
   },
   {
    "duration": 31,
    "start_time": "2021-12-27T10:03:49.716Z"
   },
   {
    "duration": 63,
    "start_time": "2021-12-27T10:03:54.410Z"
   },
   {
    "duration": 341,
    "start_time": "2021-12-27T10:07:31.137Z"
   },
   {
    "duration": 771,
    "start_time": "2021-12-27T10:15:37.774Z"
   },
   {
    "duration": 29,
    "start_time": "2021-12-27T10:19:03.148Z"
   },
   {
    "duration": 392,
    "start_time": "2021-12-27T10:20:15.597Z"
   },
   {
    "duration": 44,
    "start_time": "2021-12-27T10:20:47.375Z"
   },
   {
    "duration": 376,
    "start_time": "2021-12-27T10:20:51.319Z"
   },
   {
    "duration": 46,
    "start_time": "2021-12-27T10:21:27.054Z"
   },
   {
    "duration": 394,
    "start_time": "2021-12-27T10:21:27.277Z"
   },
   {
    "duration": 29,
    "start_time": "2021-12-27T10:24:26.670Z"
   },
   {
    "duration": 28,
    "start_time": "2021-12-27T10:26:07.933Z"
   },
   {
    "duration": 44,
    "start_time": "2021-12-27T10:26:16.096Z"
   },
   {
    "duration": 23,
    "start_time": "2021-12-27T10:34:50.835Z"
   },
   {
    "duration": 83,
    "start_time": "2021-12-27T10:35:42.841Z"
   },
   {
    "duration": 30,
    "start_time": "2021-12-27T10:35:49.186Z"
   },
   {
    "duration": 39,
    "start_time": "2021-12-27T10:36:07.318Z"
   },
   {
    "duration": 40,
    "start_time": "2021-12-27T10:38:24.427Z"
   },
   {
    "duration": 25,
    "start_time": "2021-12-27T10:39:02.025Z"
   },
   {
    "duration": 56,
    "start_time": "2021-12-27T10:39:54.655Z"
   },
   {
    "duration": 24,
    "start_time": "2021-12-27T10:43:40.978Z"
   },
   {
    "duration": 9,
    "start_time": "2021-12-27T10:44:53.376Z"
   },
   {
    "duration": 18,
    "start_time": "2021-12-27T10:45:15.475Z"
   },
   {
    "duration": 24,
    "start_time": "2021-12-27T10:45:29.488Z"
   },
   {
    "duration": 4,
    "start_time": "2021-12-27T10:45:30.488Z"
   },
   {
    "duration": 15,
    "start_time": "2021-12-27T10:45:31.252Z"
   },
   {
    "duration": 23,
    "start_time": "2021-12-27T10:47:38.237Z"
   },
   {
    "duration": 5,
    "start_time": "2021-12-27T10:47:39.617Z"
   },
   {
    "duration": 16,
    "start_time": "2021-12-27T10:47:44.358Z"
   },
   {
    "duration": 17,
    "start_time": "2021-12-27T10:47:53.791Z"
   },
   {
    "duration": 21,
    "start_time": "2021-12-27T11:13:31.494Z"
   },
   {
    "duration": 8,
    "start_time": "2021-12-27T11:59:15.729Z"
   },
   {
    "duration": 8784,
    "start_time": "2021-12-27T11:59:47.059Z"
   },
   {
    "duration": 8,
    "start_time": "2021-12-27T12:00:30.811Z"
   },
   {
    "duration": 8536,
    "start_time": "2021-12-27T12:00:34.844Z"
   },
   {
    "duration": 12,
    "start_time": "2021-12-27T12:00:57.641Z"
   },
   {
    "duration": 8364,
    "start_time": "2021-12-27T12:01:02.200Z"
   },
   {
    "duration": 12,
    "start_time": "2021-12-27T12:02:30.912Z"
   },
   {
    "duration": 9686,
    "start_time": "2021-12-27T12:02:33.679Z"
   },
   {
    "duration": 11,
    "start_time": "2021-12-27T12:03:10.176Z"
   },
   {
    "duration": 8306,
    "start_time": "2021-12-27T12:03:14.352Z"
   },
   {
    "duration": 8258,
    "start_time": "2021-12-27T12:04:08.827Z"
   },
   {
    "duration": 9,
    "start_time": "2021-12-27T12:07:44.578Z"
   },
   {
    "duration": 11,
    "start_time": "2021-12-27T12:07:46.243Z"
   },
   {
    "duration": 8445,
    "start_time": "2021-12-27T12:07:49.026Z"
   },
   {
    "duration": 11,
    "start_time": "2021-12-27T12:08:42.200Z"
   },
   {
    "duration": 9111,
    "start_time": "2021-12-27T12:08:44.954Z"
   },
   {
    "duration": 10,
    "start_time": "2021-12-27T12:09:09.977Z"
   },
   {
    "duration": 8,
    "start_time": "2021-12-27T12:10:08.116Z"
   },
   {
    "duration": 9,
    "start_time": "2021-12-27T12:10:10.411Z"
   },
   {
    "duration": 10507,
    "start_time": "2021-12-27T12:10:11.957Z"
   },
   {
    "duration": 79,
    "start_time": "2021-12-27T12:11:24.232Z"
   },
   {
    "duration": 16,
    "start_time": "2021-12-27T12:11:30.385Z"
   },
   {
    "duration": 11,
    "start_time": "2021-12-27T12:12:19.134Z"
   },
   {
    "duration": 8050,
    "start_time": "2021-12-27T12:12:22.349Z"
   },
   {
    "duration": 9,
    "start_time": "2021-12-27T12:16:16.116Z"
   },
   {
    "duration": 8353,
    "start_time": "2021-12-27T12:16:29.956Z"
   },
   {
    "duration": 6,
    "start_time": "2021-12-27T12:21:05.189Z"
   },
   {
    "duration": 7822,
    "start_time": "2021-12-27T12:21:22.543Z"
   },
   {
    "duration": 5,
    "start_time": "2021-12-27T12:21:50.653Z"
   },
   {
    "duration": 8772,
    "start_time": "2021-12-27T12:21:56.055Z"
   },
   {
    "duration": 5,
    "start_time": "2021-12-27T12:27:16.565Z"
   },
   {
    "duration": 516,
    "start_time": "2021-12-27T12:27:19.225Z"
   },
   {
    "duration": 7,
    "start_time": "2021-12-27T12:27:36.629Z"
   },
   {
    "duration": 8315,
    "start_time": "2021-12-27T12:27:38.342Z"
   },
   {
    "duration": 5,
    "start_time": "2021-12-27T12:28:58.636Z"
   },
   {
    "duration": 7089,
    "start_time": "2021-12-27T12:29:01.442Z"
   },
   {
    "duration": 4,
    "start_time": "2021-12-27T12:29:21.386Z"
   },
   {
    "duration": 9926,
    "start_time": "2021-12-27T12:29:23.320Z"
   },
   {
    "duration": 5,
    "start_time": "2021-12-27T12:30:16.800Z"
   },
   {
    "duration": 779,
    "start_time": "2021-12-27T12:30:21.560Z"
   },
   {
    "duration": 5,
    "start_time": "2021-12-27T12:30:59.077Z"
   },
   {
    "duration": 750,
    "start_time": "2021-12-27T12:31:00.854Z"
   },
   {
    "duration": 8,
    "start_time": "2021-12-27T12:32:07.148Z"
   },
   {
    "duration": 696,
    "start_time": "2021-12-27T12:32:10.641Z"
   },
   {
    "duration": 8,
    "start_time": "2021-12-27T12:33:08.045Z"
   },
   {
    "duration": 546,
    "start_time": "2021-12-27T12:33:10.843Z"
   },
   {
    "duration": 7,
    "start_time": "2021-12-27T12:33:58.144Z"
   },
   {
    "duration": 809,
    "start_time": "2021-12-27T12:34:01.001Z"
   },
   {
    "duration": 7,
    "start_time": "2021-12-27T12:36:49.533Z"
   },
   {
    "duration": 9787,
    "start_time": "2021-12-27T12:36:51.538Z"
   },
   {
    "duration": 8,
    "start_time": "2021-12-27T12:42:28.850Z"
   },
   {
    "duration": 542,
    "start_time": "2021-12-27T12:42:31.312Z"
   },
   {
    "duration": 7,
    "start_time": "2021-12-27T12:43:09.814Z"
   },
   {
    "duration": 516,
    "start_time": "2021-12-27T12:43:11.853Z"
   },
   {
    "duration": 8,
    "start_time": "2021-12-27T12:43:38.445Z"
   },
   {
    "duration": 593,
    "start_time": "2021-12-27T12:43:40.850Z"
   },
   {
    "duration": 8,
    "start_time": "2021-12-27T12:44:00.525Z"
   },
   {
    "duration": 8043,
    "start_time": "2021-12-27T12:44:03.548Z"
   },
   {
    "duration": 8,
    "start_time": "2021-12-27T12:46:08.592Z"
   },
   {
    "duration": 8,
    "start_time": "2021-12-27T12:46:24.919Z"
   },
   {
    "duration": 343,
    "start_time": "2021-12-27T12:46:27.693Z"
   },
   {
    "duration": 9,
    "start_time": "2021-12-27T12:47:20.720Z"
   },
   {
    "duration": 535,
    "start_time": "2021-12-27T12:47:21.832Z"
   },
   {
    "duration": 8,
    "start_time": "2021-12-27T12:53:21.024Z"
   },
   {
    "duration": 8205,
    "start_time": "2021-12-27T12:53:23.552Z"
   },
   {
    "duration": 7,
    "start_time": "2021-12-27T12:54:14.308Z"
   },
   {
    "duration": 580,
    "start_time": "2021-12-27T12:54:17.608Z"
   },
   {
    "duration": 7,
    "start_time": "2021-12-27T12:55:04.646Z"
   },
   {
    "duration": 8274,
    "start_time": "2021-12-27T12:55:08.168Z"
   },
   {
    "duration": 9,
    "start_time": "2021-12-27T12:55:31.942Z"
   },
   {
    "duration": 10,
    "start_time": "2021-12-27T12:55:38.448Z"
   },
   {
    "duration": 7772,
    "start_time": "2021-12-27T12:55:40.966Z"
   },
   {
    "duration": 7,
    "start_time": "2021-12-27T12:56:06.882Z"
   },
   {
    "duration": 7645,
    "start_time": "2021-12-27T12:56:09.380Z"
   },
   {
    "duration": 7082,
    "start_time": "2021-12-27T12:56:35.247Z"
   },
   {
    "duration": 9615,
    "start_time": "2021-12-27T12:56:50.799Z"
   },
   {
    "duration": 15,
    "start_time": "2021-12-27T12:57:09.086Z"
   },
   {
    "duration": 8,
    "start_time": "2021-12-27T12:57:20.811Z"
   },
   {
    "duration": 523,
    "start_time": "2021-12-27T12:57:23.642Z"
   },
   {
    "duration": 8,
    "start_time": "2021-12-27T12:57:37.955Z"
   },
   {
    "duration": 668,
    "start_time": "2021-12-27T12:57:40.321Z"
   },
   {
    "duration": 8,
    "start_time": "2021-12-27T12:57:58.881Z"
   },
   {
    "duration": 9,
    "start_time": "2021-12-27T12:59:17.266Z"
   },
   {
    "duration": 8369,
    "start_time": "2021-12-27T12:59:19.740Z"
   },
   {
    "duration": 8,
    "start_time": "2021-12-27T13:00:24.916Z"
   },
   {
    "duration": 9191,
    "start_time": "2021-12-27T13:00:26.801Z"
   },
   {
    "duration": 7,
    "start_time": "2021-12-27T13:01:05.944Z"
   },
   {
    "duration": 8178,
    "start_time": "2021-12-27T13:01:07.514Z"
   },
   {
    "duration": 8,
    "start_time": "2021-12-27T13:02:16.368Z"
   },
   {
    "duration": 287,
    "start_time": "2021-12-27T13:02:21.645Z"
   },
   {
    "duration": 7145,
    "start_time": "2021-12-27T13:02:35.313Z"
   },
   {
    "duration": 264,
    "start_time": "2021-12-27T13:02:58.781Z"
   },
   {
    "duration": 317,
    "start_time": "2021-12-27T13:03:12.419Z"
   },
   {
    "duration": 464,
    "start_time": "2021-12-27T13:03:23.480Z"
   },
   {
    "duration": 9,
    "start_time": "2021-12-27T13:06:01.077Z"
   },
   {
    "duration": 8445,
    "start_time": "2021-12-27T13:06:03.079Z"
   },
   {
    "duration": 244,
    "start_time": "2021-12-27T13:44:04.483Z"
   },
   {
    "duration": 251,
    "start_time": "2021-12-27T13:44:21.589Z"
   },
   {
    "duration": 280,
    "start_time": "2021-12-27T13:44:29.219Z"
   },
   {
    "duration": 269,
    "start_time": "2021-12-27T13:49:26.211Z"
   },
   {
    "duration": 1125,
    "start_time": "2021-12-27T13:50:02.119Z"
   },
   {
    "duration": 1160,
    "start_time": "2021-12-27T13:50:26.203Z"
   },
   {
    "duration": 303,
    "start_time": "2021-12-27T13:51:01.151Z"
   },
   {
    "duration": 987,
    "start_time": "2021-12-27T13:51:16.683Z"
   },
   {
    "duration": 509,
    "start_time": "2021-12-27T13:52:33.816Z"
   },
   {
    "duration": 1258,
    "start_time": "2021-12-27T13:54:40.053Z"
   },
   {
    "duration": 86,
    "start_time": "2021-12-27T13:56:37.236Z"
   },
   {
    "duration": 1314,
    "start_time": "2021-12-27T13:56:54.035Z"
   },
   {
    "duration": 1287,
    "start_time": "2021-12-27T13:58:13.145Z"
   },
   {
    "duration": 264,
    "start_time": "2021-12-27T13:58:41.371Z"
   },
   {
    "duration": 1368,
    "start_time": "2021-12-27T13:58:48.190Z"
   },
   {
    "duration": 363,
    "start_time": "2021-12-27T14:02:31.858Z"
   },
   {
    "duration": 299,
    "start_time": "2021-12-27T14:21:44.865Z"
   },
   {
    "duration": 420,
    "start_time": "2021-12-27T14:22:18.672Z"
   },
   {
    "duration": 1376,
    "start_time": "2021-12-27T14:22:46.056Z"
   },
   {
    "duration": 531,
    "start_time": "2021-12-27T14:23:02.748Z"
   },
   {
    "duration": 567,
    "start_time": "2021-12-27T14:24:04.290Z"
   },
   {
    "duration": 276,
    "start_time": "2021-12-27T14:29:55.792Z"
   },
   {
    "duration": 334,
    "start_time": "2021-12-27T14:30:14.968Z"
   },
   {
    "duration": 287,
    "start_time": "2021-12-27T14:32:11.430Z"
   },
   {
    "duration": 498,
    "start_time": "2021-12-27T14:32:35.920Z"
   },
   {
    "duration": 581,
    "start_time": "2021-12-27T14:35:17.740Z"
   },
   {
    "duration": 542,
    "start_time": "2021-12-27T14:36:06.147Z"
   },
   {
    "duration": 521,
    "start_time": "2021-12-27T14:36:23.399Z"
   },
   {
    "duration": 511,
    "start_time": "2021-12-27T14:37:05.508Z"
   },
   {
    "duration": 542,
    "start_time": "2021-12-27T14:37:17.265Z"
   },
   {
    "duration": 260,
    "start_time": "2021-12-27T14:39:14.739Z"
   },
   {
    "duration": 303,
    "start_time": "2021-12-27T14:39:41.326Z"
   },
   {
    "duration": 264,
    "start_time": "2021-12-27T14:39:56.200Z"
   },
   {
    "duration": 320,
    "start_time": "2021-12-27T14:40:28.978Z"
   },
   {
    "duration": 275,
    "start_time": "2021-12-27T14:43:04.481Z"
   },
   {
    "duration": 458,
    "start_time": "2021-12-27T14:48:34.114Z"
   },
   {
    "duration": 81,
    "start_time": "2021-12-27T14:51:58.190Z"
   },
   {
    "duration": 311,
    "start_time": "2021-12-27T14:52:19.693Z"
   },
   {
    "duration": 276,
    "start_time": "2021-12-27T14:52:36.130Z"
   },
   {
    "duration": 90,
    "start_time": "2021-12-27T14:56:09.526Z"
   },
   {
    "duration": 287,
    "start_time": "2021-12-27T14:56:14.141Z"
   },
   {
    "duration": 408,
    "start_time": "2021-12-28T10:05:08.062Z"
   },
   {
    "duration": 1567,
    "start_time": "2021-12-28T10:05:14.005Z"
   },
   {
    "duration": 528,
    "start_time": "2021-12-28T10:05:15.574Z"
   },
   {
    "duration": 65,
    "start_time": "2021-12-28T10:05:16.105Z"
   },
   {
    "duration": 60,
    "start_time": "2021-12-28T10:05:17.069Z"
   },
   {
    "duration": 35,
    "start_time": "2021-12-28T10:05:17.804Z"
   },
   {
    "duration": 46,
    "start_time": "2021-12-28T10:05:18.496Z"
   },
   {
    "duration": 39,
    "start_time": "2021-12-28T10:05:19.358Z"
   },
   {
    "duration": 148,
    "start_time": "2021-12-28T10:05:22.331Z"
   },
   {
    "duration": 367,
    "start_time": "2021-12-28T10:05:27.370Z"
   },
   {
    "duration": 27,
    "start_time": "2021-12-28T10:05:35.723Z"
   },
   {
    "duration": 53,
    "start_time": "2021-12-28T10:05:36.904Z"
   },
   {
    "duration": 23,
    "start_time": "2021-12-28T10:05:39.119Z"
   },
   {
    "duration": 40,
    "start_time": "2021-12-28T10:05:39.620Z"
   },
   {
    "duration": 41,
    "start_time": "2021-12-28T10:05:41.619Z"
   },
   {
    "duration": 25,
    "start_time": "2021-12-28T10:05:43.464Z"
   },
   {
    "duration": 49,
    "start_time": "2021-12-28T10:05:43.955Z"
   },
   {
    "duration": 26,
    "start_time": "2021-12-28T10:05:47.109Z"
   },
   {
    "duration": 6,
    "start_time": "2021-12-28T10:05:48.082Z"
   },
   {
    "duration": 17,
    "start_time": "2021-12-28T10:05:48.498Z"
   },
   {
    "duration": 14,
    "start_time": "2021-12-28T10:06:01.398Z"
   },
   {
    "duration": 8,
    "start_time": "2021-12-28T10:06:02.441Z"
   },
   {
    "duration": 16,
    "start_time": "2021-12-28T10:06:05.034Z"
   },
   {
    "duration": 605,
    "start_time": "2021-12-28T10:06:12.752Z"
   },
   {
    "duration": 12071,
    "start_time": "2021-12-28T10:06:16.642Z"
   },
   {
    "duration": 15,
    "start_time": "2021-12-28T10:06:44.433Z"
   },
   {
    "duration": 14,
    "start_time": "2021-12-28T10:06:47.993Z"
   },
   {
    "duration": 26,
    "start_time": "2021-12-28T10:06:49.082Z"
   },
   {
    "duration": 7346,
    "start_time": "2021-12-28T10:06:50.119Z"
   },
   {
    "duration": 2,
    "start_time": "2021-12-28T10:06:57.466Z"
   },
   {
    "duration": 5,
    "start_time": "2021-12-28T10:07:07.843Z"
   },
   {
    "duration": 671,
    "start_time": "2021-12-28T10:07:07.993Z"
   },
   {
    "duration": 58,
    "start_time": "2021-12-28T10:07:08.666Z"
   },
   {
    "duration": 80,
    "start_time": "2021-12-28T10:07:08.727Z"
   },
   {
    "duration": 55,
    "start_time": "2021-12-28T10:07:08.810Z"
   },
   {
    "duration": 47,
    "start_time": "2021-12-28T10:07:08.867Z"
   },
   {
    "duration": 62,
    "start_time": "2021-12-28T10:07:08.917Z"
   },
   {
    "duration": 114,
    "start_time": "2021-12-28T10:07:09.232Z"
   },
   {
    "duration": 344,
    "start_time": "2021-12-28T10:07:09.533Z"
   },
   {
    "duration": 27,
    "start_time": "2021-12-28T10:07:10.437Z"
   },
   {
    "duration": 44,
    "start_time": "2021-12-28T10:07:11.458Z"
   },
   {
    "duration": 22,
    "start_time": "2021-12-28T10:07:14.144Z"
   },
   {
    "duration": 38,
    "start_time": "2021-12-28T10:07:14.420Z"
   },
   {
    "duration": 40,
    "start_time": "2021-12-28T10:07:16.847Z"
   },
   {
    "duration": 25,
    "start_time": "2021-12-28T10:07:18.805Z"
   },
   {
    "duration": 43,
    "start_time": "2021-12-28T10:07:19.254Z"
   },
   {
    "duration": 23,
    "start_time": "2021-12-28T10:07:21.897Z"
   },
   {
    "duration": 6,
    "start_time": "2021-12-28T10:07:23.051Z"
   },
   {
    "duration": 21,
    "start_time": "2021-12-28T10:07:23.545Z"
   },
   {
    "duration": 44,
    "start_time": "2021-12-28T10:07:25.690Z"
   },
   {
    "duration": 32,
    "start_time": "2021-12-28T10:07:33.819Z"
   },
   {
    "duration": 4,
    "start_time": "2021-12-28T10:58:53.443Z"
   },
   {
    "duration": 321,
    "start_time": "2021-12-28T10:59:12.149Z"
   },
   {
    "duration": 8258,
    "start_time": "2021-12-28T10:59:28.151Z"
   },
   {
    "duration": 290,
    "start_time": "2021-12-28T10:59:42.968Z"
   },
   {
    "duration": 294,
    "start_time": "2021-12-28T11:01:20.483Z"
   },
   {
    "duration": 294,
    "start_time": "2021-12-28T11:01:57.543Z"
   },
   {
    "duration": 4,
    "start_time": "2021-12-28T11:03:28.390Z"
   },
   {
    "duration": 6,
    "start_time": "2021-12-28T11:04:23.377Z"
   },
   {
    "duration": 7,
    "start_time": "2021-12-28T11:04:39.545Z"
   },
   {
    "duration": 286,
    "start_time": "2021-12-28T11:05:00.969Z"
   },
   {
    "duration": 395,
    "start_time": "2021-12-28T11:05:17.610Z"
   },
   {
    "duration": 370,
    "start_time": "2021-12-28T11:05:34.024Z"
   },
   {
    "duration": 18,
    "start_time": "2021-12-28T11:06:30.949Z"
   },
   {
    "duration": 291,
    "start_time": "2021-12-28T11:06:55.106Z"
   },
   {
    "duration": 9,
    "start_time": "2021-12-28T11:07:00.035Z"
   },
   {
    "duration": 8,
    "start_time": "2021-12-28T11:07:52.499Z"
   },
   {
    "duration": 11,
    "start_time": "2021-12-28T11:07:58.508Z"
   },
   {
    "duration": 8,
    "start_time": "2021-12-28T11:08:06.262Z"
   },
   {
    "duration": 287,
    "start_time": "2021-12-28T11:12:40.779Z"
   },
   {
    "duration": 2142,
    "start_time": "2021-12-29T07:32:53.434Z"
   },
   {
    "duration": 816,
    "start_time": "2021-12-29T07:32:55.580Z"
   },
   {
    "duration": 116,
    "start_time": "2021-12-29T07:32:56.401Z"
   },
   {
    "duration": 105,
    "start_time": "2021-12-29T07:32:56.521Z"
   },
   {
    "duration": 38,
    "start_time": "2021-12-29T07:32:56.629Z"
   },
   {
    "duration": 73,
    "start_time": "2021-12-29T07:32:56.670Z"
   },
   {
    "duration": 27,
    "start_time": "2021-12-29T07:32:56.746Z"
   },
   {
    "duration": 224,
    "start_time": "2021-12-29T07:32:56.777Z"
   },
   {
    "duration": 573,
    "start_time": "2021-12-29T07:32:57.005Z"
   },
   {
    "duration": 45,
    "start_time": "2021-12-29T07:32:57.582Z"
   },
   {
    "duration": 88,
    "start_time": "2021-12-29T07:32:57.631Z"
   },
   {
    "duration": 27,
    "start_time": "2021-12-29T07:32:57.722Z"
   },
   {
    "duration": 63,
    "start_time": "2021-12-29T07:32:57.753Z"
   },
   {
    "duration": 40,
    "start_time": "2021-12-29T07:32:57.820Z"
   },
   {
    "duration": 40,
    "start_time": "2021-12-29T07:32:57.862Z"
   },
   {
    "duration": 53,
    "start_time": "2021-12-29T07:32:57.917Z"
   },
   {
    "duration": 23,
    "start_time": "2021-12-29T07:32:58.010Z"
   },
   {
    "duration": 6,
    "start_time": "2021-12-29T07:32:58.298Z"
   },
   {
    "duration": 17,
    "start_time": "2021-12-29T07:32:58.469Z"
   },
   {
    "duration": 45,
    "start_time": "2021-12-29T07:32:58.950Z"
   },
   {
    "duration": 21,
    "start_time": "2021-12-29T07:32:59.265Z"
   },
   {
    "duration": 20,
    "start_time": "2021-12-29T07:35:52.668Z"
   },
   {
    "duration": 1057,
    "start_time": "2021-12-29T07:36:02.940Z"
   },
   {
    "duration": 6,
    "start_time": "2021-12-29T07:36:36.732Z"
   },
   {
    "duration": 7,
    "start_time": "2021-12-29T07:37:53.494Z"
   },
   {
    "duration": 1162,
    "start_time": "2021-12-29T10:48:02.217Z"
   },
   {
    "duration": 3,
    "start_time": "2021-12-29T10:52:06.333Z"
   },
   {
    "duration": 386,
    "start_time": "2021-12-29T10:52:08.731Z"
   },
   {
    "duration": 55,
    "start_time": "2021-12-29T10:52:09.777Z"
   },
   {
    "duration": 46,
    "start_time": "2021-12-29T10:52:10.566Z"
   },
   {
    "duration": 29,
    "start_time": "2021-12-29T10:52:10.891Z"
   },
   {
    "duration": 32,
    "start_time": "2021-12-29T10:52:11.073Z"
   },
   {
    "duration": 24,
    "start_time": "2021-12-29T10:52:11.420Z"
   },
   {
    "duration": 385,
    "start_time": "2021-12-29T10:52:12.233Z"
   },
   {
    "duration": 264,
    "start_time": "2021-12-29T10:52:58.222Z"
   },
   {
    "duration": 3,
    "start_time": "2021-12-29T10:53:27.266Z"
   },
   {
    "duration": 259,
    "start_time": "2021-12-29T10:53:33.260Z"
   },
   {
    "duration": 310,
    "start_time": "2021-12-29T10:56:13.281Z"
   },
   {
    "duration": 285,
    "start_time": "2021-12-29T10:56:26.850Z"
   },
   {
    "duration": 164,
    "start_time": "2021-12-29T10:57:21.926Z"
   },
   {
    "duration": 76,
    "start_time": "2021-12-29T10:57:38.886Z"
   },
   {
    "duration": 122,
    "start_time": "2021-12-29T10:57:41.762Z"
   },
   {
    "duration": 44,
    "start_time": "2021-12-29T10:57:55.935Z"
   },
   {
    "duration": 166,
    "start_time": "2021-12-29T10:57:59.867Z"
   },
   {
    "duration": 384,
    "start_time": "2021-12-29T11:04:23.565Z"
   },
   {
    "duration": 102,
    "start_time": "2021-12-29T11:04:31.751Z"
   },
   {
    "duration": 3,
    "start_time": "2021-12-29T11:04:51.146Z"
   },
   {
    "duration": 362,
    "start_time": "2021-12-29T11:04:51.597Z"
   },
   {
    "duration": 45,
    "start_time": "2021-12-29T11:04:51.961Z"
   },
   {
    "duration": 47,
    "start_time": "2021-12-29T11:04:52.008Z"
   },
   {
    "duration": 28,
    "start_time": "2021-12-29T11:04:52.125Z"
   },
   {
    "duration": 32,
    "start_time": "2021-12-29T11:04:52.286Z"
   },
   {
    "duration": 22,
    "start_time": "2021-12-29T11:04:52.927Z"
   },
   {
    "duration": 142,
    "start_time": "2021-12-29T11:04:55.825Z"
   },
   {
    "duration": 173,
    "start_time": "2021-12-29T11:04:58.395Z"
   },
   {
    "duration": 190,
    "start_time": "2021-12-29T11:05:19.054Z"
   },
   {
    "duration": 18,
    "start_time": "2021-12-29T11:05:20.282Z"
   },
   {
    "duration": 26,
    "start_time": "2021-12-29T11:05:21.908Z"
   },
   {
    "duration": 16,
    "start_time": "2021-12-29T11:05:22.163Z"
   },
   {
    "duration": 25,
    "start_time": "2021-12-29T11:05:23.790Z"
   },
   {
    "duration": 23,
    "start_time": "2021-12-29T11:05:24.053Z"
   },
   {
    "duration": 18,
    "start_time": "2021-12-29T11:05:25.867Z"
   },
   {
    "duration": 26,
    "start_time": "2021-12-29T11:05:26.102Z"
   },
   {
    "duration": 19,
    "start_time": "2021-12-29T11:05:28.867Z"
   },
   {
    "duration": 5,
    "start_time": "2021-12-29T11:05:29.996Z"
   },
   {
    "duration": 13,
    "start_time": "2021-12-29T11:05:30.448Z"
   },
   {
    "duration": 27,
    "start_time": "2021-12-29T11:05:38.852Z"
   },
   {
    "duration": 14,
    "start_time": "2021-12-29T11:05:39.972Z"
   },
   {
    "duration": 419,
    "start_time": "2021-12-29T12:02:14.590Z"
   },
   {
    "duration": 590,
    "start_time": "2021-12-29T12:06:47.580Z"
   },
   {
    "duration": 442,
    "start_time": "2021-12-29T12:32:02.708Z"
   },
   {
    "duration": 456,
    "start_time": "2021-12-29T12:38:02.410Z"
   },
   {
    "duration": 456,
    "start_time": "2021-12-29T12:38:28.419Z"
   },
   {
    "duration": 5,
    "start_time": "2021-12-29T12:42:40.540Z"
   },
   {
    "duration": 499,
    "start_time": "2021-12-29T12:42:54.544Z"
   },
   {
    "duration": 5,
    "start_time": "2021-12-29T12:43:33.939Z"
   },
   {
    "duration": 497,
    "start_time": "2021-12-29T12:43:36.054Z"
   },
   {
    "duration": 6,
    "start_time": "2021-12-29T12:43:56.718Z"
   },
   {
    "duration": 532,
    "start_time": "2021-12-29T12:43:58.963Z"
   },
   {
    "duration": 639,
    "start_time": "2021-12-29T12:48:08.253Z"
   },
   {
    "duration": 8,
    "start_time": "2021-12-29T12:48:29.496Z"
   },
   {
    "duration": 537,
    "start_time": "2021-12-29T12:49:05.152Z"
   },
   {
    "duration": 424,
    "start_time": "2021-12-29T12:52:41.297Z"
   },
   {
    "duration": 444,
    "start_time": "2021-12-29T12:54:09.724Z"
   },
   {
    "duration": 464,
    "start_time": "2021-12-29T12:54:38.029Z"
   },
   {
    "duration": 442,
    "start_time": "2021-12-29T13:06:36.379Z"
   },
   {
    "duration": 494,
    "start_time": "2021-12-29T13:08:47.700Z"
   },
   {
    "duration": 526,
    "start_time": "2021-12-29T13:09:01.152Z"
   },
   {
    "duration": 3,
    "start_time": "2021-12-29T13:11:55.382Z"
   },
   {
    "duration": 643,
    "start_time": "2021-12-29T13:12:33.528Z"
   },
   {
    "duration": 47,
    "start_time": "2021-12-29T13:12:51.175Z"
   },
   {
    "duration": 14,
    "start_time": "2021-12-29T13:16:16.098Z"
   },
   {
    "duration": 470,
    "start_time": "2021-12-29T13:55:47.169Z"
   },
   {
    "duration": 452,
    "start_time": "2021-12-29T14:04:22.705Z"
   },
   {
    "duration": 589,
    "start_time": "2021-12-29T14:04:35.839Z"
   },
   {
    "duration": 439,
    "start_time": "2021-12-29T14:12:38.151Z"
   },
   {
    "duration": 520,
    "start_time": "2021-12-29T14:14:05.570Z"
   },
   {
    "duration": 552,
    "start_time": "2021-12-29T14:14:25.181Z"
   },
   {
    "duration": 63755,
    "start_time": "2021-12-29T14:15:05.694Z"
   },
   {
    "duration": 10536,
    "start_time": "2021-12-29T14:27:14.641Z"
   },
   {
    "duration": 14,
    "start_time": "2021-12-29T14:27:39.004Z"
   },
   {
    "duration": 19,
    "start_time": "2021-12-29T14:27:45.345Z"
   },
   {
    "duration": 7011,
    "start_time": "2021-12-29T14:29:38.449Z"
   },
   {
    "duration": 11889,
    "start_time": "2021-12-29T14:29:50.838Z"
   },
   {
    "duration": 17,
    "start_time": "2021-12-29T14:30:09.686Z"
   },
   {
    "duration": 5,
    "start_time": "2021-12-29T14:31:26.388Z"
   },
   {
    "duration": 17,
    "start_time": "2021-12-29T14:31:29.287Z"
   },
   {
    "duration": 5,
    "start_time": "2021-12-29T14:31:41.424Z"
   },
   {
    "duration": 17,
    "start_time": "2021-12-29T14:31:44.046Z"
   },
   {
    "duration": 11806,
    "start_time": "2021-12-29T14:31:55.517Z"
   },
   {
    "duration": 19,
    "start_time": "2021-12-29T14:32:08.979Z"
   },
   {
    "duration": 6,
    "start_time": "2021-12-29T14:32:19.309Z"
   },
   {
    "duration": 10,
    "start_time": "2021-12-29T14:36:52.001Z"
   },
   {
    "duration": 7720,
    "start_time": "2021-12-29T14:37:30.808Z"
   },
   {
    "duration": 7337,
    "start_time": "2021-12-29T14:41:27.984Z"
   },
   {
    "duration": 26379,
    "start_time": "2021-12-29T14:41:45.367Z"
   },
   {
    "duration": 18,
    "start_time": "2021-12-29T14:42:16.812Z"
   },
   {
    "duration": 610,
    "start_time": "2021-12-29T15:08:38.253Z"
   },
   {
    "duration": 6537,
    "start_time": "2021-12-29T15:09:19.094Z"
   },
   {
    "duration": 8238,
    "start_time": "2021-12-29T15:09:58.859Z"
   },
   {
    "duration": 34392,
    "start_time": "2021-12-29T15:10:45.138Z"
   },
   {
    "duration": 15,
    "start_time": "2021-12-29T15:11:27.000Z"
   },
   {
    "duration": 233,
    "start_time": "2021-12-29T15:11:36.039Z"
   },
   {
    "duration": 423,
    "start_time": "2021-12-29T18:00:48.461Z"
   },
   {
    "duration": 1532,
    "start_time": "2021-12-29T18:00:56.847Z"
   },
   {
    "duration": 517,
    "start_time": "2021-12-29T18:00:58.382Z"
   },
   {
    "duration": 114,
    "start_time": "2021-12-29T18:00:58.903Z"
   },
   {
    "duration": 117,
    "start_time": "2021-12-29T18:00:59.021Z"
   },
   {
    "duration": 58,
    "start_time": "2021-12-29T18:00:59.141Z"
   },
   {
    "duration": 86,
    "start_time": "2021-12-29T18:00:59.202Z"
   },
   {
    "duration": 41,
    "start_time": "2021-12-29T18:00:59.291Z"
   },
   {
    "duration": 365,
    "start_time": "2021-12-29T18:00:59.335Z"
   },
   {
    "duration": 288,
    "start_time": "2021-12-29T18:01:00.189Z"
   },
   {
    "duration": 482,
    "start_time": "2021-12-29T18:01:03.300Z"
   },
   {
    "duration": 34,
    "start_time": "2021-12-29T18:01:04.843Z"
   },
   {
    "duration": 66,
    "start_time": "2021-12-29T18:01:04.880Z"
   },
   {
    "duration": 34,
    "start_time": "2021-12-29T18:01:04.950Z"
   },
   {
    "duration": 53,
    "start_time": "2021-12-29T18:01:04.987Z"
   },
   {
    "duration": 42,
    "start_time": "2021-12-29T18:01:05.789Z"
   },
   {
    "duration": 24,
    "start_time": "2021-12-29T18:01:05.958Z"
   },
   {
    "duration": 41,
    "start_time": "2021-12-29T18:01:06.111Z"
   },
   {
    "duration": 24,
    "start_time": "2021-12-29T18:01:07.048Z"
   },
   {
    "duration": 6,
    "start_time": "2021-12-29T18:01:07.389Z"
   },
   {
    "duration": 23,
    "start_time": "2021-12-29T18:01:07.769Z"
   },
   {
    "duration": 75,
    "start_time": "2021-12-29T18:01:10.241Z"
   },
   {
    "duration": 30,
    "start_time": "2021-12-29T18:01:10.861Z"
   },
   {
    "duration": 59232,
    "start_time": "2021-12-29T18:01:15.365Z"
   },
   {
    "duration": 565,
    "start_time": "2021-12-29T18:03:06.621Z"
   },
   {
    "duration": 476,
    "start_time": "2021-12-29T18:03:48.864Z"
   },
   {
    "duration": 482,
    "start_time": "2021-12-29T18:04:25.627Z"
   },
   {
    "duration": 487,
    "start_time": "2021-12-29T18:04:52.245Z"
   },
   {
    "duration": 501,
    "start_time": "2021-12-29T18:05:05.707Z"
   },
   {
    "duration": 499,
    "start_time": "2021-12-29T18:05:25.769Z"
   },
   {
    "duration": 485,
    "start_time": "2021-12-29T18:06:38.155Z"
   },
   {
    "duration": 16,
    "start_time": "2021-12-29T18:07:09.559Z"
   },
   {
    "duration": 17,
    "start_time": "2021-12-29T18:07:20.784Z"
   },
   {
    "duration": 96,
    "start_time": "2021-12-29T18:10:24.515Z"
   },
   {
    "duration": 9,
    "start_time": "2021-12-29T18:10:47.452Z"
   },
   {
    "duration": 22,
    "start_time": "2021-12-29T18:10:58.744Z"
   },
   {
    "duration": 7456,
    "start_time": "2021-12-29T18:11:15.882Z"
   },
   {
    "duration": 7173,
    "start_time": "2021-12-29T18:11:27.671Z"
   },
   {
    "duration": 145,
    "start_time": "2021-12-29T18:12:23.938Z"
   },
   {
    "duration": 8465,
    "start_time": "2021-12-29T18:12:32.275Z"
   },
   {
    "duration": 7145,
    "start_time": "2021-12-29T18:12:49.365Z"
   },
   {
    "duration": 6,
    "start_time": "2021-12-29T18:13:01.383Z"
   },
   {
    "duration": 7,
    "start_time": "2021-12-29T18:13:11.441Z"
   },
   {
    "duration": 7266,
    "start_time": "2021-12-29T18:13:23.563Z"
   },
   {
    "duration": 22,
    "start_time": "2021-12-29T18:14:00.935Z"
   },
   {
    "duration": 533,
    "start_time": "2021-12-29T18:15:19.623Z"
   },
   {
    "duration": 863,
    "start_time": "2021-12-29T18:17:46.516Z"
   },
   {
    "duration": 731,
    "start_time": "2021-12-29T18:18:01.398Z"
   },
   {
    "duration": 1940,
    "start_time": "2021-12-29T18:20:54.879Z"
   },
   {
    "duration": 1155,
    "start_time": "2021-12-31T13:25:32.480Z"
   },
   {
    "duration": 143,
    "start_time": "2021-12-31T13:25:42.006Z"
   },
   {
    "duration": 22,
    "start_time": "2021-12-31T13:25:49.690Z"
   },
   {
    "duration": 11,
    "start_time": "2021-12-31T13:25:57.915Z"
   },
   {
    "duration": 136,
    "start_time": "2021-12-31T13:26:06.142Z"
   },
   {
    "duration": 93,
    "start_time": "2021-12-31T13:26:13.420Z"
   },
   {
    "duration": 7,
    "start_time": "2021-12-31T13:26:35.720Z"
   },
   {
    "duration": 19,
    "start_time": "2021-12-31T13:26:43.692Z"
   },
   {
    "duration": 65,
    "start_time": "2021-12-31T13:26:54.991Z"
   },
   {
    "duration": 6,
    "start_time": "2021-12-31T13:27:02.086Z"
   },
   {
    "duration": 32,
    "start_time": "2021-12-31T13:27:18.278Z"
   },
   {
    "duration": 18,
    "start_time": "2021-12-31T13:27:26.824Z"
   },
   {
    "duration": 7,
    "start_time": "2021-12-31T13:27:37.809Z"
   },
   {
    "duration": 12,
    "start_time": "2021-12-31T13:27:45.068Z"
   },
   {
    "duration": 18,
    "start_time": "2021-12-31T13:28:28.731Z"
   },
   {
    "duration": 5,
    "start_time": "2021-12-31T13:28:40.422Z"
   },
   {
    "duration": 10,
    "start_time": "2021-12-31T13:28:47.289Z"
   },
   {
    "duration": 24,
    "start_time": "2021-12-31T13:29:00.597Z"
   },
   {
    "duration": 5,
    "start_time": "2021-12-31T13:29:07.810Z"
   },
   {
    "duration": 5,
    "start_time": "2021-12-31T13:29:14.790Z"
   },
   {
    "duration": 224,
    "start_time": "2021-12-31T13:29:25.100Z"
   },
   {
    "duration": 21,
    "start_time": "2021-12-31T13:29:33.543Z"
   },
   {
    "duration": 27,
    "start_time": "2021-12-31T13:29:40.503Z"
   },
   {
    "duration": 15,
    "start_time": "2021-12-31T13:29:47.194Z"
   },
   {
    "duration": 15,
    "start_time": "2021-12-31T13:29:56.200Z"
   },
   {
    "duration": 21,
    "start_time": "2021-12-31T13:30:03.628Z"
   },
   {
    "duration": 12,
    "start_time": "2021-12-31T13:30:10.195Z"
   },
   {
    "duration": 11,
    "start_time": "2021-12-31T13:30:25.652Z"
   },
   {
    "duration": 14,
    "start_time": "2021-12-31T13:30:35.973Z"
   },
   {
    "duration": 18,
    "start_time": "2021-12-31T13:30:45.790Z"
   },
   {
    "duration": 28,
    "start_time": "2021-12-31T13:30:57.656Z"
   },
   {
    "duration": 13,
    "start_time": "2021-12-31T13:31:03.252Z"
   },
   {
    "duration": 12,
    "start_time": "2021-12-31T13:31:12.321Z"
   },
   {
    "duration": 4,
    "start_time": "2021-12-31T13:31:18.498Z"
   },
   {
    "duration": 13,
    "start_time": "2021-12-31T13:31:26.288Z"
   },
   {
    "duration": 11,
    "start_time": "2021-12-31T13:31:34.141Z"
   },
   {
    "duration": 4,
    "start_time": "2021-12-31T13:31:43.419Z"
   },
   {
    "duration": 5,
    "start_time": "2021-12-31T13:31:53.067Z"
   },
   {
    "duration": 11,
    "start_time": "2021-12-31T13:32:00.991Z"
   },
   {
    "duration": 5,
    "start_time": "2021-12-31T13:33:50.737Z"
   },
   {
    "duration": 5745,
    "start_time": "2021-12-31T13:33:58.964Z"
   },
   {
    "duration": 5,
    "start_time": "2021-12-31T13:34:29.016Z"
   },
   {
    "duration": 45,
    "start_time": "2021-12-31T13:34:30.644Z"
   },
   {
    "duration": 11,
    "start_time": "2021-12-31T13:34:41.905Z"
   },
   {
    "duration": 283,
    "start_time": "2022-01-02T07:35:19.851Z"
   },
   {
    "duration": 1109,
    "start_time": "2022-01-02T07:35:23.299Z"
   },
   {
    "duration": 152,
    "start_time": "2022-01-02T07:35:24.410Z"
   },
   {
    "duration": 22,
    "start_time": "2022-01-02T07:35:24.565Z"
   },
   {
    "duration": 11,
    "start_time": "2022-01-02T07:35:24.589Z"
   },
   {
    "duration": 149,
    "start_time": "2022-01-02T07:35:24.602Z"
   },
   {
    "duration": 98,
    "start_time": "2022-01-02T07:35:24.761Z"
   },
   {
    "duration": 7,
    "start_time": "2022-01-02T07:35:24.861Z"
   },
   {
    "duration": 19,
    "start_time": "2022-01-02T07:35:24.870Z"
   },
   {
    "duration": 30,
    "start_time": "2022-01-02T07:35:24.891Z"
   },
   {
    "duration": 5,
    "start_time": "2022-01-02T07:35:24.923Z"
   },
   {
    "duration": 33,
    "start_time": "2022-01-02T07:35:24.930Z"
   },
   {
    "duration": 18,
    "start_time": "2022-01-02T07:35:24.965Z"
   },
   {
    "duration": 7,
    "start_time": "2022-01-02T07:35:25.119Z"
   },
   {
    "duration": 11,
    "start_time": "2022-01-02T07:35:25.297Z"
   },
   {
    "duration": 17,
    "start_time": "2022-01-02T07:35:25.486Z"
   },
   {
    "duration": 4,
    "start_time": "2022-01-02T07:35:25.666Z"
   },
   {
    "duration": 8,
    "start_time": "2022-01-02T07:35:25.822Z"
   },
   {
    "duration": 23,
    "start_time": "2022-01-02T07:35:26.021Z"
   },
   {
    "duration": 5,
    "start_time": "2022-01-02T07:35:26.180Z"
   },
   {
    "duration": 5,
    "start_time": "2022-01-02T07:35:26.381Z"
   },
   {
    "duration": 217,
    "start_time": "2022-01-02T07:35:26.562Z"
   },
   {
    "duration": 18,
    "start_time": "2022-01-02T07:35:26.782Z"
   },
   {
    "duration": 27,
    "start_time": "2022-01-02T07:35:26.909Z"
   },
   {
    "duration": 13,
    "start_time": "2022-01-02T07:35:27.064Z"
   },
   {
    "duration": 15,
    "start_time": "2022-01-02T07:35:27.231Z"
   },
   {
    "duration": 20,
    "start_time": "2022-01-02T07:35:27.409Z"
   },
   {
    "duration": 12,
    "start_time": "2022-01-02T07:35:27.560Z"
   },
   {
    "duration": 10,
    "start_time": "2022-01-02T07:35:28.019Z"
   },
   {
    "duration": 13,
    "start_time": "2022-01-02T07:35:28.175Z"
   },
   {
    "duration": 17,
    "start_time": "2022-01-02T07:35:28.631Z"
   },
   {
    "duration": 27,
    "start_time": "2022-01-02T07:35:28.809Z"
   },
   {
    "duration": 12,
    "start_time": "2022-01-02T07:35:28.975Z"
   },
   {
    "duration": 11,
    "start_time": "2022-01-02T07:35:29.140Z"
   },
   {
    "duration": 4,
    "start_time": "2022-01-02T07:35:29.298Z"
   },
   {
    "duration": 11,
    "start_time": "2022-01-02T07:35:29.466Z"
   },
   {
    "duration": 9,
    "start_time": "2022-01-02T07:35:29.651Z"
   },
   {
    "duration": 5,
    "start_time": "2022-01-02T07:35:29.821Z"
   },
   {
    "duration": 5,
    "start_time": "2022-01-02T07:35:30.018Z"
   },
   {
    "duration": 9,
    "start_time": "2022-01-02T07:35:30.154Z"
   },
   {
    "duration": 6,
    "start_time": "2022-01-02T07:35:30.335Z"
   },
   {
    "duration": 43,
    "start_time": "2022-01-02T07:35:31.178Z"
   },
   {
    "duration": 11,
    "start_time": "2022-01-02T07:35:31.670Z"
   },
   {
    "duration": 3,
    "start_time": "2022-01-02T07:37:55.203Z"
   },
   {
    "duration": 59,
    "start_time": "2022-01-02T07:40:51.454Z"
   },
   {
    "duration": 51,
    "start_time": "2022-01-02T07:41:17.790Z"
   },
   {
    "duration": 161,
    "start_time": "2022-01-02T07:41:29.437Z"
   },
   {
    "duration": 3,
    "start_time": "2022-01-02T07:41:31.180Z"
   },
   {
    "duration": 157,
    "start_time": "2022-01-02T07:41:32.269Z"
   },
   {
    "duration": 21,
    "start_time": "2022-01-02T07:41:32.795Z"
   },
   {
    "duration": 9,
    "start_time": "2022-01-02T07:41:35.277Z"
   },
   {
    "duration": 153,
    "start_time": "2022-01-02T07:41:40.226Z"
   },
   {
    "duration": 108,
    "start_time": "2022-01-02T07:41:44.589Z"
   },
   {
    "duration": 8,
    "start_time": "2022-01-02T07:41:46.317Z"
   },
   {
    "duration": 20,
    "start_time": "2022-01-02T07:41:51.333Z"
   },
   {
    "duration": 31,
    "start_time": "2022-01-02T07:41:54.415Z"
   },
   {
    "duration": 6,
    "start_time": "2022-01-02T07:41:56.181Z"
   },
   {
    "duration": 28,
    "start_time": "2022-01-02T07:42:05.311Z"
   },
   {
    "duration": 17,
    "start_time": "2022-01-02T07:42:05.781Z"
   },
   {
    "duration": 47,
    "start_time": "2022-01-02T07:42:06.376Z"
   },
   {
    "duration": 8,
    "start_time": "2022-01-02T07:42:07.042Z"
   },
   {
    "duration": 20,
    "start_time": "2022-01-02T07:42:13.444Z"
   },
   {
    "duration": 65,
    "start_time": "2022-01-02T07:42:19.340Z"
   },
   {
    "duration": 7,
    "start_time": "2022-01-02T07:42:22.184Z"
   },
   {
    "duration": 25,
    "start_time": "2022-01-02T07:42:27.142Z"
   },
   {
    "duration": 5,
    "start_time": "2022-01-02T07:42:32.290Z"
   },
   {
    "duration": 5,
    "start_time": "2022-01-02T07:42:36.287Z"
   },
   {
    "duration": 221,
    "start_time": "2022-01-02T07:42:39.667Z"
   },
   {
    "duration": 20,
    "start_time": "2022-01-02T07:42:44.434Z"
   },
   {
    "duration": 25,
    "start_time": "2022-01-02T07:42:47.682Z"
   },
   {
    "duration": 18,
    "start_time": "2022-01-02T07:42:56.361Z"
   },
   {
    "duration": 16,
    "start_time": "2022-01-02T07:43:00.125Z"
   },
   {
    "duration": 18,
    "start_time": "2022-01-02T07:43:11.375Z"
   },
   {
    "duration": 13,
    "start_time": "2022-01-02T07:43:11.933Z"
   },
   {
    "duration": 10,
    "start_time": "2022-01-02T07:43:16.176Z"
   },
   {
    "duration": 10,
    "start_time": "2022-01-02T07:43:20.636Z"
   },
   {
    "duration": 17,
    "start_time": "2022-01-02T07:43:22.021Z"
   },
   {
    "duration": 20,
    "start_time": "2022-01-02T07:43:27.987Z"
   },
   {
    "duration": 22,
    "start_time": "2022-01-02T07:43:32.233Z"
   },
   {
    "duration": 18,
    "start_time": "2022-01-02T07:43:37.773Z"
   },
   {
    "duration": 15,
    "start_time": "2022-01-02T07:43:40.073Z"
   },
   {
    "duration": 10,
    "start_time": "2022-01-02T07:43:51.584Z"
   },
   {
    "duration": 4,
    "start_time": "2022-01-02T07:43:56.313Z"
   },
   {
    "duration": 10,
    "start_time": "2022-01-02T07:44:03.506Z"
   },
   {
    "duration": 10,
    "start_time": "2022-01-02T07:44:09.732Z"
   },
   {
    "duration": 6,
    "start_time": "2022-01-02T07:44:21.784Z"
   },
   {
    "duration": 10,
    "start_time": "2022-01-02T07:44:25.334Z"
   },
   {
    "duration": 5,
    "start_time": "2022-01-02T07:44:25.445Z"
   },
   {
    "duration": 5,
    "start_time": "2022-01-02T07:47:02.951Z"
   },
   {
    "duration": 57,
    "start_time": "2022-01-02T07:47:18.338Z"
   },
   {
    "duration": 12,
    "start_time": "2022-01-02T07:47:20.880Z"
   },
   {
    "duration": 28,
    "start_time": "2022-01-02T07:49:31.017Z"
   },
   {
    "duration": 12,
    "start_time": "2022-01-02T07:49:41.468Z"
   },
   {
    "duration": 257,
    "start_time": "2022-01-02T07:51:11.236Z"
   },
   {
    "duration": 7,
    "start_time": "2022-01-02T07:51:26.007Z"
   },
   {
    "duration": 369,
    "start_time": "2022-01-02T07:51:51.473Z"
   },
   {
    "duration": 19,
    "start_time": "2022-01-02T07:52:02.161Z"
   },
   {
    "duration": 10,
    "start_time": "2022-01-02T07:52:28.153Z"
   },
   {
    "duration": 9,
    "start_time": "2022-01-02T07:53:22.174Z"
   },
   {
    "duration": 21,
    "start_time": "2022-01-02T07:55:15.097Z"
   },
   {
    "duration": 9,
    "start_time": "2022-01-02T07:56:21.355Z"
   },
   {
    "duration": 9,
    "start_time": "2022-01-02T07:56:29.491Z"
   },
   {
    "duration": 283,
    "start_time": "2022-01-02T07:59:28.202Z"
   },
   {
    "duration": 375,
    "start_time": "2022-01-02T08:01:13.977Z"
   },
   {
    "duration": 85,
    "start_time": "2022-01-02T08:01:34.172Z"
   },
   {
    "duration": 305,
    "start_time": "2022-01-02T08:02:07.887Z"
   },
   {
    "duration": 312,
    "start_time": "2022-01-02T08:02:35.661Z"
   },
   {
    "duration": 12,
    "start_time": "2022-01-02T08:04:15.780Z"
   },
   {
    "duration": 9,
    "start_time": "2022-01-02T08:06:40.573Z"
   },
   {
    "duration": 261,
    "start_time": "2022-01-02T08:08:29.643Z"
   },
   {
    "duration": 7,
    "start_time": "2022-01-02T08:09:05.609Z"
   },
   {
    "duration": 13,
    "start_time": "2022-01-02T08:12:28.574Z"
   },
   {
    "duration": 9,
    "start_time": "2022-01-02T08:12:53.012Z"
   },
   {
    "duration": 9,
    "start_time": "2022-01-02T08:13:12.948Z"
   },
   {
    "duration": 9,
    "start_time": "2022-01-02T08:13:30.636Z"
   },
   {
    "duration": 4,
    "start_time": "2022-01-02T08:16:09.778Z"
   },
   {
    "duration": 4,
    "start_time": "2022-01-02T08:16:20.921Z"
   },
   {
    "duration": 4,
    "start_time": "2022-01-02T08:16:35.400Z"
   },
   {
    "duration": 6,
    "start_time": "2022-01-02T08:18:00.759Z"
   },
   {
    "duration": 7,
    "start_time": "2022-01-02T08:22:37.116Z"
   },
   {
    "duration": 7,
    "start_time": "2022-01-02T08:22:44.205Z"
   },
   {
    "duration": 7,
    "start_time": "2022-01-02T08:22:52.695Z"
   },
   {
    "duration": 9,
    "start_time": "2022-01-02T08:23:06.784Z"
   },
   {
    "duration": 11,
    "start_time": "2022-01-02T08:23:10.458Z"
   },
   {
    "duration": 8,
    "start_time": "2022-01-02T08:23:12.274Z"
   },
   {
    "duration": 337,
    "start_time": "2022-01-02T08:24:49.714Z"
   },
   {
    "duration": 274,
    "start_time": "2022-01-02T08:25:02.637Z"
   },
   {
    "duration": 18,
    "start_time": "2022-01-02T08:25:26.755Z"
   },
   {
    "duration": 15,
    "start_time": "2022-01-02T08:25:48.570Z"
   },
   {
    "duration": 4,
    "start_time": "2022-01-02T08:26:16.295Z"
   },
   {
    "duration": 16,
    "start_time": "2022-01-02T08:28:17.907Z"
   },
   {
    "duration": 17,
    "start_time": "2022-01-02T08:37:37.448Z"
   },
   {
    "duration": 9,
    "start_time": "2022-01-02T08:37:51.421Z"
   },
   {
    "duration": 314,
    "start_time": "2022-01-02T08:40:15.823Z"
   },
   {
    "duration": 7,
    "start_time": "2022-01-02T08:40:58.897Z"
   },
   {
    "duration": 12,
    "start_time": "2022-01-02T08:41:46.745Z"
   },
   {
    "duration": 18,
    "start_time": "2022-01-02T08:42:12.385Z"
   },
   {
    "duration": 14,
    "start_time": "2022-01-02T08:44:10.079Z"
   },
   {
    "duration": 11,
    "start_time": "2022-01-02T08:44:26.081Z"
   },
   {
    "duration": 9,
    "start_time": "2022-01-02T08:44:56.211Z"
   },
   {
    "duration": 7,
    "start_time": "2022-01-02T08:46:28.782Z"
   },
   {
    "duration": 4,
    "start_time": "2022-01-02T08:46:35.519Z"
   },
   {
    "duration": 4,
    "start_time": "2022-01-02T08:46:38.053Z"
   },
   {
    "duration": 6,
    "start_time": "2022-01-02T08:48:38.461Z"
   },
   {
    "duration": 7,
    "start_time": "2022-01-02T08:49:46.226Z"
   },
   {
    "duration": 7,
    "start_time": "2022-01-02T08:49:50.021Z"
   },
   {
    "duration": 261,
    "start_time": "2022-01-02T08:50:04.178Z"
   },
   {
    "duration": 13,
    "start_time": "2022-01-02T08:50:10.287Z"
   },
   {
    "duration": 287,
    "start_time": "2022-01-02T08:50:20.538Z"
   },
   {
    "duration": 11,
    "start_time": "2022-01-02T08:50:27.520Z"
   },
   {
    "duration": 4,
    "start_time": "2022-01-02T08:50:32.672Z"
   },
   {
    "duration": 9,
    "start_time": "2022-01-02T08:50:38.309Z"
   },
   {
    "duration": 14,
    "start_time": "2022-01-02T08:51:02.702Z"
   },
   {
    "duration": 243,
    "start_time": "2022-01-02T08:55:59.064Z"
   },
   {
    "duration": 225,
    "start_time": "2022-01-02T08:57:31.379Z"
   },
   {
    "duration": 233,
    "start_time": "2022-01-02T09:01:16.782Z"
   },
   {
    "duration": 225,
    "start_time": "2022-01-02T09:03:19.123Z"
   },
   {
    "duration": 211,
    "start_time": "2022-01-02T09:04:46.085Z"
   },
   {
    "duration": 269,
    "start_time": "2022-01-02T09:06:00.420Z"
   },
   {
    "duration": 942,
    "start_time": "2022-01-02T09:13:31.637Z"
   },
   {
    "duration": 3,
    "start_time": "2022-01-02T09:19:04.774Z"
   },
   {
    "duration": 7,
    "start_time": "2022-01-02T09:19:27.116Z"
   },
   {
    "duration": 5,
    "start_time": "2022-01-02T09:19:42.624Z"
   },
   {
    "duration": 5,
    "start_time": "2022-01-02T09:20:00.674Z"
   },
   {
    "duration": 4,
    "start_time": "2022-01-02T09:20:15.317Z"
   },
   {
    "duration": 8098,
    "start_time": "2022-01-02T09:20:29.510Z"
   },
   {
    "duration": 7,
    "start_time": "2022-01-02T09:20:46.767Z"
   },
   {
    "duration": 4,
    "start_time": "2022-01-02T09:21:05.902Z"
   },
   {
    "duration": 5,
    "start_time": "2022-01-02T09:21:30.896Z"
   },
   {
    "duration": 7,
    "start_time": "2022-01-02T09:22:28.670Z"
   },
   {
    "duration": 8171,
    "start_time": "2022-01-02T09:22:52.451Z"
   },
   {
    "duration": 6,
    "start_time": "2022-01-02T09:23:12.108Z"
   },
   {
    "duration": 4,
    "start_time": "2022-01-02T09:23:31.686Z"
   },
   {
    "duration": 5,
    "start_time": "2022-01-02T09:23:58.045Z"
   },
   {
    "duration": 7,
    "start_time": "2022-01-02T09:24:54.721Z"
   },
   {
    "duration": -125,
    "start_time": "2022-01-02T09:25:18.722Z"
   },
   {
    "duration": 4,
    "start_time": "2022-01-02T09:25:20.621Z"
   },
   {
    "duration": 5,
    "start_time": "2022-01-02T09:25:51.000Z"
   },
   {
    "duration": 4,
    "start_time": "2022-01-02T09:26:35.621Z"
   },
   {
    "duration": 5,
    "start_time": "2022-01-02T09:26:44.674Z"
   },
   {
    "duration": 3,
    "start_time": "2022-01-02T09:27:06.253Z"
   },
   {
    "duration": 3,
    "start_time": "2022-01-02T09:27:09.494Z"
   },
   {
    "duration": 3,
    "start_time": "2022-01-02T09:29:24.219Z"
   },
   {
    "duration": 4,
    "start_time": "2022-01-02T09:29:41.290Z"
   },
   {
    "duration": 5,
    "start_time": "2022-01-02T09:29:51.950Z"
   },
   {
    "duration": 4,
    "start_time": "2022-01-02T09:30:19.992Z"
   },
   {
    "duration": 81,
    "start_time": "2022-01-02T09:32:26.274Z"
   },
   {
    "duration": 7,
    "start_time": "2022-01-02T09:33:23.228Z"
   },
   {
    "duration": 2,
    "start_time": "2022-01-02T09:33:28.820Z"
   },
   {
    "duration": -130,
    "start_time": "2022-01-02T09:33:42.835Z"
   },
   {
    "duration": 5,
    "start_time": "2022-01-02T09:33:43.555Z"
   },
   {
    "duration": 5,
    "start_time": "2022-01-02T09:33:57.342Z"
   },
   {
    "duration": 5,
    "start_time": "2022-01-02T09:34:09.201Z"
   },
   {
    "duration": 6,
    "start_time": "2022-01-02T09:34:28.962Z"
   },
   {
    "duration": 4,
    "start_time": "2022-01-02T09:34:52.712Z"
   },
   {
    "duration": 5,
    "start_time": "2022-01-02T09:34:58.643Z"
   },
   {
    "duration": 4,
    "start_time": "2022-01-02T09:35:23.040Z"
   },
   {
    "duration": 371,
    "start_time": "2022-01-04T11:19:10.784Z"
   },
   {
    "duration": 1559,
    "start_time": "2022-01-04T11:19:15.850Z"
   },
   {
    "duration": 206,
    "start_time": "2022-01-04T11:19:17.412Z"
   },
   {
    "duration": 28,
    "start_time": "2022-01-04T11:19:17.624Z"
   },
   {
    "duration": 15,
    "start_time": "2022-01-04T11:19:17.654Z"
   },
   {
    "duration": 213,
    "start_time": "2022-01-04T11:19:17.671Z"
   },
   {
    "duration": 133,
    "start_time": "2022-01-04T11:19:17.886Z"
   },
   {
    "duration": 11,
    "start_time": "2022-01-04T11:19:18.022Z"
   },
   {
    "duration": 21,
    "start_time": "2022-01-04T11:19:18.037Z"
   },
   {
    "duration": 70,
    "start_time": "2022-01-04T11:19:18.061Z"
   },
   {
    "duration": 8,
    "start_time": "2022-01-04T11:19:18.134Z"
   },
   {
    "duration": 385,
    "start_time": "2022-01-04T11:19:18.144Z"
   },
   {
    "duration": 1118,
    "start_time": "2022-01-04T11:19:17.413Z"
   },
   {
    "duration": 1114,
    "start_time": "2022-01-04T11:19:17.419Z"
   },
   {
    "duration": 1114,
    "start_time": "2022-01-04T11:19:17.421Z"
   },
   {
    "duration": 1108,
    "start_time": "2022-01-04T11:19:17.428Z"
   },
   {
    "duration": 1069,
    "start_time": "2022-01-04T11:19:17.469Z"
   },
   {
    "duration": 112,
    "start_time": "2022-01-04T11:19:18.549Z"
   },
   {
    "duration": 11,
    "start_time": "2022-01-04T11:19:18.718Z"
   },
   {
    "duration": 31,
    "start_time": "2022-01-04T11:19:18.878Z"
   },
   {
    "duration": 6,
    "start_time": "2022-01-04T11:19:19.048Z"
   },
   {
    "duration": 6,
    "start_time": "2022-01-04T11:19:19.201Z"
   },
   {
    "duration": 344,
    "start_time": "2022-01-04T11:19:19.364Z"
   },
   {
    "duration": 340,
    "start_time": "2022-01-04T11:19:19.710Z"
   },
   {
    "duration": 311,
    "start_time": "2022-01-04T11:19:20.375Z"
   },
   {
    "duration": 945,
    "start_time": "2022-01-04T11:19:19.744Z"
   },
   {
    "duration": 308,
    "start_time": "2022-01-04T11:19:20.878Z"
   },
   {
    "duration": 1111,
    "start_time": "2022-01-04T11:19:20.077Z"
   },
   {
    "duration": 302,
    "start_time": "2022-01-04T11:19:21.252Z"
   },
   {
    "duration": 1116,
    "start_time": "2022-01-04T11:19:20.441Z"
   },
   {
    "duration": 500,
    "start_time": "2022-01-04T11:19:21.688Z"
   },
   {
    "duration": 1095,
    "start_time": "2022-01-04T11:19:21.097Z"
   },
   {
    "duration": 1095,
    "start_time": "2022-01-04T11:19:21.099Z"
   },
   {
    "duration": 1095,
    "start_time": "2022-01-04T11:19:21.101Z"
   },
   {
    "duration": 1077,
    "start_time": "2022-01-04T11:19:21.121Z"
   },
   {
    "duration": 1072,
    "start_time": "2022-01-04T11:19:21.128Z"
   },
   {
    "duration": 1067,
    "start_time": "2022-01-04T11:19:21.135Z"
   },
   {
    "duration": 478,
    "start_time": "2022-01-04T11:19:24.385Z"
   },
   {
    "duration": 1112,
    "start_time": "2022-01-04T11:19:23.753Z"
   },
   {
    "duration": 1111,
    "start_time": "2022-01-04T11:19:23.755Z"
   },
   {
    "duration": 1112,
    "start_time": "2022-01-04T11:19:23.756Z"
   },
   {
    "duration": 1111,
    "start_time": "2022-01-04T11:19:23.758Z"
   },
   {
    "duration": 1110,
    "start_time": "2022-01-04T11:19:23.760Z"
   },
   {
    "duration": 1110,
    "start_time": "2022-01-04T11:19:23.762Z"
   },
   {
    "duration": 1110,
    "start_time": "2022-01-04T11:19:23.763Z"
   },
   {
    "duration": 1109,
    "start_time": "2022-01-04T11:19:23.765Z"
   },
   {
    "duration": 1070,
    "start_time": "2022-01-04T11:19:23.805Z"
   },
   {
    "duration": 1064,
    "start_time": "2022-01-04T11:19:23.813Z"
   },
   {
    "duration": 424,
    "start_time": "2022-01-04T11:19:25.125Z"
   },
   {
    "duration": 352,
    "start_time": "2022-01-04T11:19:25.747Z"
   },
   {
    "duration": 1121,
    "start_time": "2022-01-04T11:19:24.980Z"
   },
   {
    "duration": 593,
    "start_time": "2022-01-04T11:19:27.785Z"
   },
   {
    "duration": 1124,
    "start_time": "2022-01-04T11:19:27.258Z"
   },
   {
    "duration": 476,
    "start_time": "2022-01-04T11:19:28.424Z"
   },
   {
    "duration": 5,
    "start_time": "2022-01-04T11:19:32.484Z"
   },
   {
    "duration": 191,
    "start_time": "2022-01-04T11:19:32.942Z"
   },
   {
    "duration": 28,
    "start_time": "2022-01-04T11:19:33.698Z"
   },
   {
    "duration": 12,
    "start_time": "2022-01-04T11:19:34.293Z"
   },
   {
    "duration": 174,
    "start_time": "2022-01-04T11:19:34.739Z"
   },
   {
    "duration": 118,
    "start_time": "2022-01-04T11:19:35.146Z"
   },
   {
    "duration": 10,
    "start_time": "2022-01-04T11:19:35.329Z"
   },
   {
    "duration": 21,
    "start_time": "2022-01-04T11:19:35.537Z"
   },
   {
    "duration": 51,
    "start_time": "2022-01-04T11:19:35.759Z"
   },
   {
    "duration": 7,
    "start_time": "2022-01-04T11:19:35.941Z"
   },
   {
    "duration": 291,
    "start_time": "2022-01-04T11:19:36.114Z"
   },
   {
    "duration": 1121,
    "start_time": "2022-01-04T11:19:35.287Z"
   },
   {
    "duration": 23,
    "start_time": "2022-01-04T11:19:36.521Z"
   },
   {
    "duration": 67,
    "start_time": "2022-01-04T11:19:38.792Z"
   },
   {
    "duration": 10,
    "start_time": "2022-01-04T11:19:38.991Z"
   },
   {
    "duration": 23,
    "start_time": "2022-01-04T11:19:39.180Z"
   },
   {
    "duration": 79,
    "start_time": "2022-01-04T11:19:39.745Z"
   },
   {
    "duration": 11,
    "start_time": "2022-01-04T11:19:39.897Z"
   },
   {
    "duration": 28,
    "start_time": "2022-01-04T11:19:40.091Z"
   },
   {
    "duration": 7,
    "start_time": "2022-01-04T11:19:40.259Z"
   },
   {
    "duration": 6,
    "start_time": "2022-01-04T11:19:40.463Z"
   },
   {
    "duration": 337,
    "start_time": "2022-01-04T11:19:44.673Z"
   },
   {
    "duration": 372,
    "start_time": "2022-01-04T11:19:45.017Z"
   },
   {
    "duration": 370,
    "start_time": "2022-01-04T11:19:46.450Z"
   },
   {
    "duration": 439,
    "start_time": "2022-01-04T11:19:47.387Z"
   },
   {
    "duration": 21,
    "start_time": "2022-01-04T11:19:49.304Z"
   },
   {
    "duration": 26,
    "start_time": "2022-01-04T11:19:50.453Z"
   },
   {
    "duration": 27,
    "start_time": "2022-01-04T11:19:50.894Z"
   },
   {
    "duration": 311,
    "start_time": "2022-01-04T11:19:51.829Z"
   },
   {
    "duration": 330,
    "start_time": "2022-01-04T11:19:52.380Z"
   },
   {
    "duration": 31,
    "start_time": "2022-01-04T11:19:52.996Z"
   },
   {
    "duration": 39,
    "start_time": "2022-01-04T11:19:53.588Z"
   },
   {
    "duration": 27,
    "start_time": "2022-01-04T11:19:53.767Z"
   },
   {
    "duration": 286,
    "start_time": "2022-01-04T11:19:53.951Z"
   },
   {
    "duration": 1117,
    "start_time": "2022-01-04T11:19:53.123Z"
   },
   {
    "duration": 295,
    "start_time": "2022-01-04T11:19:54.304Z"
   },
   {
    "duration": 1097,
    "start_time": "2022-01-04T11:19:53.505Z"
   },
   {
    "duration": 291,
    "start_time": "2022-01-04T11:19:54.889Z"
   },
   {
    "duration": 1077,
    "start_time": "2022-01-04T11:19:54.106Z"
   },
   {
    "duration": 7,
    "start_time": "2022-01-04T11:19:55.459Z"
   },
   {
    "duration": 298,
    "start_time": "2022-01-04T11:19:55.657Z"
   },
   {
    "duration": 320,
    "start_time": "2022-01-04T11:19:58.158Z"
   },
   {
    "duration": 325,
    "start_time": "2022-01-04T11:19:58.507Z"
   },
   {
    "duration": 1120,
    "start_time": "2022-01-04T11:19:57.716Z"
   },
   {
    "duration": 300,
    "start_time": "2022-01-04T11:19:58.845Z"
   },
   {
    "duration": 1003,
    "start_time": "2022-01-04T11:19:58.145Z"
   },
   {
    "duration": 320,
    "start_time": "2022-01-04T11:19:59.437Z"
   },
   {
    "duration": 315,
    "start_time": "2022-01-04T11:19:59.786Z"
   },
   {
    "duration": 300,
    "start_time": "2022-01-04T11:20:00.248Z"
   },
   {
    "duration": 1118,
    "start_time": "2022-01-04T11:19:59.432Z"
   },
   {
    "duration": 290,
    "start_time": "2022-01-04T11:20:00.603Z"
   },
   {
    "duration": 286,
    "start_time": "2022-01-04T11:20:00.955Z"
   },
   {
    "duration": 308,
    "start_time": "2022-01-04T11:20:01.334Z"
   },
   {
    "duration": 443,
    "start_time": "2022-01-04T11:20:01.840Z"
   },
   {
    "duration": 1122,
    "start_time": "2022-01-04T11:20:01.163Z"
   },
   {
    "duration": 307,
    "start_time": "2022-01-04T11:20:02.411Z"
   },
   {
    "duration": 1122,
    "start_time": "2022-01-04T11:20:01.598Z"
   },
   {
    "duration": 287,
    "start_time": "2022-01-04T11:20:02.951Z"
   },
   {
    "duration": 1107,
    "start_time": "2022-01-04T11:20:02.135Z"
   },
   {
    "duration": 287,
    "start_time": "2022-01-04T11:20:03.318Z"
   },
   {
    "duration": 1088,
    "start_time": "2022-01-04T11:20:02.521Z"
   },
   {
    "duration": 302,
    "start_time": "2022-01-04T11:20:03.897Z"
   },
   {
    "duration": 988,
    "start_time": "2022-01-04T11:20:03.214Z"
   },
   {
    "duration": 291,
    "start_time": "2022-01-04T11:20:04.248Z"
   },
   {
    "duration": 298,
    "start_time": "2022-01-04T11:20:04.662Z"
   },
   {
    "duration": 300,
    "start_time": "2022-01-04T11:20:05.033Z"
   },
   {
    "duration": 1125,
    "start_time": "2022-01-04T11:20:04.212Z"
   },
   {
    "duration": 292,
    "start_time": "2022-01-04T11:20:05.397Z"
   },
   {
    "duration": 1119,
    "start_time": "2022-01-04T11:20:04.573Z"
   },
   {
    "duration": 311,
    "start_time": "2022-01-04T11:20:05.739Z"
   },
   {
    "duration": 1106,
    "start_time": "2022-01-04T11:20:04.947Z"
   },
   {
    "duration": 297,
    "start_time": "2022-01-04T11:20:06.321Z"
   },
   {
    "duration": 1007,
    "start_time": "2022-01-04T11:20:05.613Z"
   },
   {
    "duration": 317,
    "start_time": "2022-01-04T11:20:06.701Z"
   },
   {
    "duration": 317,
    "start_time": "2022-01-04T11:20:07.068Z"
   },
   {
    "duration": 1062,
    "start_time": "2022-01-04T11:20:06.326Z"
   },
   {
    "duration": 277,
    "start_time": "2022-01-04T11:20:07.666Z"
   },
   {
    "duration": 1091,
    "start_time": "2022-01-04T11:20:06.854Z"
   },
   {
    "duration": 343,
    "start_time": "2022-01-04T11:20:08.030Z"
   },
   {
    "duration": 1124,
    "start_time": "2022-01-04T11:20:07.251Z"
   },
   {
    "duration": 400,
    "start_time": "2022-01-04T11:20:08.418Z"
   },
   {
    "duration": 1117,
    "start_time": "2022-01-04T11:20:07.703Z"
   },
   {
    "duration": 418,
    "start_time": "2022-01-04T11:20:08.961Z"
   },
   {
    "duration": 1123,
    "start_time": "2022-01-04T11:20:08.259Z"
   },
   {
    "duration": 395,
    "start_time": "2022-01-04T11:20:09.523Z"
   },
   {
    "duration": 1125,
    "start_time": "2022-01-04T11:20:08.796Z"
   },
   {
    "duration": 297,
    "start_time": "2022-01-04T11:20:10.075Z"
   },
   {
    "duration": 1124,
    "start_time": "2022-01-04T11:20:09.250Z"
   },
   {
    "duration": 284,
    "start_time": "2022-01-04T11:20:10.599Z"
   },
   {
    "duration": 1124,
    "start_time": "2022-01-04T11:20:09.762Z"
   },
   {
    "duration": 286,
    "start_time": "2022-01-04T11:20:10.945Z"
   },
   {
    "duration": 1126,
    "start_time": "2022-01-04T11:20:10.108Z"
   },
   {
    "duration": 287,
    "start_time": "2022-01-04T11:20:11.664Z"
   },
   {
    "duration": 296,
    "start_time": "2022-01-04T11:20:12.160Z"
   },
   {
    "duration": 298,
    "start_time": "2022-01-04T11:20:13.646Z"
   },
   {
    "duration": 4,
    "start_time": "2022-01-04T11:20:25.882Z"
   },
   {
    "duration": 182,
    "start_time": "2022-01-04T11:20:26.289Z"
   },
   {
    "duration": 27,
    "start_time": "2022-01-04T11:20:26.609Z"
   },
   {
    "duration": 12,
    "start_time": "2022-01-04T11:20:52.086Z"
   },
   {
    "duration": 302,
    "start_time": "2022-01-04T11:21:08.882Z"
   },
   {
    "duration": 9,
    "start_time": "2022-01-04T11:21:13.986Z"
   },
   {
    "duration": 6,
    "start_time": "2022-01-04T11:21:14.581Z"
   },
   {
    "duration": 5,
    "start_time": "2022-01-04T11:21:15.086Z"
   },
   {
    "duration": 364,
    "start_time": "2022-01-04T11:21:15.923Z"
   },
   {
    "duration": 421,
    "start_time": "2022-01-04T11:21:18.132Z"
   },
   {
    "duration": 436,
    "start_time": "2022-01-04T11:22:49.083Z"
   },
   {
    "duration": 305,
    "start_time": "2022-01-04T11:24:02.881Z"
   },
   {
    "duration": 4,
    "start_time": "2022-01-04T11:25:36.854Z"
   },
   {
    "duration": 258,
    "start_time": "2022-01-04T11:25:37.151Z"
   },
   {
    "duration": 42,
    "start_time": "2022-01-04T11:25:38.268Z"
   },
   {
    "duration": 12,
    "start_time": "2022-01-04T11:25:40.274Z"
   },
   {
    "duration": 246,
    "start_time": "2022-01-04T11:25:42.785Z"
   },
   {
    "duration": 171,
    "start_time": "2022-01-04T11:25:44.716Z"
   },
   {
    "duration": 13,
    "start_time": "2022-01-04T11:25:47.090Z"
   },
   {
    "duration": 24,
    "start_time": "2022-01-04T11:25:47.757Z"
   },
   {
    "duration": 43,
    "start_time": "2022-01-04T11:25:48.332Z"
   },
   {
    "duration": 10,
    "start_time": "2022-01-04T11:25:50.659Z"
   },
   {
    "duration": 12,
    "start_time": "2022-01-04T11:25:51.284Z"
   },
   {
    "duration": 56,
    "start_time": "2022-01-04T11:25:51.822Z"
   },
   {
    "duration": 36,
    "start_time": "2022-01-04T11:25:52.280Z"
   },
   {
    "duration": 126,
    "start_time": "2022-01-04T11:25:52.764Z"
   },
   {
    "duration": 11,
    "start_time": "2022-01-04T11:25:53.275Z"
   },
   {
    "duration": 19,
    "start_time": "2022-01-04T11:25:55.292Z"
   },
   {
    "duration": 74,
    "start_time": "2022-01-04T11:25:55.647Z"
   },
   {
    "duration": 11,
    "start_time": "2022-01-04T11:25:56.244Z"
   },
   {
    "duration": 47,
    "start_time": "2022-01-04T11:25:58.571Z"
   },
   {
    "duration": 9,
    "start_time": "2022-01-04T11:25:58.979Z"
   },
   {
    "duration": 8,
    "start_time": "2022-01-04T11:25:59.337Z"
   },
   {
    "duration": 357,
    "start_time": "2022-01-04T11:26:00.086Z"
   },
   {
    "duration": 32,
    "start_time": "2022-01-04T11:26:01.707Z"
   },
   {
    "duration": 42,
    "start_time": "2022-01-04T11:26:06.545Z"
   },
   {
    "duration": 24,
    "start_time": "2022-01-04T11:26:11.906Z"
   },
   {
    "duration": 20,
    "start_time": "2022-01-04T11:26:14.684Z"
   },
   {
    "duration": 22,
    "start_time": "2022-01-04T11:26:15.109Z"
   },
   {
    "duration": 19,
    "start_time": "2022-01-04T11:26:15.621Z"
   },
   {
    "duration": 16,
    "start_time": "2022-01-04T11:26:16.312Z"
   },
   {
    "duration": 4,
    "start_time": "2022-01-04T11:26:26.367Z"
   },
   {
    "duration": 214,
    "start_time": "2022-01-04T11:26:26.374Z"
   },
   {
    "duration": 46,
    "start_time": "2022-01-04T11:26:26.591Z"
   },
   {
    "duration": 12,
    "start_time": "2022-01-04T11:26:26.640Z"
   },
   {
    "duration": 229,
    "start_time": "2022-01-04T11:26:26.654Z"
   },
   {
    "duration": 127,
    "start_time": "2022-01-04T11:26:26.886Z"
   },
   {
    "duration": 11,
    "start_time": "2022-01-04T11:26:27.016Z"
   },
   {
    "duration": 28,
    "start_time": "2022-01-04T11:26:27.030Z"
   },
   {
    "duration": 37,
    "start_time": "2022-01-04T11:26:27.060Z"
   },
   {
    "duration": 9,
    "start_time": "2022-01-04T11:26:27.099Z"
   },
   {
    "duration": 14,
    "start_time": "2022-01-04T11:26:27.110Z"
   },
   {
    "duration": 38,
    "start_time": "2022-01-04T11:26:27.126Z"
   },
   {
    "duration": 24,
    "start_time": "2022-01-04T11:26:27.167Z"
   },
   {
    "duration": 94,
    "start_time": "2022-01-04T11:26:27.193Z"
   },
   {
    "duration": 12,
    "start_time": "2022-01-04T11:26:27.290Z"
   },
   {
    "duration": 19,
    "start_time": "2022-01-04T11:26:27.324Z"
   },
   {
    "duration": 94,
    "start_time": "2022-01-04T11:26:27.345Z"
   },
   {
    "duration": 11,
    "start_time": "2022-01-04T11:26:27.442Z"
   },
   {
    "duration": 31,
    "start_time": "2022-01-04T11:26:27.460Z"
   },
   {
    "duration": 32,
    "start_time": "2022-01-04T11:26:27.495Z"
   },
   {
    "duration": 13,
    "start_time": "2022-01-04T11:26:27.530Z"
   },
   {
    "duration": 361,
    "start_time": "2022-01-04T11:26:27.546Z"
   },
   {
    "duration": 33,
    "start_time": "2022-01-04T11:26:27.910Z"
   },
   {
    "duration": 29,
    "start_time": "2022-01-04T11:26:27.945Z"
   },
   {
    "duration": 17,
    "start_time": "2022-01-04T11:26:27.976Z"
   },
   {
    "duration": 20,
    "start_time": "2022-01-04T11:26:28.023Z"
   },
   {
    "duration": 21,
    "start_time": "2022-01-04T11:26:28.045Z"
   },
   {
    "duration": 17,
    "start_time": "2022-01-04T11:26:28.069Z"
   },
   {
    "duration": 142,
    "start_time": "2022-01-04T11:26:28.089Z"
   },
   {
    "duration": 25,
    "start_time": "2022-01-04T11:26:28.233Z"
   },
   {
    "duration": 30,
    "start_time": "2022-01-04T11:26:28.260Z"
   },
   {
    "duration": 48,
    "start_time": "2022-01-04T11:26:28.292Z"
   },
   {
    "duration": 20,
    "start_time": "2022-01-04T11:26:28.343Z"
   },
   {
    "duration": 16,
    "start_time": "2022-01-04T11:26:28.365Z"
   },
   {
    "duration": 41,
    "start_time": "2022-01-04T11:26:28.384Z"
   },
   {
    "duration": 18,
    "start_time": "2022-01-04T11:26:28.428Z"
   },
   {
    "duration": 13,
    "start_time": "2022-01-04T11:26:28.449Z"
   },
   {
    "duration": 9,
    "start_time": "2022-01-04T11:26:28.464Z"
   },
   {
    "duration": 54,
    "start_time": "2022-01-04T11:26:28.475Z"
   },
   {
    "duration": 8,
    "start_time": "2022-01-04T11:26:28.533Z"
   },
   {
    "duration": 95,
    "start_time": "2022-01-04T11:26:28.543Z"
   },
   {
    "duration": 15,
    "start_time": "2022-01-04T11:26:28.640Z"
   },
   {
    "duration": 412,
    "start_time": "2022-01-04T11:26:28.657Z"
   },
   {
    "duration": 9,
    "start_time": "2022-01-04T11:26:29.071Z"
   },
   {
    "duration": 42,
    "start_time": "2022-01-04T11:26:29.082Z"
   },
   {
    "duration": 12,
    "start_time": "2022-01-04T11:26:29.127Z"
   },
   {
    "duration": 20,
    "start_time": "2022-01-04T11:26:29.142Z"
   },
   {
    "duration": 33,
    "start_time": "2022-01-04T11:26:29.164Z"
   },
   {
    "duration": 30,
    "start_time": "2022-01-04T11:26:29.200Z"
   },
   {
    "duration": 16,
    "start_time": "2022-01-04T11:26:29.233Z"
   },
   {
    "duration": 467,
    "start_time": "2022-01-04T11:26:29.251Z"
   },
   {
    "duration": 483,
    "start_time": "2022-01-04T11:26:29.723Z"
   },
   {
    "duration": 497,
    "start_time": "2022-01-04T11:26:30.209Z"
   },
   {
    "duration": 29,
    "start_time": "2022-01-04T11:26:30.709Z"
   },
   {
    "duration": 14,
    "start_time": "2022-01-04T11:26:30.747Z"
   },
   {
    "duration": 449,
    "start_time": "2022-01-04T11:26:30.766Z"
   },
   {
    "duration": 13,
    "start_time": "2022-01-04T11:26:31.217Z"
   },
   {
    "duration": 41,
    "start_time": "2022-01-04T11:26:31.233Z"
   },
   {
    "duration": 24,
    "start_time": "2022-01-04T11:26:31.277Z"
   },
   {
    "duration": 52,
    "start_time": "2022-01-04T11:26:31.303Z"
   },
   {
    "duration": 23,
    "start_time": "2022-01-04T11:26:31.357Z"
   },
   {
    "duration": 45,
    "start_time": "2022-01-04T11:26:31.382Z"
   },
   {
    "duration": 11,
    "start_time": "2022-01-04T11:26:31.429Z"
   },
   {
    "duration": 21,
    "start_time": "2022-01-04T11:26:31.443Z"
   },
   {
    "duration": 15,
    "start_time": "2022-01-04T11:26:31.466Z"
   },
   {
    "duration": 15,
    "start_time": "2022-01-04T11:26:31.484Z"
   },
   {
    "duration": 32,
    "start_time": "2022-01-04T11:26:31.501Z"
   },
   {
    "duration": 12,
    "start_time": "2022-01-04T11:26:31.535Z"
   },
   {
    "duration": 24,
    "start_time": "2022-01-04T11:26:31.550Z"
   },
   {
    "duration": 34,
    "start_time": "2022-01-04T11:26:31.576Z"
   },
   {
    "duration": 20,
    "start_time": "2022-01-04T11:26:31.613Z"
   },
   {
    "duration": 32,
    "start_time": "2022-01-04T11:26:31.635Z"
   },
   {
    "duration": 17,
    "start_time": "2022-01-04T11:26:31.669Z"
   },
   {
    "duration": 17,
    "start_time": "2022-01-04T11:26:31.688Z"
   },
   {
    "duration": 441,
    "start_time": "2022-01-04T11:26:31.707Z"
   },
   {
    "duration": 8,
    "start_time": "2022-01-04T11:26:32.150Z"
   },
   {
    "duration": 21,
    "start_time": "2022-01-04T11:26:32.161Z"
   },
   {
    "duration": 45,
    "start_time": "2022-01-04T11:26:32.184Z"
   },
   {
    "duration": 23,
    "start_time": "2022-01-04T11:26:32.232Z"
   },
   {
    "duration": 12,
    "start_time": "2022-01-04T11:26:32.257Z"
   },
   {
    "duration": 14,
    "start_time": "2022-01-04T11:26:32.271Z"
   },
   {
    "duration": 9,
    "start_time": "2022-01-04T11:26:32.287Z"
   },
   {
    "duration": 28,
    "start_time": "2022-01-04T11:26:32.298Z"
   },
   {
    "duration": 7,
    "start_time": "2022-01-04T11:26:32.328Z"
   },
   {
    "duration": 8,
    "start_time": "2022-01-04T11:26:32.337Z"
   },
   {
    "duration": 21,
    "start_time": "2022-01-04T11:26:32.347Z"
   },
   {
    "duration": 21,
    "start_time": "2022-01-04T11:26:32.370Z"
   },
   {
    "duration": 34,
    "start_time": "2022-01-04T11:26:32.394Z"
   },
   {
    "duration": 17,
    "start_time": "2022-01-04T11:26:32.430Z"
   },
   {
    "duration": 13,
    "start_time": "2022-01-04T11:26:32.449Z"
   },
   {
    "duration": 13,
    "start_time": "2022-01-04T11:26:32.464Z"
   },
   {
    "duration": 47,
    "start_time": "2022-01-04T11:26:32.480Z"
   },
   {
    "duration": 373,
    "start_time": "2022-01-04T11:26:32.529Z"
   },
   {
    "duration": 431,
    "start_time": "2022-01-04T11:26:32.904Z"
   },
   {
    "duration": 367,
    "start_time": "2022-01-04T11:26:33.337Z"
   },
   {
    "duration": 406,
    "start_time": "2022-01-04T11:26:33.707Z"
   },
   {
    "duration": 488,
    "start_time": "2022-01-04T11:26:34.115Z"
   },
   {
    "duration": 404,
    "start_time": "2022-01-04T11:26:34.606Z"
   },
   {
    "duration": 1631,
    "start_time": "2022-01-04T11:26:35.012Z"
   },
   {
    "duration": 4,
    "start_time": "2022-01-04T11:26:36.646Z"
   },
   {
    "duration": 15,
    "start_time": "2022-01-04T11:26:36.652Z"
   },
   {
    "duration": 11,
    "start_time": "2022-01-04T11:26:36.669Z"
   },
   {
    "duration": 5,
    "start_time": "2022-01-04T11:26:36.683Z"
   },
   {
    "duration": 34,
    "start_time": "2022-01-04T11:26:36.691Z"
   },
   {
    "duration": 10,
    "start_time": "2022-01-04T11:26:36.728Z"
   },
   {
    "duration": 7,
    "start_time": "2022-01-04T11:26:36.741Z"
   },
   {
    "duration": 9,
    "start_time": "2022-01-04T11:26:36.751Z"
   },
   {
    "duration": 11,
    "start_time": "2022-01-04T11:26:36.763Z"
   },
   {
    "duration": 48,
    "start_time": "2022-01-04T11:26:36.777Z"
   },
   {
    "duration": 13,
    "start_time": "2022-01-04T11:26:36.828Z"
   },
   {
    "duration": 6,
    "start_time": "2022-01-04T11:26:36.843Z"
   },
   {
    "duration": 5,
    "start_time": "2022-01-04T11:26:36.852Z"
   },
   {
    "duration": 9,
    "start_time": "2022-01-04T11:26:36.860Z"
   },
   {
    "duration": 8,
    "start_time": "2022-01-04T11:26:36.872Z"
   },
   {
    "duration": 42,
    "start_time": "2022-01-04T11:26:36.882Z"
   },
   {
    "duration": 6,
    "start_time": "2022-01-04T11:26:36.926Z"
   },
   {
    "duration": 8,
    "start_time": "2022-01-04T11:26:36.934Z"
   },
   {
    "duration": 10,
    "start_time": "2022-01-04T11:26:36.944Z"
   },
   {
    "duration": 13,
    "start_time": "2022-01-04T11:26:36.956Z"
   },
   {
    "duration": 12,
    "start_time": "2022-01-04T11:26:36.972Z"
   },
   {
    "duration": 38,
    "start_time": "2022-01-04T11:26:36.987Z"
   },
   {
    "duration": 18,
    "start_time": "2022-01-04T11:26:37.028Z"
   },
   {
    "duration": 7,
    "start_time": "2022-01-04T11:26:37.048Z"
   },
   {
    "duration": 8,
    "start_time": "2022-01-04T11:26:37.057Z"
   },
   {
    "duration": 7,
    "start_time": "2022-01-04T11:26:37.068Z"
   },
   {
    "duration": 10,
    "start_time": "2022-01-04T11:26:37.077Z"
   },
   {
    "duration": 37,
    "start_time": "2022-01-04T11:26:37.089Z"
   },
   {
    "duration": 54,
    "start_time": "2022-01-04T11:27:43.776Z"
   },
   {
    "duration": 49,
    "start_time": "2022-01-04T11:27:54.091Z"
   },
   {
    "duration": 84,
    "start_time": "2022-01-04T11:28:04.293Z"
   },
   {
    "duration": 8,
    "start_time": "2022-01-04T11:28:27.148Z"
   },
   {
    "duration": 5,
    "start_time": "2022-01-04T11:35:01.437Z"
   },
   {
    "duration": 287,
    "start_time": "2022-01-05T09:49:24.102Z"
   },
   {
    "duration": 1170,
    "start_time": "2022-01-05T09:49:29.232Z"
   },
   {
    "duration": 152,
    "start_time": "2022-01-05T09:49:30.404Z"
   },
   {
    "duration": 22,
    "start_time": "2022-01-05T09:49:30.558Z"
   },
   {
    "duration": 12,
    "start_time": "2022-01-05T09:49:30.582Z"
   },
   {
    "duration": 153,
    "start_time": "2022-01-05T09:49:30.596Z"
   },
   {
    "duration": 96,
    "start_time": "2022-01-05T09:49:30.751Z"
   },
   {
    "duration": 7,
    "start_time": "2022-01-05T09:49:30.860Z"
   },
   {
    "duration": 28,
    "start_time": "2022-01-05T09:49:30.869Z"
   },
   {
    "duration": 46,
    "start_time": "2022-01-05T09:49:30.899Z"
   },
   {
    "duration": 18,
    "start_time": "2022-01-05T09:49:30.946Z"
   },
   {
    "duration": 22,
    "start_time": "2022-01-05T09:49:30.965Z"
   },
   {
    "duration": 126,
    "start_time": "2022-01-05T09:49:30.989Z"
   },
   {
    "duration": 57,
    "start_time": "2022-01-05T09:49:31.117Z"
   },
   {
    "duration": 63,
    "start_time": "2022-01-05T09:49:31.176Z"
   },
   {
    "duration": 23,
    "start_time": "2022-01-05T09:49:31.241Z"
   },
   {
    "duration": 40,
    "start_time": "2022-01-05T09:49:31.266Z"
   },
   {
    "duration": 17,
    "start_time": "2022-01-05T09:49:31.308Z"
   },
   {
    "duration": 66,
    "start_time": "2022-01-05T09:49:31.326Z"
   },
   {
    "duration": 8,
    "start_time": "2022-01-05T09:49:31.393Z"
   },
   {
    "duration": 26,
    "start_time": "2022-01-05T09:49:31.402Z"
   },
   {
    "duration": 80,
    "start_time": "2022-01-05T09:49:31.430Z"
   },
   {
    "duration": 9,
    "start_time": "2022-01-05T09:49:31.512Z"
   },
   {
    "duration": 44,
    "start_time": "2022-01-05T09:49:31.526Z"
   },
   {
    "duration": 5,
    "start_time": "2022-01-05T09:49:31.573Z"
   },
   {
    "duration": 24,
    "start_time": "2022-01-05T09:49:31.581Z"
   },
   {
    "duration": 226,
    "start_time": "2022-01-05T09:49:31.607Z"
   },
   {
    "duration": 28,
    "start_time": "2022-01-05T09:49:31.835Z"
   },
   {
    "duration": 23,
    "start_time": "2022-01-05T09:49:31.865Z"
   },
   {
    "duration": 13,
    "start_time": "2022-01-05T09:49:31.890Z"
   },
   {
    "duration": 17,
    "start_time": "2022-01-05T09:49:31.905Z"
   },
   {
    "duration": 45,
    "start_time": "2022-01-05T09:49:31.923Z"
   },
   {
    "duration": 12,
    "start_time": "2022-01-05T09:49:31.970Z"
   },
   {
    "duration": 17,
    "start_time": "2022-01-05T09:49:31.984Z"
   },
   {
    "duration": 15,
    "start_time": "2022-01-05T09:49:32.002Z"
   },
   {
    "duration": 42,
    "start_time": "2022-01-05T09:49:32.019Z"
   },
   {
    "duration": 23,
    "start_time": "2022-01-05T09:49:32.063Z"
   },
   {
    "duration": 11,
    "start_time": "2022-01-05T09:49:32.088Z"
   },
   {
    "duration": 14,
    "start_time": "2022-01-05T09:49:32.101Z"
   },
   {
    "duration": 4,
    "start_time": "2022-01-05T09:49:32.118Z"
   },
   {
    "duration": 48,
    "start_time": "2022-01-05T09:49:32.124Z"
   },
   {
    "duration": 12,
    "start_time": "2022-01-05T09:49:32.174Z"
   },
   {
    "duration": 9,
    "start_time": "2022-01-05T09:49:32.188Z"
   },
   {
    "duration": 14,
    "start_time": "2022-01-05T09:49:32.199Z"
   },
   {
    "duration": 5,
    "start_time": "2022-01-05T09:49:32.214Z"
   },
   {
    "duration": 74,
    "start_time": "2022-01-05T09:49:32.221Z"
   },
   {
    "duration": 10,
    "start_time": "2022-01-05T09:49:32.296Z"
   },
   {
    "duration": 243,
    "start_time": "2022-01-05T09:49:32.308Z"
   },
   {
    "duration": 7,
    "start_time": "2022-01-05T09:49:32.560Z"
   },
   {
    "duration": 14,
    "start_time": "2022-01-05T09:49:32.569Z"
   },
   {
    "duration": 9,
    "start_time": "2022-01-05T09:49:32.584Z"
   },
   {
    "duration": 16,
    "start_time": "2022-01-05T09:49:32.594Z"
   },
   {
    "duration": 49,
    "start_time": "2022-01-05T09:49:32.612Z"
   },
   {
    "duration": 11,
    "start_time": "2022-01-05T09:49:32.663Z"
   },
   {
    "duration": 10,
    "start_time": "2022-01-05T09:49:32.675Z"
   },
   {
    "duration": 293,
    "start_time": "2022-01-05T09:49:32.687Z"
   },
   {
    "duration": 289,
    "start_time": "2022-01-05T09:49:32.981Z"
   },
   {
    "duration": 292,
    "start_time": "2022-01-05T09:49:33.271Z"
   },
   {
    "duration": 12,
    "start_time": "2022-01-05T09:49:33.564Z"
   },
   {
    "duration": 27,
    "start_time": "2022-01-05T09:49:33.577Z"
   },
   {
    "duration": 490,
    "start_time": "2022-01-05T09:49:33.606Z"
   },
   {
    "duration": 8,
    "start_time": "2022-01-05T09:49:34.099Z"
   },
   {
    "duration": 18,
    "start_time": "2022-01-05T09:49:34.109Z"
   },
   {
    "duration": 35,
    "start_time": "2022-01-05T09:49:34.129Z"
   },
   {
    "duration": 13,
    "start_time": "2022-01-05T09:49:34.165Z"
   },
   {
    "duration": 16,
    "start_time": "2022-01-05T09:49:34.180Z"
   },
   {
    "duration": 22,
    "start_time": "2022-01-05T09:49:34.198Z"
   },
   {
    "duration": 21,
    "start_time": "2022-01-05T09:49:34.221Z"
   },
   {
    "duration": 7,
    "start_time": "2022-01-05T09:49:34.248Z"
   },
   {
    "duration": 6,
    "start_time": "2022-01-05T09:49:34.258Z"
   },
   {
    "duration": 16,
    "start_time": "2022-01-05T09:49:34.265Z"
   },
   {
    "duration": 12,
    "start_time": "2022-01-05T09:49:34.283Z"
   },
   {
    "duration": 28,
    "start_time": "2022-01-05T09:49:34.297Z"
   },
   {
    "duration": 19,
    "start_time": "2022-01-05T09:49:34.327Z"
   },
   {
    "duration": 28,
    "start_time": "2022-01-05T09:49:34.348Z"
   },
   {
    "duration": 8,
    "start_time": "2022-01-05T09:49:34.378Z"
   },
   {
    "duration": 30,
    "start_time": "2022-01-05T09:49:34.388Z"
   },
   {
    "duration": 12,
    "start_time": "2022-01-05T09:49:34.420Z"
   },
   {
    "duration": 15,
    "start_time": "2022-01-05T09:49:34.434Z"
   },
   {
    "duration": 287,
    "start_time": "2022-01-05T09:49:34.451Z"
   },
   {
    "duration": 5,
    "start_time": "2022-01-05T09:49:34.740Z"
   },
   {
    "duration": 35,
    "start_time": "2022-01-05T09:49:34.747Z"
   },
   {
    "duration": 36,
    "start_time": "2022-01-05T09:49:34.783Z"
   },
   {
    "duration": 47,
    "start_time": "2022-01-05T09:49:34.821Z"
   },
   {
    "duration": 15,
    "start_time": "2022-01-05T09:49:34.871Z"
   },
   {
    "duration": 32,
    "start_time": "2022-01-05T09:49:34.888Z"
   },
   {
    "duration": 13,
    "start_time": "2022-01-05T09:49:34.922Z"
   },
   {
    "duration": 9,
    "start_time": "2022-01-05T09:49:34.936Z"
   },
   {
    "duration": 15,
    "start_time": "2022-01-05T09:49:34.947Z"
   },
   {
    "duration": 12,
    "start_time": "2022-01-05T09:49:34.963Z"
   },
   {
    "duration": 25,
    "start_time": "2022-01-05T09:49:34.977Z"
   },
   {
    "duration": 15,
    "start_time": "2022-01-05T09:49:35.003Z"
   },
   {
    "duration": 17,
    "start_time": "2022-01-05T09:49:35.019Z"
   },
   {
    "duration": 30,
    "start_time": "2022-01-05T09:49:35.037Z"
   },
   {
    "duration": 26,
    "start_time": "2022-01-05T09:49:35.069Z"
   },
   {
    "duration": 11,
    "start_time": "2022-01-05T09:49:35.097Z"
   },
   {
    "duration": 31,
    "start_time": "2022-01-05T09:49:35.110Z"
   },
   {
    "duration": 229,
    "start_time": "2022-01-05T09:49:35.143Z"
   },
   {
    "duration": 236,
    "start_time": "2022-01-05T09:49:35.374Z"
   },
   {
    "duration": 214,
    "start_time": "2022-01-05T09:49:35.613Z"
   },
   {
    "duration": 227,
    "start_time": "2022-01-05T09:49:35.829Z"
   },
   {
    "duration": 211,
    "start_time": "2022-01-05T09:49:36.061Z"
   },
   {
    "duration": 223,
    "start_time": "2022-01-05T09:49:36.274Z"
   },
   {
    "duration": 860,
    "start_time": "2022-01-05T09:49:36.498Z"
   },
   {
    "duration": 2,
    "start_time": "2022-01-05T09:49:37.360Z"
   },
   {
    "duration": 10,
    "start_time": "2022-01-05T09:49:37.364Z"
   },
   {
    "duration": 6,
    "start_time": "2022-01-05T09:49:37.375Z"
   },
   {
    "duration": 5,
    "start_time": "2022-01-05T09:49:37.383Z"
   },
   {
    "duration": 9,
    "start_time": "2022-01-05T09:49:37.389Z"
   },
   {
    "duration": 7,
    "start_time": "2022-01-05T09:49:37.399Z"
   },
   {
    "duration": 6,
    "start_time": "2022-01-05T09:49:37.408Z"
   },
   {
    "duration": 46,
    "start_time": "2022-01-05T09:49:37.415Z"
   },
   {
    "duration": 7,
    "start_time": "2022-01-05T09:49:37.463Z"
   },
   {
    "duration": 12,
    "start_time": "2022-01-05T09:49:37.472Z"
   },
   {
    "duration": 12,
    "start_time": "2022-01-05T09:49:37.486Z"
   },
   {
    "duration": 11,
    "start_time": "2022-01-05T09:49:37.500Z"
   },
   {
    "duration": 5,
    "start_time": "2022-01-05T09:49:37.513Z"
   },
   {
    "duration": 6,
    "start_time": "2022-01-05T09:49:37.520Z"
   },
   {
    "duration": 33,
    "start_time": "2022-01-05T09:49:37.528Z"
   },
   {
    "duration": 10,
    "start_time": "2022-01-05T09:49:37.563Z"
   },
   {
    "duration": 6,
    "start_time": "2022-01-05T09:49:37.575Z"
   },
   {
    "duration": 6,
    "start_time": "2022-01-05T09:49:37.583Z"
   },
   {
    "duration": 6,
    "start_time": "2022-01-05T09:49:37.591Z"
   },
   {
    "duration": 5,
    "start_time": "2022-01-05T09:49:37.599Z"
   },
   {
    "duration": 5,
    "start_time": "2022-01-05T09:49:37.606Z"
   },
   {
    "duration": 52,
    "start_time": "2022-01-05T09:49:37.613Z"
   },
   {
    "duration": 4,
    "start_time": "2022-01-05T09:49:37.666Z"
   },
   {
    "duration": 5,
    "start_time": "2022-01-05T09:49:37.672Z"
   }
  ],
  "kernelspec": {
   "display_name": "Python 3 (ipykernel)",
   "language": "python",
   "name": "python3"
  },
  "language_info": {
   "codemirror_mode": {
    "name": "ipython",
    "version": 3
   },
   "file_extension": ".py",
   "mimetype": "text/x-python",
   "name": "python",
   "nbconvert_exporter": "python",
   "pygments_lexer": "ipython3",
   "version": "3.9.5"
  },
  "toc": {
   "base_numbering": 1,
   "nav_menu": {},
   "number_sections": true,
   "sideBar": true,
   "skip_h1_title": true,
   "title_cell": "Table of Contents",
   "title_sidebar": "Contents",
   "toc_cell": false,
   "toc_position": {},
   "toc_section_display": true,
   "toc_window_display": false
  }
 },
 "nbformat": 4,
 "nbformat_minor": 2
}
