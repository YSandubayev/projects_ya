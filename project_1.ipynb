{
 "cells": [
  {
   "cell_type": "markdown",
   "metadata": {},
   "source": [
    "Привет! Меня зовут Александр Арасланов, я провожу ревью твоей работы. Предалагю общаться на «ты», если не против.\n",
    "\n",
    "В работе ты увидишь комментарии, помеченные разным цветом.\n",
    "\n",
    "<div class=\"alert alert-danger\">\n",
    "Красным цветом помечены моменты, которые необходимо доработать, чтобы проект был принят. Уверен, что у тебя все получится. Буду ждать твою работу на повторное ревью. \n",
    "</div>\n",
    "\n",
    "<div class=\"alert alert-success\">\n",
    "Зеленым цветом помечены оброзцовые решения. Которые можно использовать в дальнейшем.\n",
    "</div>\n",
    "\n",
    "<div class=\"alert alert-warning\">\n",
    "Желтым цветом отмечено то, что ты можешь улучшить или доработать. Можешь учесть это при выполнении следующих работ или доработать проект сейчас, но это не обязательно.\n",
    "</div>\n",
    "\n",
    "\n",
    "Будет комфортнее работать над проектом вместе, если ты будешь **писать об изменениях** в проекте по моим рекомендациям. Для этого выбери для своих комментариев \n",
    "\n",
    "<div class=\"alert alert-block alert-info\">заметный цвет</div>\n",
    "\n",
    "Пожалуйста, **не перемещай, не изменяй и не удаляй мои комментарии**. Всё это поможет выполнить повторную проверку твоего проекта оперативнее.\n",
    "\n",
    "Ержан, пока не могу принять твою работу. В ней ты найдешь несколько рекомендаций и строгих замечаний, внеси исправления и присылай работу на повторную проверку"
   ]
  },
  {
   "cell_type": "markdown",
   "metadata": {
    "id": "E0vqbgi9ay0H"
   },
   "source": [
    "# Яндекс.Музыка"
   ]
  },
  {
   "cell_type": "markdown",
   "metadata": {
    "id": "VUC88oWjTJw2"
   },
   "source": [
    "Сравнение Москвы и Петербурга окружено мифами. Например:\n",
    " * Москва — мегаполис, подчинённый жёсткому ритму рабочей недели;\n",
    " * Петербург — культурная столица, со своими вкусами.\n",
    "\n",
    "На данных Яндекс.Музыки вы сравните поведение пользователей двух столиц.\n",
    "\n",
    "**Цель исследования** — проверьте три гипотезы:\n",
    "1. Активность пользователей зависит от дня недели. Причём в Москве и Петербурге это проявляется по-разному.\n",
    "2. В понедельник утром в Москве преобладают одни жанры, а в Петербурге — другие. Так же и вечером пятницы преобладают разные жанры — в зависимости от города. \n",
    "3. Москва и Петербург предпочитают разные жанры музыки. В Москве чаще слушают поп-музыку, в Петербурге — русский рэп.\n",
    "\n",
    "**Ход исследования**\n",
    "\n",
    "Данные о поведении пользователей вы получите из файла `yandex_music_project.csv`. О качестве данных ничего не известно. Поэтому перед проверкой гипотез понадобится обзор данных. \n",
    "\n",
    "Вы проверите данные на ошибки и оцените их влияние на исследование. Затем, на этапе предобработки вы поищете возможность исправить самые критичные ошибки данных.\n",
    " \n",
    "Таким образом, исследование пройдёт в три этапа:\n",
    " 1. Обзор данных.\n",
    " 2. Предобработка данных.\n",
    " 3. Проверка гипотез.\n",
    "\n"
   ]
  },
  {
   "cell_type": "markdown",
   "metadata": {
    "id": "Ml1hmfXC_Zcs"
   },
   "source": [
    "## Обзор данных\n",
    "\n",
    "Составьте первое представление о данных Яндекс.Музыки.\n",
    "\n",
    "\n"
   ]
  },
  {
   "cell_type": "markdown",
   "metadata": {
    "id": "57eAOGIz_Zcs"
   },
   "source": [
    "Основной инструмент аналитика — `pandas`. Импортируйте эту библиотеку."
   ]
  },
  {
   "cell_type": "code",
   "execution_count": 2,
   "metadata": {
    "id": "AXN7PHPN_Zcs"
   },
   "outputs": [],
   "source": [
    "import pandas as pd\n"
   ]
  },
  {
   "cell_type": "markdown",
   "metadata": {
    "id": "SG23P8tt_Zcs"
   },
   "source": [
    "Прочитайте файл `yandex_music_project.csv` из папки `/datasets` и сохраните его в переменной `df`:"
   ]
  },
  {
   "cell_type": "code",
   "execution_count": 7,
   "metadata": {
    "id": "fFVu7vqh_Zct"
   },
   "outputs": [
    {
     "ename": "OSError",
     "evalue": "[Errno 30] Read-only file system: '/datasets/music_project.csv'",
     "output_type": "error",
     "traceback": [
      "\u001b[0;31m---------------------------------------------------------------------------\u001b[0m",
      "\u001b[0;31mOSError\u001b[0m                                   Traceback (most recent call last)",
      "\u001b[0;32m<ipython-input-7-34c8e488edf7>\u001b[0m in \u001b[0;36m<module>\u001b[0;34m\u001b[0m\n\u001b[1;32m      1\u001b[0m \u001b[0;32mimport\u001b[0m \u001b[0mpandas\u001b[0m \u001b[0;32mas\u001b[0m \u001b[0mpd\u001b[0m\u001b[0;34m\u001b[0m\u001b[0;34m\u001b[0m\u001b[0m\n\u001b[1;32m      2\u001b[0m \u001b[0mdf\u001b[0m \u001b[0;34m=\u001b[0m \u001b[0mpd\u001b[0m\u001b[0;34m.\u001b[0m\u001b[0mread_csv\u001b[0m\u001b[0;34m(\u001b[0m\u001b[0;34m'/datasets/music_project.csv'\u001b[0m\u001b[0;34m)\u001b[0m\u001b[0;34m\u001b[0m\u001b[0;34m\u001b[0m\u001b[0m\n\u001b[0;32m----> 3\u001b[0;31m \u001b[0mprint\u001b[0m\u001b[0;34m(\u001b[0m\u001b[0mdf\u001b[0m\u001b[0;34m.\u001b[0m\u001b[0mto_csv\u001b[0m\u001b[0;34m(\u001b[0m\u001b[0;34m'/datasets/music_project.csv'\u001b[0m\u001b[0;34m)\u001b[0m\u001b[0;34m)\u001b[0m\u001b[0;34m\u001b[0m\u001b[0;34m\u001b[0m\u001b[0m\n\u001b[0m\u001b[1;32m      4\u001b[0m \u001b[0;31m#display(df) #изменил print() на display()\u001b[0m\u001b[0;34m\u001b[0m\u001b[0;34m\u001b[0m\u001b[0;34m\u001b[0m\u001b[0m\n",
      "\u001b[0;32m/opt/conda/lib/python3.7/site-packages/pandas/core/generic.py\u001b[0m in \u001b[0;36mto_csv\u001b[0;34m(self, path_or_buf, sep, na_rep, float_format, columns, header, index, index_label, mode, encoding, compression, quoting, quotechar, line_terminator, chunksize, date_format, doublequote, escapechar, decimal)\u001b[0m\n\u001b[1;32m   3226\u001b[0m             \u001b[0mdecimal\u001b[0m\u001b[0;34m=\u001b[0m\u001b[0mdecimal\u001b[0m\u001b[0;34m,\u001b[0m\u001b[0;34m\u001b[0m\u001b[0;34m\u001b[0m\u001b[0m\n\u001b[1;32m   3227\u001b[0m         )\n\u001b[0;32m-> 3228\u001b[0;31m         \u001b[0mformatter\u001b[0m\u001b[0;34m.\u001b[0m\u001b[0msave\u001b[0m\u001b[0;34m(\u001b[0m\u001b[0;34m)\u001b[0m\u001b[0;34m\u001b[0m\u001b[0;34m\u001b[0m\u001b[0m\n\u001b[0m\u001b[1;32m   3229\u001b[0m \u001b[0;34m\u001b[0m\u001b[0m\n\u001b[1;32m   3230\u001b[0m         \u001b[0;32mif\u001b[0m \u001b[0mpath_or_buf\u001b[0m \u001b[0;32mis\u001b[0m \u001b[0;32mNone\u001b[0m\u001b[0;34m:\u001b[0m\u001b[0;34m\u001b[0m\u001b[0;34m\u001b[0m\u001b[0m\n",
      "\u001b[0;32m/opt/conda/lib/python3.7/site-packages/pandas/io/formats/csvs.py\u001b[0m in \u001b[0;36msave\u001b[0;34m(self)\u001b[0m\n\u001b[1;32m    181\u001b[0m                 \u001b[0mself\u001b[0m\u001b[0;34m.\u001b[0m\u001b[0mmode\u001b[0m\u001b[0;34m,\u001b[0m\u001b[0;34m\u001b[0m\u001b[0;34m\u001b[0m\u001b[0m\n\u001b[1;32m    182\u001b[0m                 \u001b[0mencoding\u001b[0m\u001b[0;34m=\u001b[0m\u001b[0mself\u001b[0m\u001b[0;34m.\u001b[0m\u001b[0mencoding\u001b[0m\u001b[0;34m,\u001b[0m\u001b[0;34m\u001b[0m\u001b[0;34m\u001b[0m\u001b[0m\n\u001b[0;32m--> 183\u001b[0;31m                 \u001b[0mcompression\u001b[0m\u001b[0;34m=\u001b[0m\u001b[0mself\u001b[0m\u001b[0;34m.\u001b[0m\u001b[0mcompression\u001b[0m\u001b[0;34m,\u001b[0m\u001b[0;34m\u001b[0m\u001b[0;34m\u001b[0m\u001b[0m\n\u001b[0m\u001b[1;32m    184\u001b[0m             )\n\u001b[1;32m    185\u001b[0m             \u001b[0mclose\u001b[0m \u001b[0;34m=\u001b[0m \u001b[0;32mTrue\u001b[0m\u001b[0;34m\u001b[0m\u001b[0;34m\u001b[0m\u001b[0m\n",
      "\u001b[0;32m/opt/conda/lib/python3.7/site-packages/pandas/io/common.py\u001b[0m in \u001b[0;36m_get_handle\u001b[0;34m(path_or_buf, mode, encoding, compression, memory_map, is_text)\u001b[0m\n\u001b[1;32m    397\u001b[0m         \u001b[0;32mif\u001b[0m \u001b[0mencoding\u001b[0m\u001b[0;34m:\u001b[0m\u001b[0;34m\u001b[0m\u001b[0;34m\u001b[0m\u001b[0m\n\u001b[1;32m    398\u001b[0m             \u001b[0;31m# Encoding\u001b[0m\u001b[0;34m\u001b[0m\u001b[0;34m\u001b[0m\u001b[0;34m\u001b[0m\u001b[0m\n\u001b[0;32m--> 399\u001b[0;31m             \u001b[0mf\u001b[0m \u001b[0;34m=\u001b[0m \u001b[0mopen\u001b[0m\u001b[0;34m(\u001b[0m\u001b[0mpath_or_buf\u001b[0m\u001b[0;34m,\u001b[0m \u001b[0mmode\u001b[0m\u001b[0;34m,\u001b[0m \u001b[0mencoding\u001b[0m\u001b[0;34m=\u001b[0m\u001b[0mencoding\u001b[0m\u001b[0;34m,\u001b[0m \u001b[0mnewline\u001b[0m\u001b[0;34m=\u001b[0m\u001b[0;34m\"\"\u001b[0m\u001b[0;34m)\u001b[0m\u001b[0;34m\u001b[0m\u001b[0;34m\u001b[0m\u001b[0m\n\u001b[0m\u001b[1;32m    400\u001b[0m         \u001b[0;32melif\u001b[0m \u001b[0mis_text\u001b[0m\u001b[0;34m:\u001b[0m\u001b[0;34m\u001b[0m\u001b[0;34m\u001b[0m\u001b[0m\n\u001b[1;32m    401\u001b[0m             \u001b[0;31m# No explicit encoding\u001b[0m\u001b[0;34m\u001b[0m\u001b[0;34m\u001b[0m\u001b[0;34m\u001b[0m\u001b[0m\n",
      "\u001b[0;31mOSError\u001b[0m: [Errno 30] Read-only file system: '/datasets/music_project.csv'"
     ]
    }
   ],
   "source": [
    "import pandas as pd\n",
    "df = pd.read_csv('/datasets/music_project.csv')\n",
    "print(df.to_csv('/datasets/music_project.csv'))\n",
    "#display(df) #изменил print() на display()"
   ]
  },
  {
   "cell_type": "markdown",
   "metadata": {},
   "source": [
    "<div class=\"alert alert-danger\">\n",
    "\n",
    "**Комментарий ревьюера**\n",
    "\n",
    "Здесь лучше использовать display вместо print. Не нужно каждый раз в ячейке имопртировать библиотеку и читать данные заново. Данные у тебя уже сохранились в твоей переменной df. Можешь просто в новых ячейках продолжать с ней работать</div>"
   ]
  },
  {
   "cell_type": "markdown",
   "metadata": {},
   "source": [
    "<div class=\"alert alert-success\">\n",
    "\n",
    "**Комментарий ревьюера V2**\n",
    "\n",
    "Исправления принял 👍</div>"
   ]
  },
  {
   "cell_type": "markdown",
   "metadata": {
    "id": "rDoOMd3uTqnZ"
   },
   "source": [
    "Выведите на экран первые десять строк таблицы:"
   ]
  },
  {
   "cell_type": "code",
   "execution_count": 3,
   "metadata": {
    "id": "oWTVX3gW_Zct"
   },
   "outputs": [
    {
     "data": {
      "text/html": [
       "<div>\n",
       "<style scoped>\n",
       "    .dataframe tbody tr th:only-of-type {\n",
       "        vertical-align: middle;\n",
       "    }\n",
       "\n",
       "    .dataframe tbody tr th {\n",
       "        vertical-align: top;\n",
       "    }\n",
       "\n",
       "    .dataframe thead th {\n",
       "        text-align: right;\n",
       "    }\n",
       "</style>\n",
       "<table border=\"1\" class=\"dataframe\">\n",
       "  <thead>\n",
       "    <tr style=\"text-align: right;\">\n",
       "      <th></th>\n",
       "      <th>userID</th>\n",
       "      <th>Track</th>\n",
       "      <th>artist</th>\n",
       "      <th>genre</th>\n",
       "      <th>City</th>\n",
       "      <th>time</th>\n",
       "      <th>Day</th>\n",
       "    </tr>\n",
       "  </thead>\n",
       "  <tbody>\n",
       "    <tr>\n",
       "      <td>0</td>\n",
       "      <td>FFB692EC</td>\n",
       "      <td>Kamigata To Boots</td>\n",
       "      <td>The Mass Missile</td>\n",
       "      <td>rock</td>\n",
       "      <td>Saint-Petersburg</td>\n",
       "      <td>20:28:33</td>\n",
       "      <td>Wednesday</td>\n",
       "    </tr>\n",
       "    <tr>\n",
       "      <td>1</td>\n",
       "      <td>55204538</td>\n",
       "      <td>Delayed Because of Accident</td>\n",
       "      <td>Andreas Rönnberg</td>\n",
       "      <td>rock</td>\n",
       "      <td>Moscow</td>\n",
       "      <td>14:07:09</td>\n",
       "      <td>Friday</td>\n",
       "    </tr>\n",
       "    <tr>\n",
       "      <td>2</td>\n",
       "      <td>20EC38</td>\n",
       "      <td>Funiculì funiculà</td>\n",
       "      <td>Mario Lanza</td>\n",
       "      <td>pop</td>\n",
       "      <td>Saint-Petersburg</td>\n",
       "      <td>20:58:07</td>\n",
       "      <td>Wednesday</td>\n",
       "    </tr>\n",
       "    <tr>\n",
       "      <td>3</td>\n",
       "      <td>A3DD03C9</td>\n",
       "      <td>Dragons in the Sunset</td>\n",
       "      <td>Fire + Ice</td>\n",
       "      <td>folk</td>\n",
       "      <td>Saint-Petersburg</td>\n",
       "      <td>08:37:09</td>\n",
       "      <td>Monday</td>\n",
       "    </tr>\n",
       "    <tr>\n",
       "      <td>4</td>\n",
       "      <td>E2DC1FAE</td>\n",
       "      <td>Soul People</td>\n",
       "      <td>Space Echo</td>\n",
       "      <td>dance</td>\n",
       "      <td>Moscow</td>\n",
       "      <td>08:34:34</td>\n",
       "      <td>Monday</td>\n",
       "    </tr>\n",
       "    <tr>\n",
       "      <td>5</td>\n",
       "      <td>842029A1</td>\n",
       "      <td>Преданная</td>\n",
       "      <td>IMPERVTOR</td>\n",
       "      <td>rusrap</td>\n",
       "      <td>Saint-Petersburg</td>\n",
       "      <td>13:09:41</td>\n",
       "      <td>Friday</td>\n",
       "    </tr>\n",
       "    <tr>\n",
       "      <td>6</td>\n",
       "      <td>4CB90AA5</td>\n",
       "      <td>True</td>\n",
       "      <td>Roman Messer</td>\n",
       "      <td>dance</td>\n",
       "      <td>Moscow</td>\n",
       "      <td>13:00:07</td>\n",
       "      <td>Wednesday</td>\n",
       "    </tr>\n",
       "    <tr>\n",
       "      <td>7</td>\n",
       "      <td>F03E1C1F</td>\n",
       "      <td>Feeling This Way</td>\n",
       "      <td>Polina Griffith</td>\n",
       "      <td>dance</td>\n",
       "      <td>Moscow</td>\n",
       "      <td>20:47:49</td>\n",
       "      <td>Wednesday</td>\n",
       "    </tr>\n",
       "    <tr>\n",
       "      <td>8</td>\n",
       "      <td>8FA1D3BE</td>\n",
       "      <td>И вновь продолжается бой</td>\n",
       "      <td>NaN</td>\n",
       "      <td>ruspop</td>\n",
       "      <td>Moscow</td>\n",
       "      <td>09:17:40</td>\n",
       "      <td>Friday</td>\n",
       "    </tr>\n",
       "    <tr>\n",
       "      <td>9</td>\n",
       "      <td>E772D5C0</td>\n",
       "      <td>Pessimist</td>\n",
       "      <td>NaN</td>\n",
       "      <td>dance</td>\n",
       "      <td>Saint-Petersburg</td>\n",
       "      <td>21:20:49</td>\n",
       "      <td>Wednesday</td>\n",
       "    </tr>\n",
       "  </tbody>\n",
       "</table>\n",
       "</div>"
      ],
      "text/plain": [
       "     userID                        Track            artist   genre  \\\n",
       "0  FFB692EC            Kamigata To Boots  The Mass Missile    rock   \n",
       "1  55204538  Delayed Because of Accident  Andreas Rönnberg    rock   \n",
       "2    20EC38            Funiculì funiculà       Mario Lanza     pop   \n",
       "3  A3DD03C9        Dragons in the Sunset        Fire + Ice    folk   \n",
       "4  E2DC1FAE                  Soul People        Space Echo   dance   \n",
       "5  842029A1                    Преданная         IMPERVTOR  rusrap   \n",
       "6  4CB90AA5                         True      Roman Messer   dance   \n",
       "7  F03E1C1F             Feeling This Way   Polina Griffith   dance   \n",
       "8  8FA1D3BE     И вновь продолжается бой               NaN  ruspop   \n",
       "9  E772D5C0                    Pessimist               NaN   dance   \n",
       "\n",
       "             City        time        Day  \n",
       "0  Saint-Petersburg  20:28:33  Wednesday  \n",
       "1            Moscow  14:07:09     Friday  \n",
       "2  Saint-Petersburg  20:58:07  Wednesday  \n",
       "3  Saint-Petersburg  08:37:09     Monday  \n",
       "4            Moscow  08:34:34     Monday  \n",
       "5  Saint-Petersburg  13:09:41     Friday  \n",
       "6            Moscow  13:00:07  Wednesday  \n",
       "7            Moscow  20:47:49  Wednesday  \n",
       "8            Moscow  09:17:40     Friday  \n",
       "9  Saint-Petersburg  21:20:49  Wednesday  "
      ]
     },
     "metadata": {},
     "output_type": "display_data"
    }
   ],
   "source": [
    "display(df.head(10))"
   ]
  },
  {
   "cell_type": "markdown",
   "metadata": {
    "id": "EO73Kwic_Zct"
   },
   "source": [
    "Одной командой получить общую информацию о таблице:"
   ]
  },
  {
   "cell_type": "code",
   "execution_count": 4,
   "metadata": {
    "id": "DSf2kIb-_Zct"
   },
   "outputs": [
    {
     "name": "stdout",
     "output_type": "stream",
     "text": [
      "<class 'pandas.core.frame.DataFrame'>\n",
      "RangeIndex: 65079 entries, 0 to 65078\n",
      "Data columns (total 7 columns):\n",
      "  userID    65079 non-null object\n",
      "Track       63848 non-null object\n",
      "artist      57876 non-null object\n",
      "genre       63881 non-null object\n",
      "  City      65079 non-null object\n",
      "time        65079 non-null object\n",
      "Day         65079 non-null object\n",
      "dtypes: object(7)\n",
      "memory usage: 3.5+ MB\n"
     ]
    },
    {
     "data": {
      "text/plain": [
       "None"
      ]
     },
     "metadata": {},
     "output_type": "display_data"
    }
   ],
   "source": [
    "display(df.info())"
   ]
  },
  {
   "cell_type": "markdown",
   "metadata": {
    "id": "TaQ2Iwbr_Zct"
   },
   "source": [
    "Итак, в таблице семь столбцов. Тип данных во всех столбцах — `object`.\n",
    "\n",
    "Согласно документации к данным:\n",
    "* `userID` — идентификатор пользователя;\n",
    "* `Track` — название трека;  \n",
    "* `artist` — имя исполнителя;\n",
    "* `genre` — название жанра;\n",
    "* `City` — город пользователя;\n",
    "* `time` — время начала прослушивания;\n",
    "* `Day` — день недели.\n",
    "\n",
    "В названиях колонок видны три нарушения стиля:\n",
    "1. Строчные буквы сочетаются с прописными.\n",
    "2. Встречаются пробелы.\n",
    "3. Найдите ещё одну проблему в названии колонок и опишите её в этом пункте.\n",
    "\n",
    "\n",
    "\n",
    "Количество значений в столбцах различается. Значит, в данных есть пропущенные значения.\n"
   ]
  },
  {
   "cell_type": "markdown",
   "metadata": {
    "id": "MCB6-dXG_Zct"
   },
   "source": [
    "**Выводы**\n",
    "\n",
    "В каждой строке таблицы — данные о прослушанном треке. Часть колонок описывает саму композицию: название, исполнителя и жанр. Остальные данные рассказывают о пользователе: из какого он города, когда он слушал музыку. \n",
    "\n",
    "Предварительно можно утверждать, что, данных достаточно для проверки гипотез. Но встречаются пропуски в данных, а в названиях колонок — расхождения с хорошим стилем.\n",
    "\n",
    "Чтобы двигаться дальше, нужно устранить проблемы в данных."
   ]
  },
  {
   "cell_type": "markdown",
   "metadata": {
    "id": "SjYF6Ub9_Zct"
   },
   "source": [
    "## Предобработка данных\n",
    "Исправьте стиль в заголовках столбцов, исключите пропуски. Затем проверьте данные на дубликаты."
   ]
  },
  {
   "cell_type": "markdown",
   "metadata": {
    "id": "dIaKXr29_Zct"
   },
   "source": [
    "### Стиль заголовков\n",
    "Выведите на экран названия столбцов:"
   ]
  },
  {
   "cell_type": "code",
   "execution_count": 5,
   "metadata": {
    "id": "oKOTdF_Q_Zct"
   },
   "outputs": [
    {
     "data": {
      "text/plain": [
       "Index(['  userID', 'Track', 'artist', 'genre', '  City  ', 'time', 'Day'], dtype='object')"
      ]
     },
     "metadata": {},
     "output_type": "display_data"
    }
   ],
   "source": [
    "display(df.columns)"
   ]
  },
  {
   "cell_type": "markdown",
   "metadata": {
    "id": "FPZA3ki8xe7T"
   },
   "source": []
  },
  {
   "cell_type": "markdown",
   "metadata": {
    "id": "zj5534cv_Zct"
   },
   "source": [
    "Приведите названия в соответствие с хорошим стилем:\n",
    "* несколько слов в названии запишите в «змеином_регистре»,\n",
    "* все символы сделайте строчными,\n",
    "* устраните пробелы.\n",
    "\n",
    "Для этого переименуйте колонки так:\n",
    "* `'  userID'` → `'user_id'`;\n",
    "* `'Track'` → `'track'`;\n",
    "* `'  City  '` → `'city'`;\n",
    "* `'Day'` → `'day'`."
   ]
  },
  {
   "cell_type": "code",
   "execution_count": 6,
   "metadata": {
    "id": "ISlFqs5y_Zct"
   },
   "outputs": [
    {
     "data": {
      "text/html": [
       "<div>\n",
       "<style scoped>\n",
       "    .dataframe tbody tr th:only-of-type {\n",
       "        vertical-align: middle;\n",
       "    }\n",
       "\n",
       "    .dataframe tbody tr th {\n",
       "        vertical-align: top;\n",
       "    }\n",
       "\n",
       "    .dataframe thead th {\n",
       "        text-align: right;\n",
       "    }\n",
       "</style>\n",
       "<table border=\"1\" class=\"dataframe\">\n",
       "  <thead>\n",
       "    <tr style=\"text-align: right;\">\n",
       "      <th></th>\n",
       "      <th>user_id</th>\n",
       "      <th>track</th>\n",
       "      <th>artist</th>\n",
       "      <th>genre</th>\n",
       "      <th>city</th>\n",
       "      <th>time</th>\n",
       "      <th>day</th>\n",
       "    </tr>\n",
       "  </thead>\n",
       "  <tbody>\n",
       "    <tr>\n",
       "      <td>0</td>\n",
       "      <td>FFB692EC</td>\n",
       "      <td>Kamigata To Boots</td>\n",
       "      <td>The Mass Missile</td>\n",
       "      <td>rock</td>\n",
       "      <td>Saint-Petersburg</td>\n",
       "      <td>20:28:33</td>\n",
       "      <td>Wednesday</td>\n",
       "    </tr>\n",
       "    <tr>\n",
       "      <td>1</td>\n",
       "      <td>55204538</td>\n",
       "      <td>Delayed Because of Accident</td>\n",
       "      <td>Andreas Rönnberg</td>\n",
       "      <td>rock</td>\n",
       "      <td>Moscow</td>\n",
       "      <td>14:07:09</td>\n",
       "      <td>Friday</td>\n",
       "    </tr>\n",
       "    <tr>\n",
       "      <td>2</td>\n",
       "      <td>20EC38</td>\n",
       "      <td>Funiculì funiculà</td>\n",
       "      <td>Mario Lanza</td>\n",
       "      <td>pop</td>\n",
       "      <td>Saint-Petersburg</td>\n",
       "      <td>20:58:07</td>\n",
       "      <td>Wednesday</td>\n",
       "    </tr>\n",
       "    <tr>\n",
       "      <td>3</td>\n",
       "      <td>A3DD03C9</td>\n",
       "      <td>Dragons in the Sunset</td>\n",
       "      <td>Fire + Ice</td>\n",
       "      <td>folk</td>\n",
       "      <td>Saint-Petersburg</td>\n",
       "      <td>08:37:09</td>\n",
       "      <td>Monday</td>\n",
       "    </tr>\n",
       "    <tr>\n",
       "      <td>4</td>\n",
       "      <td>E2DC1FAE</td>\n",
       "      <td>Soul People</td>\n",
       "      <td>Space Echo</td>\n",
       "      <td>dance</td>\n",
       "      <td>Moscow</td>\n",
       "      <td>08:34:34</td>\n",
       "      <td>Monday</td>\n",
       "    </tr>\n",
       "    <tr>\n",
       "      <td>...</td>\n",
       "      <td>...</td>\n",
       "      <td>...</td>\n",
       "      <td>...</td>\n",
       "      <td>...</td>\n",
       "      <td>...</td>\n",
       "      <td>...</td>\n",
       "      <td>...</td>\n",
       "    </tr>\n",
       "    <tr>\n",
       "      <td>65074</td>\n",
       "      <td>729CBB09</td>\n",
       "      <td>My Name</td>\n",
       "      <td>McLean</td>\n",
       "      <td>rnb</td>\n",
       "      <td>Moscow</td>\n",
       "      <td>13:32:28</td>\n",
       "      <td>Wednesday</td>\n",
       "    </tr>\n",
       "    <tr>\n",
       "      <td>65075</td>\n",
       "      <td>D08D4A55</td>\n",
       "      <td>Maybe One Day (feat. Black Spade)</td>\n",
       "      <td>Blu &amp; Exile</td>\n",
       "      <td>hip</td>\n",
       "      <td>Saint-Petersburg</td>\n",
       "      <td>10:00:00</td>\n",
       "      <td>Monday</td>\n",
       "    </tr>\n",
       "    <tr>\n",
       "      <td>65076</td>\n",
       "      <td>C5E3A0D5</td>\n",
       "      <td>Jalopiina</td>\n",
       "      <td>NaN</td>\n",
       "      <td>industrial</td>\n",
       "      <td>Moscow</td>\n",
       "      <td>20:09:26</td>\n",
       "      <td>Friday</td>\n",
       "    </tr>\n",
       "    <tr>\n",
       "      <td>65077</td>\n",
       "      <td>321D0506</td>\n",
       "      <td>Freight Train</td>\n",
       "      <td>Chas McDevitt</td>\n",
       "      <td>rock</td>\n",
       "      <td>Moscow</td>\n",
       "      <td>21:43:59</td>\n",
       "      <td>Friday</td>\n",
       "    </tr>\n",
       "    <tr>\n",
       "      <td>65078</td>\n",
       "      <td>3A64EF84</td>\n",
       "      <td>Tell Me Sweet Little Lies</td>\n",
       "      <td>Monica Lopez</td>\n",
       "      <td>country</td>\n",
       "      <td>Moscow</td>\n",
       "      <td>21:59:46</td>\n",
       "      <td>Friday</td>\n",
       "    </tr>\n",
       "  </tbody>\n",
       "</table>\n",
       "<p>65079 rows × 7 columns</p>\n",
       "</div>"
      ],
      "text/plain": [
       "        user_id                              track            artist  \\\n",
       "0      FFB692EC                  Kamigata To Boots  The Mass Missile   \n",
       "1      55204538        Delayed Because of Accident  Andreas Rönnberg   \n",
       "2        20EC38                  Funiculì funiculà       Mario Lanza   \n",
       "3      A3DD03C9              Dragons in the Sunset        Fire + Ice   \n",
       "4      E2DC1FAE                        Soul People        Space Echo   \n",
       "...         ...                                ...               ...   \n",
       "65074  729CBB09                            My Name            McLean   \n",
       "65075  D08D4A55  Maybe One Day (feat. Black Spade)       Blu & Exile   \n",
       "65076  C5E3A0D5                          Jalopiina               NaN   \n",
       "65077  321D0506                      Freight Train     Chas McDevitt   \n",
       "65078  3A64EF84          Tell Me Sweet Little Lies      Monica Lopez   \n",
       "\n",
       "            genre              city      time        day  \n",
       "0            rock  Saint-Petersburg  20:28:33  Wednesday  \n",
       "1            rock            Moscow  14:07:09     Friday  \n",
       "2             pop  Saint-Petersburg  20:58:07  Wednesday  \n",
       "3            folk  Saint-Petersburg  08:37:09     Monday  \n",
       "4           dance            Moscow  08:34:34     Monday  \n",
       "...           ...               ...       ...        ...  \n",
       "65074         rnb            Moscow  13:32:28  Wednesday  \n",
       "65075         hip  Saint-Petersburg  10:00:00     Monday  \n",
       "65076  industrial            Moscow  20:09:26     Friday  \n",
       "65077        rock            Moscow  21:43:59     Friday  \n",
       "65078     country            Moscow  21:59:46     Friday  \n",
       "\n",
       "[65079 rows x 7 columns]"
      ]
     },
     "metadata": {},
     "output_type": "display_data"
    }
   ],
   "source": [
    "df = df.rename(columns={'  userID':'user_id', 'Track':'track', '  City  ':'city', 'Day':'day'})\n",
    "display(df)"
   ]
  },
  {
   "cell_type": "markdown",
   "metadata": {
    "id": "1dqbh00J_Zct"
   },
   "source": [
    "Проверьте результат. Для этого ещё раз выведите на экран названия столбцов:"
   ]
  },
  {
   "cell_type": "code",
   "execution_count": 7,
   "metadata": {
    "id": "d4NOAmTW_Zct"
   },
   "outputs": [
    {
     "data": {
      "text/plain": [
       "Index(['user_id', 'track', 'artist', 'genre', 'city', 'time', 'day'], dtype='object')"
      ]
     },
     "metadata": {},
     "output_type": "display_data"
    }
   ],
   "source": [
    "display(df.columns)"
   ]
  },
  {
   "cell_type": "markdown",
   "metadata": {
    "id": "5ISfbcfY_Zct"
   },
   "source": [
    "### Пропуски значений\n",
    "Сначала посчитайте, сколько в таблице пропущенных значений. Для этого достаточно двух методов `pandas`:"
   ]
  },
  {
   "cell_type": "code",
   "execution_count": 8,
   "metadata": {
    "id": "RskX29qr_Zct"
   },
   "outputs": [
    {
     "data": {
      "text/plain": [
       "user_id       0\n",
       "track      1231\n",
       "artist     7203\n",
       "genre      1198\n",
       "city          0\n",
       "time          0\n",
       "day           0\n",
       "dtype: int64"
      ]
     },
     "metadata": {},
     "output_type": "display_data"
    }
   ],
   "source": [
    "display(df.isna().sum())"
   ]
  },
  {
   "cell_type": "markdown",
   "metadata": {
    "id": "qubhgnlO_Zct"
   },
   "source": [
    "Не все пропущенные значения влияют на исследование. Так в `track` и `artist` пропуски не важны для вашей работы. Достаточно заменить их явными обозначениями.\n",
    "\n",
    "Но пропуски в `genre` могут помешать сравнению музыкальных вкусов в Москве и Санкт-Петербурге. На практике было бы правильно установить причину пропусков и восстановить данные. Такой возможности нет в учебном проекте. Придётся:\n",
    "* заполнить и эти пропуски явными обозначениями,\n",
    "* оценить, насколько они повредят расчётам. "
   ]
  },
  {
   "cell_type": "markdown",
   "metadata": {
    "id": "fSv2laPA_Zct"
   },
   "source": [
    "Замените пропущенные значения в столбцах `track`, `artist` и `genre` на строку `'unknown'`. Для этого создайте список `columns_to_replace`, переберите его элементы циклом `for` и для каждого столбца выполните замену пропущенных значений:"
   ]
  },
  {
   "cell_type": "markdown",
   "metadata": {},
   "source": [
    "<div class=\"alert alert-warning\">\n",
    "\n",
    "**Комментарий ревьюера V2**\n",
    "\n",
    "здесь можно было обойтись одним циклом без условия\n",
    "    \n",
    "`for i in columns_to_replace:\n",
    "    df[i] = df[i].fillna('unknown')`\n",
    "</div>"
   ]
  },
  {
   "cell_type": "code",
   "execution_count": 9,
   "metadata": {
    "id": "KplB5qWs_Zct"
   },
   "outputs": [
    {
     "data": {
      "text/html": [
       "<div>\n",
       "<style scoped>\n",
       "    .dataframe tbody tr th:only-of-type {\n",
       "        vertical-align: middle;\n",
       "    }\n",
       "\n",
       "    .dataframe tbody tr th {\n",
       "        vertical-align: top;\n",
       "    }\n",
       "\n",
       "    .dataframe thead th {\n",
       "        text-align: right;\n",
       "    }\n",
       "</style>\n",
       "<table border=\"1\" class=\"dataframe\">\n",
       "  <thead>\n",
       "    <tr style=\"text-align: right;\">\n",
       "      <th></th>\n",
       "      <th>user_id</th>\n",
       "      <th>track</th>\n",
       "      <th>artist</th>\n",
       "      <th>genre</th>\n",
       "      <th>city</th>\n",
       "      <th>time</th>\n",
       "      <th>day</th>\n",
       "    </tr>\n",
       "  </thead>\n",
       "  <tbody>\n",
       "    <tr>\n",
       "      <td>0</td>\n",
       "      <td>FFB692EC</td>\n",
       "      <td>Kamigata To Boots</td>\n",
       "      <td>The Mass Missile</td>\n",
       "      <td>rock</td>\n",
       "      <td>Saint-Petersburg</td>\n",
       "      <td>20:28:33</td>\n",
       "      <td>Wednesday</td>\n",
       "    </tr>\n",
       "    <tr>\n",
       "      <td>1</td>\n",
       "      <td>55204538</td>\n",
       "      <td>Delayed Because of Accident</td>\n",
       "      <td>Andreas Rönnberg</td>\n",
       "      <td>rock</td>\n",
       "      <td>Moscow</td>\n",
       "      <td>14:07:09</td>\n",
       "      <td>Friday</td>\n",
       "    </tr>\n",
       "    <tr>\n",
       "      <td>2</td>\n",
       "      <td>20EC38</td>\n",
       "      <td>Funiculì funiculà</td>\n",
       "      <td>Mario Lanza</td>\n",
       "      <td>pop</td>\n",
       "      <td>Saint-Petersburg</td>\n",
       "      <td>20:58:07</td>\n",
       "      <td>Wednesday</td>\n",
       "    </tr>\n",
       "    <tr>\n",
       "      <td>3</td>\n",
       "      <td>A3DD03C9</td>\n",
       "      <td>Dragons in the Sunset</td>\n",
       "      <td>Fire + Ice</td>\n",
       "      <td>folk</td>\n",
       "      <td>Saint-Petersburg</td>\n",
       "      <td>08:37:09</td>\n",
       "      <td>Monday</td>\n",
       "    </tr>\n",
       "    <tr>\n",
       "      <td>4</td>\n",
       "      <td>E2DC1FAE</td>\n",
       "      <td>Soul People</td>\n",
       "      <td>Space Echo</td>\n",
       "      <td>dance</td>\n",
       "      <td>Moscow</td>\n",
       "      <td>08:34:34</td>\n",
       "      <td>Monday</td>\n",
       "    </tr>\n",
       "    <tr>\n",
       "      <td>...</td>\n",
       "      <td>...</td>\n",
       "      <td>...</td>\n",
       "      <td>...</td>\n",
       "      <td>...</td>\n",
       "      <td>...</td>\n",
       "      <td>...</td>\n",
       "      <td>...</td>\n",
       "    </tr>\n",
       "    <tr>\n",
       "      <td>65074</td>\n",
       "      <td>729CBB09</td>\n",
       "      <td>My Name</td>\n",
       "      <td>McLean</td>\n",
       "      <td>rnb</td>\n",
       "      <td>Moscow</td>\n",
       "      <td>13:32:28</td>\n",
       "      <td>Wednesday</td>\n",
       "    </tr>\n",
       "    <tr>\n",
       "      <td>65075</td>\n",
       "      <td>D08D4A55</td>\n",
       "      <td>Maybe One Day (feat. Black Spade)</td>\n",
       "      <td>Blu &amp; Exile</td>\n",
       "      <td>hip</td>\n",
       "      <td>Saint-Petersburg</td>\n",
       "      <td>10:00:00</td>\n",
       "      <td>Monday</td>\n",
       "    </tr>\n",
       "    <tr>\n",
       "      <td>65076</td>\n",
       "      <td>C5E3A0D5</td>\n",
       "      <td>Jalopiina</td>\n",
       "      <td>unknown</td>\n",
       "      <td>industrial</td>\n",
       "      <td>Moscow</td>\n",
       "      <td>20:09:26</td>\n",
       "      <td>Friday</td>\n",
       "    </tr>\n",
       "    <tr>\n",
       "      <td>65077</td>\n",
       "      <td>321D0506</td>\n",
       "      <td>Freight Train</td>\n",
       "      <td>Chas McDevitt</td>\n",
       "      <td>rock</td>\n",
       "      <td>Moscow</td>\n",
       "      <td>21:43:59</td>\n",
       "      <td>Friday</td>\n",
       "    </tr>\n",
       "    <tr>\n",
       "      <td>65078</td>\n",
       "      <td>3A64EF84</td>\n",
       "      <td>Tell Me Sweet Little Lies</td>\n",
       "      <td>Monica Lopez</td>\n",
       "      <td>country</td>\n",
       "      <td>Moscow</td>\n",
       "      <td>21:59:46</td>\n",
       "      <td>Friday</td>\n",
       "    </tr>\n",
       "  </tbody>\n",
       "</table>\n",
       "<p>65079 rows × 7 columns</p>\n",
       "</div>"
      ],
      "text/plain": [
       "        user_id                              track            artist  \\\n",
       "0      FFB692EC                  Kamigata To Boots  The Mass Missile   \n",
       "1      55204538        Delayed Because of Accident  Andreas Rönnberg   \n",
       "2        20EC38                  Funiculì funiculà       Mario Lanza   \n",
       "3      A3DD03C9              Dragons in the Sunset        Fire + Ice   \n",
       "4      E2DC1FAE                        Soul People        Space Echo   \n",
       "...         ...                                ...               ...   \n",
       "65074  729CBB09                            My Name            McLean   \n",
       "65075  D08D4A55  Maybe One Day (feat. Black Spade)       Blu & Exile   \n",
       "65076  C5E3A0D5                          Jalopiina           unknown   \n",
       "65077  321D0506                      Freight Train     Chas McDevitt   \n",
       "65078  3A64EF84          Tell Me Sweet Little Lies      Monica Lopez   \n",
       "\n",
       "            genre              city      time        day  \n",
       "0            rock  Saint-Petersburg  20:28:33  Wednesday  \n",
       "1            rock            Moscow  14:07:09     Friday  \n",
       "2             pop  Saint-Petersburg  20:58:07  Wednesday  \n",
       "3            folk  Saint-Petersburg  08:37:09     Monday  \n",
       "4           dance            Moscow  08:34:34     Monday  \n",
       "...           ...               ...       ...        ...  \n",
       "65074         rnb            Moscow  13:32:28  Wednesday  \n",
       "65075         hip  Saint-Petersburg  10:00:00     Monday  \n",
       "65076  industrial            Moscow  20:09:26     Friday  \n",
       "65077        rock            Moscow  21:43:59     Friday  \n",
       "65078     country            Moscow  21:59:46     Friday  \n",
       "\n",
       "[65079 rows x 7 columns]"
      ]
     },
     "metadata": {},
     "output_type": "display_data"
    }
   ],
   "source": [
    "columns_to_replace = ['track', 'artist', 'genre']\n",
    "for i in columns_to_replace:\n",
    "    if i in columns_to_replace:\n",
    "        df[i] = df[i].fillna('unknown')\n",
    "display(df)"
   ]
  },
  {
   "cell_type": "markdown",
   "metadata": {},
   "source": [
    "<div class=\"alert alert-danger\">\n",
    "\n",
    "**Комментарий ревьюера**\n",
    "\n",
    "Снова импортируешь библиотеки и заново считаешь данные. В итоге все изменения, которые ты провдишь у тебя просто заменяются на свежие необработанные данные</div>"
   ]
  },
  {
   "cell_type": "markdown",
   "metadata": {},
   "source": [
    "<div class=\"alert alert-success\">\n",
    "\n",
    "**Комментарий ревьюера V2**\n",
    "\n",
    "Исправления принял</div>"
   ]
  },
  {
   "cell_type": "markdown",
   "metadata": {
    "id": "Ilsm-MZo_Zct"
   },
   "source": [
    "Убедитесь, что в таблице не осталось пропусков. Для этого ещё раз посчитайте пропущенные значения."
   ]
  },
  {
   "cell_type": "code",
   "execution_count": 10,
   "metadata": {
    "id": "Tq4nYRX4_Zct"
   },
   "outputs": [
    {
     "data": {
      "text/plain": [
       "user_id    0\n",
       "track      0\n",
       "artist     0\n",
       "genre      0\n",
       "city       0\n",
       "time       0\n",
       "day        0\n",
       "dtype: int64"
      ]
     },
     "metadata": {},
     "output_type": "display_data"
    }
   ],
   "source": [
    "display(df.isna().sum())"
   ]
  },
  {
   "cell_type": "markdown",
   "metadata": {
    "id": "BWKRtBJ3_Zct"
   },
   "source": [
    "### Дубликаты\n",
    "Посчитайте явные дубликаты в таблице одной командой:"
   ]
  },
  {
   "cell_type": "code",
   "execution_count": 11,
   "metadata": {
    "id": "36eES_S0_Zct"
   },
   "outputs": [
    {
     "data": {
      "text/plain": [
       "3826"
      ]
     },
     "metadata": {},
     "output_type": "display_data"
    }
   ],
   "source": [
    "display(df.duplicated().sum())"
   ]
  },
  {
   "cell_type": "markdown",
   "metadata": {
    "id": "Ot25h6XR_Zct"
   },
   "source": [
    "Вызовите специальный метод `pandas`, чтобы удалить явные дубликаты:"
   ]
  },
  {
   "cell_type": "code",
   "execution_count": 12,
   "metadata": {
    "id": "exFHq6tt_Zct"
   },
   "outputs": [],
   "source": [
    "df = df.drop_duplicates().reset_index(drop=True) "
   ]
  },
  {
   "cell_type": "markdown",
   "metadata": {},
   "source": [
    "<div class=\"alert alert-danger\">\n",
    "\n",
    "**Комментарий ревьюера**\n",
    "\n",
    "Зачем дублировать ячейку?</div>"
   ]
  },
  {
   "cell_type": "markdown",
   "metadata": {},
   "source": [
    "<div class=\"alert alert-success\">\n",
    "\n",
    "**Комментарий ревьюера V2**\n",
    "\n",
    "Исправления принял</div>"
   ]
  },
  {
   "cell_type": "markdown",
   "metadata": {
    "id": "Im2YwBEG_Zct"
   },
   "source": [
    "Ещё раз посчитайте явные дубликаты в таблице — убедитесь, что полностью от них избавились:"
   ]
  },
  {
   "cell_type": "code",
   "execution_count": 13,
   "metadata": {
    "id": "-8PuNWQ0_Zct"
   },
   "outputs": [
    {
     "data": {
      "text/plain": [
       "0"
      ]
     },
     "metadata": {},
     "output_type": "display_data"
    }
   ],
   "source": [
    "display(df.duplicated().sum())"
   ]
  },
  {
   "cell_type": "markdown",
   "metadata": {
    "id": "QlFBsxAr_Zct"
   },
   "source": [
    "Теперь избавьтесь от неявных дубликатов в колонке `genre`. Например, название одного и того же жанра может быть записано немного по-разному. Такие ошибки тоже повлияют на результат исследования."
   ]
  },
  {
   "cell_type": "markdown",
   "metadata": {
    "id": "eSjWwsOh_Zct"
   },
   "source": [
    "Выведите на экран список уникальных названий жанров, отсортированный в алфавитном порядке. Для этого:\n",
    "* извлеките нужный столбец датафрейма, \n",
    "* примените к нему метод сортировки,\n",
    "* для отсортированного столбца вызовите метод, который вернёт уникальные значения из столбца."
   ]
  },
  {
   "cell_type": "code",
   "execution_count": 14,
   "metadata": {
    "id": "JIUcqzZN_Zct"
   },
   "outputs": [
    {
     "data": {
      "text/plain": [
       "array(['acid', 'acoustic', 'action', 'adult', 'africa', 'afrikaans',\n",
       "       'alternative', 'alternativepunk', 'ambient', 'americana',\n",
       "       'animated', 'anime', 'arabesk', 'arabic', 'arena',\n",
       "       'argentinetango', 'art', 'audiobook', 'author', 'avantgarde',\n",
       "       'axé', 'baile', 'balkan', 'beats', 'bigroom', 'black', 'bluegrass',\n",
       "       'blues', 'bollywood', 'bossa', 'brazilian', 'breakbeat', 'breaks',\n",
       "       'broadway', 'cantautori', 'cantopop', 'canzone', 'caribbean',\n",
       "       'caucasian', 'celtic', 'chamber', 'chanson', 'children', 'chill',\n",
       "       'chinese', 'choral', 'christian', 'christmas', 'classical',\n",
       "       'classicmetal', 'club', 'colombian', 'comedy', 'conjazz',\n",
       "       'contemporary', 'country', 'cuban', 'dance', 'dancehall',\n",
       "       'dancepop', 'dark', 'death', 'deep', 'deutschrock', 'deutschspr',\n",
       "       'dirty', 'disco', 'dnb', 'documentary', 'downbeat', 'downtempo',\n",
       "       'drum', 'dub', 'dubstep', 'eastern', 'easy', 'electronic',\n",
       "       'electropop', 'emo', 'entehno', 'epicmetal', 'estrada', 'ethnic',\n",
       "       'eurofolk', 'european', 'experimental', 'extrememetal', 'fado',\n",
       "       'fairytail', 'film', 'fitness', 'flamenco', 'folk', 'folklore',\n",
       "       'folkmetal', 'folkrock', 'folktronica', 'forró', 'frankreich',\n",
       "       'französisch', 'french', 'funk', 'future', 'gangsta', 'garage',\n",
       "       'german', 'ghazal', 'gitarre', 'glitch', 'gospel', 'gothic',\n",
       "       'grime', 'grunge', 'gypsy', 'handsup', \"hard'n'heavy\", 'hardcore',\n",
       "       'hardstyle', 'hardtechno', 'hip', 'hiphop', 'historisch',\n",
       "       'holiday', 'horror', 'house', 'hymn', 'idm', 'independent',\n",
       "       'indian', 'indie', 'indipop', 'industrial', 'inspirational',\n",
       "       'instrumental', 'international', 'irish', 'jam', 'japanese',\n",
       "       'jazz', 'jewish', 'jpop', 'jungle', 'k-pop', 'karadeniz',\n",
       "       'karaoke', 'kayokyoku', 'korean', 'laiko', 'latin', 'latino',\n",
       "       'leftfield', 'local', 'lounge', 'loungeelectronic', 'lovers',\n",
       "       'malaysian', 'mandopop', 'marschmusik', 'meditative',\n",
       "       'mediterranean', 'melodic', 'metal', 'metalcore', 'mexican',\n",
       "       'middle', 'minimal', 'miscellaneous', 'modern', 'mood', 'mpb',\n",
       "       'muslim', 'native', 'neoklassik', 'neue', 'new', 'newage',\n",
       "       'newwave', 'nu', 'nujazz', 'numetal', 'oceania', 'old', 'opera',\n",
       "       'orchestral', 'other', 'piano', 'podcasts', 'pop', 'popdance',\n",
       "       'popelectronic', 'popeurodance', 'poprussian', 'post',\n",
       "       'posthardcore', 'postrock', 'power', 'progmetal', 'progressive',\n",
       "       'psychedelic', 'punjabi', 'punk', 'quebecois', 'ragga', 'ram',\n",
       "       'rancheras', 'rap', 'rave', 'reggae', 'reggaeton', 'regional',\n",
       "       'relax', 'religious', 'retro', 'rhythm', 'rnb', 'rnr', 'rock',\n",
       "       'rockabilly', 'rockalternative', 'rockindie', 'rockother',\n",
       "       'romance', 'roots', 'ruspop', 'rusrap', 'rusrock', 'russian',\n",
       "       'salsa', 'samba', 'scenic', 'schlager', 'self', 'sertanejo',\n",
       "       'shanson', 'shoegazing', 'showtunes', 'singer', 'ska', 'skarock',\n",
       "       'slow', 'smooth', 'soft', 'soul', 'soulful', 'sound', 'soundtrack',\n",
       "       'southern', 'specialty', 'speech', 'spiritual', 'sport',\n",
       "       'stonerrock', 'surf', 'swing', 'synthpop', 'synthrock',\n",
       "       'sängerportrait', 'tango', 'tanzorchester', 'taraftar', 'tatar',\n",
       "       'tech', 'techno', 'teen', 'thrash', 'top', 'traditional',\n",
       "       'tradjazz', 'trance', 'tribal', 'trip', 'triphop', 'tropical',\n",
       "       'türk', 'türkçe', 'ukrrock', 'unknown', 'urban', 'uzbek',\n",
       "       'variété', 'vi', 'videogame', 'vocal', 'western', 'world',\n",
       "       'worldbeat', 'ïîï', 'электроника'], dtype=object)"
      ]
     },
     "metadata": {},
     "output_type": "display_data"
    }
   ],
   "source": [
    "unik = df['genre'].sort_values(ascending=True).unique()\n",
    "display(unik)"
   ]
  },
  {
   "cell_type": "markdown",
   "metadata": {
    "id": "qej-Qmuo_Zct"
   },
   "source": [
    "Просмотрите список и найдите неявные дубликаты названия `hiphop`. Это могут быть названия с ошибками или альтернативные названия того же жанра.\n",
    "\n",
    "Вы увидите следующие неявные дубликаты:\n",
    "* *hip*,\n",
    "* *hop*,\n",
    "* *hip-hop*.\n",
    "\n",
    "Чтобы очистить от них таблицу, напишите функцию `replace_wrong_genres()` с двумя параметрами: \n",
    "* `wrong_genres` — список дубликатов,\n",
    "* `correct_genre` — строка с правильным значением.\n",
    "\n",
    "Функция должна исправить колонку `genre` в таблице `df`: заменить каждое значение из списка `wrong_genres` на значение из `correct_genre`."
   ]
  },
  {
   "cell_type": "code",
   "execution_count": 15,
   "metadata": {
    "id": "ErNDkmns_Zct"
   },
   "outputs": [],
   "source": [
    "def replace_wrong_genres(wrong_genres, correct_genre):\n",
    "    for i in unik:\n",
    "        if i == wrong_genres:\n",
    "            df['genre'] = df['genre'].replace(wrong_genres, correct_genre)\n",
    "            result = df.loc[df.loc[:,'genre'] == wrong_genres]['genre'].count()\n",
    "            return result"
   ]
  },
  {
   "cell_type": "markdown",
   "metadata": {
    "id": "aDoBJxbA_Zct"
   },
   "source": [
    "Вызовите `replace_wrong_genres()` и передайте ей такие аргументы, чтобы она устранила неявные дубликаты: вместо `hip`, `hop` и `hip-hop` в таблице должно быть значение `hiphop`:"
   ]
  },
  {
   "cell_type": "markdown",
   "metadata": {},
   "source": [
    "<div class=\"alert alert-danger\">\n",
    "\n",
    "**Комментарий ревьюера**\n",
    "\n",
    "Здесь ошибка в функции replace_wrong_genres, 'wrong_genres' должно быть без ковычек в условии проверки. Затем ты дублируешь код с импорта библиоткеи, чтения данных, вызова функции во всех трех ячейках. Зачем? Ты уже импортировал и прочитал данные в самом начале проекта, не нужно это делать каждый раз. Заменить жанры не получилось.</div>"
   ]
  },
  {
   "cell_type": "markdown",
   "metadata": {},
   "source": [
    "<div class=\"alert alert-warning\">\n",
    "\n",
    "**Комментарий ревьюера V2**\n",
    "\n",
    "Исправления принял. Хотя функцию можно подправить\n",
    "\n",
    "`def replace_wrong_genres(wrong_genres, correct_genre):\n",
    "    for genre in wrong_genres:\n",
    "        df['genre'] = df['genre'].replace(genre, correct_genre)`\n",
    "\n",
    "И вызывать тогда функцию можно так\n",
    "`replace_wrong_genres(['hip','hop',hip-hop'], 'hiphop')`\n",
    "Не нужно использовать дисплей для этого.\n",
    "    \n",
    "Затем ты делаешь `display(unik)`, зачем? Еще и дублируешь это два раза. У тебя в этой переменной хрянаятся старые жанры (до преобразования) Если хочешь проверить применилась ли твоя функция, можешь сделать так `sorted(df['genre'].unique())`\n",
    "</div>"
   ]
  },
  {
   "cell_type": "code",
   "execution_count": 16,
   "metadata": {
    "id": "YN5i2hpmSo09"
   },
   "outputs": [
    {
     "data": {
      "text/plain": [
       "0"
      ]
     },
     "metadata": {},
     "output_type": "display_data"
    },
    {
     "data": {
      "text/plain": [
       "array(['acid', 'acoustic', 'action', 'adult', 'africa', 'afrikaans',\n",
       "       'alternative', 'alternativepunk', 'ambient', 'americana',\n",
       "       'animated', 'anime', 'arabesk', 'arabic', 'arena',\n",
       "       'argentinetango', 'art', 'audiobook', 'author', 'avantgarde',\n",
       "       'axé', 'baile', 'balkan', 'beats', 'bigroom', 'black', 'bluegrass',\n",
       "       'blues', 'bollywood', 'bossa', 'brazilian', 'breakbeat', 'breaks',\n",
       "       'broadway', 'cantautori', 'cantopop', 'canzone', 'caribbean',\n",
       "       'caucasian', 'celtic', 'chamber', 'chanson', 'children', 'chill',\n",
       "       'chinese', 'choral', 'christian', 'christmas', 'classical',\n",
       "       'classicmetal', 'club', 'colombian', 'comedy', 'conjazz',\n",
       "       'contemporary', 'country', 'cuban', 'dance', 'dancehall',\n",
       "       'dancepop', 'dark', 'death', 'deep', 'deutschrock', 'deutschspr',\n",
       "       'dirty', 'disco', 'dnb', 'documentary', 'downbeat', 'downtempo',\n",
       "       'drum', 'dub', 'dubstep', 'eastern', 'easy', 'electronic',\n",
       "       'electropop', 'emo', 'entehno', 'epicmetal', 'estrada', 'ethnic',\n",
       "       'eurofolk', 'european', 'experimental', 'extrememetal', 'fado',\n",
       "       'fairytail', 'film', 'fitness', 'flamenco', 'folk', 'folklore',\n",
       "       'folkmetal', 'folkrock', 'folktronica', 'forró', 'frankreich',\n",
       "       'französisch', 'french', 'funk', 'future', 'gangsta', 'garage',\n",
       "       'german', 'ghazal', 'gitarre', 'glitch', 'gospel', 'gothic',\n",
       "       'grime', 'grunge', 'gypsy', 'handsup', \"hard'n'heavy\", 'hardcore',\n",
       "       'hardstyle', 'hardtechno', 'hip', 'hiphop', 'historisch',\n",
       "       'holiday', 'horror', 'house', 'hymn', 'idm', 'independent',\n",
       "       'indian', 'indie', 'indipop', 'industrial', 'inspirational',\n",
       "       'instrumental', 'international', 'irish', 'jam', 'japanese',\n",
       "       'jazz', 'jewish', 'jpop', 'jungle', 'k-pop', 'karadeniz',\n",
       "       'karaoke', 'kayokyoku', 'korean', 'laiko', 'latin', 'latino',\n",
       "       'leftfield', 'local', 'lounge', 'loungeelectronic', 'lovers',\n",
       "       'malaysian', 'mandopop', 'marschmusik', 'meditative',\n",
       "       'mediterranean', 'melodic', 'metal', 'metalcore', 'mexican',\n",
       "       'middle', 'minimal', 'miscellaneous', 'modern', 'mood', 'mpb',\n",
       "       'muslim', 'native', 'neoklassik', 'neue', 'new', 'newage',\n",
       "       'newwave', 'nu', 'nujazz', 'numetal', 'oceania', 'old', 'opera',\n",
       "       'orchestral', 'other', 'piano', 'podcasts', 'pop', 'popdance',\n",
       "       'popelectronic', 'popeurodance', 'poprussian', 'post',\n",
       "       'posthardcore', 'postrock', 'power', 'progmetal', 'progressive',\n",
       "       'psychedelic', 'punjabi', 'punk', 'quebecois', 'ragga', 'ram',\n",
       "       'rancheras', 'rap', 'rave', 'reggae', 'reggaeton', 'regional',\n",
       "       'relax', 'religious', 'retro', 'rhythm', 'rnb', 'rnr', 'rock',\n",
       "       'rockabilly', 'rockalternative', 'rockindie', 'rockother',\n",
       "       'romance', 'roots', 'ruspop', 'rusrap', 'rusrock', 'russian',\n",
       "       'salsa', 'samba', 'scenic', 'schlager', 'self', 'sertanejo',\n",
       "       'shanson', 'shoegazing', 'showtunes', 'singer', 'ska', 'skarock',\n",
       "       'slow', 'smooth', 'soft', 'soul', 'soulful', 'sound', 'soundtrack',\n",
       "       'southern', 'specialty', 'speech', 'spiritual', 'sport',\n",
       "       'stonerrock', 'surf', 'swing', 'synthpop', 'synthrock',\n",
       "       'sängerportrait', 'tango', 'tanzorchester', 'taraftar', 'tatar',\n",
       "       'tech', 'techno', 'teen', 'thrash', 'top', 'traditional',\n",
       "       'tradjazz', 'trance', 'tribal', 'trip', 'triphop', 'tropical',\n",
       "       'türk', 'türkçe', 'ukrrock', 'unknown', 'urban', 'uzbek',\n",
       "       'variété', 'vi', 'videogame', 'vocal', 'western', 'world',\n",
       "       'worldbeat', 'ïîï', 'электроника'], dtype=object)"
      ]
     },
     "metadata": {},
     "output_type": "display_data"
    }
   ],
   "source": [
    "display(replace_wrong_genres('hip', 'hiphop'))\n",
    "display(unik)"
   ]
  },
  {
   "cell_type": "markdown",
   "metadata": {
    "id": "zQKF16_RG15m"
   },
   "source": [
    "Проверьте, что заменили неправильные названия:\n",
    "\n",
    "*   hip\n",
    "*   hop\n",
    "*   hip-hop\n",
    "\n",
    "Выведите отсортированный список уникальных значений столбца `genre`:"
   ]
  },
  {
   "cell_type": "code",
   "execution_count": 17,
   "metadata": {
    "id": "wvixALnFG15m"
   },
   "outputs": [
    {
     "data": {
      "text/plain": [
       "array(['acid', 'acoustic', 'action', 'adult', 'africa', 'afrikaans',\n",
       "       'alternative', 'alternativepunk', 'ambient', 'americana',\n",
       "       'animated', 'anime', 'arabesk', 'arabic', 'arena',\n",
       "       'argentinetango', 'art', 'audiobook', 'author', 'avantgarde',\n",
       "       'axé', 'baile', 'balkan', 'beats', 'bigroom', 'black', 'bluegrass',\n",
       "       'blues', 'bollywood', 'bossa', 'brazilian', 'breakbeat', 'breaks',\n",
       "       'broadway', 'cantautori', 'cantopop', 'canzone', 'caribbean',\n",
       "       'caucasian', 'celtic', 'chamber', 'chanson', 'children', 'chill',\n",
       "       'chinese', 'choral', 'christian', 'christmas', 'classical',\n",
       "       'classicmetal', 'club', 'colombian', 'comedy', 'conjazz',\n",
       "       'contemporary', 'country', 'cuban', 'dance', 'dancehall',\n",
       "       'dancepop', 'dark', 'death', 'deep', 'deutschrock', 'deutschspr',\n",
       "       'dirty', 'disco', 'dnb', 'documentary', 'downbeat', 'downtempo',\n",
       "       'drum', 'dub', 'dubstep', 'eastern', 'easy', 'electronic',\n",
       "       'electropop', 'emo', 'entehno', 'epicmetal', 'estrada', 'ethnic',\n",
       "       'eurofolk', 'european', 'experimental', 'extrememetal', 'fado',\n",
       "       'fairytail', 'film', 'fitness', 'flamenco', 'folk', 'folklore',\n",
       "       'folkmetal', 'folkrock', 'folktronica', 'forró', 'frankreich',\n",
       "       'französisch', 'french', 'funk', 'future', 'gangsta', 'garage',\n",
       "       'german', 'ghazal', 'gitarre', 'glitch', 'gospel', 'gothic',\n",
       "       'grime', 'grunge', 'gypsy', 'handsup', \"hard'n'heavy\", 'hardcore',\n",
       "       'hardstyle', 'hardtechno', 'hip', 'hiphop', 'historisch',\n",
       "       'holiday', 'horror', 'house', 'hymn', 'idm', 'independent',\n",
       "       'indian', 'indie', 'indipop', 'industrial', 'inspirational',\n",
       "       'instrumental', 'international', 'irish', 'jam', 'japanese',\n",
       "       'jazz', 'jewish', 'jpop', 'jungle', 'k-pop', 'karadeniz',\n",
       "       'karaoke', 'kayokyoku', 'korean', 'laiko', 'latin', 'latino',\n",
       "       'leftfield', 'local', 'lounge', 'loungeelectronic', 'lovers',\n",
       "       'malaysian', 'mandopop', 'marschmusik', 'meditative',\n",
       "       'mediterranean', 'melodic', 'metal', 'metalcore', 'mexican',\n",
       "       'middle', 'minimal', 'miscellaneous', 'modern', 'mood', 'mpb',\n",
       "       'muslim', 'native', 'neoklassik', 'neue', 'new', 'newage',\n",
       "       'newwave', 'nu', 'nujazz', 'numetal', 'oceania', 'old', 'opera',\n",
       "       'orchestral', 'other', 'piano', 'podcasts', 'pop', 'popdance',\n",
       "       'popelectronic', 'popeurodance', 'poprussian', 'post',\n",
       "       'posthardcore', 'postrock', 'power', 'progmetal', 'progressive',\n",
       "       'psychedelic', 'punjabi', 'punk', 'quebecois', 'ragga', 'ram',\n",
       "       'rancheras', 'rap', 'rave', 'reggae', 'reggaeton', 'regional',\n",
       "       'relax', 'religious', 'retro', 'rhythm', 'rnb', 'rnr', 'rock',\n",
       "       'rockabilly', 'rockalternative', 'rockindie', 'rockother',\n",
       "       'romance', 'roots', 'ruspop', 'rusrap', 'rusrock', 'russian',\n",
       "       'salsa', 'samba', 'scenic', 'schlager', 'self', 'sertanejo',\n",
       "       'shanson', 'shoegazing', 'showtunes', 'singer', 'ska', 'skarock',\n",
       "       'slow', 'smooth', 'soft', 'soul', 'soulful', 'sound', 'soundtrack',\n",
       "       'southern', 'specialty', 'speech', 'spiritual', 'sport',\n",
       "       'stonerrock', 'surf', 'swing', 'synthpop', 'synthrock',\n",
       "       'sängerportrait', 'tango', 'tanzorchester', 'taraftar', 'tatar',\n",
       "       'tech', 'techno', 'teen', 'thrash', 'top', 'traditional',\n",
       "       'tradjazz', 'trance', 'tribal', 'trip', 'triphop', 'tropical',\n",
       "       'türk', 'türkçe', 'ukrrock', 'unknown', 'urban', 'uzbek',\n",
       "       'variété', 'vi', 'videogame', 'vocal', 'western', 'world',\n",
       "       'worldbeat', 'ïîï', 'электроника'], dtype=object)"
      ]
     },
     "metadata": {},
     "output_type": "display_data"
    }
   ],
   "source": [
    "display(unik)"
   ]
  },
  {
   "cell_type": "markdown",
   "metadata": {
    "id": "jz6a9-7HQUDd"
   },
   "source": [
    "**Выводы**\n",
    "\n",
    "Предобработка обнаружила три проблемы в данных:\n",
    "\n",
    "- нарушения в стиле заголовков,\n",
    "- пропущенные значения,\n",
    "- дубликаты — явные и неявные.\n",
    "\n",
    "Вы исправили заголовки, чтобы упростить работу с таблицей. Без дубликатов исследование станет более точным.\n",
    "\n",
    "Пропущенные значения вы заменили на `'unknown'`. Ещё предстоит увидеть, не повредят ли исследованию пропуски в колонке `genre`.\n",
    "\n",
    "Теперь можно перейти к проверке гипотез. "
   ]
  },
  {
   "cell_type": "markdown",
   "metadata": {
    "id": "WttZHXH0SqKk"
   },
   "source": [
    "## Проверка гипотез"
   ]
  },
  {
   "cell_type": "markdown",
   "metadata": {
    "id": "Im936VVi_Zcu"
   },
   "source": [
    "### Сравнение поведения пользователей двух столиц"
   ]
  },
  {
   "cell_type": "markdown",
   "metadata": {
    "id": "nwt_MuaL_Zcu"
   },
   "source": [
    "Первая гипотеза утверждает, что пользователи по-разному слушают музыку в Москве и Санкт-Петербурге. Проверьте это предположение по данным о трёх днях недели — понедельнике, среде и пятнице. Для этого:\n",
    "\n",
    "* Разделите пользователей Москвы и Санкт-Петербурга\n",
    "* Сравните, сколько треков послушала каждая группа пользователей в понедельник, среду и пятницу.\n"
   ]
  },
  {
   "cell_type": "markdown",
   "metadata": {
    "id": "8Dw_YMmT_Zcu"
   },
   "source": [
    "Для тренировки сначала выполните каждый из расчётов по отдельности. \n",
    "\n",
    "Оцените активность пользователей в каждом городе. Сгруппируйте данные по городу и посчитайте прослушивания в каждой группе.\n",
    "\n"
   ]
  },
  {
   "cell_type": "code",
   "execution_count": 18,
   "metadata": {
    "id": "0_Qs96oh_Zcu"
   },
   "outputs": [
    {
     "data": {
      "text/plain": [
       "city\n",
       "Moscow              42741\n",
       "Saint-Petersburg    18512\n",
       "Name: genre, dtype: int64"
      ]
     },
     "execution_count": 18,
     "metadata": {},
     "output_type": "execute_result"
    }
   ],
   "source": [
    "df.groupby('city')['genre'].count()"
   ]
  },
  {
   "cell_type": "markdown",
   "metadata": {
    "id": "dzli3w8o_Zcu"
   },
   "source": [
    "В Москве прослушиваний больше, чем в Петербурге. Из этого не следует, что московские пользователи чаще слушают музыку. Просто самих пользователей в Москве больше.\n",
    "\n",
    "Теперь сгруппируйте данные по дню недели и подсчитайте прослушивания в понедельник, среду и пятницу. Учтите, что в данных есть информация только о прослушиваниях только за эти дни.\n"
   ]
  },
  {
   "cell_type": "code",
   "execution_count": 19,
   "metadata": {
    "id": "uZMKjiJz_Zcu"
   },
   "outputs": [
    {
     "data": {
      "text/plain": [
       "day\n",
       "Friday       21840\n",
       "Monday       21354\n",
       "Wednesday    18059\n",
       "Name: genre, dtype: int64"
      ]
     },
     "execution_count": 19,
     "metadata": {},
     "output_type": "execute_result"
    }
   ],
   "source": [
    "df.groupby('day')['genre'].count()"
   ]
  },
  {
   "cell_type": "markdown",
   "metadata": {
    "id": "cC2tNrlL_Zcu"
   },
   "source": [
    "В среднем пользователи из двух городов менее активны по средам. Но картина может измениться, если рассмотреть каждый город в отдельности."
   ]
  },
  {
   "cell_type": "markdown",
   "metadata": {
    "id": "POzs8bGa_Zcu"
   },
   "source": [
    "Вы видели, как работает группировка по городу и по дням недели. Теперь напишите функцию, которая объединит два эти расчёта.\n",
    "\n",
    "Создайте функцию `number_tracks()`, которая посчитает прослушивания для заданного дня и города. Ей понадобятся два параметра:\n",
    "* день недели,\n",
    "* название города.\n",
    "\n",
    "В функции сохраните в переменную строки исходной таблицы, у которых значение:\n",
    "  * в колонке `day` равно параметру `day`,\n",
    "  * в колонке `city` равно параметру `city`.\n",
    "\n",
    "Для этого примените последовательную фильтрацию с логической индексацией.\n",
    "\n",
    "Затем посчитайте значения в столбце `user_id` получившейся таблицы. Результат сохраните в новую переменную. Верните эту переменную из функции."
   ]
  },
  {
   "cell_type": "code",
   "execution_count": 20,
   "metadata": {
    "id": "Nz3GdQB1_Zcu"
   },
   "outputs": [],
   "source": [
    "# <создание функции number_tracks()>\n",
    "def number_tracks(day, city):\n",
    "    track_list = df[(df['day'] == day)&(df['city'] == city)]\n",
    "    track_list_count = track_list['user_id'].count()\n",
    "    return track_list_count\n",
    "# Объявляется функция с двумя параметрами: day, city.\n",
    "# В переменной track_list сохраняются те строки таблицы df, для которых \n",
    "# значение в столбце 'day' равно параметру day и одновременно значение\n",
    "# в столбце 'city' равно параметру city (используйте последовательную фильтрацию\n",
    "# с помощью логической индексации).\n",
    "# В переменной track_list_count сохраняется число значений столбца 'user_id',\n",
    "# рассчитанное методом count() для таблицы track_list.\n",
    "# Функция возвращает число - значение track_list_count.\n",
    "\n",
    "# Функция для подсчёта прослушиваний для конкретного города и дня.\n",
    "# С помощью последовательной фильтрации с логической индексацией она \n",
    "# сначала получит из исходной таблицы строки с нужным днём,\n",
    "# затем из результата отфильтрует строки с нужным городом,\n",
    "# методом count() посчитает количество значений в колонке user_id. \n",
    "# Это количество функция вернёт в качестве результата"
   ]
  },
  {
   "cell_type": "markdown",
   "metadata": {
    "id": "ytf7xFrFJQ2r"
   },
   "source": [
    "Вызовите `number_tracks()` шесть раз, меняя значение параметров — так, чтобы получить данные для каждого города в каждый из трёх дней."
   ]
  },
  {
   "cell_type": "code",
   "execution_count": 21,
   "metadata": {
    "id": "rJcRATNQ_Zcu"
   },
   "outputs": [
    {
     "data": {
      "text/plain": [
       "15740"
      ]
     },
     "execution_count": 21,
     "metadata": {},
     "output_type": "execute_result"
    }
   ],
   "source": [
    "number_tracks('Monday', 'Moscow')"
   ]
  },
  {
   "cell_type": "code",
   "execution_count": 22,
   "metadata": {
    "id": "hq_ncZ5T_Zcu"
   },
   "outputs": [
    {
     "data": {
      "text/plain": [
       "5614"
      ]
     },
     "execution_count": 22,
     "metadata": {},
     "output_type": "execute_result"
    }
   ],
   "source": [
    "number_tracks('Monday', 'Saint-Petersburg')"
   ]
  },
  {
   "cell_type": "code",
   "execution_count": 23,
   "metadata": {
    "id": "_NTy2VPU_Zcu"
   },
   "outputs": [
    {
     "data": {
      "text/plain": [
       "11056"
      ]
     },
     "execution_count": 23,
     "metadata": {},
     "output_type": "execute_result"
    }
   ],
   "source": [
    "number_tracks('Wednesday', 'Moscow')"
   ]
  },
  {
   "cell_type": "code",
   "execution_count": 24,
   "metadata": {
    "id": "j2y3TAwo_Zcu"
   },
   "outputs": [
    {
     "data": {
      "text/plain": [
       "7003"
      ]
     },
     "execution_count": 24,
     "metadata": {},
     "output_type": "execute_result"
    }
   ],
   "source": [
    "number_tracks('Wednesday', 'Saint-Petersburg')"
   ]
  },
  {
   "cell_type": "code",
   "execution_count": 25,
   "metadata": {
    "id": "vYDw5u_K_Zcu"
   },
   "outputs": [
    {
     "data": {
      "text/plain": [
       "15945"
      ]
     },
     "execution_count": 25,
     "metadata": {},
     "output_type": "execute_result"
    }
   ],
   "source": [
    "number_tracks('Friday', 'Moscow')"
   ]
  },
  {
   "cell_type": "code",
   "execution_count": 26,
   "metadata": {
    "id": "8_yzFtW3_Zcu"
   },
   "outputs": [
    {
     "data": {
      "text/plain": [
       "5895"
      ]
     },
     "execution_count": 26,
     "metadata": {},
     "output_type": "execute_result"
    }
   ],
   "source": [
    "number_tracks('Friday', 'Saint-Petersburg')"
   ]
  },
  {
   "cell_type": "markdown",
   "metadata": {
    "id": "7QXffbO-_Zcu"
   },
   "source": [
    "Создайте c помощью конструктора `pd.DataFrame` таблицу, где\n",
    "* названия колонок — `['city', 'monday', 'wednesday', 'friday']`;\n",
    "* данные — результаты, которые вы получили с помощью `number_tracks`."
   ]
  },
  {
   "cell_type": "markdown",
   "metadata": {},
   "source": [
    "<div class=\"alert alert-danger\">\n",
    "\n",
    "**Комментарий ревьюера**\n",
    "\n",
    "Не правильно указал данные по Москве для понедельника. Помимо этого из за того, что ты все время заново читал даные, то они так и не очистились от дубикатов</div>"
   ]
  },
  {
   "cell_type": "markdown",
   "metadata": {},
   "source": [
    "<div class=\"alert alert-success\">\n",
    "\n",
    "**Комментарий ревьюера V2**\n",
    "\n",
    "Исправления принял\n",
    "\n",
    "</div>"
   ]
  },
  {
   "cell_type": "code",
   "execution_count": 27,
   "metadata": {
    "id": "APAcLpOr_Zcu"
   },
   "outputs": [
    {
     "data": {
      "text/html": [
       "<div>\n",
       "<style scoped>\n",
       "    .dataframe tbody tr th:only-of-type {\n",
       "        vertical-align: middle;\n",
       "    }\n",
       "\n",
       "    .dataframe tbody tr th {\n",
       "        vertical-align: top;\n",
       "    }\n",
       "\n",
       "    .dataframe thead th {\n",
       "        text-align: right;\n",
       "    }\n",
       "</style>\n",
       "<table border=\"1\" class=\"dataframe\">\n",
       "  <thead>\n",
       "    <tr style=\"text-align: right;\">\n",
       "      <th></th>\n",
       "      <th>city</th>\n",
       "      <th>monday</th>\n",
       "      <th>wednesday</th>\n",
       "      <th>friday</th>\n",
       "    </tr>\n",
       "  </thead>\n",
       "  <tbody>\n",
       "    <tr>\n",
       "      <td>0</td>\n",
       "      <td>Moscow</td>\n",
       "      <td>15740</td>\n",
       "      <td>11056</td>\n",
       "      <td>15945</td>\n",
       "    </tr>\n",
       "    <tr>\n",
       "      <td>1</td>\n",
       "      <td>Saint-Petersburg</td>\n",
       "      <td>5614</td>\n",
       "      <td>7003</td>\n",
       "      <td>5895</td>\n",
       "    </tr>\n",
       "  </tbody>\n",
       "</table>\n",
       "</div>"
      ],
      "text/plain": [
       "               city  monday  wednesday  friday\n",
       "0            Moscow   15740      11056   15945\n",
       "1  Saint-Petersburg    5614       7003    5895"
      ]
     },
     "metadata": {},
     "output_type": "display_data"
    }
   ],
   "source": [
    "data = [['Moscow', 15740,11056, 15945],\n",
    "       ['Saint-Petersburg', 5614, 7003,5895]]\n",
    "cols = ['city', 'monday', 'wednesday', 'friday']\n",
    "table = pd.DataFrame(data = data, columns = cols)\n",
    "display(table)"
   ]
  },
  {
   "cell_type": "markdown",
   "metadata": {
    "id": "-EgPIHYu_Zcu"
   },
   "source": [
    "**Выводы**\n",
    "\n",
    "Данные показывают разницу поведения пользователей:\n",
    "\n",
    "- В Москве пик прослушиваний приходится на понедельник и пятницу, а в среду заметен спад.\n",
    "- В Петербурге, наоборот, больше слушают музыку по средам. Активность в понедельник и пятницу здесь почти в равной мере уступает среде.\n",
    "\n",
    "Значит, данные говорят в пользу первой гипотезы."
   ]
  },
  {
   "cell_type": "markdown",
   "metadata": {
    "id": "atZAxtq4_Zcu"
   },
   "source": [
    "### Музыка в начале и в конце недели"
   ]
  },
  {
   "cell_type": "markdown",
   "metadata": {
    "id": "eXrQqXFH_Zcu"
   },
   "source": [
    "Согласно второй гипотезе, утром в понедельник в Москве преобладают одни жанры, а в Петербурге — другие. Так же и вечером пятницы преобладают разные жанры — в зависимости от города."
   ]
  },
  {
   "cell_type": "markdown",
   "metadata": {
    "id": "S8UcW6Hw_Zcu"
   },
   "source": [
    "Сохраните таблицы с данными в две переменные:\n",
    "* по Москве — в `moscow_general`;\n",
    "* по Санкт-Петербургу — в `spb_general`."
   ]
  },
  {
   "cell_type": "code",
   "execution_count": 28,
   "metadata": {
    "id": "qeaFfM_P_Zcu"
   },
   "outputs": [],
   "source": [
    "moscow_general = df[df['city'] == 'Moscow']"
   ]
  },
  {
   "cell_type": "code",
   "execution_count": 29,
   "metadata": {
    "id": "ORaVRKto_Zcu"
   },
   "outputs": [],
   "source": [
    "spb_general = df[df['city'] == 'Saint-Petersburg']"
   ]
  },
  {
   "cell_type": "markdown",
   "metadata": {
    "id": "MEJV-CX2_Zcu"
   },
   "source": [
    "Создайте функцию `genre_weekday()` с четырьмя параметрами:\n",
    "* таблица (датафрейм) с данными,\n",
    "* день недели,\n",
    "* начальная временная метка в формате 'hh:mm', \n",
    "* последняя временная метка в формате 'hh:mm'.\n",
    "\n",
    "Функция должна вернуть информацию о топ-10 жанров тех треков, которые прослушивали в указанный день, в промежутке между двумя отметками времени."
   ]
  },
  {
   "cell_type": "code",
   "execution_count": 30,
   "metadata": {
    "id": "laJT9BYl_Zcu"
   },
   "outputs": [],
   "source": [
    "# Объявление функции genre_weekday() с параметрами table, day, time1, time2,\n",
    "def genre_weekday(table, day, time1, time2):\n",
    "    genre_df = table[(table['day'] == day)&(table['time'] > time1)&(table['time'] < time2)]\n",
    "    genre_df_count = genre_df.groupby('genre')['genre'].count()\n",
    "    genre_df_sorted = genre_df_count.sort_values(ascending=False).head(10)\n",
    "    return genre_df_sorted\n",
    "# которая возвращает информацию о самых популярных жанрах в указанный день в\n",
    "# заданное время:\n",
    "# 1) в переменную genre_df сохраняются те строки переданного датафрейма table, для\n",
    "#    которых одновременно:\n",
    "#    - значение в столбце day равно значению аргумента day\n",
    "#    - значение в столбце time больше значения аргумента time1\n",
    "#    - значение в столбце time меньше значения аргумента time2\n",
    "#    Используйте последовательную фильтрацию с помощью логической индексации.\n",
    "# 2) сгруппировать датафрейм genre_df по столбцу genre, взять один из его\n",
    "#    столбцов и посчитать методом count() количество записей для каждого из\n",
    "#    присутствующих жанров, получившийся Series записать в переменную\n",
    "#    genre_df_count\n",
    "# 3) отсортировать genre_df_count по убыванию встречаемости и сохранить\n",
    "#    в переменную genre_df_sorted\n",
    "# 4) вернуть Series из 10 первых значений genre_df_sorted, это будут топ-10\n",
    "#    популярных жанров (в указанный день, в заданное время)"
   ]
  },
  {
   "cell_type": "markdown",
   "metadata": {
    "id": "la2s2_PF_Zcu"
   },
   "source": [
    "Cравните результаты функции `genre_weekday()` для Москвы и Санкт-Петербурга в понедельник утром (с 7:00 до 11:00) и в пятницу вечером (с 17:00 до 23:00):"
   ]
  },
  {
   "cell_type": "markdown",
   "metadata": {},
   "source": [
    "<div class=\"alert alert-danger\">\n",
    "\n",
    "**Комментарий ревьюера**\n",
    "\n",
    "Здесь тоже все значения должны быть другие, потому что у тебя до сих пор данные не были очищены от дубликатов</div>"
   ]
  },
  {
   "cell_type": "markdown",
   "metadata": {},
   "source": [
    "<div class=\"alert alert-danger\">\n",
    "\n",
    "**Комментарий ревьюера V2**\n",
    "\n",
    "В функции ошибка. Обрати внимание на то, что данные для Москвы у тебя полностью совпали с данными по Санкт-Петербургу. Это, то, что должно было уже насторожить тебя. Смотри, в функцию при ее вызове ты передаешь `moscow_general` или `spb_general`, это правильно.\n",
    "Но вот в самой фукнции вместо переменной `table`, которая у тебя принимает в себя Москвоские данные или Питерские, ты используешь переменную `df`. Но в переменной `df` у тебя хранятся абсолютно все твои данные. Поэтому все что нужно сделать, это менить в функции переменную `df` на `table`\n",
    "</div>"
   ]
  },
  {
   "cell_type": "markdown",
   "metadata": {},
   "source": [
    "<div class=\"alert alert-success\">\n",
    "\n",
    "**Комментарий ревьюера V3**\n",
    "Исправления принял 👍 теперь все ок</div>"
   ]
  },
  {
   "cell_type": "code",
   "execution_count": 31,
   "metadata": {
    "id": "yz7itPUQ_Zcu"
   },
   "outputs": [
    {
     "data": {
      "text/plain": [
       "genre\n",
       "pop            781\n",
       "dance          549\n",
       "electronic     480\n",
       "rock           474\n",
       "hiphop         286\n",
       "ruspop         186\n",
       "world          181\n",
       "rusrap         175\n",
       "alternative    164\n",
       "unknown        161\n",
       "Name: genre, dtype: int64"
      ]
     },
     "execution_count": 31,
     "metadata": {},
     "output_type": "execute_result"
    }
   ],
   "source": [
    "genre_weekday(moscow_general, 'Monday', '07:00', '11:00')"
   ]
  },
  {
   "cell_type": "code",
   "execution_count": 32,
   "metadata": {
    "id": "kwUcHPdy_Zcu"
   },
   "outputs": [
    {
     "data": {
      "text/plain": [
       "genre\n",
       "pop            218\n",
       "dance          182\n",
       "rock           162\n",
       "electronic     147\n",
       "hiphop          80\n",
       "ruspop          64\n",
       "alternative     58\n",
       "rusrap          55\n",
       "jazz            44\n",
       "classical       40\n",
       "Name: genre, dtype: int64"
      ]
     },
     "execution_count": 32,
     "metadata": {},
     "output_type": "execute_result"
    }
   ],
   "source": [
    "genre_weekday(spb_general, 'Monday', '07:00', '11:00')"
   ]
  },
  {
   "cell_type": "code",
   "execution_count": 33,
   "metadata": {
    "id": "EzXVRE1o_Zcu"
   },
   "outputs": [
    {
     "data": {
      "text/plain": [
       "genre\n",
       "pop            713\n",
       "rock           517\n",
       "dance          495\n",
       "electronic     482\n",
       "hiphop         273\n",
       "world          208\n",
       "ruspop         170\n",
       "alternative    163\n",
       "classical      163\n",
       "rusrap         142\n",
       "Name: genre, dtype: int64"
      ]
     },
     "execution_count": 33,
     "metadata": {},
     "output_type": "execute_result"
    }
   ],
   "source": [
    "genre_weekday(moscow_general, 'Friday', '17:00', '23:00')"
   ]
  },
  {
   "cell_type": "code",
   "execution_count": 34,
   "metadata": {
    "id": "JZaEKu5v_Zcu"
   },
   "outputs": [
    {
     "data": {
      "text/plain": [
       "genre\n",
       "pop            256\n",
       "rock           216\n",
       "electronic     216\n",
       "dance          210\n",
       "hiphop          97\n",
       "alternative     63\n",
       "jazz            61\n",
       "classical       60\n",
       "rusrap          59\n",
       "world           54\n",
       "Name: genre, dtype: int64"
      ]
     },
     "execution_count": 34,
     "metadata": {},
     "output_type": "execute_result"
    }
   ],
   "source": [
    "genre_weekday(spb_general, 'Friday', '17:00', '23:00')"
   ]
  },
  {
   "cell_type": "markdown",
   "metadata": {
    "id": "wrCe4MNX_Zcu"
   },
   "source": [
    "**Выводы**\n",
    "\n",
    "Если сравнить топ-10 жанров в понедельник утром, можно сделать такие выводы:\n",
    "\n",
    "1. В Москве и Петербурге слушают похожую музыку. Единственное отличие — в московский рейтинг вошёл жанр “world”, а в петербургский — джаз и классика.\n",
    "\n",
    "2. В Москве пропущенных значений оказалось так много, что значение `'unknown'` заняло десятое место среди самых популярных жанров. Значит, пропущенные значения занимают существенную долю в данных и угрожают достоверности исследования.\n",
    "\n",
    "Вечер пятницы не меняет эту картину. Некоторые жанры поднимаются немного выше, другие спускаются, но в целом топ-10 остаётся тем же самым.\n",
    "\n",
    "Таким образом, вторая гипотеза подтвердилась лишь частично:\n",
    "* Пользователи слушают похожую музыку в начале недели и в конце.\n",
    "* Разница между Москвой и Петербургом не слишком выражена. В Москве чаще слушают русскую популярную музыку, в Петербурге — джаз.\n",
    "\n",
    "Однако пропуски в данных ставят под сомнение этот результат. В Москве их так много, что рейтинг топ-10 мог бы выглядеть иначе, если бы не утерянные  данные о жанрах."
   ]
  },
  {
   "cell_type": "markdown",
   "metadata": {
    "id": "JolODAqr_Zcu"
   },
   "source": [
    "### Жанровые предпочтения в Москве и Петербурге\n",
    "\n",
    "Гипотеза: Петербург — столица рэпа, музыку этого жанра там слушают чаще, чем в Москве.  А Москва — город контрастов, в котором, тем не менее, преобладает поп-музыка."
   ]
  },
  {
   "cell_type": "markdown",
   "metadata": {
    "id": "DlegSvaT_Zcu"
   },
   "source": [
    "Сгруппируйте таблицу `moscow_general` по жанру и посчитайте прослушивания треков каждого жанра методом `count()`. Затем отсортируйте результат в порядке убывания и сохраните его в таблице `moscow_genres`."
   ]
  },
  {
   "cell_type": "code",
   "execution_count": 35,
   "metadata": {
    "id": "r19lIPke_Zcu"
   },
   "outputs": [],
   "source": [
    "moscow_genres = moscow_general.groupby('genre')['genre'].count().sort_values(ascending=False)"
   ]
  },
  {
   "cell_type": "markdown",
   "metadata": {
    "id": "6kMuomxTiIr8"
   },
   "source": [
    "Выведите на экран первые десять строк `moscow_genres`:"
   ]
  },
  {
   "cell_type": "code",
   "execution_count": 36,
   "metadata": {
    "id": "WhCSooF8_Zcv"
   },
   "outputs": [
    {
     "data": {
      "text/plain": [
       "genre\n",
       "pop            5892\n",
       "dance          4435\n",
       "rock           3965\n",
       "electronic     3786\n",
       "hiphop         2096\n",
       "classical      1616\n",
       "world          1432\n",
       "alternative    1379\n",
       "ruspop         1372\n",
       "rusrap         1161\n",
       "Name: genre, dtype: int64"
      ]
     },
     "metadata": {},
     "output_type": "display_data"
    }
   ],
   "source": [
    "display(moscow_genres.head(10))"
   ]
  },
  {
   "cell_type": "markdown",
   "metadata": {
    "id": "cnPG2vnN_Zcv"
   },
   "source": [
    "Теперь повторите то же и для Петербурга.\n",
    "\n",
    "Сгруппируйте таблицу `spb_general` по жанру. Посчитайте прослушивания треков каждого жанра. Результат отсортируйте в порядке убывания и сохраните в таблице `spb_genres`:\n"
   ]
  },
  {
   "cell_type": "code",
   "execution_count": 37,
   "metadata": {
    "id": "gluLIpE7_Zcv"
   },
   "outputs": [],
   "source": [
    "spb_genres = spb_general.groupby('genre')['genre'].count().sort_values(ascending=False)"
   ]
  },
  {
   "cell_type": "markdown",
   "metadata": {
    "id": "5Doha_ODgyQ8"
   },
   "source": [
    "Выведите на экран первые десять строк `spb_genres`:"
   ]
  },
  {
   "cell_type": "code",
   "execution_count": 38,
   "metadata": {
    "id": "uaGJHjVU_Zcv"
   },
   "outputs": [
    {
     "data": {
      "text/plain": [
       "genre\n",
       "pop            2431\n",
       "dance          1932\n",
       "rock           1879\n",
       "electronic     1736\n",
       "hiphop          960\n",
       "alternative     649\n",
       "classical       646\n",
       "rusrap          564\n",
       "ruspop          538\n",
       "world           515\n",
       "Name: genre, dtype: int64"
      ]
     },
     "metadata": {},
     "output_type": "display_data"
    }
   ],
   "source": [
    "display(spb_genres.head(10))"
   ]
  },
  {
   "cell_type": "markdown",
   "metadata": {
    "id": "RY51YJYu_Zcv"
   },
   "source": [
    "**Выводы**"
   ]
  },
  {
   "cell_type": "markdown",
   "metadata": {
    "id": "nVhnJEm__Zcv"
   },
   "source": [
    "Гипотеза частично подтвердилась:\n",
    "* Поп-музыка — самый популярный жанр в Москве, как и предполагала гипотеза. Более того, в топ-10 жанров встречается близкий жанр — русская популярная музыка.\n",
    "* Вопреки ожиданиям, рэп одинаково популярен в Москве и Петербурге. \n"
   ]
  },
  {
   "cell_type": "markdown",
   "metadata": {
    "id": "ykKQ0N65_Zcv"
   },
   "source": [
    "## Итоги исследования"
   ]
  },
  {
   "cell_type": "markdown",
   "metadata": {
    "id": "tjUwbHb3_Zcv"
   },
   "source": [
    "Вы проверили три гипотезы и установили:\n",
    "\n",
    "1. День недели по-разному влияет на активность пользователей в Москве и Петербурге. \n",
    "\n",
    "Первая гипотеза полностью подтвердилась.\n",
    "\n",
    "2. Музыкальные предпочтения не сильно меняются в течение недели — будь то Москва или Петербург. Небольшие различия заметны в начале недели, по понедельникам:\n",
    "* в Москве слушают музыку жанра “world”,\n",
    "* в Петербурге — джаз и классику.\n",
    "\n",
    "Таким образом, вторая гипотеза подтвердилась лишь отчасти. Этот результат мог оказаться иным, если бы не пропуски в данных.\n",
    "\n",
    "3. Во вкусах пользователей Москвы и Петербурга больше общего чем различий. Вопреки ожиданиям, предпочтения жанров в Петербурге напоминают московские.\n",
    "\n",
    "Третья гипотеза не подтвердилась. Если различия в предпочтениях и существуют, на основной массе пользователей они незаметны.\n",
    "\n",
    "**На практике исследования содержат проверки статистических гипотез.**\n",
    "Из данных одного сервиса не всегда можно сделать вывод о всех жителях города.\n",
    "Проверки статистических гипотез покажут, насколько они достоверны, исходя из имеющихся данных. \n",
    "С методами проверок гипотез вы ещё познакомитесь в следующих темах."
   ]
  },
  {
   "cell_type": "markdown",
   "metadata": {},
   "source": [
    "<div class=\"alert alert-danger\">\n",
    "\n",
    "**Комментарий ревьюера**\n",
    "\n",
    "Ержан, к сожаленнию, не могу принять твоей проект. В нем есть несколько серьезных недочетов. По первых не нужно каждый раз импортировать бибилотеку и заново читать данные. Из за этого изменения, которые ты делал не сохраняются, поэтому все подсчеты, что были проведены, они как минимум проведены на датафреймае, не очищены от дубликатов. Во вторых есть ошибка в обработке неявных дубликатов. Функция по замене жанров хип хоп, некорректная. Указал тебе выше, что исправить</div>"
   ]
  },
  {
   "cell_type": "markdown",
   "metadata": {},
   "source": [
    "<div class=\"alert alert-danger\">\n",
    "\n",
    "**Комментарий ревьюера V2**\n",
    "\n",
    "Вот, круто👍 Уже получилось намного чище и лучше. Осталось исправить последнюю ремарку в конце работы. Там тоже ошибка в теле функции. Видимо по невнимательности написал не ту переменную\n",
    "</div>"
   ]
  },
  {
   "cell_type": "markdown",
   "metadata": {},
   "source": [
    "<div class=\"alert alert-success\">\n",
    "\n",
    "**Комментарий ревьюера V3**\n",
    "\n",
    "Исправления все принимаю. Хорошо с ними справился. Жаль, что не обратил внимание на желтые комментарии 😒 Успехов и удачи тебе в учебе</div>"
   ]
  },
  {
   "cell_type": "code",
   "execution_count": null,
   "metadata": {},
   "outputs": [],
   "source": []
  }
 ],
 "metadata": {
  "ExecuteTimeLog": [
   {
    "duration": 208,
    "start_time": "2021-11-06T15:43:21.146Z"
   },
   {
    "duration": 572,
    "start_time": "2021-11-06T15:43:32.986Z"
   },
   {
    "duration": 1358,
    "start_time": "2021-11-06T15:43:35.454Z"
   },
   {
    "duration": 1277,
    "start_time": "2021-11-06T15:43:46.706Z"
   },
   {
    "duration": 1581,
    "start_time": "2021-11-06T15:43:59.822Z"
   },
   {
    "duration": 132,
    "start_time": "2021-11-06T15:44:31.179Z"
   },
   {
    "duration": 308,
    "start_time": "2021-11-06T15:44:52.114Z"
   },
   {
    "duration": 123,
    "start_time": "2021-11-06T15:44:59.081Z"
   },
   {
    "duration": 145,
    "start_time": "2021-11-06T15:45:20.626Z"
   },
   {
    "duration": 59,
    "start_time": "2021-11-06T15:50:59.107Z"
   },
   {
    "duration": 133,
    "start_time": "2021-11-06T15:51:05.997Z"
   },
   {
    "duration": 141,
    "start_time": "2021-11-06T15:53:21.489Z"
   },
   {
    "duration": 128,
    "start_time": "2021-11-06T15:53:48.985Z"
   },
   {
    "duration": 138,
    "start_time": "2021-11-06T15:54:03.080Z"
   },
   {
    "duration": 146,
    "start_time": "2021-11-06T16:01:29.991Z"
   },
   {
    "duration": 148,
    "start_time": "2021-11-06T16:01:34.618Z"
   },
   {
    "duration": 4575,
    "start_time": "2021-11-06T16:12:32.699Z"
   },
   {
    "duration": 63,
    "start_time": "2021-11-06T16:13:35.010Z"
   },
   {
    "duration": 458,
    "start_time": "2021-11-06T16:14:18.123Z"
   },
   {
    "duration": 520,
    "start_time": "2021-11-06T16:14:42.047Z"
   },
   {
    "duration": 608,
    "start_time": "2021-11-06T16:14:58.988Z"
   },
   {
    "duration": 308,
    "start_time": "2021-11-06T16:15:06.539Z"
   },
   {
    "duration": 295,
    "start_time": "2021-11-06T16:20:50.646Z"
   },
   {
    "duration": 308,
    "start_time": "2021-11-06T16:21:09.629Z"
   },
   {
    "duration": 470,
    "start_time": "2021-11-06T16:21:28.115Z"
   },
   {
    "duration": 305,
    "start_time": "2021-11-06T16:21:52.293Z"
   },
   {
    "duration": 329,
    "start_time": "2021-11-06T16:22:49.864Z"
   },
   {
    "duration": 503,
    "start_time": "2021-11-06T16:22:55.929Z"
   },
   {
    "duration": 151,
    "start_time": "2021-11-06T16:25:57.048Z"
   },
   {
    "duration": 709,
    "start_time": "2021-11-07T08:31:42.670Z"
   },
   {
    "duration": 148,
    "start_time": "2021-11-07T08:32:27.412Z"
   },
   {
    "duration": 138,
    "start_time": "2021-11-07T08:32:40.086Z"
   },
   {
    "duration": 151,
    "start_time": "2021-11-07T08:32:47.712Z"
   },
   {
    "duration": 168,
    "start_time": "2021-11-07T08:36:21.878Z"
   },
   {
    "duration": 167,
    "start_time": "2021-11-07T08:39:03.264Z"
   },
   {
    "duration": 183,
    "start_time": "2021-11-07T08:41:40.206Z"
   },
   {
    "duration": 177,
    "start_time": "2021-11-07T08:42:28.584Z"
   },
   {
    "duration": 184,
    "start_time": "2021-11-07T08:42:33.976Z"
   },
   {
    "duration": 166,
    "start_time": "2021-11-07T08:43:56.592Z"
   },
   {
    "duration": 184,
    "start_time": "2021-11-07T08:44:03.924Z"
   },
   {
    "duration": 199,
    "start_time": "2021-11-07T08:44:20.412Z"
   },
   {
    "duration": 175,
    "start_time": "2021-11-07T08:44:28.370Z"
   },
   {
    "duration": 179,
    "start_time": "2021-11-07T08:44:48.157Z"
   },
   {
    "duration": 174,
    "start_time": "2021-11-07T08:45:11.003Z"
   },
   {
    "duration": 279,
    "start_time": "2021-11-07T08:45:17.331Z"
   },
   {
    "duration": 184,
    "start_time": "2021-11-07T08:45:22.085Z"
   },
   {
    "duration": 162,
    "start_time": "2021-11-07T08:51:26.273Z"
   },
   {
    "duration": 280,
    "start_time": "2021-11-07T08:51:29.790Z"
   },
   {
    "duration": 180,
    "start_time": "2021-11-07T08:52:05.398Z"
   },
   {
    "duration": 232,
    "start_time": "2021-11-07T09:22:51.624Z"
   },
   {
    "duration": 219,
    "start_time": "2021-11-07T09:33:14.533Z"
   },
   {
    "duration": 263,
    "start_time": "2021-11-07T09:33:31.540Z"
   },
   {
    "duration": 490,
    "start_time": "2021-11-07T09:41:13.145Z"
   },
   {
    "duration": 166,
    "start_time": "2021-11-07T09:41:19.161Z"
   },
   {
    "duration": 434,
    "start_time": "2021-11-07T09:41:55.201Z"
   },
   {
    "duration": 416,
    "start_time": "2021-11-07T09:42:38.317Z"
   },
   {
    "duration": 424,
    "start_time": "2021-11-07T09:45:01.002Z"
   },
   {
    "duration": 434,
    "start_time": "2021-11-07T09:45:08.151Z"
   },
   {
    "duration": 87,
    "start_time": "2021-11-07T09:46:31.275Z"
   },
   {
    "duration": 84,
    "start_time": "2021-11-07T09:46:48.231Z"
   },
   {
    "duration": 98,
    "start_time": "2021-11-07T09:47:22.326Z"
   },
   {
    "duration": 162,
    "start_time": "2021-11-07T09:47:50.474Z"
   },
   {
    "duration": 425,
    "start_time": "2021-11-07T09:48:04.025Z"
   },
   {
    "duration": 154,
    "start_time": "2021-11-07T09:58:02.956Z"
   },
   {
    "duration": 189,
    "start_time": "2021-11-07T09:58:48.885Z"
   },
   {
    "duration": 195,
    "start_time": "2021-11-07T09:59:12.575Z"
   },
   {
    "duration": 191,
    "start_time": "2021-11-07T09:59:27.759Z"
   },
   {
    "duration": 402,
    "start_time": "2021-11-07T09:59:50.346Z"
   },
   {
    "duration": 187,
    "start_time": "2021-11-07T10:00:24.032Z"
   },
   {
    "duration": 3,
    "start_time": "2021-11-07T10:30:43.035Z"
   },
   {
    "duration": 3,
    "start_time": "2021-11-07T10:30:56.603Z"
   },
   {
    "duration": 179,
    "start_time": "2021-11-07T10:48:04.725Z"
   },
   {
    "duration": 203,
    "start_time": "2021-11-07T10:48:32.554Z"
   },
   {
    "duration": 210,
    "start_time": "2021-11-07T10:48:48.845Z"
   },
   {
    "duration": 220,
    "start_time": "2021-11-07T10:49:23.947Z"
   },
   {
    "duration": 234,
    "start_time": "2021-11-07T10:49:51.453Z"
   },
   {
    "duration": 81,
    "start_time": "2021-11-07T11:20:28.674Z"
   },
   {
    "duration": 3,
    "start_time": "2021-11-07T11:21:34.323Z"
   },
   {
    "duration": 3,
    "start_time": "2021-11-07T11:21:37.041Z"
   },
   {
    "duration": 463,
    "start_time": "2021-11-07T11:27:52.736Z"
   },
   {
    "duration": 255,
    "start_time": "2021-11-07T11:28:26.752Z"
   },
   {
    "duration": 3,
    "start_time": "2021-11-07T11:28:31.420Z"
   },
   {
    "duration": 227,
    "start_time": "2021-11-07T11:29:42.085Z"
   },
   {
    "duration": 227,
    "start_time": "2021-11-07T11:30:10.573Z"
   },
   {
    "duration": 224,
    "start_time": "2021-11-07T11:32:30.350Z"
   },
   {
    "duration": 225,
    "start_time": "2021-11-07T11:32:41.983Z"
   },
   {
    "duration": 208,
    "start_time": "2021-11-07T11:32:58.542Z"
   },
   {
    "duration": 205,
    "start_time": "2021-11-07T11:34:06.869Z"
   },
   {
    "duration": 232,
    "start_time": "2021-11-07T12:13:57.170Z"
   },
   {
    "duration": 219,
    "start_time": "2021-11-07T12:15:29.363Z"
   },
   {
    "duration": 226,
    "start_time": "2021-11-07T12:17:55.119Z"
   },
   {
    "duration": 211,
    "start_time": "2021-11-07T12:24:25.890Z"
   },
   {
    "duration": 223,
    "start_time": "2021-11-07T12:25:06.381Z"
   },
   {
    "duration": 220,
    "start_time": "2021-11-07T12:25:27.979Z"
   },
   {
    "duration": 209,
    "start_time": "2021-11-07T12:51:10.906Z"
   },
   {
    "duration": 207,
    "start_time": "2021-11-07T12:51:23.996Z"
   },
   {
    "duration": 221,
    "start_time": "2021-11-07T12:52:06.279Z"
   },
   {
    "duration": 233,
    "start_time": "2021-11-07T12:52:41.350Z"
   },
   {
    "duration": 203,
    "start_time": "2021-11-07T13:01:54.009Z"
   },
   {
    "duration": 460,
    "start_time": "2021-11-07T13:02:33.079Z"
   },
   {
    "duration": 211,
    "start_time": "2021-11-07T13:02:40.967Z"
   },
   {
    "duration": 215,
    "start_time": "2021-11-07T13:03:11.084Z"
   },
   {
    "duration": 16,
    "start_time": "2021-11-07T13:36:17.306Z"
   },
   {
    "duration": 270,
    "start_time": "2021-11-07T13:39:10.007Z"
   },
   {
    "duration": 10,
    "start_time": "2021-11-07T13:39:29.704Z"
   },
   {
    "duration": 255,
    "start_time": "2021-11-07T14:16:39.395Z"
   },
   {
    "duration": 18,
    "start_time": "2021-11-07T14:16:50.935Z"
   },
   {
    "duration": 14,
    "start_time": "2021-11-07T14:17:14.219Z"
   },
   {
    "duration": 15,
    "start_time": "2021-11-07T14:17:34.673Z"
   },
   {
    "duration": 22,
    "start_time": "2021-11-07T14:21:53.352Z"
   },
   {
    "duration": 16,
    "start_time": "2021-11-07T14:22:06.592Z"
   },
   {
    "duration": 18,
    "start_time": "2021-11-07T14:22:21.747Z"
   },
   {
    "duration": 16,
    "start_time": "2021-11-07T14:22:44.862Z"
   },
   {
    "duration": 7,
    "start_time": "2021-11-07T14:25:42.680Z"
   },
   {
    "duration": 8,
    "start_time": "2021-11-07T14:25:47.472Z"
   },
   {
    "duration": 12,
    "start_time": "2021-11-07T14:27:20.778Z"
   },
   {
    "duration": 16,
    "start_time": "2021-11-07T14:27:23.135Z"
   },
   {
    "duration": 354,
    "start_time": "2021-11-07T14:48:12.975Z"
   },
   {
    "duration": 3,
    "start_time": "2021-11-07T14:48:23.967Z"
   },
   {
    "duration": 22,
    "start_time": "2021-11-07T14:48:28.338Z"
   },
   {
    "duration": 31,
    "start_time": "2021-11-07T14:49:04.302Z"
   },
   {
    "duration": 4,
    "start_time": "2021-11-07T14:49:35.114Z"
   },
   {
    "duration": 21,
    "start_time": "2021-11-07T14:49:37.313Z"
   },
   {
    "duration": 4,
    "start_time": "2021-11-07T14:49:43.679Z"
   },
   {
    "duration": 249,
    "start_time": "2021-11-07T14:49:58.510Z"
   },
   {
    "duration": 10,
    "start_time": "2021-11-07T14:50:13.185Z"
   },
   {
    "duration": 25,
    "start_time": "2021-11-07T14:50:17.400Z"
   },
   {
    "duration": 15,
    "start_time": "2021-11-07T14:50:23.116Z"
   },
   {
    "duration": 21,
    "start_time": "2021-11-07T14:50:26.168Z"
   },
   {
    "duration": 24,
    "start_time": "2021-11-07T14:50:46.610Z"
   },
   {
    "duration": 28,
    "start_time": "2021-11-07T14:51:08.314Z"
   },
   {
    "duration": 34,
    "start_time": "2021-11-07T14:51:30.881Z"
   },
   {
    "duration": 24,
    "start_time": "2021-11-07T14:52:13.597Z"
   },
   {
    "duration": 8,
    "start_time": "2021-11-07T14:54:39.400Z"
   },
   {
    "duration": 4,
    "start_time": "2021-11-07T14:54:54.129Z"
   },
   {
    "duration": 265,
    "start_time": "2021-11-07T14:55:38.792Z"
   },
   {
    "duration": 6,
    "start_time": "2021-11-07T14:55:45.283Z"
   },
   {
    "duration": 317,
    "start_time": "2021-11-07T14:55:47.297Z"
   },
   {
    "duration": 4,
    "start_time": "2021-11-07T14:55:53.300Z"
   },
   {
    "duration": 742,
    "start_time": "2021-11-07T15:10:16.844Z"
   },
   {
    "duration": 190,
    "start_time": "2021-11-07T15:10:17.589Z"
   },
   {
    "duration": 193,
    "start_time": "2021-11-07T15:10:17.782Z"
   },
   {
    "duration": 222,
    "start_time": "2021-11-07T15:10:17.977Z"
   },
   {
    "duration": 197,
    "start_time": "2021-11-07T15:10:18.201Z"
   },
   {
    "duration": 202,
    "start_time": "2021-11-07T15:10:18.400Z"
   },
   {
    "duration": 215,
    "start_time": "2021-11-07T15:10:18.604Z"
   },
   {
    "duration": 239,
    "start_time": "2021-11-07T15:10:18.822Z"
   },
   {
    "duration": 230,
    "start_time": "2021-11-07T15:10:19.064Z"
   },
   {
    "duration": 266,
    "start_time": "2021-11-07T15:10:19.296Z"
   },
   {
    "duration": 294,
    "start_time": "2021-11-07T15:10:19.565Z"
   },
   {
    "duration": 290,
    "start_time": "2021-11-07T15:10:19.861Z"
   },
   {
    "duration": 377,
    "start_time": "2021-11-07T15:10:20.153Z"
   },
   {
    "duration": 284,
    "start_time": "2021-11-07T15:10:20.533Z"
   },
   {
    "duration": 9,
    "start_time": "2021-11-07T15:10:20.820Z"
   },
   {
    "duration": 322,
    "start_time": "2021-11-07T15:10:20.832Z"
   },
   {
    "duration": 304,
    "start_time": "2021-11-07T15:10:21.157Z"
   },
   {
    "duration": 22,
    "start_time": "2021-11-07T15:10:21.464Z"
   },
   {
    "duration": 14,
    "start_time": "2021-11-07T15:10:21.488Z"
   },
   {
    "duration": 5,
    "start_time": "2021-11-07T15:10:21.529Z"
   },
   {
    "duration": 30,
    "start_time": "2021-11-07T15:10:21.536Z"
   },
   {
    "duration": 19,
    "start_time": "2021-11-07T15:10:21.568Z"
   },
   {
    "duration": 41,
    "start_time": "2021-11-07T15:10:21.592Z"
   },
   {
    "duration": 19,
    "start_time": "2021-11-07T15:10:21.635Z"
   },
   {
    "duration": 24,
    "start_time": "2021-11-07T15:10:21.657Z"
   },
   {
    "duration": 60,
    "start_time": "2021-11-07T15:10:21.684Z"
   },
   {
    "duration": 10,
    "start_time": "2021-11-07T15:10:21.747Z"
   },
   {
    "duration": 19,
    "start_time": "2021-11-07T15:10:21.760Z"
   },
   {
    "duration": 52,
    "start_time": "2021-11-07T15:10:21.781Z"
   },
   {
    "duration": 7,
    "start_time": "2021-11-07T15:10:21.835Z"
   },
   {
    "duration": 50,
    "start_time": "2021-11-07T15:10:21.844Z"
   },
   {
    "duration": 45,
    "start_time": "2021-11-07T15:10:21.897Z"
   },
   {
    "duration": 33,
    "start_time": "2021-11-07T15:10:21.946Z"
   },
   {
    "duration": 63,
    "start_time": "2021-11-07T15:10:21.982Z"
   },
   {
    "duration": 12,
    "start_time": "2021-11-07T15:10:22.048Z"
   },
   {
    "duration": 9,
    "start_time": "2021-11-07T15:10:22.063Z"
   },
   {
    "duration": 14,
    "start_time": "2021-11-07T15:10:22.074Z"
   },
   {
    "duration": 41,
    "start_time": "2021-11-07T15:10:22.090Z"
   },
   {
    "duration": 730,
    "start_time": "2021-11-08T08:23:55.076Z"
   },
   {
    "duration": 3,
    "start_time": "2021-11-08T08:24:32.897Z"
   },
   {
    "duration": 155,
    "start_time": "2021-11-08T08:24:35.144Z"
   },
   {
    "duration": 11,
    "start_time": "2021-11-08T08:24:51.945Z"
   },
   {
    "duration": 26,
    "start_time": "2021-11-08T08:25:08.937Z"
   },
   {
    "duration": 4,
    "start_time": "2021-11-08T08:25:33.821Z"
   },
   {
    "duration": 32,
    "start_time": "2021-11-08T08:26:04.328Z"
   },
   {
    "duration": 4,
    "start_time": "2021-11-08T08:26:29.257Z"
   },
   {
    "duration": 23,
    "start_time": "2021-11-08T08:26:55.993Z"
   },
   {
    "duration": 322,
    "start_time": "2021-11-08T08:27:10.794Z"
   },
   {
    "duration": 26,
    "start_time": "2021-11-08T08:27:16.577Z"
   },
   {
    "duration": 23,
    "start_time": "2021-11-08T08:27:47.456Z"
   },
   {
    "duration": 54,
    "start_time": "2021-11-08T08:31:15.468Z"
   },
   {
    "duration": 71,
    "start_time": "2021-11-08T08:31:28.952Z"
   },
   {
    "duration": 57,
    "start_time": "2021-11-08T08:31:36.396Z"
   },
   {
    "duration": 52,
    "start_time": "2021-11-08T08:31:52.173Z"
   },
   {
    "duration": 40,
    "start_time": "2021-11-08T08:32:32.540Z"
   },
   {
    "duration": 3,
    "start_time": "2021-11-08T08:33:18.584Z"
   },
   {
    "duration": 27,
    "start_time": "2021-11-08T08:33:44.556Z"
   },
   {
    "duration": 29,
    "start_time": "2021-11-08T08:36:33.917Z"
   },
   {
    "duration": 4,
    "start_time": "2021-11-08T08:36:53.353Z"
   },
   {
    "duration": 12,
    "start_time": "2021-11-08T08:46:09.237Z"
   },
   {
    "duration": 11,
    "start_time": "2021-11-08T08:46:24.873Z"
   },
   {
    "duration": 3,
    "start_time": "2021-11-08T08:46:30.437Z"
   },
   {
    "duration": 13,
    "start_time": "2021-11-08T08:46:32.325Z"
   },
   {
    "duration": 3,
    "start_time": "2021-11-08T08:48:13.712Z"
   },
   {
    "duration": 13,
    "start_time": "2021-11-08T08:48:17.125Z"
   },
   {
    "duration": 264,
    "start_time": "2021-11-08T08:48:37.344Z"
   },
   {
    "duration": 3,
    "start_time": "2021-11-08T08:49:33.873Z"
   },
   {
    "duration": 12,
    "start_time": "2021-11-08T08:49:41.048Z"
   },
   {
    "duration": 338,
    "start_time": "2021-11-08T08:52:11.520Z"
   },
   {
    "duration": 3,
    "start_time": "2021-11-08T08:53:55.961Z"
   },
   {
    "duration": 12,
    "start_time": "2021-11-08T08:53:58.273Z"
   },
   {
    "duration": 3,
    "start_time": "2021-11-08T08:54:52.821Z"
   },
   {
    "duration": 14,
    "start_time": "2021-11-08T08:55:01.157Z"
   },
   {
    "duration": 3,
    "start_time": "2021-11-08T08:55:16.345Z"
   },
   {
    "duration": 12,
    "start_time": "2021-11-08T08:55:17.913Z"
   },
   {
    "duration": 11,
    "start_time": "2021-11-08T08:55:25.265Z"
   },
   {
    "duration": 9,
    "start_time": "2021-11-08T08:58:32.845Z"
   },
   {
    "duration": 10,
    "start_time": "2021-11-08T08:58:35.253Z"
   },
   {
    "duration": 3,
    "start_time": "2021-11-08T08:59:12.889Z"
   },
   {
    "duration": 28,
    "start_time": "2021-11-08T08:59:22.533Z"
   },
   {
    "duration": 16,
    "start_time": "2021-11-08T08:59:35.672Z"
   },
   {
    "duration": 15,
    "start_time": "2021-11-08T08:59:40.805Z"
   },
   {
    "duration": 15,
    "start_time": "2021-11-08T08:59:45.112Z"
   },
   {
    "duration": 17,
    "start_time": "2021-11-08T08:59:50.684Z"
   },
   {
    "duration": 14,
    "start_time": "2021-11-08T08:59:56.221Z"
   },
   {
    "duration": 9,
    "start_time": "2021-11-08T09:00:59.816Z"
   },
   {
    "duration": 11,
    "start_time": "2021-11-08T09:01:09.036Z"
   },
   {
    "duration": 10,
    "start_time": "2021-11-08T09:01:10.389Z"
   },
   {
    "duration": 4,
    "start_time": "2021-11-08T09:01:14.289Z"
   },
   {
    "duration": 22,
    "start_time": "2021-11-08T09:01:23.885Z"
   },
   {
    "duration": 22,
    "start_time": "2021-11-08T09:01:28.868Z"
   },
   {
    "duration": 21,
    "start_time": "2021-11-08T09:01:31.925Z"
   },
   {
    "duration": 20,
    "start_time": "2021-11-08T09:01:35.561Z"
   },
   {
    "duration": 8,
    "start_time": "2021-11-08T09:01:41.294Z"
   },
   {
    "duration": 5,
    "start_time": "2021-11-08T09:01:47.353Z"
   },
   {
    "duration": 7,
    "start_time": "2021-11-08T09:01:51.488Z"
   },
   {
    "duration": 5,
    "start_time": "2021-11-08T09:01:57.012Z"
   },
   {
    "duration": 6,
    "start_time": "2021-11-08T09:17:28.448Z"
   },
   {
    "duration": 8,
    "start_time": "2021-11-08T09:17:39.040Z"
   },
   {
    "duration": 40,
    "start_time": "2021-11-08T09:18:00.973Z"
   },
   {
    "duration": 3,
    "start_time": "2021-11-08T09:24:39.973Z"
   },
   {
    "duration": 533,
    "start_time": "2021-11-08T09:24:45.265Z"
   },
   {
    "duration": 4,
    "start_time": "2021-11-08T09:24:57.054Z"
   },
   {
    "duration": 543,
    "start_time": "2021-11-08T09:24:58.837Z"
   },
   {
    "duration": 4,
    "start_time": "2021-11-08T09:25:06.357Z"
   },
   {
    "duration": 7,
    "start_time": "2021-11-08T09:25:08.449Z"
   },
   {
    "duration": 5,
    "start_time": "2021-11-08T09:26:31.405Z"
   },
   {
    "duration": 6,
    "start_time": "2021-11-08T09:29:54.906Z"
   },
   {
    "duration": 7,
    "start_time": "2021-11-08T09:30:24.197Z"
   },
   {
    "duration": 5,
    "start_time": "2021-11-08T09:30:52.249Z"
   },
   {
    "duration": 561,
    "start_time": "2021-11-08T20:41:04.387Z"
   },
   {
    "duration": 579,
    "start_time": "2021-11-08T20:41:04.950Z"
   },
   {
    "duration": 9,
    "start_time": "2021-11-08T20:41:05.533Z"
   },
   {
    "duration": 27,
    "start_time": "2021-11-08T20:41:05.544Z"
   },
   {
    "duration": 5,
    "start_time": "2021-11-08T20:41:05.573Z"
   },
   {
    "duration": 43,
    "start_time": "2021-11-08T20:41:05.579Z"
   },
   {
    "duration": 3,
    "start_time": "2021-11-08T20:41:05.625Z"
   },
   {
    "duration": 45,
    "start_time": "2021-11-08T20:41:05.630Z"
   },
   {
    "duration": 29,
    "start_time": "2021-11-08T20:41:05.677Z"
   },
   {
    "duration": 19,
    "start_time": "2021-11-08T20:41:05.708Z"
   },
   {
    "duration": 68,
    "start_time": "2021-11-08T20:41:05.729Z"
   },
   {
    "duration": 67,
    "start_time": "2021-11-08T20:41:05.798Z"
   },
   {
    "duration": 67,
    "start_time": "2021-11-08T20:41:05.867Z"
   },
   {
    "duration": 38,
    "start_time": "2021-11-08T20:41:05.936Z"
   },
   {
    "duration": 15,
    "start_time": "2021-11-08T20:41:05.976Z"
   },
   {
    "duration": 23,
    "start_time": "2021-11-08T20:41:05.992Z"
   },
   {
    "duration": 12,
    "start_time": "2021-11-08T20:41:06.017Z"
   },
   {
    "duration": 21,
    "start_time": "2021-11-08T20:41:06.030Z"
   },
   {
    "duration": 14,
    "start_time": "2021-11-08T20:41:06.052Z"
   },
   {
    "duration": 7,
    "start_time": "2021-11-08T20:41:06.067Z"
   },
   {
    "duration": 34,
    "start_time": "2021-11-08T20:41:06.075Z"
   },
   {
    "duration": 22,
    "start_time": "2021-11-08T20:41:06.112Z"
   },
   {
    "duration": 15,
    "start_time": "2021-11-08T20:41:06.136Z"
   },
   {
    "duration": 22,
    "start_time": "2021-11-08T20:41:06.153Z"
   },
   {
    "duration": 15,
    "start_time": "2021-11-08T20:41:06.177Z"
   },
   {
    "duration": 17,
    "start_time": "2021-11-08T20:41:06.194Z"
   },
   {
    "duration": 10,
    "start_time": "2021-11-08T20:41:06.213Z"
   },
   {
    "duration": 30,
    "start_time": "2021-11-08T20:41:06.224Z"
   },
   {
    "duration": 24,
    "start_time": "2021-11-08T20:41:06.255Z"
   },
   {
    "duration": 13,
    "start_time": "2021-11-08T20:41:06.280Z"
   },
   {
    "duration": 34,
    "start_time": "2021-11-08T20:41:06.295Z"
   },
   {
    "duration": 25,
    "start_time": "2021-11-08T20:41:06.331Z"
   },
   {
    "duration": 20,
    "start_time": "2021-11-08T20:41:06.357Z"
   },
   {
    "duration": 18,
    "start_time": "2021-11-08T20:41:06.379Z"
   },
   {
    "duration": 9,
    "start_time": "2021-11-08T20:41:06.399Z"
   },
   {
    "duration": 9,
    "start_time": "2021-11-08T20:41:06.409Z"
   },
   {
    "duration": 8,
    "start_time": "2021-11-08T20:41:06.419Z"
   },
   {
    "duration": 10,
    "start_time": "2021-11-08T20:41:06.429Z"
   },
   {
    "duration": 69,
    "start_time": "2021-11-08T20:43:45.058Z"
   },
   {
    "duration": 237,
    "start_time": "2021-11-08T20:46:02.130Z"
   },
   {
    "duration": 176,
    "start_time": "2021-11-08T20:46:06.832Z"
   },
   {
    "duration": 5,
    "start_time": "2021-11-08T20:46:33.263Z"
   },
   {
    "duration": 13,
    "start_time": "2021-11-08T20:46:41.849Z"
   },
   {
    "duration": 6,
    "start_time": "2021-11-08T20:46:50.495Z"
   },
   {
    "duration": 8,
    "start_time": "2021-11-08T20:47:01.346Z"
   },
   {
    "duration": 565,
    "start_time": "2021-11-08T20:47:47.006Z"
   },
   {
    "duration": 151,
    "start_time": "2021-11-08T20:47:47.573Z"
   },
   {
    "duration": 10,
    "start_time": "2021-11-08T20:47:47.726Z"
   },
   {
    "duration": 28,
    "start_time": "2021-11-08T20:47:47.737Z"
   },
   {
    "duration": 4,
    "start_time": "2021-11-08T20:47:47.766Z"
   },
   {
    "duration": 48,
    "start_time": "2021-11-08T20:47:47.772Z"
   },
   {
    "duration": 3,
    "start_time": "2021-11-08T20:47:47.822Z"
   },
   {
    "duration": 22,
    "start_time": "2021-11-08T20:47:47.828Z"
   },
   {
    "duration": 54,
    "start_time": "2021-11-08T20:47:47.852Z"
   },
   {
    "duration": 22,
    "start_time": "2021-11-08T20:47:47.907Z"
   },
   {
    "duration": 75,
    "start_time": "2021-11-08T20:47:47.931Z"
   },
   {
    "duration": 67,
    "start_time": "2021-11-08T20:47:48.008Z"
   },
   {
    "duration": 55,
    "start_time": "2021-11-08T20:47:48.077Z"
   },
   {
    "duration": 57,
    "start_time": "2021-11-08T20:47:48.134Z"
   },
   {
    "duration": 4,
    "start_time": "2021-11-08T20:47:48.193Z"
   },
   {
    "duration": 17,
    "start_time": "2021-11-08T20:47:48.199Z"
   },
   {
    "duration": 5,
    "start_time": "2021-11-08T20:47:48.218Z"
   },
   {
    "duration": 13,
    "start_time": "2021-11-08T20:47:48.225Z"
   },
   {
    "duration": 12,
    "start_time": "2021-11-08T20:47:48.240Z"
   },
   {
    "duration": 3,
    "start_time": "2021-11-08T20:47:48.254Z"
   },
   {
    "duration": 20,
    "start_time": "2021-11-08T20:47:48.291Z"
   },
   {
    "duration": 14,
    "start_time": "2021-11-08T20:47:48.313Z"
   },
   {
    "duration": 15,
    "start_time": "2021-11-08T20:47:48.330Z"
   },
   {
    "duration": 15,
    "start_time": "2021-11-08T20:47:48.347Z"
   },
   {
    "duration": 17,
    "start_time": "2021-11-08T20:47:48.390Z"
   },
   {
    "duration": 14,
    "start_time": "2021-11-08T20:47:48.408Z"
   },
   {
    "duration": 8,
    "start_time": "2021-11-08T20:47:48.423Z"
   },
   {
    "duration": 15,
    "start_time": "2021-11-08T20:47:48.432Z"
   },
   {
    "duration": 10,
    "start_time": "2021-11-08T20:47:48.448Z"
   },
   {
    "duration": 32,
    "start_time": "2021-11-08T20:47:48.459Z"
   },
   {
    "duration": 25,
    "start_time": "2021-11-08T20:47:48.493Z"
   },
   {
    "duration": 20,
    "start_time": "2021-11-08T20:47:48.519Z"
   },
   {
    "duration": 23,
    "start_time": "2021-11-08T20:47:48.541Z"
   },
   {
    "duration": 48,
    "start_time": "2021-11-08T20:47:48.566Z"
   },
   {
    "duration": 7,
    "start_time": "2021-11-08T20:47:48.616Z"
   },
   {
    "duration": 5,
    "start_time": "2021-11-08T20:47:48.625Z"
   },
   {
    "duration": 7,
    "start_time": "2021-11-08T20:47:48.631Z"
   },
   {
    "duration": 12,
    "start_time": "2021-11-08T20:47:48.640Z"
   },
   {
    "duration": 10,
    "start_time": "2021-11-08T20:48:18.489Z"
   },
   {
    "duration": 143,
    "start_time": "2021-11-08T20:50:41.695Z"
   },
   {
    "duration": 43,
    "start_time": "2021-11-08T20:50:54.268Z"
   },
   {
    "duration": 7,
    "start_time": "2021-11-08T20:55:02.328Z"
   },
   {
    "duration": 227,
    "start_time": "2021-11-08T20:55:16.106Z"
   },
   {
    "duration": 6,
    "start_time": "2021-11-08T20:55:25.762Z"
   },
   {
    "duration": 543,
    "start_time": "2021-11-08T20:55:40.400Z"
   },
   {
    "duration": 146,
    "start_time": "2021-11-08T20:55:40.945Z"
   },
   {
    "duration": 9,
    "start_time": "2021-11-08T20:55:41.093Z"
   },
   {
    "duration": 28,
    "start_time": "2021-11-08T20:55:41.104Z"
   },
   {
    "duration": 3,
    "start_time": "2021-11-08T20:55:41.134Z"
   },
   {
    "duration": 32,
    "start_time": "2021-11-08T20:55:41.139Z"
   },
   {
    "duration": 19,
    "start_time": "2021-11-08T20:55:41.173Z"
   },
   {
    "duration": 21,
    "start_time": "2021-11-08T20:55:41.195Z"
   },
   {
    "duration": 24,
    "start_time": "2021-11-08T20:55:41.218Z"
   },
   {
    "duration": 50,
    "start_time": "2021-11-08T20:55:41.243Z"
   },
   {
    "duration": 57,
    "start_time": "2021-11-08T20:55:41.295Z"
   },
   {
    "duration": 77,
    "start_time": "2021-11-08T20:55:41.353Z"
   },
   {
    "duration": 46,
    "start_time": "2021-11-08T20:55:41.432Z"
   },
   {
    "duration": 50,
    "start_time": "2021-11-08T20:55:41.480Z"
   },
   {
    "duration": 3,
    "start_time": "2021-11-08T20:55:41.531Z"
   },
   {
    "duration": 13,
    "start_time": "2021-11-08T20:55:41.536Z"
   },
   {
    "duration": 4,
    "start_time": "2021-11-08T20:55:41.550Z"
   },
   {
    "duration": 37,
    "start_time": "2021-11-08T20:55:41.555Z"
   },
   {
    "duration": 9,
    "start_time": "2021-11-08T20:55:41.594Z"
   },
   {
    "duration": 3,
    "start_time": "2021-11-08T20:55:41.605Z"
   },
   {
    "duration": 21,
    "start_time": "2021-11-08T20:55:41.609Z"
   },
   {
    "duration": 13,
    "start_time": "2021-11-08T20:55:41.631Z"
   },
   {
    "duration": 14,
    "start_time": "2021-11-08T20:55:41.647Z"
   },
   {
    "duration": 36,
    "start_time": "2021-11-08T20:55:41.663Z"
   },
   {
    "duration": 14,
    "start_time": "2021-11-08T20:55:41.701Z"
   },
   {
    "duration": 13,
    "start_time": "2021-11-08T20:55:41.716Z"
   },
   {
    "duration": 7,
    "start_time": "2021-11-08T20:55:41.731Z"
   },
   {
    "duration": 15,
    "start_time": "2021-11-08T20:55:41.740Z"
   },
   {
    "duration": 38,
    "start_time": "2021-11-08T20:55:41.756Z"
   },
   {
    "duration": 4,
    "start_time": "2021-11-08T20:55:41.796Z"
   },
   {
    "duration": 28,
    "start_time": "2021-11-08T20:55:41.801Z"
   },
   {
    "duration": 19,
    "start_time": "2021-11-08T20:55:41.830Z"
   },
   {
    "duration": 19,
    "start_time": "2021-11-08T20:55:41.850Z"
   },
   {
    "duration": 19,
    "start_time": "2021-11-08T20:55:41.891Z"
   },
   {
    "duration": 12,
    "start_time": "2021-11-08T20:55:41.912Z"
   },
   {
    "duration": 17,
    "start_time": "2021-11-08T20:55:41.926Z"
   },
   {
    "duration": 22,
    "start_time": "2021-11-08T20:55:41.944Z"
   },
   {
    "duration": 4,
    "start_time": "2021-11-08T20:55:41.967Z"
   },
   {
    "duration": 8,
    "start_time": "2021-11-08T20:56:01.989Z"
   },
   {
    "duration": 6,
    "start_time": "2021-11-09T09:18:05.678Z"
   },
   {
    "duration": 463,
    "start_time": "2021-11-09T09:18:08.246Z"
   },
   {
    "duration": 307,
    "start_time": "2021-11-09T09:18:13.578Z"
   },
   {
    "duration": 317,
    "start_time": "2021-11-09T09:18:15.570Z"
   },
   {
    "duration": 316,
    "start_time": "2021-11-09T09:18:19.346Z"
   },
   {
    "duration": 5,
    "start_time": "2021-11-09T09:18:53.470Z"
   },
   {
    "duration": 745,
    "start_time": "2021-11-09T09:18:57.653Z"
   },
   {
    "duration": 319,
    "start_time": "2021-11-09T09:19:06.625Z"
   },
   {
    "duration": 306,
    "start_time": "2021-11-09T09:19:07.177Z"
   },
   {
    "duration": 540,
    "start_time": "2021-11-09T09:19:26.594Z"
   },
   {
    "duration": 314,
    "start_time": "2021-11-09T09:20:02.797Z"
   },
   {
    "duration": 733,
    "start_time": "2021-11-09T09:20:16.002Z"
   },
   {
    "duration": 208,
    "start_time": "2021-11-09T09:20:17.138Z"
   },
   {
    "duration": 17,
    "start_time": "2021-11-09T09:20:19.801Z"
   },
   {
    "duration": 39,
    "start_time": "2021-11-09T09:20:21.365Z"
   },
   {
    "duration": 6,
    "start_time": "2021-11-09T09:20:23.978Z"
   },
   {
    "duration": 44,
    "start_time": "2021-11-09T09:20:36.662Z"
   },
   {
    "duration": 5,
    "start_time": "2021-11-09T09:20:38.610Z"
   },
   {
    "duration": 32,
    "start_time": "2021-11-09T09:20:40.441Z"
   },
   {
    "duration": 38,
    "start_time": "2021-11-09T09:20:43.553Z"
   },
   {
    "duration": 32,
    "start_time": "2021-11-09T09:20:47.269Z"
   },
   {
    "duration": 86,
    "start_time": "2021-11-09T09:20:49.149Z"
   },
   {
    "duration": 96,
    "start_time": "2021-11-09T09:20:51.490Z"
   },
   {
    "duration": 79,
    "start_time": "2021-11-09T09:20:55.929Z"
   },
   {
    "duration": 59,
    "start_time": "2021-11-09T09:20:59.037Z"
   },
   {
    "duration": 5,
    "start_time": "2021-11-09T09:21:01.302Z"
   },
   {
    "duration": 19,
    "start_time": "2021-11-09T09:21:04.185Z"
   },
   {
    "duration": 7,
    "start_time": "2021-11-09T09:21:06.185Z"
   },
   {
    "duration": 16,
    "start_time": "2021-11-09T09:21:09.162Z"
   },
   {
    "duration": 13,
    "start_time": "2021-11-09T09:21:11.070Z"
   },
   {
    "duration": 4,
    "start_time": "2021-11-09T09:21:13.474Z"
   },
   {
    "duration": 22,
    "start_time": "2021-11-09T09:21:18.229Z"
   },
   {
    "duration": 21,
    "start_time": "2021-11-09T09:21:19.093Z"
   },
   {
    "duration": 19,
    "start_time": "2021-11-09T09:21:19.690Z"
   },
   {
    "duration": 17,
    "start_time": "2021-11-09T09:21:20.250Z"
   },
   {
    "duration": 21,
    "start_time": "2021-11-09T09:21:20.769Z"
   },
   {
    "duration": 18,
    "start_time": "2021-11-09T09:21:21.321Z"
   },
   {
    "duration": 13,
    "start_time": "2021-11-09T09:21:30.710Z"
   },
   {
    "duration": 5,
    "start_time": "2021-11-09T09:21:38.121Z"
   },
   {
    "duration": 5,
    "start_time": "2021-11-09T09:21:40.754Z"
   },
   {
    "duration": 6,
    "start_time": "2021-11-09T09:21:44.850Z"
   },
   {
    "duration": 8086,
    "start_time": "2021-11-09T09:21:48.005Z"
   },
   {
    "duration": 230,
    "start_time": "2021-11-09T09:21:55.864Z"
   },
   {
    "duration": 227,
    "start_time": "2021-11-09T09:21:55.868Z"
   },
   {
    "duration": 225,
    "start_time": "2021-11-09T09:21:55.871Z"
   },
   {
    "duration": 8944,
    "start_time": "2021-11-09T09:22:05.973Z"
   },
   {
    "duration": 5,
    "start_time": "2021-11-09T09:22:28.870Z"
   },
   {
    "duration": 8044,
    "start_time": "2021-11-09T09:22:33.057Z"
   },
   {
    "duration": 6,
    "start_time": "2021-11-09T09:23:04.871Z"
   },
   {
    "duration": 29,
    "start_time": "2021-11-09T09:23:07.818Z"
   },
   {
    "duration": 29,
    "start_time": "2021-11-09T09:23:08.149Z"
   },
   {
    "duration": 29,
    "start_time": "2021-11-09T09:23:09.533Z"
   },
   {
    "duration": 30,
    "start_time": "2021-11-09T09:23:10.077Z"
   },
   {
    "duration": 6,
    "start_time": "2021-11-09T09:30:44.119Z"
   },
   {
    "duration": 10741,
    "start_time": "2021-11-09T09:30:51.726Z"
   },
   {
    "duration": 13,
    "start_time": "2021-11-09T10:02:58.795Z"
   },
   {
    "duration": 16,
    "start_time": "2021-11-09T10:06:07.441Z"
   },
   {
    "duration": 12,
    "start_time": "2021-11-09T10:06:13.995Z"
   },
   {
    "duration": 5,
    "start_time": "2021-11-09T10:06:16.676Z"
   },
   {
    "duration": 26,
    "start_time": "2021-11-09T10:06:19.774Z"
   },
   {
    "duration": 19,
    "start_time": "2021-11-09T10:06:25.892Z"
   },
   {
    "duration": 23,
    "start_time": "2021-11-09T10:06:28.681Z"
   },
   {
    "duration": 19,
    "start_time": "2021-11-09T10:06:34.466Z"
   },
   {
    "duration": 11,
    "start_time": "2021-11-09T10:06:43.380Z"
   },
   {
    "duration": 6,
    "start_time": "2021-11-09T10:06:45.033Z"
   },
   {
    "duration": 8,
    "start_time": "2021-11-09T10:06:47.856Z"
   },
   {
    "duration": 7,
    "start_time": "2021-11-09T10:06:49.093Z"
   },
   {
    "duration": 560,
    "start_time": "2021-11-09T15:03:30.285Z"
   },
   {
    "duration": 156,
    "start_time": "2021-11-09T15:03:30.847Z"
   },
   {
    "duration": 12,
    "start_time": "2021-11-09T15:03:31.005Z"
   },
   {
    "duration": 41,
    "start_time": "2021-11-09T15:03:31.019Z"
   },
   {
    "duration": 11,
    "start_time": "2021-11-09T15:03:31.062Z"
   },
   {
    "duration": 47,
    "start_time": "2021-11-09T15:03:31.075Z"
   },
   {
    "duration": 4,
    "start_time": "2021-11-09T15:03:31.124Z"
   },
   {
    "duration": 47,
    "start_time": "2021-11-09T15:03:31.130Z"
   },
   {
    "duration": 30,
    "start_time": "2021-11-09T15:03:31.179Z"
   },
   {
    "duration": 24,
    "start_time": "2021-11-09T15:03:31.211Z"
   },
   {
    "duration": 69,
    "start_time": "2021-11-09T15:03:31.236Z"
   },
   {
    "duration": 88,
    "start_time": "2021-11-09T15:03:31.306Z"
   },
   {
    "duration": 55,
    "start_time": "2021-11-09T15:03:31.396Z"
   },
   {
    "duration": 39,
    "start_time": "2021-11-09T15:03:31.453Z"
   },
   {
    "duration": 3,
    "start_time": "2021-11-09T15:03:31.495Z"
   },
   {
    "duration": 19,
    "start_time": "2021-11-09T15:03:31.500Z"
   },
   {
    "duration": 5,
    "start_time": "2021-11-09T15:03:31.544Z"
   },
   {
    "duration": 27,
    "start_time": "2021-11-09T15:03:31.551Z"
   },
   {
    "duration": 13,
    "start_time": "2021-11-09T15:03:31.580Z"
   },
   {
    "duration": 4,
    "start_time": "2021-11-09T15:03:31.594Z"
   },
   {
    "duration": 25,
    "start_time": "2021-11-09T15:03:31.600Z"
   },
   {
    "duration": 26,
    "start_time": "2021-11-09T15:03:31.627Z"
   },
   {
    "duration": 20,
    "start_time": "2021-11-09T15:03:31.655Z"
   },
   {
    "duration": 20,
    "start_time": "2021-11-09T15:03:31.676Z"
   },
   {
    "duration": 15,
    "start_time": "2021-11-09T15:03:31.698Z"
   },
   {
    "duration": 34,
    "start_time": "2021-11-09T15:03:31.715Z"
   },
   {
    "duration": 14,
    "start_time": "2021-11-09T15:03:31.752Z"
   },
   {
    "duration": 25,
    "start_time": "2021-11-09T15:03:31.768Z"
   },
   {
    "duration": 10,
    "start_time": "2021-11-09T15:03:31.795Z"
   },
   {
    "duration": 11,
    "start_time": "2021-11-09T15:03:31.807Z"
   },
   {
    "duration": 38,
    "start_time": "2021-11-09T15:03:31.819Z"
   },
   {
    "duration": 19,
    "start_time": "2021-11-09T15:03:31.859Z"
   },
   {
    "duration": 26,
    "start_time": "2021-11-09T15:03:31.879Z"
   },
   {
    "duration": 19,
    "start_time": "2021-11-09T15:03:31.907Z"
   },
   {
    "duration": 13,
    "start_time": "2021-11-09T15:03:31.928Z"
   },
   {
    "duration": 6,
    "start_time": "2021-11-09T15:03:31.942Z"
   },
   {
    "duration": 20,
    "start_time": "2021-11-09T15:03:31.949Z"
   },
   {
    "duration": 9,
    "start_time": "2021-11-09T15:03:31.971Z"
   },
   {
    "duration": 938,
    "start_time": "2021-11-13T06:14:01.954Z"
   },
   {
    "duration": 3,
    "start_time": "2021-11-13T06:14:14.197Z"
   },
   {
    "duration": 905,
    "start_time": "2021-11-13T06:14:19.386Z"
   },
   {
    "duration": 712,
    "start_time": "2021-11-13T06:14:27.856Z"
   },
   {
    "duration": 420,
    "start_time": "2021-11-13T06:14:43.983Z"
   },
   {
    "duration": 1035,
    "start_time": "2021-11-13T06:26:51.050Z"
   },
   {
    "duration": 510,
    "start_time": "2021-11-13T06:27:03.017Z"
   }
  ],
  "colab": {
   "collapsed_sections": [
    "E0vqbgi9ay0H",
    "VUC88oWjTJw2"
   ],
   "name": "yandex_music_project_2021.2.ipynb",
   "provenance": []
  },
  "kernelspec": {
   "display_name": "Python 3 (ipykernel)",
   "language": "python",
   "name": "python3"
  },
  "language_info": {
   "codemirror_mode": {
    "name": "ipython",
    "version": 3
   },
   "file_extension": ".py",
   "mimetype": "text/x-python",
   "name": "python",
   "nbconvert_exporter": "python",
   "pygments_lexer": "ipython3",
   "version": "3.9.5"
  },
  "toc": {
   "base_numbering": 1,
   "nav_menu": {},
   "number_sections": true,
   "sideBar": true,
   "skip_h1_title": true,
   "title_cell": "Table of Contents",
   "title_sidebar": "Contents",
   "toc_cell": false,
   "toc_position": {
    "height": "calc(100% - 180px)",
    "left": "10px",
    "top": "150px",
    "width": "220.369px"
   },
   "toc_section_display": true,
   "toc_window_display": false
  }
 },
 "nbformat": 4,
 "nbformat_minor": 1
}
